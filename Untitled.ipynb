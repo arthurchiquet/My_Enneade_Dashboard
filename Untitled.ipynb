{
 "cells": [
  {
   "cell_type": "code",
   "execution_count": 9,
   "metadata": {},
   "outputs": [],
   "source": [
    "from data import memoized_data\n",
    "from utils_topo import graph_3d_positions, graph_vectors, extract_3d_positions, format_df_vector\n",
    "import plotly.graph_objects as go"
   ]
  },
  {
   "cell_type": "code",
   "execution_count": 2,
   "metadata": {},
   "outputs": [],
   "source": [
    "df =memoized_data('chantier_1', 'actif', 'topographie.csv')"
   ]
  },
  {
   "cell_type": "code",
   "execution_count": 6,
   "metadata": {},
   "outputs": [],
   "source": [
    "secteur='AB'\n",
    "liste_capteur=['AC11a','AC1Ba']"
   ]
  },
  {
   "cell_type": "code",
   "execution_count": 7,
   "metadata": {},
   "outputs": [],
   "source": [
    "df1 = extract_3d_positions(df, liste_capteur, secteur)"
   ]
  },
  {
   "cell_type": "code",
   "execution_count": 8,
   "metadata": {},
   "outputs": [],
   "source": [
    "df2 = format_df_vector(df)"
   ]
  },
  {
   "cell_type": "code",
   "execution_count": 28,
   "metadata": {},
   "outputs": [
    {
     "data": {
      "application/vnd.plotly.v1+json": {
       "config": {
        "plotlyServerURL": "https://plot.ly"
       },
       "data": [
        {
         "customdata": [
          [
           "Auto-AC11a",
           "Hors secteur"
          ],
          [
           "Auto-AC1Ba",
           "Hors secteur"
          ],
          [
           "Auto-AC311a",
           "Hors secteur"
          ],
          [
           "Auto-AC32a",
           "Hors secteur"
          ],
          [
           "Auto-AC5Ba",
           "Hors secteur"
          ],
          [
           "Auto-AC7Ba",
           "Hors secteur"
          ],
          [
           "Auto-AC9a",
           "Hors secteur"
          ],
          [
           "Auto-B11a",
           "Hors secteur"
          ],
          [
           "Auto-B12a",
           "Hors secteur"
          ],
          [
           "Auto-B41a",
           "Hors secteur"
          ],
          [
           "Auto-B42a",
           "Hors secteur"
          ],
          [
           "Auto-B51a",
           "Hors secteur"
          ],
          [
           "Auto-B52a",
           "Hors secteur"
          ],
          [
           "Auto-B61a",
           "Hors secteur"
          ],
          [
           "Auto-B62a",
           "Hors secteur"
          ],
          [
           "Auto-BAPM.4a",
           "Hors secteur"
          ],
          [
           "Auto-BAPM1.1a",
           "Hors secteur"
          ],
          [
           "Auto-BAPM2.1a",
           "Hors secteur"
          ],
          [
           "Auto-BAPM3.1a",
           "Hors secteur"
          ],
          [
           "Auto-G11a",
           "Hors secteur"
          ],
          [
           "Auto-G12a",
           "Hors secteur"
          ],
          [
           "Auto-G13a",
           "Hors secteur"
          ],
          [
           "Auto-GR2.1a",
           "Hors secteur"
          ],
          [
           "Auto-GR2.2a",
           "Hors secteur"
          ],
          [
           "Auto-GR2.3a",
           "Hors secteur"
          ],
          [
           "Auto-MS20a",
           "Hors secteur"
          ],
          [
           "Auto-MS21a",
           "Hors secteur"
          ],
          [
           "Auto-MS22a",
           "Hors secteur"
          ],
          [
           "Auto-MS25a",
           "Hors secteur"
          ],
          [
           "Auto-MS26a",
           "Hors secteur"
          ],
          [
           "Auto-MS27a",
           "Hors secteur"
          ],
          [
           "Auto-MS31a",
           "Hors secteur"
          ],
          [
           "Auto-MS32a",
           "Hors secteur"
          ],
          [
           "Auto-PC1.1a",
           "Hors secteur"
          ],
          [
           "Auto-PC101a",
           "Hors secteur"
          ],
          [
           "Auto-PC105a",
           "Hors secteur"
          ],
          [
           "Auto-PC106a",
           "Hors secteur"
          ],
          [
           "Auto-PC107a",
           "Hors secteur"
          ],
          [
           "Auto-PC108a",
           "Hors secteur"
          ],
          [
           "Auto-PC10a",
           "Hors secteur"
          ],
          [
           "Auto-PC111a",
           "Hors secteur"
          ],
          [
           "Auto-PC112a",
           "Hors secteur"
          ],
          [
           "Auto-PC11a",
           "Hors secteur"
          ],
          [
           "Auto-PC12a",
           "Hors secteur"
          ],
          [
           "Auto-PC13.1a",
           "Hors secteur"
          ],
          [
           "Auto-PC13a",
           "Hors secteur"
          ],
          [
           "Auto-PC14.1a",
           "Hors secteur"
          ],
          [
           "Auto-PC15.1a",
           "Hors secteur"
          ],
          [
           "Auto-PC16.1a",
           "Hors secteur"
          ],
          [
           "Auto-PC17.1a",
           "Hors secteur"
          ],
          [
           "Auto-PC1A",
           "Hors secteur"
          ],
          [
           "Auto-PC2.1a",
           "Hors secteur"
          ],
          [
           "Auto-PC201a",
           "Hors secteur"
          ],
          [
           "Auto-PC202a",
           "Hors secteur"
          ],
          [
           "Auto-PC203a",
           "Hors secteur"
          ],
          [
           "Auto-PC204a",
           "Hors secteur"
          ],
          [
           "Auto-PC205a",
           "Hors secteur"
          ],
          [
           "Auto-PC206a",
           "Hors secteur"
          ],
          [
           "Auto-PC207a",
           "Hors secteur"
          ],
          [
           "Auto-PC208a",
           "Hors secteur"
          ],
          [
           "Auto-PC209a",
           "Hors secteur"
          ],
          [
           "Auto-PC21a",
           "Hors secteur"
          ],
          [
           "Auto-PC22a",
           "Hors secteur"
          ],
          [
           "Auto-PC23a",
           "Hors secteur"
          ],
          [
           "Auto-PC23Ba",
           "Hors secteur"
          ],
          [
           "Auto-PC2a",
           "Hors secteur"
          ],
          [
           "Auto-PC3.1a",
           "Hors secteur"
          ],
          [
           "Auto-PC301a",
           "Hors secteur"
          ],
          [
           "Auto-PC302a",
           "Hors secteur"
          ],
          [
           "Auto-PC304a",
           "Hors secteur"
          ],
          [
           "Auto-PC305a",
           "Hors secteur"
          ],
          [
           "Auto-PC307a",
           "Hors secteur"
          ],
          [
           "Auto-PC308a",
           "Hors secteur"
          ],
          [
           "Auto-PC309a",
           "Hors secteur"
          ],
          [
           "Auto-PC310a",
           "Hors secteur"
          ],
          [
           "Auto-PC3a",
           "Hors secteur"
          ],
          [
           "Auto-PC401a",
           "Hors secteur"
          ],
          [
           "Auto-PC402a",
           "Hors secteur"
          ],
          [
           "Auto-PC403a",
           "Hors secteur"
          ],
          [
           "Auto-PC450a",
           "Hors secteur"
          ],
          [
           "Auto-PC451a",
           "Hors secteur"
          ],
          [
           "Auto-PC452a",
           "Hors secteur"
          ],
          [
           "Auto-PC453a",
           "Hors secteur"
          ],
          [
           "Auto-PC4a",
           "Hors secteur"
          ],
          [
           "Auto-PC5a",
           "Hors secteur"
          ],
          [
           "Auto-PC6.1a",
           "Hors secteur"
          ],
          [
           "Auto-PC6A",
           "Hors secteur"
          ],
          [
           "Auto-PC7.1a",
           "Hors secteur"
          ],
          [
           "Auto-PC7a",
           "Hors secteur"
          ],
          [
           "Auto-PC8a",
           "Hors secteur"
          ],
          [
           "Auto-PCBA.1a",
           "Hors secteur"
          ],
          [
           "Auto-PCBA.2a",
           "Hors secteur"
          ],
          [
           "Auto-PCBA.3a",
           "Hors secteur"
          ],
          [
           "Auto-PCBA.4a",
           "Hors secteur"
          ],
          [
           "Auto-PD1a",
           "Hors secteur"
          ],
          [
           "Auto-PD2.a",
           "Hors secteur"
          ],
          [
           "Auto-PL101a",
           "Hors secteur"
          ],
          [
           "Auto-PL202a",
           "Hors secteur"
          ],
          [
           "Auto-PL301a",
           "Hors secteur"
          ],
          [
           "Auto-PL402a",
           "Hors secteur"
          ],
          [
           "Auto-PL501a",
           "Hors secteur"
          ],
          [
           "Auto-PM.603a",
           "Hors secteur"
          ],
          [
           "Auto-PM.604a",
           "Hors secteur"
          ],
          [
           "Auto-PM.605a",
           "Hors secteur"
          ],
          [
           "Auto-PM209a",
           "Hors secteur"
          ],
          [
           "Auto-PM210a",
           "Hors secteur"
          ],
          [
           "Auto-PM211a",
           "Hors secteur"
          ],
          [
           "Auto-PM212a",
           "Hors secteur"
          ],
          [
           "Auto-PM213a",
           "Hors secteur"
          ],
          [
           "Auto-PM301a",
           "Hors secteur"
          ],
          [
           "Auto-PM302a",
           "Hors secteur"
          ],
          [
           "Auto-PM303a",
           "Hors secteur"
          ],
          [
           "Auto-PM304a",
           "Hors secteur"
          ],
          [
           "Auto-PM305a",
           "Hors secteur"
          ],
          [
           "Auto-PM601a",
           "Hors secteur"
          ],
          [
           "Auto-PM602a",
           "Hors secteur"
          ],
          [
           "Auto-PMS.1a",
           "Hors secteur"
          ],
          [
           "Auto-PMS1.2a",
           "Hors secteur"
          ],
          [
           "Auto-PMS2.1a",
           "Hors secteur"
          ],
          [
           "Auto-PMS2.2a",
           "Hors secteur"
          ],
          [
           "Auto-PMS3.1a",
           "Hors secteur"
          ],
          [
           "Auto-PMS3.2a",
           "Hors secteur"
          ],
          [
           "Auto-PMS4.1a",
           "Hors secteur"
          ],
          [
           "Auto-PMS4.2a",
           "Hors secteur"
          ],
          [
           "Auto-PMS5.1a",
           "Hors secteur"
          ],
          [
           "Auto-PMS5.2a",
           "Hors secteur"
          ],
          [
           "Auto-PR14.1a",
           "Hors secteur"
          ],
          [
           "Auto-RN7.1a",
           "Hors secteur"
          ],
          [
           "Auto-TREM1a",
           "Hors secteur"
          ],
          [
           "Auto-TREM2.1a",
           "Hors secteur"
          ],
          [
           "Auto-TREM2.2a",
           "Hors secteur"
          ],
          [
           "Auto-TREM2.3a",
           "Hors secteur"
          ],
          [
           "Auto-TREM2a",
           "Hors secteur"
          ],
          [
           "Auto-TREM3.a",
           "Hors secteur"
          ],
          [
           "Auto-TREM4.a",
           "Hors secteur"
          ],
          [
           "Auto-TREM5a",
           "Hors secteur"
          ],
          [
           "Auto-TREM6a",
           "Hors secteur"
          ],
          [
           "Auto-VJ1a",
           "Hors secteur"
          ],
          [
           "Auto-VJ2a",
           "Hors secteur"
          ],
          [
           "Auto-VJ3a",
           "Hors secteur"
          ],
          [
           "Auto-VJ4a",
           "Hors secteur"
          ],
          [
           "Auto-VJ6a",
           "Hors secteur"
          ],
          [
           "Auto-VJ7a",
           "Hors secteur"
          ],
          [
           "Auto-B13b",
           "Hors secteur"
          ],
          [
           "Auto-B14b",
           "Hors secteur"
          ],
          [
           "Auto-B23b",
           "Hors secteur"
          ],
          [
           "Auto-B24b",
           "Hors secteur"
          ],
          [
           "Auto-B43b",
           "Hors secteur"
          ],
          [
           "Auto-B44b",
           "Hors secteur"
          ],
          [
           "Auto-B53b",
           "Hors secteur"
          ],
          [
           "Auto-B54b",
           "Hors secteur"
          ],
          [
           "Auto-B63b",
           "Hors secteur"
          ],
          [
           "Auto-B64b",
           "Hors secteur"
          ],
          [
           "Auto-BAPM1.1b",
           "Hors secteur"
          ],
          [
           "Auto-BAPM2.1b",
           "Hors secteur"
          ],
          [
           "Auto-DB1b",
           "Hors secteur"
          ],
          [
           "Auto-DB2b",
           "Hors secteur"
          ],
          [
           "Auto-F1.1b",
           "Hors secteur"
          ],
          [
           "Auto-F1.2b",
           "Hors secteur"
          ],
          [
           "Auto-F1.3b",
           "Hors secteur"
          ],
          [
           "Auto-F1.4b",
           "Hors secteur"
          ],
          [
           "Auto-F2.1b",
           "Hors secteur"
          ],
          [
           "Auto-F2.2b",
           "Hors secteur"
          ],
          [
           "Auto-F2.3b",
           "Hors secteur"
          ],
          [
           "Auto-F2.4b",
           "Hors secteur"
          ],
          [
           "Auto-F3.1b",
           "Hors secteur"
          ],
          [
           "Auto-F3.2b",
           "Hors secteur"
          ],
          [
           "Auto-F3.3b",
           "Hors secteur"
          ],
          [
           "Auto-F3.4b",
           "Hors secteur"
          ],
          [
           "Auto-F4.1b",
           "Hors secteur"
          ],
          [
           "Auto-F4.2b",
           "Hors secteur"
          ],
          [
           "Auto-F4.3b",
           "Hors secteur"
          ],
          [
           "Auto-F5.1b",
           "Hors secteur"
          ],
          [
           "Auto-F5.2b",
           "Hors secteur"
          ],
          [
           "Auto-F6.1b",
           "Hors secteur"
          ],
          [
           "Auto-F6.2b",
           "Hors secteur"
          ],
          [
           "Auto-F6.3b",
           "Hors secteur"
          ],
          [
           "Auto-F7.1b",
           "Hors secteur"
          ],
          [
           "Auto-F7.2b",
           "Hors secteur"
          ],
          [
           "Auto-F7.3b",
           "Hors secteur"
          ],
          [
           "Auto-F7.4b",
           "Hors secteur"
          ],
          [
           "Auto-GR.2b",
           "Hors secteur"
          ],
          [
           "Auto-GR3b",
           "Hors secteur"
          ],
          [
           "Auto-GR4b",
           "Hors secteur"
          ],
          [
           "Auto-PCBA.1b",
           "Hors secteur"
          ],
          [
           "Auto-PCBA.2b",
           "Hors secteur"
          ],
          [
           "Auto-PD.3b",
           "Hors secteur"
          ],
          [
           "Auto-PD.4b",
           "Hors secteur"
          ],
          [
           "Auto-PM102b",
           "Hors secteur"
          ],
          [
           "Auto-PM103b",
           "Hors secteur"
          ],
          [
           "Auto-PM201b",
           "Hors secteur"
          ],
          [
           "Auto-PM401b",
           "Hors secteur"
          ],
          [
           "Auto-PM402b",
           "Hors secteur"
          ],
          [
           "Auto-PM403b",
           "Hors secteur"
          ],
          [
           "Auto-PM404b",
           "Hors secteur"
          ],
          [
           "Auto-PM501b",
           "Hors secteur"
          ],
          [
           "Auto-PM615b",
           "Hors secteur"
          ],
          [
           "Auto-PM616b",
           "Hors secteur"
          ],
          [
           "Auto-PM617b",
           "Hors secteur"
          ],
          [
           "Auto-PMS.1b",
           "Hors secteur"
          ],
          [
           "Auto-PMS1.2b",
           "Hors secteur"
          ],
          [
           "Auto-PMS2.1b",
           "Hors secteur"
          ],
          [
           "Auto-PMS2.2b",
           "Hors secteur"
          ],
          [
           "Auto-PMS3.1b",
           "Hors secteur"
          ],
          [
           "Auto-PMS3.2b",
           "Hors secteur"
          ],
          [
           "Auto-REFSS6b",
           "Hors secteur"
          ],
          [
           "Auto-REFSS7b",
           "Hors secteur"
          ],
          [
           "Auto-TQ101b",
           "Hors secteur"
          ],
          [
           "Auto-TQ102b",
           "Hors secteur"
          ],
          [
           "Auto-TQ103b",
           "Hors secteur"
          ],
          [
           "Auto-TQ202b",
           "Hors secteur"
          ],
          [
           "Auto-TQ203b",
           "Hors secteur"
          ],
          [
           "Auto-TREM18.1b",
           "Hors secteur"
          ],
          [
           "Auto-TREM18.2b",
           "Hors secteur"
          ],
          [
           "Auto-US101b",
           "Hors secteur"
          ],
          [
           "Auto-US102b",
           "Hors secteur"
          ],
          [
           "Auto-US201b",
           "Hors secteur"
          ],
          [
           "Auto-US202b",
           "Hors secteur"
          ],
          [
           "Auto-UV101b",
           "Hors secteur"
          ],
          [
           "Auto-UV102b",
           "Hors secteur"
          ],
          [
           "Auto-UV103b",
           "Hors secteur"
          ],
          [
           "Auto-UV104b",
           "Hors secteur"
          ],
          [
           "Auto-UV201b",
           "Hors secteur"
          ],
          [
           "Auto-UV202b",
           "Hors secteur"
          ],
          [
           "Auto-UV203b",
           "Hors secteur"
          ],
          [
           "Auto-UV303b",
           "Hors secteur"
          ],
          [
           "Auto-BA2.1d",
           "Hors secteur"
          ],
          [
           "Auto-BARET10.1d",
           "Hors secteur"
          ],
          [
           "Auto-BARET11.1d",
           "Hors secteur"
          ],
          [
           "Auto-BARET11.2d",
           "Hors secteur"
          ],
          [
           "Auto-BARET11.3d",
           "Hors secteur"
          ],
          [
           "Auto-BARET11.7d",
           "Hors secteur"
          ],
          [
           "Auto-BARET2.2d",
           "Hors secteur"
          ],
          [
           "Auto-BARET2.7d",
           "Hors secteur"
          ],
          [
           "Auto-BARET3.2d",
           "Hors secteur"
          ],
          [
           "Auto-BARET3.3d",
           "Hors secteur"
          ],
          [
           "Auto-BARET9.7d",
           "Hors secteur"
          ],
          [
           "Auto-F1.1d",
           "Hors secteur"
          ],
          [
           "Auto-F1.2d",
           "Hors secteur"
          ],
          [
           "Auto-F2.1d",
           "Hors secteur"
          ],
          [
           "Auto-F2.2d",
           "Hors secteur"
          ],
          [
           "Auto-F2.3d",
           "Hors secteur"
          ],
          [
           "Auto-F3.1d",
           "Hors secteur"
          ],
          [
           "Auto-F3.2d",
           "Hors secteur"
          ],
          [
           "Auto-F4.1d",
           "Hors secteur"
          ],
          [
           "Auto-F4.2d",
           "Hors secteur"
          ],
          [
           "Auto-F4.3d",
           "Hors secteur"
          ],
          [
           "Auto-F5.1d",
           "Hors secteur"
          ],
          [
           "Auto-F5.2d",
           "Hors secteur"
          ],
          [
           "Auto-F6.1d",
           "Hors secteur"
          ],
          [
           "Auto-F6.2d",
           "Hors secteur"
          ],
          [
           "Auto-F7.1d",
           "Hors secteur"
          ],
          [
           "Auto-F7.2d",
           "Hors secteur"
          ],
          [
           "Auto-F7.3d",
           "Hors secteur"
          ],
          [
           "Auto-P11.3d",
           "Hors secteur"
          ],
          [
           "Auto-P11.4d",
           "Hors secteur"
          ],
          [
           "Auto-P12.2d",
           "Hors secteur"
          ],
          [
           "Auto-P12.8d",
           "Hors secteur"
          ],
          [
           "Auto-P120.6d",
           "Hors secteur"
          ],
          [
           "Auto-P130.5d",
           "Hors secteur"
          ],
          [
           "Auto-P17.1d",
           "Hors secteur"
          ],
          [
           "Auto-P20.7d",
           "Hors secteur"
          ],
          [
           "Auto-P5.3d",
           "Hors secteur"
          ],
          [
           "Auto-P50.3d",
           "Hors secteur"
          ],
          [
           "Auto-P9.1d",
           "Hors secteur"
          ],
          [
           "Auto-P9.2d",
           "Hors secteur"
          ],
          [
           "Sd-BARET11.1",
           "Hors secteur"
          ],
          [
           "Sd-BARET11.2",
           "Hors secteur"
          ],
          [
           "Sd-BARET11.3",
           "Hors secteur"
          ],
          [
           "Sd-BARET2.1",
           "Hors secteur"
          ],
          [
           "Sd-BARET2.2",
           "Hors secteur"
          ],
          [
           "Sd-BARET3.1",
           "Hors secteur"
          ],
          [
           "Sd-BARET3.2",
           "Hors secteur"
          ],
          [
           "Sd-BARET3.3",
           "Hors secteur"
          ],
          [
           "Sd-BARET4.1",
           "Hors secteur"
          ],
          [
           "Sd-BARET4.2",
           "Hors secteur"
          ],
          [
           "Sd-BARET4.3",
           "Hors secteur"
          ],
          [
           "Sd-BARET5.1",
           "Hors secteur"
          ],
          [
           "Sd-BARET5.3",
           "Hors secteur"
          ],
          [
           "Sd-BARET8.1",
           "Hors secteur"
          ],
          [
           "Sd-BARET8.2",
           "Hors secteur"
          ],
          [
           "Sd-BARET8.3",
           "Hors secteur"
          ],
          [
           "Sd-BARET9.2",
           "Hors secteur"
          ],
          [
           "Sd-BARET6.1",
           "Hors secteur"
          ],
          [
           "Sd-BARET6.2",
           "Hors secteur"
          ],
          [
           "Sd-BARET6.3",
           "Hors secteur"
          ],
          [
           "Sd-BARET1.1",
           "Hors secteur"
          ],
          [
           "Sd-BARET1.2",
           "Hors secteur"
          ],
          [
           "Sd-BARET1.3",
           "Hors secteur"
          ],
          [
           "Sd-P1.1",
           "Hors secteur"
          ],
          [
           "Sd-P2.1",
           "Hors secteur"
          ],
          [
           "Sd-P3.1",
           "Hors secteur"
          ],
          [
           "Sd-P5.1",
           "Hors secteur"
          ],
          [
           "Sd-P6.1",
           "Hors secteur"
          ],
          [
           "Sd-P7.1",
           "Hors secteur"
          ],
          [
           "Sd-P8.1",
           "Hors secteur"
          ],
          [
           "Sd-P9.1",
           "Hors secteur"
          ],
          [
           "Sd-P10.1",
           "Hors secteur"
          ],
          [
           "Sd-P11.1",
           "Hors secteur"
          ],
          [
           "Sd-P12.1",
           "Hors secteur"
          ],
          [
           "Sd-P120.1",
           "Hors secteur"
          ],
          [
           "Sd-P13.1",
           "Hors secteur"
          ],
          [
           "Sd-P130.1",
           "Hors secteur"
          ],
          [
           "Sd-P14.1",
           "Hors secteur"
          ],
          [
           "Sd-P140.1",
           "Hors secteur"
          ],
          [
           "Sd-P142.1",
           "Hors secteur"
          ],
          [
           "Sd-P143.1",
           "Hors secteur"
          ],
          [
           "Sd-P15.1",
           "Hors secteur"
          ],
          [
           "Sd-P150.1",
           "Hors secteur"
          ],
          [
           "Sd-P16.1",
           "Hors secteur"
          ],
          [
           "Sd-P17.1",
           "Hors secteur"
          ],
          [
           "Sd-P18.1",
           "Hors secteur"
          ],
          [
           "Sd-P19.1",
           "Hors secteur"
          ],
          [
           "Sd-P20.1",
           "Hors secteur"
          ],
          [
           "Sd-P21.1",
           "Hors secteur"
          ],
          [
           "Sd-P22.1",
           "Hors secteur"
          ],
          [
           "Sd-P23.1",
           "Hors secteur"
          ],
          [
           "Sd-P24.1",
           "Hors secteur"
          ],
          [
           "Sd-PM.703",
           "Hors secteur"
          ],
          [
           "Sd-PM.704",
           "Hors secteur"
          ],
          [
           "Sd-PM.705",
           "Hors secteur"
          ],
          [
           "Sd-PM.706",
           "Hors secteur"
          ],
          [
           "Sd-P80.1",
           "Hors secteur"
          ],
          [
           "Sd-PIL4A.1",
           "Hors secteur"
          ],
          [
           "Sd-PIL5C.1",
           "Hors secteur"
          ],
          [
           "Sd-BA2.1",
           "Hors secteur"
          ],
          [
           "Sd-BA3.1",
           "Hors secteur"
          ],
          [
           "Sd-BA4.1",
           "Hors secteur"
          ],
          [
           "Sd-BA5.1",
           "Hors secteur"
          ],
          [
           "Sd-PIL10.1",
           "Hors secteur"
          ],
          [
           "Sd-PIL2A.1",
           "Hors secteur"
          ],
          [
           "Sd-PIL8.1",
           "Hors secteur"
          ],
          [
           "Sd-BA1.1",
           "Hors secteur"
          ],
          [
           "Sd-PSDALLE.6",
           "Hors secteur"
          ],
          [
           "Sd-PSDALLE.1",
           "Hors secteur"
          ],
          [
           "Sd-PSDALLE.2",
           "Hors secteur"
          ],
          [
           "Sd-PSDALLE.3",
           "Hors secteur"
          ],
          [
           "Sd-PSDALLE.4",
           "Hors secteur"
          ],
          [
           "Sd-PSDALLE.7",
           "Hors secteur"
          ],
          [
           "Sd-P1.2",
           "Hors secteur"
          ],
          [
           "Sd-P2.2",
           "Hors secteur"
          ],
          [
           "Sd-PM.707",
           "Hors secteur"
          ],
          [
           "Sd-PM.708",
           "Hors secteur"
          ],
          [
           "Sd-PM.709",
           "Hors secteur"
          ],
          [
           "Sd-PM.710",
           "Hors secteur"
          ],
          [
           "Sd-P11.2",
           "Hors secteur"
          ],
          [
           "Sd-P12.2",
           "Hors secteur"
          ],
          [
           "Sd-P141.2",
           "Hors secteur"
          ],
          [
           "Sd-P142.2",
           "Hors secteur"
          ],
          [
           "Sd-P143.2",
           "Hors secteur"
          ],
          [
           "Sd-P150.2",
           "Hors secteur"
          ],
          [
           "Sd-P8.2",
           "Hors secteur"
          ],
          [
           "Sd-P9.2",
           "Hors secteur"
          ],
          [
           "Sd-P50.2",
           "Hors secteur"
          ],
          [
           "Sd-P902",
           "Hors secteur"
          ],
          [
           "Sd-P100.2",
           "Hors secteur"
          ],
          [
           "Sd-P19.2",
           "Hors secteur"
          ],
          [
           "Sd-P20.2",
           "Hors secteur"
          ],
          [
           "Sd-P22.2",
           "Hors secteur"
          ],
          [
           "Sd-P23.2",
           "Hors secteur"
          ],
          [
           "Sd-P25.2",
           "Hors secteur"
          ],
          [
           "Sd-P26.2",
           "Hors secteur"
          ],
          [
           "Sd-P1.3",
           "Hors secteur"
          ],
          [
           "Sd-P2.3",
           "Hors secteur"
          ],
          [
           "Sd-P3.3",
           "Hors secteur"
          ],
          [
           "Sd-P120.3",
           "Hors secteur"
          ],
          [
           "Sd-P130.3",
           "Hors secteur"
          ],
          [
           "Sd-P140.3",
           "Hors secteur"
          ],
          [
           "Sd-P142.3",
           "Hors secteur"
          ],
          [
           "Sd-P143.3",
           "Hors secteur"
          ],
          [
           "Sd-P150.3",
           "Hors secteur"
          ],
          [
           "Sd-P5.3",
           "Hors secteur"
          ],
          [
           "Sd-P50.3",
           "Hors secteur"
          ],
          [
           "Sd-P11.3",
           "Hors secteur"
          ],
          [
           "Sd-P12.3",
           "Hors secteur"
          ],
          [
           "Sd-P8.3",
           "Hors secteur"
          ],
          [
           "Sd-P9.3",
           "Hors secteur"
          ],
          [
           "Sd-P130.4",
           "Hors secteur"
          ],
          [
           "Sd-P140.4",
           "Hors secteur"
          ],
          [
           "Sd-P143.4",
           "Hors secteur"
          ],
          [
           "Sd-P150.4",
           "Hors secteur"
          ],
          [
           "Sd-P1.4",
           "Hors secteur"
          ],
          [
           "Sd-P2.4",
           "Hors secteur"
          ],
          [
           "Sd-P3.4",
           "Hors secteur"
          ],
          [
           "Sd-P5.4",
           "Hors secteur"
          ],
          [
           "Sd-P130.5",
           "Hors secteur"
          ],
          [
           "Sd-P11.4",
           "Hors secteur"
          ],
          [
           "Sd-P12.4",
           "Hors secteur"
          ],
          [
           "Sd-P120.6",
           "Hors secteur"
          ],
          [
           "Sd-P14.6",
           "Hors secteur"
          ],
          [
           "Sd-P143.6",
           "Hors secteur"
          ],
          [
           "Sd-P150.6",
           "Hors secteur"
          ],
          [
           "Sd-P17.6",
           "Hors secteur"
          ],
          [
           "Sd-P110.3",
           "Hors secteur"
          ],
          [
           "Sd-P7.3",
           "Hors secteur"
          ],
          [
           "Sd-P9.4",
           "Hors secteur"
          ],
          [
           "Sd-P901.2",
           "Hors secteur"
          ],
          [
           "Sd-BA3.2",
           "Hors secteur"
          ],
          [
           "Sd-BA4.2",
           "Hors secteur"
          ],
          [
           "Sd-BA5.2",
           "Hors secteur"
          ],
          [
           "Sd-P3.5",
           "Hors secteur"
          ],
          [
           "Sd-P4.5",
           "Hors secteur"
          ],
          [
           "Sd-P5.5",
           "Hors secteur"
          ],
          [
           "Sd-P50.5",
           "Hors secteur"
          ],
          [
           "Sd-P7.5",
           "Hors secteur"
          ],
          [
           "Sd-BA1.2",
           "Hors secteur"
          ],
          [
           "Sd-P22.3",
           "Hors secteur"
          ],
          [
           "Sd-P25.3",
           "Hors secteur"
          ],
          [
           "Sd-P26.3",
           "Hors secteur"
          ],
          [
           "Sd-BARET8.7",
           "Hors secteur"
          ],
          [
           "Sd-BARET9.7",
           "Hors secteur"
          ],
          [
           "Sd-P11.7",
           "Hors secteur"
          ],
          [
           "Sd-P180.7",
           "Hors secteur"
          ],
          [
           "Sd-P20.7",
           "Hors secteur"
          ],
          [
           "Sd-P110.7",
           "Hors secteur"
          ],
          [
           "Sd-P111.7",
           "Hors secteur"
          ],
          [
           "Sd-P8.7",
           "Hors secteur"
          ],
          [
           "Sd-P80.7",
           "Hors secteur"
          ],
          [
           "Sd-P9.7",
           "Hors secteur"
          ],
          [
           "Sd-P901.7",
           "Hors secteur"
          ],
          [
           "Sd-P902.7",
           "Hors secteur"
          ],
          [
           "Sd-BA2.7",
           "Hors secteur"
          ],
          [
           "Sd-BA3.7",
           "Hors secteur"
          ],
          [
           "Sd-BA4.7",
           "Hors secteur"
          ],
          [
           "Sd-BA5.7",
           "Hors secteur"
          ],
          [
           "Sd-P1.7",
           "Hors secteur"
          ],
          [
           "Sd-P3.7",
           "Hors secteur"
          ],
          [
           "Manu-SEC4.1",
           "Hors secteur"
          ],
          [
           "Manu-SEC4.2",
           "Hors secteur"
          ],
          [
           "Manu-SEC4.3",
           "Hors secteur"
          ],
          [
           "Manu-SEC4.4",
           "Hors secteur"
          ],
          [
           "Manu-SEC4.5",
           "Hors secteur"
          ],
          [
           "Manu-SEC4.5C",
           "Hors secteur"
          ],
          [
           "Manu-SEC4.6",
           "Hors secteur"
          ],
          [
           "Manu-SEC4.7",
           "Hors secteur"
          ],
          [
           "Manu-SEC4.8",
           "Hors secteur"
          ],
          [
           "Manu-SEC4.9",
           "Hors secteur"
          ],
          [
           "Manu-SEC4.10",
           "Hors secteur"
          ],
          [
           "Manu-SEC4.11",
           "Hors secteur"
          ],
          [
           "Manu-SEC4.12",
           "Hors secteur"
          ],
          [
           "Manu-SEC4.13",
           "Hors secteur"
          ],
          [
           "Manu-SEC4.14",
           "Hors secteur"
          ],
          [
           "Manu-SEC4.24",
           "Hors secteur"
          ],
          [
           "Manu-SEC4.23",
           "Hors secteur"
          ],
          [
           "Manu-SEC4.22",
           "Hors secteur"
          ],
          [
           "Manu-SEC4.17",
           "Hors secteur"
          ],
          [
           "Manu-SEC4.16",
           "Hors secteur"
          ],
          [
           "Manu-SEC4.15",
           "Hors secteur"
          ],
          [
           "Manu-SEC4.18",
           "Hors secteur"
          ],
          [
           "Manu-SEC4.19",
           "Hors secteur"
          ],
          [
           "Manu-SEC4.20",
           "Hors secteur"
          ],
          [
           "Manu-SEC4.21",
           "Hors secteur"
          ],
          [
           "Manu-PC1",
           "Hors secteur"
          ],
          [
           "Manu-PC2",
           "Hors secteur"
          ],
          [
           "Manu-PC3",
           "Hors secteur"
          ],
          [
           "Manu-PC4",
           "Hors secteur"
          ],
          [
           "Manu-PC5",
           "Hors secteur"
          ],
          [
           "Manu-PC6",
           "Hors secteur"
          ],
          [
           "Manu-PC7",
           "Hors secteur"
          ],
          [
           "Manu-PC8",
           "Hors secteur"
          ],
          [
           "Manu-PC111",
           "Hors secteur"
          ],
          [
           "Manu-PC112",
           "Hors secteur"
          ],
          [
           "Manu-PC10",
           "Hors secteur"
          ],
          [
           "Manu-PC11",
           "Hors secteur"
          ],
          [
           "Manu-PC12",
           "Hors secteur"
          ],
          [
           "Manu-PC13",
           "Hors secteur"
          ],
          [
           "Manu-PC21",
           "Hors secteur"
          ],
          [
           "Manu-PC22",
           "Hors secteur"
          ],
          [
           "Manu-PC23",
           "Hors secteur"
          ],
          [
           "Manu-PC23B",
           "Hors secteur"
          ],
          [
           "Manu-AC1B",
           "Hors secteur"
          ],
          [
           "Manu-AC5B",
           "Hors secteur"
          ],
          [
           "Manu-AC7B",
           "Hors secteur"
          ],
          [
           "Manu-AC30",
           "Hors secteur"
          ],
          [
           "Manu-AC31",
           "Hors secteur"
          ],
          [
           "Manu-AC32",
           "Hors secteur"
          ],
          [
           "Manu-AC7",
           "Hors secteur"
          ],
          [
           "Manu-AC8",
           "Hors secteur"
          ],
          [
           "Manu-AC9",
           "Hors secteur"
          ],
          [
           "Manu-AC10",
           "Hors secteur"
          ],
          [
           "Manu-AC11",
           "Hors secteur"
          ],
          [
           "Manu-AC12",
           "Hors secteur"
          ],
          [
           "Manu-VJ1",
           "Hors secteur"
          ],
          [
           "Manu-VJ2",
           "Hors secteur"
          ],
          [
           "Manu-VJ3",
           "Hors secteur"
          ],
          [
           "Manu-VJ4",
           "Hors secteur"
          ],
          [
           "Manu-VJ5",
           "Hors secteur"
          ],
          [
           "Manu-VB1",
           "Hors secteur"
          ],
          [
           "Manu-VB2",
           "Hors secteur"
          ],
          [
           "Manu-VB3",
           "Hors secteur"
          ],
          [
           "Manu-PN.1",
           "Hors secteur"
          ],
          [
           "Manu-PN.2",
           "Hors secteur"
          ],
          [
           "Manu-PN.3",
           "Hors secteur"
          ],
          [
           "Manu-PN.4",
           "Hors secteur"
          ],
          [
           "Manu-NP.1",
           "Hors secteur"
          ],
          [
           "Manu-AC311B",
           "Hors secteur"
          ],
          [
           "Manu-BAPM1.1",
           "Hors secteur"
          ],
          [
           "Manu-MS21",
           "Hors secteur"
          ],
          [
           "Manu-MS22",
           "Hors secteur"
          ],
          [
           "Manu-PC13.1",
           "Hors secteur"
          ],
          [
           "Manu-PC2.1",
           "Hors secteur"
          ],
          [
           "Manu-PC3.1",
           "Hors secteur"
          ],
          [
           "Manu-PC7.1",
           "Hors secteur"
          ],
          [
           "Manu-PCBA.1",
           "Hors secteur"
          ],
          [
           "Manu-PCBA.2",
           "Hors secteur"
          ],
          [
           "Manu-PCBA.3",
           "Hors secteur"
          ],
          [
           "Manu-PMS3.1",
           "Hors secteur"
          ],
          [
           "Manu-PMS4.1",
           "Hors secteur"
          ],
          [
           "Manu-PMS4.2",
           "Hors secteur"
          ],
          [
           "Manu-F1.1",
           "Hors secteur"
          ],
          [
           "Manu-F1.2",
           "Hors secteur"
          ],
          [
           "Manu-F2.1",
           "Hors secteur"
          ],
          [
           "Manu-F2.2",
           "Hors secteur"
          ],
          [
           "Manu-F2.3",
           "Hors secteur"
          ],
          [
           "Manu-F3.1",
           "Hors secteur"
          ],
          [
           "Manu-F3.2",
           "Hors secteur"
          ],
          [
           "Manu-F3.3",
           "Hors secteur"
          ],
          [
           "Manu-F4.1",
           "Hors secteur"
          ],
          [
           "Manu-F4.2",
           "Hors secteur"
          ],
          [
           "Manu-F4.3",
           "Hors secteur"
          ],
          [
           "Manu-PMS3.2",
           "Hors secteur"
          ],
          [
           "Manu-MS25",
           "Hors secteur"
          ],
          [
           "Manu-MS26",
           "Hors secteur"
          ],
          [
           "Manu-MS27",
           "Hors secteur"
          ],
          [
           "Manu-PC15.1",
           "Hors secteur"
          ],
          [
           "Manu-PMS7.2",
           "Hors secteur"
          ],
          [
           "Manu-PMS6.1",
           "Hors secteur"
          ],
          [
           "Manu-PC14.1",
           "Hors secteur"
          ],
          [
           "Manu-PC16.1",
           "Hors secteur"
          ],
          [
           "Manu-PC17.1",
           "Hors secteur"
          ],
          [
           "Manu-PC201",
           "Hors secteur"
          ],
          [
           "Manu-PC202",
           "Hors secteur"
          ],
          [
           "Manu-PC203",
           "Hors secteur"
          ],
          [
           "Manu-PC204",
           "Hors secteur"
          ],
          [
           "Manu-PC207",
           "Hors secteur"
          ],
          [
           "Manu-PC208",
           "Hors secteur"
          ],
          [
           "Manu-PC209",
           "Hors secteur"
          ],
          [
           "Manu-BAPM.4",
           "Hors secteur"
          ],
          [
           "Manu-BAPM2.1",
           "Hors secteur"
          ],
          [
           "Manu-BAPM3.1",
           "Hors secteur"
          ],
          [
           "Manu-PC205",
           "Hors secteur"
          ],
          [
           "Manu-PC206",
           "Hors secteur"
          ],
          [
           "Manu-PC1.1",
           "Hors secteur"
          ],
          [
           "Manu-PCBA.4",
           "Hors secteur"
          ],
          [
           "Manu-PM209",
           "Hors secteur"
          ],
          [
           "Manu-PM212",
           "Hors secteur"
          ],
          [
           "Manu-PM213",
           "Hors secteur"
          ],
          [
           "Manu-PMS.1",
           "Hors secteur"
          ],
          [
           "Manu-PMS1.2",
           "Hors secteur"
          ],
          [
           "Manu-PMS2.1",
           "Hors secteur"
          ],
          [
           "Manu-PMS2.2",
           "Hors secteur"
          ],
          [
           "Manu-PMS5.1",
           "Hors secteur"
          ],
          [
           "Manu-PMS5.2",
           "Hors secteur"
          ],
          [
           "Manu-F5.1",
           "Hors secteur"
          ],
          [
           "Manu-F5.2",
           "Hors secteur"
          ],
          [
           "Manu-PM102",
           "Hors secteur"
          ],
          [
           "Manu-PM201",
           "Hors secteur"
          ],
          [
           "Manu-PM103",
           "Hors secteur"
          ],
          [
           "Manu-PM.204",
           "Hors secteur"
          ],
          [
           "Manu-PM.301",
           "Hors secteur"
          ],
          [
           "Manu-PM.302",
           "Hors secteur"
          ],
          [
           "Manu-PM.401",
           "Hors secteur"
          ],
          [
           "Manu-PM.402",
           "Hors secteur"
          ],
          [
           "Manu-PC108",
           "Hors secteur"
          ],
          [
           "Manu-PC107",
           "Hors secteur"
          ],
          [
           "Manu-PC106",
           "Hors secteur"
          ],
          [
           "Manu-PC105",
           "Hors secteur"
          ],
          [
           "Manu-PC101",
           "Hors secteur"
          ],
          [
           "Manu-PC310",
           "Hors secteur"
          ],
          [
           "Manu-PC309",
           "Hors secteur"
          ],
          [
           "Manu-PC308",
           "Hors secteur"
          ],
          [
           "Manu-PC307",
           "Hors secteur"
          ],
          [
           "Manu-PC305",
           "Hors secteur"
          ],
          [
           "Manu-PC304",
           "Hors secteur"
          ],
          [
           "Manu-PC302",
           "Hors secteur"
          ],
          [
           "Manu-PC301",
           "Hors secteur"
          ],
          [
           "Manu-RN7.1",
           "Hors secteur"
          ],
          [
           "Manu-VJ6",
           "Hors secteur"
          ],
          [
           "Manu-F5.3",
           "Hors secteur"
          ],
          [
           "Manu-F6.1",
           "Hors secteur"
          ],
          [
           "Manu-F6.2",
           "Hors secteur"
          ],
          [
           "Manu-F6.3",
           "Hors secteur"
          ],
          [
           "Manu-F7.1",
           "Hors secteur"
          ],
          [
           "Manu-F7.2",
           "Hors secteur"
          ],
          [
           "Manu-F7.3",
           "Hors secteur"
          ],
          [
           "Manu-PM400",
           "Hors secteur"
          ],
          [
           "Manu-PM401",
           "Hors secteur"
          ],
          [
           "Manu-PM403",
           "Hors secteur"
          ],
          [
           "Manu-PM404",
           "Hors secteur"
          ],
          [
           "Manu-PM405",
           "Hors secteur"
          ],
          [
           "Manu-VJ7",
           "Hors secteur"
          ],
          [
           "Manu-PRT1",
           "Hors secteur"
          ],
          [
           "Manu-PRT2",
           "Hors secteur"
          ],
          [
           "Manu-PAL3",
           "Hors secteur"
          ],
          [
           "Manu-PAL4",
           "Hors secteur"
          ],
          [
           "Manu-PAL5",
           "Hors secteur"
          ],
          [
           "Manu-PAL6",
           "Hors secteur"
          ],
          [
           "Manu-PRTE1",
           "Hors secteur"
          ],
          [
           "Manu-PRTE2",
           "Hors secteur"
          ],
          [
           "Manu-SEC123.1",
           "Hors secteur"
          ],
          [
           "Manu-SEC123.2",
           "Hors secteur"
          ],
          [
           "Manu-SEC123.3",
           "Hors secteur"
          ],
          [
           "Manu-SEC123.4",
           "Hors secteur"
          ],
          [
           "Manu-SEC123.5",
           "Hors secteur"
          ],
          [
           "Manu-SEC123.6",
           "Hors secteur"
          ],
          [
           "Manu-SEC123.7",
           "Hors secteur"
          ],
          [
           "Manu-SEC123.8",
           "Hors secteur"
          ],
          [
           "Manu-SEC123.9",
           "Hors secteur"
          ],
          [
           "Manu-SEC123.10",
           "Hors secteur"
          ],
          [
           "Manu-SEC123.11",
           "Hors secteur"
          ],
          [
           "Manu-SEC123.12",
           "Hors secteur"
          ],
          [
           "Manu-SEC123.13",
           "Hors secteur"
          ],
          [
           "Manu-SEC123.14",
           "Hors secteur"
          ],
          [
           "Manu-SEC123.15",
           "Hors secteur"
          ],
          [
           "Manu-SEC123.16",
           "Hors secteur"
          ],
          [
           "Manu-SEC123.17",
           "Hors secteur"
          ],
          [
           "Manu-SEC123.18",
           "Hors secteur"
          ],
          [
           "Manu-SEC123.19",
           "Hors secteur"
          ],
          [
           "Manu-SEC123.20",
           "Hors secteur"
          ],
          [
           "Manu-SEC123.21",
           "Hors secteur"
          ],
          [
           "Manu-SEC123.22",
           "Hors secteur"
          ],
          [
           "Manu-SEC123.23",
           "Hors secteur"
          ],
          [
           "Manu-SEC123.24",
           "Hors secteur"
          ],
          [
           "Manu-SEC123.25",
           "Hors secteur"
          ],
          [
           "Manu-SEC123.26",
           "Hors secteur"
          ],
          [
           "Manu-SEC123.27",
           "Hors secteur"
          ],
          [
           "Manu-SEC123.28",
           "Hors secteur"
          ],
          [
           "Manu-SEC123.29",
           "Hors secteur"
          ],
          [
           "Manu-SEC123.30",
           "Hors secteur"
          ],
          [
           "Manu-SEC123.31",
           "Hors secteur"
          ],
          [
           "Manu-SEC123.32",
           "Hors secteur"
          ],
          [
           "Manu-SEC123.33",
           "Hors secteur"
          ],
          [
           "Manu-SEC123.34",
           "Hors secteur"
          ],
          [
           "Manu-SEC123.35",
           "Hors secteur"
          ],
          [
           "Manu-RN7.11",
           "Hors secteur"
          ],
          [
           "Manu-RN7.12",
           "Hors secteur"
          ],
          [
           "Manu-RN7.13",
           "Hors secteur"
          ],
          [
           "Manu-RN7.14",
           "Hors secteur"
          ],
          [
           "Manu-RN7.15",
           "Hors secteur"
          ],
          [
           "Manu-RN7.16",
           "Hors secteur"
          ],
          [
           "Manu-ESC1",
           "Hors secteur"
          ],
          [
           "Manu-ESC2",
           "Hors secteur"
          ],
          [
           "Manu-MJ1",
           "Hors secteur"
          ],
          [
           "Manu-MJ2",
           "Hors secteur"
          ],
          [
           "Manu-MJ3",
           "Hors secteur"
          ],
          [
           "Manu-RN7.10",
           "Hors secteur"
          ],
          [
           "Manu-PM4",
           "Hors secteur"
          ],
          [
           "Manu-PM5",
           "Hors secteur"
          ],
          [
           "Manu-PM6",
           "Hors secteur"
          ],
          [
           "Manu-PM7",
           "Hors secteur"
          ],
          [
           "Manu-PM8",
           "Hors secteur"
          ],
          [
           "Manu-RN7.14B",
           "Hors secteur"
          ],
          [
           "Manu-PM2",
           "Hors secteur"
          ],
          [
           "Manu-PM3",
           "Hors secteur"
          ],
          [
           "Manu-VB4",
           "Hors secteur"
          ],
          [
           "Manu-VB20",
           "Hors secteur"
          ],
          [
           "Manu-VB21",
           "Hors secteur"
          ],
          [
           "Manu-VB22",
           "Hors secteur"
          ],
          [
           "Manu-VB23",
           "Hors secteur"
          ],
          [
           "Manu-VJ20",
           "Hors secteur"
          ],
          [
           "Manu-VJ21",
           "Hors secteur"
          ]
         ],
         "marker": {
          "color": "#7FFFD4",
          "opacity": 0.6,
          "size": 3
         },
         "mode": "markers",
         "type": "scatter3d",
         "x": [
          2055322.26044898,
          2055342.9189400002,
          2055344.57523077,
          2055341.59467961,
          2055343.32005769,
          2055339.66398413,
          2055329.79601639,
          2055252.1435,
          2055254.27,
          2055267.89272727,
          2055269.83054545,
          2055276.18418182,
          2055278.43118182,
          2055283.75045455,
          2055286.11854545,
          2055253.55733333,
          2055244.4919999999,
          2055235.44498333,
          2055242.09733333,
          2055366.1469999999,
          2055359.5669999998,
          2055359.53,
          2055330.376,
          2055330.616,
          2055325.237,
          2055373.53928571,
          2055368.02515789,
          2055363.81809023,
          2055361.31810526,
          2055344.371875,
          2055345.83,
          2055348.845,
          2055362.937,
          2055305.3811,
          2055352.14525,
          2055344.9019999998,
          2055340.28,
          2055329.0580000002,
          2055318.378,
          2055321.60808163,
          2055317.99720513,
          2055309.53397436,
          2055333.51254167,
          2055333.55457088,
          2055355.0790000001,
          2055339.28491209,
          2055346.0901,
          2055346.13,
          2055346.1519999998,
          2055344.428,
          2055317.41494872,
          2055316.54096,
          2055355.2340000002,
          2055346.283,
          2055346.237,
          2055346.27684615,
          2055344.4931,
          2055340.458,
          2055328.16404348,
          2055316.61385714,
          2055305.4440000001,
          2055321.89495714,
          2055328.29028571,
          2055333.15112727,
          2055339.32820027,
          2055301.79604666,
          2055327.83535537,
          2055353.322,
          2055353.3218,
          2055346.303,
          2055344.487,
          2055328.175,
          2055318.716,
          2055304.9109999998,
          2055293.174,
          2055309.105,
          2055375.052,
          2055365.315,
          2055358.035,
          2055376.8648,
          2055376.759,
          2055378.596,
          2055380.2704,
          2055293.60293551,
          2055314.83296139,
          2055293.14870244,
          2055309.54747436,
          2055324.48042857,
          2055302.31618018,
          2055296.89476448,
          2055255.10475,
          2055262.11117778,
          2055279.14417647,
          2055284.989,
          2055316.906,
          2055292.4309999999,
          2055279.10621277,
          2055276.62406383,
          2055279.06087234,
          2055276.615875,
          2055279.06285106,
          2055268.32080769,
          2055262.52992308,
          2055255.699,
          2055262.09,
          2055269.5368,
          2055279.0479,
          2055284.96495,
          2055290.940875,
          2055290.75341176,
          2055284.95564706,
          2055279.03152941,
          2055269.61641176,
          2055262.38470588,
          2055290.47075,
          2055279.0878,
          2055252.78552364,
          2055253.2395,
          2055261.4952599998,
          2055261.53323913,
          2055269.38050952,
          2055269.06395238,
          2055288.21704116,
          2055288.63920134,
          2055277.87506302,
          2055278.40519748,
          2055379.465,
          2055295.79871429,
          2055379.975,
          2055322.812875,
          2055339.846,
          2055342.914,
          2055379.968,
          2055380.27005,
          2055369.705,
          2055373.33291667,
          2055378.77425,
          2055331.22122255,
          2055331.20444118,
          2055331.02812805,
          2055332.9492549,
          2055323.72171429,
          2055323.87871429,
          2055252.87216667,
          2055255.33233333,
          2055260.99416667,
          2055263.42016667,
          2055268.80684615,
          2055270.81484615,
          2055276.11684615,
          2055278.72984615,
          2055284.24076923,
          2055286.55869231,
          2055244.49676923,
          2055235.44466667,
          2055242.736,
          2055242.14,
          2055320.18908021,
          2055320.04710695,
          2055320.08452941,
          2055319.93369231,
          2055330.8474,
          2055330.93212903,
          2055330.89584767,
          2055330.80184615,
          2055343.73318182,
          2055343.766125,
          2055343.63907692,
          2055343.7664897998,
          2055354.41166667,
          2055354.3290000001,
          2055354.398,
          2055366.8004,
          2055366.6409999998,
          2055312.4294,
          2055312.5869999998,
          2055312.615,
          2055303.8669999999,
          2055304.0744,
          2055304.0690000001,
          2055302.5447799999,
          2055254.24585714,
          2055336.64157143,
          2055340.25285714,
          2055255.10361538,
          2055262.16191667,
          2055291.80211111,
          2055350.9730000002,
          2055243.83881818,
          2055239.053,
          2055255.399,
          2055235.226125,
          2055235.8857,
          2055237.214875,
          2055241.709,
          2055235.45771429,
          2055235.97442857,
          2055235.22828571,
          2055236.23,
          2055252.78594444,
          2055253.239,
          2055261.495,
          2055261.533,
          2055269.3794,
          2055269.41505555,
          2055329.60223256,
          2055318.13093333,
          2055234.985,
          2055237.894,
          2055239.229,
          2055237.6609999998,
          2055239.138,
          2055343.477,
          2055344.55444444,
          2055234.55485714,
          2055232.1515,
          2055234.40971429,
          2055232.45271429,
          2055237.29785714,
          2055249.2769999998,
          2055258.118,
          2055267.102,
          2055279.94157143,
          2055271.4218,
          2055245.74841429,
          2055244.6940000001,
          2055292.866,
          2055341.13335714,
          2055346.898,
          2055346.9430000002,
          2055346.737,
          2055346.775,
          2055324.53214286,
          2055324.3268,
          2055330.1819999998,
          2055330.09142857,
          2055363.356,
          2055320.18914286,
          2055320.04671429,
          2055330.8469999998,
          2055330.9330000002,
          2055330.91621429,
          2055343.72464286,
          2055343.75557143,
          2055354.4030000002,
          2055354.3272,
          2055354.38907143,
          2055366.80171429,
          2055366.636,
          2055312.4422,
          2055312.6005,
          2055303.87392857,
          2055304.08614286,
          2055304.084,
          2055366.885,
          2055366.573,
          2055374.4419999998,
          2055366.573,
          2055377.356,
          2055378.793,
          2055378.785,
          2055344.632,
          2055330.75028571,
          2055335.53,
          2055346.445,
          2055346.42083333,
          2055346.833,
          2055346.88,
          2055346.679,
          2055324.639,
          2055324.5219999999,
          2055330.19,
          2055330.112,
          2055330.082,
          2055341.946,
          2055343.0690000001,
          2055342.5869999998,
          2055359.665,
          2055359.744,
          2055362.4840000002,
          2055362.496,
          2055362.459,
          2055362.3369999998,
          2055362.733,
          2055362.705,
          2055362.757,
          2055309.0480000002,
          2055309.053,
          2055309.063,
          2055296.3830000001,
          2055305.485,
          2055314.481,
          2055330.32,
          2055339.208,
          2055341.031,
          2055342.497,
          2055346.4019999998,
          2055357.0880000002,
          2055367.8059999999,
          2055374.239,
          2055377.333,
          2055377.664,
          2055378.9230000002,
          2055379.476,
          2055379.979,
          2055379.983,
          2055379.956,
          2055379.759,
          2055380.0380000002,
          2055379.751,
          2055378.781,
          2055371.374,
          2055361.844,
          2055346.158,
          2055341.244,
          2055329.701,
          2055323.9780000001,
          2055318.271,
          2055284.843,
          2055278.233,
          2055268.9640000002,
          2055260.1619999998,
          2055345.352,
          2055340.459,
          2055360.955,
          2055292.8590000002,
          2055292.9840000002,
          2055293.034,
          2055293.148,
          2055341.09,
          2055308.529,
          2055323.626,
          2055292.804,
          2055378.6519999998,
          2055344.767,
          2055320.79,
          2055293.804,
          2055293.011,
          2055344.392,
          2055296.332,
          2055305.668,
          2055284.658,
          2055284.658,
          2055268.884,
          2055260.119,
          2055367.9309999999,
          2055374.456,
          2055379.996,
          2055380.019,
          2055379.96,
          2055380.0259999998,
          2055342.501,
          2055346.414,
          2055335.507,
          2055346.3159999999,
          2055348.928,
          2055357.265,
          2055345.054,
          2055331.043,
          2055323.626,
          2055312.291,
          2055293.657,
          2055296.957,
          2055305.73,
          2055314.427,
          2055377.32,
          2055378.9019999998,
          2055380.065,
          2055379.971,
          2055380.0269999998,
          2055380.0980000002,
          2055330.737,
          2055335.5159999998,
          2055366.889,
          2055374.6830000002,
          2055342.524,
          2055346.481,
          2055378.858,
          2055380.086,
          2055380.05,
          2055380.0680000002,
          2055296.876,
          2055305.841,
          2055314.74,
          2055330.894,
          2055378.814,
          2055366.594,
          2055374.9,
          2055377.372,
          2055378.856,
          2055379.956,
          2055379.9640000002,
          2055377.882,
          2055356.2580000001,
          2055339.093,
          2055346.56,
          2055346.27,
          2055293.01,
          2055293.071,
          2055293.1709999999,
          2055314.86,
          2055325.1430000002,
          2055331.121,
          2055335.274,
          2055341.064,
          2055292.771,
          2055330.532,
          2055310.138,
          2055293.491,
          2055363.386,
          2055363.369,
          2055366.7580000001,
          2055364.675,
          2055344.615,
          2055356.11,
          2055361.666,
          2055342.394,
          2055345.174,
          2055346.533,
          2055346.254,
          2055346.265,
          2055292.74,
          2055292.045,
          2055292.4519999998,
          2055292.701,
          2055296.774,
          2055314.8290000001,
          2055382.447,
          2055380.71,
          2055379.15,
          2055378.4019999998,
          2055377.106,
          2055376.149,
          2055371.001,
          2055370.31,
          2055366.0119999999,
          2055362.3390000002,
          2055359.995,
          2055349.07,
          2055348.185,
          2055336.3669999999,
          2055336.42,
          2055324.761,
          2055323.134,
          2055318.594,
          2055318.511,
          2055324.4730000002,
          2055326.573,
          2055308.57,
          2055307.79,
          2055296.03,
          2055297.132,
          2055317.407,
          2055301.784,
          2055309.0969999998,
          2055293.5869999998,
          2055314.8080000002,
          2055309.5369999998,
          2055302.295,
          2055296.874,
          2055317.989,
          2055309.534,
          2055321.586,
          2055327.822,
          2055333.5359999998,
          2055339.269,
          2055321.886,
          2055328.283,
          2055333.1430000002,
          2055339.313,
          2055342.9130000002,
          2055343.3180000002,
          2055339.642,
          2055344.59,
          2055344.1630000002,
          2055341.576,
          2055339.741,
          2055339.865,
          2055329.78,
          2055329.573,
          2055322.237,
          2055322.2130000002,
          2055331.2230000002,
          2055331.1909999999,
          2055331.0219999999,
          2055332.9430000002,
          2055332.936,
          2055329.332,
          2055329.333,
          2055329.381,
          2055356.6719999998,
          2055356.685,
          2055356.8480000002,
          2055356.826,
          2055269.375,
          2055344.755,
          2055244.483,
          2055363.822,
          2055361.3190000001,
          2055355.0790000001,
          2055316.491,
          2055327.771,
          2055340.3480000002,
          2055255.095,
          2055262.146,
          2055279.154,
          2055277.878,
          2055288.2030000002,
          2055288.6269999999,
          2055320.187,
          2055320.045,
          2055330.842,
          2055330.929,
          2055330.8930000002,
          2055343.726,
          2055343.7580000001,
          2055343.757,
          2055354.405,
          2055354.32,
          2055354.389,
          2055278.409,
          2055344.366,
          2055345.824,
          2055348.8390000002,
          2055346.1230000001,
          2055233.947,
          2055241.77,
          2055346.09,
          2055346.1519999998,
          2055344.428,
          2055355.226,
          2055346.274,
          2055346.2280000001,
          2055346.2680000002,
          2055328.176,
          2055316.6030000001,
          2055305.4440000001,
          2055244.486,
          2055235.449,
          2055244.486,
          2055344.4840000002,
          2055340.447,
          2055305.372,
          2055285.035,
          2055262.3730000001,
          2055284.9540000001,
          2055290.9309999999,
          2055257.136,
          2055261.5669999998,
          2055261.4919999999,
          2055261.529,
          2055277.866,
          2055293.59,
          2055366.801,
          2055366.64,
          2055243.855,
          2055255.4019999998,
          2055239.0669999998,
          2055262.3730000001,
          2055279.021,
          2055269.604,
          2055290.7419999999,
          2055284.9440000001,
          2055318.378,
          2055329.0580000002,
          2055340.28,
          2055344.9019999998,
          2055352.145,
          2055293.174,
          2055304.9109999998,
          2055318.716,
          2055328.175,
          2055344.487,
          2055346.303,
          2055346.311,
          2055353.322,
          2055295.7980000002,
          2055323.721,
          2055366.658,
          2055312.44,
          2055312.5980000002,
          2055312.626,
          2055303.878,
          2055304.084,
          2055304.081,
          2055233.2240000002,
          2055235.227,
          2055237.216,
          2055241.71,
          2055251.415,
          2055323.7869999998,
          2055378.1930000002,
          2055379.155,
          2055384.7319999998,
          2055381.501,
          2055380.615,
          2055379.8080000002,
          2055378.8930000002,
          2055380.771,
          2055262.38,
          2055281.82,
          2055291.4009999998,
          2055300.6619999998,
          2055308.635,
          2055320.63,
          2055329.8190000001,
          2055286.852,
          2055292.0559999999,
          2055298.12,
          2055297.655,
          2055296.7719999999,
          2055302.157,
          2055306.855,
          2055304.9440000001,
          2055308.5259999998,
          2055309.908,
          2055313.8469999998,
          2055317.198,
          2055320.552,
          2055325.408,
          2055328.342,
          2055331.4219999998,
          2055328.5769999998,
          2055326.918,
          2055333.476,
          2055335.917,
          2055346.118,
          2055350.629,
          2055350.034,
          2055346.168,
          2055335.299,
          2055326.2769999998,
          2055322.884,
          2055334.8069999998,
          2055184.8,
          2055207.331,
          2055239.285,
          2055257.269,
          2055274.013,
          2055285.281,
          2055198.361,
          2055198.0590000001,
          2055218.92,
          2055216.0369999998,
          2055216.03,
          2055206.4619999998,
          2055269.253,
          2055273.6809999999,
          2055284.3180000002,
          2055269.256,
          2055273.6830000002,
          2055257.2719999999,
          2055297.36,
          2055294.312,
          2055330.4119999998,
          2055325.624,
          2055325.624,
          2055325.229,
          2055325.24,
          2055326.959,
          2055326.961
         ],
         "y": [
          3179692.24002041,
          3179722.4902,
          3179713.86192308,
          3179702.08153398,
          3179713.80840385,
          3179700.29389418,
          3179694.77302268,
          3179683.33966667,
          3179683.568,
          3179685.84418182,
          3179685.86818182,
          3179684.33090909,
          3179684.29254546,
          3179683.09781818,
          3179683.14527273,
          3179683.41033333,
          3179683.392,
          3179680.3735,
          3179682.75816667,
          3179690.1580000003,
          3179690.209,
          3179696.095,
          3179663.818,
          3179668.876,
          3179664.042,
          3179729.2010000004,
          3179729.47584211,
          3179729.48984211,
          3179729.67910526,
          3179728.501,
          3179729.2789999996,
          3179729.385,
          3179729.2010000004,
          3179681.45031667,
          3179728.2405,
          3179707.256,
          3179694.4669999997,
          3179690.9689999996,
          3179686.639,
          3179689.83402041,
          3179688.33152564,
          3179684.21015384,
          3179694.54340238,
          3179694.6385677997,
          3179728.38930769,
          3179696.49333883,
          3179728.314,
          3179724.1769999997,
          3179715.8985,
          3179705.7460000003,
          3179689.83812821,
          3179685.99435077,
          3179728.215,
          3179728.195,
          3179724.395,
          3179715.863,
          3179705.615,
          3179694.6389375,
          3179690.50486957,
          3179685.861,
          3179681.332,
          3179689.58635714,
          3179691.91028571,
          3179693.6061697,
          3179696.42113656,
          3179684.17312086,
          3179690.68712397,
          3179728.1769999997,
          3179728.1764,
          3179716.0568,
          3179705.5,
          3179690.613,
          3179686.7855,
          3179681.185,
          3179682.085,
          3179685.07702564,
          3179728.328,
          3179728.378,
          3179728.341,
          3179724.3032,
          3179727.6824,
          3179716.2169999997,
          3179698.3019999997,
          3179684.56360817,
          3179693.43286873,
          3179678.9117439,
          3179691.69653846,
          3179685.77609524,
          3179692.24547374,
          3179692.32088417,
          3179684.95825,
          3179686.4126,
          3179685.32131933,
          3179684.13816667,
          3179662.542,
          3179672.61375,
          3179685.24780851,
          3179685.77440426,
          3179685.27919149,
          3179685.73327083,
          3179685.25606383,
          3179685.655,
          3179686.34438461,
          3179685.0360000003,
          3179686.0930000003,
          3179686.8107,
          3179685.3057,
          3179684.1360000004,
          3179683.03125,
          3179683.02847059,
          3179684.12376471,
          3179685.27676471,
          3179686.78605882,
          3179686.45235294,
          3179683.07025,
          3179685.2789999996,
          3179690.36600546,
          3179689.8365,
          3179689.9479799997,
          3179689.41880435,
          3179689.49845238,
          3179689.06012771,
          3179690.46663559,
          3179690.3184735,
          3179689.22218487,
          3179688.57622269,
          3179709.248,
          3179706.865,
          3179677.047,
          3179684.015,
          3179689.137,
          3179694.31925,
          3179687.992,
          3179698.30205,
          3179675.9669,
          3179674.9280000003,
          3179673.25575,
          3179701.30870968,
          3179701.27668984,
          3179701.15091463,
          3179708.62213726,
          3179703.84785714,
          3179703.83042857,
          3179648.788,
          3179648.8710000003,
          3179648.81116667,
          3179648.80733333,
          3179648.39,
          3179648.48230769,
          3179648.74638462,
          3179648.90223077,
          3179649.17023077,
          3179649.29846154,
          3179683.394,
          3179680.37294445,
          3179675.998,
          3179675.837,
          3179649.77709091,
          3179649.85033155,
          3179649.88799465,
          3179649.91169231,
          3179649.1406,
          3179649.24298925,
          3179649.19795161,
          3179649.19430769,
          3179648.40590909,
          3179648.4869999997,
          3179648.52684615,
          3179648.48671429,
          3179650.52333333,
          3179650.4669999997,
          3179650.5086,
          3179656.6892,
          3179656.829,
          3179650.2989999996,
          3179650.2,
          3179650.2260000003,
          3179650.777,
          3179650.7610000004,
          3179650.78,
          3179650.89156,
          3179685.34914286,
          3179657.289,
          3179657.17,
          3179684.95692308,
          3179686.46466667,
          3179651.91044444,
          3179649.84422222,
          3179683.07918182,
          3179681.6319999998,
          3179685.00666667,
          3179670.822125,
          3179678.4978,
          3179680.027125,
          3179681.719375,
          3179671.22442857,
          3179678.49657143,
          3179670.37557143,
          3179670.37175,
          3179690.3660000004,
          3179689.845,
          3179689.9480000003,
          3179689.4189999998,
          3179689.497,
          3179689.06,
          3179649.21095349,
          3179650.1318,
          3179656.811,
          3179666.563,
          3179673.738,
          3179666.295,
          3179673.005,
          3179648.78255556,
          3179660.707,
          3179648.61685714,
          3179659.4905,
          3179649.21871429,
          3179659.03542857,
          3179647.22514286,
          3179648.110625,
          3179648.30475,
          3179648.19775,
          3179648.70728571,
          3179648.1862,
          3179647.92785714,
          3179647.811,
          3179669.54885714,
          3179680.04714286,
          3179683.126,
          3179682.7569999998,
          3179683.34,
          3179682.832,
          3179667.14,
          3179667.2048,
          3179666.9189999998,
          3179666.795,
          3179714.2210000004,
          3179649.77728571,
          3179649.85242857,
          3179649.14428571,
          3179649.24271429,
          3179649.18792857,
          3179648.412,
          3179648.49314286,
          3179650.52792857,
          3179650.4671,
          3179650.51092857,
          3179656.69114286,
          3179656.828,
          3179650.3060000003,
          3179650.208,
          3179650.78464286,
          3179650.77314286,
          3179650.78833333,
          3179728.1580000003,
          3179728.21,
          3179728.144,
          3179728.21,
          3179722.748,
          3179713.22,
          3179670.8019999997,
          3179648.486,
          3179691.3039999995,
          3179692.1980000003,
          3179718.17342857,
          3179718.5760000004,
          3179683.1180000002,
          3179682.749,
          3179683.334,
          3179667.1119999997,
          3179667.14,
          3179666.838,
          3179666.895,
          3179666.792,
          3179666.012,
          3179666,
          3179665.894,
          3179673.645,
          3179673.793,
          3179711.111,
          3179711.025,
          3179711.02,
          3179714.4439999997,
          3179689.0239999997,
          3179689.244,
          3179689.307,
          3179667.0069999998,
          3179667.083,
          3179667.164,
          3179681.421,
          3179681.298,
          3179684.854,
          3179691.232,
          3179693.755,
          3179695.163,
          3179699.336,
          3179718.2169999997,
          3179728.245,
          3179728.1610000003,
          3179728.203,
          3179722.545,
          3179720.5239999997,
          3179712.943,
          3179709.244,
          3179705.8419999997,
          3179693.164,
          3179685.3060000003,
          3179682.78,
          3179679.208,
          3179674.752,
          3179670.7189999996,
          3179659.828,
          3179653.7860000003,
          3179648.472,
          3179648.775,
          3179649.202,
          3179649.534,
          3179650.123,
          3179683.8910000003,
          3179685.2739999997,
          3179686.369,
          3179686.083,
          3179708.898,
          3179666.068,
          3179675.557,
          3179669.5539999995,
          3179672.615,
          3179676.309,
          3179681.577,
          3179679.97,
          3179668.023,
          3179683.216,
          3179662.788,
          3179706.393,
          3179696.165,
          3179687.133,
          3179681.0069999998,
          3179652.3210000005,
          3179661.08,
          3179681.42,
          3179681.308,
          3179683.7989999996,
          3179683.8,
          3179686.334,
          3179685.957,
          3179728.1119999997,
          3179728.1969999997,
          3179696.84,
          3179693.175,
          3179685.14,
          3179679.1769999997,
          3179699.3030000003,
          3179718.558,
          3179692.2,
          3179727.58,
          3179728.251,
          3179651.341,
          3179648.475,
          3179649.276,
          3179649.7139999997,
          3179650.352,
          3179651.397,
          3179681.099,
          3179681.202,
          3179684.526,
          3179722.787,
          3179713.349,
          3179705.04,
          3179693.1569999997,
          3179685.165,
          3179679.24,
          3179691.313,
          3179692.202,
          3179728.211,
          3179728.252,
          3179699.41,
          3179718.5069999998,
          3179713.142,
          3179705.115,
          3179685.3860000004,
          3179679.64,
          3179681.142,
          3179681.352,
          3179684.88,
          3179691.308,
          3179713.2630000003,
          3179728.202,
          3179728.153,
          3179722.788,
          3179713.474,
          3179684.923,
          3179679.539,
          3179669.4310000003,
          3179728.369,
          3179693.682,
          3179718.478,
          3179727.7630000003,
          3179672.547,
          3179676.28,
          3179681.462,
          3179685.168,
          3179689.481,
          3179691.46,
          3179692.2369999997,
          3179695.1989999996,
          3179662.765,
          3179649.32,
          3179650.473,
          3179651.415,
          3179710.942,
          3179714.212,
          3179728.272,
          3179655.61,
          3179648.481,
          3179728.3639999996,
          3179728.236,
          3179699.352,
          3179707.9839999997,
          3179718.472,
          3179727.887,
          3179722.9439999997,
          3179669.937,
          3179672.224,
          3179676.182,
          3179681.7810000004,
          3179681.375,
          3179685.146,
          3179666.966,
          3179667.269,
          3179664.416,
          3179663.409,
          3179659.106,
          3179658.522,
          3179652.995,
          3179652.525,
          3179649.503,
          3179647.3260000004,
          3179646.166,
          3179643.847,
          3179643.562,
          3179643.623,
          3179642.47,
          3179645.039,
          3179644.537,
          3179644.0039999997,
          3179644.628,
          3179643.244,
          3179644.027,
          3179647.39,
          3179645.317,
          3179645.796,
          3179645.689,
          3179689.855,
          3179684.186,
          3179685.095,
          3179684.57,
          3179693.4469999997,
          3179691.713,
          3179692.247,
          3179692.3210000005,
          3179688.349,
          3179684.256,
          3179689.863,
          3179692.15,
          3179694.673,
          3179696.5,
          3179689.6010000003,
          3179691.9510000004,
          3179693.624,
          3179696.4289999995,
          3179722.499,
          3179713.83,
          3179700.317,
          3179722.9480000003,
          3179711.789,
          3179702.0960000004,
          3179700.6,
          3179700.808,
          3179694.8019999997,
          3179694.7139999997,
          3179692.264,
          3179692.1610000003,
          3179701.3310000002,
          3179701.2819999997,
          3179701.165,
          3179708.619,
          3179708.5939999996,
          3179717.035,
          3179717.001,
          3179719.765,
          3179718.127,
          3179722.642,
          3179718.085,
          3179727.152,
          3179689.5039999997,
          3179714.1380000003,
          3179683.403,
          3179729.503,
          3179729.692,
          3179728.389,
          3179685.961,
          3179690.648,
          3179694.645,
          3179684.965,
          3179686.465,
          3179685.356,
          3179689.2210000004,
          3179690.4760000003,
          3179690.328,
          3179649.768,
          3179649.8419999997,
          3179649.137,
          3179649.233,
          3179649.186,
          3179648.401,
          3179648.483,
          3179648.483,
          3179650.519,
          3179650.462,
          3179650.5039999997,
          3179688.5730000003,
          3179728.501,
          3179729.2789999996,
          3179729.385,
          3179724.1769999997,
          3179688.9280000003,
          3179690.1089999997,
          3179728.314,
          3179715.8989999997,
          3179705.7460000003,
          3179728.22,
          3179728.2010000004,
          3179724.4,
          3179715.8680000002,
          3179690.5089999996,
          3179685.861,
          3179681.332,
          3179683.402,
          3179680.367,
          3179683.401,
          3179705.619,
          3179694.639,
          3179681.454,
          3179684.195,
          3179686.459,
          3179684.144,
          3179683.039,
          3179690.1539999996,
          3179688.3605,
          3179689.9460000005,
          3179689.416,
          3179689.2339999997,
          3179684.559,
          3179656.687,
          3179656.8239999996,
          3179683.082,
          3179685.005,
          3179681.637,
          3179686.457,
          3179685.2819999997,
          3179686.79,
          3179683.0330000003,
          3179684.128,
          3179686.639,
          3179690.9689999996,
          3179694.4669999997,
          3179707.256,
          3179728.2410000004,
          3179682.085,
          3179681.185,
          3179686.785,
          3179690.613,
          3179705.5,
          3179716.057,
          3179727.58,
          3179728.1769999997,
          3179706.865,
          3179703.848,
          3179656.835,
          3179650.2989999996,
          3179650.202,
          3179650.225,
          3179650.777,
          3179650.76,
          3179650.7819999997,
          3179662.433,
          3179670.8230000003,
          3179680.028,
          3179681.72,
          3179683.724,
          3179703.8310000002,
          3179727.0110000004,
          3179719.0960000004,
          3179687.1560000004,
          3179704.672,
          3179709.887,
          3179714.7189999996,
          3179719.363,
          3179708.9710000004,
          3179611.722,
          3179611.84,
          3179614.5039999997,
          3179618.17,
          3179617.334,
          3179617.5069999998,
          3179612.348,
          3179623.0039999997,
          3179622.512,
          3179620.841,
          3179622.3710000003,
          3179623.486,
          3179624.1789999995,
          3179622.914,
          3179626.3419999997,
          3179618.923,
          3179627.626,
          3179634.355,
          3179634.173,
          3179633.91,
          3179633.006,
          3179626.8060000003,
          3179622.2860000003,
          3179622.567,
          3179621.52,
          3179621.8030000003,
          3179622.6360000004,
          3179627.403,
          3179626.204,
          3179625.963,
          3179623.9760000003,
          3179615.749,
          3179616.4080000003,
          3179618.443,
          3179613.624,
          3179684.28,
          3179694.668,
          3179701.483,
          3179702.192,
          3179704.4680000003,
          3179703.327,
          3179675.6769999997,
          3179676.975,
          3179681.4469999997,
          3179680.855,
          3179680.852,
          3179681.2810000004,
          3179708.79,
          3179708.3060000003,
          3179708.0719999997,
          3179708.784,
          3179708.298,
          3179702.1739999996,
          3179720.098,
          3179722.587,
          3179720.512,
          3179725.4,
          3179725.461,
          3179716.37,
          3179716.3680000002,
          3179713.058,
          3179713.057
         ],
         "z": [
          149.329979591837,
          145.7223,
          141.951807692308,
          142.35635922330098,
          145.443230769231,
          145.529804232804,
          147.260912568306,
          124.48100000000001,
          124.4546,
          126.756818181818,
          126.76,
          126.73909090909099,
          126.734909090909,
          126.841090909091,
          126.855,
          142.288333333333,
          142.991,
          140.851333333333,
          141.16299999999998,
          126.264,
          126.26100000000001,
          126.2505,
          126.525,
          126.52600000000001,
          126.52,
          125.215,
          131.96447368421101,
          131.955736842105,
          138.88388421052602,
          142.922,
          142.09,
          142.097,
          125.196,
          137.4991,
          136.333,
          136.601,
          136.317,
          136.53,
          136.167,
          146.638,
          141.702025641026,
          141.513025641026,
          144.52090833333298,
          144.50199152542402,
          137.523,
          142.801032967033,
          137.5259,
          137.52,
          137.525,
          137.518625,
          146.501435897436,
          137.50996999999998,
          133.001,
          132.997,
          133.092,
          133.02807692307698,
          133.076,
          132.731,
          132.825,
          132.703857142857,
          132.878875,
          141.49292,
          141.525571428571,
          141.031690909091,
          141.111070484581,
          144.968677902622,
          137.503950413223,
          128.24,
          128.2402,
          129.3854,
          128.96,
          129.019,
          128.69899999999998,
          128.765,
          128.725,
          145.146051282051,
          125.009,
          125.01700000000001,
          125.005,
          123.331,
          125.0258,
          125.24,
          126.79,
          145.084986046511,
          149.462806949807,
          137.522990243902,
          149.677025641026,
          137.501333333333,
          151.639436607339,
          151.958444015444,
          143.46625,
          143.45184444444402,
          143.461,
          142.9755,
          127.179,
          126.22,
          143.111978723404,
          139.30444680851102,
          137.53697872340402,
          135.548958333333,
          133.737617021277,
          129.921,
          130.139961538461,
          130.12133333333298,
          137.5,
          137.4901,
          137.5499,
          137.70985,
          137.620125,
          132.125352941176,
          131.953647058824,
          135.918470588235,
          135.751882352941,
          137.584764705882,
          129.965,
          130.2266,
          148.968663636364,
          145.415,
          149.57232,
          145.680239130435,
          150.088883333333,
          146.643293290043,
          151.211259079903,
          149.53510738255,
          150.669428571429,
          146.43990336134502,
          120.596,
          155.240571428571,
          127.54700000000001,
          127.221,
          127.208,
          126.9,
          127.117,
          126.79,
          127.18015,
          127.191833333333,
          127.223333333333,
          153.72973705611298,
          152.47285561497299,
          149.952253325942,
          153.57335294117598,
          153.099857142857,
          154.739857142857,
          125.045,
          125.01700000000001,
          125.044,
          125.04,
          126.87200000000001,
          126.877076923077,
          126.838,
          126.787,
          126.94092307692301,
          126.932,
          142.99200000000002,
          140.85,
          120.296,
          123.295,
          138.111005347594,
          135.206417112299,
          132.218,
          125.087730769231,
          137.8438,
          134.843897849462,
          131.75660215053801,
          125.0615,
          138.096909090909,
          132.095625,
          129.075,
          124.999408163265,
          137.880333333333,
          134.887666666667,
          131.8788,
          137.36,
          134.36,
          138.282,
          135.15,
          132.122,
          137.944,
          135.016,
          131.7152,
          127.79746000000002,
          144.15,
          127.94,
          128.106,
          143.466,
          143.61,
          126.225,
          127.625666666667,
          138.006636363636,
          137.958,
          137.689222222222,
          133.679875,
          133.6488,
          133.39975,
          133.62,
          120.594285714286,
          129.281714285714,
          129.294571428571,
          129.281,
          148.969,
          145.41899999999998,
          149.572,
          145.68,
          150.088,
          146.643,
          125.782697674419,
          126.116,
          116.742,
          116.74700000000001,
          116.68,
          109.76899999999999,
          109.655,
          127.223777777778,
          127.178333333333,
          127.7,
          127.99799999999999,
          120.37557142857099,
          120.87200000000001,
          127.729,
          127.76799999999999,
          127.923125,
          128.142,
          118.755,
          118.9124,
          121.639,
          109.82,
          107.639,
          100.029,
          119.698,
          114.025,
          106.626666666667,
          99.854,
          116.009,
          98.228,
          116.19200000000001,
          105.39200000000001,
          97.14200000000001,
          138.132,
          135.224,
          137.85299999999998,
          134.859,
          131.840785714286,
          138.105857142857,
          132.107928571429,
          137.891,
          134.8948,
          131.889,
          137.361857142857,
          134.369,
          138.2978,
          135.1635,
          137.960928571429,
          135.029,
          131.728666666667,
          109.899,
          101.311,
          116.53200000000001,
          101.311,
          101.02799999999999,
          111.478,
          124.088,
          98.19,
          114.219,
          114.734,
          117.708,
          114.64983333333299,
          119.676,
          113.993,
          106.583,
          123.581,
          116,
          124.13799999999999,
          116.17,
          105.382,
          120.211,
          115.335,
          103.779,
          120.93299999999999,
          106.23899999999999,
          118.37700000000001,
          113.145,
          106.677,
          113.23299999999999,
          124.155,
          115.756,
          106.728,
          122.171,
          115.891,
          107.89299999999999,
          120.21799999999999,
          119.964,
          119.92,
          119.713,
          119.743,
          119.71600000000001,
          117.215,
          117.68799999999999,
          120.103,
          119.962,
          120.5,
          121.007,
          120.759,
          121.164,
          120.586,
          121.01799999999999,
          122.117,
          122.23899999999999,
          124.044,
          122.249,
          125.184,
          124.064,
          122.50299999999999,
          122.97399999999999,
          123.963,
          125.14399999999999,
          125.743,
          126.012,
          126.102,
          115.833,
          115.56299999999999,
          115.70299999999999,
          115.67,
          109.065,
          114.96,
          114.88799999999999,
          107.635,
          107.603,
          107.492,
          107.57,
          114.11200000000001,
          115.265,
          114.005,
          107.941,
          124.58,
          124.854,
          125.23700000000001,
          125.23299999999999,
          125.23899999999999,
          125.213,
          117.475,
          117.515,
          112.07,
          112.069,
          111.92399999999999,
          112.009,
          116.93,
          116.507,
          115.56200000000001,
          118.382,
          118.39299999999999,
          118.43,
          114.779,
          114.645,
          115.041,
          109.02,
          108.839,
          113.039,
          113.51,
          113.25200000000001,
          113.465,
          113.958,
          113.47399999999999,
          113.73,
          113.87100000000001,
          113.801,
          115.435,
          115.485,
          114.876,
          115.38600000000001,
          115.329,
          115.385,
          114.214,
          114.728,
          109.866,
          109.572,
          109.338,
          109.206,
          109.54899999999999,
          111.189,
          111.652,
          111.676,
          110.445,
          111.133,
          111.385,
          111.693,
          111.436,
          101.303,
          100.836,
          100.98200000000001,
          101.064,
          103.536,
          103.56,
          102.22,
          101.564,
          105.323,
          102.48,
          100.941,
          103.085,
          103.115,
          103.411,
          103.337,
          103.86399999999999,
          104.066,
          104.20100000000001,
          103.509,
          102.977,
          101.54799999999999,
          101.868,
          102.685,
          101.05799999999999,
          97.134,
          95.85700000000001,
          98.2,
          98.185,
          96.603,
          96.104,
          99.368,
          99.359,
          98.794,
          97.351,
          98.339,
          98,
          98.35799999999999,
          98.57600000000001,
          98.994,
          98.84200000000001,
          98.719,
          129.51,
          134.322,
          134.86,
          133.855,
          133.983,
          130.7,
          133.863,
          130.263,
          132.17,
          135.49,
          131.92600000000002,
          134.07299999999998,
          131.976,
          135.375,
          131.678,
          135.095,
          137.53,
          131.69,
          136.525,
          132.594,
          130.664,
          137.776,
          131.41,
          131.458,
          133.881,
          146.507,
          144.975,
          145.157,
          145.082,
          149.465,
          149.683,
          151.642,
          151.97,
          141.71,
          141.515,
          146.656,
          145.668,
          144.54,
          142.811,
          141.57299999999998,
          141.532,
          141.045,
          141.12,
          145.734,
          145.455,
          145.53799999999998,
          142.44,
          142.034,
          142.364,
          144.994,
          143.308,
          147.279,
          146.045,
          149.346,
          147.736,
          153.732,
          152.48,
          149.958,
          153.576,
          151.733,
          154.555,
          153.424,
          154.566,
          137.284,
          137.27100000000002,
          133.19,
          134.738,
          150.099,
          141.955,
          142.991,
          131.955,
          138.877,
          137.523,
          137.52100000000002,
          137.516,
          137.515,
          143.607,
          143.602,
          143.61,
          150.675,
          151.224,
          149.54,
          138.118,
          135.214,
          137.842,
          134.85,
          131.761,
          138.095,
          132.093,
          132.094,
          137.878,
          134.886,
          131.877,
          146.447,
          142.922,
          142.09,
          142.097,
          137.52,
          145.776,
          148.11700000000002,
          137.526,
          137.525,
          137.513,
          132.999,
          133,
          133.092,
          133.02700000000002,
          132.822,
          132.705,
          132.879,
          142.989,
          140.8575,
          142.989,
          133.075,
          132.731,
          137.501,
          143.069,
          137.584,
          137.713,
          137.616,
          149.289,
          144.501,
          149.591,
          145.6985,
          150.68,
          145.082,
          137.358,
          134.358,
          138.005,
          137.696,
          137.958,
          137.582,
          135.908,
          135.753,
          132.125,
          131.953,
          136.167,
          136.53,
          136.317,
          136.601,
          136.333,
          128.725,
          128.765,
          128.69899999999998,
          129.019,
          128.96,
          129.386,
          129.452,
          128.24,
          155.237,
          153.095,
          131.363,
          138.284,
          135.149,
          132.123,
          137.946,
          135.016,
          131.714,
          133.674,
          133.675,
          133.399,
          133.615,
          133.332,
          154.741,
          127.042,
          127.29700000000001,
          128.415,
          127.625,
          127.691,
          127.59299999999999,
          125.185,
          125.387,
          98.885,
          94.14,
          91.163,
          92.258,
          90.318,
          90.641,
          91.292,
          108.478,
          110.484,
          98.92,
          109.554,
          116.04799999999999,
          113.205,
          106.094,
          117.819,
          98.50299999999999,
          118.639,
          125.975,
          127.288,
          125.96799999999999,
          129.442,
          130.644,
          123.632,
          119.94200000000001,
          113.042,
          118.396,
          123.766,
          135.113,
          133.99,
          128.201,
          120.51,
          107.056,
          102.586,
          100.421,
          100.125,
          146.505,
          148.157,
          150.21,
          151.102,
          152.09,
          152.806,
          145.111,
          145.374,
          144.10399999999998,
          145.555,
          144.35399999999998,
          146.339,
          156.297,
          156.523,
          157.014,
          156.291,
          156.518,
          151.084,
          161.475,
          163.247,
          155.053,
          155.142,
          154.149,
          155.196,
          154.164,
          154.178,
          152.085
         ]
        }
       ],
       "layout": {
        "template": {
         "data": {
          "bar": [
           {
            "error_x": {
             "color": "#2a3f5f"
            },
            "error_y": {
             "color": "#2a3f5f"
            },
            "marker": {
             "line": {
              "color": "#E5ECF6",
              "width": 0.5
             }
            },
            "type": "bar"
           }
          ],
          "barpolar": [
           {
            "marker": {
             "line": {
              "color": "#E5ECF6",
              "width": 0.5
             }
            },
            "type": "barpolar"
           }
          ],
          "carpet": [
           {
            "aaxis": {
             "endlinecolor": "#2a3f5f",
             "gridcolor": "white",
             "linecolor": "white",
             "minorgridcolor": "white",
             "startlinecolor": "#2a3f5f"
            },
            "baxis": {
             "endlinecolor": "#2a3f5f",
             "gridcolor": "white",
             "linecolor": "white",
             "minorgridcolor": "white",
             "startlinecolor": "#2a3f5f"
            },
            "type": "carpet"
           }
          ],
          "choropleth": [
           {
            "colorbar": {
             "outlinewidth": 0,
             "ticks": ""
            },
            "type": "choropleth"
           }
          ],
          "contour": [
           {
            "colorbar": {
             "outlinewidth": 0,
             "ticks": ""
            },
            "colorscale": [
             [
              0,
              "#0d0887"
             ],
             [
              0.1111111111111111,
              "#46039f"
             ],
             [
              0.2222222222222222,
              "#7201a8"
             ],
             [
              0.3333333333333333,
              "#9c179e"
             ],
             [
              0.4444444444444444,
              "#bd3786"
             ],
             [
              0.5555555555555556,
              "#d8576b"
             ],
             [
              0.6666666666666666,
              "#ed7953"
             ],
             [
              0.7777777777777778,
              "#fb9f3a"
             ],
             [
              0.8888888888888888,
              "#fdca26"
             ],
             [
              1,
              "#f0f921"
             ]
            ],
            "type": "contour"
           }
          ],
          "contourcarpet": [
           {
            "colorbar": {
             "outlinewidth": 0,
             "ticks": ""
            },
            "type": "contourcarpet"
           }
          ],
          "heatmap": [
           {
            "colorbar": {
             "outlinewidth": 0,
             "ticks": ""
            },
            "colorscale": [
             [
              0,
              "#0d0887"
             ],
             [
              0.1111111111111111,
              "#46039f"
             ],
             [
              0.2222222222222222,
              "#7201a8"
             ],
             [
              0.3333333333333333,
              "#9c179e"
             ],
             [
              0.4444444444444444,
              "#bd3786"
             ],
             [
              0.5555555555555556,
              "#d8576b"
             ],
             [
              0.6666666666666666,
              "#ed7953"
             ],
             [
              0.7777777777777778,
              "#fb9f3a"
             ],
             [
              0.8888888888888888,
              "#fdca26"
             ],
             [
              1,
              "#f0f921"
             ]
            ],
            "type": "heatmap"
           }
          ],
          "heatmapgl": [
           {
            "colorbar": {
             "outlinewidth": 0,
             "ticks": ""
            },
            "colorscale": [
             [
              0,
              "#0d0887"
             ],
             [
              0.1111111111111111,
              "#46039f"
             ],
             [
              0.2222222222222222,
              "#7201a8"
             ],
             [
              0.3333333333333333,
              "#9c179e"
             ],
             [
              0.4444444444444444,
              "#bd3786"
             ],
             [
              0.5555555555555556,
              "#d8576b"
             ],
             [
              0.6666666666666666,
              "#ed7953"
             ],
             [
              0.7777777777777778,
              "#fb9f3a"
             ],
             [
              0.8888888888888888,
              "#fdca26"
             ],
             [
              1,
              "#f0f921"
             ]
            ],
            "type": "heatmapgl"
           }
          ],
          "histogram": [
           {
            "marker": {
             "colorbar": {
              "outlinewidth": 0,
              "ticks": ""
             }
            },
            "type": "histogram"
           }
          ],
          "histogram2d": [
           {
            "colorbar": {
             "outlinewidth": 0,
             "ticks": ""
            },
            "colorscale": [
             [
              0,
              "#0d0887"
             ],
             [
              0.1111111111111111,
              "#46039f"
             ],
             [
              0.2222222222222222,
              "#7201a8"
             ],
             [
              0.3333333333333333,
              "#9c179e"
             ],
             [
              0.4444444444444444,
              "#bd3786"
             ],
             [
              0.5555555555555556,
              "#d8576b"
             ],
             [
              0.6666666666666666,
              "#ed7953"
             ],
             [
              0.7777777777777778,
              "#fb9f3a"
             ],
             [
              0.8888888888888888,
              "#fdca26"
             ],
             [
              1,
              "#f0f921"
             ]
            ],
            "type": "histogram2d"
           }
          ],
          "histogram2dcontour": [
           {
            "colorbar": {
             "outlinewidth": 0,
             "ticks": ""
            },
            "colorscale": [
             [
              0,
              "#0d0887"
             ],
             [
              0.1111111111111111,
              "#46039f"
             ],
             [
              0.2222222222222222,
              "#7201a8"
             ],
             [
              0.3333333333333333,
              "#9c179e"
             ],
             [
              0.4444444444444444,
              "#bd3786"
             ],
             [
              0.5555555555555556,
              "#d8576b"
             ],
             [
              0.6666666666666666,
              "#ed7953"
             ],
             [
              0.7777777777777778,
              "#fb9f3a"
             ],
             [
              0.8888888888888888,
              "#fdca26"
             ],
             [
              1,
              "#f0f921"
             ]
            ],
            "type": "histogram2dcontour"
           }
          ],
          "mesh3d": [
           {
            "colorbar": {
             "outlinewidth": 0,
             "ticks": ""
            },
            "type": "mesh3d"
           }
          ],
          "parcoords": [
           {
            "line": {
             "colorbar": {
              "outlinewidth": 0,
              "ticks": ""
             }
            },
            "type": "parcoords"
           }
          ],
          "pie": [
           {
            "automargin": true,
            "type": "pie"
           }
          ],
          "scatter": [
           {
            "marker": {
             "colorbar": {
              "outlinewidth": 0,
              "ticks": ""
             }
            },
            "type": "scatter"
           }
          ],
          "scatter3d": [
           {
            "line": {
             "colorbar": {
              "outlinewidth": 0,
              "ticks": ""
             }
            },
            "marker": {
             "colorbar": {
              "outlinewidth": 0,
              "ticks": ""
             }
            },
            "type": "scatter3d"
           }
          ],
          "scattercarpet": [
           {
            "marker": {
             "colorbar": {
              "outlinewidth": 0,
              "ticks": ""
             }
            },
            "type": "scattercarpet"
           }
          ],
          "scattergeo": [
           {
            "marker": {
             "colorbar": {
              "outlinewidth": 0,
              "ticks": ""
             }
            },
            "type": "scattergeo"
           }
          ],
          "scattergl": [
           {
            "marker": {
             "colorbar": {
              "outlinewidth": 0,
              "ticks": ""
             }
            },
            "type": "scattergl"
           }
          ],
          "scattermapbox": [
           {
            "marker": {
             "colorbar": {
              "outlinewidth": 0,
              "ticks": ""
             }
            },
            "type": "scattermapbox"
           }
          ],
          "scatterpolar": [
           {
            "marker": {
             "colorbar": {
              "outlinewidth": 0,
              "ticks": ""
             }
            },
            "type": "scatterpolar"
           }
          ],
          "scatterpolargl": [
           {
            "marker": {
             "colorbar": {
              "outlinewidth": 0,
              "ticks": ""
             }
            },
            "type": "scatterpolargl"
           }
          ],
          "scatterternary": [
           {
            "marker": {
             "colorbar": {
              "outlinewidth": 0,
              "ticks": ""
             }
            },
            "type": "scatterternary"
           }
          ],
          "surface": [
           {
            "colorbar": {
             "outlinewidth": 0,
             "ticks": ""
            },
            "colorscale": [
             [
              0,
              "#0d0887"
             ],
             [
              0.1111111111111111,
              "#46039f"
             ],
             [
              0.2222222222222222,
              "#7201a8"
             ],
             [
              0.3333333333333333,
              "#9c179e"
             ],
             [
              0.4444444444444444,
              "#bd3786"
             ],
             [
              0.5555555555555556,
              "#d8576b"
             ],
             [
              0.6666666666666666,
              "#ed7953"
             ],
             [
              0.7777777777777778,
              "#fb9f3a"
             ],
             [
              0.8888888888888888,
              "#fdca26"
             ],
             [
              1,
              "#f0f921"
             ]
            ],
            "type": "surface"
           }
          ],
          "table": [
           {
            "cells": {
             "fill": {
              "color": "#EBF0F8"
             },
             "line": {
              "color": "white"
             }
            },
            "header": {
             "fill": {
              "color": "#C8D4E3"
             },
             "line": {
              "color": "white"
             }
            },
            "type": "table"
           }
          ]
         },
         "layout": {
          "annotationdefaults": {
           "arrowcolor": "#2a3f5f",
           "arrowhead": 0,
           "arrowwidth": 1
          },
          "coloraxis": {
           "colorbar": {
            "outlinewidth": 0,
            "ticks": ""
           }
          },
          "colorscale": {
           "diverging": [
            [
             0,
             "#8e0152"
            ],
            [
             0.1,
             "#c51b7d"
            ],
            [
             0.2,
             "#de77ae"
            ],
            [
             0.3,
             "#f1b6da"
            ],
            [
             0.4,
             "#fde0ef"
            ],
            [
             0.5,
             "#f7f7f7"
            ],
            [
             0.6,
             "#e6f5d0"
            ],
            [
             0.7,
             "#b8e186"
            ],
            [
             0.8,
             "#7fbc41"
            ],
            [
             0.9,
             "#4d9221"
            ],
            [
             1,
             "#276419"
            ]
           ],
           "sequential": [
            [
             0,
             "#0d0887"
            ],
            [
             0.1111111111111111,
             "#46039f"
            ],
            [
             0.2222222222222222,
             "#7201a8"
            ],
            [
             0.3333333333333333,
             "#9c179e"
            ],
            [
             0.4444444444444444,
             "#bd3786"
            ],
            [
             0.5555555555555556,
             "#d8576b"
            ],
            [
             0.6666666666666666,
             "#ed7953"
            ],
            [
             0.7777777777777778,
             "#fb9f3a"
            ],
            [
             0.8888888888888888,
             "#fdca26"
            ],
            [
             1,
             "#f0f921"
            ]
           ],
           "sequentialminus": [
            [
             0,
             "#0d0887"
            ],
            [
             0.1111111111111111,
             "#46039f"
            ],
            [
             0.2222222222222222,
             "#7201a8"
            ],
            [
             0.3333333333333333,
             "#9c179e"
            ],
            [
             0.4444444444444444,
             "#bd3786"
            ],
            [
             0.5555555555555556,
             "#d8576b"
            ],
            [
             0.6666666666666666,
             "#ed7953"
            ],
            [
             0.7777777777777778,
             "#fb9f3a"
            ],
            [
             0.8888888888888888,
             "#fdca26"
            ],
            [
             1,
             "#f0f921"
            ]
           ]
          },
          "colorway": [
           "#636efa",
           "#EF553B",
           "#00cc96",
           "#ab63fa",
           "#FFA15A",
           "#19d3f3",
           "#FF6692",
           "#B6E880",
           "#FF97FF",
           "#FECB52"
          ],
          "font": {
           "color": "#2a3f5f"
          },
          "geo": {
           "bgcolor": "white",
           "lakecolor": "white",
           "landcolor": "#E5ECF6",
           "showlakes": true,
           "showland": true,
           "subunitcolor": "white"
          },
          "hoverlabel": {
           "align": "left"
          },
          "hovermode": "closest",
          "mapbox": {
           "style": "light"
          },
          "paper_bgcolor": "white",
          "plot_bgcolor": "#E5ECF6",
          "polar": {
           "angularaxis": {
            "gridcolor": "white",
            "linecolor": "white",
            "ticks": ""
           },
           "bgcolor": "#E5ECF6",
           "radialaxis": {
            "gridcolor": "white",
            "linecolor": "white",
            "ticks": ""
           }
          },
          "scene": {
           "xaxis": {
            "backgroundcolor": "#E5ECF6",
            "gridcolor": "white",
            "gridwidth": 2,
            "linecolor": "white",
            "showbackground": true,
            "ticks": "",
            "zerolinecolor": "white"
           },
           "yaxis": {
            "backgroundcolor": "#E5ECF6",
            "gridcolor": "white",
            "gridwidth": 2,
            "linecolor": "white",
            "showbackground": true,
            "ticks": "",
            "zerolinecolor": "white"
           },
           "zaxis": {
            "backgroundcolor": "#E5ECF6",
            "gridcolor": "white",
            "gridwidth": 2,
            "linecolor": "white",
            "showbackground": true,
            "ticks": "",
            "zerolinecolor": "white"
           }
          },
          "shapedefaults": {
           "line": {
            "color": "#2a3f5f"
           }
          },
          "ternary": {
           "aaxis": {
            "gridcolor": "white",
            "linecolor": "white",
            "ticks": ""
           },
           "baxis": {
            "gridcolor": "white",
            "linecolor": "white",
            "ticks": ""
           },
           "bgcolor": "#E5ECF6",
           "caxis": {
            "gridcolor": "white",
            "linecolor": "white",
            "ticks": ""
           }
          },
          "title": {
           "x": 0.05
          },
          "xaxis": {
           "automargin": true,
           "gridcolor": "white",
           "linecolor": "white",
           "ticks": "",
           "title": {
            "standoff": 15
           },
           "zerolinecolor": "white",
           "zerolinewidth": 2
          },
          "yaxis": {
           "automargin": true,
           "gridcolor": "white",
           "linecolor": "white",
           "ticks": "",
           "title": {
            "standoff": 15
           },
           "zerolinecolor": "white",
           "zerolinewidth": 2
          }
         }
        }
       }
      },
      "text/html": [
       "<div>                            <div id=\"a65a2212-0d51-4cd4-a2e0-554beab616d0\" class=\"plotly-graph-div\" style=\"height:525px; width:100%;\"></div>            <script type=\"text/javascript\">                require([\"plotly\"], function(Plotly) {                    window.PLOTLYENV=window.PLOTLYENV || {};                                    if (document.getElementById(\"a65a2212-0d51-4cd4-a2e0-554beab616d0\")) {                    Plotly.newPlot(                        \"a65a2212-0d51-4cd4-a2e0-554beab616d0\",                        [{\"customdata\": [[\"Auto-AC11a\", \"Hors secteur\"], [\"Auto-AC1Ba\", \"Hors secteur\"], [\"Auto-AC311a\", \"Hors secteur\"], [\"Auto-AC32a\", \"Hors secteur\"], [\"Auto-AC5Ba\", \"Hors secteur\"], [\"Auto-AC7Ba\", \"Hors secteur\"], [\"Auto-AC9a\", \"Hors secteur\"], [\"Auto-B11a\", \"Hors secteur\"], [\"Auto-B12a\", \"Hors secteur\"], [\"Auto-B41a\", \"Hors secteur\"], [\"Auto-B42a\", \"Hors secteur\"], [\"Auto-B51a\", \"Hors secteur\"], [\"Auto-B52a\", \"Hors secteur\"], [\"Auto-B61a\", \"Hors secteur\"], [\"Auto-B62a\", \"Hors secteur\"], [\"Auto-BAPM.4a\", \"Hors secteur\"], [\"Auto-BAPM1.1a\", \"Hors secteur\"], [\"Auto-BAPM2.1a\", \"Hors secteur\"], [\"Auto-BAPM3.1a\", \"Hors secteur\"], [\"Auto-G11a\", \"Hors secteur\"], [\"Auto-G12a\", \"Hors secteur\"], [\"Auto-G13a\", \"Hors secteur\"], [\"Auto-GR2.1a\", \"Hors secteur\"], [\"Auto-GR2.2a\", \"Hors secteur\"], [\"Auto-GR2.3a\", \"Hors secteur\"], [\"Auto-MS20a\", \"Hors secteur\"], [\"Auto-MS21a\", \"Hors secteur\"], [\"Auto-MS22a\", \"Hors secteur\"], [\"Auto-MS25a\", \"Hors secteur\"], [\"Auto-MS26a\", \"Hors secteur\"], [\"Auto-MS27a\", \"Hors secteur\"], [\"Auto-MS31a\", \"Hors secteur\"], [\"Auto-MS32a\", \"Hors secteur\"], [\"Auto-PC1.1a\", \"Hors secteur\"], [\"Auto-PC101a\", \"Hors secteur\"], [\"Auto-PC105a\", \"Hors secteur\"], [\"Auto-PC106a\", \"Hors secteur\"], [\"Auto-PC107a\", \"Hors secteur\"], [\"Auto-PC108a\", \"Hors secteur\"], [\"Auto-PC10a\", \"Hors secteur\"], [\"Auto-PC111a\", \"Hors secteur\"], [\"Auto-PC112a\", \"Hors secteur\"], [\"Auto-PC11a\", \"Hors secteur\"], [\"Auto-PC12a\", \"Hors secteur\"], [\"Auto-PC13.1a\", \"Hors secteur\"], [\"Auto-PC13a\", \"Hors secteur\"], [\"Auto-PC14.1a\", \"Hors secteur\"], [\"Auto-PC15.1a\", \"Hors secteur\"], [\"Auto-PC16.1a\", \"Hors secteur\"], [\"Auto-PC17.1a\", \"Hors secteur\"], [\"Auto-PC1A\", \"Hors secteur\"], [\"Auto-PC2.1a\", \"Hors secteur\"], [\"Auto-PC201a\", \"Hors secteur\"], [\"Auto-PC202a\", \"Hors secteur\"], [\"Auto-PC203a\", \"Hors secteur\"], [\"Auto-PC204a\", \"Hors secteur\"], [\"Auto-PC205a\", \"Hors secteur\"], [\"Auto-PC206a\", \"Hors secteur\"], [\"Auto-PC207a\", \"Hors secteur\"], [\"Auto-PC208a\", \"Hors secteur\"], [\"Auto-PC209a\", \"Hors secteur\"], [\"Auto-PC21a\", \"Hors secteur\"], [\"Auto-PC22a\", \"Hors secteur\"], [\"Auto-PC23a\", \"Hors secteur\"], [\"Auto-PC23Ba\", \"Hors secteur\"], [\"Auto-PC2a\", \"Hors secteur\"], [\"Auto-PC3.1a\", \"Hors secteur\"], [\"Auto-PC301a\", \"Hors secteur\"], [\"Auto-PC302a\", \"Hors secteur\"], [\"Auto-PC304a\", \"Hors secteur\"], [\"Auto-PC305a\", \"Hors secteur\"], [\"Auto-PC307a\", \"Hors secteur\"], [\"Auto-PC308a\", \"Hors secteur\"], [\"Auto-PC309a\", \"Hors secteur\"], [\"Auto-PC310a\", \"Hors secteur\"], [\"Auto-PC3a\", \"Hors secteur\"], [\"Auto-PC401a\", \"Hors secteur\"], [\"Auto-PC402a\", \"Hors secteur\"], [\"Auto-PC403a\", \"Hors secteur\"], [\"Auto-PC450a\", \"Hors secteur\"], [\"Auto-PC451a\", \"Hors secteur\"], [\"Auto-PC452a\", \"Hors secteur\"], [\"Auto-PC453a\", \"Hors secteur\"], [\"Auto-PC4a\", \"Hors secteur\"], [\"Auto-PC5a\", \"Hors secteur\"], [\"Auto-PC6.1a\", \"Hors secteur\"], [\"Auto-PC6A\", \"Hors secteur\"], [\"Auto-PC7.1a\", \"Hors secteur\"], [\"Auto-PC7a\", \"Hors secteur\"], [\"Auto-PC8a\", \"Hors secteur\"], [\"Auto-PCBA.1a\", \"Hors secteur\"], [\"Auto-PCBA.2a\", \"Hors secteur\"], [\"Auto-PCBA.3a\", \"Hors secteur\"], [\"Auto-PCBA.4a\", \"Hors secteur\"], [\"Auto-PD1a\", \"Hors secteur\"], [\"Auto-PD2.a\", \"Hors secteur\"], [\"Auto-PL101a\", \"Hors secteur\"], [\"Auto-PL202a\", \"Hors secteur\"], [\"Auto-PL301a\", \"Hors secteur\"], [\"Auto-PL402a\", \"Hors secteur\"], [\"Auto-PL501a\", \"Hors secteur\"], [\"Auto-PM.603a\", \"Hors secteur\"], [\"Auto-PM.604a\", \"Hors secteur\"], [\"Auto-PM.605a\", \"Hors secteur\"], [\"Auto-PM209a\", \"Hors secteur\"], [\"Auto-PM210a\", \"Hors secteur\"], [\"Auto-PM211a\", \"Hors secteur\"], [\"Auto-PM212a\", \"Hors secteur\"], [\"Auto-PM213a\", \"Hors secteur\"], [\"Auto-PM301a\", \"Hors secteur\"], [\"Auto-PM302a\", \"Hors secteur\"], [\"Auto-PM303a\", \"Hors secteur\"], [\"Auto-PM304a\", \"Hors secteur\"], [\"Auto-PM305a\", \"Hors secteur\"], [\"Auto-PM601a\", \"Hors secteur\"], [\"Auto-PM602a\", \"Hors secteur\"], [\"Auto-PMS.1a\", \"Hors secteur\"], [\"Auto-PMS1.2a\", \"Hors secteur\"], [\"Auto-PMS2.1a\", \"Hors secteur\"], [\"Auto-PMS2.2a\", \"Hors secteur\"], [\"Auto-PMS3.1a\", \"Hors secteur\"], [\"Auto-PMS3.2a\", \"Hors secteur\"], [\"Auto-PMS4.1a\", \"Hors secteur\"], [\"Auto-PMS4.2a\", \"Hors secteur\"], [\"Auto-PMS5.1a\", \"Hors secteur\"], [\"Auto-PMS5.2a\", \"Hors secteur\"], [\"Auto-PR14.1a\", \"Hors secteur\"], [\"Auto-RN7.1a\", \"Hors secteur\"], [\"Auto-TREM1a\", \"Hors secteur\"], [\"Auto-TREM2.1a\", \"Hors secteur\"], [\"Auto-TREM2.2a\", \"Hors secteur\"], [\"Auto-TREM2.3a\", \"Hors secteur\"], [\"Auto-TREM2a\", \"Hors secteur\"], [\"Auto-TREM3.a\", \"Hors secteur\"], [\"Auto-TREM4.a\", \"Hors secteur\"], [\"Auto-TREM5a\", \"Hors secteur\"], [\"Auto-TREM6a\", \"Hors secteur\"], [\"Auto-VJ1a\", \"Hors secteur\"], [\"Auto-VJ2a\", \"Hors secteur\"], [\"Auto-VJ3a\", \"Hors secteur\"], [\"Auto-VJ4a\", \"Hors secteur\"], [\"Auto-VJ6a\", \"Hors secteur\"], [\"Auto-VJ7a\", \"Hors secteur\"], [\"Auto-B13b\", \"Hors secteur\"], [\"Auto-B14b\", \"Hors secteur\"], [\"Auto-B23b\", \"Hors secteur\"], [\"Auto-B24b\", \"Hors secteur\"], [\"Auto-B43b\", \"Hors secteur\"], [\"Auto-B44b\", \"Hors secteur\"], [\"Auto-B53b\", \"Hors secteur\"], [\"Auto-B54b\", \"Hors secteur\"], [\"Auto-B63b\", \"Hors secteur\"], [\"Auto-B64b\", \"Hors secteur\"], [\"Auto-BAPM1.1b\", \"Hors secteur\"], [\"Auto-BAPM2.1b\", \"Hors secteur\"], [\"Auto-DB1b\", \"Hors secteur\"], [\"Auto-DB2b\", \"Hors secteur\"], [\"Auto-F1.1b\", \"Hors secteur\"], [\"Auto-F1.2b\", \"Hors secteur\"], [\"Auto-F1.3b\", \"Hors secteur\"], [\"Auto-F1.4b\", \"Hors secteur\"], [\"Auto-F2.1b\", \"Hors secteur\"], [\"Auto-F2.2b\", \"Hors secteur\"], [\"Auto-F2.3b\", \"Hors secteur\"], [\"Auto-F2.4b\", \"Hors secteur\"], [\"Auto-F3.1b\", \"Hors secteur\"], [\"Auto-F3.2b\", \"Hors secteur\"], [\"Auto-F3.3b\", \"Hors secteur\"], [\"Auto-F3.4b\", \"Hors secteur\"], [\"Auto-F4.1b\", \"Hors secteur\"], [\"Auto-F4.2b\", \"Hors secteur\"], [\"Auto-F4.3b\", \"Hors secteur\"], [\"Auto-F5.1b\", \"Hors secteur\"], [\"Auto-F5.2b\", \"Hors secteur\"], [\"Auto-F6.1b\", \"Hors secteur\"], [\"Auto-F6.2b\", \"Hors secteur\"], [\"Auto-F6.3b\", \"Hors secteur\"], [\"Auto-F7.1b\", \"Hors secteur\"], [\"Auto-F7.2b\", \"Hors secteur\"], [\"Auto-F7.3b\", \"Hors secteur\"], [\"Auto-F7.4b\", \"Hors secteur\"], [\"Auto-GR.2b\", \"Hors secteur\"], [\"Auto-GR3b\", \"Hors secteur\"], [\"Auto-GR4b\", \"Hors secteur\"], [\"Auto-PCBA.1b\", \"Hors secteur\"], [\"Auto-PCBA.2b\", \"Hors secteur\"], [\"Auto-PD.3b\", \"Hors secteur\"], [\"Auto-PD.4b\", \"Hors secteur\"], [\"Auto-PM102b\", \"Hors secteur\"], [\"Auto-PM103b\", \"Hors secteur\"], [\"Auto-PM201b\", \"Hors secteur\"], [\"Auto-PM401b\", \"Hors secteur\"], [\"Auto-PM402b\", \"Hors secteur\"], [\"Auto-PM403b\", \"Hors secteur\"], [\"Auto-PM404b\", \"Hors secteur\"], [\"Auto-PM501b\", \"Hors secteur\"], [\"Auto-PM615b\", \"Hors secteur\"], [\"Auto-PM616b\", \"Hors secteur\"], [\"Auto-PM617b\", \"Hors secteur\"], [\"Auto-PMS.1b\", \"Hors secteur\"], [\"Auto-PMS1.2b\", \"Hors secteur\"], [\"Auto-PMS2.1b\", \"Hors secteur\"], [\"Auto-PMS2.2b\", \"Hors secteur\"], [\"Auto-PMS3.1b\", \"Hors secteur\"], [\"Auto-PMS3.2b\", \"Hors secteur\"], [\"Auto-REFSS6b\", \"Hors secteur\"], [\"Auto-REFSS7b\", \"Hors secteur\"], [\"Auto-TQ101b\", \"Hors secteur\"], [\"Auto-TQ102b\", \"Hors secteur\"], [\"Auto-TQ103b\", \"Hors secteur\"], [\"Auto-TQ202b\", \"Hors secteur\"], [\"Auto-TQ203b\", \"Hors secteur\"], [\"Auto-TREM18.1b\", \"Hors secteur\"], [\"Auto-TREM18.2b\", \"Hors secteur\"], [\"Auto-US101b\", \"Hors secteur\"], [\"Auto-US102b\", \"Hors secteur\"], [\"Auto-US201b\", \"Hors secteur\"], [\"Auto-US202b\", \"Hors secteur\"], [\"Auto-UV101b\", \"Hors secteur\"], [\"Auto-UV102b\", \"Hors secteur\"], [\"Auto-UV103b\", \"Hors secteur\"], [\"Auto-UV104b\", \"Hors secteur\"], [\"Auto-UV201b\", \"Hors secteur\"], [\"Auto-UV202b\", \"Hors secteur\"], [\"Auto-UV203b\", \"Hors secteur\"], [\"Auto-UV303b\", \"Hors secteur\"], [\"Auto-BA2.1d\", \"Hors secteur\"], [\"Auto-BARET10.1d\", \"Hors secteur\"], [\"Auto-BARET11.1d\", \"Hors secteur\"], [\"Auto-BARET11.2d\", \"Hors secteur\"], [\"Auto-BARET11.3d\", \"Hors secteur\"], [\"Auto-BARET11.7d\", \"Hors secteur\"], [\"Auto-BARET2.2d\", \"Hors secteur\"], [\"Auto-BARET2.7d\", \"Hors secteur\"], [\"Auto-BARET3.2d\", \"Hors secteur\"], [\"Auto-BARET3.3d\", \"Hors secteur\"], [\"Auto-BARET9.7d\", \"Hors secteur\"], [\"Auto-F1.1d\", \"Hors secteur\"], [\"Auto-F1.2d\", \"Hors secteur\"], [\"Auto-F2.1d\", \"Hors secteur\"], [\"Auto-F2.2d\", \"Hors secteur\"], [\"Auto-F2.3d\", \"Hors secteur\"], [\"Auto-F3.1d\", \"Hors secteur\"], [\"Auto-F3.2d\", \"Hors secteur\"], [\"Auto-F4.1d\", \"Hors secteur\"], [\"Auto-F4.2d\", \"Hors secteur\"], [\"Auto-F4.3d\", \"Hors secteur\"], [\"Auto-F5.1d\", \"Hors secteur\"], [\"Auto-F5.2d\", \"Hors secteur\"], [\"Auto-F6.1d\", \"Hors secteur\"], [\"Auto-F6.2d\", \"Hors secteur\"], [\"Auto-F7.1d\", \"Hors secteur\"], [\"Auto-F7.2d\", \"Hors secteur\"], [\"Auto-F7.3d\", \"Hors secteur\"], [\"Auto-P11.3d\", \"Hors secteur\"], [\"Auto-P11.4d\", \"Hors secteur\"], [\"Auto-P12.2d\", \"Hors secteur\"], [\"Auto-P12.8d\", \"Hors secteur\"], [\"Auto-P120.6d\", \"Hors secteur\"], [\"Auto-P130.5d\", \"Hors secteur\"], [\"Auto-P17.1d\", \"Hors secteur\"], [\"Auto-P20.7d\", \"Hors secteur\"], [\"Auto-P5.3d\", \"Hors secteur\"], [\"Auto-P50.3d\", \"Hors secteur\"], [\"Auto-P9.1d\", \"Hors secteur\"], [\"Auto-P9.2d\", \"Hors secteur\"], [\"Sd-BARET11.1\", \"Hors secteur\"], [\"Sd-BARET11.2\", \"Hors secteur\"], [\"Sd-BARET11.3\", \"Hors secteur\"], [\"Sd-BARET2.1\", \"Hors secteur\"], [\"Sd-BARET2.2\", \"Hors secteur\"], [\"Sd-BARET3.1\", \"Hors secteur\"], [\"Sd-BARET3.2\", \"Hors secteur\"], [\"Sd-BARET3.3\", \"Hors secteur\"], [\"Sd-BARET4.1\", \"Hors secteur\"], [\"Sd-BARET4.2\", \"Hors secteur\"], [\"Sd-BARET4.3\", \"Hors secteur\"], [\"Sd-BARET5.1\", \"Hors secteur\"], [\"Sd-BARET5.3\", \"Hors secteur\"], [\"Sd-BARET8.1\", \"Hors secteur\"], [\"Sd-BARET8.2\", \"Hors secteur\"], [\"Sd-BARET8.3\", \"Hors secteur\"], [\"Sd-BARET9.2\", \"Hors secteur\"], [\"Sd-BARET6.1\", \"Hors secteur\"], [\"Sd-BARET6.2\", \"Hors secteur\"], [\"Sd-BARET6.3\", \"Hors secteur\"], [\"Sd-BARET1.1\", \"Hors secteur\"], [\"Sd-BARET1.2\", \"Hors secteur\"], [\"Sd-BARET1.3\", \"Hors secteur\"], [\"Sd-P1.1\", \"Hors secteur\"], [\"Sd-P2.1\", \"Hors secteur\"], [\"Sd-P3.1\", \"Hors secteur\"], [\"Sd-P5.1\", \"Hors secteur\"], [\"Sd-P6.1\", \"Hors secteur\"], [\"Sd-P7.1\", \"Hors secteur\"], [\"Sd-P8.1\", \"Hors secteur\"], [\"Sd-P9.1\", \"Hors secteur\"], [\"Sd-P10.1\", \"Hors secteur\"], [\"Sd-P11.1\", \"Hors secteur\"], [\"Sd-P12.1\", \"Hors secteur\"], [\"Sd-P120.1\", \"Hors secteur\"], [\"Sd-P13.1\", \"Hors secteur\"], [\"Sd-P130.1\", \"Hors secteur\"], [\"Sd-P14.1\", \"Hors secteur\"], [\"Sd-P140.1\", \"Hors secteur\"], [\"Sd-P142.1\", \"Hors secteur\"], [\"Sd-P143.1\", \"Hors secteur\"], [\"Sd-P15.1\", \"Hors secteur\"], [\"Sd-P150.1\", \"Hors secteur\"], [\"Sd-P16.1\", \"Hors secteur\"], [\"Sd-P17.1\", \"Hors secteur\"], [\"Sd-P18.1\", \"Hors secteur\"], [\"Sd-P19.1\", \"Hors secteur\"], [\"Sd-P20.1\", \"Hors secteur\"], [\"Sd-P21.1\", \"Hors secteur\"], [\"Sd-P22.1\", \"Hors secteur\"], [\"Sd-P23.1\", \"Hors secteur\"], [\"Sd-P24.1\", \"Hors secteur\"], [\"Sd-PM.703\", \"Hors secteur\"], [\"Sd-PM.704\", \"Hors secteur\"], [\"Sd-PM.705\", \"Hors secteur\"], [\"Sd-PM.706\", \"Hors secteur\"], [\"Sd-P80.1\", \"Hors secteur\"], [\"Sd-PIL4A.1\", \"Hors secteur\"], [\"Sd-PIL5C.1\", \"Hors secteur\"], [\"Sd-BA2.1\", \"Hors secteur\"], [\"Sd-BA3.1\", \"Hors secteur\"], [\"Sd-BA4.1\", \"Hors secteur\"], [\"Sd-BA5.1\", \"Hors secteur\"], [\"Sd-PIL10.1\", \"Hors secteur\"], [\"Sd-PIL2A.1\", \"Hors secteur\"], [\"Sd-PIL8.1\", \"Hors secteur\"], [\"Sd-BA1.1\", \"Hors secteur\"], [\"Sd-PSDALLE.6\", \"Hors secteur\"], [\"Sd-PSDALLE.1\", \"Hors secteur\"], [\"Sd-PSDALLE.2\", \"Hors secteur\"], [\"Sd-PSDALLE.3\", \"Hors secteur\"], [\"Sd-PSDALLE.4\", \"Hors secteur\"], [\"Sd-PSDALLE.7\", \"Hors secteur\"], [\"Sd-P1.2\", \"Hors secteur\"], [\"Sd-P2.2\", \"Hors secteur\"], [\"Sd-PM.707\", \"Hors secteur\"], [\"Sd-PM.708\", \"Hors secteur\"], [\"Sd-PM.709\", \"Hors secteur\"], [\"Sd-PM.710\", \"Hors secteur\"], [\"Sd-P11.2\", \"Hors secteur\"], [\"Sd-P12.2\", \"Hors secteur\"], [\"Sd-P141.2\", \"Hors secteur\"], [\"Sd-P142.2\", \"Hors secteur\"], [\"Sd-P143.2\", \"Hors secteur\"], [\"Sd-P150.2\", \"Hors secteur\"], [\"Sd-P8.2\", \"Hors secteur\"], [\"Sd-P9.2\", \"Hors secteur\"], [\"Sd-P50.2\", \"Hors secteur\"], [\"Sd-P902\", \"Hors secteur\"], [\"Sd-P100.2\", \"Hors secteur\"], [\"Sd-P19.2\", \"Hors secteur\"], [\"Sd-P20.2\", \"Hors secteur\"], [\"Sd-P22.2\", \"Hors secteur\"], [\"Sd-P23.2\", \"Hors secteur\"], [\"Sd-P25.2\", \"Hors secteur\"], [\"Sd-P26.2\", \"Hors secteur\"], [\"Sd-P1.3\", \"Hors secteur\"], [\"Sd-P2.3\", \"Hors secteur\"], [\"Sd-P3.3\", \"Hors secteur\"], [\"Sd-P120.3\", \"Hors secteur\"], [\"Sd-P130.3\", \"Hors secteur\"], [\"Sd-P140.3\", \"Hors secteur\"], [\"Sd-P142.3\", \"Hors secteur\"], [\"Sd-P143.3\", \"Hors secteur\"], [\"Sd-P150.3\", \"Hors secteur\"], [\"Sd-P5.3\", \"Hors secteur\"], [\"Sd-P50.3\", \"Hors secteur\"], [\"Sd-P11.3\", \"Hors secteur\"], [\"Sd-P12.3\", \"Hors secteur\"], [\"Sd-P8.3\", \"Hors secteur\"], [\"Sd-P9.3\", \"Hors secteur\"], [\"Sd-P130.4\", \"Hors secteur\"], [\"Sd-P140.4\", \"Hors secteur\"], [\"Sd-P143.4\", \"Hors secteur\"], [\"Sd-P150.4\", \"Hors secteur\"], [\"Sd-P1.4\", \"Hors secteur\"], [\"Sd-P2.4\", \"Hors secteur\"], [\"Sd-P3.4\", \"Hors secteur\"], [\"Sd-P5.4\", \"Hors secteur\"], [\"Sd-P130.5\", \"Hors secteur\"], [\"Sd-P11.4\", \"Hors secteur\"], [\"Sd-P12.4\", \"Hors secteur\"], [\"Sd-P120.6\", \"Hors secteur\"], [\"Sd-P14.6\", \"Hors secteur\"], [\"Sd-P143.6\", \"Hors secteur\"], [\"Sd-P150.6\", \"Hors secteur\"], [\"Sd-P17.6\", \"Hors secteur\"], [\"Sd-P110.3\", \"Hors secteur\"], [\"Sd-P7.3\", \"Hors secteur\"], [\"Sd-P9.4\", \"Hors secteur\"], [\"Sd-P901.2\", \"Hors secteur\"], [\"Sd-BA3.2\", \"Hors secteur\"], [\"Sd-BA4.2\", \"Hors secteur\"], [\"Sd-BA5.2\", \"Hors secteur\"], [\"Sd-P3.5\", \"Hors secteur\"], [\"Sd-P4.5\", \"Hors secteur\"], [\"Sd-P5.5\", \"Hors secteur\"], [\"Sd-P50.5\", \"Hors secteur\"], [\"Sd-P7.5\", \"Hors secteur\"], [\"Sd-BA1.2\", \"Hors secteur\"], [\"Sd-P22.3\", \"Hors secteur\"], [\"Sd-P25.3\", \"Hors secteur\"], [\"Sd-P26.3\", \"Hors secteur\"], [\"Sd-BARET8.7\", \"Hors secteur\"], [\"Sd-BARET9.7\", \"Hors secteur\"], [\"Sd-P11.7\", \"Hors secteur\"], [\"Sd-P180.7\", \"Hors secteur\"], [\"Sd-P20.7\", \"Hors secteur\"], [\"Sd-P110.7\", \"Hors secteur\"], [\"Sd-P111.7\", \"Hors secteur\"], [\"Sd-P8.7\", \"Hors secteur\"], [\"Sd-P80.7\", \"Hors secteur\"], [\"Sd-P9.7\", \"Hors secteur\"], [\"Sd-P901.7\", \"Hors secteur\"], [\"Sd-P902.7\", \"Hors secteur\"], [\"Sd-BA2.7\", \"Hors secteur\"], [\"Sd-BA3.7\", \"Hors secteur\"], [\"Sd-BA4.7\", \"Hors secteur\"], [\"Sd-BA5.7\", \"Hors secteur\"], [\"Sd-P1.7\", \"Hors secteur\"], [\"Sd-P3.7\", \"Hors secteur\"], [\"Manu-SEC4.1\", \"Hors secteur\"], [\"Manu-SEC4.2\", \"Hors secteur\"], [\"Manu-SEC4.3\", \"Hors secteur\"], [\"Manu-SEC4.4\", \"Hors secteur\"], [\"Manu-SEC4.5\", \"Hors secteur\"], [\"Manu-SEC4.5C\", \"Hors secteur\"], [\"Manu-SEC4.6\", \"Hors secteur\"], [\"Manu-SEC4.7\", \"Hors secteur\"], [\"Manu-SEC4.8\", \"Hors secteur\"], [\"Manu-SEC4.9\", \"Hors secteur\"], [\"Manu-SEC4.10\", \"Hors secteur\"], [\"Manu-SEC4.11\", \"Hors secteur\"], [\"Manu-SEC4.12\", \"Hors secteur\"], [\"Manu-SEC4.13\", \"Hors secteur\"], [\"Manu-SEC4.14\", \"Hors secteur\"], [\"Manu-SEC4.24\", \"Hors secteur\"], [\"Manu-SEC4.23\", \"Hors secteur\"], [\"Manu-SEC4.22\", \"Hors secteur\"], [\"Manu-SEC4.17\", \"Hors secteur\"], [\"Manu-SEC4.16\", \"Hors secteur\"], [\"Manu-SEC4.15\", \"Hors secteur\"], [\"Manu-SEC4.18\", \"Hors secteur\"], [\"Manu-SEC4.19\", \"Hors secteur\"], [\"Manu-SEC4.20\", \"Hors secteur\"], [\"Manu-SEC4.21\", \"Hors secteur\"], [\"Manu-PC1\", \"Hors secteur\"], [\"Manu-PC2\", \"Hors secteur\"], [\"Manu-PC3\", \"Hors secteur\"], [\"Manu-PC4\", \"Hors secteur\"], [\"Manu-PC5\", \"Hors secteur\"], [\"Manu-PC6\", \"Hors secteur\"], [\"Manu-PC7\", \"Hors secteur\"], [\"Manu-PC8\", \"Hors secteur\"], [\"Manu-PC111\", \"Hors secteur\"], [\"Manu-PC112\", \"Hors secteur\"], [\"Manu-PC10\", \"Hors secteur\"], [\"Manu-PC11\", \"Hors secteur\"], [\"Manu-PC12\", \"Hors secteur\"], [\"Manu-PC13\", \"Hors secteur\"], [\"Manu-PC21\", \"Hors secteur\"], [\"Manu-PC22\", \"Hors secteur\"], [\"Manu-PC23\", \"Hors secteur\"], [\"Manu-PC23B\", \"Hors secteur\"], [\"Manu-AC1B\", \"Hors secteur\"], [\"Manu-AC5B\", \"Hors secteur\"], [\"Manu-AC7B\", \"Hors secteur\"], [\"Manu-AC30\", \"Hors secteur\"], [\"Manu-AC31\", \"Hors secteur\"], [\"Manu-AC32\", \"Hors secteur\"], [\"Manu-AC7\", \"Hors secteur\"], [\"Manu-AC8\", \"Hors secteur\"], [\"Manu-AC9\", \"Hors secteur\"], [\"Manu-AC10\", \"Hors secteur\"], [\"Manu-AC11\", \"Hors secteur\"], [\"Manu-AC12\", \"Hors secteur\"], [\"Manu-VJ1\", \"Hors secteur\"], [\"Manu-VJ2\", \"Hors secteur\"], [\"Manu-VJ3\", \"Hors secteur\"], [\"Manu-VJ4\", \"Hors secteur\"], [\"Manu-VJ5\", \"Hors secteur\"], [\"Manu-VB1\", \"Hors secteur\"], [\"Manu-VB2\", \"Hors secteur\"], [\"Manu-VB3\", \"Hors secteur\"], [\"Manu-PN.1\", \"Hors secteur\"], [\"Manu-PN.2\", \"Hors secteur\"], [\"Manu-PN.3\", \"Hors secteur\"], [\"Manu-PN.4\", \"Hors secteur\"], [\"Manu-NP.1\", \"Hors secteur\"], [\"Manu-AC311B\", \"Hors secteur\"], [\"Manu-BAPM1.1\", \"Hors secteur\"], [\"Manu-MS21\", \"Hors secteur\"], [\"Manu-MS22\", \"Hors secteur\"], [\"Manu-PC13.1\", \"Hors secteur\"], [\"Manu-PC2.1\", \"Hors secteur\"], [\"Manu-PC3.1\", \"Hors secteur\"], [\"Manu-PC7.1\", \"Hors secteur\"], [\"Manu-PCBA.1\", \"Hors secteur\"], [\"Manu-PCBA.2\", \"Hors secteur\"], [\"Manu-PCBA.3\", \"Hors secteur\"], [\"Manu-PMS3.1\", \"Hors secteur\"], [\"Manu-PMS4.1\", \"Hors secteur\"], [\"Manu-PMS4.2\", \"Hors secteur\"], [\"Manu-F1.1\", \"Hors secteur\"], [\"Manu-F1.2\", \"Hors secteur\"], [\"Manu-F2.1\", \"Hors secteur\"], [\"Manu-F2.2\", \"Hors secteur\"], [\"Manu-F2.3\", \"Hors secteur\"], [\"Manu-F3.1\", \"Hors secteur\"], [\"Manu-F3.2\", \"Hors secteur\"], [\"Manu-F3.3\", \"Hors secteur\"], [\"Manu-F4.1\", \"Hors secteur\"], [\"Manu-F4.2\", \"Hors secteur\"], [\"Manu-F4.3\", \"Hors secteur\"], [\"Manu-PMS3.2\", \"Hors secteur\"], [\"Manu-MS25\", \"Hors secteur\"], [\"Manu-MS26\", \"Hors secteur\"], [\"Manu-MS27\", \"Hors secteur\"], [\"Manu-PC15.1\", \"Hors secteur\"], [\"Manu-PMS7.2\", \"Hors secteur\"], [\"Manu-PMS6.1\", \"Hors secteur\"], [\"Manu-PC14.1\", \"Hors secteur\"], [\"Manu-PC16.1\", \"Hors secteur\"], [\"Manu-PC17.1\", \"Hors secteur\"], [\"Manu-PC201\", \"Hors secteur\"], [\"Manu-PC202\", \"Hors secteur\"], [\"Manu-PC203\", \"Hors secteur\"], [\"Manu-PC204\", \"Hors secteur\"], [\"Manu-PC207\", \"Hors secteur\"], [\"Manu-PC208\", \"Hors secteur\"], [\"Manu-PC209\", \"Hors secteur\"], [\"Manu-BAPM.4\", \"Hors secteur\"], [\"Manu-BAPM2.1\", \"Hors secteur\"], [\"Manu-BAPM3.1\", \"Hors secteur\"], [\"Manu-PC205\", \"Hors secteur\"], [\"Manu-PC206\", \"Hors secteur\"], [\"Manu-PC1.1\", \"Hors secteur\"], [\"Manu-PCBA.4\", \"Hors secteur\"], [\"Manu-PM209\", \"Hors secteur\"], [\"Manu-PM212\", \"Hors secteur\"], [\"Manu-PM213\", \"Hors secteur\"], [\"Manu-PMS.1\", \"Hors secteur\"], [\"Manu-PMS1.2\", \"Hors secteur\"], [\"Manu-PMS2.1\", \"Hors secteur\"], [\"Manu-PMS2.2\", \"Hors secteur\"], [\"Manu-PMS5.1\", \"Hors secteur\"], [\"Manu-PMS5.2\", \"Hors secteur\"], [\"Manu-F5.1\", \"Hors secteur\"], [\"Manu-F5.2\", \"Hors secteur\"], [\"Manu-PM102\", \"Hors secteur\"], [\"Manu-PM201\", \"Hors secteur\"], [\"Manu-PM103\", \"Hors secteur\"], [\"Manu-PM.204\", \"Hors secteur\"], [\"Manu-PM.301\", \"Hors secteur\"], [\"Manu-PM.302\", \"Hors secteur\"], [\"Manu-PM.401\", \"Hors secteur\"], [\"Manu-PM.402\", \"Hors secteur\"], [\"Manu-PC108\", \"Hors secteur\"], [\"Manu-PC107\", \"Hors secteur\"], [\"Manu-PC106\", \"Hors secteur\"], [\"Manu-PC105\", \"Hors secteur\"], [\"Manu-PC101\", \"Hors secteur\"], [\"Manu-PC310\", \"Hors secteur\"], [\"Manu-PC309\", \"Hors secteur\"], [\"Manu-PC308\", \"Hors secteur\"], [\"Manu-PC307\", \"Hors secteur\"], [\"Manu-PC305\", \"Hors secteur\"], [\"Manu-PC304\", \"Hors secteur\"], [\"Manu-PC302\", \"Hors secteur\"], [\"Manu-PC301\", \"Hors secteur\"], [\"Manu-RN7.1\", \"Hors secteur\"], [\"Manu-VJ6\", \"Hors secteur\"], [\"Manu-F5.3\", \"Hors secteur\"], [\"Manu-F6.1\", \"Hors secteur\"], [\"Manu-F6.2\", \"Hors secteur\"], [\"Manu-F6.3\", \"Hors secteur\"], [\"Manu-F7.1\", \"Hors secteur\"], [\"Manu-F7.2\", \"Hors secteur\"], [\"Manu-F7.3\", \"Hors secteur\"], [\"Manu-PM400\", \"Hors secteur\"], [\"Manu-PM401\", \"Hors secteur\"], [\"Manu-PM403\", \"Hors secteur\"], [\"Manu-PM404\", \"Hors secteur\"], [\"Manu-PM405\", \"Hors secteur\"], [\"Manu-VJ7\", \"Hors secteur\"], [\"Manu-PRT1\", \"Hors secteur\"], [\"Manu-PRT2\", \"Hors secteur\"], [\"Manu-PAL3\", \"Hors secteur\"], [\"Manu-PAL4\", \"Hors secteur\"], [\"Manu-PAL5\", \"Hors secteur\"], [\"Manu-PAL6\", \"Hors secteur\"], [\"Manu-PRTE1\", \"Hors secteur\"], [\"Manu-PRTE2\", \"Hors secteur\"], [\"Manu-SEC123.1\", \"Hors secteur\"], [\"Manu-SEC123.2\", \"Hors secteur\"], [\"Manu-SEC123.3\", \"Hors secteur\"], [\"Manu-SEC123.4\", \"Hors secteur\"], [\"Manu-SEC123.5\", \"Hors secteur\"], [\"Manu-SEC123.6\", \"Hors secteur\"], [\"Manu-SEC123.7\", \"Hors secteur\"], [\"Manu-SEC123.8\", \"Hors secteur\"], [\"Manu-SEC123.9\", \"Hors secteur\"], [\"Manu-SEC123.10\", \"Hors secteur\"], [\"Manu-SEC123.11\", \"Hors secteur\"], [\"Manu-SEC123.12\", \"Hors secteur\"], [\"Manu-SEC123.13\", \"Hors secteur\"], [\"Manu-SEC123.14\", \"Hors secteur\"], [\"Manu-SEC123.15\", \"Hors secteur\"], [\"Manu-SEC123.16\", \"Hors secteur\"], [\"Manu-SEC123.17\", \"Hors secteur\"], [\"Manu-SEC123.18\", \"Hors secteur\"], [\"Manu-SEC123.19\", \"Hors secteur\"], [\"Manu-SEC123.20\", \"Hors secteur\"], [\"Manu-SEC123.21\", \"Hors secteur\"], [\"Manu-SEC123.22\", \"Hors secteur\"], [\"Manu-SEC123.23\", \"Hors secteur\"], [\"Manu-SEC123.24\", \"Hors secteur\"], [\"Manu-SEC123.25\", \"Hors secteur\"], [\"Manu-SEC123.26\", \"Hors secteur\"], [\"Manu-SEC123.27\", \"Hors secteur\"], [\"Manu-SEC123.28\", \"Hors secteur\"], [\"Manu-SEC123.29\", \"Hors secteur\"], [\"Manu-SEC123.30\", \"Hors secteur\"], [\"Manu-SEC123.31\", \"Hors secteur\"], [\"Manu-SEC123.32\", \"Hors secteur\"], [\"Manu-SEC123.33\", \"Hors secteur\"], [\"Manu-SEC123.34\", \"Hors secteur\"], [\"Manu-SEC123.35\", \"Hors secteur\"], [\"Manu-RN7.11\", \"Hors secteur\"], [\"Manu-RN7.12\", \"Hors secteur\"], [\"Manu-RN7.13\", \"Hors secteur\"], [\"Manu-RN7.14\", \"Hors secteur\"], [\"Manu-RN7.15\", \"Hors secteur\"], [\"Manu-RN7.16\", \"Hors secteur\"], [\"Manu-ESC1\", \"Hors secteur\"], [\"Manu-ESC2\", \"Hors secteur\"], [\"Manu-MJ1\", \"Hors secteur\"], [\"Manu-MJ2\", \"Hors secteur\"], [\"Manu-MJ3\", \"Hors secteur\"], [\"Manu-RN7.10\", \"Hors secteur\"], [\"Manu-PM4\", \"Hors secteur\"], [\"Manu-PM5\", \"Hors secteur\"], [\"Manu-PM6\", \"Hors secteur\"], [\"Manu-PM7\", \"Hors secteur\"], [\"Manu-PM8\", \"Hors secteur\"], [\"Manu-RN7.14B\", \"Hors secteur\"], [\"Manu-PM2\", \"Hors secteur\"], [\"Manu-PM3\", \"Hors secteur\"], [\"Manu-VB4\", \"Hors secteur\"], [\"Manu-VB20\", \"Hors secteur\"], [\"Manu-VB21\", \"Hors secteur\"], [\"Manu-VB22\", \"Hors secteur\"], [\"Manu-VB23\", \"Hors secteur\"], [\"Manu-VJ20\", \"Hors secteur\"], [\"Manu-VJ21\", \"Hors secteur\"]], \"marker\": {\"color\": \"#7FFFD4\", \"opacity\": 0.6, \"size\": 3}, \"mode\": \"markers\", \"type\": \"scatter3d\", \"x\": [2055322.26044898, 2055342.9189400002, 2055344.57523077, 2055341.59467961, 2055343.32005769, 2055339.66398413, 2055329.79601639, 2055252.1435, 2055254.27, 2055267.89272727, 2055269.83054545, 2055276.18418182, 2055278.43118182, 2055283.75045455, 2055286.11854545, 2055253.55733333, 2055244.4919999999, 2055235.44498333, 2055242.09733333, 2055366.1469999999, 2055359.5669999998, 2055359.53, 2055330.376, 2055330.616, 2055325.237, 2055373.53928571, 2055368.02515789, 2055363.81809023, 2055361.31810526, 2055344.371875, 2055345.83, 2055348.845, 2055362.937, 2055305.3811, 2055352.14525, 2055344.9019999998, 2055340.28, 2055329.0580000002, 2055318.378, 2055321.60808163, 2055317.99720513, 2055309.53397436, 2055333.51254167, 2055333.55457088, 2055355.0790000001, 2055339.28491209, 2055346.0901, 2055346.13, 2055346.1519999998, 2055344.428, 2055317.41494872, 2055316.54096, 2055355.2340000002, 2055346.283, 2055346.237, 2055346.27684615, 2055344.4931, 2055340.458, 2055328.16404348, 2055316.61385714, 2055305.4440000001, 2055321.89495714, 2055328.29028571, 2055333.15112727, 2055339.32820027, 2055301.79604666, 2055327.83535537, 2055353.322, 2055353.3218, 2055346.303, 2055344.487, 2055328.175, 2055318.716, 2055304.9109999998, 2055293.174, 2055309.105, 2055375.052, 2055365.315, 2055358.035, 2055376.8648, 2055376.759, 2055378.596, 2055380.2704, 2055293.60293551, 2055314.83296139, 2055293.14870244, 2055309.54747436, 2055324.48042857, 2055302.31618018, 2055296.89476448, 2055255.10475, 2055262.11117778, 2055279.14417647, 2055284.989, 2055316.906, 2055292.4309999999, 2055279.10621277, 2055276.62406383, 2055279.06087234, 2055276.615875, 2055279.06285106, 2055268.32080769, 2055262.52992308, 2055255.699, 2055262.09, 2055269.5368, 2055279.0479, 2055284.96495, 2055290.940875, 2055290.75341176, 2055284.95564706, 2055279.03152941, 2055269.61641176, 2055262.38470588, 2055290.47075, 2055279.0878, 2055252.78552364, 2055253.2395, 2055261.4952599998, 2055261.53323913, 2055269.38050952, 2055269.06395238, 2055288.21704116, 2055288.63920134, 2055277.87506302, 2055278.40519748, 2055379.465, 2055295.79871429, 2055379.975, 2055322.812875, 2055339.846, 2055342.914, 2055379.968, 2055380.27005, 2055369.705, 2055373.33291667, 2055378.77425, 2055331.22122255, 2055331.20444118, 2055331.02812805, 2055332.9492549, 2055323.72171429, 2055323.87871429, 2055252.87216667, 2055255.33233333, 2055260.99416667, 2055263.42016667, 2055268.80684615, 2055270.81484615, 2055276.11684615, 2055278.72984615, 2055284.24076923, 2055286.55869231, 2055244.49676923, 2055235.44466667, 2055242.736, 2055242.14, 2055320.18908021, 2055320.04710695, 2055320.08452941, 2055319.93369231, 2055330.8474, 2055330.93212903, 2055330.89584767, 2055330.80184615, 2055343.73318182, 2055343.766125, 2055343.63907692, 2055343.7664897998, 2055354.41166667, 2055354.3290000001, 2055354.398, 2055366.8004, 2055366.6409999998, 2055312.4294, 2055312.5869999998, 2055312.615, 2055303.8669999999, 2055304.0744, 2055304.0690000001, 2055302.5447799999, 2055254.24585714, 2055336.64157143, 2055340.25285714, 2055255.10361538, 2055262.16191667, 2055291.80211111, 2055350.9730000002, 2055243.83881818, 2055239.053, 2055255.399, 2055235.226125, 2055235.8857, 2055237.214875, 2055241.709, 2055235.45771429, 2055235.97442857, 2055235.22828571, 2055236.23, 2055252.78594444, 2055253.239, 2055261.495, 2055261.533, 2055269.3794, 2055269.41505555, 2055329.60223256, 2055318.13093333, 2055234.985, 2055237.894, 2055239.229, 2055237.6609999998, 2055239.138, 2055343.477, 2055344.55444444, 2055234.55485714, 2055232.1515, 2055234.40971429, 2055232.45271429, 2055237.29785714, 2055249.2769999998, 2055258.118, 2055267.102, 2055279.94157143, 2055271.4218, 2055245.74841429, 2055244.6940000001, 2055292.866, 2055341.13335714, 2055346.898, 2055346.9430000002, 2055346.737, 2055346.775, 2055324.53214286, 2055324.3268, 2055330.1819999998, 2055330.09142857, 2055363.356, 2055320.18914286, 2055320.04671429, 2055330.8469999998, 2055330.9330000002, 2055330.91621429, 2055343.72464286, 2055343.75557143, 2055354.4030000002, 2055354.3272, 2055354.38907143, 2055366.80171429, 2055366.636, 2055312.4422, 2055312.6005, 2055303.87392857, 2055304.08614286, 2055304.084, 2055366.885, 2055366.573, 2055374.4419999998, 2055366.573, 2055377.356, 2055378.793, 2055378.785, 2055344.632, 2055330.75028571, 2055335.53, 2055346.445, 2055346.42083333, 2055346.833, 2055346.88, 2055346.679, 2055324.639, 2055324.5219999999, 2055330.19, 2055330.112, 2055330.082, 2055341.946, 2055343.0690000001, 2055342.5869999998, 2055359.665, 2055359.744, 2055362.4840000002, 2055362.496, 2055362.459, 2055362.3369999998, 2055362.733, 2055362.705, 2055362.757, 2055309.0480000002, 2055309.053, 2055309.063, 2055296.3830000001, 2055305.485, 2055314.481, 2055330.32, 2055339.208, 2055341.031, 2055342.497, 2055346.4019999998, 2055357.0880000002, 2055367.8059999999, 2055374.239, 2055377.333, 2055377.664, 2055378.9230000002, 2055379.476, 2055379.979, 2055379.983, 2055379.956, 2055379.759, 2055380.0380000002, 2055379.751, 2055378.781, 2055371.374, 2055361.844, 2055346.158, 2055341.244, 2055329.701, 2055323.9780000001, 2055318.271, 2055284.843, 2055278.233, 2055268.9640000002, 2055260.1619999998, 2055345.352, 2055340.459, 2055360.955, 2055292.8590000002, 2055292.9840000002, 2055293.034, 2055293.148, 2055341.09, 2055308.529, 2055323.626, 2055292.804, 2055378.6519999998, 2055344.767, 2055320.79, 2055293.804, 2055293.011, 2055344.392, 2055296.332, 2055305.668, 2055284.658, 2055284.658, 2055268.884, 2055260.119, 2055367.9309999999, 2055374.456, 2055379.996, 2055380.019, 2055379.96, 2055380.0259999998, 2055342.501, 2055346.414, 2055335.507, 2055346.3159999999, 2055348.928, 2055357.265, 2055345.054, 2055331.043, 2055323.626, 2055312.291, 2055293.657, 2055296.957, 2055305.73, 2055314.427, 2055377.32, 2055378.9019999998, 2055380.065, 2055379.971, 2055380.0269999998, 2055380.0980000002, 2055330.737, 2055335.5159999998, 2055366.889, 2055374.6830000002, 2055342.524, 2055346.481, 2055378.858, 2055380.086, 2055380.05, 2055380.0680000002, 2055296.876, 2055305.841, 2055314.74, 2055330.894, 2055378.814, 2055366.594, 2055374.9, 2055377.372, 2055378.856, 2055379.956, 2055379.9640000002, 2055377.882, 2055356.2580000001, 2055339.093, 2055346.56, 2055346.27, 2055293.01, 2055293.071, 2055293.1709999999, 2055314.86, 2055325.1430000002, 2055331.121, 2055335.274, 2055341.064, 2055292.771, 2055330.532, 2055310.138, 2055293.491, 2055363.386, 2055363.369, 2055366.7580000001, 2055364.675, 2055344.615, 2055356.11, 2055361.666, 2055342.394, 2055345.174, 2055346.533, 2055346.254, 2055346.265, 2055292.74, 2055292.045, 2055292.4519999998, 2055292.701, 2055296.774, 2055314.8290000001, 2055382.447, 2055380.71, 2055379.15, 2055378.4019999998, 2055377.106, 2055376.149, 2055371.001, 2055370.31, 2055366.0119999999, 2055362.3390000002, 2055359.995, 2055349.07, 2055348.185, 2055336.3669999999, 2055336.42, 2055324.761, 2055323.134, 2055318.594, 2055318.511, 2055324.4730000002, 2055326.573, 2055308.57, 2055307.79, 2055296.03, 2055297.132, 2055317.407, 2055301.784, 2055309.0969999998, 2055293.5869999998, 2055314.8080000002, 2055309.5369999998, 2055302.295, 2055296.874, 2055317.989, 2055309.534, 2055321.586, 2055327.822, 2055333.5359999998, 2055339.269, 2055321.886, 2055328.283, 2055333.1430000002, 2055339.313, 2055342.9130000002, 2055343.3180000002, 2055339.642, 2055344.59, 2055344.1630000002, 2055341.576, 2055339.741, 2055339.865, 2055329.78, 2055329.573, 2055322.237, 2055322.2130000002, 2055331.2230000002, 2055331.1909999999, 2055331.0219999999, 2055332.9430000002, 2055332.936, 2055329.332, 2055329.333, 2055329.381, 2055356.6719999998, 2055356.685, 2055356.8480000002, 2055356.826, 2055269.375, 2055344.755, 2055244.483, 2055363.822, 2055361.3190000001, 2055355.0790000001, 2055316.491, 2055327.771, 2055340.3480000002, 2055255.095, 2055262.146, 2055279.154, 2055277.878, 2055288.2030000002, 2055288.6269999999, 2055320.187, 2055320.045, 2055330.842, 2055330.929, 2055330.8930000002, 2055343.726, 2055343.7580000001, 2055343.757, 2055354.405, 2055354.32, 2055354.389, 2055278.409, 2055344.366, 2055345.824, 2055348.8390000002, 2055346.1230000001, 2055233.947, 2055241.77, 2055346.09, 2055346.1519999998, 2055344.428, 2055355.226, 2055346.274, 2055346.2280000001, 2055346.2680000002, 2055328.176, 2055316.6030000001, 2055305.4440000001, 2055244.486, 2055235.449, 2055244.486, 2055344.4840000002, 2055340.447, 2055305.372, 2055285.035, 2055262.3730000001, 2055284.9540000001, 2055290.9309999999, 2055257.136, 2055261.5669999998, 2055261.4919999999, 2055261.529, 2055277.866, 2055293.59, 2055366.801, 2055366.64, 2055243.855, 2055255.4019999998, 2055239.0669999998, 2055262.3730000001, 2055279.021, 2055269.604, 2055290.7419999999, 2055284.9440000001, 2055318.378, 2055329.0580000002, 2055340.28, 2055344.9019999998, 2055352.145, 2055293.174, 2055304.9109999998, 2055318.716, 2055328.175, 2055344.487, 2055346.303, 2055346.311, 2055353.322, 2055295.7980000002, 2055323.721, 2055366.658, 2055312.44, 2055312.5980000002, 2055312.626, 2055303.878, 2055304.084, 2055304.081, 2055233.2240000002, 2055235.227, 2055237.216, 2055241.71, 2055251.415, 2055323.7869999998, 2055378.1930000002, 2055379.155, 2055384.7319999998, 2055381.501, 2055380.615, 2055379.8080000002, 2055378.8930000002, 2055380.771, 2055262.38, 2055281.82, 2055291.4009999998, 2055300.6619999998, 2055308.635, 2055320.63, 2055329.8190000001, 2055286.852, 2055292.0559999999, 2055298.12, 2055297.655, 2055296.7719999999, 2055302.157, 2055306.855, 2055304.9440000001, 2055308.5259999998, 2055309.908, 2055313.8469999998, 2055317.198, 2055320.552, 2055325.408, 2055328.342, 2055331.4219999998, 2055328.5769999998, 2055326.918, 2055333.476, 2055335.917, 2055346.118, 2055350.629, 2055350.034, 2055346.168, 2055335.299, 2055326.2769999998, 2055322.884, 2055334.8069999998, 2055184.8, 2055207.331, 2055239.285, 2055257.269, 2055274.013, 2055285.281, 2055198.361, 2055198.0590000001, 2055218.92, 2055216.0369999998, 2055216.03, 2055206.4619999998, 2055269.253, 2055273.6809999999, 2055284.3180000002, 2055269.256, 2055273.6830000002, 2055257.2719999999, 2055297.36, 2055294.312, 2055330.4119999998, 2055325.624, 2055325.624, 2055325.229, 2055325.24, 2055326.959, 2055326.961], \"y\": [3179692.24002041, 3179722.4902, 3179713.86192308, 3179702.08153398, 3179713.80840385, 3179700.29389418, 3179694.77302268, 3179683.33966667, 3179683.568, 3179685.84418182, 3179685.86818182, 3179684.33090909, 3179684.29254546, 3179683.09781818, 3179683.14527273, 3179683.41033333, 3179683.392, 3179680.3735, 3179682.75816667, 3179690.1580000003, 3179690.209, 3179696.095, 3179663.818, 3179668.876, 3179664.042, 3179729.2010000004, 3179729.47584211, 3179729.48984211, 3179729.67910526, 3179728.501, 3179729.2789999996, 3179729.385, 3179729.2010000004, 3179681.45031667, 3179728.2405, 3179707.256, 3179694.4669999997, 3179690.9689999996, 3179686.639, 3179689.83402041, 3179688.33152564, 3179684.21015384, 3179694.54340238, 3179694.6385677997, 3179728.38930769, 3179696.49333883, 3179728.314, 3179724.1769999997, 3179715.8985, 3179705.7460000003, 3179689.83812821, 3179685.99435077, 3179728.215, 3179728.195, 3179724.395, 3179715.863, 3179705.615, 3179694.6389375, 3179690.50486957, 3179685.861, 3179681.332, 3179689.58635714, 3179691.91028571, 3179693.6061697, 3179696.42113656, 3179684.17312086, 3179690.68712397, 3179728.1769999997, 3179728.1764, 3179716.0568, 3179705.5, 3179690.613, 3179686.7855, 3179681.185, 3179682.085, 3179685.07702564, 3179728.328, 3179728.378, 3179728.341, 3179724.3032, 3179727.6824, 3179716.2169999997, 3179698.3019999997, 3179684.56360817, 3179693.43286873, 3179678.9117439, 3179691.69653846, 3179685.77609524, 3179692.24547374, 3179692.32088417, 3179684.95825, 3179686.4126, 3179685.32131933, 3179684.13816667, 3179662.542, 3179672.61375, 3179685.24780851, 3179685.77440426, 3179685.27919149, 3179685.73327083, 3179685.25606383, 3179685.655, 3179686.34438461, 3179685.0360000003, 3179686.0930000003, 3179686.8107, 3179685.3057, 3179684.1360000004, 3179683.03125, 3179683.02847059, 3179684.12376471, 3179685.27676471, 3179686.78605882, 3179686.45235294, 3179683.07025, 3179685.2789999996, 3179690.36600546, 3179689.8365, 3179689.9479799997, 3179689.41880435, 3179689.49845238, 3179689.06012771, 3179690.46663559, 3179690.3184735, 3179689.22218487, 3179688.57622269, 3179709.248, 3179706.865, 3179677.047, 3179684.015, 3179689.137, 3179694.31925, 3179687.992, 3179698.30205, 3179675.9669, 3179674.9280000003, 3179673.25575, 3179701.30870968, 3179701.27668984, 3179701.15091463, 3179708.62213726, 3179703.84785714, 3179703.83042857, 3179648.788, 3179648.8710000003, 3179648.81116667, 3179648.80733333, 3179648.39, 3179648.48230769, 3179648.74638462, 3179648.90223077, 3179649.17023077, 3179649.29846154, 3179683.394, 3179680.37294445, 3179675.998, 3179675.837, 3179649.77709091, 3179649.85033155, 3179649.88799465, 3179649.91169231, 3179649.1406, 3179649.24298925, 3179649.19795161, 3179649.19430769, 3179648.40590909, 3179648.4869999997, 3179648.52684615, 3179648.48671429, 3179650.52333333, 3179650.4669999997, 3179650.5086, 3179656.6892, 3179656.829, 3179650.2989999996, 3179650.2, 3179650.2260000003, 3179650.777, 3179650.7610000004, 3179650.78, 3179650.89156, 3179685.34914286, 3179657.289, 3179657.17, 3179684.95692308, 3179686.46466667, 3179651.91044444, 3179649.84422222, 3179683.07918182, 3179681.6319999998, 3179685.00666667, 3179670.822125, 3179678.4978, 3179680.027125, 3179681.719375, 3179671.22442857, 3179678.49657143, 3179670.37557143, 3179670.37175, 3179690.3660000004, 3179689.845, 3179689.9480000003, 3179689.4189999998, 3179689.497, 3179689.06, 3179649.21095349, 3179650.1318, 3179656.811, 3179666.563, 3179673.738, 3179666.295, 3179673.005, 3179648.78255556, 3179660.707, 3179648.61685714, 3179659.4905, 3179649.21871429, 3179659.03542857, 3179647.22514286, 3179648.110625, 3179648.30475, 3179648.19775, 3179648.70728571, 3179648.1862, 3179647.92785714, 3179647.811, 3179669.54885714, 3179680.04714286, 3179683.126, 3179682.7569999998, 3179683.34, 3179682.832, 3179667.14, 3179667.2048, 3179666.9189999998, 3179666.795, 3179714.2210000004, 3179649.77728571, 3179649.85242857, 3179649.14428571, 3179649.24271429, 3179649.18792857, 3179648.412, 3179648.49314286, 3179650.52792857, 3179650.4671, 3179650.51092857, 3179656.69114286, 3179656.828, 3179650.3060000003, 3179650.208, 3179650.78464286, 3179650.77314286, 3179650.78833333, 3179728.1580000003, 3179728.21, 3179728.144, 3179728.21, 3179722.748, 3179713.22, 3179670.8019999997, 3179648.486, 3179691.3039999995, 3179692.1980000003, 3179718.17342857, 3179718.5760000004, 3179683.1180000002, 3179682.749, 3179683.334, 3179667.1119999997, 3179667.14, 3179666.838, 3179666.895, 3179666.792, 3179666.012, 3179666.0, 3179665.894, 3179673.645, 3179673.793, 3179711.111, 3179711.025, 3179711.02, 3179714.4439999997, 3179689.0239999997, 3179689.244, 3179689.307, 3179667.0069999998, 3179667.083, 3179667.164, 3179681.421, 3179681.298, 3179684.854, 3179691.232, 3179693.755, 3179695.163, 3179699.336, 3179718.2169999997, 3179728.245, 3179728.1610000003, 3179728.203, 3179722.545, 3179720.5239999997, 3179712.943, 3179709.244, 3179705.8419999997, 3179693.164, 3179685.3060000003, 3179682.78, 3179679.208, 3179674.752, 3179670.7189999996, 3179659.828, 3179653.7860000003, 3179648.472, 3179648.775, 3179649.202, 3179649.534, 3179650.123, 3179683.8910000003, 3179685.2739999997, 3179686.369, 3179686.083, 3179708.898, 3179666.068, 3179675.557, 3179669.5539999995, 3179672.615, 3179676.309, 3179681.577, 3179679.97, 3179668.023, 3179683.216, 3179662.788, 3179706.393, 3179696.165, 3179687.133, 3179681.0069999998, 3179652.3210000005, 3179661.08, 3179681.42, 3179681.308, 3179683.7989999996, 3179683.8, 3179686.334, 3179685.957, 3179728.1119999997, 3179728.1969999997, 3179696.84, 3179693.175, 3179685.14, 3179679.1769999997, 3179699.3030000003, 3179718.558, 3179692.2, 3179727.58, 3179728.251, 3179651.341, 3179648.475, 3179649.276, 3179649.7139999997, 3179650.352, 3179651.397, 3179681.099, 3179681.202, 3179684.526, 3179722.787, 3179713.349, 3179705.04, 3179693.1569999997, 3179685.165, 3179679.24, 3179691.313, 3179692.202, 3179728.211, 3179728.252, 3179699.41, 3179718.5069999998, 3179713.142, 3179705.115, 3179685.3860000004, 3179679.64, 3179681.142, 3179681.352, 3179684.88, 3179691.308, 3179713.2630000003, 3179728.202, 3179728.153, 3179722.788, 3179713.474, 3179684.923, 3179679.539, 3179669.4310000003, 3179728.369, 3179693.682, 3179718.478, 3179727.7630000003, 3179672.547, 3179676.28, 3179681.462, 3179685.168, 3179689.481, 3179691.46, 3179692.2369999997, 3179695.1989999996, 3179662.765, 3179649.32, 3179650.473, 3179651.415, 3179710.942, 3179714.212, 3179728.272, 3179655.61, 3179648.481, 3179728.3639999996, 3179728.236, 3179699.352, 3179707.9839999997, 3179718.472, 3179727.887, 3179722.9439999997, 3179669.937, 3179672.224, 3179676.182, 3179681.7810000004, 3179681.375, 3179685.146, 3179666.966, 3179667.269, 3179664.416, 3179663.409, 3179659.106, 3179658.522, 3179652.995, 3179652.525, 3179649.503, 3179647.3260000004, 3179646.166, 3179643.847, 3179643.562, 3179643.623, 3179642.47, 3179645.039, 3179644.537, 3179644.0039999997, 3179644.628, 3179643.244, 3179644.027, 3179647.39, 3179645.317, 3179645.796, 3179645.689, 3179689.855, 3179684.186, 3179685.095, 3179684.57, 3179693.4469999997, 3179691.713, 3179692.247, 3179692.3210000005, 3179688.349, 3179684.256, 3179689.863, 3179692.15, 3179694.673, 3179696.5, 3179689.6010000003, 3179691.9510000004, 3179693.624, 3179696.4289999995, 3179722.499, 3179713.83, 3179700.317, 3179722.9480000003, 3179711.789, 3179702.0960000004, 3179700.6, 3179700.808, 3179694.8019999997, 3179694.7139999997, 3179692.264, 3179692.1610000003, 3179701.3310000002, 3179701.2819999997, 3179701.165, 3179708.619, 3179708.5939999996, 3179717.035, 3179717.001, 3179719.765, 3179718.127, 3179722.642, 3179718.085, 3179727.152, 3179689.5039999997, 3179714.1380000003, 3179683.403, 3179729.503, 3179729.692, 3179728.389, 3179685.961, 3179690.648, 3179694.645, 3179684.965, 3179686.465, 3179685.356, 3179689.2210000004, 3179690.4760000003, 3179690.328, 3179649.768, 3179649.8419999997, 3179649.137, 3179649.233, 3179649.186, 3179648.401, 3179648.483, 3179648.483, 3179650.519, 3179650.462, 3179650.5039999997, 3179688.5730000003, 3179728.501, 3179729.2789999996, 3179729.385, 3179724.1769999997, 3179688.9280000003, 3179690.1089999997, 3179728.314, 3179715.8989999997, 3179705.7460000003, 3179728.22, 3179728.2010000004, 3179724.4, 3179715.8680000002, 3179690.5089999996, 3179685.861, 3179681.332, 3179683.402, 3179680.367, 3179683.401, 3179705.619, 3179694.639, 3179681.454, 3179684.195, 3179686.459, 3179684.144, 3179683.039, 3179690.1539999996, 3179688.3605, 3179689.9460000005, 3179689.416, 3179689.2339999997, 3179684.559, 3179656.687, 3179656.8239999996, 3179683.082, 3179685.005, 3179681.637, 3179686.457, 3179685.2819999997, 3179686.79, 3179683.0330000003, 3179684.128, 3179686.639, 3179690.9689999996, 3179694.4669999997, 3179707.256, 3179728.2410000004, 3179682.085, 3179681.185, 3179686.785, 3179690.613, 3179705.5, 3179716.057, 3179727.58, 3179728.1769999997, 3179706.865, 3179703.848, 3179656.835, 3179650.2989999996, 3179650.202, 3179650.225, 3179650.777, 3179650.76, 3179650.7819999997, 3179662.433, 3179670.8230000003, 3179680.028, 3179681.72, 3179683.724, 3179703.8310000002, 3179727.0110000004, 3179719.0960000004, 3179687.1560000004, 3179704.672, 3179709.887, 3179714.7189999996, 3179719.363, 3179708.9710000004, 3179611.722, 3179611.84, 3179614.5039999997, 3179618.17, 3179617.334, 3179617.5069999998, 3179612.348, 3179623.0039999997, 3179622.512, 3179620.841, 3179622.3710000003, 3179623.486, 3179624.1789999995, 3179622.914, 3179626.3419999997, 3179618.923, 3179627.626, 3179634.355, 3179634.173, 3179633.91, 3179633.006, 3179626.8060000003, 3179622.2860000003, 3179622.567, 3179621.52, 3179621.8030000003, 3179622.6360000004, 3179627.403, 3179626.204, 3179625.963, 3179623.9760000003, 3179615.749, 3179616.4080000003, 3179618.443, 3179613.624, 3179684.28, 3179694.668, 3179701.483, 3179702.192, 3179704.4680000003, 3179703.327, 3179675.6769999997, 3179676.975, 3179681.4469999997, 3179680.855, 3179680.852, 3179681.2810000004, 3179708.79, 3179708.3060000003, 3179708.0719999997, 3179708.784, 3179708.298, 3179702.1739999996, 3179720.098, 3179722.587, 3179720.512, 3179725.4, 3179725.461, 3179716.37, 3179716.3680000002, 3179713.058, 3179713.057], \"z\": [149.329979591837, 145.7223, 141.951807692308, 142.35635922330098, 145.443230769231, 145.529804232804, 147.260912568306, 124.48100000000001, 124.4546, 126.756818181818, 126.76, 126.73909090909099, 126.734909090909, 126.841090909091, 126.855, 142.288333333333, 142.991, 140.851333333333, 141.16299999999998, 126.264, 126.26100000000001, 126.2505, 126.525, 126.52600000000001, 126.52, 125.215, 131.96447368421101, 131.955736842105, 138.88388421052602, 142.922, 142.09, 142.097, 125.196, 137.4991, 136.333, 136.601, 136.317, 136.53, 136.167, 146.638, 141.702025641026, 141.513025641026, 144.52090833333298, 144.50199152542402, 137.523, 142.801032967033, 137.5259, 137.52, 137.525, 137.518625, 146.501435897436, 137.50996999999998, 133.001, 132.997, 133.092, 133.02807692307698, 133.076, 132.731, 132.825, 132.703857142857, 132.878875, 141.49292, 141.525571428571, 141.031690909091, 141.111070484581, 144.968677902622, 137.503950413223, 128.24, 128.2402, 129.3854, 128.96, 129.019, 128.69899999999998, 128.765, 128.725, 145.146051282051, 125.009, 125.01700000000001, 125.005, 123.331, 125.0258, 125.24, 126.79, 145.084986046511, 149.462806949807, 137.522990243902, 149.677025641026, 137.501333333333, 151.639436607339, 151.958444015444, 143.46625, 143.45184444444402, 143.461, 142.9755, 127.179, 126.22, 143.111978723404, 139.30444680851102, 137.53697872340402, 135.548958333333, 133.737617021277, 129.921, 130.139961538461, 130.12133333333298, 137.5, 137.4901, 137.5499, 137.70985, 137.620125, 132.125352941176, 131.953647058824, 135.918470588235, 135.751882352941, 137.584764705882, 129.965, 130.2266, 148.968663636364, 145.415, 149.57232, 145.680239130435, 150.088883333333, 146.643293290043, 151.211259079903, 149.53510738255, 150.669428571429, 146.43990336134502, 120.596, 155.240571428571, 127.54700000000001, 127.221, 127.208, 126.9, 127.117, 126.79, 127.18015, 127.191833333333, 127.223333333333, 153.72973705611298, 152.47285561497299, 149.952253325942, 153.57335294117598, 153.099857142857, 154.739857142857, 125.045, 125.01700000000001, 125.044, 125.04, 126.87200000000001, 126.877076923077, 126.838, 126.787, 126.94092307692301, 126.932, 142.99200000000002, 140.85, 120.296, 123.295, 138.111005347594, 135.206417112299, 132.218, 125.087730769231, 137.8438, 134.843897849462, 131.75660215053801, 125.0615, 138.096909090909, 132.095625, 129.075, 124.999408163265, 137.880333333333, 134.887666666667, 131.8788, 137.36, 134.36, 138.282, 135.15, 132.122, 137.944, 135.016, 131.7152, 127.79746000000002, 144.15, 127.94, 128.106, 143.466, 143.61, 126.225, 127.625666666667, 138.006636363636, 137.958, 137.689222222222, 133.679875, 133.6488, 133.39975, 133.62, 120.594285714286, 129.281714285714, 129.294571428571, 129.281, 148.969, 145.41899999999998, 149.572, 145.68, 150.088, 146.643, 125.782697674419, 126.116, 116.742, 116.74700000000001, 116.68, 109.76899999999999, 109.655, 127.223777777778, 127.178333333333, 127.7, 127.99799999999999, 120.37557142857099, 120.87200000000001, 127.729, 127.76799999999999, 127.923125, 128.142, 118.755, 118.9124, 121.639, 109.82, 107.639, 100.029, 119.698, 114.025, 106.626666666667, 99.854, 116.009, 98.228, 116.19200000000001, 105.39200000000001, 97.14200000000001, 138.132, 135.224, 137.85299999999998, 134.859, 131.840785714286, 138.105857142857, 132.107928571429, 137.891, 134.8948, 131.889, 137.361857142857, 134.369, 138.2978, 135.1635, 137.960928571429, 135.029, 131.728666666667, 109.899, 101.311, 116.53200000000001, 101.311, 101.02799999999999, 111.478, 124.088, 98.19, 114.219, 114.734, 117.708, 114.64983333333299, 119.676, 113.993, 106.583, 123.581, 116.0, 124.13799999999999, 116.17, 105.382, 120.211, 115.335, 103.779, 120.93299999999999, 106.23899999999999, 118.37700000000001, 113.145, 106.677, 113.23299999999999, 124.155, 115.756, 106.728, 122.171, 115.891, 107.89299999999999, 120.21799999999999, 119.964, 119.92, 119.713, 119.743, 119.71600000000001, 117.215, 117.68799999999999, 120.103, 119.962, 120.5, 121.007, 120.759, 121.164, 120.586, 121.01799999999999, 122.117, 122.23899999999999, 124.044, 122.249, 125.184, 124.064, 122.50299999999999, 122.97399999999999, 123.963, 125.14399999999999, 125.743, 126.012, 126.102, 115.833, 115.56299999999999, 115.70299999999999, 115.67, 109.065, 114.96, 114.88799999999999, 107.635, 107.603, 107.492, 107.57, 114.11200000000001, 115.265, 114.005, 107.941, 124.58, 124.854, 125.23700000000001, 125.23299999999999, 125.23899999999999, 125.213, 117.475, 117.515, 112.07, 112.069, 111.92399999999999, 112.009, 116.93, 116.507, 115.56200000000001, 118.382, 118.39299999999999, 118.43, 114.779, 114.645, 115.041, 109.02, 108.839, 113.039, 113.51, 113.25200000000001, 113.465, 113.958, 113.47399999999999, 113.73, 113.87100000000001, 113.801, 115.435, 115.485, 114.876, 115.38600000000001, 115.329, 115.385, 114.214, 114.728, 109.866, 109.572, 109.338, 109.206, 109.54899999999999, 111.189, 111.652, 111.676, 110.445, 111.133, 111.385, 111.693, 111.436, 101.303, 100.836, 100.98200000000001, 101.064, 103.536, 103.56, 102.22, 101.564, 105.323, 102.48, 100.941, 103.085, 103.115, 103.411, 103.337, 103.86399999999999, 104.066, 104.20100000000001, 103.509, 102.977, 101.54799999999999, 101.868, 102.685, 101.05799999999999, 97.134, 95.85700000000001, 98.2, 98.185, 96.603, 96.104, 99.368, 99.359, 98.794, 97.351, 98.339, 98.0, 98.35799999999999, 98.57600000000001, 98.994, 98.84200000000001, 98.719, 129.51, 134.322, 134.86, 133.855, 133.983, 130.7, 133.863, 130.263, 132.17, 135.49, 131.92600000000002, 134.07299999999998, 131.976, 135.375, 131.678, 135.095, 137.53, 131.69, 136.525, 132.594, 130.664, 137.776, 131.41, 131.458, 133.881, 146.507, 144.975, 145.157, 145.082, 149.465, 149.683, 151.642, 151.97, 141.71, 141.515, 146.656, 145.668, 144.54, 142.811, 141.57299999999998, 141.532, 141.045, 141.12, 145.734, 145.455, 145.53799999999998, 142.44, 142.034, 142.364, 144.994, 143.308, 147.279, 146.045, 149.346, 147.736, 153.732, 152.48, 149.958, 153.576, 151.733, 154.555, 153.424, 154.566, 137.284, 137.27100000000002, 133.19, 134.738, 150.099, 141.955, 142.991, 131.955, 138.877, 137.523, 137.52100000000002, 137.516, 137.515, 143.607, 143.602, 143.61, 150.675, 151.224, 149.54, 138.118, 135.214, 137.842, 134.85, 131.761, 138.095, 132.093, 132.094, 137.878, 134.886, 131.877, 146.447, 142.922, 142.09, 142.097, 137.52, 145.776, 148.11700000000002, 137.526, 137.525, 137.513, 132.999, 133.0, 133.092, 133.02700000000002, 132.822, 132.705, 132.879, 142.989, 140.8575, 142.989, 133.075, 132.731, 137.501, 143.069, 137.584, 137.713, 137.616, 149.289, 144.501, 149.591, 145.6985, 150.68, 145.082, 137.358, 134.358, 138.005, 137.696, 137.958, 137.582, 135.908, 135.753, 132.125, 131.953, 136.167, 136.53, 136.317, 136.601, 136.333, 128.725, 128.765, 128.69899999999998, 129.019, 128.96, 129.386, 129.452, 128.24, 155.237, 153.095, 131.363, 138.284, 135.149, 132.123, 137.946, 135.016, 131.714, 133.674, 133.675, 133.399, 133.615, 133.332, 154.741, 127.042, 127.29700000000001, 128.415, 127.625, 127.691, 127.59299999999999, 125.185, 125.387, 98.885, 94.14, 91.163, 92.258, 90.318, 90.641, 91.292, 108.478, 110.484, 98.92, 109.554, 116.04799999999999, 113.205, 106.094, 117.819, 98.50299999999999, 118.639, 125.975, 127.288, 125.96799999999999, 129.442, 130.644, 123.632, 119.94200000000001, 113.042, 118.396, 123.766, 135.113, 133.99, 128.201, 120.51, 107.056, 102.586, 100.421, 100.125, 146.505, 148.157, 150.21, 151.102, 152.09, 152.806, 145.111, 145.374, 144.10399999999998, 145.555, 144.35399999999998, 146.339, 156.297, 156.523, 157.014, 156.291, 156.518, 151.084, 161.475, 163.247, 155.053, 155.142, 154.149, 155.196, 154.164, 154.178, 152.085]}],                        {\"template\": {\"data\": {\"bar\": [{\"error_x\": {\"color\": \"#2a3f5f\"}, \"error_y\": {\"color\": \"#2a3f5f\"}, \"marker\": {\"line\": {\"color\": \"#E5ECF6\", \"width\": 0.5}}, \"type\": \"bar\"}], \"barpolar\": [{\"marker\": {\"line\": {\"color\": \"#E5ECF6\", \"width\": 0.5}}, \"type\": \"barpolar\"}], \"carpet\": [{\"aaxis\": {\"endlinecolor\": \"#2a3f5f\", \"gridcolor\": \"white\", \"linecolor\": \"white\", \"minorgridcolor\": \"white\", \"startlinecolor\": \"#2a3f5f\"}, \"baxis\": {\"endlinecolor\": \"#2a3f5f\", \"gridcolor\": \"white\", \"linecolor\": \"white\", \"minorgridcolor\": \"white\", \"startlinecolor\": \"#2a3f5f\"}, \"type\": \"carpet\"}], \"choropleth\": [{\"colorbar\": {\"outlinewidth\": 0, \"ticks\": \"\"}, \"type\": \"choropleth\"}], \"contour\": [{\"colorbar\": {\"outlinewidth\": 0, \"ticks\": \"\"}, \"colorscale\": [[0.0, \"#0d0887\"], [0.1111111111111111, \"#46039f\"], [0.2222222222222222, \"#7201a8\"], [0.3333333333333333, \"#9c179e\"], [0.4444444444444444, \"#bd3786\"], [0.5555555555555556, \"#d8576b\"], [0.6666666666666666, \"#ed7953\"], [0.7777777777777778, \"#fb9f3a\"], [0.8888888888888888, \"#fdca26\"], [1.0, \"#f0f921\"]], \"type\": \"contour\"}], \"contourcarpet\": [{\"colorbar\": {\"outlinewidth\": 0, \"ticks\": \"\"}, \"type\": \"contourcarpet\"}], \"heatmap\": [{\"colorbar\": {\"outlinewidth\": 0, \"ticks\": \"\"}, \"colorscale\": [[0.0, \"#0d0887\"], [0.1111111111111111, \"#46039f\"], [0.2222222222222222, \"#7201a8\"], [0.3333333333333333, \"#9c179e\"], [0.4444444444444444, \"#bd3786\"], [0.5555555555555556, \"#d8576b\"], [0.6666666666666666, \"#ed7953\"], [0.7777777777777778, \"#fb9f3a\"], [0.8888888888888888, \"#fdca26\"], [1.0, \"#f0f921\"]], \"type\": \"heatmap\"}], \"heatmapgl\": [{\"colorbar\": {\"outlinewidth\": 0, \"ticks\": \"\"}, \"colorscale\": [[0.0, \"#0d0887\"], [0.1111111111111111, \"#46039f\"], [0.2222222222222222, \"#7201a8\"], [0.3333333333333333, \"#9c179e\"], [0.4444444444444444, \"#bd3786\"], [0.5555555555555556, \"#d8576b\"], [0.6666666666666666, \"#ed7953\"], [0.7777777777777778, \"#fb9f3a\"], [0.8888888888888888, \"#fdca26\"], [1.0, \"#f0f921\"]], \"type\": \"heatmapgl\"}], \"histogram\": [{\"marker\": {\"colorbar\": {\"outlinewidth\": 0, \"ticks\": \"\"}}, \"type\": \"histogram\"}], \"histogram2d\": [{\"colorbar\": {\"outlinewidth\": 0, \"ticks\": \"\"}, \"colorscale\": [[0.0, \"#0d0887\"], [0.1111111111111111, \"#46039f\"], [0.2222222222222222, \"#7201a8\"], [0.3333333333333333, \"#9c179e\"], [0.4444444444444444, \"#bd3786\"], [0.5555555555555556, \"#d8576b\"], [0.6666666666666666, \"#ed7953\"], [0.7777777777777778, \"#fb9f3a\"], [0.8888888888888888, \"#fdca26\"], [1.0, \"#f0f921\"]], \"type\": \"histogram2d\"}], \"histogram2dcontour\": [{\"colorbar\": {\"outlinewidth\": 0, \"ticks\": \"\"}, \"colorscale\": [[0.0, \"#0d0887\"], [0.1111111111111111, \"#46039f\"], [0.2222222222222222, \"#7201a8\"], [0.3333333333333333, \"#9c179e\"], [0.4444444444444444, \"#bd3786\"], [0.5555555555555556, \"#d8576b\"], [0.6666666666666666, \"#ed7953\"], [0.7777777777777778, \"#fb9f3a\"], [0.8888888888888888, \"#fdca26\"], [1.0, \"#f0f921\"]], \"type\": \"histogram2dcontour\"}], \"mesh3d\": [{\"colorbar\": {\"outlinewidth\": 0, \"ticks\": \"\"}, \"type\": \"mesh3d\"}], \"parcoords\": [{\"line\": {\"colorbar\": {\"outlinewidth\": 0, \"ticks\": \"\"}}, \"type\": \"parcoords\"}], \"pie\": [{\"automargin\": true, \"type\": \"pie\"}], \"scatter\": [{\"marker\": {\"colorbar\": {\"outlinewidth\": 0, \"ticks\": \"\"}}, \"type\": \"scatter\"}], \"scatter3d\": [{\"line\": {\"colorbar\": {\"outlinewidth\": 0, \"ticks\": \"\"}}, \"marker\": {\"colorbar\": {\"outlinewidth\": 0, \"ticks\": \"\"}}, \"type\": \"scatter3d\"}], \"scattercarpet\": [{\"marker\": {\"colorbar\": {\"outlinewidth\": 0, \"ticks\": \"\"}}, \"type\": \"scattercarpet\"}], \"scattergeo\": [{\"marker\": {\"colorbar\": {\"outlinewidth\": 0, \"ticks\": \"\"}}, \"type\": \"scattergeo\"}], \"scattergl\": [{\"marker\": {\"colorbar\": {\"outlinewidth\": 0, \"ticks\": \"\"}}, \"type\": \"scattergl\"}], \"scattermapbox\": [{\"marker\": {\"colorbar\": {\"outlinewidth\": 0, \"ticks\": \"\"}}, \"type\": \"scattermapbox\"}], \"scatterpolar\": [{\"marker\": {\"colorbar\": {\"outlinewidth\": 0, \"ticks\": \"\"}}, \"type\": \"scatterpolar\"}], \"scatterpolargl\": [{\"marker\": {\"colorbar\": {\"outlinewidth\": 0, \"ticks\": \"\"}}, \"type\": \"scatterpolargl\"}], \"scatterternary\": [{\"marker\": {\"colorbar\": {\"outlinewidth\": 0, \"ticks\": \"\"}}, \"type\": \"scatterternary\"}], \"surface\": [{\"colorbar\": {\"outlinewidth\": 0, \"ticks\": \"\"}, \"colorscale\": [[0.0, \"#0d0887\"], [0.1111111111111111, \"#46039f\"], [0.2222222222222222, \"#7201a8\"], [0.3333333333333333, \"#9c179e\"], [0.4444444444444444, \"#bd3786\"], [0.5555555555555556, \"#d8576b\"], [0.6666666666666666, \"#ed7953\"], [0.7777777777777778, \"#fb9f3a\"], [0.8888888888888888, \"#fdca26\"], [1.0, \"#f0f921\"]], \"type\": \"surface\"}], \"table\": [{\"cells\": {\"fill\": {\"color\": \"#EBF0F8\"}, \"line\": {\"color\": \"white\"}}, \"header\": {\"fill\": {\"color\": \"#C8D4E3\"}, \"line\": {\"color\": \"white\"}}, \"type\": \"table\"}]}, \"layout\": {\"annotationdefaults\": {\"arrowcolor\": \"#2a3f5f\", \"arrowhead\": 0, \"arrowwidth\": 1}, \"coloraxis\": {\"colorbar\": {\"outlinewidth\": 0, \"ticks\": \"\"}}, \"colorscale\": {\"diverging\": [[0, \"#8e0152\"], [0.1, \"#c51b7d\"], [0.2, \"#de77ae\"], [0.3, \"#f1b6da\"], [0.4, \"#fde0ef\"], [0.5, \"#f7f7f7\"], [0.6, \"#e6f5d0\"], [0.7, \"#b8e186\"], [0.8, \"#7fbc41\"], [0.9, \"#4d9221\"], [1, \"#276419\"]], \"sequential\": [[0.0, \"#0d0887\"], [0.1111111111111111, \"#46039f\"], [0.2222222222222222, \"#7201a8\"], [0.3333333333333333, \"#9c179e\"], [0.4444444444444444, \"#bd3786\"], [0.5555555555555556, \"#d8576b\"], [0.6666666666666666, \"#ed7953\"], [0.7777777777777778, \"#fb9f3a\"], [0.8888888888888888, \"#fdca26\"], [1.0, \"#f0f921\"]], \"sequentialminus\": [[0.0, \"#0d0887\"], [0.1111111111111111, \"#46039f\"], [0.2222222222222222, \"#7201a8\"], [0.3333333333333333, \"#9c179e\"], [0.4444444444444444, \"#bd3786\"], [0.5555555555555556, \"#d8576b\"], [0.6666666666666666, \"#ed7953\"], [0.7777777777777778, \"#fb9f3a\"], [0.8888888888888888, \"#fdca26\"], [1.0, \"#f0f921\"]]}, \"colorway\": [\"#636efa\", \"#EF553B\", \"#00cc96\", \"#ab63fa\", \"#FFA15A\", \"#19d3f3\", \"#FF6692\", \"#B6E880\", \"#FF97FF\", \"#FECB52\"], \"font\": {\"color\": \"#2a3f5f\"}, \"geo\": {\"bgcolor\": \"white\", \"lakecolor\": \"white\", \"landcolor\": \"#E5ECF6\", \"showlakes\": true, \"showland\": true, \"subunitcolor\": \"white\"}, \"hoverlabel\": {\"align\": \"left\"}, \"hovermode\": \"closest\", \"mapbox\": {\"style\": \"light\"}, \"paper_bgcolor\": \"white\", \"plot_bgcolor\": \"#E5ECF6\", \"polar\": {\"angularaxis\": {\"gridcolor\": \"white\", \"linecolor\": \"white\", \"ticks\": \"\"}, \"bgcolor\": \"#E5ECF6\", \"radialaxis\": {\"gridcolor\": \"white\", \"linecolor\": \"white\", \"ticks\": \"\"}}, \"scene\": {\"xaxis\": {\"backgroundcolor\": \"#E5ECF6\", \"gridcolor\": \"white\", \"gridwidth\": 2, \"linecolor\": \"white\", \"showbackground\": true, \"ticks\": \"\", \"zerolinecolor\": \"white\"}, \"yaxis\": {\"backgroundcolor\": \"#E5ECF6\", \"gridcolor\": \"white\", \"gridwidth\": 2, \"linecolor\": \"white\", \"showbackground\": true, \"ticks\": \"\", \"zerolinecolor\": \"white\"}, \"zaxis\": {\"backgroundcolor\": \"#E5ECF6\", \"gridcolor\": \"white\", \"gridwidth\": 2, \"linecolor\": \"white\", \"showbackground\": true, \"ticks\": \"\", \"zerolinecolor\": \"white\"}}, \"shapedefaults\": {\"line\": {\"color\": \"#2a3f5f\"}}, \"ternary\": {\"aaxis\": {\"gridcolor\": \"white\", \"linecolor\": \"white\", \"ticks\": \"\"}, \"baxis\": {\"gridcolor\": \"white\", \"linecolor\": \"white\", \"ticks\": \"\"}, \"bgcolor\": \"#E5ECF6\", \"caxis\": {\"gridcolor\": \"white\", \"linecolor\": \"white\", \"ticks\": \"\"}}, \"title\": {\"x\": 0.05}, \"xaxis\": {\"automargin\": true, \"gridcolor\": \"white\", \"linecolor\": \"white\", \"ticks\": \"\", \"title\": {\"standoff\": 15}, \"zerolinecolor\": \"white\", \"zerolinewidth\": 2}, \"yaxis\": {\"automargin\": true, \"gridcolor\": \"white\", \"linecolor\": \"white\", \"ticks\": \"\", \"title\": {\"standoff\": 15}, \"zerolinecolor\": \"white\", \"zerolinewidth\": 2}}}},                        {\"responsive\": true}                    ).then(function(){\n",
       "                            \n",
       "var gd = document.getElementById('a65a2212-0d51-4cd4-a2e0-554beab616d0');\n",
       "var x = new MutationObserver(function (mutations, observer) {{\n",
       "        var display = window.getComputedStyle(gd).display;\n",
       "        if (!display || display === 'none') {{\n",
       "            console.log([gd, 'removed!']);\n",
       "            Plotly.purge(gd);\n",
       "            observer.disconnect();\n",
       "        }}\n",
       "}});\n",
       "\n",
       "// Listen for the removal of the full notebook cells\n",
       "var notebookContainer = gd.closest('#notebook-container');\n",
       "if (notebookContainer) {{\n",
       "    x.observe(notebookContainer, {childList: true});\n",
       "}}\n",
       "\n",
       "// Listen for the clearing of the current output cell\n",
       "var outputEl = gd.closest('.output');\n",
       "if (outputEl) {{\n",
       "    x.observe(outputEl, {childList: true});\n",
       "}}\n",
       "\n",
       "                        })                };                });            </script>        </div>"
      ]
     },
     "metadata": {},
     "output_type": "display_data"
    }
   ],
   "source": [
    "fig = go.Figure(\n",
    "        data=[go.Scatter3d(\n",
    "            x=df1.x,\n",
    "            y=df1.y,\n",
    "            z=df1.z,\n",
    "            customdata=df1[['cible','secteur']],\n",
    "            mode='markers',)\n",
    "        ]\n",
    "    )\n",
    "fig.update_traces(\n",
    "        marker=dict(size=3, opacity=0.6, color='#7FFFD4')\n",
    "    )"
   ]
  },
  {
   "cell_type": "code",
   "execution_count": 29,
   "metadata": {
    "scrolled": true
   },
   "outputs": [
    {
     "data": {
      "application/vnd.plotly.v1+json": {
       "config": {
        "plotlyServerURL": "https://plot.ly"
       },
       "data": [
        {
         "customdata": [
          [
           "Auto-AC11a",
           "Hors secteur"
          ],
          [
           "Auto-AC1Ba",
           "Hors secteur"
          ],
          [
           "Auto-AC311a",
           "Hors secteur"
          ],
          [
           "Auto-AC32a",
           "Hors secteur"
          ],
          [
           "Auto-AC5Ba",
           "Hors secteur"
          ],
          [
           "Auto-AC7Ba",
           "Hors secteur"
          ],
          [
           "Auto-AC9a",
           "Hors secteur"
          ],
          [
           "Auto-B11a",
           "Hors secteur"
          ],
          [
           "Auto-B12a",
           "Hors secteur"
          ],
          [
           "Auto-B41a",
           "Hors secteur"
          ],
          [
           "Auto-B42a",
           "Hors secteur"
          ],
          [
           "Auto-B51a",
           "Hors secteur"
          ],
          [
           "Auto-B52a",
           "Hors secteur"
          ],
          [
           "Auto-B61a",
           "Hors secteur"
          ],
          [
           "Auto-B62a",
           "Hors secteur"
          ],
          [
           "Auto-BAPM.4a",
           "Hors secteur"
          ],
          [
           "Auto-BAPM1.1a",
           "Hors secteur"
          ],
          [
           "Auto-BAPM2.1a",
           "Hors secteur"
          ],
          [
           "Auto-BAPM3.1a",
           "Hors secteur"
          ],
          [
           "Auto-G11a",
           "Hors secteur"
          ],
          [
           "Auto-G12a",
           "Hors secteur"
          ],
          [
           "Auto-G13a",
           "Hors secteur"
          ],
          [
           "Auto-GR2.1a",
           "Hors secteur"
          ],
          [
           "Auto-GR2.2a",
           "Hors secteur"
          ],
          [
           "Auto-GR2.3a",
           "Hors secteur"
          ],
          [
           "Auto-MS20a",
           "Hors secteur"
          ],
          [
           "Auto-MS21a",
           "Hors secteur"
          ],
          [
           "Auto-MS22a",
           "Hors secteur"
          ],
          [
           "Auto-MS25a",
           "Hors secteur"
          ],
          [
           "Auto-MS26a",
           "Hors secteur"
          ],
          [
           "Auto-MS27a",
           "Hors secteur"
          ],
          [
           "Auto-MS31a",
           "Hors secteur"
          ],
          [
           "Auto-MS32a",
           "Hors secteur"
          ],
          [
           "Auto-PC1.1a",
           "Hors secteur"
          ],
          [
           "Auto-PC101a",
           "Hors secteur"
          ],
          [
           "Auto-PC105a",
           "Hors secteur"
          ],
          [
           "Auto-PC106a",
           "Hors secteur"
          ],
          [
           "Auto-PC107a",
           "Hors secteur"
          ],
          [
           "Auto-PC108a",
           "Hors secteur"
          ],
          [
           "Auto-PC10a",
           "Hors secteur"
          ],
          [
           "Auto-PC111a",
           "Hors secteur"
          ],
          [
           "Auto-PC112a",
           "Hors secteur"
          ],
          [
           "Auto-PC11a",
           "Hors secteur"
          ],
          [
           "Auto-PC12a",
           "Hors secteur"
          ],
          [
           "Auto-PC13.1a",
           "Hors secteur"
          ],
          [
           "Auto-PC13a",
           "Hors secteur"
          ],
          [
           "Auto-PC14.1a",
           "Hors secteur"
          ],
          [
           "Auto-PC15.1a",
           "Hors secteur"
          ],
          [
           "Auto-PC16.1a",
           "Hors secteur"
          ],
          [
           "Auto-PC17.1a",
           "Hors secteur"
          ],
          [
           "Auto-PC1A",
           "Hors secteur"
          ],
          [
           "Auto-PC2.1a",
           "Hors secteur"
          ],
          [
           "Auto-PC201a",
           "Hors secteur"
          ],
          [
           "Auto-PC202a",
           "Hors secteur"
          ],
          [
           "Auto-PC203a",
           "Hors secteur"
          ],
          [
           "Auto-PC204a",
           "Hors secteur"
          ],
          [
           "Auto-PC205a",
           "Hors secteur"
          ],
          [
           "Auto-PC206a",
           "Hors secteur"
          ],
          [
           "Auto-PC207a",
           "Hors secteur"
          ],
          [
           "Auto-PC208a",
           "Hors secteur"
          ],
          [
           "Auto-PC209a",
           "Hors secteur"
          ],
          [
           "Auto-PC21a",
           "Hors secteur"
          ],
          [
           "Auto-PC22a",
           "Hors secteur"
          ],
          [
           "Auto-PC23a",
           "Hors secteur"
          ],
          [
           "Auto-PC23Ba",
           "Hors secteur"
          ],
          [
           "Auto-PC2a",
           "Hors secteur"
          ],
          [
           "Auto-PC3.1a",
           "Hors secteur"
          ],
          [
           "Auto-PC301a",
           "Hors secteur"
          ],
          [
           "Auto-PC302a",
           "Hors secteur"
          ],
          [
           "Auto-PC304a",
           "Hors secteur"
          ],
          [
           "Auto-PC305a",
           "Hors secteur"
          ],
          [
           "Auto-PC307a",
           "Hors secteur"
          ],
          [
           "Auto-PC308a",
           "Hors secteur"
          ],
          [
           "Auto-PC309a",
           "Hors secteur"
          ],
          [
           "Auto-PC310a",
           "Hors secteur"
          ],
          [
           "Auto-PC3a",
           "Hors secteur"
          ],
          [
           "Auto-PC401a",
           "Hors secteur"
          ],
          [
           "Auto-PC402a",
           "Hors secteur"
          ],
          [
           "Auto-PC403a",
           "Hors secteur"
          ],
          [
           "Auto-PC450a",
           "Hors secteur"
          ],
          [
           "Auto-PC451a",
           "Hors secteur"
          ],
          [
           "Auto-PC452a",
           "Hors secteur"
          ],
          [
           "Auto-PC453a",
           "Hors secteur"
          ],
          [
           "Auto-PC4a",
           "Hors secteur"
          ],
          [
           "Auto-PC5a",
           "Hors secteur"
          ],
          [
           "Auto-PC6.1a",
           "Hors secteur"
          ],
          [
           "Auto-PC6A",
           "Hors secteur"
          ],
          [
           "Auto-PC7.1a",
           "Hors secteur"
          ],
          [
           "Auto-PC7a",
           "Hors secteur"
          ],
          [
           "Auto-PC8a",
           "Hors secteur"
          ],
          [
           "Auto-PCBA.1a",
           "Hors secteur"
          ],
          [
           "Auto-PCBA.2a",
           "Hors secteur"
          ],
          [
           "Auto-PCBA.3a",
           "Hors secteur"
          ],
          [
           "Auto-PCBA.4a",
           "Hors secteur"
          ],
          [
           "Auto-PD1a",
           "Hors secteur"
          ],
          [
           "Auto-PD2.a",
           "Hors secteur"
          ],
          [
           "Auto-PL101a",
           "Hors secteur"
          ],
          [
           "Auto-PL202a",
           "Hors secteur"
          ],
          [
           "Auto-PL301a",
           "Hors secteur"
          ],
          [
           "Auto-PL402a",
           "Hors secteur"
          ],
          [
           "Auto-PL501a",
           "Hors secteur"
          ],
          [
           "Auto-PM.603a",
           "Hors secteur"
          ],
          [
           "Auto-PM.604a",
           "Hors secteur"
          ],
          [
           "Auto-PM.605a",
           "Hors secteur"
          ],
          [
           "Auto-PM209a",
           "Hors secteur"
          ],
          [
           "Auto-PM210a",
           "Hors secteur"
          ],
          [
           "Auto-PM211a",
           "Hors secteur"
          ],
          [
           "Auto-PM212a",
           "Hors secteur"
          ],
          [
           "Auto-PM213a",
           "Hors secteur"
          ],
          [
           "Auto-PM301a",
           "Hors secteur"
          ],
          [
           "Auto-PM302a",
           "Hors secteur"
          ],
          [
           "Auto-PM303a",
           "Hors secteur"
          ],
          [
           "Auto-PM304a",
           "Hors secteur"
          ],
          [
           "Auto-PM305a",
           "Hors secteur"
          ],
          [
           "Auto-PM601a",
           "Hors secteur"
          ],
          [
           "Auto-PM602a",
           "Hors secteur"
          ],
          [
           "Auto-PMS.1a",
           "Hors secteur"
          ],
          [
           "Auto-PMS1.2a",
           "Hors secteur"
          ],
          [
           "Auto-PMS2.1a",
           "Hors secteur"
          ],
          [
           "Auto-PMS2.2a",
           "Hors secteur"
          ],
          [
           "Auto-PMS3.1a",
           "Hors secteur"
          ],
          [
           "Auto-PMS3.2a",
           "Hors secteur"
          ],
          [
           "Auto-PMS4.1a",
           "Hors secteur"
          ],
          [
           "Auto-PMS4.2a",
           "Hors secteur"
          ],
          [
           "Auto-PMS5.1a",
           "Hors secteur"
          ],
          [
           "Auto-PMS5.2a",
           "Hors secteur"
          ],
          [
           "Auto-PR14.1a",
           "Hors secteur"
          ],
          [
           "Auto-RN7.1a",
           "Hors secteur"
          ],
          [
           "Auto-TREM1a",
           "Hors secteur"
          ],
          [
           "Auto-TREM2.1a",
           "Hors secteur"
          ],
          [
           "Auto-TREM2.2a",
           "Hors secteur"
          ],
          [
           "Auto-TREM2.3a",
           "Hors secteur"
          ],
          [
           "Auto-TREM2a",
           "Hors secteur"
          ],
          [
           "Auto-TREM3.a",
           "Hors secteur"
          ],
          [
           "Auto-TREM4.a",
           "Hors secteur"
          ],
          [
           "Auto-TREM5a",
           "Hors secteur"
          ],
          [
           "Auto-TREM6a",
           "Hors secteur"
          ],
          [
           "Auto-VJ1a",
           "Hors secteur"
          ],
          [
           "Auto-VJ2a",
           "Hors secteur"
          ],
          [
           "Auto-VJ3a",
           "Hors secteur"
          ],
          [
           "Auto-VJ4a",
           "Hors secteur"
          ],
          [
           "Auto-VJ6a",
           "Hors secteur"
          ],
          [
           "Auto-VJ7a",
           "Hors secteur"
          ],
          [
           "Auto-B13b",
           "Hors secteur"
          ],
          [
           "Auto-B14b",
           "Hors secteur"
          ],
          [
           "Auto-B23b",
           "Hors secteur"
          ],
          [
           "Auto-B24b",
           "Hors secteur"
          ],
          [
           "Auto-B43b",
           "Hors secteur"
          ],
          [
           "Auto-B44b",
           "Hors secteur"
          ],
          [
           "Auto-B53b",
           "Hors secteur"
          ],
          [
           "Auto-B54b",
           "Hors secteur"
          ],
          [
           "Auto-B63b",
           "Hors secteur"
          ],
          [
           "Auto-B64b",
           "Hors secteur"
          ],
          [
           "Auto-BAPM1.1b",
           "Hors secteur"
          ],
          [
           "Auto-BAPM2.1b",
           "Hors secteur"
          ],
          [
           "Auto-DB1b",
           "Hors secteur"
          ],
          [
           "Auto-DB2b",
           "Hors secteur"
          ],
          [
           "Auto-F1.1b",
           "Hors secteur"
          ],
          [
           "Auto-F1.2b",
           "Hors secteur"
          ],
          [
           "Auto-F1.3b",
           "Hors secteur"
          ],
          [
           "Auto-F1.4b",
           "Hors secteur"
          ],
          [
           "Auto-F2.1b",
           "Hors secteur"
          ],
          [
           "Auto-F2.2b",
           "Hors secteur"
          ],
          [
           "Auto-F2.3b",
           "Hors secteur"
          ],
          [
           "Auto-F2.4b",
           "Hors secteur"
          ],
          [
           "Auto-F3.1b",
           "Hors secteur"
          ],
          [
           "Auto-F3.2b",
           "Hors secteur"
          ],
          [
           "Auto-F3.3b",
           "Hors secteur"
          ],
          [
           "Auto-F3.4b",
           "Hors secteur"
          ],
          [
           "Auto-F4.1b",
           "Hors secteur"
          ],
          [
           "Auto-F4.2b",
           "Hors secteur"
          ],
          [
           "Auto-F4.3b",
           "Hors secteur"
          ],
          [
           "Auto-F5.1b",
           "Hors secteur"
          ],
          [
           "Auto-F5.2b",
           "Hors secteur"
          ],
          [
           "Auto-F6.1b",
           "Hors secteur"
          ],
          [
           "Auto-F6.2b",
           "Hors secteur"
          ],
          [
           "Auto-F6.3b",
           "Hors secteur"
          ],
          [
           "Auto-F7.1b",
           "Hors secteur"
          ],
          [
           "Auto-F7.2b",
           "Hors secteur"
          ],
          [
           "Auto-F7.3b",
           "Hors secteur"
          ],
          [
           "Auto-F7.4b",
           "Hors secteur"
          ],
          [
           "Auto-GR.2b",
           "Hors secteur"
          ],
          [
           "Auto-GR3b",
           "Hors secteur"
          ],
          [
           "Auto-GR4b",
           "Hors secteur"
          ],
          [
           "Auto-PCBA.1b",
           "Hors secteur"
          ],
          [
           "Auto-PCBA.2b",
           "Hors secteur"
          ],
          [
           "Auto-PD.3b",
           "Hors secteur"
          ],
          [
           "Auto-PD.4b",
           "Hors secteur"
          ],
          [
           "Auto-PM102b",
           "Hors secteur"
          ],
          [
           "Auto-PM103b",
           "Hors secteur"
          ],
          [
           "Auto-PM201b",
           "Hors secteur"
          ],
          [
           "Auto-PM401b",
           "Hors secteur"
          ],
          [
           "Auto-PM402b",
           "Hors secteur"
          ],
          [
           "Auto-PM403b",
           "Hors secteur"
          ],
          [
           "Auto-PM404b",
           "Hors secteur"
          ],
          [
           "Auto-PM501b",
           "Hors secteur"
          ],
          [
           "Auto-PM615b",
           "Hors secteur"
          ],
          [
           "Auto-PM616b",
           "Hors secteur"
          ],
          [
           "Auto-PM617b",
           "Hors secteur"
          ],
          [
           "Auto-PMS.1b",
           "Hors secteur"
          ],
          [
           "Auto-PMS1.2b",
           "Hors secteur"
          ],
          [
           "Auto-PMS2.1b",
           "Hors secteur"
          ],
          [
           "Auto-PMS2.2b",
           "Hors secteur"
          ],
          [
           "Auto-PMS3.1b",
           "Hors secteur"
          ],
          [
           "Auto-PMS3.2b",
           "Hors secteur"
          ],
          [
           "Auto-REFSS6b",
           "Hors secteur"
          ],
          [
           "Auto-REFSS7b",
           "Hors secteur"
          ],
          [
           "Auto-TQ101b",
           "Hors secteur"
          ],
          [
           "Auto-TQ102b",
           "Hors secteur"
          ],
          [
           "Auto-TQ103b",
           "Hors secteur"
          ],
          [
           "Auto-TQ202b",
           "Hors secteur"
          ],
          [
           "Auto-TQ203b",
           "Hors secteur"
          ],
          [
           "Auto-TREM18.1b",
           "Hors secteur"
          ],
          [
           "Auto-TREM18.2b",
           "Hors secteur"
          ],
          [
           "Auto-US101b",
           "Hors secteur"
          ],
          [
           "Auto-US102b",
           "Hors secteur"
          ],
          [
           "Auto-US201b",
           "Hors secteur"
          ],
          [
           "Auto-US202b",
           "Hors secteur"
          ],
          [
           "Auto-UV101b",
           "Hors secteur"
          ],
          [
           "Auto-UV102b",
           "Hors secteur"
          ],
          [
           "Auto-UV103b",
           "Hors secteur"
          ],
          [
           "Auto-UV104b",
           "Hors secteur"
          ],
          [
           "Auto-UV201b",
           "Hors secteur"
          ],
          [
           "Auto-UV202b",
           "Hors secteur"
          ],
          [
           "Auto-UV203b",
           "Hors secteur"
          ],
          [
           "Auto-UV303b",
           "Hors secteur"
          ],
          [
           "Auto-BA2.1d",
           "Hors secteur"
          ],
          [
           "Auto-BARET10.1d",
           "Hors secteur"
          ],
          [
           "Auto-BARET11.1d",
           "Hors secteur"
          ],
          [
           "Auto-BARET11.2d",
           "Hors secteur"
          ],
          [
           "Auto-BARET11.3d",
           "Hors secteur"
          ],
          [
           "Auto-BARET11.7d",
           "Hors secteur"
          ],
          [
           "Auto-BARET2.2d",
           "Hors secteur"
          ],
          [
           "Auto-BARET2.7d",
           "Hors secteur"
          ],
          [
           "Auto-BARET3.2d",
           "Hors secteur"
          ],
          [
           "Auto-BARET3.3d",
           "Hors secteur"
          ],
          [
           "Auto-BARET9.7d",
           "Hors secteur"
          ],
          [
           "Auto-F1.1d",
           "Hors secteur"
          ],
          [
           "Auto-F1.2d",
           "Hors secteur"
          ],
          [
           "Auto-F2.1d",
           "Hors secteur"
          ],
          [
           "Auto-F2.2d",
           "Hors secteur"
          ],
          [
           "Auto-F2.3d",
           "Hors secteur"
          ],
          [
           "Auto-F3.1d",
           "Hors secteur"
          ],
          [
           "Auto-F3.2d",
           "Hors secteur"
          ],
          [
           "Auto-F4.1d",
           "Hors secteur"
          ],
          [
           "Auto-F4.2d",
           "Hors secteur"
          ],
          [
           "Auto-F4.3d",
           "Hors secteur"
          ],
          [
           "Auto-F5.1d",
           "Hors secteur"
          ],
          [
           "Auto-F5.2d",
           "Hors secteur"
          ],
          [
           "Auto-F6.1d",
           "Hors secteur"
          ],
          [
           "Auto-F6.2d",
           "Hors secteur"
          ],
          [
           "Auto-F7.1d",
           "Hors secteur"
          ],
          [
           "Auto-F7.2d",
           "Hors secteur"
          ],
          [
           "Auto-F7.3d",
           "Hors secteur"
          ],
          [
           "Auto-P11.3d",
           "Hors secteur"
          ],
          [
           "Auto-P11.4d",
           "Hors secteur"
          ],
          [
           "Auto-P12.2d",
           "Hors secteur"
          ],
          [
           "Auto-P12.8d",
           "Hors secteur"
          ],
          [
           "Auto-P120.6d",
           "Hors secteur"
          ],
          [
           "Auto-P130.5d",
           "Hors secteur"
          ],
          [
           "Auto-P17.1d",
           "Hors secteur"
          ],
          [
           "Auto-P20.7d",
           "Hors secteur"
          ],
          [
           "Auto-P5.3d",
           "Hors secteur"
          ],
          [
           "Auto-P50.3d",
           "Hors secteur"
          ],
          [
           "Auto-P9.1d",
           "Hors secteur"
          ],
          [
           "Auto-P9.2d",
           "Hors secteur"
          ],
          [
           "Sd-BARET11.1",
           "Hors secteur"
          ],
          [
           "Sd-BARET11.2",
           "Hors secteur"
          ],
          [
           "Sd-BARET11.3",
           "Hors secteur"
          ],
          [
           "Sd-BARET2.1",
           "Hors secteur"
          ],
          [
           "Sd-BARET2.2",
           "Hors secteur"
          ],
          [
           "Sd-BARET3.1",
           "Hors secteur"
          ],
          [
           "Sd-BARET3.2",
           "Hors secteur"
          ],
          [
           "Sd-BARET3.3",
           "Hors secteur"
          ],
          [
           "Sd-BARET4.1",
           "Hors secteur"
          ],
          [
           "Sd-BARET4.2",
           "Hors secteur"
          ],
          [
           "Sd-BARET4.3",
           "Hors secteur"
          ],
          [
           "Sd-BARET5.1",
           "Hors secteur"
          ],
          [
           "Sd-BARET5.3",
           "Hors secteur"
          ],
          [
           "Sd-BARET8.1",
           "Hors secteur"
          ],
          [
           "Sd-BARET8.2",
           "Hors secteur"
          ],
          [
           "Sd-BARET8.3",
           "Hors secteur"
          ],
          [
           "Sd-BARET9.2",
           "Hors secteur"
          ],
          [
           "Sd-BARET6.1",
           "Hors secteur"
          ],
          [
           "Sd-BARET6.2",
           "Hors secteur"
          ],
          [
           "Sd-BARET6.3",
           "Hors secteur"
          ],
          [
           "Sd-BARET1.1",
           "Hors secteur"
          ],
          [
           "Sd-BARET1.2",
           "Hors secteur"
          ],
          [
           "Sd-BARET1.3",
           "Hors secteur"
          ],
          [
           "Sd-P1.1",
           "Hors secteur"
          ],
          [
           "Sd-P2.1",
           "Hors secteur"
          ],
          [
           "Sd-P3.1",
           "Hors secteur"
          ],
          [
           "Sd-P5.1",
           "Hors secteur"
          ],
          [
           "Sd-P6.1",
           "Hors secteur"
          ],
          [
           "Sd-P7.1",
           "Hors secteur"
          ],
          [
           "Sd-P8.1",
           "Hors secteur"
          ],
          [
           "Sd-P9.1",
           "Hors secteur"
          ],
          [
           "Sd-P10.1",
           "Hors secteur"
          ],
          [
           "Sd-P11.1",
           "Hors secteur"
          ],
          [
           "Sd-P12.1",
           "Hors secteur"
          ],
          [
           "Sd-P120.1",
           "Hors secteur"
          ],
          [
           "Sd-P13.1",
           "Hors secteur"
          ],
          [
           "Sd-P130.1",
           "Hors secteur"
          ],
          [
           "Sd-P14.1",
           "Hors secteur"
          ],
          [
           "Sd-P140.1",
           "Hors secteur"
          ],
          [
           "Sd-P142.1",
           "Hors secteur"
          ],
          [
           "Sd-P143.1",
           "Hors secteur"
          ],
          [
           "Sd-P15.1",
           "Hors secteur"
          ],
          [
           "Sd-P150.1",
           "Hors secteur"
          ],
          [
           "Sd-P16.1",
           "Hors secteur"
          ],
          [
           "Sd-P17.1",
           "Hors secteur"
          ],
          [
           "Sd-P18.1",
           "Hors secteur"
          ],
          [
           "Sd-P19.1",
           "Hors secteur"
          ],
          [
           "Sd-P20.1",
           "Hors secteur"
          ],
          [
           "Sd-P21.1",
           "Hors secteur"
          ],
          [
           "Sd-P22.1",
           "Hors secteur"
          ],
          [
           "Sd-P23.1",
           "Hors secteur"
          ],
          [
           "Sd-P24.1",
           "Hors secteur"
          ],
          [
           "Sd-PM.703",
           "Hors secteur"
          ],
          [
           "Sd-PM.704",
           "Hors secteur"
          ],
          [
           "Sd-PM.705",
           "Hors secteur"
          ],
          [
           "Sd-PM.706",
           "Hors secteur"
          ],
          [
           "Sd-P80.1",
           "Hors secteur"
          ],
          [
           "Sd-PIL4A.1",
           "Hors secteur"
          ],
          [
           "Sd-PIL5C.1",
           "Hors secteur"
          ],
          [
           "Sd-BA2.1",
           "Hors secteur"
          ],
          [
           "Sd-BA3.1",
           "Hors secteur"
          ],
          [
           "Sd-BA4.1",
           "Hors secteur"
          ],
          [
           "Sd-BA5.1",
           "Hors secteur"
          ],
          [
           "Sd-PIL10.1",
           "Hors secteur"
          ],
          [
           "Sd-PIL2A.1",
           "Hors secteur"
          ],
          [
           "Sd-PIL8.1",
           "Hors secteur"
          ],
          [
           "Sd-BA1.1",
           "Hors secteur"
          ],
          [
           "Sd-PSDALLE.6",
           "Hors secteur"
          ],
          [
           "Sd-PSDALLE.1",
           "Hors secteur"
          ],
          [
           "Sd-PSDALLE.2",
           "Hors secteur"
          ],
          [
           "Sd-PSDALLE.3",
           "Hors secteur"
          ],
          [
           "Sd-PSDALLE.4",
           "Hors secteur"
          ],
          [
           "Sd-PSDALLE.7",
           "Hors secteur"
          ],
          [
           "Sd-P1.2",
           "Hors secteur"
          ],
          [
           "Sd-P2.2",
           "Hors secteur"
          ],
          [
           "Sd-PM.707",
           "Hors secteur"
          ],
          [
           "Sd-PM.708",
           "Hors secteur"
          ],
          [
           "Sd-PM.709",
           "Hors secteur"
          ],
          [
           "Sd-PM.710",
           "Hors secteur"
          ],
          [
           "Sd-P11.2",
           "Hors secteur"
          ],
          [
           "Sd-P12.2",
           "Hors secteur"
          ],
          [
           "Sd-P141.2",
           "Hors secteur"
          ],
          [
           "Sd-P142.2",
           "Hors secteur"
          ],
          [
           "Sd-P143.2",
           "Hors secteur"
          ],
          [
           "Sd-P150.2",
           "Hors secteur"
          ],
          [
           "Sd-P8.2",
           "Hors secteur"
          ],
          [
           "Sd-P9.2",
           "Hors secteur"
          ],
          [
           "Sd-P50.2",
           "Hors secteur"
          ],
          [
           "Sd-P902",
           "Hors secteur"
          ],
          [
           "Sd-P100.2",
           "Hors secteur"
          ],
          [
           "Sd-P19.2",
           "Hors secteur"
          ],
          [
           "Sd-P20.2",
           "Hors secteur"
          ],
          [
           "Sd-P22.2",
           "Hors secteur"
          ],
          [
           "Sd-P23.2",
           "Hors secteur"
          ],
          [
           "Sd-P25.2",
           "Hors secteur"
          ],
          [
           "Sd-P26.2",
           "Hors secteur"
          ],
          [
           "Sd-P1.3",
           "Hors secteur"
          ],
          [
           "Sd-P2.3",
           "Hors secteur"
          ],
          [
           "Sd-P3.3",
           "Hors secteur"
          ],
          [
           "Sd-P120.3",
           "Hors secteur"
          ],
          [
           "Sd-P130.3",
           "Hors secteur"
          ],
          [
           "Sd-P140.3",
           "Hors secteur"
          ],
          [
           "Sd-P142.3",
           "Hors secteur"
          ],
          [
           "Sd-P143.3",
           "Hors secteur"
          ],
          [
           "Sd-P150.3",
           "Hors secteur"
          ],
          [
           "Sd-P5.3",
           "Hors secteur"
          ],
          [
           "Sd-P50.3",
           "Hors secteur"
          ],
          [
           "Sd-P11.3",
           "Hors secteur"
          ],
          [
           "Sd-P12.3",
           "Hors secteur"
          ],
          [
           "Sd-P8.3",
           "Hors secteur"
          ],
          [
           "Sd-P9.3",
           "Hors secteur"
          ],
          [
           "Sd-P130.4",
           "Hors secteur"
          ],
          [
           "Sd-P140.4",
           "Hors secteur"
          ],
          [
           "Sd-P143.4",
           "Hors secteur"
          ],
          [
           "Sd-P150.4",
           "Hors secteur"
          ],
          [
           "Sd-P1.4",
           "Hors secteur"
          ],
          [
           "Sd-P2.4",
           "Hors secteur"
          ],
          [
           "Sd-P3.4",
           "Hors secteur"
          ],
          [
           "Sd-P5.4",
           "Hors secteur"
          ],
          [
           "Sd-P130.5",
           "Hors secteur"
          ],
          [
           "Sd-P11.4",
           "Hors secteur"
          ],
          [
           "Sd-P12.4",
           "Hors secteur"
          ],
          [
           "Sd-P120.6",
           "Hors secteur"
          ],
          [
           "Sd-P14.6",
           "Hors secteur"
          ],
          [
           "Sd-P143.6",
           "Hors secteur"
          ],
          [
           "Sd-P150.6",
           "Hors secteur"
          ],
          [
           "Sd-P17.6",
           "Hors secteur"
          ],
          [
           "Sd-P110.3",
           "Hors secteur"
          ],
          [
           "Sd-P7.3",
           "Hors secteur"
          ],
          [
           "Sd-P9.4",
           "Hors secteur"
          ],
          [
           "Sd-P901.2",
           "Hors secteur"
          ],
          [
           "Sd-BA3.2",
           "Hors secteur"
          ],
          [
           "Sd-BA4.2",
           "Hors secteur"
          ],
          [
           "Sd-BA5.2",
           "Hors secteur"
          ],
          [
           "Sd-P3.5",
           "Hors secteur"
          ],
          [
           "Sd-P4.5",
           "Hors secteur"
          ],
          [
           "Sd-P5.5",
           "Hors secteur"
          ],
          [
           "Sd-P50.5",
           "Hors secteur"
          ],
          [
           "Sd-P7.5",
           "Hors secteur"
          ],
          [
           "Sd-BA1.2",
           "Hors secteur"
          ],
          [
           "Sd-P22.3",
           "Hors secteur"
          ],
          [
           "Sd-P25.3",
           "Hors secteur"
          ],
          [
           "Sd-P26.3",
           "Hors secteur"
          ],
          [
           "Sd-BARET8.7",
           "Hors secteur"
          ],
          [
           "Sd-BARET9.7",
           "Hors secteur"
          ],
          [
           "Sd-P11.7",
           "Hors secteur"
          ],
          [
           "Sd-P180.7",
           "Hors secteur"
          ],
          [
           "Sd-P20.7",
           "Hors secteur"
          ],
          [
           "Sd-P110.7",
           "Hors secteur"
          ],
          [
           "Sd-P111.7",
           "Hors secteur"
          ],
          [
           "Sd-P8.7",
           "Hors secteur"
          ],
          [
           "Sd-P80.7",
           "Hors secteur"
          ],
          [
           "Sd-P9.7",
           "Hors secteur"
          ],
          [
           "Sd-P901.7",
           "Hors secteur"
          ],
          [
           "Sd-P902.7",
           "Hors secteur"
          ],
          [
           "Sd-BA2.7",
           "Hors secteur"
          ],
          [
           "Sd-BA3.7",
           "Hors secteur"
          ],
          [
           "Sd-BA4.7",
           "Hors secteur"
          ],
          [
           "Sd-BA5.7",
           "Hors secteur"
          ],
          [
           "Sd-P1.7",
           "Hors secteur"
          ],
          [
           "Sd-P3.7",
           "Hors secteur"
          ],
          [
           "Manu-SEC4.1",
           "Hors secteur"
          ],
          [
           "Manu-SEC4.2",
           "Hors secteur"
          ],
          [
           "Manu-SEC4.3",
           "Hors secteur"
          ],
          [
           "Manu-SEC4.4",
           "Hors secteur"
          ],
          [
           "Manu-SEC4.5",
           "Hors secteur"
          ],
          [
           "Manu-SEC4.5C",
           "Hors secteur"
          ],
          [
           "Manu-SEC4.6",
           "Hors secteur"
          ],
          [
           "Manu-SEC4.7",
           "Hors secteur"
          ],
          [
           "Manu-SEC4.8",
           "Hors secteur"
          ],
          [
           "Manu-SEC4.9",
           "Hors secteur"
          ],
          [
           "Manu-SEC4.10",
           "Hors secteur"
          ],
          [
           "Manu-SEC4.11",
           "Hors secteur"
          ],
          [
           "Manu-SEC4.12",
           "Hors secteur"
          ],
          [
           "Manu-SEC4.13",
           "Hors secteur"
          ],
          [
           "Manu-SEC4.14",
           "Hors secteur"
          ],
          [
           "Manu-SEC4.24",
           "Hors secteur"
          ],
          [
           "Manu-SEC4.23",
           "Hors secteur"
          ],
          [
           "Manu-SEC4.22",
           "Hors secteur"
          ],
          [
           "Manu-SEC4.17",
           "Hors secteur"
          ],
          [
           "Manu-SEC4.16",
           "Hors secteur"
          ],
          [
           "Manu-SEC4.15",
           "Hors secteur"
          ],
          [
           "Manu-SEC4.18",
           "Hors secteur"
          ],
          [
           "Manu-SEC4.19",
           "Hors secteur"
          ],
          [
           "Manu-SEC4.20",
           "Hors secteur"
          ],
          [
           "Manu-SEC4.21",
           "Hors secteur"
          ],
          [
           "Manu-PC1",
           "Hors secteur"
          ],
          [
           "Manu-PC2",
           "Hors secteur"
          ],
          [
           "Manu-PC3",
           "Hors secteur"
          ],
          [
           "Manu-PC4",
           "Hors secteur"
          ],
          [
           "Manu-PC5",
           "Hors secteur"
          ],
          [
           "Manu-PC6",
           "Hors secteur"
          ],
          [
           "Manu-PC7",
           "Hors secteur"
          ],
          [
           "Manu-PC8",
           "Hors secteur"
          ],
          [
           "Manu-PC111",
           "Hors secteur"
          ],
          [
           "Manu-PC112",
           "Hors secteur"
          ],
          [
           "Manu-PC10",
           "Hors secteur"
          ],
          [
           "Manu-PC11",
           "Hors secteur"
          ],
          [
           "Manu-PC12",
           "Hors secteur"
          ],
          [
           "Manu-PC13",
           "Hors secteur"
          ],
          [
           "Manu-PC21",
           "Hors secteur"
          ],
          [
           "Manu-PC22",
           "Hors secteur"
          ],
          [
           "Manu-PC23",
           "Hors secteur"
          ],
          [
           "Manu-PC23B",
           "Hors secteur"
          ],
          [
           "Manu-AC1B",
           "Hors secteur"
          ],
          [
           "Manu-AC5B",
           "Hors secteur"
          ],
          [
           "Manu-AC7B",
           "Hors secteur"
          ],
          [
           "Manu-AC30",
           "Hors secteur"
          ],
          [
           "Manu-AC31",
           "Hors secteur"
          ],
          [
           "Manu-AC32",
           "Hors secteur"
          ],
          [
           "Manu-AC7",
           "Hors secteur"
          ],
          [
           "Manu-AC8",
           "Hors secteur"
          ],
          [
           "Manu-AC9",
           "Hors secteur"
          ],
          [
           "Manu-AC10",
           "Hors secteur"
          ],
          [
           "Manu-AC11",
           "Hors secteur"
          ],
          [
           "Manu-AC12",
           "Hors secteur"
          ],
          [
           "Manu-VJ1",
           "Hors secteur"
          ],
          [
           "Manu-VJ2",
           "Hors secteur"
          ],
          [
           "Manu-VJ3",
           "Hors secteur"
          ],
          [
           "Manu-VJ4",
           "Hors secteur"
          ],
          [
           "Manu-VJ5",
           "Hors secteur"
          ],
          [
           "Manu-VB1",
           "Hors secteur"
          ],
          [
           "Manu-VB2",
           "Hors secteur"
          ],
          [
           "Manu-VB3",
           "Hors secteur"
          ],
          [
           "Manu-PN.1",
           "Hors secteur"
          ],
          [
           "Manu-PN.2",
           "Hors secteur"
          ],
          [
           "Manu-PN.3",
           "Hors secteur"
          ],
          [
           "Manu-PN.4",
           "Hors secteur"
          ],
          [
           "Manu-NP.1",
           "Hors secteur"
          ],
          [
           "Manu-AC311B",
           "Hors secteur"
          ],
          [
           "Manu-BAPM1.1",
           "Hors secteur"
          ],
          [
           "Manu-MS21",
           "Hors secteur"
          ],
          [
           "Manu-MS22",
           "Hors secteur"
          ],
          [
           "Manu-PC13.1",
           "Hors secteur"
          ],
          [
           "Manu-PC2.1",
           "Hors secteur"
          ],
          [
           "Manu-PC3.1",
           "Hors secteur"
          ],
          [
           "Manu-PC7.1",
           "Hors secteur"
          ],
          [
           "Manu-PCBA.1",
           "Hors secteur"
          ],
          [
           "Manu-PCBA.2",
           "Hors secteur"
          ],
          [
           "Manu-PCBA.3",
           "Hors secteur"
          ],
          [
           "Manu-PMS3.1",
           "Hors secteur"
          ],
          [
           "Manu-PMS4.1",
           "Hors secteur"
          ],
          [
           "Manu-PMS4.2",
           "Hors secteur"
          ],
          [
           "Manu-F1.1",
           "Hors secteur"
          ],
          [
           "Manu-F1.2",
           "Hors secteur"
          ],
          [
           "Manu-F2.1",
           "Hors secteur"
          ],
          [
           "Manu-F2.2",
           "Hors secteur"
          ],
          [
           "Manu-F2.3",
           "Hors secteur"
          ],
          [
           "Manu-F3.1",
           "Hors secteur"
          ],
          [
           "Manu-F3.2",
           "Hors secteur"
          ],
          [
           "Manu-F3.3",
           "Hors secteur"
          ],
          [
           "Manu-F4.1",
           "Hors secteur"
          ],
          [
           "Manu-F4.2",
           "Hors secteur"
          ],
          [
           "Manu-F4.3",
           "Hors secteur"
          ],
          [
           "Manu-PMS3.2",
           "Hors secteur"
          ],
          [
           "Manu-MS25",
           "Hors secteur"
          ],
          [
           "Manu-MS26",
           "Hors secteur"
          ],
          [
           "Manu-MS27",
           "Hors secteur"
          ],
          [
           "Manu-PC15.1",
           "Hors secteur"
          ],
          [
           "Manu-PMS7.2",
           "Hors secteur"
          ],
          [
           "Manu-PMS6.1",
           "Hors secteur"
          ],
          [
           "Manu-PC14.1",
           "Hors secteur"
          ],
          [
           "Manu-PC16.1",
           "Hors secteur"
          ],
          [
           "Manu-PC17.1",
           "Hors secteur"
          ],
          [
           "Manu-PC201",
           "Hors secteur"
          ],
          [
           "Manu-PC202",
           "Hors secteur"
          ],
          [
           "Manu-PC203",
           "Hors secteur"
          ],
          [
           "Manu-PC204",
           "Hors secteur"
          ],
          [
           "Manu-PC207",
           "Hors secteur"
          ],
          [
           "Manu-PC208",
           "Hors secteur"
          ],
          [
           "Manu-PC209",
           "Hors secteur"
          ],
          [
           "Manu-BAPM.4",
           "Hors secteur"
          ],
          [
           "Manu-BAPM2.1",
           "Hors secteur"
          ],
          [
           "Manu-BAPM3.1",
           "Hors secteur"
          ],
          [
           "Manu-PC205",
           "Hors secteur"
          ],
          [
           "Manu-PC206",
           "Hors secteur"
          ],
          [
           "Manu-PC1.1",
           "Hors secteur"
          ],
          [
           "Manu-PCBA.4",
           "Hors secteur"
          ],
          [
           "Manu-PM209",
           "Hors secteur"
          ],
          [
           "Manu-PM212",
           "Hors secteur"
          ],
          [
           "Manu-PM213",
           "Hors secteur"
          ],
          [
           "Manu-PMS.1",
           "Hors secteur"
          ],
          [
           "Manu-PMS1.2",
           "Hors secteur"
          ],
          [
           "Manu-PMS2.1",
           "Hors secteur"
          ],
          [
           "Manu-PMS2.2",
           "Hors secteur"
          ],
          [
           "Manu-PMS5.1",
           "Hors secteur"
          ],
          [
           "Manu-PMS5.2",
           "Hors secteur"
          ],
          [
           "Manu-F5.1",
           "Hors secteur"
          ],
          [
           "Manu-F5.2",
           "Hors secteur"
          ],
          [
           "Manu-PM102",
           "Hors secteur"
          ],
          [
           "Manu-PM201",
           "Hors secteur"
          ],
          [
           "Manu-PM103",
           "Hors secteur"
          ],
          [
           "Manu-PM.204",
           "Hors secteur"
          ],
          [
           "Manu-PM.301",
           "Hors secteur"
          ],
          [
           "Manu-PM.302",
           "Hors secteur"
          ],
          [
           "Manu-PM.401",
           "Hors secteur"
          ],
          [
           "Manu-PM.402",
           "Hors secteur"
          ],
          [
           "Manu-PC108",
           "Hors secteur"
          ],
          [
           "Manu-PC107",
           "Hors secteur"
          ],
          [
           "Manu-PC106",
           "Hors secteur"
          ],
          [
           "Manu-PC105",
           "Hors secteur"
          ],
          [
           "Manu-PC101",
           "Hors secteur"
          ],
          [
           "Manu-PC310",
           "Hors secteur"
          ],
          [
           "Manu-PC309",
           "Hors secteur"
          ],
          [
           "Manu-PC308",
           "Hors secteur"
          ],
          [
           "Manu-PC307",
           "Hors secteur"
          ],
          [
           "Manu-PC305",
           "Hors secteur"
          ],
          [
           "Manu-PC304",
           "Hors secteur"
          ],
          [
           "Manu-PC302",
           "Hors secteur"
          ],
          [
           "Manu-PC301",
           "Hors secteur"
          ],
          [
           "Manu-RN7.1",
           "Hors secteur"
          ],
          [
           "Manu-VJ6",
           "Hors secteur"
          ],
          [
           "Manu-F5.3",
           "Hors secteur"
          ],
          [
           "Manu-F6.1",
           "Hors secteur"
          ],
          [
           "Manu-F6.2",
           "Hors secteur"
          ],
          [
           "Manu-F6.3",
           "Hors secteur"
          ],
          [
           "Manu-F7.1",
           "Hors secteur"
          ],
          [
           "Manu-F7.2",
           "Hors secteur"
          ],
          [
           "Manu-F7.3",
           "Hors secteur"
          ],
          [
           "Manu-PM400",
           "Hors secteur"
          ],
          [
           "Manu-PM401",
           "Hors secteur"
          ],
          [
           "Manu-PM403",
           "Hors secteur"
          ],
          [
           "Manu-PM404",
           "Hors secteur"
          ],
          [
           "Manu-PM405",
           "Hors secteur"
          ],
          [
           "Manu-VJ7",
           "Hors secteur"
          ],
          [
           "Manu-PRT1",
           "Hors secteur"
          ],
          [
           "Manu-PRT2",
           "Hors secteur"
          ],
          [
           "Manu-PAL3",
           "Hors secteur"
          ],
          [
           "Manu-PAL4",
           "Hors secteur"
          ],
          [
           "Manu-PAL5",
           "Hors secteur"
          ],
          [
           "Manu-PAL6",
           "Hors secteur"
          ],
          [
           "Manu-PRTE1",
           "Hors secteur"
          ],
          [
           "Manu-PRTE2",
           "Hors secteur"
          ],
          [
           "Manu-SEC123.1",
           "Hors secteur"
          ],
          [
           "Manu-SEC123.2",
           "Hors secteur"
          ],
          [
           "Manu-SEC123.3",
           "Hors secteur"
          ],
          [
           "Manu-SEC123.4",
           "Hors secteur"
          ],
          [
           "Manu-SEC123.5",
           "Hors secteur"
          ],
          [
           "Manu-SEC123.6",
           "Hors secteur"
          ],
          [
           "Manu-SEC123.7",
           "Hors secteur"
          ],
          [
           "Manu-SEC123.8",
           "Hors secteur"
          ],
          [
           "Manu-SEC123.9",
           "Hors secteur"
          ],
          [
           "Manu-SEC123.10",
           "Hors secteur"
          ],
          [
           "Manu-SEC123.11",
           "Hors secteur"
          ],
          [
           "Manu-SEC123.12",
           "Hors secteur"
          ],
          [
           "Manu-SEC123.13",
           "Hors secteur"
          ],
          [
           "Manu-SEC123.14",
           "Hors secteur"
          ],
          [
           "Manu-SEC123.15",
           "Hors secteur"
          ],
          [
           "Manu-SEC123.16",
           "Hors secteur"
          ],
          [
           "Manu-SEC123.17",
           "Hors secteur"
          ],
          [
           "Manu-SEC123.18",
           "Hors secteur"
          ],
          [
           "Manu-SEC123.19",
           "Hors secteur"
          ],
          [
           "Manu-SEC123.20",
           "Hors secteur"
          ],
          [
           "Manu-SEC123.21",
           "Hors secteur"
          ],
          [
           "Manu-SEC123.22",
           "Hors secteur"
          ],
          [
           "Manu-SEC123.23",
           "Hors secteur"
          ],
          [
           "Manu-SEC123.24",
           "Hors secteur"
          ],
          [
           "Manu-SEC123.25",
           "Hors secteur"
          ],
          [
           "Manu-SEC123.26",
           "Hors secteur"
          ],
          [
           "Manu-SEC123.27",
           "Hors secteur"
          ],
          [
           "Manu-SEC123.28",
           "Hors secteur"
          ],
          [
           "Manu-SEC123.29",
           "Hors secteur"
          ],
          [
           "Manu-SEC123.30",
           "Hors secteur"
          ],
          [
           "Manu-SEC123.31",
           "Hors secteur"
          ],
          [
           "Manu-SEC123.32",
           "Hors secteur"
          ],
          [
           "Manu-SEC123.33",
           "Hors secteur"
          ],
          [
           "Manu-SEC123.34",
           "Hors secteur"
          ],
          [
           "Manu-SEC123.35",
           "Hors secteur"
          ],
          [
           "Manu-RN7.11",
           "Hors secteur"
          ],
          [
           "Manu-RN7.12",
           "Hors secteur"
          ],
          [
           "Manu-RN7.13",
           "Hors secteur"
          ],
          [
           "Manu-RN7.14",
           "Hors secteur"
          ],
          [
           "Manu-RN7.15",
           "Hors secteur"
          ],
          [
           "Manu-RN7.16",
           "Hors secteur"
          ],
          [
           "Manu-ESC1",
           "Hors secteur"
          ],
          [
           "Manu-ESC2",
           "Hors secteur"
          ],
          [
           "Manu-MJ1",
           "Hors secteur"
          ],
          [
           "Manu-MJ2",
           "Hors secteur"
          ],
          [
           "Manu-MJ3",
           "Hors secteur"
          ],
          [
           "Manu-RN7.10",
           "Hors secteur"
          ],
          [
           "Manu-PM4",
           "Hors secteur"
          ],
          [
           "Manu-PM5",
           "Hors secteur"
          ],
          [
           "Manu-PM6",
           "Hors secteur"
          ],
          [
           "Manu-PM7",
           "Hors secteur"
          ],
          [
           "Manu-PM8",
           "Hors secteur"
          ],
          [
           "Manu-RN7.14B",
           "Hors secteur"
          ],
          [
           "Manu-PM2",
           "Hors secteur"
          ],
          [
           "Manu-PM3",
           "Hors secteur"
          ],
          [
           "Manu-VB4",
           "Hors secteur"
          ],
          [
           "Manu-VB20",
           "Hors secteur"
          ],
          [
           "Manu-VB21",
           "Hors secteur"
          ],
          [
           "Manu-VB22",
           "Hors secteur"
          ],
          [
           "Manu-VB23",
           "Hors secteur"
          ],
          [
           "Manu-VJ20",
           "Hors secteur"
          ],
          [
           "Manu-VJ21",
           "Hors secteur"
          ]
         ],
         "marker": {
          "color": "#7FFFD4",
          "opacity": 0.6,
          "size": 3
         },
         "mode": "markers",
         "type": "scatter3d",
         "x": [
          2055322.26044898,
          2055342.9189400002,
          2055344.57523077,
          2055341.59467961,
          2055343.32005769,
          2055339.66398413,
          2055329.79601639,
          2055252.1435,
          2055254.27,
          2055267.89272727,
          2055269.83054545,
          2055276.18418182,
          2055278.43118182,
          2055283.75045455,
          2055286.11854545,
          2055253.55733333,
          2055244.4919999999,
          2055235.44498333,
          2055242.09733333,
          2055366.1469999999,
          2055359.5669999998,
          2055359.53,
          2055330.376,
          2055330.616,
          2055325.237,
          2055373.53928571,
          2055368.02515789,
          2055363.81809023,
          2055361.31810526,
          2055344.371875,
          2055345.83,
          2055348.845,
          2055362.937,
          2055305.3811,
          2055352.14525,
          2055344.9019999998,
          2055340.28,
          2055329.0580000002,
          2055318.378,
          2055321.60808163,
          2055317.99720513,
          2055309.53397436,
          2055333.51254167,
          2055333.55457088,
          2055355.0790000001,
          2055339.28491209,
          2055346.0901,
          2055346.13,
          2055346.1519999998,
          2055344.428,
          2055317.41494872,
          2055316.54096,
          2055355.2340000002,
          2055346.283,
          2055346.237,
          2055346.27684615,
          2055344.4931,
          2055340.458,
          2055328.16404348,
          2055316.61385714,
          2055305.4440000001,
          2055321.89495714,
          2055328.29028571,
          2055333.15112727,
          2055339.32820027,
          2055301.79604666,
          2055327.83535537,
          2055353.322,
          2055353.3218,
          2055346.303,
          2055344.487,
          2055328.175,
          2055318.716,
          2055304.9109999998,
          2055293.174,
          2055309.105,
          2055375.052,
          2055365.315,
          2055358.035,
          2055376.8648,
          2055376.759,
          2055378.596,
          2055380.2704,
          2055293.60293551,
          2055314.83296139,
          2055293.14870244,
          2055309.54747436,
          2055324.48042857,
          2055302.31618018,
          2055296.89476448,
          2055255.10475,
          2055262.11117778,
          2055279.14417647,
          2055284.989,
          2055316.906,
          2055292.4309999999,
          2055279.10621277,
          2055276.62406383,
          2055279.06087234,
          2055276.615875,
          2055279.06285106,
          2055268.32080769,
          2055262.52992308,
          2055255.699,
          2055262.09,
          2055269.5368,
          2055279.0479,
          2055284.96495,
          2055290.940875,
          2055290.75341176,
          2055284.95564706,
          2055279.03152941,
          2055269.61641176,
          2055262.38470588,
          2055290.47075,
          2055279.0878,
          2055252.78552364,
          2055253.2395,
          2055261.4952599998,
          2055261.53323913,
          2055269.38050952,
          2055269.06395238,
          2055288.21704116,
          2055288.63920134,
          2055277.87506302,
          2055278.40519748,
          2055379.465,
          2055295.79871429,
          2055379.975,
          2055322.812875,
          2055339.846,
          2055342.914,
          2055379.968,
          2055380.27005,
          2055369.705,
          2055373.33291667,
          2055378.77425,
          2055331.22122255,
          2055331.20444118,
          2055331.02812805,
          2055332.9492549,
          2055323.72171429,
          2055323.87871429,
          2055252.87216667,
          2055255.33233333,
          2055260.99416667,
          2055263.42016667,
          2055268.80684615,
          2055270.81484615,
          2055276.11684615,
          2055278.72984615,
          2055284.24076923,
          2055286.55869231,
          2055244.49676923,
          2055235.44466667,
          2055242.736,
          2055242.14,
          2055320.18908021,
          2055320.04710695,
          2055320.08452941,
          2055319.93369231,
          2055330.8474,
          2055330.93212903,
          2055330.89584767,
          2055330.80184615,
          2055343.73318182,
          2055343.766125,
          2055343.63907692,
          2055343.7664897998,
          2055354.41166667,
          2055354.3290000001,
          2055354.398,
          2055366.8004,
          2055366.6409999998,
          2055312.4294,
          2055312.5869999998,
          2055312.615,
          2055303.8669999999,
          2055304.0744,
          2055304.0690000001,
          2055302.5447799999,
          2055254.24585714,
          2055336.64157143,
          2055340.25285714,
          2055255.10361538,
          2055262.16191667,
          2055291.80211111,
          2055350.9730000002,
          2055243.83881818,
          2055239.053,
          2055255.399,
          2055235.226125,
          2055235.8857,
          2055237.214875,
          2055241.709,
          2055235.45771429,
          2055235.97442857,
          2055235.22828571,
          2055236.23,
          2055252.78594444,
          2055253.239,
          2055261.495,
          2055261.533,
          2055269.3794,
          2055269.41505555,
          2055329.60223256,
          2055318.13093333,
          2055234.985,
          2055237.894,
          2055239.229,
          2055237.6609999998,
          2055239.138,
          2055343.477,
          2055344.55444444,
          2055234.55485714,
          2055232.1515,
          2055234.40971429,
          2055232.45271429,
          2055237.29785714,
          2055249.2769999998,
          2055258.118,
          2055267.102,
          2055279.94157143,
          2055271.4218,
          2055245.74841429,
          2055244.6940000001,
          2055292.866,
          2055341.13335714,
          2055346.898,
          2055346.9430000002,
          2055346.737,
          2055346.775,
          2055324.53214286,
          2055324.3268,
          2055330.1819999998,
          2055330.09142857,
          2055363.356,
          2055320.18914286,
          2055320.04671429,
          2055330.8469999998,
          2055330.9330000002,
          2055330.91621429,
          2055343.72464286,
          2055343.75557143,
          2055354.4030000002,
          2055354.3272,
          2055354.38907143,
          2055366.80171429,
          2055366.636,
          2055312.4422,
          2055312.6005,
          2055303.87392857,
          2055304.08614286,
          2055304.084,
          2055366.885,
          2055366.573,
          2055374.4419999998,
          2055366.573,
          2055377.356,
          2055378.793,
          2055378.785,
          2055344.632,
          2055330.75028571,
          2055335.53,
          2055346.445,
          2055346.42083333,
          2055346.833,
          2055346.88,
          2055346.679,
          2055324.639,
          2055324.5219999999,
          2055330.19,
          2055330.112,
          2055330.082,
          2055341.946,
          2055343.0690000001,
          2055342.5869999998,
          2055359.665,
          2055359.744,
          2055362.4840000002,
          2055362.496,
          2055362.459,
          2055362.3369999998,
          2055362.733,
          2055362.705,
          2055362.757,
          2055309.0480000002,
          2055309.053,
          2055309.063,
          2055296.3830000001,
          2055305.485,
          2055314.481,
          2055330.32,
          2055339.208,
          2055341.031,
          2055342.497,
          2055346.4019999998,
          2055357.0880000002,
          2055367.8059999999,
          2055374.239,
          2055377.333,
          2055377.664,
          2055378.9230000002,
          2055379.476,
          2055379.979,
          2055379.983,
          2055379.956,
          2055379.759,
          2055380.0380000002,
          2055379.751,
          2055378.781,
          2055371.374,
          2055361.844,
          2055346.158,
          2055341.244,
          2055329.701,
          2055323.9780000001,
          2055318.271,
          2055284.843,
          2055278.233,
          2055268.9640000002,
          2055260.1619999998,
          2055345.352,
          2055340.459,
          2055360.955,
          2055292.8590000002,
          2055292.9840000002,
          2055293.034,
          2055293.148,
          2055341.09,
          2055308.529,
          2055323.626,
          2055292.804,
          2055378.6519999998,
          2055344.767,
          2055320.79,
          2055293.804,
          2055293.011,
          2055344.392,
          2055296.332,
          2055305.668,
          2055284.658,
          2055284.658,
          2055268.884,
          2055260.119,
          2055367.9309999999,
          2055374.456,
          2055379.996,
          2055380.019,
          2055379.96,
          2055380.0259999998,
          2055342.501,
          2055346.414,
          2055335.507,
          2055346.3159999999,
          2055348.928,
          2055357.265,
          2055345.054,
          2055331.043,
          2055323.626,
          2055312.291,
          2055293.657,
          2055296.957,
          2055305.73,
          2055314.427,
          2055377.32,
          2055378.9019999998,
          2055380.065,
          2055379.971,
          2055380.0269999998,
          2055380.0980000002,
          2055330.737,
          2055335.5159999998,
          2055366.889,
          2055374.6830000002,
          2055342.524,
          2055346.481,
          2055378.858,
          2055380.086,
          2055380.05,
          2055380.0680000002,
          2055296.876,
          2055305.841,
          2055314.74,
          2055330.894,
          2055378.814,
          2055366.594,
          2055374.9,
          2055377.372,
          2055378.856,
          2055379.956,
          2055379.9640000002,
          2055377.882,
          2055356.2580000001,
          2055339.093,
          2055346.56,
          2055346.27,
          2055293.01,
          2055293.071,
          2055293.1709999999,
          2055314.86,
          2055325.1430000002,
          2055331.121,
          2055335.274,
          2055341.064,
          2055292.771,
          2055330.532,
          2055310.138,
          2055293.491,
          2055363.386,
          2055363.369,
          2055366.7580000001,
          2055364.675,
          2055344.615,
          2055356.11,
          2055361.666,
          2055342.394,
          2055345.174,
          2055346.533,
          2055346.254,
          2055346.265,
          2055292.74,
          2055292.045,
          2055292.4519999998,
          2055292.701,
          2055296.774,
          2055314.8290000001,
          2055382.447,
          2055380.71,
          2055379.15,
          2055378.4019999998,
          2055377.106,
          2055376.149,
          2055371.001,
          2055370.31,
          2055366.0119999999,
          2055362.3390000002,
          2055359.995,
          2055349.07,
          2055348.185,
          2055336.3669999999,
          2055336.42,
          2055324.761,
          2055323.134,
          2055318.594,
          2055318.511,
          2055324.4730000002,
          2055326.573,
          2055308.57,
          2055307.79,
          2055296.03,
          2055297.132,
          2055317.407,
          2055301.784,
          2055309.0969999998,
          2055293.5869999998,
          2055314.8080000002,
          2055309.5369999998,
          2055302.295,
          2055296.874,
          2055317.989,
          2055309.534,
          2055321.586,
          2055327.822,
          2055333.5359999998,
          2055339.269,
          2055321.886,
          2055328.283,
          2055333.1430000002,
          2055339.313,
          2055342.9130000002,
          2055343.3180000002,
          2055339.642,
          2055344.59,
          2055344.1630000002,
          2055341.576,
          2055339.741,
          2055339.865,
          2055329.78,
          2055329.573,
          2055322.237,
          2055322.2130000002,
          2055331.2230000002,
          2055331.1909999999,
          2055331.0219999999,
          2055332.9430000002,
          2055332.936,
          2055329.332,
          2055329.333,
          2055329.381,
          2055356.6719999998,
          2055356.685,
          2055356.8480000002,
          2055356.826,
          2055269.375,
          2055344.755,
          2055244.483,
          2055363.822,
          2055361.3190000001,
          2055355.0790000001,
          2055316.491,
          2055327.771,
          2055340.3480000002,
          2055255.095,
          2055262.146,
          2055279.154,
          2055277.878,
          2055288.2030000002,
          2055288.6269999999,
          2055320.187,
          2055320.045,
          2055330.842,
          2055330.929,
          2055330.8930000002,
          2055343.726,
          2055343.7580000001,
          2055343.757,
          2055354.405,
          2055354.32,
          2055354.389,
          2055278.409,
          2055344.366,
          2055345.824,
          2055348.8390000002,
          2055346.1230000001,
          2055233.947,
          2055241.77,
          2055346.09,
          2055346.1519999998,
          2055344.428,
          2055355.226,
          2055346.274,
          2055346.2280000001,
          2055346.2680000002,
          2055328.176,
          2055316.6030000001,
          2055305.4440000001,
          2055244.486,
          2055235.449,
          2055244.486,
          2055344.4840000002,
          2055340.447,
          2055305.372,
          2055285.035,
          2055262.3730000001,
          2055284.9540000001,
          2055290.9309999999,
          2055257.136,
          2055261.5669999998,
          2055261.4919999999,
          2055261.529,
          2055277.866,
          2055293.59,
          2055366.801,
          2055366.64,
          2055243.855,
          2055255.4019999998,
          2055239.0669999998,
          2055262.3730000001,
          2055279.021,
          2055269.604,
          2055290.7419999999,
          2055284.9440000001,
          2055318.378,
          2055329.0580000002,
          2055340.28,
          2055344.9019999998,
          2055352.145,
          2055293.174,
          2055304.9109999998,
          2055318.716,
          2055328.175,
          2055344.487,
          2055346.303,
          2055346.311,
          2055353.322,
          2055295.7980000002,
          2055323.721,
          2055366.658,
          2055312.44,
          2055312.5980000002,
          2055312.626,
          2055303.878,
          2055304.084,
          2055304.081,
          2055233.2240000002,
          2055235.227,
          2055237.216,
          2055241.71,
          2055251.415,
          2055323.7869999998,
          2055378.1930000002,
          2055379.155,
          2055384.7319999998,
          2055381.501,
          2055380.615,
          2055379.8080000002,
          2055378.8930000002,
          2055380.771,
          2055262.38,
          2055281.82,
          2055291.4009999998,
          2055300.6619999998,
          2055308.635,
          2055320.63,
          2055329.8190000001,
          2055286.852,
          2055292.0559999999,
          2055298.12,
          2055297.655,
          2055296.7719999999,
          2055302.157,
          2055306.855,
          2055304.9440000001,
          2055308.5259999998,
          2055309.908,
          2055313.8469999998,
          2055317.198,
          2055320.552,
          2055325.408,
          2055328.342,
          2055331.4219999998,
          2055328.5769999998,
          2055326.918,
          2055333.476,
          2055335.917,
          2055346.118,
          2055350.629,
          2055350.034,
          2055346.168,
          2055335.299,
          2055326.2769999998,
          2055322.884,
          2055334.8069999998,
          2055184.8,
          2055207.331,
          2055239.285,
          2055257.269,
          2055274.013,
          2055285.281,
          2055198.361,
          2055198.0590000001,
          2055218.92,
          2055216.0369999998,
          2055216.03,
          2055206.4619999998,
          2055269.253,
          2055273.6809999999,
          2055284.3180000002,
          2055269.256,
          2055273.6830000002,
          2055257.2719999999,
          2055297.36,
          2055294.312,
          2055330.4119999998,
          2055325.624,
          2055325.624,
          2055325.229,
          2055325.24,
          2055326.959,
          2055326.961
         ],
         "y": [
          3179692.24002041,
          3179722.4902,
          3179713.86192308,
          3179702.08153398,
          3179713.80840385,
          3179700.29389418,
          3179694.77302268,
          3179683.33966667,
          3179683.568,
          3179685.84418182,
          3179685.86818182,
          3179684.33090909,
          3179684.29254546,
          3179683.09781818,
          3179683.14527273,
          3179683.41033333,
          3179683.392,
          3179680.3735,
          3179682.75816667,
          3179690.1580000003,
          3179690.209,
          3179696.095,
          3179663.818,
          3179668.876,
          3179664.042,
          3179729.2010000004,
          3179729.47584211,
          3179729.48984211,
          3179729.67910526,
          3179728.501,
          3179729.2789999996,
          3179729.385,
          3179729.2010000004,
          3179681.45031667,
          3179728.2405,
          3179707.256,
          3179694.4669999997,
          3179690.9689999996,
          3179686.639,
          3179689.83402041,
          3179688.33152564,
          3179684.21015384,
          3179694.54340238,
          3179694.6385677997,
          3179728.38930769,
          3179696.49333883,
          3179728.314,
          3179724.1769999997,
          3179715.8985,
          3179705.7460000003,
          3179689.83812821,
          3179685.99435077,
          3179728.215,
          3179728.195,
          3179724.395,
          3179715.863,
          3179705.615,
          3179694.6389375,
          3179690.50486957,
          3179685.861,
          3179681.332,
          3179689.58635714,
          3179691.91028571,
          3179693.6061697,
          3179696.42113656,
          3179684.17312086,
          3179690.68712397,
          3179728.1769999997,
          3179728.1764,
          3179716.0568,
          3179705.5,
          3179690.613,
          3179686.7855,
          3179681.185,
          3179682.085,
          3179685.07702564,
          3179728.328,
          3179728.378,
          3179728.341,
          3179724.3032,
          3179727.6824,
          3179716.2169999997,
          3179698.3019999997,
          3179684.56360817,
          3179693.43286873,
          3179678.9117439,
          3179691.69653846,
          3179685.77609524,
          3179692.24547374,
          3179692.32088417,
          3179684.95825,
          3179686.4126,
          3179685.32131933,
          3179684.13816667,
          3179662.542,
          3179672.61375,
          3179685.24780851,
          3179685.77440426,
          3179685.27919149,
          3179685.73327083,
          3179685.25606383,
          3179685.655,
          3179686.34438461,
          3179685.0360000003,
          3179686.0930000003,
          3179686.8107,
          3179685.3057,
          3179684.1360000004,
          3179683.03125,
          3179683.02847059,
          3179684.12376471,
          3179685.27676471,
          3179686.78605882,
          3179686.45235294,
          3179683.07025,
          3179685.2789999996,
          3179690.36600546,
          3179689.8365,
          3179689.9479799997,
          3179689.41880435,
          3179689.49845238,
          3179689.06012771,
          3179690.46663559,
          3179690.3184735,
          3179689.22218487,
          3179688.57622269,
          3179709.248,
          3179706.865,
          3179677.047,
          3179684.015,
          3179689.137,
          3179694.31925,
          3179687.992,
          3179698.30205,
          3179675.9669,
          3179674.9280000003,
          3179673.25575,
          3179701.30870968,
          3179701.27668984,
          3179701.15091463,
          3179708.62213726,
          3179703.84785714,
          3179703.83042857,
          3179648.788,
          3179648.8710000003,
          3179648.81116667,
          3179648.80733333,
          3179648.39,
          3179648.48230769,
          3179648.74638462,
          3179648.90223077,
          3179649.17023077,
          3179649.29846154,
          3179683.394,
          3179680.37294445,
          3179675.998,
          3179675.837,
          3179649.77709091,
          3179649.85033155,
          3179649.88799465,
          3179649.91169231,
          3179649.1406,
          3179649.24298925,
          3179649.19795161,
          3179649.19430769,
          3179648.40590909,
          3179648.4869999997,
          3179648.52684615,
          3179648.48671429,
          3179650.52333333,
          3179650.4669999997,
          3179650.5086,
          3179656.6892,
          3179656.829,
          3179650.2989999996,
          3179650.2,
          3179650.2260000003,
          3179650.777,
          3179650.7610000004,
          3179650.78,
          3179650.89156,
          3179685.34914286,
          3179657.289,
          3179657.17,
          3179684.95692308,
          3179686.46466667,
          3179651.91044444,
          3179649.84422222,
          3179683.07918182,
          3179681.6319999998,
          3179685.00666667,
          3179670.822125,
          3179678.4978,
          3179680.027125,
          3179681.719375,
          3179671.22442857,
          3179678.49657143,
          3179670.37557143,
          3179670.37175,
          3179690.3660000004,
          3179689.845,
          3179689.9480000003,
          3179689.4189999998,
          3179689.497,
          3179689.06,
          3179649.21095349,
          3179650.1318,
          3179656.811,
          3179666.563,
          3179673.738,
          3179666.295,
          3179673.005,
          3179648.78255556,
          3179660.707,
          3179648.61685714,
          3179659.4905,
          3179649.21871429,
          3179659.03542857,
          3179647.22514286,
          3179648.110625,
          3179648.30475,
          3179648.19775,
          3179648.70728571,
          3179648.1862,
          3179647.92785714,
          3179647.811,
          3179669.54885714,
          3179680.04714286,
          3179683.126,
          3179682.7569999998,
          3179683.34,
          3179682.832,
          3179667.14,
          3179667.2048,
          3179666.9189999998,
          3179666.795,
          3179714.2210000004,
          3179649.77728571,
          3179649.85242857,
          3179649.14428571,
          3179649.24271429,
          3179649.18792857,
          3179648.412,
          3179648.49314286,
          3179650.52792857,
          3179650.4671,
          3179650.51092857,
          3179656.69114286,
          3179656.828,
          3179650.3060000003,
          3179650.208,
          3179650.78464286,
          3179650.77314286,
          3179650.78833333,
          3179728.1580000003,
          3179728.21,
          3179728.144,
          3179728.21,
          3179722.748,
          3179713.22,
          3179670.8019999997,
          3179648.486,
          3179691.3039999995,
          3179692.1980000003,
          3179718.17342857,
          3179718.5760000004,
          3179683.1180000002,
          3179682.749,
          3179683.334,
          3179667.1119999997,
          3179667.14,
          3179666.838,
          3179666.895,
          3179666.792,
          3179666.012,
          3179666,
          3179665.894,
          3179673.645,
          3179673.793,
          3179711.111,
          3179711.025,
          3179711.02,
          3179714.4439999997,
          3179689.0239999997,
          3179689.244,
          3179689.307,
          3179667.0069999998,
          3179667.083,
          3179667.164,
          3179681.421,
          3179681.298,
          3179684.854,
          3179691.232,
          3179693.755,
          3179695.163,
          3179699.336,
          3179718.2169999997,
          3179728.245,
          3179728.1610000003,
          3179728.203,
          3179722.545,
          3179720.5239999997,
          3179712.943,
          3179709.244,
          3179705.8419999997,
          3179693.164,
          3179685.3060000003,
          3179682.78,
          3179679.208,
          3179674.752,
          3179670.7189999996,
          3179659.828,
          3179653.7860000003,
          3179648.472,
          3179648.775,
          3179649.202,
          3179649.534,
          3179650.123,
          3179683.8910000003,
          3179685.2739999997,
          3179686.369,
          3179686.083,
          3179708.898,
          3179666.068,
          3179675.557,
          3179669.5539999995,
          3179672.615,
          3179676.309,
          3179681.577,
          3179679.97,
          3179668.023,
          3179683.216,
          3179662.788,
          3179706.393,
          3179696.165,
          3179687.133,
          3179681.0069999998,
          3179652.3210000005,
          3179661.08,
          3179681.42,
          3179681.308,
          3179683.7989999996,
          3179683.8,
          3179686.334,
          3179685.957,
          3179728.1119999997,
          3179728.1969999997,
          3179696.84,
          3179693.175,
          3179685.14,
          3179679.1769999997,
          3179699.3030000003,
          3179718.558,
          3179692.2,
          3179727.58,
          3179728.251,
          3179651.341,
          3179648.475,
          3179649.276,
          3179649.7139999997,
          3179650.352,
          3179651.397,
          3179681.099,
          3179681.202,
          3179684.526,
          3179722.787,
          3179713.349,
          3179705.04,
          3179693.1569999997,
          3179685.165,
          3179679.24,
          3179691.313,
          3179692.202,
          3179728.211,
          3179728.252,
          3179699.41,
          3179718.5069999998,
          3179713.142,
          3179705.115,
          3179685.3860000004,
          3179679.64,
          3179681.142,
          3179681.352,
          3179684.88,
          3179691.308,
          3179713.2630000003,
          3179728.202,
          3179728.153,
          3179722.788,
          3179713.474,
          3179684.923,
          3179679.539,
          3179669.4310000003,
          3179728.369,
          3179693.682,
          3179718.478,
          3179727.7630000003,
          3179672.547,
          3179676.28,
          3179681.462,
          3179685.168,
          3179689.481,
          3179691.46,
          3179692.2369999997,
          3179695.1989999996,
          3179662.765,
          3179649.32,
          3179650.473,
          3179651.415,
          3179710.942,
          3179714.212,
          3179728.272,
          3179655.61,
          3179648.481,
          3179728.3639999996,
          3179728.236,
          3179699.352,
          3179707.9839999997,
          3179718.472,
          3179727.887,
          3179722.9439999997,
          3179669.937,
          3179672.224,
          3179676.182,
          3179681.7810000004,
          3179681.375,
          3179685.146,
          3179666.966,
          3179667.269,
          3179664.416,
          3179663.409,
          3179659.106,
          3179658.522,
          3179652.995,
          3179652.525,
          3179649.503,
          3179647.3260000004,
          3179646.166,
          3179643.847,
          3179643.562,
          3179643.623,
          3179642.47,
          3179645.039,
          3179644.537,
          3179644.0039999997,
          3179644.628,
          3179643.244,
          3179644.027,
          3179647.39,
          3179645.317,
          3179645.796,
          3179645.689,
          3179689.855,
          3179684.186,
          3179685.095,
          3179684.57,
          3179693.4469999997,
          3179691.713,
          3179692.247,
          3179692.3210000005,
          3179688.349,
          3179684.256,
          3179689.863,
          3179692.15,
          3179694.673,
          3179696.5,
          3179689.6010000003,
          3179691.9510000004,
          3179693.624,
          3179696.4289999995,
          3179722.499,
          3179713.83,
          3179700.317,
          3179722.9480000003,
          3179711.789,
          3179702.0960000004,
          3179700.6,
          3179700.808,
          3179694.8019999997,
          3179694.7139999997,
          3179692.264,
          3179692.1610000003,
          3179701.3310000002,
          3179701.2819999997,
          3179701.165,
          3179708.619,
          3179708.5939999996,
          3179717.035,
          3179717.001,
          3179719.765,
          3179718.127,
          3179722.642,
          3179718.085,
          3179727.152,
          3179689.5039999997,
          3179714.1380000003,
          3179683.403,
          3179729.503,
          3179729.692,
          3179728.389,
          3179685.961,
          3179690.648,
          3179694.645,
          3179684.965,
          3179686.465,
          3179685.356,
          3179689.2210000004,
          3179690.4760000003,
          3179690.328,
          3179649.768,
          3179649.8419999997,
          3179649.137,
          3179649.233,
          3179649.186,
          3179648.401,
          3179648.483,
          3179648.483,
          3179650.519,
          3179650.462,
          3179650.5039999997,
          3179688.5730000003,
          3179728.501,
          3179729.2789999996,
          3179729.385,
          3179724.1769999997,
          3179688.9280000003,
          3179690.1089999997,
          3179728.314,
          3179715.8989999997,
          3179705.7460000003,
          3179728.22,
          3179728.2010000004,
          3179724.4,
          3179715.8680000002,
          3179690.5089999996,
          3179685.861,
          3179681.332,
          3179683.402,
          3179680.367,
          3179683.401,
          3179705.619,
          3179694.639,
          3179681.454,
          3179684.195,
          3179686.459,
          3179684.144,
          3179683.039,
          3179690.1539999996,
          3179688.3605,
          3179689.9460000005,
          3179689.416,
          3179689.2339999997,
          3179684.559,
          3179656.687,
          3179656.8239999996,
          3179683.082,
          3179685.005,
          3179681.637,
          3179686.457,
          3179685.2819999997,
          3179686.79,
          3179683.0330000003,
          3179684.128,
          3179686.639,
          3179690.9689999996,
          3179694.4669999997,
          3179707.256,
          3179728.2410000004,
          3179682.085,
          3179681.185,
          3179686.785,
          3179690.613,
          3179705.5,
          3179716.057,
          3179727.58,
          3179728.1769999997,
          3179706.865,
          3179703.848,
          3179656.835,
          3179650.2989999996,
          3179650.202,
          3179650.225,
          3179650.777,
          3179650.76,
          3179650.7819999997,
          3179662.433,
          3179670.8230000003,
          3179680.028,
          3179681.72,
          3179683.724,
          3179703.8310000002,
          3179727.0110000004,
          3179719.0960000004,
          3179687.1560000004,
          3179704.672,
          3179709.887,
          3179714.7189999996,
          3179719.363,
          3179708.9710000004,
          3179611.722,
          3179611.84,
          3179614.5039999997,
          3179618.17,
          3179617.334,
          3179617.5069999998,
          3179612.348,
          3179623.0039999997,
          3179622.512,
          3179620.841,
          3179622.3710000003,
          3179623.486,
          3179624.1789999995,
          3179622.914,
          3179626.3419999997,
          3179618.923,
          3179627.626,
          3179634.355,
          3179634.173,
          3179633.91,
          3179633.006,
          3179626.8060000003,
          3179622.2860000003,
          3179622.567,
          3179621.52,
          3179621.8030000003,
          3179622.6360000004,
          3179627.403,
          3179626.204,
          3179625.963,
          3179623.9760000003,
          3179615.749,
          3179616.4080000003,
          3179618.443,
          3179613.624,
          3179684.28,
          3179694.668,
          3179701.483,
          3179702.192,
          3179704.4680000003,
          3179703.327,
          3179675.6769999997,
          3179676.975,
          3179681.4469999997,
          3179680.855,
          3179680.852,
          3179681.2810000004,
          3179708.79,
          3179708.3060000003,
          3179708.0719999997,
          3179708.784,
          3179708.298,
          3179702.1739999996,
          3179720.098,
          3179722.587,
          3179720.512,
          3179725.4,
          3179725.461,
          3179716.37,
          3179716.3680000002,
          3179713.058,
          3179713.057
         ],
         "z": [
          149.329979591837,
          145.7223,
          141.951807692308,
          142.35635922330098,
          145.443230769231,
          145.529804232804,
          147.260912568306,
          124.48100000000001,
          124.4546,
          126.756818181818,
          126.76,
          126.73909090909099,
          126.734909090909,
          126.841090909091,
          126.855,
          142.288333333333,
          142.991,
          140.851333333333,
          141.16299999999998,
          126.264,
          126.26100000000001,
          126.2505,
          126.525,
          126.52600000000001,
          126.52,
          125.215,
          131.96447368421101,
          131.955736842105,
          138.88388421052602,
          142.922,
          142.09,
          142.097,
          125.196,
          137.4991,
          136.333,
          136.601,
          136.317,
          136.53,
          136.167,
          146.638,
          141.702025641026,
          141.513025641026,
          144.52090833333298,
          144.50199152542402,
          137.523,
          142.801032967033,
          137.5259,
          137.52,
          137.525,
          137.518625,
          146.501435897436,
          137.50996999999998,
          133.001,
          132.997,
          133.092,
          133.02807692307698,
          133.076,
          132.731,
          132.825,
          132.703857142857,
          132.878875,
          141.49292,
          141.525571428571,
          141.031690909091,
          141.111070484581,
          144.968677902622,
          137.503950413223,
          128.24,
          128.2402,
          129.3854,
          128.96,
          129.019,
          128.69899999999998,
          128.765,
          128.725,
          145.146051282051,
          125.009,
          125.01700000000001,
          125.005,
          123.331,
          125.0258,
          125.24,
          126.79,
          145.084986046511,
          149.462806949807,
          137.522990243902,
          149.677025641026,
          137.501333333333,
          151.639436607339,
          151.958444015444,
          143.46625,
          143.45184444444402,
          143.461,
          142.9755,
          127.179,
          126.22,
          143.111978723404,
          139.30444680851102,
          137.53697872340402,
          135.548958333333,
          133.737617021277,
          129.921,
          130.139961538461,
          130.12133333333298,
          137.5,
          137.4901,
          137.5499,
          137.70985,
          137.620125,
          132.125352941176,
          131.953647058824,
          135.918470588235,
          135.751882352941,
          137.584764705882,
          129.965,
          130.2266,
          148.968663636364,
          145.415,
          149.57232,
          145.680239130435,
          150.088883333333,
          146.643293290043,
          151.211259079903,
          149.53510738255,
          150.669428571429,
          146.43990336134502,
          120.596,
          155.240571428571,
          127.54700000000001,
          127.221,
          127.208,
          126.9,
          127.117,
          126.79,
          127.18015,
          127.191833333333,
          127.223333333333,
          153.72973705611298,
          152.47285561497299,
          149.952253325942,
          153.57335294117598,
          153.099857142857,
          154.739857142857,
          125.045,
          125.01700000000001,
          125.044,
          125.04,
          126.87200000000001,
          126.877076923077,
          126.838,
          126.787,
          126.94092307692301,
          126.932,
          142.99200000000002,
          140.85,
          120.296,
          123.295,
          138.111005347594,
          135.206417112299,
          132.218,
          125.087730769231,
          137.8438,
          134.843897849462,
          131.75660215053801,
          125.0615,
          138.096909090909,
          132.095625,
          129.075,
          124.999408163265,
          137.880333333333,
          134.887666666667,
          131.8788,
          137.36,
          134.36,
          138.282,
          135.15,
          132.122,
          137.944,
          135.016,
          131.7152,
          127.79746000000002,
          144.15,
          127.94,
          128.106,
          143.466,
          143.61,
          126.225,
          127.625666666667,
          138.006636363636,
          137.958,
          137.689222222222,
          133.679875,
          133.6488,
          133.39975,
          133.62,
          120.594285714286,
          129.281714285714,
          129.294571428571,
          129.281,
          148.969,
          145.41899999999998,
          149.572,
          145.68,
          150.088,
          146.643,
          125.782697674419,
          126.116,
          116.742,
          116.74700000000001,
          116.68,
          109.76899999999999,
          109.655,
          127.223777777778,
          127.178333333333,
          127.7,
          127.99799999999999,
          120.37557142857099,
          120.87200000000001,
          127.729,
          127.76799999999999,
          127.923125,
          128.142,
          118.755,
          118.9124,
          121.639,
          109.82,
          107.639,
          100.029,
          119.698,
          114.025,
          106.626666666667,
          99.854,
          116.009,
          98.228,
          116.19200000000001,
          105.39200000000001,
          97.14200000000001,
          138.132,
          135.224,
          137.85299999999998,
          134.859,
          131.840785714286,
          138.105857142857,
          132.107928571429,
          137.891,
          134.8948,
          131.889,
          137.361857142857,
          134.369,
          138.2978,
          135.1635,
          137.960928571429,
          135.029,
          131.728666666667,
          109.899,
          101.311,
          116.53200000000001,
          101.311,
          101.02799999999999,
          111.478,
          124.088,
          98.19,
          114.219,
          114.734,
          117.708,
          114.64983333333299,
          119.676,
          113.993,
          106.583,
          123.581,
          116,
          124.13799999999999,
          116.17,
          105.382,
          120.211,
          115.335,
          103.779,
          120.93299999999999,
          106.23899999999999,
          118.37700000000001,
          113.145,
          106.677,
          113.23299999999999,
          124.155,
          115.756,
          106.728,
          122.171,
          115.891,
          107.89299999999999,
          120.21799999999999,
          119.964,
          119.92,
          119.713,
          119.743,
          119.71600000000001,
          117.215,
          117.68799999999999,
          120.103,
          119.962,
          120.5,
          121.007,
          120.759,
          121.164,
          120.586,
          121.01799999999999,
          122.117,
          122.23899999999999,
          124.044,
          122.249,
          125.184,
          124.064,
          122.50299999999999,
          122.97399999999999,
          123.963,
          125.14399999999999,
          125.743,
          126.012,
          126.102,
          115.833,
          115.56299999999999,
          115.70299999999999,
          115.67,
          109.065,
          114.96,
          114.88799999999999,
          107.635,
          107.603,
          107.492,
          107.57,
          114.11200000000001,
          115.265,
          114.005,
          107.941,
          124.58,
          124.854,
          125.23700000000001,
          125.23299999999999,
          125.23899999999999,
          125.213,
          117.475,
          117.515,
          112.07,
          112.069,
          111.92399999999999,
          112.009,
          116.93,
          116.507,
          115.56200000000001,
          118.382,
          118.39299999999999,
          118.43,
          114.779,
          114.645,
          115.041,
          109.02,
          108.839,
          113.039,
          113.51,
          113.25200000000001,
          113.465,
          113.958,
          113.47399999999999,
          113.73,
          113.87100000000001,
          113.801,
          115.435,
          115.485,
          114.876,
          115.38600000000001,
          115.329,
          115.385,
          114.214,
          114.728,
          109.866,
          109.572,
          109.338,
          109.206,
          109.54899999999999,
          111.189,
          111.652,
          111.676,
          110.445,
          111.133,
          111.385,
          111.693,
          111.436,
          101.303,
          100.836,
          100.98200000000001,
          101.064,
          103.536,
          103.56,
          102.22,
          101.564,
          105.323,
          102.48,
          100.941,
          103.085,
          103.115,
          103.411,
          103.337,
          103.86399999999999,
          104.066,
          104.20100000000001,
          103.509,
          102.977,
          101.54799999999999,
          101.868,
          102.685,
          101.05799999999999,
          97.134,
          95.85700000000001,
          98.2,
          98.185,
          96.603,
          96.104,
          99.368,
          99.359,
          98.794,
          97.351,
          98.339,
          98,
          98.35799999999999,
          98.57600000000001,
          98.994,
          98.84200000000001,
          98.719,
          129.51,
          134.322,
          134.86,
          133.855,
          133.983,
          130.7,
          133.863,
          130.263,
          132.17,
          135.49,
          131.92600000000002,
          134.07299999999998,
          131.976,
          135.375,
          131.678,
          135.095,
          137.53,
          131.69,
          136.525,
          132.594,
          130.664,
          137.776,
          131.41,
          131.458,
          133.881,
          146.507,
          144.975,
          145.157,
          145.082,
          149.465,
          149.683,
          151.642,
          151.97,
          141.71,
          141.515,
          146.656,
          145.668,
          144.54,
          142.811,
          141.57299999999998,
          141.532,
          141.045,
          141.12,
          145.734,
          145.455,
          145.53799999999998,
          142.44,
          142.034,
          142.364,
          144.994,
          143.308,
          147.279,
          146.045,
          149.346,
          147.736,
          153.732,
          152.48,
          149.958,
          153.576,
          151.733,
          154.555,
          153.424,
          154.566,
          137.284,
          137.27100000000002,
          133.19,
          134.738,
          150.099,
          141.955,
          142.991,
          131.955,
          138.877,
          137.523,
          137.52100000000002,
          137.516,
          137.515,
          143.607,
          143.602,
          143.61,
          150.675,
          151.224,
          149.54,
          138.118,
          135.214,
          137.842,
          134.85,
          131.761,
          138.095,
          132.093,
          132.094,
          137.878,
          134.886,
          131.877,
          146.447,
          142.922,
          142.09,
          142.097,
          137.52,
          145.776,
          148.11700000000002,
          137.526,
          137.525,
          137.513,
          132.999,
          133,
          133.092,
          133.02700000000002,
          132.822,
          132.705,
          132.879,
          142.989,
          140.8575,
          142.989,
          133.075,
          132.731,
          137.501,
          143.069,
          137.584,
          137.713,
          137.616,
          149.289,
          144.501,
          149.591,
          145.6985,
          150.68,
          145.082,
          137.358,
          134.358,
          138.005,
          137.696,
          137.958,
          137.582,
          135.908,
          135.753,
          132.125,
          131.953,
          136.167,
          136.53,
          136.317,
          136.601,
          136.333,
          128.725,
          128.765,
          128.69899999999998,
          129.019,
          128.96,
          129.386,
          129.452,
          128.24,
          155.237,
          153.095,
          131.363,
          138.284,
          135.149,
          132.123,
          137.946,
          135.016,
          131.714,
          133.674,
          133.675,
          133.399,
          133.615,
          133.332,
          154.741,
          127.042,
          127.29700000000001,
          128.415,
          127.625,
          127.691,
          127.59299999999999,
          125.185,
          125.387,
          98.885,
          94.14,
          91.163,
          92.258,
          90.318,
          90.641,
          91.292,
          108.478,
          110.484,
          98.92,
          109.554,
          116.04799999999999,
          113.205,
          106.094,
          117.819,
          98.50299999999999,
          118.639,
          125.975,
          127.288,
          125.96799999999999,
          129.442,
          130.644,
          123.632,
          119.94200000000001,
          113.042,
          118.396,
          123.766,
          135.113,
          133.99,
          128.201,
          120.51,
          107.056,
          102.586,
          100.421,
          100.125,
          146.505,
          148.157,
          150.21,
          151.102,
          152.09,
          152.806,
          145.111,
          145.374,
          144.10399999999998,
          145.555,
          144.35399999999998,
          146.339,
          156.297,
          156.523,
          157.014,
          156.291,
          156.518,
          151.084,
          161.475,
          163.247,
          155.053,
          155.142,
          154.149,
          155.196,
          154.164,
          154.178,
          152.085
         ]
        },
        {
         "colorscale": [
          [
           0,
           "rgb(254, 246, 181)"
          ],
          [
           0.16666666666666666,
           "rgb(255, 221, 154)"
          ],
          [
           0.3333333333333333,
           "rgb(255, 194, 133)"
          ],
          [
           0.5,
           "rgb(255, 166, 121)"
          ],
          [
           0.6666666666666666,
           "rgb(250, 138, 118)"
          ],
          [
           0.8333333333333334,
           "rgb(241, 109, 122)"
          ],
          [
           1,
           "rgb(225, 83, 131)"
          ]
         ],
         "sizemode": "absolute",
         "sizeref": 350,
         "text": [
          "Auto-AC11a",
          "Auto-AC1Ba",
          "Auto-AC311a",
          "Auto-AC32a",
          "Auto-AC5Ba",
          "Auto-AC7Ba",
          "Auto-AC9a",
          "Auto-B11a",
          "Auto-B12a",
          "Auto-B41a",
          "Auto-B42a",
          "Auto-B51a",
          "Auto-B52a",
          "Auto-B61a",
          "Auto-B62a",
          "Auto-BAPM.4a",
          "Auto-BAPM1.1a",
          "Auto-BAPM2.1a",
          "Auto-BAPM3.1a",
          "Auto-G11a",
          "Auto-G12a",
          "Auto-G13a",
          "Auto-GR2.1a",
          "Auto-GR2.2a",
          "Auto-GR2.3a",
          "Auto-MS20a",
          "Auto-MS21a",
          "Auto-MS22a",
          "Auto-MS25a",
          "Auto-MS26a",
          "Auto-MS27a",
          "Auto-MS31a",
          "Auto-MS32a",
          "Auto-PC1.1a",
          "Auto-PC101a",
          "Auto-PC105a",
          "Auto-PC106a",
          "Auto-PC107a",
          "Auto-PC108a",
          "Auto-PC10a",
          "Auto-PC111a",
          "Auto-PC112a",
          "Auto-PC12a",
          "Auto-PC13.1a",
          "Auto-PC13a",
          "Auto-PC14.1a",
          "Auto-PC15.1a",
          "Auto-PC16.1a",
          "Auto-PC17.1a",
          "Auto-PC1A",
          "Auto-PC2.1a",
          "Auto-PC201a",
          "Auto-PC202a",
          "Auto-PC203a",
          "Auto-PC204a",
          "Auto-PC205a",
          "Auto-PC206a",
          "Auto-PC207a",
          "Auto-PC208a",
          "Auto-PC209a",
          "Auto-PC21a",
          "Auto-PC22a",
          "Auto-PC23a",
          "Auto-PC23Ba",
          "Auto-PC2a",
          "Auto-PC3.1a",
          "Auto-PC301a",
          "Auto-PC302a",
          "Auto-PC304a",
          "Auto-PC305a",
          "Auto-PC307a",
          "Auto-PC308a",
          "Auto-PC309a",
          "Auto-PC310a",
          "Auto-PC3a",
          "Auto-PC401a",
          "Auto-PC402a",
          "Auto-PC403a",
          "Auto-PC450a",
          "Auto-PC451a",
          "Auto-PC452a",
          "Auto-PC453a",
          "Auto-PC4a",
          "Auto-PC5a",
          "Auto-PC6.1a",
          "Auto-PC6A",
          "Auto-PC7a",
          "Auto-PC8a",
          "Auto-PCBA.1a",
          "Auto-PCBA.2a",
          "Auto-PCBA.3a",
          "Auto-PCBA.4a",
          "Auto-PD1a",
          "Auto-PD2.a",
          "Auto-PL101a",
          "Auto-PL202a",
          "Auto-PL301a",
          "Auto-PL402a",
          "Auto-PL501a",
          "Auto-PM.603a",
          "Auto-PM.604a",
          "Auto-PM.605a",
          "Auto-PM209a",
          "Auto-PM210a",
          "Auto-PM211a",
          "Auto-PM212a",
          "Auto-PM213a",
          "Auto-PM301a",
          "Auto-PM302a",
          "Auto-PM303a",
          "Auto-PM304a",
          "Auto-PM305a",
          "Auto-PM601a",
          "Auto-PM602a",
          "Auto-PMS.1a",
          "Auto-PMS1.2a",
          "Auto-PMS2.1a",
          "Auto-PMS2.2a",
          "Auto-PMS3.1a",
          "Auto-PMS3.2a",
          "Auto-PMS4.1a",
          "Auto-PMS4.2a",
          "Auto-PMS5.1a",
          "Auto-PMS5.2a",
          "Auto-PR14.1a",
          "Auto-RN7.1a",
          "Auto-TREM1a",
          "Auto-TREM2.1a",
          "Auto-TREM2.2a",
          "Auto-TREM2.3a",
          "Auto-TREM2a",
          "Auto-TREM3.a",
          "Auto-TREM4.a",
          "Auto-TREM5a",
          "Auto-TREM6a",
          "Auto-VJ1a",
          "Auto-VJ2a",
          "Auto-VJ3a",
          "Auto-VJ4a",
          "Auto-VJ6a",
          "Auto-VJ7a",
          "Auto-B13b",
          "Auto-B14b",
          "Auto-B23b",
          "Auto-B24b",
          "Auto-B43b",
          "Auto-B44b",
          "Auto-B53b",
          "Auto-B54b",
          "Auto-B63b",
          "Auto-B64b",
          "Auto-BAPM1.1b",
          "Auto-BAPM2.1b",
          "Auto-DB1b",
          "Auto-DB2b",
          "Auto-F1.1b",
          "Auto-F1.2b",
          "Auto-F1.3b",
          "Auto-F2.1b",
          "Auto-F2.2b",
          "Auto-F2.3b",
          "Auto-F3.1b",
          "Auto-F3.2b",
          "Auto-F3.3b",
          "Auto-F3.4b",
          "Auto-F4.1b",
          "Auto-F4.2b",
          "Auto-F4.3b",
          "Auto-F5.1b",
          "Auto-F5.2b",
          "Auto-F6.1b",
          "Auto-F6.2b",
          "Auto-F6.3b",
          "Auto-F7.1b",
          "Auto-F7.2b",
          "Auto-F7.3b",
          "Auto-F7.4b",
          "Auto-GR.2b",
          "Auto-GR3b",
          "Auto-GR4b",
          "Auto-PCBA.1b",
          "Auto-PCBA.2b",
          "Auto-PD.3b",
          "Auto-PD.4b",
          "Auto-PM102b",
          "Auto-PM103b",
          "Auto-PM201b",
          "Auto-PM401b",
          "Auto-PM402b",
          "Auto-PM403b",
          "Auto-PM404b",
          "Auto-PM501b",
          "Auto-PM615b",
          "Auto-PM616b",
          "Auto-PM617b",
          "Auto-PMS.1b",
          "Auto-PMS1.2b",
          "Auto-PMS2.1b",
          "Auto-PMS2.2b",
          "Auto-PMS3.1b",
          "Auto-PMS3.2b",
          "Auto-REFSS6b",
          "Auto-REFSS7b",
          "Auto-TQ101b",
          "Auto-TQ102b",
          "Auto-TQ103b",
          "Auto-TQ202b",
          "Auto-TQ203b",
          "Auto-TREM18.1b",
          "Auto-TREM18.2b",
          "Auto-US101b",
          "Auto-US102b",
          "Auto-US201b",
          "Auto-US202b",
          "Auto-UV101b",
          "Auto-UV102b",
          "Auto-UV103b",
          "Auto-UV104b",
          "Auto-UV201b",
          "Auto-UV202b",
          "Auto-UV203b",
          "Auto-UV303b",
          "Auto-BA2.1d",
          "Auto-BARET10.1d",
          "Auto-BARET11.1d",
          "Auto-BARET11.2d",
          "Auto-BARET11.3d",
          "Auto-BARET11.7d",
          "Auto-BARET2.2d",
          "Auto-BARET2.7d",
          "Auto-BARET3.2d",
          "Auto-BARET3.3d",
          "Auto-BARET9.7d",
          "Auto-F1.1d",
          "Auto-F1.2d",
          "Auto-F2.1d",
          "Auto-F2.2d",
          "Auto-F2.3d",
          "Auto-F3.1d",
          "Auto-F3.2d",
          "Auto-F4.1d",
          "Auto-F4.2d",
          "Auto-F4.3d",
          "Auto-F5.1d",
          "Auto-F5.2d",
          "Auto-F6.1d",
          "Auto-F6.2d",
          "Auto-F7.1d",
          "Auto-F7.2d",
          "Auto-F7.3d",
          "Auto-P11.3d",
          "Auto-P11.4d",
          "Auto-P12.2d",
          "Auto-P12.8d",
          "Auto-P120.6d",
          "Auto-P130.5d",
          "Auto-P17.1d",
          "Auto-P20.7d",
          "Auto-P5.3d",
          "Auto-P50.3d",
          "Auto-P9.1d",
          "Auto-P9.2d",
          "Sd-BARET11.1",
          "Sd-BARET11.2",
          "Sd-BARET11.3",
          "Sd-BARET2.1",
          "Sd-BARET2.2",
          "Sd-BARET3.1",
          "Sd-BARET3.2",
          "Sd-BARET3.3",
          "Sd-BARET4.1",
          "Sd-BARET4.2",
          "Sd-BARET4.3",
          "Sd-BARET5.1",
          "Sd-BARET5.3",
          "Sd-BARET8.1",
          "Sd-BARET8.2",
          "Sd-BARET8.3",
          "Sd-BARET9.2",
          "Sd-BARET6.1",
          "Sd-BARET6.2",
          "Sd-BARET6.3",
          "Sd-BARET1.1",
          "Sd-BARET1.2",
          "Sd-BARET1.3",
          "Sd-P1.1",
          "Sd-P2.1",
          "Sd-P3.1",
          "Sd-P5.1",
          "Sd-P6.1",
          "Sd-P7.1",
          "Sd-P8.1",
          "Sd-P9.1",
          "Sd-P10.1",
          "Sd-P11.1",
          "Sd-P12.1",
          "Sd-P120.1",
          "Sd-P13.1",
          "Sd-P130.1",
          "Sd-P14.1",
          "Sd-P140.1",
          "Sd-P142.1",
          "Sd-P143.1",
          "Sd-P15.1",
          "Sd-P150.1",
          "Sd-P16.1",
          "Sd-P17.1",
          "Sd-P18.1",
          "Sd-P19.1",
          "Sd-P20.1",
          "Sd-P21.1",
          "Sd-P22.1",
          "Sd-P23.1",
          "Sd-P24.1",
          "Sd-PM.704",
          "Sd-PM.705",
          "Sd-PM.706",
          "Sd-P80.1",
          "Sd-PIL4A.1",
          "Sd-PIL5C.1",
          "Sd-BA2.1",
          "Sd-BA3.1",
          "Sd-BA4.1",
          "Sd-BA5.1",
          "Sd-PIL10.1",
          "Sd-PIL2A.1",
          "Sd-PIL8.1",
          "Sd-BA1.1",
          "Sd-PSDALLE.6",
          "Sd-PSDALLE.1",
          "Sd-PSDALLE.2",
          "Sd-PSDALLE.3",
          "Sd-PSDALLE.4",
          "Sd-PSDALLE.7",
          "Sd-P1.2",
          "Sd-P2.2",
          "Sd-PM.707",
          "Sd-PM.708",
          "Sd-PM.709",
          "Sd-PM.710",
          "Sd-P11.2",
          "Sd-P12.2",
          "Sd-P141.2",
          "Sd-P142.2",
          "Sd-P143.2",
          "Sd-P150.2",
          "Sd-P8.2",
          "Sd-P9.2",
          "Sd-P50.2",
          "Sd-P902",
          "Sd-P100.2",
          "Sd-P19.2",
          "Sd-P20.2",
          "Sd-P22.2",
          "Sd-P23.2",
          "Sd-P25.2",
          "Sd-P26.2",
          "Sd-P1.3",
          "Sd-P2.3",
          "Sd-P3.3",
          "Sd-P120.3",
          "Sd-P130.3",
          "Sd-P140.3",
          "Sd-P142.3",
          "Sd-P143.3",
          "Sd-P150.3",
          "Sd-P5.3",
          "Sd-P50.3",
          "Sd-P11.3",
          "Sd-P12.3",
          "Sd-P8.3",
          "Sd-P9.3",
          "Sd-P130.4",
          "Sd-P140.4",
          "Sd-P143.4",
          "Sd-P150.4",
          "Sd-P1.4",
          "Sd-P2.4",
          "Sd-P3.4",
          "Sd-P5.4",
          "Sd-P130.5",
          "Sd-P11.4",
          "Sd-P12.4",
          "Sd-P120.6",
          "Sd-P14.6",
          "Sd-P143.6",
          "Sd-P150.6",
          "Sd-P17.6",
          "Sd-P110.3",
          "Sd-P7.3",
          "Sd-P9.4",
          "Sd-P901.2",
          "Sd-BA3.2",
          "Sd-BA4.2",
          "Sd-BA5.2",
          "Sd-P3.5",
          "Sd-P4.5",
          "Sd-P5.5",
          "Sd-P50.5",
          "Sd-P7.5",
          "Sd-BA1.2",
          "Sd-P22.3",
          "Sd-P25.3",
          "Sd-P26.3",
          "Sd-BARET8.7",
          "Sd-BARET9.7",
          "Sd-P11.7",
          "Sd-P180.7",
          "Sd-P20.7",
          "Sd-P110.7",
          "Sd-P111.7",
          "Sd-P8.7",
          "Sd-P80.7",
          "Sd-P9.7",
          "Sd-P901.7",
          "Sd-P902.7",
          "Sd-BA2.7",
          "Sd-BA3.7",
          "Sd-BA4.7",
          "Sd-BA5.7",
          "Sd-P1.7",
          "Sd-P3.7",
          "Manu-SEC4.1",
          "Manu-SEC4.2",
          "Manu-SEC4.3",
          "Manu-SEC4.4",
          "Manu-SEC4.5",
          "Manu-SEC4.5C",
          "Manu-SEC4.6",
          "Manu-SEC4.7",
          "Manu-SEC4.8",
          "Manu-SEC4.9",
          "Manu-SEC4.10",
          "Manu-SEC4.11",
          "Manu-SEC4.12",
          "Manu-SEC4.13",
          "Manu-SEC4.14",
          "Manu-SEC4.24",
          "Manu-SEC4.23",
          "Manu-SEC4.22",
          "Manu-SEC4.17",
          "Manu-SEC4.16",
          "Manu-SEC4.15",
          "Manu-SEC4.18",
          "Manu-SEC4.19",
          "Manu-SEC4.20",
          "Manu-SEC4.21",
          "Manu-PC1",
          "Manu-PC2",
          "Manu-PC3",
          "Manu-PC4",
          "Manu-PC5",
          "Manu-PC6",
          "Manu-PC7",
          "Manu-PC8",
          "Manu-PC111",
          "Manu-PC112",
          "Manu-PC10",
          "Manu-PC11",
          "Manu-PC12",
          "Manu-PC13",
          "Manu-PC21",
          "Manu-PC22",
          "Manu-PC23",
          "Manu-PC23B",
          "Manu-AC1B",
          "Manu-AC5B",
          "Manu-AC7B",
          "Manu-AC30",
          "Manu-AC31",
          "Manu-AC32",
          "Manu-AC7",
          "Manu-AC8",
          "Manu-AC9",
          "Manu-AC10",
          "Manu-AC11",
          "Manu-AC12",
          "Manu-VJ1",
          "Manu-VJ2",
          "Manu-VJ3",
          "Manu-VJ4",
          "Manu-VJ5",
          "Manu-VB1",
          "Manu-VB2",
          "Manu-VB3",
          "Manu-PN.1",
          "Manu-PN.2",
          "Manu-PN.3",
          "Manu-PN.4",
          "Manu-NP.1",
          "Manu-AC311B",
          "Manu-BAPM1.1",
          "Manu-MS21",
          "Manu-MS22",
          "Manu-PC13.1",
          "Manu-PC2.1",
          "Manu-PC3.1",
          "Manu-PC7.1",
          "Manu-PCBA.1",
          "Manu-PCBA.2",
          "Manu-PCBA.3",
          "Manu-PMS3.1",
          "Manu-PMS4.1",
          "Manu-PMS4.2",
          "Manu-F1.1",
          "Manu-F1.2",
          "Manu-F2.1",
          "Manu-F2.2",
          "Manu-F2.3",
          "Manu-F3.1",
          "Manu-F3.2",
          "Manu-F3.3",
          "Manu-F4.1",
          "Manu-F4.2",
          "Manu-F4.3",
          "Manu-PMS3.2",
          "Manu-MS25",
          "Manu-MS26",
          "Manu-MS27",
          "Manu-PC15.1",
          "Manu-PMS7.2",
          "Manu-PMS6.1",
          "Manu-PC14.1",
          "Manu-PC16.1",
          "Manu-PC17.1",
          "Manu-PC201",
          "Manu-PC202",
          "Manu-PC203",
          "Manu-PC204",
          "Manu-PC207",
          "Manu-PC208",
          "Manu-PC209",
          "Manu-BAPM.4",
          "Manu-BAPM2.1",
          "Manu-BAPM3.1",
          "Manu-PC205",
          "Manu-PC206",
          "Manu-PC1.1",
          "Manu-PCBA.4",
          "Manu-PM209",
          "Manu-PM212",
          "Manu-PM213",
          "Manu-PMS.1",
          "Manu-PMS1.2",
          "Manu-PMS2.1",
          "Manu-PMS2.2",
          "Manu-PMS5.1",
          "Manu-PMS5.2",
          "Manu-F5.1",
          "Manu-F5.2",
          "Manu-PM102",
          "Manu-PM201",
          "Manu-PM103",
          "Manu-PM.204",
          "Manu-PM.301",
          "Manu-PM.302",
          "Manu-PM.401",
          "Manu-PM.402",
          "Manu-PC108",
          "Manu-PC107",
          "Manu-PC106",
          "Manu-PC105",
          "Manu-PC101",
          "Manu-PC310",
          "Manu-PC309",
          "Manu-PC308",
          "Manu-PC307",
          "Manu-PC305",
          "Manu-PC304",
          "Manu-PC302",
          "Manu-PC301",
          "Manu-RN7.1",
          "Manu-VJ6",
          "Manu-F5.3",
          "Manu-F6.1",
          "Manu-F6.2",
          "Manu-F6.3",
          "Manu-F7.1",
          "Manu-F7.2",
          "Manu-F7.3",
          "Manu-PM400",
          "Manu-PM401",
          "Manu-PM403",
          "Manu-PM404",
          "Manu-PM405",
          "Manu-VJ7",
          "Manu-PRT1",
          "Manu-PRT2",
          "Manu-PAL3",
          "Manu-PAL4",
          "Manu-PAL5",
          "Manu-PAL6",
          "Manu-PRTE1",
          "Manu-PRTE2",
          "Manu-SEC123.1",
          "Manu-SEC123.2",
          "Manu-SEC123.3",
          "Manu-SEC123.4",
          "Manu-SEC123.5",
          "Manu-SEC123.6",
          "Manu-SEC123.7",
          "Manu-SEC123.8",
          "Manu-SEC123.9",
          "Manu-SEC123.10",
          "Manu-SEC123.11",
          "Manu-SEC123.12",
          "Manu-SEC123.13",
          "Manu-SEC123.14",
          "Manu-SEC123.15",
          "Manu-SEC123.16",
          "Manu-SEC123.17",
          "Manu-SEC123.18",
          "Manu-SEC123.19",
          "Manu-SEC123.20",
          "Manu-SEC123.21",
          "Manu-SEC123.22",
          "Manu-SEC123.23",
          "Manu-SEC123.24",
          "Manu-SEC123.25",
          "Manu-SEC123.26",
          "Manu-SEC123.27",
          "Manu-SEC123.28",
          "Manu-SEC123.29",
          "Manu-SEC123.30",
          "Manu-SEC123.31",
          "Manu-SEC123.32",
          "Manu-SEC123.33",
          "Manu-SEC123.34",
          "Manu-SEC123.35",
          "Manu-RN7.11",
          "Manu-RN7.12",
          "Manu-RN7.13",
          "Manu-RN7.14",
          "Manu-RN7.15",
          "Manu-RN7.16",
          "Manu-ESC1",
          "Manu-ESC2",
          "Manu-MJ1",
          "Manu-MJ2",
          "Manu-MJ3",
          "Manu-RN7.10",
          "Manu-PM4",
          "Manu-PM5",
          "Manu-PM6",
          "Manu-PM7",
          "Manu-PM8",
          "Manu-RN7.14B",
          "Manu-PM2",
          "Manu-PM3",
          "Manu-VB4",
          "Manu-VB20",
          "Manu-VB21",
          "Manu-VB22",
          "Manu-VB23",
          "Manu-VJ20",
          "Manu-VJ21"
         ],
         "type": "cone",
         "u": [
          0.023000000044703484,
          0.004999999888241291,
          0.030769229866564274,
          0.01699999999254942,
          0.02000000001862645,
          0.01600000006146729,
          0.027000000001862645,
          0.0005000000819563866,
          0.008000000147148967,
          0.008328289957717061,
          0.008454550057649612,
          0.004618179984390736,
          0.008651509881019592,
          0.007545450236648321,
          0.0027045500464737415,
          0.012666670139878988,
          0.012750000227242708,
          0.0012499999720603228,
          0,
          0,
          0,
          0,
          -0.0009999999310821295,
          0.0009999999310821295,
          -0.0009999999310821295,
          -0.0012857099063694477,
          0.001999999862164259,
          0.001857140101492405,
          0.0020000000949949026,
          0.0031250000465661287,
          0.003000000026077032,
          -0.00033332989551126957,
          0,
          0.023999999975785613,
          0.0037499999161809683,
          0.014000000199303031,
          0.02199999988079071,
          0.02399999974295497,
          0.02299999981187284,
          0.023000000044703484,
          0.025794869987294078,
          0.02602564007975161,
          0.019954540068283677,
          0.003999999957159162,
          0.02000000001862645,
          0.0029000001959502697,
          0.009000000078231096,
          0.009000000078231096,
          0.01600000006146729,
          0.0220512798987329,
          0.006999999983236194,
          0.0029999997932463884,
          0.007999999914318323,
          0.010000000009313226,
          0.011153850238770247,
          0.017899999860674143,
          0.031999999890103936,
          0.02695651981048286,
          0.02514285990037024,
          0.02199999988079071,
          0.02114285994321108,
          0.02421429008245468,
          0.02099999994970858,
          0.02192308008670807,
          0.02456756983883679,
          0.028999999864026904,
          -0.001999999862164259,
          0.00419999985024333,
          0.010999999940395355,
          0.01699999999254942,
          0.023999999975785613,
          0.013000000035390258,
          0.008750000037252903,
          0.004999999888241291,
          0.023000000044703484,
          -0.001999999862164259,
          -0.003000000026077032,
          -0.00016666995361447334,
          0.000699999975040555,
          -0.0009999999310821295,
          -0.0029999997932463884,
          -0.0010666700545698404,
          0.02216215990483761,
          0.01848649000748992,
          0.023199999937787652,
          0.007168499985709786,
          0.012486489955335855,
          0.01035135006532073,
          0.013500000117346644,
          0.010800000047311187,
          0.015333329793065786,
          0.010000000009313226,
          0,
          0.002500000176951289,
          0.005287230014801025,
          0.0019361700396984816,
          0.0007943299133330584,
          0.00012500002048909664,
          0.00014894013293087482,
          0.006192309781908989,
          -0.009423079900443554,
          0.006999999983236194,
          0.0059999998193234205,
          0.007200000109151006,
          0.006700000027194619,
          0.0005499999970197678,
          0.012875000014901161,
          0.009088239865377545,
          0.00035294005647301674,
          0.01047058985568583,
          0.006921570049598813,
          0.005794120021164417,
          0.00774999987334013,
          0.007199999876320362,
          0.011136359767988324,
          0.008500000229105353,
          0.011750000063329935,
          0.010000000009313226,
          0.01280000014230609,
          0.010047619929537177,
          0.013357150135561824,
          0.006499999901279807,
          0.010785720078274608,
          0.008928569965064526,
          -0.019000000087544322,
          0.006285710027441382,
          -0.006999999983236194,
          0.005125000141561031,
          0.0030000002589076757,
          0.014999999897554517,
          -0.013500000117346644,
          0.005949999904260039,
          0.030333329923450947,
          0.0010833300184458494,
          0.0007499998901039362,
          0.013823530171066523,
          0.014500000048428774,
          0.01699999999254942,
          0.026000000070780516,
          0.006285710027441382,
          0.009285710053518414,
          -0.002666669897735119,
          -0.004333329852670431,
          -0.0011666698846966028,
          -0.0011666701175272465,
          -0.0008461500983685255,
          -1.282012090086937e-05,
          -0.0009461499284952879,
          -9.614997543394566e-05,
          -0.005912089953199029,
          2.1979911252856255e-05,
          0.0012307700235396624,
          0.0016060599591583014,
          0.0016666699666529894,
          0.0009999999310821295,
          -0.011999999871477485,
          -0.012000000104308128,
          -0.012000000104308128,
          0.0030999998562037945,
          -0.012000000104308128,
          -0.011944439960643649,
          -0.011181820183992386,
          -0.005125000141561031,
          -0.012076920131221414,
          0.07001020014286041,
          -0.01066667027771473,
          -0.010999999940395355,
          -0.010000000009313226,
          -0.013400000287219882,
          -0.014999999897554517,
          -0.007400000235065818,
          -0.00699999975040555,
          -0.008000000147148967,
          -0.004999999888241291,
          -0.005399999907240272,
          -0.006000000052154064,
          -0.0037799999117851257,
          -0.003357140114530921,
          -0.0005714301951229572,
          -0.0008571401704102755,
          0.0003846201580017805,
          -0.0009166700765490532,
          -0.0013611100148409605,
          -0.004500000271946192,
          0.0034318200778216124,
          -0.0020000000949949026,
          0.0009999999310821295,
          0.008875000057742,
          0.001299999887123704,
          0.00012500002048909664,
          0.0005000000819563866,
          0.004785710014402866,
          0.004071430070325732,
          0.004714289912953973,
          -0.0009999999310821295,
          5.55599108338356e-05,
          -0.0009999999310821295,
          0,
          -0.0010000001639127731,
          0.001600000075995922,
          -5.5549899116158485e-05,
          0.06451744004152715,
          -0.005933329928666353,
          -0.010999999940395355,
          0.001999999862164259,
          0.002666669897735119,
          0.0030000002589076757,
          0.0028333300724625587,
          -0.0024999999441206455,
          -0.019587300019338727,
          -5.713989958167076e-05,
          0.0004999998491257429,
          -0.000380959827452898,
          0.005285710096359253,
          -0.001057140063494444,
          -0.0016666697338223457,
          -0.0010000001639127731,
          -0.0012000000569969416,
          -0.0013714300002902746,
          -0.014999999897554517,
          -0.0013809599913656712,
          0.0004999998491257429,
          0.0016666699666529894,
          0.0036428598687052727,
          0.0029999997932463884,
          0.004999999888241291,
          0.006999999983236194,
          0.005166670074686408,
          -0.0014761898200958967,
          -0.00279999990016222,
          -0.001333329826593399,
          -0.002428569830954075,
          -0.030000000027939677,
          -0.0011428599245846272,
          -0.0017142901197075844,
          -0.001999999862164259,
          -0.0010000003967434168,
          -0.0019920701161026955,
          -0.0013095301110297441,
          -0.0034047600347548723,
          -0.0010000003967434168,
          -0.0012000000569969416,
          -0.0014047601725906134,
          -0.0012142900377511978,
          -0.001500000013038516,
          -0.002199999988079071,
          -0.002300000051036477,
          -0.001928569981828332,
          -0.0011428599245846272,
          -0.0020000000949949026,
          -0.001999999862164259,
          0,
          -0.0014999997802078724,
          -0.0003333301283419132,
          -0.005333330016583204,
          -0.003999999957159162,
          -0.001999999862164259,
          -0.0013333300594240427,
          0.009714290034025908,
          0.010999999940395355,
          0.0024999999441206455,
          0.0021666702814400196,
          0,
          0.0030000002589076757,
          0.006000000052154064,
          -0.003000000026077032,
          -0.0029999997932463884,
          -0.003000000026077032,
          -0.001999999862164259,
          -0.003999999724328518,
          -0.0029999997932463884,
          -0.0020000003278255463,
          -0.001999999862164259,
          -0.001999999862164259,
          0.003000000026077032,
          0.003999999957159162,
          0.006999999983236194,
          0.010999999940395355,
          -0.0029999997932463884,
          0.0020000000949949026,
          0.013999999966472387,
          0.003000000026077032,
          0.001999999862164259,
          0.0009999999310821295,
          0,
          0.003999999724328518,
          0.010000000009313226,
          0.01600000006146729,
          0.018000000156462193,
          0.02399999974295497,
          0.02800000016577542,
          0.023000000044703484,
          0.0020000003278255463,
          0.0009999999310821295,
          0.005000000121071935,
          0.004999999888241291,
          0.001999999862164259,
          -0.0009999999310821295,
          -0.006000000284984708,
          -0.009000000078231096,
          -0.010000000009313226,
          -0.011000000173225999,
          -0.012999999802559614,
          -0.02000000001862645,
          -0.013000000268220901,
          -0.004999999888241291,
          -0.004000000189989805,
          -0.006000000052154064,
          0.001999999862164259,
          0.0029999997932463884,
          -0.008999999845400453,
          0.004000000189989805,
          0.001999999862164259,
          0.0020000000949949026,
          0.003000000026077032,
          0.003999999957159162,
          0.004000000189989805,
          0.02000000001862645,
          0,
          0,
          0.001999999862164259,
          0.0029999997932463884,
          0.001999999862164259,
          0.0009999999310821295,
          0.00699999975040555,
          -0.0020000003278255463,
          0.007000000216066837,
          0.010000000009313226,
          0.009000000078231096,
          0.003000000026077032,
          0.001999999862164259,
          -0.0020000000949949026,
          0.0009999999310821295,
          0.003999999957159162,
          0.0010000001639127731,
          0.010000000009313226,
          0.0009999999310821295,
          0,
          0.001999999862164259,
          0.0010000001639127731,
          -0.12599999993108213,
          -0.039000000106170774,
          -0.027000000001862645,
          -0.017000000225380063,
          -0.016999999759718776,
          -0.013999999966472387,
          0.02099999994970858,
          0.010999999940395355,
          0.019999999785795808,
          0.0030000002589076757,
          0.001999999862164259,
          0.0009999999310821295,
          0.006000000052154064,
          0.0009999999310821295,
          0.0020000000949949026,
          0.0009999999310821295,
          0,
          -0.001999999862164259,
          0.004000000189989805,
          0.0010000001639127731,
          -0.004000000189989805,
          -0.009999999776482582,
          -0.02000000001862645,
          -0.02199999988079071,
          -0.017999999690800905,
          -0.014000000199303031,
          0.01799999992363155,
          0.009000000078231096,
          0.01699999999254942,
          0.0029999997932463884,
          0.019000000087544322,
          0.013000000035390258,
          -0.004999999888241291,
          -0.012999999802559614,
          -0.009000000078231096,
          -0.006000000284984708,
          -0.0029999997932463884,
          0.009000000078231096,
          0.013000000035390258,
          0.019000000087544322,
          -0.009000000078231096,
          0.0029999997932463884,
          -0.003000000026077032,
          -0.001999999862164259,
          -0.003999999957159162,
          -0.0029999997932463884,
          -0.004000000189989805,
          -0.007999999914318323,
          0,
          0.01699999999254942,
          0.00699999975040555,
          0,
          0.003000000026077032,
          0.003999999957159162,
          0.0030000002589076757,
          0.00699999975040555,
          0.0009999999310821295,
          0.014999999897554517,
          0.01600000006146729,
          0.01600000006146729,
          0.003999999957159162,
          0,
          0.0009999999310821295,
          -0.003999999957159162,
          0.010999999940395355,
          -0.003999999957159162,
          0.003999999724328518,
          0.0009999999310821295,
          -0.001999999862164259,
          -0.0009999999310821295,
          0.0009999999310821295,
          0.010000000009313226,
          0.014999999897554517,
          0.006999999983236194,
          0.0020000000949949026,
          0.006000000052154064,
          0.001999999862164259,
          0.001999999862164259,
          0.004000000189989805,
          0.0020000003278255463,
          0.010999999940395355,
          0.004999999888241291,
          -0.0029999997932463884,
          -0.003999999957159162,
          -0.004999999888241291,
          -0.003999999724328518,
          -0.003999999957159162,
          -0.003000000026077032,
          -0.001999999862164259,
          -0.001999999862164259,
          -0.001999999862164259,
          -0.0020000003278255463,
          -0.0020000000949949026,
          -0.0009999999310821295,
          0,
          -0.0009999999310821295,
          -0.024999999906867743,
          0.0009999999310821295,
          0.0009999999310821295,
          0.001999999862164259,
          0.0020000000949949026,
          0.0009999999310821295,
          0,
          0.0009999999310821295,
          0,
          0.0009999999310821295,
          0.0010000001639127731,
          0.008000000147148967,
          0.01799999992363155,
          0.019000000087544322,
          0.013000000268220901,
          0.02399999974295497,
          0.0030000002589076757,
          0.008000000147148967,
          0.003999999957159162,
          0.023999999975785613,
          0.05099999997764826,
          0.030999999959021807,
          0.009000000078231096,
          0.023000000277534127,
          0.015999999828636646,
          0.017000000225380063,
          0.047999999951571226,
          0.015999999828636646,
          0.01899999985471368,
          0.0009999999310821295,
          0.02099999994970858,
          0.022000000113621354,
          0.0044999998062849045,
          0.010000000009313226,
          0.02000000001862645,
          -0.0009999999310821295,
          -0.0009999999310821295,
          0.026999999769032,
          -0.0010000001639127731,
          0.027999999932944775,
          -0.006000000284984708,
          0.009999999776482582,
          0.010999999940395355,
          0.013999999966472387,
          0.003999999724328518,
          -0.0009999999310821295,
          0.007000000216066837,
          0,
          0.0059999998193234205,
          0.0010000003967434168,
          0,
          0.001999999862164259,
          0.0009999999310821295,
          -0.001999999862164259,
          0.006000000052154064,
          -0.003000000026077032,
          -0.0029999997932463884,
          0.0009999999310821295,
          0.001999999862164259,
          0.0009999999310821295,
          0.02700000023469329,
          0.010999999940395355,
          0.0009999999310821295,
          0.013999999966472387,
          0.003999999957159162,
          0.005000000121071935,
          0.0059999998193234205,
          -0.003999999724328518,
          -0.0009999999310821295,
          -0.0009999999310821295,
          0.012000000104308128,
          0,
          -0.0010000001639127731,
          -0.001999999862164259,
          -0.005000000121071935,
          -0.005000000121071935,
          -0.001999999862164259,
          -0.0009999999310821295,
          -0.0009999999310821295,
          0.004000000189989805,
          0.0009999999310821295,
          0.0009999999310821295,
          0.0009999999310821295,
          0.003999999724328518,
          -0.008999999845400453,
          0.0059999998193234205,
          0.0009999999310821295,
          0.008000000147148967,
          0.01500000013038516,
          0.003000000026077032,
          0.0009999999310821295,
          0.006000000052154064,
          0.010000000009313226,
          0.025999999837949872,
          0.02299999981187284,
          0.017999999690800905,
          0,
          0.012999999802559614,
          -0.010999999940395355,
          0.014999999897554517,
          0.029000000096857548,
          0.01699999999254942,
          0.006000000052154064,
          -0.010000000009313226,
          0.004999999888241291,
          0.004000000189989805,
          0,
          0,
          -0.00699999975040555,
          -0.007000000216066837,
          0.003000000026077032,
          0,
          -0.0029999997932463884,
          -0.001999999862164259,
          0.005000000121071935,
          0.007000000216066837,
          0.0020000003278255463,
          -0.006000000284984708,
          -0.006000000052154064,
          -0.008000000147148967,
          -0.004999999888241291,
          -0.008000000147148967,
          0.02099999994970858,
          0.02199999988079071,
          0.02199999988079071,
          0.014000000199303031,
          0.001999999862164259,
          0,
          0.0020000003278255463,
          0.009000000078231096,
          0.02199999988079071,
          0.01600000006146729,
          0.010000000009313226,
          0.0020000000949949026,
          -0.001999999862164259,
          0.00699999975040555,
          0.006000000052154064,
          0,
          0,
          -0.0010000003967434168,
          -0.001999999862164259,
          0.0009999999310821295,
          0,
          -0.0009999999310821295,
          0,
          0.013999999966472387,
          0.004999999888241291,
          0,
          0,
          0.010000000009313226,
          0.0009999999310821295,
          -0.014000000199303031,
          0.0010000001639127731,
          -0.010999999940395355,
          -0.018000000156462193,
          -0.013000000268220901,
          0,
          0,
          -0.0009999999310821295,
          -0.0030000002589076757,
          -0.0029999997932463884,
          -0.001999999862164259,
          -0.003000000026077032,
          -0.001999999862164259,
          -0.0030000002589076757,
          -0.0029999997932463884,
          -0.0029999997932463884,
          -0.0020000000949949026,
          -0.0030000002589076757,
          -0.001999999862164259,
          -0.001999999862164259,
          -0.001999999862164259,
          -0.0020000003278255463,
          -0.001999999862164259,
          -0.0010000001639127731,
          0.0010000003967434168,
          -0.0020000000949949026,
          -0.0029999997932463884,
          -0.003000000026077032,
          -0.0029999997932463884,
          -0.0029999997932463884,
          -0.0029999997932463884,
          -0.003000000026077032,
          -0.0029999997932463884,
          -0.0029999997932463884,
          -0.0020000000949949026,
          -0.0020000000949949026,
          -0.0020000000949949026,
          -0.0020000000949949026,
          -0.0020000003278255463,
          -0.001999999862164259,
          -0.003000000026077032,
          -0.0029999997932463884,
          -0.0009999999310821295,
          -0.0009999999310821295,
          0.0009999999310821295,
          0.001999999862164259,
          0.0009999999310821295,
          0.003000000026077032,
          -0.0009999999310821295,
          0,
          0.009000000078231096,
          0.0020000003278255463,
          0.0009999999310821295,
          0.0010000003967434168,
          0,
          0.0020000003278255463,
          0,
          -0.003000000026077032,
          0,
          -0.0009999999310821295,
          0.0009999999310821295,
          0.008000000147148967,
          0.008000000147148967,
          0,
          -0.0009999999310821295,
          0,
          0.0009999999310821295,
          0.0029999997932463884,
          0.0009999999310821295
         ],
         "v": [
          -0.03900000033900142,
          -0.013999999966472387,
          0.07707691984251142,
          -0.013000000268220901,
          -0.018000000156462193,
          -0.019000000320374966,
          -0.03505000006407499,
          -0.01066667027771473,
          -0.02000000001862645,
          -0.02673736959695816,
          -0.027181820012629032,
          -0.01810909016057849,
          -0.024712129961699247,
          -0.024818179663270712,
          -0.02027272991836071,
          -0.024666659999638796,
          -0.013625000137835741,
          -0.011500000488013029,
          0,
          0,
          0,
          0,
          0,
          0.0009999996982514858,
          0,
          -0.0043333303183317184,
          -0.006000000052154064,
          -0.006000000052154064,
          -0.010999999940395355,
          -0.009999999776482582,
          -0.007999999448657036,
          -0.0010000001639127731,
          0,
          -0.04906666977331042,
          -0.005499999970197678,
          -0.007000000216066837,
          -0.011999999638646841,
          -0.02899999963119626,
          -0.03399999998509884,
          -0.031000000424683094,
          -0.03902564011514187,
          -0.04215383995324373,
          -0.02000000001862645,
          -0.005307690240442753,
          -0.014333339873701334,
          -0.007999999448657036,
          -0.007999999914318323,
          -0.007499999832361937,
          -0.00800000037997961,
          -0.03412821050733328,
          -0.01423077005892992,
          -0.00699999975040555,
          -0.007999999914318323,
          -0.006000000052154064,
          -0.006000000052154064,
          -0.007000000216066837,
          -0.010937499813735485,
          -0.036869569681584835,
          -0.043000000063329935,
          -0.0400000000372529,
          -0.03235714044421911,
          -0.026285710278898478,
          -0.029000000096857548,
          -0.01500000013038516,
          -0.038783779833465815,
          -0.03700000001117587,
          -0.004999999888241291,
          -0.005400000140070915,
          -0.005799999460577965,
          -0.004999999888241291,
          -0.029999999795109034,
          -0.023400000296533108,
          -0.023000000044703484,
          -0.029999999795109034,
          -0.03902563964948058,
          -0.005500000435858965,
          -0.014000000432133675,
          0.021499999798834324,
          -0.00570000009611249,
          -0.002399999648332596,
          -0.0018571396358311176,
          -0.001999999862164259,
          -0.038891890086233616,
          -0.03348648967221379,
          -0.05450000008568168,
          -0.014538459945470095,
          -0.043189190328121185,
          -0.042027030140161514,
          -0.024750000331550837,
          -0.013999999966472387,
          -0.016809530090540648,
          -0.04266667040064931,
          0,
          -0.0032500000670552254,
          -0.006808509584516287,
          -0.007404259871691465,
          -0.004191489890217781,
          -0.006270830053836107,
          -0.0020638303831219673,
          -0.026999999769032,
          -0.02438461035490036,
          -0.02766667027026415,
          -0.024000000674277544,
          -0.031700000166893005,
          -0.03769999975338578,
          0,
          -0.04199999989941716,
          -0.03547058952972293,
          -0.003164710011333227,
          -0.03476470988243818,
          -0.03239214979112148,
          -0.024852939881384373,
          -0.026374999899417162,
          -0.030499999411404133,
          -0.030545460060238838,
          -0.031000000424683094,
          -0.034999999683350325,
          -0.03249999973922968,
          -0.0346666700206697,
          -0.030142860021442175,
          -0.0400000000372529,
          -0.0021379301324486732,
          -0.03928571008145809,
          -0.03521429002285004,
          0.00699999975040555,
          -0.028000000398606062,
          0.0060000005178153515,
          -0.013000000268220901,
          -0.004000000189989805,
          -0.015250000637024641,
          0.004000000189989805,
          -0.0023833299055695534,
          0.07076667016372085,
          0.00699999975040555,
          0.008750000037252903,
          -0.036000000312924385,
          -0.03500000014901161,
          -0.032999999821186066,
          0.014999999664723873,
          -0.02685713954269886,
          -0.028428570367395878,
          0.003000000026077032,
          0.003999999724328518,
          0.0025833300314843655,
          0.0008666696958243847,
          0.0021666698157787323,
          -0.0013076900504529476,
          0.0013153799809515476,
          -0.0008557699620723724,
          0.003769229631870985,
          0.00010989001020789146,
          -0.010999999940395355,
          -0.004762629978358746,
          -0.0033333301544189453,
          -0.005999999586492777,
          0.007000000216066837,
          0.006000000052154064,
          0.006000000052154064,
          0.04040000028908253,
          0.0044999998062849045,
          0.0044999998062849045,
          0.006590910255908966,
          0.005800000391900539,
          0.0061538503505289555,
          -0.0037142899818718433,
          0.007666670251637697,
          0.0060000005178153515,
          0.006400000303983688,
          0.008800000417977571,
          0.003000000026077032,
          0.0060000005178153515,
          0.005499999970197678,
          0.005499999970197678,
          0.001999999862164259,
          0.0014999997802078724,
          0.0012000002898275852,
          -0.00022666994482278824,
          -0.024642860051244497,
          0,
          0,
          -0.023923079948872328,
          -0.0206666705198586,
          0.001305560115724802,
          -0.024222220294177532,
          -0.0061818198300898075,
          -0.004999999888241291,
          -0.026666670106351376,
          -0.008125000167638063,
          0.001057140063494444,
          -0.00912499986588955,
          -0.01487499987706542,
          -0.004428569693118334,
          -0.007071429863572121,
          -0.0053714304231107235,
          -0.0037499996833503246,
          -0.029000000562518835,
          -0.028000000398606062,
          -0.03000000026077032,
          -0.028499999549239874,
          -0.02899999963119626,
          -0.028000000398606062,
          -0.0015784897841513157,
          0.0006999997422099113,
          0.00699999975040555,
          -0.001999999862164259,
          -0.002333329990506172,
          -0.001199999824166298,
          -0.0011666701175272465,
          0.0014444398693740368,
          0.00857143010944128,
          -0.0008571394719183445,
          0.0009000003337860107,
          0.002619040198624134,
          0.0005714301951229572,
          0.0017571402713656425,
          0.008874999824911356,
          0.011049999855458736,
          0.002950000111013651,
          0.00271428981795907,
          -0.003599999938160181,
          0.0034761899150907993,
          0,
          0.0029761902987957,
          -0.007309529930353165,
          -0.004000000189989805,
          -0.008166669867932796,
          -0.007499999832361937,
          -0.008999999612569809,
          0.0010000001639127731,
          -0.004466670099645853,
          -0.007999999448657036,
          -0.0139999995008111,
          0.027249999810010195,
          0.000380959827452898,
          7.143011316657066e-05,
          4.761992022395134e-05,
          -0.000380959827452898,
          7.143011316657066e-05,
          -0.0009999996982514858,
          0.001857140101492405,
          -0.0009285700507462025,
          -0.0007666698656976223,
          -0.0005952399224042892,
          -0.00014285976067185402,
          0,
          0,
          0.000599999912083149,
          0.0001904703676700592,
          -0.00030952971428632736,
          0,
          -0.0015000002458691597,
          -0.002666669897735119,
          0.0010000001639127731,
          -0.001999999862164259,
          0.001999999862164259,
          0,
          0.0010000006295740604,
          0.00016666995361447334,
          -0.009833329357206821,
          -0.008500000461935997,
          -0.0010952400043606758,
          -0.011166670359671116,
          0,
          -0.00699999975040555,
          -0.008999999612569809,
          0,
          0.001999999862164259,
          -0.0010000001639127731,
          -0.00699999975040555,
          -0.013999999966472387,
          0.0010000001639127731,
          -0.001999999862164259,
          0,
          0.001999999862164259,
          0.0009999996982514858,
          0.0009999996982514858,
          0,
          -0.003000000026077032,
          -0.0009999996982514858,
          -0.001999999862164259,
          -0.005000000353902578,
          0.0010000001639127731,
          -0.001999999862164259,
          0.001999999862164259,
          0.0010000001639127731,
          -0.02000000001862645,
          -0.024000000208616257,
          -0.02199999988079071,
          -0.015999999828636646,
          -0.010999999940395355,
          -0.01000000024214387,
          -0.004000000189989805,
          0,
          -0.001999999862164259,
          -0.007000000681728125,
          -0.004999999888241291,
          -0.001999999862164259,
          -0.005999999586492777,
          -0.001999999862164259,
          -0.006000000052154064,
          -0.001999999862164259,
          0,
          -0.0010000001639127731,
          -0.004999999888241291,
          -0.0010000001639127731,
          -0.003000000026077032,
          -0.0009999992325901985,
          -0.003000000026077032,
          0.001999999862164259,
          0.003000000026077032,
          0.001999999862164259,
          0.004000000189989805,
          0.004000000189989805,
          0.0009999996982514858,
          -0.015999999828636646,
          -0.013999999966472387,
          -0.016000000294297934,
          0.013999999966472387,
          0,
          0,
          0.00800000037997961,
          0.003999999724328518,
          -0.007000000216066837,
          0.001999999862164259,
          -0.01699999999254942,
          0.008999999612569809,
          -0.0359999998472631,
          -0.004000000189989805,
          -0.0010000001639127731,
          0.003000000026077032,
          -0.004999999888241291,
          0.0010000001639127731,
          0,
          0.0010000001639127731,
          -0.01500000013038516,
          -0.028000000398606062,
          -0.004999999888241291,
          -0.004999999888241291,
          -0.005999999586492777,
          -0.005999999586492777,
          -0.009999999776482582,
          -0.004999999888241291,
          0.08399999979883432,
          0,
          -0.0010000001639127731,
          0,
          -0.005000000353902578,
          0.00699999975040555,
          -0.018000000156462193,
          0.006000000052154064,
          0.001999999862164259,
          0.0020000003278255463,
          0.001999999862164259,
          0.001999999862164259,
          0.0020000003278255463,
          0.0010000001639127731,
          0.0010000001639127731,
          -0.015999999828636646,
          -0.028000000398606062,
          0,
          -0.003000000026077032,
          -0.001999999862164259,
          0.029999999795109034,
          0,
          -0.0010000001639127731,
          0,
          -0.019000000320374966,
          0.004999999888241291,
          -0.012999999802559614,
          -0.004999999888241291,
          -0.0030000004917383194,
          0.007000000216066837,
          -0.003000000026077032,
          0.001999999862164259,
          0,
          -0.13100000051781535,
          -0.018000000156462193,
          -0.02899999963119626,
          -0.024999999906867743,
          -0.023000000044703484,
          -0.001999999862164259,
          -0.003999999724328518,
          -0.004999999888241291,
          0,
          0.054999999701976776,
          0,
          -0.0009999996982514858,
          -0.009000000543892384,
          0,
          -0.00800000037997961,
          0.003000000026077032,
          0,
          -0.001999999862164259,
          0,
          0.0010000001639127731,
          -0.01699999999254942,
          0,
          -0.01699999999254942,
          -0.014999999664723873,
          -0.012999999336898327,
          0.0010000001639127731,
          0,
          0.0009999996982514858,
          0.004999999888241291,
          -0.0009999996982514858,
          0,
          -0.003999999724328518,
          0,
          0.001999999862164259,
          -0.0029999995604157448,
          -0.0020000003278255463,
          -0.001999999862164259,
          0,
          0,
          0.001999999862164259,
          0.003000000026077032,
          -0.003999999724328518,
          -0.01000000024214387,
          -0.012000000104308128,
          -0.0030000004917383194,
          -0.008999999612569809,
          -0.014000000432133675,
          0.0029999995604157448,
          0.004000000189989805,
          0.004999999888241291,
          0.004999999888241291,
          0.005999999586492777,
          0.004999999888241291,
          0.003999999724328518,
          0.003999999724328518,
          0.003000000026077032,
          0.003999999724328518,
          0.003999999724328518,
          0.0010000001639127731,
          0.0010000001639127731,
          0.003000000026077032,
          0.006000000052154064,
          0.003000000026077032,
          0.0010000001639127731,
          0,
          0.003000000026077032,
          0.0020000003278255463,
          0.001999999862164259,
          0.003000000026077032,
          0,
          0.0009999996982514858,
          0.0020000003278255463,
          -0.026999999769032,
          -0.049000000115484,
          -0.04500000039115548,
          -0.043000000063329935,
          -0.0409999992698431,
          -0.014000000432133675,
          -0.04399999976158142,
          -0.04200000083073974,
          -0.04199999989941716,
          -0.03900000033900142,
          -0.049000000115484,
          -0.02199999988079071,
          -0.04199999989941716,
          -0.013999999966472387,
          -0.03500000014901161,
          -0.024999999906867743,
          -0.03500000014901161,
          -0.016999999526888132,
          -0.0009999996982514858,
          -0.011000000406056643,
          -0.03099999949336052,
          0,
          -0.004999999888241291,
          -0.01500000013038516,
          0,
          -0.0010000001639127731,
          -0.05599999940022826,
          -0.0029999995604157448,
          -0.05599999986588955,
          -0.0060000005178153515,
          -0.031000000424683094,
          -0.02899999963119626,
          -0.03000000026077032,
          0.003000000026077032,
          -0.0009999992325901985,
          -0.02500000037252903,
          -0.004000000189989805,
          -0.02399999974295497,
          0.0010000001639127731,
          0,
          0.02199999988079071,
          -0.001999999862164259,
          -0.0029999995604157448,
          -0.0040000006556510925,
          -0.016999999526888132,
          0.0009999996982514858,
          -0.001999999862164259,
          -0.0009999996982514858,
          -0.012999999802559614,
          -0.03700000001117587,
          -0.00699999975040555,
          -0.02399999974295497,
          -0.022499999962747097,
          -0.024999999906867743,
          -0.029000000562518835,
          -0.029999999795109034,
          0,
          0.0009999996982514858,
          0,
          0.032999999821186066,
          0,
          0,
          -0.0020000003278255463,
          -0.0010000001639127731,
          0,
          -0.001999999862164259,
          -0.001999999862164259,
          -0.0029999995604157448,
          -0.028000000398606062,
          -0.006000000052154064,
          -0.005999999586492777,
          -0.003000000026077032,
          -0.003999999724328518,
          -0.007000000216066837,
          -0.010999999474734068,
          -0.004999999888241291,
          -0.003999999724328518,
          -0.007000000681728125,
          -0.001999999862164259,
          -0.003000000026077032,
          -0.003999999724328518,
          -0.0040000006556510925,
          -0.03799999924376607,
          -0.04600000008940697,
          -0.04699999978765845,
          0,
          -0.015999999828636646,
          0.001999999862164259,
          -0.003999999724328518,
          -0.01000000024214387,
          -0.04399999976158142,
          -0.030999999959021807,
          0,
          -0.02899999963119626,
          -0.03399999998509884,
          0,
          0,
          -0.024000000674277544,
          -0.023000000044703484,
          -0.03799999924376607,
          -0.0029999995604157448,
          0.001999999862164259,
          -0.0009999992325901985,
          -0.013999999966472387,
          -0.021000000182539225,
          -0.00800000037997961,
          -0.01699999999254942,
          -0.032999999821186066,
          0.001999999862164259,
          -0.005000000353902578,
          -0.003000000026077032,
          -0.03500000014901161,
          -0.02899999963119626,
          -0.009999999776482582,
          -0.004000000189989805,
          0,
          -0.03300000028684735,
          -0.02199999988079071,
          -0.021000000182539225,
          -0.030999999959021807,
          -0.001999999862164259,
          -0.0009999996982514858,
          0.003999999724328518,
          0.0010000006295740604,
          -0.03200000012293458,
          -0.03000000026077032,
          -0.003000000026077032,
          -0.001999999862164259,
          0,
          -0.0010000001639127731,
          -0.003000000026077032,
          -0.003000000026077032,
          -0.0009999992325901985,
          0,
          -0.011000000406056643,
          -0.009999999776482582,
          0,
          0.0010000001639127731,
          -0.03200000058859587,
          0,
          -0.0010000001639127731,
          0.0009999992325901985,
          -0.001999999862164259,
          -0.004000000189989805,
          0,
          0,
          0,
          0.001999999862164259,
          0.0010000001639127731,
          0.0020000003278255463,
          0.0010000001639127731,
          0.0020000003278255463,
          0.0010000001639127731,
          0.001999999862164259,
          0.0020000003278255463,
          0.001999999862164259,
          0.0020000003278255463,
          0.0009999996982514858,
          0.0009999996982514858,
          0.0020000007934868336,
          0.0020000003278255463,
          0.0010000006295740604,
          0.001999999862164259,
          0.0009999996982514858,
          0.003000000026077032,
          0.0009999996982514858,
          0.001999999862164259,
          0.001999999862164259,
          0.0009999996982514858,
          0.0009999996982514858,
          0.0010000001639127731,
          0.0010000001639127731,
          0.0009999992325901985,
          0.001999999862164259,
          0.001999999862164259,
          0.0020000003278255463,
          0.001999999862164259,
          0.0009999996982514858,
          -0.0009999996982514858,
          0,
          0.0009999996982514858,
          0.0010000001639127731,
          0.0010000006295740604,
          -0.0010000001639127731,
          -0.00699999975040555,
          -0.02000000001862645,
          -0.028000000398606062,
          -0.029000000096857548,
          0.001999999862164259,
          0.001999999862164259,
          -0.009999999776482582,
          -0.003999999724328518,
          -0.003999999724328518,
          0,
          -0.008999999612569809,
          -0.012000000569969416,
          -0.003000000026077032,
          -0.004000000189989805,
          -0.004000000189989805,
          -0.001999999862164259,
          -0.009000000543892384,
          -0.011999999638646841,
          -0.02300000051036477,
          -0.018000000156462193,
          -0.041000000201165676,
          -0.01699999999254942,
          -0.01699999999254942,
          -0.01500000013038516,
          -0.015999999828636646
         ],
         "w": [
          -0.033999999999991815,
          -0.012999999999976808,
          -0.01780769230799706,
          -0.018000000000000682,
          -0.01700000000002433,
          -0.02400000000000091,
          -0.03499999999999659,
          -0.0030000000000143245,
          -0.017266666666998276,
          -0.011762626262012077,
          -0.01100000000000989,
          -0.00889090909099366,
          -0.009909090909005158,
          -0.009090909090986088,
          -0.009000000000000341,
          -0.020999999999986585,
          -0.016250000000013642,
          -0.0005000000000165983,
          0,
          0.0010000000000047748,
          0,
          -0.0005000000000023874,
          -0.0010000000000047748,
          -0.0010000000000047748,
          0,
          -0.0020000000000095497,
          -0.007000000000005002,
          -0.007000000000005002,
          -0.010000000000019327,
          -0.009000000000014552,
          -0.00899999999998613,
          0,
          0.0010000000000047748,
          -0.02199999999999136,
          -0.007000000000005002,
          -0.01300000000000523,
          -0.01300000000000523,
          -0.014000000000010004,
          -0.015999999999991132,
          -0.02600000000001046,
          -0.026025641025995583,
          -0.025025641025990808,
          -0.023000000000024556,
          -0.009999999999990905,
          -0.018999999999977035,
          -0.009900000000016007,
          -0.01500000000001478,
          -0.01500000000001478,
          -0.014624999999995225,
          -0.026435897436016376,
          -0.002999999999985903,
          -0.009999999999990905,
          -0.014000000000010004,
          -0.01300000000000523,
          -0.014076923076970616,
          -0.015999999999991132,
          -0.013999999999981583,
          -0.015999999999991132,
          -0.01785714285699669,
          -0.010874999999998636,
          -0.022999999999996135,
          -0.022071428570995977,
          -0.022999999999996135,
          -0.019000000000005457,
          -0.025000000000005684,
          -0.016000000000019554,
          -0.008000000000009777,
          -0.008199999999987995,
          -0.011400000000008959,
          -0.014000000000010004,
          -0.01500000000001478,
          -0.007499999999993179,
          -0.007000000000005002,
          -0.015999999999991132,
          -0.025051282050981172,
          0,
          -0.004000000000019099,
          -0.0006666666670014365,
          -0.0015000000000071623,
          0.0002000000000066393,
          0,
          0.000999999999990564,
          -0.019999999999015472,
          -0.034270270270013725,
          -0.01660000000001105,
          -0.012882783883014781,
          -0.04689189189198828,
          -0.06827027027000554,
          -0.02199999999999136,
          -0.020000000000010232,
          -0.01666666666702099,
          -0.017333333332999246,
          0,
          0.0010000000000047748,
          0.0040212765960063734,
          0.0025531914889995733,
          0.0010212765959636272,
          0.0010416666670209906,
          0.0003829787229960857,
          -0.013999999999981583,
          -0.017461538460992188,
          -0.01633333333299447,
          -0.02200000000001978,
          -0.021100000000018326,
          -0.018900000000002137,
          -0.0010999999999796728,
          -0.0161250000000166,
          -0.0179779411760137,
          -0.0017470588240087181,
          -0.013470588235009018,
          -0.020215686274013933,
          -0.021764705882020507,
          -0.011500000000012278,
          -0.013599999999996726,
          -0.01886363636398869,
          -0.021500000000003183,
          -0.02400000000000091,
          -0.024500000000017508,
          -0.02238333333301057,
          -0.022952380952006024,
          -0.03392857142799244,
          -0.003500000000002501,
          -0.026999999999986812,
          -0.026928571429010617,
          -0.003999999999990678,
          -0.0215714285710078,
          0,
          -0.012000000000000455,
          -0.01099999999999568,
          -0.007999999999995566,
          -0.0049999999999954525,
          0,
          -0.029816666667002778,
          0.00016666666701325994,
          0.0006666666669872257,
          -0.0297647058829682,
          -0.030000000000001137,
          -0.030954545453994342,
          -0.050499999999999545,
          -0.02085714285698259,
          -0.021857142857015788,
          -0.0015000000000071623,
          -0.0020000000000095497,
          0,
          0.0005999999999914962,
          0.0006666666669872257,
          0.0010897435900005803,
          0.0008000000000123464,
          -0.000125000000011255,
          -0.0009230769230157421,
          -0.0005714285709927935,
          -0.014000000000038426,
          -0.012090909091000412,
          0.0013333333329939023,
          0,
          0.0020000000000095497,
          0.0020000000000095497,
          -0.0009999999999763531,
          -0.07679999999999154,
          0.0010000000000047748,
          0.002999999999985903,
          0.0010909090909763108,
          0.0017749999999807642,
          -0.0010000000000047748,
          -0.0324081632649893,
          0.0006666666670014365,
          0.0013333333330081132,
          -0.0008000000000265572,
          0.001999999999981128,
          0.0009999999999763531,
          0.0009999999999763531,
          0.0010000000000047748,
          0.0009999999999763531,
          -0.0010000000000047748,
          0,
          -0.0002000000000066393,
          -0.0007933333330072401,
          -0.02400000000000091,
          0.0010000000000047748,
          0.0010000000000047748,
          -0.019000000000005457,
          -0.018000000000000682,
          0.0010000000000047748,
          -0.011666666667011327,
          -0.020636363636015176,
          -0.018000000000000682,
          -0.01722222222201708,
          -0.0028749999999888587,
          0.00041428571401525005,
          -0.008750000000020464,
          -0.01300000000000523,
          -0.0022857142859891155,
          -0.006714285713997015,
          -0.0015714285709975684,
          -0.0020000000000095497,
          -0.020000000000010232,
          -0.020999999999986585,
          -0.02199999999999136,
          -0.022999999999996135,
          -0.022500000000007958,
          -0.02400000000000091,
          -0.013822674419003533,
          0,
          -0.02599999999999625,
          0.0009999999999763531,
          0.000999999999990564,
          0.0010000000000047748,
          0.0005000000000023874,
          0.00022222222199275166,
          -0.0027619047620106585,
          -0.0020000000000095497,
          0.0010000000000047748,
          -0.0005714285709927935,
          -0.003428571429012095,
          -0.0010000000000047748,
          -0.003333333332989241,
          -0.0015250000000008868,
          0,
          0.0010000000000047748,
          -0.019400000000018736,
          -0.0013333333329939023,
          0.0015000000000071623,
          0,
          -0.0049999999999954525,
          -0.0071666666669898405,
          -0.007999999999995566,
          -0.007666666667006439,
          -0.007999999999995566,
          -0.005000000000009663,
          -0.003166666666686524,
          -0.004000000000019099,
          -0.006000000000000227,
          -0.010000000000005116,
          0.0009999999999763531,
          0.0010000000000047748,
          0,
          0.0010000000000047748,
          0.0005476190469835274,
          0.0011428571430087686,
          7.142857100461697e-05,
          0.0010000000000047748,
          0.0008666666670080758,
          0,
          0.0011428571430087686,
          0.00033333333300333834,
          0.0012000000000114142,
          0.00010000000000331966,
          0.0010714285710093918,
          0.0008333333329915149,
          0.0010000000000047748,
          -0.0030000000000001137,
          -0.0030000000000143245,
          -0.0030000000000143245,
          -0.0020000000000095497,
          -0.003999999999990678,
          -0.001999999999995339,
          0,
          0,
          -0.0049999999999954525,
          -0.003999999999990678,
          -0.0040000000000048885,
          -0.0018333333329962898,
          0,
          -0.0049999999999954525,
          -0.000999999999990564,
          -0.0020000000000095497,
          -0.0020000000000095497,
          -0.0049999999999954525,
          -0.0020000000000095497,
          -0.004000000000019099,
          -0.0010000000000047748,
          -0.001999999999995339,
          0.0010000000000047748,
          -0.001999999999995339,
          -0.000999999999990564,
          -0.0030000000000143245,
          -0.0020000000000095497,
          0,
          -0.0049999999999954525,
          -0.0020000000000095497,
          -0.0010000000000047748,
          0,
          -0.0030000000000143245,
          -0.0030000000000143245,
          -0.001999999999981128,
          -0.0049999999999954525,
          -0.006000000000000227,
          -0.006000000000000227,
          -0.003999999999990678,
          -0.0049999999999954525,
          -0.0010000000000047748,
          -0.0030000000000001137,
          -0.002999999999985903,
          0,
          -0.0030000000000001137,
          -0.0020000000000095497,
          0,
          -0.0010000000000047748,
          0,
          0,
          0.0010000000000047748,
          0.000999999999990564,
          0.0010000000000047748,
          0.0020000000000095497,
          0.0020000000000095497,
          0.003999999999990678,
          0.0030000000000143245,
          0.0030000000000143245,
          0.0010000000000047748,
          0.0020000000000095497,
          -0.0010000000000047748,
          0.0020000000000095497,
          0.001999999999995339,
          0,
          -0.002999999999985903,
          -0.003999999999990678,
          -0.0049999999999954525,
          -0.0010000000000047748,
          0,
          0,
          0,
          0.004000000000019099,
          0.0030000000000001137,
          0,
          -0.006000000000000227,
          -0.0020000000000095497,
          -0.0049999999999954525,
          -0.0049999999999954525,
          0.006000000000000227,
          -0.001999999999995339,
          -0.0030000000000143245,
          0.0010000000000047748,
          0.0020000000000095497,
          -0.001999999999995339,
          -0.003999999999990678,
          -0.010000000000005116,
          -0.003999999999990678,
          -0.001999999999995339,
          -0.002999999999985903,
          -0.0030000000000001137,
          0.03999999999999204,
          -0.017000000000010118,
          -0.07200000000001694,
          -0.0010000000000047748,
          0.0010000000000047748,
          0.001999999999995339,
          -0.003999999999990678,
          -0.002999999999985903,
          -0.0049999999999954525,
          -0.0010000000000047748,
          -0.0030000000000001137,
          0.0030000000000001137,
          -0.0040000000000048885,
          0.025999999999982037,
          0.0010000000000047748,
          0,
          -0.000999999999990564,
          -0.0030000000000001137,
          -0.0020000000000095497,
          0,
          -0.0010000000000047748,
          -0.0020000000000095497,
          -0.017000000000010118,
          -0.0010000000000047748,
          -0.0010000000000047748,
          0.001999999999995339,
          -0.0049999999999954525,
          -0.001999999999995339,
          0.0379999999999967,
          -0.0010000000000047748,
          -0.015999999999991132,
          -0.007000000000005002,
          -0.003999999999990678,
          -0.0049999999999954525,
          0,
          0.05299999999999727,
          -0.003999999999990678,
          -0.006999999999990791,
          -0.007000000000019213,
          -0.005000000000009663,
          -0.0010000000000047748,
          -0.007999999999995566,
          -0.00899999999998613,
          -0.0020000000000095497,
          -0.03999999999999204,
          -0.006000000000000227,
          0.009000000000000341,
          -0.042999999999992156,
          0,
          -0.001999999999995339,
          0,
          0,
          0.0030000000000001137,
          0.0010000000000047748,
          0.001999999999995339,
          0.0030000000000001137,
          0.0010000000000047748,
          -0.0020000000000095497,
          -0.0020000000000095497,
          -0.0030000000000001137,
          0.001999999999995339,
          0,
          0.0030000000000143245,
          -0.0010000000000047748,
          -0.0059999999999860165,
          -0.005000000000009663,
          -0.0010000000000047748,
          0.0010000000000047748,
          -0.0030000000000001137,
          -0.001999999999995339,
          0,
          -0.0040000000000048885,
          -0.001999999999981128,
          -0.0030000000000001137,
          0,
          -0.0010000000000047748,
          -0.0010000000000047748,
          -0.0009999999999763531,
          -0.0010000000000047748,
          -0.0010000000000047748,
          0,
          -0.006000000000000227,
          -0.002999999999985903,
          -0.0020000000000095497,
          -0.0030000000000143245,
          -0.0020000000000095497,
          -0.0020000000000095497,
          -0.002999999999985903,
          -0.0020000000000095497,
          -0.0020000000000095497,
          -0.0010000000000047748,
          -0.0010000000000047748,
          -0.0010000000000047748,
          -0.001999999999981128,
          -0.003999999999990678,
          -0.0020000000000095497,
          -0.007000000000005002,
          -0.0010000000000047748,
          0,
          0,
          -0.0010000000000047748,
          -0.0010000000000047748,
          -0.0010000000000047748,
          0,
          0,
          -0.0010000000000047748,
          -0.0010000000000047748,
          -0.020000000000010232,
          -0.03499999999999659,
          -0.03499999999999659,
          -0.020999999999986585,
          -0.03999999999999204,
          -0.01099999999999568,
          -0.054000000000002046,
          -0.08400000000000318,
          -0.03200000000001069,
          -0.03299999999998704,
          -0.04400000000001114,
          -0.022999999999996135,
          -0.05699999999998795,
          -0.033999999999991815,
          -0.09999999999999432,
          -0.036000000000001364,
          -0.033999999999991815,
          -0.033999999999991815,
          -0.021000000000015007,
          -0.019000000000005457,
          -0.03599999999997294,
          -0.002999999999985903,
          -0.011999999999972033,
          -0.03100000000000591,
          0,
          0.0010000000000047748,
          -0.057999999999992724,
          0,
          -0.05299999999999727,
          -0.006000000000000227,
          -0.03300000000001546,
          -0.033999999999991815,
          -0.03499999999999659,
          0.0020000000000095497,
          -0.004000000000019099,
          -0.016000000000019554,
          0.0010000000000047748,
          -0.014999999999986358,
          0.0010000000000047748,
          0,
          -0.014999999999986358,
          -0.0010000000000047748,
          0.006000000000000227,
          -0.010000000000019327,
          -0.01700000000002433,
          -0.0010000000000047748,
          -0.012000000000000455,
          -0.01500000000001478,
          -0.0030000000000143245,
          -0.020999999999986585,
          -0.00899999999998613,
          -0.02199999999999136,
          -0.021500000000003183,
          -0.019000000000005457,
          -0.016000000000019554,
          -0.02400000000000091,
          -0.0010000000000047748,
          0,
          -0.001999999999981128,
          -0.0800000000000125,
          -0.0010000000000047748,
          -0.0010000000000047748,
          0.0010000000000047748,
          -0.001999999999981128,
          -0.003999999999990678,
          0.0010000000000047748,
          0,
          -0.0010000000000047748,
          -0.015999999999991132,
          -0.014999999999986358,
          -0.01500000000001478,
          -0.014000000000010004,
          -0.01700000000002433,
          -0.009000000000014552,
          -0.008000000000009777,
          -0.016000000000019554,
          -0.020000000000010232,
          -0.020999999999986585,
          -0.013999999999981583,
          -0.014999999999986358,
          -0.01900000000003388,
          -0.018000000000029104,
          -0.020999999999986585,
          -0.02200000000001978,
          -0.022999999999996135,
          0,
          -0.014499999999998181,
          -0.0030000000000143245,
          -0.01999999999998181,
          -0.018000000000000682,
          -0.02200000000001978,
          -0.01799999999997226,
          -0.003999999999990678,
          -0.025000000000005684,
          -0.019000000000005457,
          0,
          0,
          -0.02600000000001046,
          -0.026499999999998636,
          -0.028999999999996362,
          -0.0009999999999763531,
          -0.0010000000000047748,
          -0.0010000000000047748,
          -0.020999999999986585,
          -0.027000000000015234,
          -0.016999999999995907,
          -0.01300000000000523,
          -0.009999999999990905,
          -0.002999999999985903,
          -0.002999999999985903,
          0.0020000000000095497,
          -0.01999999999998181,
          -0.016999999999995907,
          -0.018000000000000682,
          -0.016999999999995907,
          -0.01099999999999568,
          -0.020999999999986585,
          -0.009999999999990905,
          -0.007999999999981355,
          -0.019000000000005457,
          -0.018000000000000682,
          -0.015999999999991132,
          -0.0010000000000047748,
          -0.012000000000028876,
          -0.027999999999991587,
          -0.027000000000015234,
          0.0010000000000047748,
          0.0020000000000095497,
          -0.0049999999999954525,
          -0.0009999999999763531,
          0.0010000000000047748,
          0.0020000000000095497,
          -0.0010000000000047748,
          0,
          -0.006000000000028649,
          -0.01300000000000523,
          0,
          -0.0009999999999763531,
          -0.028999999999996362,
          0,
          0,
          0.0010000000000047748,
          0,
          0.0010000000000047748,
          0.0010000000000047748,
          0,
          0,
          0.002999999999985903,
          -0.0010000000000047748,
          -0.000999999999990564,
          -0.001999999999995339,
          -0.001999999999995339,
          -0.0020000000000095497,
          -0.001999999999995339,
          0,
          0,
          0,
          0,
          0,
          -0.0010000000000047748,
          -0.0010000000000047748,
          0,
          -0.0009999999999763531,
          0.0010000000000047748,
          0.0010000000000047748,
          0.0010000000000047748,
          0,
          0,
          0,
          0,
          0,
          -0.0010000000000047748,
          0,
          0,
          0.0010000000000047748,
          0.0010000000000047748,
          0,
          0,
          -0.000999999999990564,
          -0.0010000000000047748,
          -0.0010000000000047748,
          -0.0010000000000047748,
          -0.0020000000000095497,
          -0.004000000000019099,
          -0.010000000000019327,
          -0.018000000000000682,
          -0.021000000000015007,
          -0.01500000000001478,
          -0.001999999999981128,
          -0.0010000000000047748,
          -0.01099999999999568,
          -0.006000000000000227,
          -0.0069999999999765805,
          -0.002999999999985903,
          -0.009000000000014552,
          -0.00899999999998613,
          0.001999999999981128,
          -0.0030000000000143245,
          -0.003999999999990678,
          0,
          -0.002999999999985903,
          -0.006000000000000227,
          -0.01500000000001478,
          -0.0049999999999954525,
          -0.0049999999999954525,
          -0.009999999999990905,
          -0.009999999999990905,
          -0.01099999999999568,
          -0.011000000000024102
         ],
         "x": [
          2055322.26044898,
          2055342.9189400002,
          2055344.57523077,
          2055341.59467961,
          2055343.32005769,
          2055339.66398413,
          2055329.79601639,
          2055252.1435,
          2055254.27,
          2055267.89272727,
          2055269.83054545,
          2055276.18418182,
          2055278.43118182,
          2055283.75045455,
          2055286.11854545,
          2055253.55733333,
          2055244.4919999999,
          2055235.44498333,
          2055242.09733333,
          2055366.1469999999,
          2055359.5669999998,
          2055359.53,
          2055330.376,
          2055330.616,
          2055325.237,
          2055373.53928571,
          2055368.02515789,
          2055363.81809023,
          2055361.31810526,
          2055344.371875,
          2055345.83,
          2055348.845,
          2055362.937,
          2055305.3811,
          2055352.14525,
          2055344.9019999998,
          2055340.28,
          2055329.0580000002,
          2055318.378,
          2055321.60808163,
          2055317.99720513,
          2055309.53397436,
          2055333.55457088,
          2055355.0790000001,
          2055339.28491209,
          2055346.0901,
          2055346.13,
          2055346.1519999998,
          2055344.428,
          2055317.41494872,
          2055316.54096,
          2055355.2340000002,
          2055346.283,
          2055346.237,
          2055346.27684615,
          2055344.4931,
          2055340.458,
          2055328.16404348,
          2055316.61385714,
          2055305.4440000001,
          2055321.89495714,
          2055328.29028571,
          2055333.15112727,
          2055339.32820027,
          2055301.79604666,
          2055327.83535537,
          2055353.322,
          2055353.3218,
          2055346.303,
          2055344.487,
          2055328.175,
          2055318.716,
          2055304.9109999998,
          2055293.174,
          2055309.105,
          2055375.052,
          2055365.315,
          2055358.035,
          2055376.8648,
          2055376.759,
          2055378.596,
          2055380.2704,
          2055293.60293551,
          2055314.83296139,
          2055293.14870244,
          2055309.54747436,
          2055302.31618018,
          2055296.89476448,
          2055255.10475,
          2055262.11117778,
          2055279.14417647,
          2055284.989,
          2055316.906,
          2055292.4309999999,
          2055279.10621277,
          2055276.62406383,
          2055279.06087234,
          2055276.615875,
          2055279.06285106,
          2055268.32080769,
          2055262.52992308,
          2055255.699,
          2055262.09,
          2055269.5368,
          2055279.0479,
          2055284.96495,
          2055290.940875,
          2055290.75341176,
          2055284.95564706,
          2055279.03152941,
          2055269.61641176,
          2055262.38470588,
          2055290.47075,
          2055279.0878,
          2055252.78552364,
          2055253.2395,
          2055261.4952599998,
          2055261.53323913,
          2055269.38050952,
          2055269.06395238,
          2055288.21704116,
          2055288.63920134,
          2055277.87506302,
          2055278.40519748,
          2055379.465,
          2055295.79871429,
          2055379.975,
          2055322.812875,
          2055339.846,
          2055342.914,
          2055379.968,
          2055380.27005,
          2055369.705,
          2055373.33291667,
          2055378.77425,
          2055331.22122255,
          2055331.20444118,
          2055331.02812805,
          2055332.9492549,
          2055323.72171429,
          2055323.87871429,
          2055252.87216667,
          2055255.33233333,
          2055260.99416667,
          2055263.42016667,
          2055268.80684615,
          2055270.81484615,
          2055276.11684615,
          2055278.72984615,
          2055284.24076923,
          2055286.55869231,
          2055244.49676923,
          2055235.44466667,
          2055242.736,
          2055242.14,
          2055320.18908021,
          2055320.04710695,
          2055320.08452941,
          2055330.8474,
          2055330.93212903,
          2055330.89584767,
          2055343.73318182,
          2055343.766125,
          2055343.63907692,
          2055343.7664897998,
          2055354.41166667,
          2055354.3290000001,
          2055354.398,
          2055366.8004,
          2055366.6409999998,
          2055312.4294,
          2055312.5869999998,
          2055312.615,
          2055303.8669999999,
          2055304.0744,
          2055304.0690000001,
          2055302.5447799999,
          2055254.24585714,
          2055336.64157143,
          2055340.25285714,
          2055255.10361538,
          2055262.16191667,
          2055291.80211111,
          2055350.9730000002,
          2055243.83881818,
          2055239.053,
          2055255.399,
          2055235.226125,
          2055235.8857,
          2055237.214875,
          2055241.709,
          2055235.45771429,
          2055235.97442857,
          2055235.22828571,
          2055236.23,
          2055252.78594444,
          2055253.239,
          2055261.495,
          2055261.533,
          2055269.3794,
          2055269.41505555,
          2055329.60223256,
          2055318.13093333,
          2055234.985,
          2055237.894,
          2055239.229,
          2055237.6609999998,
          2055239.138,
          2055343.477,
          2055344.55444444,
          2055234.55485714,
          2055232.1515,
          2055234.40971429,
          2055232.45271429,
          2055237.29785714,
          2055249.2769999998,
          2055258.118,
          2055267.102,
          2055279.94157143,
          2055271.4218,
          2055245.74841429,
          2055244.6940000001,
          2055292.866,
          2055341.13335714,
          2055346.898,
          2055346.9430000002,
          2055346.737,
          2055346.775,
          2055324.53214286,
          2055324.3268,
          2055330.1819999998,
          2055330.09142857,
          2055363.356,
          2055320.18914286,
          2055320.04671429,
          2055330.8469999998,
          2055330.9330000002,
          2055330.91621429,
          2055343.72464286,
          2055343.75557143,
          2055354.4030000002,
          2055354.3272,
          2055354.38907143,
          2055366.80171429,
          2055366.636,
          2055312.4422,
          2055312.6005,
          2055303.87392857,
          2055304.08614286,
          2055304.084,
          2055366.885,
          2055366.573,
          2055374.4419999998,
          2055366.573,
          2055377.356,
          2055378.793,
          2055378.785,
          2055344.632,
          2055330.75028571,
          2055335.53,
          2055346.445,
          2055346.42083333,
          2055346.833,
          2055346.88,
          2055346.679,
          2055324.639,
          2055324.5219999999,
          2055330.19,
          2055330.112,
          2055330.082,
          2055341.946,
          2055343.0690000001,
          2055342.5869999998,
          2055359.665,
          2055359.744,
          2055362.4840000002,
          2055362.496,
          2055362.459,
          2055362.3369999998,
          2055362.733,
          2055362.705,
          2055362.757,
          2055309.0480000002,
          2055309.053,
          2055309.063,
          2055296.3830000001,
          2055305.485,
          2055314.481,
          2055330.32,
          2055339.208,
          2055341.031,
          2055342.497,
          2055346.4019999998,
          2055357.0880000002,
          2055367.8059999999,
          2055374.239,
          2055377.333,
          2055377.664,
          2055378.9230000002,
          2055379.476,
          2055379.979,
          2055379.983,
          2055379.956,
          2055379.759,
          2055380.0380000002,
          2055379.751,
          2055378.781,
          2055371.374,
          2055361.844,
          2055346.158,
          2055341.244,
          2055329.701,
          2055323.9780000001,
          2055318.271,
          2055278.233,
          2055268.9640000002,
          2055260.1619999998,
          2055345.352,
          2055340.459,
          2055360.955,
          2055292.8590000002,
          2055292.9840000002,
          2055293.034,
          2055293.148,
          2055341.09,
          2055308.529,
          2055323.626,
          2055292.804,
          2055378.6519999998,
          2055344.767,
          2055320.79,
          2055293.804,
          2055293.011,
          2055344.392,
          2055296.332,
          2055305.668,
          2055284.658,
          2055284.658,
          2055268.884,
          2055260.119,
          2055367.9309999999,
          2055374.456,
          2055379.996,
          2055380.019,
          2055379.96,
          2055380.0259999998,
          2055342.501,
          2055346.414,
          2055335.507,
          2055346.3159999999,
          2055348.928,
          2055357.265,
          2055345.054,
          2055331.043,
          2055323.626,
          2055312.291,
          2055293.657,
          2055296.957,
          2055305.73,
          2055314.427,
          2055377.32,
          2055378.9019999998,
          2055380.065,
          2055379.971,
          2055380.0269999998,
          2055380.0980000002,
          2055330.737,
          2055335.5159999998,
          2055366.889,
          2055374.6830000002,
          2055342.524,
          2055346.481,
          2055378.858,
          2055380.086,
          2055380.05,
          2055380.0680000002,
          2055296.876,
          2055305.841,
          2055314.74,
          2055330.894,
          2055378.814,
          2055366.594,
          2055374.9,
          2055377.372,
          2055378.856,
          2055379.956,
          2055379.9640000002,
          2055377.882,
          2055356.2580000001,
          2055339.093,
          2055346.56,
          2055346.27,
          2055293.01,
          2055293.071,
          2055293.1709999999,
          2055314.86,
          2055325.1430000002,
          2055331.121,
          2055335.274,
          2055341.064,
          2055292.771,
          2055330.532,
          2055310.138,
          2055293.491,
          2055363.386,
          2055363.369,
          2055366.7580000001,
          2055364.675,
          2055344.615,
          2055356.11,
          2055361.666,
          2055342.394,
          2055345.174,
          2055346.533,
          2055346.254,
          2055346.265,
          2055292.74,
          2055292.045,
          2055292.4519999998,
          2055292.701,
          2055296.774,
          2055314.8290000001,
          2055382.447,
          2055380.71,
          2055379.15,
          2055378.4019999998,
          2055377.106,
          2055376.149,
          2055371.001,
          2055370.31,
          2055366.0119999999,
          2055362.3390000002,
          2055359.995,
          2055349.07,
          2055348.185,
          2055336.3669999999,
          2055336.42,
          2055324.761,
          2055323.134,
          2055318.594,
          2055318.511,
          2055324.4730000002,
          2055326.573,
          2055308.57,
          2055307.79,
          2055296.03,
          2055297.132,
          2055317.407,
          2055301.784,
          2055309.0969999998,
          2055293.5869999998,
          2055314.8080000002,
          2055309.5369999998,
          2055302.295,
          2055296.874,
          2055317.989,
          2055309.534,
          2055321.586,
          2055327.822,
          2055333.5359999998,
          2055339.269,
          2055321.886,
          2055328.283,
          2055333.1430000002,
          2055339.313,
          2055342.9130000002,
          2055343.3180000002,
          2055339.642,
          2055344.59,
          2055344.1630000002,
          2055341.576,
          2055339.741,
          2055339.865,
          2055329.78,
          2055329.573,
          2055322.237,
          2055322.2130000002,
          2055331.2230000002,
          2055331.1909999999,
          2055331.0219999999,
          2055332.9430000002,
          2055332.936,
          2055329.332,
          2055329.333,
          2055329.381,
          2055356.6719999998,
          2055356.685,
          2055356.8480000002,
          2055356.826,
          2055269.375,
          2055344.755,
          2055244.483,
          2055363.822,
          2055361.3190000001,
          2055355.0790000001,
          2055316.491,
          2055327.771,
          2055340.3480000002,
          2055255.095,
          2055262.146,
          2055279.154,
          2055277.878,
          2055288.2030000002,
          2055288.6269999999,
          2055320.187,
          2055320.045,
          2055330.842,
          2055330.929,
          2055330.8930000002,
          2055343.726,
          2055343.7580000001,
          2055343.757,
          2055354.405,
          2055354.32,
          2055354.389,
          2055278.409,
          2055344.366,
          2055345.824,
          2055348.8390000002,
          2055346.1230000001,
          2055233.947,
          2055241.77,
          2055346.09,
          2055346.1519999998,
          2055344.428,
          2055355.226,
          2055346.274,
          2055346.2280000001,
          2055346.2680000002,
          2055328.176,
          2055316.6030000001,
          2055305.4440000001,
          2055244.486,
          2055235.449,
          2055244.486,
          2055344.4840000002,
          2055340.447,
          2055305.372,
          2055285.035,
          2055262.3730000001,
          2055284.9540000001,
          2055290.9309999999,
          2055257.136,
          2055261.5669999998,
          2055261.4919999999,
          2055261.529,
          2055277.866,
          2055293.59,
          2055366.801,
          2055366.64,
          2055243.855,
          2055255.4019999998,
          2055239.0669999998,
          2055262.3730000001,
          2055279.021,
          2055269.604,
          2055290.7419999999,
          2055284.9440000001,
          2055318.378,
          2055329.0580000002,
          2055340.28,
          2055344.9019999998,
          2055352.145,
          2055293.174,
          2055304.9109999998,
          2055318.716,
          2055328.175,
          2055344.487,
          2055346.303,
          2055346.311,
          2055353.322,
          2055295.7980000002,
          2055323.721,
          2055366.658,
          2055312.44,
          2055312.5980000002,
          2055312.626,
          2055303.878,
          2055304.084,
          2055304.081,
          2055233.2240000002,
          2055235.227,
          2055237.216,
          2055241.71,
          2055251.415,
          2055323.7869999998,
          2055378.1930000002,
          2055379.155,
          2055384.7319999998,
          2055381.501,
          2055380.615,
          2055379.8080000002,
          2055378.8930000002,
          2055380.771,
          2055262.38,
          2055281.82,
          2055291.4009999998,
          2055300.6619999998,
          2055308.635,
          2055320.63,
          2055329.8190000001,
          2055286.852,
          2055292.0559999999,
          2055298.12,
          2055297.655,
          2055296.7719999999,
          2055302.157,
          2055306.855,
          2055304.9440000001,
          2055308.5259999998,
          2055309.908,
          2055313.8469999998,
          2055317.198,
          2055320.552,
          2055325.408,
          2055328.342,
          2055331.4219999998,
          2055328.5769999998,
          2055326.918,
          2055333.476,
          2055335.917,
          2055346.118,
          2055350.629,
          2055350.034,
          2055346.168,
          2055335.299,
          2055326.2769999998,
          2055322.884,
          2055334.8069999998,
          2055184.8,
          2055207.331,
          2055239.285,
          2055257.269,
          2055274.013,
          2055285.281,
          2055198.361,
          2055198.0590000001,
          2055218.92,
          2055216.0369999998,
          2055216.03,
          2055206.4619999998,
          2055269.253,
          2055273.6809999999,
          2055284.3180000002,
          2055269.256,
          2055273.6830000002,
          2055257.2719999999,
          2055297.36,
          2055294.312,
          2055330.4119999998,
          2055325.624,
          2055325.624,
          2055325.229,
          2055325.24,
          2055326.959,
          2055326.961
         ],
         "y": [
          3179692.24002041,
          3179722.4902,
          3179713.86192308,
          3179702.08153398,
          3179713.80840385,
          3179700.29389418,
          3179694.77302268,
          3179683.33966667,
          3179683.568,
          3179685.84418182,
          3179685.86818182,
          3179684.33090909,
          3179684.29254546,
          3179683.09781818,
          3179683.14527273,
          3179683.41033333,
          3179683.392,
          3179680.3735,
          3179682.75816667,
          3179690.1580000003,
          3179690.209,
          3179696.095,
          3179663.818,
          3179668.876,
          3179664.042,
          3179729.2010000004,
          3179729.47584211,
          3179729.48984211,
          3179729.67910526,
          3179728.501,
          3179729.2789999996,
          3179729.385,
          3179729.2010000004,
          3179681.45031667,
          3179728.2405,
          3179707.256,
          3179694.4669999997,
          3179690.9689999996,
          3179686.639,
          3179689.83402041,
          3179688.33152564,
          3179684.21015384,
          3179694.6385677997,
          3179728.38930769,
          3179696.49333883,
          3179728.314,
          3179724.1769999997,
          3179715.8985,
          3179705.7460000003,
          3179689.83812821,
          3179685.99435077,
          3179728.215,
          3179728.195,
          3179724.395,
          3179715.863,
          3179705.615,
          3179694.6389375,
          3179690.50486957,
          3179685.861,
          3179681.332,
          3179689.58635714,
          3179691.91028571,
          3179693.6061697,
          3179696.42113656,
          3179684.17312086,
          3179690.68712397,
          3179728.1769999997,
          3179728.1764,
          3179716.0568,
          3179705.5,
          3179690.613,
          3179686.7855,
          3179681.185,
          3179682.085,
          3179685.07702564,
          3179728.328,
          3179728.378,
          3179728.341,
          3179724.3032,
          3179727.6824,
          3179716.2169999997,
          3179698.3019999997,
          3179684.56360817,
          3179693.43286873,
          3179678.9117439,
          3179691.69653846,
          3179692.24547374,
          3179692.32088417,
          3179684.95825,
          3179686.4126,
          3179685.32131933,
          3179684.13816667,
          3179662.542,
          3179672.61375,
          3179685.24780851,
          3179685.77440426,
          3179685.27919149,
          3179685.73327083,
          3179685.25606383,
          3179685.655,
          3179686.34438461,
          3179685.0360000003,
          3179686.0930000003,
          3179686.8107,
          3179685.3057,
          3179684.1360000004,
          3179683.03125,
          3179683.02847059,
          3179684.12376471,
          3179685.27676471,
          3179686.78605882,
          3179686.45235294,
          3179683.07025,
          3179685.2789999996,
          3179690.36600546,
          3179689.8365,
          3179689.9479799997,
          3179689.41880435,
          3179689.49845238,
          3179689.06012771,
          3179690.46663559,
          3179690.3184735,
          3179689.22218487,
          3179688.57622269,
          3179709.248,
          3179706.865,
          3179677.047,
          3179684.015,
          3179689.137,
          3179694.31925,
          3179687.992,
          3179698.30205,
          3179675.9669,
          3179674.9280000003,
          3179673.25575,
          3179701.30870968,
          3179701.27668984,
          3179701.15091463,
          3179708.62213726,
          3179703.84785714,
          3179703.83042857,
          3179648.788,
          3179648.8710000003,
          3179648.81116667,
          3179648.80733333,
          3179648.39,
          3179648.48230769,
          3179648.74638462,
          3179648.90223077,
          3179649.17023077,
          3179649.29846154,
          3179683.394,
          3179680.37294445,
          3179675.998,
          3179675.837,
          3179649.77709091,
          3179649.85033155,
          3179649.88799465,
          3179649.1406,
          3179649.24298925,
          3179649.19795161,
          3179648.40590909,
          3179648.4869999997,
          3179648.52684615,
          3179648.48671429,
          3179650.52333333,
          3179650.4669999997,
          3179650.5086,
          3179656.6892,
          3179656.829,
          3179650.2989999996,
          3179650.2,
          3179650.2260000003,
          3179650.777,
          3179650.7610000004,
          3179650.78,
          3179650.89156,
          3179685.34914286,
          3179657.289,
          3179657.17,
          3179684.95692308,
          3179686.46466667,
          3179651.91044444,
          3179649.84422222,
          3179683.07918182,
          3179681.6319999998,
          3179685.00666667,
          3179670.822125,
          3179678.4978,
          3179680.027125,
          3179681.719375,
          3179671.22442857,
          3179678.49657143,
          3179670.37557143,
          3179670.37175,
          3179690.3660000004,
          3179689.845,
          3179689.9480000003,
          3179689.4189999998,
          3179689.497,
          3179689.06,
          3179649.21095349,
          3179650.1318,
          3179656.811,
          3179666.563,
          3179673.738,
          3179666.295,
          3179673.005,
          3179648.78255556,
          3179660.707,
          3179648.61685714,
          3179659.4905,
          3179649.21871429,
          3179659.03542857,
          3179647.22514286,
          3179648.110625,
          3179648.30475,
          3179648.19775,
          3179648.70728571,
          3179648.1862,
          3179647.92785714,
          3179647.811,
          3179669.54885714,
          3179680.04714286,
          3179683.126,
          3179682.7569999998,
          3179683.34,
          3179682.832,
          3179667.14,
          3179667.2048,
          3179666.9189999998,
          3179666.795,
          3179714.2210000004,
          3179649.77728571,
          3179649.85242857,
          3179649.14428571,
          3179649.24271429,
          3179649.18792857,
          3179648.412,
          3179648.49314286,
          3179650.52792857,
          3179650.4671,
          3179650.51092857,
          3179656.69114286,
          3179656.828,
          3179650.3060000003,
          3179650.208,
          3179650.78464286,
          3179650.77314286,
          3179650.78833333,
          3179728.1580000003,
          3179728.21,
          3179728.144,
          3179728.21,
          3179722.748,
          3179713.22,
          3179670.8019999997,
          3179648.486,
          3179691.3039999995,
          3179692.1980000003,
          3179718.17342857,
          3179718.5760000004,
          3179683.1180000002,
          3179682.749,
          3179683.334,
          3179667.1119999997,
          3179667.14,
          3179666.838,
          3179666.895,
          3179666.792,
          3179666.012,
          3179666,
          3179665.894,
          3179673.645,
          3179673.793,
          3179711.111,
          3179711.025,
          3179711.02,
          3179714.4439999997,
          3179689.0239999997,
          3179689.244,
          3179689.307,
          3179667.0069999998,
          3179667.083,
          3179667.164,
          3179681.421,
          3179681.298,
          3179684.854,
          3179691.232,
          3179693.755,
          3179695.163,
          3179699.336,
          3179718.2169999997,
          3179728.245,
          3179728.1610000003,
          3179728.203,
          3179722.545,
          3179720.5239999997,
          3179712.943,
          3179709.244,
          3179705.8419999997,
          3179693.164,
          3179685.3060000003,
          3179682.78,
          3179679.208,
          3179674.752,
          3179670.7189999996,
          3179659.828,
          3179653.7860000003,
          3179648.472,
          3179648.775,
          3179649.202,
          3179649.534,
          3179650.123,
          3179685.2739999997,
          3179686.369,
          3179686.083,
          3179708.898,
          3179666.068,
          3179675.557,
          3179669.5539999995,
          3179672.615,
          3179676.309,
          3179681.577,
          3179679.97,
          3179668.023,
          3179683.216,
          3179662.788,
          3179706.393,
          3179696.165,
          3179687.133,
          3179681.0069999998,
          3179652.3210000005,
          3179661.08,
          3179681.42,
          3179681.308,
          3179683.7989999996,
          3179683.8,
          3179686.334,
          3179685.957,
          3179728.1119999997,
          3179728.1969999997,
          3179696.84,
          3179693.175,
          3179685.14,
          3179679.1769999997,
          3179699.3030000003,
          3179718.558,
          3179692.2,
          3179727.58,
          3179728.251,
          3179651.341,
          3179648.475,
          3179649.276,
          3179649.7139999997,
          3179650.352,
          3179651.397,
          3179681.099,
          3179681.202,
          3179684.526,
          3179722.787,
          3179713.349,
          3179705.04,
          3179693.1569999997,
          3179685.165,
          3179679.24,
          3179691.313,
          3179692.202,
          3179728.211,
          3179728.252,
          3179699.41,
          3179718.5069999998,
          3179713.142,
          3179705.115,
          3179685.3860000004,
          3179679.64,
          3179681.142,
          3179681.352,
          3179684.88,
          3179691.308,
          3179713.2630000003,
          3179728.202,
          3179728.153,
          3179722.788,
          3179713.474,
          3179684.923,
          3179679.539,
          3179669.4310000003,
          3179728.369,
          3179693.682,
          3179718.478,
          3179727.7630000003,
          3179672.547,
          3179676.28,
          3179681.462,
          3179685.168,
          3179689.481,
          3179691.46,
          3179692.2369999997,
          3179695.1989999996,
          3179662.765,
          3179649.32,
          3179650.473,
          3179651.415,
          3179710.942,
          3179714.212,
          3179728.272,
          3179655.61,
          3179648.481,
          3179728.3639999996,
          3179728.236,
          3179699.352,
          3179707.9839999997,
          3179718.472,
          3179727.887,
          3179722.9439999997,
          3179669.937,
          3179672.224,
          3179676.182,
          3179681.7810000004,
          3179681.375,
          3179685.146,
          3179666.966,
          3179667.269,
          3179664.416,
          3179663.409,
          3179659.106,
          3179658.522,
          3179652.995,
          3179652.525,
          3179649.503,
          3179647.3260000004,
          3179646.166,
          3179643.847,
          3179643.562,
          3179643.623,
          3179642.47,
          3179645.039,
          3179644.537,
          3179644.0039999997,
          3179644.628,
          3179643.244,
          3179644.027,
          3179647.39,
          3179645.317,
          3179645.796,
          3179645.689,
          3179689.855,
          3179684.186,
          3179685.095,
          3179684.57,
          3179693.4469999997,
          3179691.713,
          3179692.247,
          3179692.3210000005,
          3179688.349,
          3179684.256,
          3179689.863,
          3179692.15,
          3179694.673,
          3179696.5,
          3179689.6010000003,
          3179691.9510000004,
          3179693.624,
          3179696.4289999995,
          3179722.499,
          3179713.83,
          3179700.317,
          3179722.9480000003,
          3179711.789,
          3179702.0960000004,
          3179700.6,
          3179700.808,
          3179694.8019999997,
          3179694.7139999997,
          3179692.264,
          3179692.1610000003,
          3179701.3310000002,
          3179701.2819999997,
          3179701.165,
          3179708.619,
          3179708.5939999996,
          3179717.035,
          3179717.001,
          3179719.765,
          3179718.127,
          3179722.642,
          3179718.085,
          3179727.152,
          3179689.5039999997,
          3179714.1380000003,
          3179683.403,
          3179729.503,
          3179729.692,
          3179728.389,
          3179685.961,
          3179690.648,
          3179694.645,
          3179684.965,
          3179686.465,
          3179685.356,
          3179689.2210000004,
          3179690.4760000003,
          3179690.328,
          3179649.768,
          3179649.8419999997,
          3179649.137,
          3179649.233,
          3179649.186,
          3179648.401,
          3179648.483,
          3179648.483,
          3179650.519,
          3179650.462,
          3179650.5039999997,
          3179688.5730000003,
          3179728.501,
          3179729.2789999996,
          3179729.385,
          3179724.1769999997,
          3179688.9280000003,
          3179690.1089999997,
          3179728.314,
          3179715.8989999997,
          3179705.7460000003,
          3179728.22,
          3179728.2010000004,
          3179724.4,
          3179715.8680000002,
          3179690.5089999996,
          3179685.861,
          3179681.332,
          3179683.402,
          3179680.367,
          3179683.401,
          3179705.619,
          3179694.639,
          3179681.454,
          3179684.195,
          3179686.459,
          3179684.144,
          3179683.039,
          3179690.1539999996,
          3179688.3605,
          3179689.9460000005,
          3179689.416,
          3179689.2339999997,
          3179684.559,
          3179656.687,
          3179656.8239999996,
          3179683.082,
          3179685.005,
          3179681.637,
          3179686.457,
          3179685.2819999997,
          3179686.79,
          3179683.0330000003,
          3179684.128,
          3179686.639,
          3179690.9689999996,
          3179694.4669999997,
          3179707.256,
          3179728.2410000004,
          3179682.085,
          3179681.185,
          3179686.785,
          3179690.613,
          3179705.5,
          3179716.057,
          3179727.58,
          3179728.1769999997,
          3179706.865,
          3179703.848,
          3179656.835,
          3179650.2989999996,
          3179650.202,
          3179650.225,
          3179650.777,
          3179650.76,
          3179650.7819999997,
          3179662.433,
          3179670.8230000003,
          3179680.028,
          3179681.72,
          3179683.724,
          3179703.8310000002,
          3179727.0110000004,
          3179719.0960000004,
          3179687.1560000004,
          3179704.672,
          3179709.887,
          3179714.7189999996,
          3179719.363,
          3179708.9710000004,
          3179611.722,
          3179611.84,
          3179614.5039999997,
          3179618.17,
          3179617.334,
          3179617.5069999998,
          3179612.348,
          3179623.0039999997,
          3179622.512,
          3179620.841,
          3179622.3710000003,
          3179623.486,
          3179624.1789999995,
          3179622.914,
          3179626.3419999997,
          3179618.923,
          3179627.626,
          3179634.355,
          3179634.173,
          3179633.91,
          3179633.006,
          3179626.8060000003,
          3179622.2860000003,
          3179622.567,
          3179621.52,
          3179621.8030000003,
          3179622.6360000004,
          3179627.403,
          3179626.204,
          3179625.963,
          3179623.9760000003,
          3179615.749,
          3179616.4080000003,
          3179618.443,
          3179613.624,
          3179684.28,
          3179694.668,
          3179701.483,
          3179702.192,
          3179704.4680000003,
          3179703.327,
          3179675.6769999997,
          3179676.975,
          3179681.4469999997,
          3179680.855,
          3179680.852,
          3179681.2810000004,
          3179708.79,
          3179708.3060000003,
          3179708.0719999997,
          3179708.784,
          3179708.298,
          3179702.1739999996,
          3179720.098,
          3179722.587,
          3179720.512,
          3179725.4,
          3179725.461,
          3179716.37,
          3179716.3680000002,
          3179713.058,
          3179713.057
         ],
         "z": [
          149.329979591837,
          145.7223,
          141.951807692308,
          142.35635922330098,
          145.443230769231,
          145.529804232804,
          147.260912568306,
          124.48100000000001,
          124.4546,
          126.756818181818,
          126.76,
          126.73909090909099,
          126.734909090909,
          126.841090909091,
          126.855,
          142.288333333333,
          142.991,
          140.851333333333,
          141.16299999999998,
          126.264,
          126.26100000000001,
          126.2505,
          126.525,
          126.52600000000001,
          126.52,
          125.215,
          131.96447368421101,
          131.955736842105,
          138.88388421052602,
          142.922,
          142.09,
          142.097,
          125.196,
          137.4991,
          136.333,
          136.601,
          136.317,
          136.53,
          136.167,
          146.638,
          141.702025641026,
          141.513025641026,
          144.50199152542402,
          137.523,
          142.801032967033,
          137.5259,
          137.52,
          137.525,
          137.518625,
          146.501435897436,
          137.50996999999998,
          133.001,
          132.997,
          133.092,
          133.02807692307698,
          133.076,
          132.731,
          132.825,
          132.703857142857,
          132.878875,
          141.49292,
          141.525571428571,
          141.031690909091,
          141.111070484581,
          144.968677902622,
          137.503950413223,
          128.24,
          128.2402,
          129.3854,
          128.96,
          129.019,
          128.69899999999998,
          128.765,
          128.725,
          145.146051282051,
          125.009,
          125.01700000000001,
          125.005,
          123.331,
          125.0258,
          125.24,
          126.79,
          145.084986046511,
          149.462806949807,
          137.522990243902,
          149.677025641026,
          151.639436607339,
          151.958444015444,
          143.46625,
          143.45184444444402,
          143.461,
          142.9755,
          127.179,
          126.22,
          143.111978723404,
          139.30444680851102,
          137.53697872340402,
          135.548958333333,
          133.737617021277,
          129.921,
          130.139961538461,
          130.12133333333298,
          137.5,
          137.4901,
          137.5499,
          137.70985,
          137.620125,
          132.125352941176,
          131.953647058824,
          135.918470588235,
          135.751882352941,
          137.584764705882,
          129.965,
          130.2266,
          148.968663636364,
          145.415,
          149.57232,
          145.680239130435,
          150.088883333333,
          146.643293290043,
          151.211259079903,
          149.53510738255,
          150.669428571429,
          146.43990336134502,
          120.596,
          155.240571428571,
          127.54700000000001,
          127.221,
          127.208,
          126.9,
          127.117,
          126.79,
          127.18015,
          127.191833333333,
          127.223333333333,
          153.72973705611298,
          152.47285561497299,
          149.952253325942,
          153.57335294117598,
          153.099857142857,
          154.739857142857,
          125.045,
          125.01700000000001,
          125.044,
          125.04,
          126.87200000000001,
          126.877076923077,
          126.838,
          126.787,
          126.94092307692301,
          126.932,
          142.99200000000002,
          140.85,
          120.296,
          123.295,
          138.111005347594,
          135.206417112299,
          132.218,
          137.8438,
          134.843897849462,
          131.75660215053801,
          138.096909090909,
          132.095625,
          129.075,
          124.999408163265,
          137.880333333333,
          134.887666666667,
          131.8788,
          137.36,
          134.36,
          138.282,
          135.15,
          132.122,
          137.944,
          135.016,
          131.7152,
          127.79746000000002,
          144.15,
          127.94,
          128.106,
          143.466,
          143.61,
          126.225,
          127.625666666667,
          138.006636363636,
          137.958,
          137.689222222222,
          133.679875,
          133.6488,
          133.39975,
          133.62,
          120.594285714286,
          129.281714285714,
          129.294571428571,
          129.281,
          148.969,
          145.41899999999998,
          149.572,
          145.68,
          150.088,
          146.643,
          125.782697674419,
          126.116,
          116.742,
          116.74700000000001,
          116.68,
          109.76899999999999,
          109.655,
          127.223777777778,
          127.178333333333,
          127.7,
          127.99799999999999,
          120.37557142857099,
          120.87200000000001,
          127.729,
          127.76799999999999,
          127.923125,
          128.142,
          118.755,
          118.9124,
          121.639,
          109.82,
          107.639,
          100.029,
          119.698,
          114.025,
          106.626666666667,
          99.854,
          116.009,
          98.228,
          116.19200000000001,
          105.39200000000001,
          97.14200000000001,
          138.132,
          135.224,
          137.85299999999998,
          134.859,
          131.840785714286,
          138.105857142857,
          132.107928571429,
          137.891,
          134.8948,
          131.889,
          137.361857142857,
          134.369,
          138.2978,
          135.1635,
          137.960928571429,
          135.029,
          131.728666666667,
          109.899,
          101.311,
          116.53200000000001,
          101.311,
          101.02799999999999,
          111.478,
          124.088,
          98.19,
          114.219,
          114.734,
          117.708,
          114.64983333333299,
          119.676,
          113.993,
          106.583,
          123.581,
          116,
          124.13799999999999,
          116.17,
          105.382,
          120.211,
          115.335,
          103.779,
          120.93299999999999,
          106.23899999999999,
          118.37700000000001,
          113.145,
          106.677,
          113.23299999999999,
          124.155,
          115.756,
          106.728,
          122.171,
          115.891,
          107.89299999999999,
          120.21799999999999,
          119.964,
          119.92,
          119.713,
          119.743,
          119.71600000000001,
          117.215,
          117.68799999999999,
          120.103,
          119.962,
          120.5,
          121.007,
          120.759,
          121.164,
          120.586,
          121.01799999999999,
          122.117,
          122.23899999999999,
          124.044,
          122.249,
          125.184,
          124.064,
          122.50299999999999,
          122.97399999999999,
          123.963,
          125.14399999999999,
          125.743,
          126.012,
          126.102,
          115.56299999999999,
          115.70299999999999,
          115.67,
          109.065,
          114.96,
          114.88799999999999,
          107.635,
          107.603,
          107.492,
          107.57,
          114.11200000000001,
          115.265,
          114.005,
          107.941,
          124.58,
          124.854,
          125.23700000000001,
          125.23299999999999,
          125.23899999999999,
          125.213,
          117.475,
          117.515,
          112.07,
          112.069,
          111.92399999999999,
          112.009,
          116.93,
          116.507,
          115.56200000000001,
          118.382,
          118.39299999999999,
          118.43,
          114.779,
          114.645,
          115.041,
          109.02,
          108.839,
          113.039,
          113.51,
          113.25200000000001,
          113.465,
          113.958,
          113.47399999999999,
          113.73,
          113.87100000000001,
          113.801,
          115.435,
          115.485,
          114.876,
          115.38600000000001,
          115.329,
          115.385,
          114.214,
          114.728,
          109.866,
          109.572,
          109.338,
          109.206,
          109.54899999999999,
          111.189,
          111.652,
          111.676,
          110.445,
          111.133,
          111.385,
          111.693,
          111.436,
          101.303,
          100.836,
          100.98200000000001,
          101.064,
          103.536,
          103.56,
          102.22,
          101.564,
          105.323,
          102.48,
          100.941,
          103.085,
          103.115,
          103.411,
          103.337,
          103.86399999999999,
          104.066,
          104.20100000000001,
          103.509,
          102.977,
          101.54799999999999,
          101.868,
          102.685,
          101.05799999999999,
          97.134,
          95.85700000000001,
          98.2,
          98.185,
          96.603,
          96.104,
          99.368,
          99.359,
          98.794,
          97.351,
          98.339,
          98,
          98.35799999999999,
          98.57600000000001,
          98.994,
          98.84200000000001,
          98.719,
          129.51,
          134.322,
          134.86,
          133.855,
          133.983,
          130.7,
          133.863,
          130.263,
          132.17,
          135.49,
          131.92600000000002,
          134.07299999999998,
          131.976,
          135.375,
          131.678,
          135.095,
          137.53,
          131.69,
          136.525,
          132.594,
          130.664,
          137.776,
          131.41,
          131.458,
          133.881,
          146.507,
          144.975,
          145.157,
          145.082,
          149.465,
          149.683,
          151.642,
          151.97,
          141.71,
          141.515,
          146.656,
          145.668,
          144.54,
          142.811,
          141.57299999999998,
          141.532,
          141.045,
          141.12,
          145.734,
          145.455,
          145.53799999999998,
          142.44,
          142.034,
          142.364,
          144.994,
          143.308,
          147.279,
          146.045,
          149.346,
          147.736,
          153.732,
          152.48,
          149.958,
          153.576,
          151.733,
          154.555,
          153.424,
          154.566,
          137.284,
          137.27100000000002,
          133.19,
          134.738,
          150.099,
          141.955,
          142.991,
          131.955,
          138.877,
          137.523,
          137.52100000000002,
          137.516,
          137.515,
          143.607,
          143.602,
          143.61,
          150.675,
          151.224,
          149.54,
          138.118,
          135.214,
          137.842,
          134.85,
          131.761,
          138.095,
          132.093,
          132.094,
          137.878,
          134.886,
          131.877,
          146.447,
          142.922,
          142.09,
          142.097,
          137.52,
          145.776,
          148.11700000000002,
          137.526,
          137.525,
          137.513,
          132.999,
          133,
          133.092,
          133.02700000000002,
          132.822,
          132.705,
          132.879,
          142.989,
          140.8575,
          142.989,
          133.075,
          132.731,
          137.501,
          143.069,
          137.584,
          137.713,
          137.616,
          149.289,
          144.501,
          149.591,
          145.6985,
          150.68,
          145.082,
          137.358,
          134.358,
          138.005,
          137.696,
          137.958,
          137.582,
          135.908,
          135.753,
          132.125,
          131.953,
          136.167,
          136.53,
          136.317,
          136.601,
          136.333,
          128.725,
          128.765,
          128.69899999999998,
          129.019,
          128.96,
          129.386,
          129.452,
          128.24,
          155.237,
          153.095,
          131.363,
          138.284,
          135.149,
          132.123,
          137.946,
          135.016,
          131.714,
          133.674,
          133.675,
          133.399,
          133.615,
          133.332,
          154.741,
          127.042,
          127.29700000000001,
          128.415,
          127.625,
          127.691,
          127.59299999999999,
          125.185,
          125.387,
          98.885,
          94.14,
          91.163,
          92.258,
          90.318,
          90.641,
          91.292,
          108.478,
          110.484,
          98.92,
          109.554,
          116.04799999999999,
          113.205,
          106.094,
          117.819,
          98.50299999999999,
          118.639,
          125.975,
          127.288,
          125.96799999999999,
          129.442,
          130.644,
          123.632,
          119.94200000000001,
          113.042,
          118.396,
          123.766,
          135.113,
          133.99,
          128.201,
          120.51,
          107.056,
          102.586,
          100.421,
          100.125,
          146.505,
          148.157,
          150.21,
          151.102,
          152.09,
          152.806,
          145.111,
          145.374,
          144.10399999999998,
          145.555,
          144.35399999999998,
          146.339,
          156.297,
          156.523,
          157.014,
          156.291,
          156.518,
          151.084,
          161.475,
          163.247,
          155.053,
          155.142,
          154.149,
          155.196,
          154.164,
          154.178,
          152.085
         ]
        }
       ],
       "layout": {
        "template": {
         "data": {
          "bar": [
           {
            "error_x": {
             "color": "#2a3f5f"
            },
            "error_y": {
             "color": "#2a3f5f"
            },
            "marker": {
             "line": {
              "color": "#E5ECF6",
              "width": 0.5
             }
            },
            "type": "bar"
           }
          ],
          "barpolar": [
           {
            "marker": {
             "line": {
              "color": "#E5ECF6",
              "width": 0.5
             }
            },
            "type": "barpolar"
           }
          ],
          "carpet": [
           {
            "aaxis": {
             "endlinecolor": "#2a3f5f",
             "gridcolor": "white",
             "linecolor": "white",
             "minorgridcolor": "white",
             "startlinecolor": "#2a3f5f"
            },
            "baxis": {
             "endlinecolor": "#2a3f5f",
             "gridcolor": "white",
             "linecolor": "white",
             "minorgridcolor": "white",
             "startlinecolor": "#2a3f5f"
            },
            "type": "carpet"
           }
          ],
          "choropleth": [
           {
            "colorbar": {
             "outlinewidth": 0,
             "ticks": ""
            },
            "type": "choropleth"
           }
          ],
          "contour": [
           {
            "colorbar": {
             "outlinewidth": 0,
             "ticks": ""
            },
            "colorscale": [
             [
              0,
              "#0d0887"
             ],
             [
              0.1111111111111111,
              "#46039f"
             ],
             [
              0.2222222222222222,
              "#7201a8"
             ],
             [
              0.3333333333333333,
              "#9c179e"
             ],
             [
              0.4444444444444444,
              "#bd3786"
             ],
             [
              0.5555555555555556,
              "#d8576b"
             ],
             [
              0.6666666666666666,
              "#ed7953"
             ],
             [
              0.7777777777777778,
              "#fb9f3a"
             ],
             [
              0.8888888888888888,
              "#fdca26"
             ],
             [
              1,
              "#f0f921"
             ]
            ],
            "type": "contour"
           }
          ],
          "contourcarpet": [
           {
            "colorbar": {
             "outlinewidth": 0,
             "ticks": ""
            },
            "type": "contourcarpet"
           }
          ],
          "heatmap": [
           {
            "colorbar": {
             "outlinewidth": 0,
             "ticks": ""
            },
            "colorscale": [
             [
              0,
              "#0d0887"
             ],
             [
              0.1111111111111111,
              "#46039f"
             ],
             [
              0.2222222222222222,
              "#7201a8"
             ],
             [
              0.3333333333333333,
              "#9c179e"
             ],
             [
              0.4444444444444444,
              "#bd3786"
             ],
             [
              0.5555555555555556,
              "#d8576b"
             ],
             [
              0.6666666666666666,
              "#ed7953"
             ],
             [
              0.7777777777777778,
              "#fb9f3a"
             ],
             [
              0.8888888888888888,
              "#fdca26"
             ],
             [
              1,
              "#f0f921"
             ]
            ],
            "type": "heatmap"
           }
          ],
          "heatmapgl": [
           {
            "colorbar": {
             "outlinewidth": 0,
             "ticks": ""
            },
            "colorscale": [
             [
              0,
              "#0d0887"
             ],
             [
              0.1111111111111111,
              "#46039f"
             ],
             [
              0.2222222222222222,
              "#7201a8"
             ],
             [
              0.3333333333333333,
              "#9c179e"
             ],
             [
              0.4444444444444444,
              "#bd3786"
             ],
             [
              0.5555555555555556,
              "#d8576b"
             ],
             [
              0.6666666666666666,
              "#ed7953"
             ],
             [
              0.7777777777777778,
              "#fb9f3a"
             ],
             [
              0.8888888888888888,
              "#fdca26"
             ],
             [
              1,
              "#f0f921"
             ]
            ],
            "type": "heatmapgl"
           }
          ],
          "histogram": [
           {
            "marker": {
             "colorbar": {
              "outlinewidth": 0,
              "ticks": ""
             }
            },
            "type": "histogram"
           }
          ],
          "histogram2d": [
           {
            "colorbar": {
             "outlinewidth": 0,
             "ticks": ""
            },
            "colorscale": [
             [
              0,
              "#0d0887"
             ],
             [
              0.1111111111111111,
              "#46039f"
             ],
             [
              0.2222222222222222,
              "#7201a8"
             ],
             [
              0.3333333333333333,
              "#9c179e"
             ],
             [
              0.4444444444444444,
              "#bd3786"
             ],
             [
              0.5555555555555556,
              "#d8576b"
             ],
             [
              0.6666666666666666,
              "#ed7953"
             ],
             [
              0.7777777777777778,
              "#fb9f3a"
             ],
             [
              0.8888888888888888,
              "#fdca26"
             ],
             [
              1,
              "#f0f921"
             ]
            ],
            "type": "histogram2d"
           }
          ],
          "histogram2dcontour": [
           {
            "colorbar": {
             "outlinewidth": 0,
             "ticks": ""
            },
            "colorscale": [
             [
              0,
              "#0d0887"
             ],
             [
              0.1111111111111111,
              "#46039f"
             ],
             [
              0.2222222222222222,
              "#7201a8"
             ],
             [
              0.3333333333333333,
              "#9c179e"
             ],
             [
              0.4444444444444444,
              "#bd3786"
             ],
             [
              0.5555555555555556,
              "#d8576b"
             ],
             [
              0.6666666666666666,
              "#ed7953"
             ],
             [
              0.7777777777777778,
              "#fb9f3a"
             ],
             [
              0.8888888888888888,
              "#fdca26"
             ],
             [
              1,
              "#f0f921"
             ]
            ],
            "type": "histogram2dcontour"
           }
          ],
          "mesh3d": [
           {
            "colorbar": {
             "outlinewidth": 0,
             "ticks": ""
            },
            "type": "mesh3d"
           }
          ],
          "parcoords": [
           {
            "line": {
             "colorbar": {
              "outlinewidth": 0,
              "ticks": ""
             }
            },
            "type": "parcoords"
           }
          ],
          "pie": [
           {
            "automargin": true,
            "type": "pie"
           }
          ],
          "scatter": [
           {
            "marker": {
             "colorbar": {
              "outlinewidth": 0,
              "ticks": ""
             }
            },
            "type": "scatter"
           }
          ],
          "scatter3d": [
           {
            "line": {
             "colorbar": {
              "outlinewidth": 0,
              "ticks": ""
             }
            },
            "marker": {
             "colorbar": {
              "outlinewidth": 0,
              "ticks": ""
             }
            },
            "type": "scatter3d"
           }
          ],
          "scattercarpet": [
           {
            "marker": {
             "colorbar": {
              "outlinewidth": 0,
              "ticks": ""
             }
            },
            "type": "scattercarpet"
           }
          ],
          "scattergeo": [
           {
            "marker": {
             "colorbar": {
              "outlinewidth": 0,
              "ticks": ""
             }
            },
            "type": "scattergeo"
           }
          ],
          "scattergl": [
           {
            "marker": {
             "colorbar": {
              "outlinewidth": 0,
              "ticks": ""
             }
            },
            "type": "scattergl"
           }
          ],
          "scattermapbox": [
           {
            "marker": {
             "colorbar": {
              "outlinewidth": 0,
              "ticks": ""
             }
            },
            "type": "scattermapbox"
           }
          ],
          "scatterpolar": [
           {
            "marker": {
             "colorbar": {
              "outlinewidth": 0,
              "ticks": ""
             }
            },
            "type": "scatterpolar"
           }
          ],
          "scatterpolargl": [
           {
            "marker": {
             "colorbar": {
              "outlinewidth": 0,
              "ticks": ""
             }
            },
            "type": "scatterpolargl"
           }
          ],
          "scatterternary": [
           {
            "marker": {
             "colorbar": {
              "outlinewidth": 0,
              "ticks": ""
             }
            },
            "type": "scatterternary"
           }
          ],
          "surface": [
           {
            "colorbar": {
             "outlinewidth": 0,
             "ticks": ""
            },
            "colorscale": [
             [
              0,
              "#0d0887"
             ],
             [
              0.1111111111111111,
              "#46039f"
             ],
             [
              0.2222222222222222,
              "#7201a8"
             ],
             [
              0.3333333333333333,
              "#9c179e"
             ],
             [
              0.4444444444444444,
              "#bd3786"
             ],
             [
              0.5555555555555556,
              "#d8576b"
             ],
             [
              0.6666666666666666,
              "#ed7953"
             ],
             [
              0.7777777777777778,
              "#fb9f3a"
             ],
             [
              0.8888888888888888,
              "#fdca26"
             ],
             [
              1,
              "#f0f921"
             ]
            ],
            "type": "surface"
           }
          ],
          "table": [
           {
            "cells": {
             "fill": {
              "color": "#EBF0F8"
             },
             "line": {
              "color": "white"
             }
            },
            "header": {
             "fill": {
              "color": "#C8D4E3"
             },
             "line": {
              "color": "white"
             }
            },
            "type": "table"
           }
          ]
         },
         "layout": {
          "annotationdefaults": {
           "arrowcolor": "#2a3f5f",
           "arrowhead": 0,
           "arrowwidth": 1
          },
          "coloraxis": {
           "colorbar": {
            "outlinewidth": 0,
            "ticks": ""
           }
          },
          "colorscale": {
           "diverging": [
            [
             0,
             "#8e0152"
            ],
            [
             0.1,
             "#c51b7d"
            ],
            [
             0.2,
             "#de77ae"
            ],
            [
             0.3,
             "#f1b6da"
            ],
            [
             0.4,
             "#fde0ef"
            ],
            [
             0.5,
             "#f7f7f7"
            ],
            [
             0.6,
             "#e6f5d0"
            ],
            [
             0.7,
             "#b8e186"
            ],
            [
             0.8,
             "#7fbc41"
            ],
            [
             0.9,
             "#4d9221"
            ],
            [
             1,
             "#276419"
            ]
           ],
           "sequential": [
            [
             0,
             "#0d0887"
            ],
            [
             0.1111111111111111,
             "#46039f"
            ],
            [
             0.2222222222222222,
             "#7201a8"
            ],
            [
             0.3333333333333333,
             "#9c179e"
            ],
            [
             0.4444444444444444,
             "#bd3786"
            ],
            [
             0.5555555555555556,
             "#d8576b"
            ],
            [
             0.6666666666666666,
             "#ed7953"
            ],
            [
             0.7777777777777778,
             "#fb9f3a"
            ],
            [
             0.8888888888888888,
             "#fdca26"
            ],
            [
             1,
             "#f0f921"
            ]
           ],
           "sequentialminus": [
            [
             0,
             "#0d0887"
            ],
            [
             0.1111111111111111,
             "#46039f"
            ],
            [
             0.2222222222222222,
             "#7201a8"
            ],
            [
             0.3333333333333333,
             "#9c179e"
            ],
            [
             0.4444444444444444,
             "#bd3786"
            ],
            [
             0.5555555555555556,
             "#d8576b"
            ],
            [
             0.6666666666666666,
             "#ed7953"
            ],
            [
             0.7777777777777778,
             "#fb9f3a"
            ],
            [
             0.8888888888888888,
             "#fdca26"
            ],
            [
             1,
             "#f0f921"
            ]
           ]
          },
          "colorway": [
           "#636efa",
           "#EF553B",
           "#00cc96",
           "#ab63fa",
           "#FFA15A",
           "#19d3f3",
           "#FF6692",
           "#B6E880",
           "#FF97FF",
           "#FECB52"
          ],
          "font": {
           "color": "#2a3f5f"
          },
          "geo": {
           "bgcolor": "white",
           "lakecolor": "white",
           "landcolor": "#E5ECF6",
           "showlakes": true,
           "showland": true,
           "subunitcolor": "white"
          },
          "hoverlabel": {
           "align": "left"
          },
          "hovermode": "closest",
          "mapbox": {
           "style": "light"
          },
          "paper_bgcolor": "white",
          "plot_bgcolor": "#E5ECF6",
          "polar": {
           "angularaxis": {
            "gridcolor": "white",
            "linecolor": "white",
            "ticks": ""
           },
           "bgcolor": "#E5ECF6",
           "radialaxis": {
            "gridcolor": "white",
            "linecolor": "white",
            "ticks": ""
           }
          },
          "scene": {
           "xaxis": {
            "backgroundcolor": "#E5ECF6",
            "gridcolor": "white",
            "gridwidth": 2,
            "linecolor": "white",
            "showbackground": true,
            "ticks": "",
            "zerolinecolor": "white"
           },
           "yaxis": {
            "backgroundcolor": "#E5ECF6",
            "gridcolor": "white",
            "gridwidth": 2,
            "linecolor": "white",
            "showbackground": true,
            "ticks": "",
            "zerolinecolor": "white"
           },
           "zaxis": {
            "backgroundcolor": "#E5ECF6",
            "gridcolor": "white",
            "gridwidth": 2,
            "linecolor": "white",
            "showbackground": true,
            "ticks": "",
            "zerolinecolor": "white"
           }
          },
          "shapedefaults": {
           "line": {
            "color": "#2a3f5f"
           }
          },
          "ternary": {
           "aaxis": {
            "gridcolor": "white",
            "linecolor": "white",
            "ticks": ""
           },
           "baxis": {
            "gridcolor": "white",
            "linecolor": "white",
            "ticks": ""
           },
           "bgcolor": "#E5ECF6",
           "caxis": {
            "gridcolor": "white",
            "linecolor": "white",
            "ticks": ""
           }
          },
          "title": {
           "x": 0.05
          },
          "xaxis": {
           "automargin": true,
           "gridcolor": "white",
           "linecolor": "white",
           "ticks": "",
           "title": {
            "standoff": 15
           },
           "zerolinecolor": "white",
           "zerolinewidth": 2
          },
          "yaxis": {
           "automargin": true,
           "gridcolor": "white",
           "linecolor": "white",
           "ticks": "",
           "title": {
            "standoff": 15
           },
           "zerolinecolor": "white",
           "zerolinewidth": 2
          }
         }
        }
       }
      },
      "text/html": [
       "<div>                            <div id=\"cbb6f0da-511f-47bc-a502-f3959779da6e\" class=\"plotly-graph-div\" style=\"height:525px; width:100%;\"></div>            <script type=\"text/javascript\">                require([\"plotly\"], function(Plotly) {                    window.PLOTLYENV=window.PLOTLYENV || {};                                    if (document.getElementById(\"cbb6f0da-511f-47bc-a502-f3959779da6e\")) {                    Plotly.newPlot(                        \"cbb6f0da-511f-47bc-a502-f3959779da6e\",                        [{\"customdata\": [[\"Auto-AC11a\", \"Hors secteur\"], [\"Auto-AC1Ba\", \"Hors secteur\"], [\"Auto-AC311a\", \"Hors secteur\"], [\"Auto-AC32a\", \"Hors secteur\"], [\"Auto-AC5Ba\", \"Hors secteur\"], [\"Auto-AC7Ba\", \"Hors secteur\"], [\"Auto-AC9a\", \"Hors secteur\"], [\"Auto-B11a\", \"Hors secteur\"], [\"Auto-B12a\", \"Hors secteur\"], [\"Auto-B41a\", \"Hors secteur\"], [\"Auto-B42a\", \"Hors secteur\"], [\"Auto-B51a\", \"Hors secteur\"], [\"Auto-B52a\", \"Hors secteur\"], [\"Auto-B61a\", \"Hors secteur\"], [\"Auto-B62a\", \"Hors secteur\"], [\"Auto-BAPM.4a\", \"Hors secteur\"], [\"Auto-BAPM1.1a\", \"Hors secteur\"], [\"Auto-BAPM2.1a\", \"Hors secteur\"], [\"Auto-BAPM3.1a\", \"Hors secteur\"], [\"Auto-G11a\", \"Hors secteur\"], [\"Auto-G12a\", \"Hors secteur\"], [\"Auto-G13a\", \"Hors secteur\"], [\"Auto-GR2.1a\", \"Hors secteur\"], [\"Auto-GR2.2a\", \"Hors secteur\"], [\"Auto-GR2.3a\", \"Hors secteur\"], [\"Auto-MS20a\", \"Hors secteur\"], [\"Auto-MS21a\", \"Hors secteur\"], [\"Auto-MS22a\", \"Hors secteur\"], [\"Auto-MS25a\", \"Hors secteur\"], [\"Auto-MS26a\", \"Hors secteur\"], [\"Auto-MS27a\", \"Hors secteur\"], [\"Auto-MS31a\", \"Hors secteur\"], [\"Auto-MS32a\", \"Hors secteur\"], [\"Auto-PC1.1a\", \"Hors secteur\"], [\"Auto-PC101a\", \"Hors secteur\"], [\"Auto-PC105a\", \"Hors secteur\"], [\"Auto-PC106a\", \"Hors secteur\"], [\"Auto-PC107a\", \"Hors secteur\"], [\"Auto-PC108a\", \"Hors secteur\"], [\"Auto-PC10a\", \"Hors secteur\"], [\"Auto-PC111a\", \"Hors secteur\"], [\"Auto-PC112a\", \"Hors secteur\"], [\"Auto-PC11a\", \"Hors secteur\"], [\"Auto-PC12a\", \"Hors secteur\"], [\"Auto-PC13.1a\", \"Hors secteur\"], [\"Auto-PC13a\", \"Hors secteur\"], [\"Auto-PC14.1a\", \"Hors secteur\"], [\"Auto-PC15.1a\", \"Hors secteur\"], [\"Auto-PC16.1a\", \"Hors secteur\"], [\"Auto-PC17.1a\", \"Hors secteur\"], [\"Auto-PC1A\", \"Hors secteur\"], [\"Auto-PC2.1a\", \"Hors secteur\"], [\"Auto-PC201a\", \"Hors secteur\"], [\"Auto-PC202a\", \"Hors secteur\"], [\"Auto-PC203a\", \"Hors secteur\"], [\"Auto-PC204a\", \"Hors secteur\"], [\"Auto-PC205a\", \"Hors secteur\"], [\"Auto-PC206a\", \"Hors secteur\"], [\"Auto-PC207a\", \"Hors secteur\"], [\"Auto-PC208a\", \"Hors secteur\"], [\"Auto-PC209a\", \"Hors secteur\"], [\"Auto-PC21a\", \"Hors secteur\"], [\"Auto-PC22a\", \"Hors secteur\"], [\"Auto-PC23a\", \"Hors secteur\"], [\"Auto-PC23Ba\", \"Hors secteur\"], [\"Auto-PC2a\", \"Hors secteur\"], [\"Auto-PC3.1a\", \"Hors secteur\"], [\"Auto-PC301a\", \"Hors secteur\"], [\"Auto-PC302a\", \"Hors secteur\"], [\"Auto-PC304a\", \"Hors secteur\"], [\"Auto-PC305a\", \"Hors secteur\"], [\"Auto-PC307a\", \"Hors secteur\"], [\"Auto-PC308a\", \"Hors secteur\"], [\"Auto-PC309a\", \"Hors secteur\"], [\"Auto-PC310a\", \"Hors secteur\"], [\"Auto-PC3a\", \"Hors secteur\"], [\"Auto-PC401a\", \"Hors secteur\"], [\"Auto-PC402a\", \"Hors secteur\"], [\"Auto-PC403a\", \"Hors secteur\"], [\"Auto-PC450a\", \"Hors secteur\"], [\"Auto-PC451a\", \"Hors secteur\"], [\"Auto-PC452a\", \"Hors secteur\"], [\"Auto-PC453a\", \"Hors secteur\"], [\"Auto-PC4a\", \"Hors secteur\"], [\"Auto-PC5a\", \"Hors secteur\"], [\"Auto-PC6.1a\", \"Hors secteur\"], [\"Auto-PC6A\", \"Hors secteur\"], [\"Auto-PC7.1a\", \"Hors secteur\"], [\"Auto-PC7a\", \"Hors secteur\"], [\"Auto-PC8a\", \"Hors secteur\"], [\"Auto-PCBA.1a\", \"Hors secteur\"], [\"Auto-PCBA.2a\", \"Hors secteur\"], [\"Auto-PCBA.3a\", \"Hors secteur\"], [\"Auto-PCBA.4a\", \"Hors secteur\"], [\"Auto-PD1a\", \"Hors secteur\"], [\"Auto-PD2.a\", \"Hors secteur\"], [\"Auto-PL101a\", \"Hors secteur\"], [\"Auto-PL202a\", \"Hors secteur\"], [\"Auto-PL301a\", \"Hors secteur\"], [\"Auto-PL402a\", \"Hors secteur\"], [\"Auto-PL501a\", \"Hors secteur\"], [\"Auto-PM.603a\", \"Hors secteur\"], [\"Auto-PM.604a\", \"Hors secteur\"], [\"Auto-PM.605a\", \"Hors secteur\"], [\"Auto-PM209a\", \"Hors secteur\"], [\"Auto-PM210a\", \"Hors secteur\"], [\"Auto-PM211a\", \"Hors secteur\"], [\"Auto-PM212a\", \"Hors secteur\"], [\"Auto-PM213a\", \"Hors secteur\"], [\"Auto-PM301a\", \"Hors secteur\"], [\"Auto-PM302a\", \"Hors secteur\"], [\"Auto-PM303a\", \"Hors secteur\"], [\"Auto-PM304a\", \"Hors secteur\"], [\"Auto-PM305a\", \"Hors secteur\"], [\"Auto-PM601a\", \"Hors secteur\"], [\"Auto-PM602a\", \"Hors secteur\"], [\"Auto-PMS.1a\", \"Hors secteur\"], [\"Auto-PMS1.2a\", \"Hors secteur\"], [\"Auto-PMS2.1a\", \"Hors secteur\"], [\"Auto-PMS2.2a\", \"Hors secteur\"], [\"Auto-PMS3.1a\", \"Hors secteur\"], [\"Auto-PMS3.2a\", \"Hors secteur\"], [\"Auto-PMS4.1a\", \"Hors secteur\"], [\"Auto-PMS4.2a\", \"Hors secteur\"], [\"Auto-PMS5.1a\", \"Hors secteur\"], [\"Auto-PMS5.2a\", \"Hors secteur\"], [\"Auto-PR14.1a\", \"Hors secteur\"], [\"Auto-RN7.1a\", \"Hors secteur\"], [\"Auto-TREM1a\", \"Hors secteur\"], [\"Auto-TREM2.1a\", \"Hors secteur\"], [\"Auto-TREM2.2a\", \"Hors secteur\"], [\"Auto-TREM2.3a\", \"Hors secteur\"], [\"Auto-TREM2a\", \"Hors secteur\"], [\"Auto-TREM3.a\", \"Hors secteur\"], [\"Auto-TREM4.a\", \"Hors secteur\"], [\"Auto-TREM5a\", \"Hors secteur\"], [\"Auto-TREM6a\", \"Hors secteur\"], [\"Auto-VJ1a\", \"Hors secteur\"], [\"Auto-VJ2a\", \"Hors secteur\"], [\"Auto-VJ3a\", \"Hors secteur\"], [\"Auto-VJ4a\", \"Hors secteur\"], [\"Auto-VJ6a\", \"Hors secteur\"], [\"Auto-VJ7a\", \"Hors secteur\"], [\"Auto-B13b\", \"Hors secteur\"], [\"Auto-B14b\", \"Hors secteur\"], [\"Auto-B23b\", \"Hors secteur\"], [\"Auto-B24b\", \"Hors secteur\"], [\"Auto-B43b\", \"Hors secteur\"], [\"Auto-B44b\", \"Hors secteur\"], [\"Auto-B53b\", \"Hors secteur\"], [\"Auto-B54b\", \"Hors secteur\"], [\"Auto-B63b\", \"Hors secteur\"], [\"Auto-B64b\", \"Hors secteur\"], [\"Auto-BAPM1.1b\", \"Hors secteur\"], [\"Auto-BAPM2.1b\", \"Hors secteur\"], [\"Auto-DB1b\", \"Hors secteur\"], [\"Auto-DB2b\", \"Hors secteur\"], [\"Auto-F1.1b\", \"Hors secteur\"], [\"Auto-F1.2b\", \"Hors secteur\"], [\"Auto-F1.3b\", \"Hors secteur\"], [\"Auto-F1.4b\", \"Hors secteur\"], [\"Auto-F2.1b\", \"Hors secteur\"], [\"Auto-F2.2b\", \"Hors secteur\"], [\"Auto-F2.3b\", \"Hors secteur\"], [\"Auto-F2.4b\", \"Hors secteur\"], [\"Auto-F3.1b\", \"Hors secteur\"], [\"Auto-F3.2b\", \"Hors secteur\"], [\"Auto-F3.3b\", \"Hors secteur\"], [\"Auto-F3.4b\", \"Hors secteur\"], [\"Auto-F4.1b\", \"Hors secteur\"], [\"Auto-F4.2b\", \"Hors secteur\"], [\"Auto-F4.3b\", \"Hors secteur\"], [\"Auto-F5.1b\", \"Hors secteur\"], [\"Auto-F5.2b\", \"Hors secteur\"], [\"Auto-F6.1b\", \"Hors secteur\"], [\"Auto-F6.2b\", \"Hors secteur\"], [\"Auto-F6.3b\", \"Hors secteur\"], [\"Auto-F7.1b\", \"Hors secteur\"], [\"Auto-F7.2b\", \"Hors secteur\"], [\"Auto-F7.3b\", \"Hors secteur\"], [\"Auto-F7.4b\", \"Hors secteur\"], [\"Auto-GR.2b\", \"Hors secteur\"], [\"Auto-GR3b\", \"Hors secteur\"], [\"Auto-GR4b\", \"Hors secteur\"], [\"Auto-PCBA.1b\", \"Hors secteur\"], [\"Auto-PCBA.2b\", \"Hors secteur\"], [\"Auto-PD.3b\", \"Hors secteur\"], [\"Auto-PD.4b\", \"Hors secteur\"], [\"Auto-PM102b\", \"Hors secteur\"], [\"Auto-PM103b\", \"Hors secteur\"], [\"Auto-PM201b\", \"Hors secteur\"], [\"Auto-PM401b\", \"Hors secteur\"], [\"Auto-PM402b\", \"Hors secteur\"], [\"Auto-PM403b\", \"Hors secteur\"], [\"Auto-PM404b\", \"Hors secteur\"], [\"Auto-PM501b\", \"Hors secteur\"], [\"Auto-PM615b\", \"Hors secteur\"], [\"Auto-PM616b\", \"Hors secteur\"], [\"Auto-PM617b\", \"Hors secteur\"], [\"Auto-PMS.1b\", \"Hors secteur\"], [\"Auto-PMS1.2b\", \"Hors secteur\"], [\"Auto-PMS2.1b\", \"Hors secteur\"], [\"Auto-PMS2.2b\", \"Hors secteur\"], [\"Auto-PMS3.1b\", \"Hors secteur\"], [\"Auto-PMS3.2b\", \"Hors secteur\"], [\"Auto-REFSS6b\", \"Hors secteur\"], [\"Auto-REFSS7b\", \"Hors secteur\"], [\"Auto-TQ101b\", \"Hors secteur\"], [\"Auto-TQ102b\", \"Hors secteur\"], [\"Auto-TQ103b\", \"Hors secteur\"], [\"Auto-TQ202b\", \"Hors secteur\"], [\"Auto-TQ203b\", \"Hors secteur\"], [\"Auto-TREM18.1b\", \"Hors secteur\"], [\"Auto-TREM18.2b\", \"Hors secteur\"], [\"Auto-US101b\", \"Hors secteur\"], [\"Auto-US102b\", \"Hors secteur\"], [\"Auto-US201b\", \"Hors secteur\"], [\"Auto-US202b\", \"Hors secteur\"], [\"Auto-UV101b\", \"Hors secteur\"], [\"Auto-UV102b\", \"Hors secteur\"], [\"Auto-UV103b\", \"Hors secteur\"], [\"Auto-UV104b\", \"Hors secteur\"], [\"Auto-UV201b\", \"Hors secteur\"], [\"Auto-UV202b\", \"Hors secteur\"], [\"Auto-UV203b\", \"Hors secteur\"], [\"Auto-UV303b\", \"Hors secteur\"], [\"Auto-BA2.1d\", \"Hors secteur\"], [\"Auto-BARET10.1d\", \"Hors secteur\"], [\"Auto-BARET11.1d\", \"Hors secteur\"], [\"Auto-BARET11.2d\", \"Hors secteur\"], [\"Auto-BARET11.3d\", \"Hors secteur\"], [\"Auto-BARET11.7d\", \"Hors secteur\"], [\"Auto-BARET2.2d\", \"Hors secteur\"], [\"Auto-BARET2.7d\", \"Hors secteur\"], [\"Auto-BARET3.2d\", \"Hors secteur\"], [\"Auto-BARET3.3d\", \"Hors secteur\"], [\"Auto-BARET9.7d\", \"Hors secteur\"], [\"Auto-F1.1d\", \"Hors secteur\"], [\"Auto-F1.2d\", \"Hors secteur\"], [\"Auto-F2.1d\", \"Hors secteur\"], [\"Auto-F2.2d\", \"Hors secteur\"], [\"Auto-F2.3d\", \"Hors secteur\"], [\"Auto-F3.1d\", \"Hors secteur\"], [\"Auto-F3.2d\", \"Hors secteur\"], [\"Auto-F4.1d\", \"Hors secteur\"], [\"Auto-F4.2d\", \"Hors secteur\"], [\"Auto-F4.3d\", \"Hors secteur\"], [\"Auto-F5.1d\", \"Hors secteur\"], [\"Auto-F5.2d\", \"Hors secteur\"], [\"Auto-F6.1d\", \"Hors secteur\"], [\"Auto-F6.2d\", \"Hors secteur\"], [\"Auto-F7.1d\", \"Hors secteur\"], [\"Auto-F7.2d\", \"Hors secteur\"], [\"Auto-F7.3d\", \"Hors secteur\"], [\"Auto-P11.3d\", \"Hors secteur\"], [\"Auto-P11.4d\", \"Hors secteur\"], [\"Auto-P12.2d\", \"Hors secteur\"], [\"Auto-P12.8d\", \"Hors secteur\"], [\"Auto-P120.6d\", \"Hors secteur\"], [\"Auto-P130.5d\", \"Hors secteur\"], [\"Auto-P17.1d\", \"Hors secteur\"], [\"Auto-P20.7d\", \"Hors secteur\"], [\"Auto-P5.3d\", \"Hors secteur\"], [\"Auto-P50.3d\", \"Hors secteur\"], [\"Auto-P9.1d\", \"Hors secteur\"], [\"Auto-P9.2d\", \"Hors secteur\"], [\"Sd-BARET11.1\", \"Hors secteur\"], [\"Sd-BARET11.2\", \"Hors secteur\"], [\"Sd-BARET11.3\", \"Hors secteur\"], [\"Sd-BARET2.1\", \"Hors secteur\"], [\"Sd-BARET2.2\", \"Hors secteur\"], [\"Sd-BARET3.1\", \"Hors secteur\"], [\"Sd-BARET3.2\", \"Hors secteur\"], [\"Sd-BARET3.3\", \"Hors secteur\"], [\"Sd-BARET4.1\", \"Hors secteur\"], [\"Sd-BARET4.2\", \"Hors secteur\"], [\"Sd-BARET4.3\", \"Hors secteur\"], [\"Sd-BARET5.1\", \"Hors secteur\"], [\"Sd-BARET5.3\", \"Hors secteur\"], [\"Sd-BARET8.1\", \"Hors secteur\"], [\"Sd-BARET8.2\", \"Hors secteur\"], [\"Sd-BARET8.3\", \"Hors secteur\"], [\"Sd-BARET9.2\", \"Hors secteur\"], [\"Sd-BARET6.1\", \"Hors secteur\"], [\"Sd-BARET6.2\", \"Hors secteur\"], [\"Sd-BARET6.3\", \"Hors secteur\"], [\"Sd-BARET1.1\", \"Hors secteur\"], [\"Sd-BARET1.2\", \"Hors secteur\"], [\"Sd-BARET1.3\", \"Hors secteur\"], [\"Sd-P1.1\", \"Hors secteur\"], [\"Sd-P2.1\", \"Hors secteur\"], [\"Sd-P3.1\", \"Hors secteur\"], [\"Sd-P5.1\", \"Hors secteur\"], [\"Sd-P6.1\", \"Hors secteur\"], [\"Sd-P7.1\", \"Hors secteur\"], [\"Sd-P8.1\", \"Hors secteur\"], [\"Sd-P9.1\", \"Hors secteur\"], [\"Sd-P10.1\", \"Hors secteur\"], [\"Sd-P11.1\", \"Hors secteur\"], [\"Sd-P12.1\", \"Hors secteur\"], [\"Sd-P120.1\", \"Hors secteur\"], [\"Sd-P13.1\", \"Hors secteur\"], [\"Sd-P130.1\", \"Hors secteur\"], [\"Sd-P14.1\", \"Hors secteur\"], [\"Sd-P140.1\", \"Hors secteur\"], [\"Sd-P142.1\", \"Hors secteur\"], [\"Sd-P143.1\", \"Hors secteur\"], [\"Sd-P15.1\", \"Hors secteur\"], [\"Sd-P150.1\", \"Hors secteur\"], [\"Sd-P16.1\", \"Hors secteur\"], [\"Sd-P17.1\", \"Hors secteur\"], [\"Sd-P18.1\", \"Hors secteur\"], [\"Sd-P19.1\", \"Hors secteur\"], [\"Sd-P20.1\", \"Hors secteur\"], [\"Sd-P21.1\", \"Hors secteur\"], [\"Sd-P22.1\", \"Hors secteur\"], [\"Sd-P23.1\", \"Hors secteur\"], [\"Sd-P24.1\", \"Hors secteur\"], [\"Sd-PM.703\", \"Hors secteur\"], [\"Sd-PM.704\", \"Hors secteur\"], [\"Sd-PM.705\", \"Hors secteur\"], [\"Sd-PM.706\", \"Hors secteur\"], [\"Sd-P80.1\", \"Hors secteur\"], [\"Sd-PIL4A.1\", \"Hors secteur\"], [\"Sd-PIL5C.1\", \"Hors secteur\"], [\"Sd-BA2.1\", \"Hors secteur\"], [\"Sd-BA3.1\", \"Hors secteur\"], [\"Sd-BA4.1\", \"Hors secteur\"], [\"Sd-BA5.1\", \"Hors secteur\"], [\"Sd-PIL10.1\", \"Hors secteur\"], [\"Sd-PIL2A.1\", \"Hors secteur\"], [\"Sd-PIL8.1\", \"Hors secteur\"], [\"Sd-BA1.1\", \"Hors secteur\"], [\"Sd-PSDALLE.6\", \"Hors secteur\"], [\"Sd-PSDALLE.1\", \"Hors secteur\"], [\"Sd-PSDALLE.2\", \"Hors secteur\"], [\"Sd-PSDALLE.3\", \"Hors secteur\"], [\"Sd-PSDALLE.4\", \"Hors secteur\"], [\"Sd-PSDALLE.7\", \"Hors secteur\"], [\"Sd-P1.2\", \"Hors secteur\"], [\"Sd-P2.2\", \"Hors secteur\"], [\"Sd-PM.707\", \"Hors secteur\"], [\"Sd-PM.708\", \"Hors secteur\"], [\"Sd-PM.709\", \"Hors secteur\"], [\"Sd-PM.710\", \"Hors secteur\"], [\"Sd-P11.2\", \"Hors secteur\"], [\"Sd-P12.2\", \"Hors secteur\"], [\"Sd-P141.2\", \"Hors secteur\"], [\"Sd-P142.2\", \"Hors secteur\"], [\"Sd-P143.2\", \"Hors secteur\"], [\"Sd-P150.2\", \"Hors secteur\"], [\"Sd-P8.2\", \"Hors secteur\"], [\"Sd-P9.2\", \"Hors secteur\"], [\"Sd-P50.2\", \"Hors secteur\"], [\"Sd-P902\", \"Hors secteur\"], [\"Sd-P100.2\", \"Hors secteur\"], [\"Sd-P19.2\", \"Hors secteur\"], [\"Sd-P20.2\", \"Hors secteur\"], [\"Sd-P22.2\", \"Hors secteur\"], [\"Sd-P23.2\", \"Hors secteur\"], [\"Sd-P25.2\", \"Hors secteur\"], [\"Sd-P26.2\", \"Hors secteur\"], [\"Sd-P1.3\", \"Hors secteur\"], [\"Sd-P2.3\", \"Hors secteur\"], [\"Sd-P3.3\", \"Hors secteur\"], [\"Sd-P120.3\", \"Hors secteur\"], [\"Sd-P130.3\", \"Hors secteur\"], [\"Sd-P140.3\", \"Hors secteur\"], [\"Sd-P142.3\", \"Hors secteur\"], [\"Sd-P143.3\", \"Hors secteur\"], [\"Sd-P150.3\", \"Hors secteur\"], [\"Sd-P5.3\", \"Hors secteur\"], [\"Sd-P50.3\", \"Hors secteur\"], [\"Sd-P11.3\", \"Hors secteur\"], [\"Sd-P12.3\", \"Hors secteur\"], [\"Sd-P8.3\", \"Hors secteur\"], [\"Sd-P9.3\", \"Hors secteur\"], [\"Sd-P130.4\", \"Hors secteur\"], [\"Sd-P140.4\", \"Hors secteur\"], [\"Sd-P143.4\", \"Hors secteur\"], [\"Sd-P150.4\", \"Hors secteur\"], [\"Sd-P1.4\", \"Hors secteur\"], [\"Sd-P2.4\", \"Hors secteur\"], [\"Sd-P3.4\", \"Hors secteur\"], [\"Sd-P5.4\", \"Hors secteur\"], [\"Sd-P130.5\", \"Hors secteur\"], [\"Sd-P11.4\", \"Hors secteur\"], [\"Sd-P12.4\", \"Hors secteur\"], [\"Sd-P120.6\", \"Hors secteur\"], [\"Sd-P14.6\", \"Hors secteur\"], [\"Sd-P143.6\", \"Hors secteur\"], [\"Sd-P150.6\", \"Hors secteur\"], [\"Sd-P17.6\", \"Hors secteur\"], [\"Sd-P110.3\", \"Hors secteur\"], [\"Sd-P7.3\", \"Hors secteur\"], [\"Sd-P9.4\", \"Hors secteur\"], [\"Sd-P901.2\", \"Hors secteur\"], [\"Sd-BA3.2\", \"Hors secteur\"], [\"Sd-BA4.2\", \"Hors secteur\"], [\"Sd-BA5.2\", \"Hors secteur\"], [\"Sd-P3.5\", \"Hors secteur\"], [\"Sd-P4.5\", \"Hors secteur\"], [\"Sd-P5.5\", \"Hors secteur\"], [\"Sd-P50.5\", \"Hors secteur\"], [\"Sd-P7.5\", \"Hors secteur\"], [\"Sd-BA1.2\", \"Hors secteur\"], [\"Sd-P22.3\", \"Hors secteur\"], [\"Sd-P25.3\", \"Hors secteur\"], [\"Sd-P26.3\", \"Hors secteur\"], [\"Sd-BARET8.7\", \"Hors secteur\"], [\"Sd-BARET9.7\", \"Hors secteur\"], [\"Sd-P11.7\", \"Hors secteur\"], [\"Sd-P180.7\", \"Hors secteur\"], [\"Sd-P20.7\", \"Hors secteur\"], [\"Sd-P110.7\", \"Hors secteur\"], [\"Sd-P111.7\", \"Hors secteur\"], [\"Sd-P8.7\", \"Hors secteur\"], [\"Sd-P80.7\", \"Hors secteur\"], [\"Sd-P9.7\", \"Hors secteur\"], [\"Sd-P901.7\", \"Hors secteur\"], [\"Sd-P902.7\", \"Hors secteur\"], [\"Sd-BA2.7\", \"Hors secteur\"], [\"Sd-BA3.7\", \"Hors secteur\"], [\"Sd-BA4.7\", \"Hors secteur\"], [\"Sd-BA5.7\", \"Hors secteur\"], [\"Sd-P1.7\", \"Hors secteur\"], [\"Sd-P3.7\", \"Hors secteur\"], [\"Manu-SEC4.1\", \"Hors secteur\"], [\"Manu-SEC4.2\", \"Hors secteur\"], [\"Manu-SEC4.3\", \"Hors secteur\"], [\"Manu-SEC4.4\", \"Hors secteur\"], [\"Manu-SEC4.5\", \"Hors secteur\"], [\"Manu-SEC4.5C\", \"Hors secteur\"], [\"Manu-SEC4.6\", \"Hors secteur\"], [\"Manu-SEC4.7\", \"Hors secteur\"], [\"Manu-SEC4.8\", \"Hors secteur\"], [\"Manu-SEC4.9\", \"Hors secteur\"], [\"Manu-SEC4.10\", \"Hors secteur\"], [\"Manu-SEC4.11\", \"Hors secteur\"], [\"Manu-SEC4.12\", \"Hors secteur\"], [\"Manu-SEC4.13\", \"Hors secteur\"], [\"Manu-SEC4.14\", \"Hors secteur\"], [\"Manu-SEC4.24\", \"Hors secteur\"], [\"Manu-SEC4.23\", \"Hors secteur\"], [\"Manu-SEC4.22\", \"Hors secteur\"], [\"Manu-SEC4.17\", \"Hors secteur\"], [\"Manu-SEC4.16\", \"Hors secteur\"], [\"Manu-SEC4.15\", \"Hors secteur\"], [\"Manu-SEC4.18\", \"Hors secteur\"], [\"Manu-SEC4.19\", \"Hors secteur\"], [\"Manu-SEC4.20\", \"Hors secteur\"], [\"Manu-SEC4.21\", \"Hors secteur\"], [\"Manu-PC1\", \"Hors secteur\"], [\"Manu-PC2\", \"Hors secteur\"], [\"Manu-PC3\", \"Hors secteur\"], [\"Manu-PC4\", \"Hors secteur\"], [\"Manu-PC5\", \"Hors secteur\"], [\"Manu-PC6\", \"Hors secteur\"], [\"Manu-PC7\", \"Hors secteur\"], [\"Manu-PC8\", \"Hors secteur\"], [\"Manu-PC111\", \"Hors secteur\"], [\"Manu-PC112\", \"Hors secteur\"], [\"Manu-PC10\", \"Hors secteur\"], [\"Manu-PC11\", \"Hors secteur\"], [\"Manu-PC12\", \"Hors secteur\"], [\"Manu-PC13\", \"Hors secteur\"], [\"Manu-PC21\", \"Hors secteur\"], [\"Manu-PC22\", \"Hors secteur\"], [\"Manu-PC23\", \"Hors secteur\"], [\"Manu-PC23B\", \"Hors secteur\"], [\"Manu-AC1B\", \"Hors secteur\"], [\"Manu-AC5B\", \"Hors secteur\"], [\"Manu-AC7B\", \"Hors secteur\"], [\"Manu-AC30\", \"Hors secteur\"], [\"Manu-AC31\", \"Hors secteur\"], [\"Manu-AC32\", \"Hors secteur\"], [\"Manu-AC7\", \"Hors secteur\"], [\"Manu-AC8\", \"Hors secteur\"], [\"Manu-AC9\", \"Hors secteur\"], [\"Manu-AC10\", \"Hors secteur\"], [\"Manu-AC11\", \"Hors secteur\"], [\"Manu-AC12\", \"Hors secteur\"], [\"Manu-VJ1\", \"Hors secteur\"], [\"Manu-VJ2\", \"Hors secteur\"], [\"Manu-VJ3\", \"Hors secteur\"], [\"Manu-VJ4\", \"Hors secteur\"], [\"Manu-VJ5\", \"Hors secteur\"], [\"Manu-VB1\", \"Hors secteur\"], [\"Manu-VB2\", \"Hors secteur\"], [\"Manu-VB3\", \"Hors secteur\"], [\"Manu-PN.1\", \"Hors secteur\"], [\"Manu-PN.2\", \"Hors secteur\"], [\"Manu-PN.3\", \"Hors secteur\"], [\"Manu-PN.4\", \"Hors secteur\"], [\"Manu-NP.1\", \"Hors secteur\"], [\"Manu-AC311B\", \"Hors secteur\"], [\"Manu-BAPM1.1\", \"Hors secteur\"], [\"Manu-MS21\", \"Hors secteur\"], [\"Manu-MS22\", \"Hors secteur\"], [\"Manu-PC13.1\", \"Hors secteur\"], [\"Manu-PC2.1\", \"Hors secteur\"], [\"Manu-PC3.1\", \"Hors secteur\"], [\"Manu-PC7.1\", \"Hors secteur\"], [\"Manu-PCBA.1\", \"Hors secteur\"], [\"Manu-PCBA.2\", \"Hors secteur\"], [\"Manu-PCBA.3\", \"Hors secteur\"], [\"Manu-PMS3.1\", \"Hors secteur\"], [\"Manu-PMS4.1\", \"Hors secteur\"], [\"Manu-PMS4.2\", \"Hors secteur\"], [\"Manu-F1.1\", \"Hors secteur\"], [\"Manu-F1.2\", \"Hors secteur\"], [\"Manu-F2.1\", \"Hors secteur\"], [\"Manu-F2.2\", \"Hors secteur\"], [\"Manu-F2.3\", \"Hors secteur\"], [\"Manu-F3.1\", \"Hors secteur\"], [\"Manu-F3.2\", \"Hors secteur\"], [\"Manu-F3.3\", \"Hors secteur\"], [\"Manu-F4.1\", \"Hors secteur\"], [\"Manu-F4.2\", \"Hors secteur\"], [\"Manu-F4.3\", \"Hors secteur\"], [\"Manu-PMS3.2\", \"Hors secteur\"], [\"Manu-MS25\", \"Hors secteur\"], [\"Manu-MS26\", \"Hors secteur\"], [\"Manu-MS27\", \"Hors secteur\"], [\"Manu-PC15.1\", \"Hors secteur\"], [\"Manu-PMS7.2\", \"Hors secteur\"], [\"Manu-PMS6.1\", \"Hors secteur\"], [\"Manu-PC14.1\", \"Hors secteur\"], [\"Manu-PC16.1\", \"Hors secteur\"], [\"Manu-PC17.1\", \"Hors secteur\"], [\"Manu-PC201\", \"Hors secteur\"], [\"Manu-PC202\", \"Hors secteur\"], [\"Manu-PC203\", \"Hors secteur\"], [\"Manu-PC204\", \"Hors secteur\"], [\"Manu-PC207\", \"Hors secteur\"], [\"Manu-PC208\", \"Hors secteur\"], [\"Manu-PC209\", \"Hors secteur\"], [\"Manu-BAPM.4\", \"Hors secteur\"], [\"Manu-BAPM2.1\", \"Hors secteur\"], [\"Manu-BAPM3.1\", \"Hors secteur\"], [\"Manu-PC205\", \"Hors secteur\"], [\"Manu-PC206\", \"Hors secteur\"], [\"Manu-PC1.1\", \"Hors secteur\"], [\"Manu-PCBA.4\", \"Hors secteur\"], [\"Manu-PM209\", \"Hors secteur\"], [\"Manu-PM212\", \"Hors secteur\"], [\"Manu-PM213\", \"Hors secteur\"], [\"Manu-PMS.1\", \"Hors secteur\"], [\"Manu-PMS1.2\", \"Hors secteur\"], [\"Manu-PMS2.1\", \"Hors secteur\"], [\"Manu-PMS2.2\", \"Hors secteur\"], [\"Manu-PMS5.1\", \"Hors secteur\"], [\"Manu-PMS5.2\", \"Hors secteur\"], [\"Manu-F5.1\", \"Hors secteur\"], [\"Manu-F5.2\", \"Hors secteur\"], [\"Manu-PM102\", \"Hors secteur\"], [\"Manu-PM201\", \"Hors secteur\"], [\"Manu-PM103\", \"Hors secteur\"], [\"Manu-PM.204\", \"Hors secteur\"], [\"Manu-PM.301\", \"Hors secteur\"], [\"Manu-PM.302\", \"Hors secteur\"], [\"Manu-PM.401\", \"Hors secteur\"], [\"Manu-PM.402\", \"Hors secteur\"], [\"Manu-PC108\", \"Hors secteur\"], [\"Manu-PC107\", \"Hors secteur\"], [\"Manu-PC106\", \"Hors secteur\"], [\"Manu-PC105\", \"Hors secteur\"], [\"Manu-PC101\", \"Hors secteur\"], [\"Manu-PC310\", \"Hors secteur\"], [\"Manu-PC309\", \"Hors secteur\"], [\"Manu-PC308\", \"Hors secteur\"], [\"Manu-PC307\", \"Hors secteur\"], [\"Manu-PC305\", \"Hors secteur\"], [\"Manu-PC304\", \"Hors secteur\"], [\"Manu-PC302\", \"Hors secteur\"], [\"Manu-PC301\", \"Hors secteur\"], [\"Manu-RN7.1\", \"Hors secteur\"], [\"Manu-VJ6\", \"Hors secteur\"], [\"Manu-F5.3\", \"Hors secteur\"], [\"Manu-F6.1\", \"Hors secteur\"], [\"Manu-F6.2\", \"Hors secteur\"], [\"Manu-F6.3\", \"Hors secteur\"], [\"Manu-F7.1\", \"Hors secteur\"], [\"Manu-F7.2\", \"Hors secteur\"], [\"Manu-F7.3\", \"Hors secteur\"], [\"Manu-PM400\", \"Hors secteur\"], [\"Manu-PM401\", \"Hors secteur\"], [\"Manu-PM403\", \"Hors secteur\"], [\"Manu-PM404\", \"Hors secteur\"], [\"Manu-PM405\", \"Hors secteur\"], [\"Manu-VJ7\", \"Hors secteur\"], [\"Manu-PRT1\", \"Hors secteur\"], [\"Manu-PRT2\", \"Hors secteur\"], [\"Manu-PAL3\", \"Hors secteur\"], [\"Manu-PAL4\", \"Hors secteur\"], [\"Manu-PAL5\", \"Hors secteur\"], [\"Manu-PAL6\", \"Hors secteur\"], [\"Manu-PRTE1\", \"Hors secteur\"], [\"Manu-PRTE2\", \"Hors secteur\"], [\"Manu-SEC123.1\", \"Hors secteur\"], [\"Manu-SEC123.2\", \"Hors secteur\"], [\"Manu-SEC123.3\", \"Hors secteur\"], [\"Manu-SEC123.4\", \"Hors secteur\"], [\"Manu-SEC123.5\", \"Hors secteur\"], [\"Manu-SEC123.6\", \"Hors secteur\"], [\"Manu-SEC123.7\", \"Hors secteur\"], [\"Manu-SEC123.8\", \"Hors secteur\"], [\"Manu-SEC123.9\", \"Hors secteur\"], [\"Manu-SEC123.10\", \"Hors secteur\"], [\"Manu-SEC123.11\", \"Hors secteur\"], [\"Manu-SEC123.12\", \"Hors secteur\"], [\"Manu-SEC123.13\", \"Hors secteur\"], [\"Manu-SEC123.14\", \"Hors secteur\"], [\"Manu-SEC123.15\", \"Hors secteur\"], [\"Manu-SEC123.16\", \"Hors secteur\"], [\"Manu-SEC123.17\", \"Hors secteur\"], [\"Manu-SEC123.18\", \"Hors secteur\"], [\"Manu-SEC123.19\", \"Hors secteur\"], [\"Manu-SEC123.20\", \"Hors secteur\"], [\"Manu-SEC123.21\", \"Hors secteur\"], [\"Manu-SEC123.22\", \"Hors secteur\"], [\"Manu-SEC123.23\", \"Hors secteur\"], [\"Manu-SEC123.24\", \"Hors secteur\"], [\"Manu-SEC123.25\", \"Hors secteur\"], [\"Manu-SEC123.26\", \"Hors secteur\"], [\"Manu-SEC123.27\", \"Hors secteur\"], [\"Manu-SEC123.28\", \"Hors secteur\"], [\"Manu-SEC123.29\", \"Hors secteur\"], [\"Manu-SEC123.30\", \"Hors secteur\"], [\"Manu-SEC123.31\", \"Hors secteur\"], [\"Manu-SEC123.32\", \"Hors secteur\"], [\"Manu-SEC123.33\", \"Hors secteur\"], [\"Manu-SEC123.34\", \"Hors secteur\"], [\"Manu-SEC123.35\", \"Hors secteur\"], [\"Manu-RN7.11\", \"Hors secteur\"], [\"Manu-RN7.12\", \"Hors secteur\"], [\"Manu-RN7.13\", \"Hors secteur\"], [\"Manu-RN7.14\", \"Hors secteur\"], [\"Manu-RN7.15\", \"Hors secteur\"], [\"Manu-RN7.16\", \"Hors secteur\"], [\"Manu-ESC1\", \"Hors secteur\"], [\"Manu-ESC2\", \"Hors secteur\"], [\"Manu-MJ1\", \"Hors secteur\"], [\"Manu-MJ2\", \"Hors secteur\"], [\"Manu-MJ3\", \"Hors secteur\"], [\"Manu-RN7.10\", \"Hors secteur\"], [\"Manu-PM4\", \"Hors secteur\"], [\"Manu-PM5\", \"Hors secteur\"], [\"Manu-PM6\", \"Hors secteur\"], [\"Manu-PM7\", \"Hors secteur\"], [\"Manu-PM8\", \"Hors secteur\"], [\"Manu-RN7.14B\", \"Hors secteur\"], [\"Manu-PM2\", \"Hors secteur\"], [\"Manu-PM3\", \"Hors secteur\"], [\"Manu-VB4\", \"Hors secteur\"], [\"Manu-VB20\", \"Hors secteur\"], [\"Manu-VB21\", \"Hors secteur\"], [\"Manu-VB22\", \"Hors secteur\"], [\"Manu-VB23\", \"Hors secteur\"], [\"Manu-VJ20\", \"Hors secteur\"], [\"Manu-VJ21\", \"Hors secteur\"]], \"marker\": {\"color\": \"#7FFFD4\", \"opacity\": 0.6, \"size\": 3}, \"mode\": \"markers\", \"type\": \"scatter3d\", \"x\": [2055322.26044898, 2055342.9189400002, 2055344.57523077, 2055341.59467961, 2055343.32005769, 2055339.66398413, 2055329.79601639, 2055252.1435, 2055254.27, 2055267.89272727, 2055269.83054545, 2055276.18418182, 2055278.43118182, 2055283.75045455, 2055286.11854545, 2055253.55733333, 2055244.4919999999, 2055235.44498333, 2055242.09733333, 2055366.1469999999, 2055359.5669999998, 2055359.53, 2055330.376, 2055330.616, 2055325.237, 2055373.53928571, 2055368.02515789, 2055363.81809023, 2055361.31810526, 2055344.371875, 2055345.83, 2055348.845, 2055362.937, 2055305.3811, 2055352.14525, 2055344.9019999998, 2055340.28, 2055329.0580000002, 2055318.378, 2055321.60808163, 2055317.99720513, 2055309.53397436, 2055333.51254167, 2055333.55457088, 2055355.0790000001, 2055339.28491209, 2055346.0901, 2055346.13, 2055346.1519999998, 2055344.428, 2055317.41494872, 2055316.54096, 2055355.2340000002, 2055346.283, 2055346.237, 2055346.27684615, 2055344.4931, 2055340.458, 2055328.16404348, 2055316.61385714, 2055305.4440000001, 2055321.89495714, 2055328.29028571, 2055333.15112727, 2055339.32820027, 2055301.79604666, 2055327.83535537, 2055353.322, 2055353.3218, 2055346.303, 2055344.487, 2055328.175, 2055318.716, 2055304.9109999998, 2055293.174, 2055309.105, 2055375.052, 2055365.315, 2055358.035, 2055376.8648, 2055376.759, 2055378.596, 2055380.2704, 2055293.60293551, 2055314.83296139, 2055293.14870244, 2055309.54747436, 2055324.48042857, 2055302.31618018, 2055296.89476448, 2055255.10475, 2055262.11117778, 2055279.14417647, 2055284.989, 2055316.906, 2055292.4309999999, 2055279.10621277, 2055276.62406383, 2055279.06087234, 2055276.615875, 2055279.06285106, 2055268.32080769, 2055262.52992308, 2055255.699, 2055262.09, 2055269.5368, 2055279.0479, 2055284.96495, 2055290.940875, 2055290.75341176, 2055284.95564706, 2055279.03152941, 2055269.61641176, 2055262.38470588, 2055290.47075, 2055279.0878, 2055252.78552364, 2055253.2395, 2055261.4952599998, 2055261.53323913, 2055269.38050952, 2055269.06395238, 2055288.21704116, 2055288.63920134, 2055277.87506302, 2055278.40519748, 2055379.465, 2055295.79871429, 2055379.975, 2055322.812875, 2055339.846, 2055342.914, 2055379.968, 2055380.27005, 2055369.705, 2055373.33291667, 2055378.77425, 2055331.22122255, 2055331.20444118, 2055331.02812805, 2055332.9492549, 2055323.72171429, 2055323.87871429, 2055252.87216667, 2055255.33233333, 2055260.99416667, 2055263.42016667, 2055268.80684615, 2055270.81484615, 2055276.11684615, 2055278.72984615, 2055284.24076923, 2055286.55869231, 2055244.49676923, 2055235.44466667, 2055242.736, 2055242.14, 2055320.18908021, 2055320.04710695, 2055320.08452941, 2055319.93369231, 2055330.8474, 2055330.93212903, 2055330.89584767, 2055330.80184615, 2055343.73318182, 2055343.766125, 2055343.63907692, 2055343.7664897998, 2055354.41166667, 2055354.3290000001, 2055354.398, 2055366.8004, 2055366.6409999998, 2055312.4294, 2055312.5869999998, 2055312.615, 2055303.8669999999, 2055304.0744, 2055304.0690000001, 2055302.5447799999, 2055254.24585714, 2055336.64157143, 2055340.25285714, 2055255.10361538, 2055262.16191667, 2055291.80211111, 2055350.9730000002, 2055243.83881818, 2055239.053, 2055255.399, 2055235.226125, 2055235.8857, 2055237.214875, 2055241.709, 2055235.45771429, 2055235.97442857, 2055235.22828571, 2055236.23, 2055252.78594444, 2055253.239, 2055261.495, 2055261.533, 2055269.3794, 2055269.41505555, 2055329.60223256, 2055318.13093333, 2055234.985, 2055237.894, 2055239.229, 2055237.6609999998, 2055239.138, 2055343.477, 2055344.55444444, 2055234.55485714, 2055232.1515, 2055234.40971429, 2055232.45271429, 2055237.29785714, 2055249.2769999998, 2055258.118, 2055267.102, 2055279.94157143, 2055271.4218, 2055245.74841429, 2055244.6940000001, 2055292.866, 2055341.13335714, 2055346.898, 2055346.9430000002, 2055346.737, 2055346.775, 2055324.53214286, 2055324.3268, 2055330.1819999998, 2055330.09142857, 2055363.356, 2055320.18914286, 2055320.04671429, 2055330.8469999998, 2055330.9330000002, 2055330.91621429, 2055343.72464286, 2055343.75557143, 2055354.4030000002, 2055354.3272, 2055354.38907143, 2055366.80171429, 2055366.636, 2055312.4422, 2055312.6005, 2055303.87392857, 2055304.08614286, 2055304.084, 2055366.885, 2055366.573, 2055374.4419999998, 2055366.573, 2055377.356, 2055378.793, 2055378.785, 2055344.632, 2055330.75028571, 2055335.53, 2055346.445, 2055346.42083333, 2055346.833, 2055346.88, 2055346.679, 2055324.639, 2055324.5219999999, 2055330.19, 2055330.112, 2055330.082, 2055341.946, 2055343.0690000001, 2055342.5869999998, 2055359.665, 2055359.744, 2055362.4840000002, 2055362.496, 2055362.459, 2055362.3369999998, 2055362.733, 2055362.705, 2055362.757, 2055309.0480000002, 2055309.053, 2055309.063, 2055296.3830000001, 2055305.485, 2055314.481, 2055330.32, 2055339.208, 2055341.031, 2055342.497, 2055346.4019999998, 2055357.0880000002, 2055367.8059999999, 2055374.239, 2055377.333, 2055377.664, 2055378.9230000002, 2055379.476, 2055379.979, 2055379.983, 2055379.956, 2055379.759, 2055380.0380000002, 2055379.751, 2055378.781, 2055371.374, 2055361.844, 2055346.158, 2055341.244, 2055329.701, 2055323.9780000001, 2055318.271, 2055284.843, 2055278.233, 2055268.9640000002, 2055260.1619999998, 2055345.352, 2055340.459, 2055360.955, 2055292.8590000002, 2055292.9840000002, 2055293.034, 2055293.148, 2055341.09, 2055308.529, 2055323.626, 2055292.804, 2055378.6519999998, 2055344.767, 2055320.79, 2055293.804, 2055293.011, 2055344.392, 2055296.332, 2055305.668, 2055284.658, 2055284.658, 2055268.884, 2055260.119, 2055367.9309999999, 2055374.456, 2055379.996, 2055380.019, 2055379.96, 2055380.0259999998, 2055342.501, 2055346.414, 2055335.507, 2055346.3159999999, 2055348.928, 2055357.265, 2055345.054, 2055331.043, 2055323.626, 2055312.291, 2055293.657, 2055296.957, 2055305.73, 2055314.427, 2055377.32, 2055378.9019999998, 2055380.065, 2055379.971, 2055380.0269999998, 2055380.0980000002, 2055330.737, 2055335.5159999998, 2055366.889, 2055374.6830000002, 2055342.524, 2055346.481, 2055378.858, 2055380.086, 2055380.05, 2055380.0680000002, 2055296.876, 2055305.841, 2055314.74, 2055330.894, 2055378.814, 2055366.594, 2055374.9, 2055377.372, 2055378.856, 2055379.956, 2055379.9640000002, 2055377.882, 2055356.2580000001, 2055339.093, 2055346.56, 2055346.27, 2055293.01, 2055293.071, 2055293.1709999999, 2055314.86, 2055325.1430000002, 2055331.121, 2055335.274, 2055341.064, 2055292.771, 2055330.532, 2055310.138, 2055293.491, 2055363.386, 2055363.369, 2055366.7580000001, 2055364.675, 2055344.615, 2055356.11, 2055361.666, 2055342.394, 2055345.174, 2055346.533, 2055346.254, 2055346.265, 2055292.74, 2055292.045, 2055292.4519999998, 2055292.701, 2055296.774, 2055314.8290000001, 2055382.447, 2055380.71, 2055379.15, 2055378.4019999998, 2055377.106, 2055376.149, 2055371.001, 2055370.31, 2055366.0119999999, 2055362.3390000002, 2055359.995, 2055349.07, 2055348.185, 2055336.3669999999, 2055336.42, 2055324.761, 2055323.134, 2055318.594, 2055318.511, 2055324.4730000002, 2055326.573, 2055308.57, 2055307.79, 2055296.03, 2055297.132, 2055317.407, 2055301.784, 2055309.0969999998, 2055293.5869999998, 2055314.8080000002, 2055309.5369999998, 2055302.295, 2055296.874, 2055317.989, 2055309.534, 2055321.586, 2055327.822, 2055333.5359999998, 2055339.269, 2055321.886, 2055328.283, 2055333.1430000002, 2055339.313, 2055342.9130000002, 2055343.3180000002, 2055339.642, 2055344.59, 2055344.1630000002, 2055341.576, 2055339.741, 2055339.865, 2055329.78, 2055329.573, 2055322.237, 2055322.2130000002, 2055331.2230000002, 2055331.1909999999, 2055331.0219999999, 2055332.9430000002, 2055332.936, 2055329.332, 2055329.333, 2055329.381, 2055356.6719999998, 2055356.685, 2055356.8480000002, 2055356.826, 2055269.375, 2055344.755, 2055244.483, 2055363.822, 2055361.3190000001, 2055355.0790000001, 2055316.491, 2055327.771, 2055340.3480000002, 2055255.095, 2055262.146, 2055279.154, 2055277.878, 2055288.2030000002, 2055288.6269999999, 2055320.187, 2055320.045, 2055330.842, 2055330.929, 2055330.8930000002, 2055343.726, 2055343.7580000001, 2055343.757, 2055354.405, 2055354.32, 2055354.389, 2055278.409, 2055344.366, 2055345.824, 2055348.8390000002, 2055346.1230000001, 2055233.947, 2055241.77, 2055346.09, 2055346.1519999998, 2055344.428, 2055355.226, 2055346.274, 2055346.2280000001, 2055346.2680000002, 2055328.176, 2055316.6030000001, 2055305.4440000001, 2055244.486, 2055235.449, 2055244.486, 2055344.4840000002, 2055340.447, 2055305.372, 2055285.035, 2055262.3730000001, 2055284.9540000001, 2055290.9309999999, 2055257.136, 2055261.5669999998, 2055261.4919999999, 2055261.529, 2055277.866, 2055293.59, 2055366.801, 2055366.64, 2055243.855, 2055255.4019999998, 2055239.0669999998, 2055262.3730000001, 2055279.021, 2055269.604, 2055290.7419999999, 2055284.9440000001, 2055318.378, 2055329.0580000002, 2055340.28, 2055344.9019999998, 2055352.145, 2055293.174, 2055304.9109999998, 2055318.716, 2055328.175, 2055344.487, 2055346.303, 2055346.311, 2055353.322, 2055295.7980000002, 2055323.721, 2055366.658, 2055312.44, 2055312.5980000002, 2055312.626, 2055303.878, 2055304.084, 2055304.081, 2055233.2240000002, 2055235.227, 2055237.216, 2055241.71, 2055251.415, 2055323.7869999998, 2055378.1930000002, 2055379.155, 2055384.7319999998, 2055381.501, 2055380.615, 2055379.8080000002, 2055378.8930000002, 2055380.771, 2055262.38, 2055281.82, 2055291.4009999998, 2055300.6619999998, 2055308.635, 2055320.63, 2055329.8190000001, 2055286.852, 2055292.0559999999, 2055298.12, 2055297.655, 2055296.7719999999, 2055302.157, 2055306.855, 2055304.9440000001, 2055308.5259999998, 2055309.908, 2055313.8469999998, 2055317.198, 2055320.552, 2055325.408, 2055328.342, 2055331.4219999998, 2055328.5769999998, 2055326.918, 2055333.476, 2055335.917, 2055346.118, 2055350.629, 2055350.034, 2055346.168, 2055335.299, 2055326.2769999998, 2055322.884, 2055334.8069999998, 2055184.8, 2055207.331, 2055239.285, 2055257.269, 2055274.013, 2055285.281, 2055198.361, 2055198.0590000001, 2055218.92, 2055216.0369999998, 2055216.03, 2055206.4619999998, 2055269.253, 2055273.6809999999, 2055284.3180000002, 2055269.256, 2055273.6830000002, 2055257.2719999999, 2055297.36, 2055294.312, 2055330.4119999998, 2055325.624, 2055325.624, 2055325.229, 2055325.24, 2055326.959, 2055326.961], \"y\": [3179692.24002041, 3179722.4902, 3179713.86192308, 3179702.08153398, 3179713.80840385, 3179700.29389418, 3179694.77302268, 3179683.33966667, 3179683.568, 3179685.84418182, 3179685.86818182, 3179684.33090909, 3179684.29254546, 3179683.09781818, 3179683.14527273, 3179683.41033333, 3179683.392, 3179680.3735, 3179682.75816667, 3179690.1580000003, 3179690.209, 3179696.095, 3179663.818, 3179668.876, 3179664.042, 3179729.2010000004, 3179729.47584211, 3179729.48984211, 3179729.67910526, 3179728.501, 3179729.2789999996, 3179729.385, 3179729.2010000004, 3179681.45031667, 3179728.2405, 3179707.256, 3179694.4669999997, 3179690.9689999996, 3179686.639, 3179689.83402041, 3179688.33152564, 3179684.21015384, 3179694.54340238, 3179694.6385677997, 3179728.38930769, 3179696.49333883, 3179728.314, 3179724.1769999997, 3179715.8985, 3179705.7460000003, 3179689.83812821, 3179685.99435077, 3179728.215, 3179728.195, 3179724.395, 3179715.863, 3179705.615, 3179694.6389375, 3179690.50486957, 3179685.861, 3179681.332, 3179689.58635714, 3179691.91028571, 3179693.6061697, 3179696.42113656, 3179684.17312086, 3179690.68712397, 3179728.1769999997, 3179728.1764, 3179716.0568, 3179705.5, 3179690.613, 3179686.7855, 3179681.185, 3179682.085, 3179685.07702564, 3179728.328, 3179728.378, 3179728.341, 3179724.3032, 3179727.6824, 3179716.2169999997, 3179698.3019999997, 3179684.56360817, 3179693.43286873, 3179678.9117439, 3179691.69653846, 3179685.77609524, 3179692.24547374, 3179692.32088417, 3179684.95825, 3179686.4126, 3179685.32131933, 3179684.13816667, 3179662.542, 3179672.61375, 3179685.24780851, 3179685.77440426, 3179685.27919149, 3179685.73327083, 3179685.25606383, 3179685.655, 3179686.34438461, 3179685.0360000003, 3179686.0930000003, 3179686.8107, 3179685.3057, 3179684.1360000004, 3179683.03125, 3179683.02847059, 3179684.12376471, 3179685.27676471, 3179686.78605882, 3179686.45235294, 3179683.07025, 3179685.2789999996, 3179690.36600546, 3179689.8365, 3179689.9479799997, 3179689.41880435, 3179689.49845238, 3179689.06012771, 3179690.46663559, 3179690.3184735, 3179689.22218487, 3179688.57622269, 3179709.248, 3179706.865, 3179677.047, 3179684.015, 3179689.137, 3179694.31925, 3179687.992, 3179698.30205, 3179675.9669, 3179674.9280000003, 3179673.25575, 3179701.30870968, 3179701.27668984, 3179701.15091463, 3179708.62213726, 3179703.84785714, 3179703.83042857, 3179648.788, 3179648.8710000003, 3179648.81116667, 3179648.80733333, 3179648.39, 3179648.48230769, 3179648.74638462, 3179648.90223077, 3179649.17023077, 3179649.29846154, 3179683.394, 3179680.37294445, 3179675.998, 3179675.837, 3179649.77709091, 3179649.85033155, 3179649.88799465, 3179649.91169231, 3179649.1406, 3179649.24298925, 3179649.19795161, 3179649.19430769, 3179648.40590909, 3179648.4869999997, 3179648.52684615, 3179648.48671429, 3179650.52333333, 3179650.4669999997, 3179650.5086, 3179656.6892, 3179656.829, 3179650.2989999996, 3179650.2, 3179650.2260000003, 3179650.777, 3179650.7610000004, 3179650.78, 3179650.89156, 3179685.34914286, 3179657.289, 3179657.17, 3179684.95692308, 3179686.46466667, 3179651.91044444, 3179649.84422222, 3179683.07918182, 3179681.6319999998, 3179685.00666667, 3179670.822125, 3179678.4978, 3179680.027125, 3179681.719375, 3179671.22442857, 3179678.49657143, 3179670.37557143, 3179670.37175, 3179690.3660000004, 3179689.845, 3179689.9480000003, 3179689.4189999998, 3179689.497, 3179689.06, 3179649.21095349, 3179650.1318, 3179656.811, 3179666.563, 3179673.738, 3179666.295, 3179673.005, 3179648.78255556, 3179660.707, 3179648.61685714, 3179659.4905, 3179649.21871429, 3179659.03542857, 3179647.22514286, 3179648.110625, 3179648.30475, 3179648.19775, 3179648.70728571, 3179648.1862, 3179647.92785714, 3179647.811, 3179669.54885714, 3179680.04714286, 3179683.126, 3179682.7569999998, 3179683.34, 3179682.832, 3179667.14, 3179667.2048, 3179666.9189999998, 3179666.795, 3179714.2210000004, 3179649.77728571, 3179649.85242857, 3179649.14428571, 3179649.24271429, 3179649.18792857, 3179648.412, 3179648.49314286, 3179650.52792857, 3179650.4671, 3179650.51092857, 3179656.69114286, 3179656.828, 3179650.3060000003, 3179650.208, 3179650.78464286, 3179650.77314286, 3179650.78833333, 3179728.1580000003, 3179728.21, 3179728.144, 3179728.21, 3179722.748, 3179713.22, 3179670.8019999997, 3179648.486, 3179691.3039999995, 3179692.1980000003, 3179718.17342857, 3179718.5760000004, 3179683.1180000002, 3179682.749, 3179683.334, 3179667.1119999997, 3179667.14, 3179666.838, 3179666.895, 3179666.792, 3179666.012, 3179666.0, 3179665.894, 3179673.645, 3179673.793, 3179711.111, 3179711.025, 3179711.02, 3179714.4439999997, 3179689.0239999997, 3179689.244, 3179689.307, 3179667.0069999998, 3179667.083, 3179667.164, 3179681.421, 3179681.298, 3179684.854, 3179691.232, 3179693.755, 3179695.163, 3179699.336, 3179718.2169999997, 3179728.245, 3179728.1610000003, 3179728.203, 3179722.545, 3179720.5239999997, 3179712.943, 3179709.244, 3179705.8419999997, 3179693.164, 3179685.3060000003, 3179682.78, 3179679.208, 3179674.752, 3179670.7189999996, 3179659.828, 3179653.7860000003, 3179648.472, 3179648.775, 3179649.202, 3179649.534, 3179650.123, 3179683.8910000003, 3179685.2739999997, 3179686.369, 3179686.083, 3179708.898, 3179666.068, 3179675.557, 3179669.5539999995, 3179672.615, 3179676.309, 3179681.577, 3179679.97, 3179668.023, 3179683.216, 3179662.788, 3179706.393, 3179696.165, 3179687.133, 3179681.0069999998, 3179652.3210000005, 3179661.08, 3179681.42, 3179681.308, 3179683.7989999996, 3179683.8, 3179686.334, 3179685.957, 3179728.1119999997, 3179728.1969999997, 3179696.84, 3179693.175, 3179685.14, 3179679.1769999997, 3179699.3030000003, 3179718.558, 3179692.2, 3179727.58, 3179728.251, 3179651.341, 3179648.475, 3179649.276, 3179649.7139999997, 3179650.352, 3179651.397, 3179681.099, 3179681.202, 3179684.526, 3179722.787, 3179713.349, 3179705.04, 3179693.1569999997, 3179685.165, 3179679.24, 3179691.313, 3179692.202, 3179728.211, 3179728.252, 3179699.41, 3179718.5069999998, 3179713.142, 3179705.115, 3179685.3860000004, 3179679.64, 3179681.142, 3179681.352, 3179684.88, 3179691.308, 3179713.2630000003, 3179728.202, 3179728.153, 3179722.788, 3179713.474, 3179684.923, 3179679.539, 3179669.4310000003, 3179728.369, 3179693.682, 3179718.478, 3179727.7630000003, 3179672.547, 3179676.28, 3179681.462, 3179685.168, 3179689.481, 3179691.46, 3179692.2369999997, 3179695.1989999996, 3179662.765, 3179649.32, 3179650.473, 3179651.415, 3179710.942, 3179714.212, 3179728.272, 3179655.61, 3179648.481, 3179728.3639999996, 3179728.236, 3179699.352, 3179707.9839999997, 3179718.472, 3179727.887, 3179722.9439999997, 3179669.937, 3179672.224, 3179676.182, 3179681.7810000004, 3179681.375, 3179685.146, 3179666.966, 3179667.269, 3179664.416, 3179663.409, 3179659.106, 3179658.522, 3179652.995, 3179652.525, 3179649.503, 3179647.3260000004, 3179646.166, 3179643.847, 3179643.562, 3179643.623, 3179642.47, 3179645.039, 3179644.537, 3179644.0039999997, 3179644.628, 3179643.244, 3179644.027, 3179647.39, 3179645.317, 3179645.796, 3179645.689, 3179689.855, 3179684.186, 3179685.095, 3179684.57, 3179693.4469999997, 3179691.713, 3179692.247, 3179692.3210000005, 3179688.349, 3179684.256, 3179689.863, 3179692.15, 3179694.673, 3179696.5, 3179689.6010000003, 3179691.9510000004, 3179693.624, 3179696.4289999995, 3179722.499, 3179713.83, 3179700.317, 3179722.9480000003, 3179711.789, 3179702.0960000004, 3179700.6, 3179700.808, 3179694.8019999997, 3179694.7139999997, 3179692.264, 3179692.1610000003, 3179701.3310000002, 3179701.2819999997, 3179701.165, 3179708.619, 3179708.5939999996, 3179717.035, 3179717.001, 3179719.765, 3179718.127, 3179722.642, 3179718.085, 3179727.152, 3179689.5039999997, 3179714.1380000003, 3179683.403, 3179729.503, 3179729.692, 3179728.389, 3179685.961, 3179690.648, 3179694.645, 3179684.965, 3179686.465, 3179685.356, 3179689.2210000004, 3179690.4760000003, 3179690.328, 3179649.768, 3179649.8419999997, 3179649.137, 3179649.233, 3179649.186, 3179648.401, 3179648.483, 3179648.483, 3179650.519, 3179650.462, 3179650.5039999997, 3179688.5730000003, 3179728.501, 3179729.2789999996, 3179729.385, 3179724.1769999997, 3179688.9280000003, 3179690.1089999997, 3179728.314, 3179715.8989999997, 3179705.7460000003, 3179728.22, 3179728.2010000004, 3179724.4, 3179715.8680000002, 3179690.5089999996, 3179685.861, 3179681.332, 3179683.402, 3179680.367, 3179683.401, 3179705.619, 3179694.639, 3179681.454, 3179684.195, 3179686.459, 3179684.144, 3179683.039, 3179690.1539999996, 3179688.3605, 3179689.9460000005, 3179689.416, 3179689.2339999997, 3179684.559, 3179656.687, 3179656.8239999996, 3179683.082, 3179685.005, 3179681.637, 3179686.457, 3179685.2819999997, 3179686.79, 3179683.0330000003, 3179684.128, 3179686.639, 3179690.9689999996, 3179694.4669999997, 3179707.256, 3179728.2410000004, 3179682.085, 3179681.185, 3179686.785, 3179690.613, 3179705.5, 3179716.057, 3179727.58, 3179728.1769999997, 3179706.865, 3179703.848, 3179656.835, 3179650.2989999996, 3179650.202, 3179650.225, 3179650.777, 3179650.76, 3179650.7819999997, 3179662.433, 3179670.8230000003, 3179680.028, 3179681.72, 3179683.724, 3179703.8310000002, 3179727.0110000004, 3179719.0960000004, 3179687.1560000004, 3179704.672, 3179709.887, 3179714.7189999996, 3179719.363, 3179708.9710000004, 3179611.722, 3179611.84, 3179614.5039999997, 3179618.17, 3179617.334, 3179617.5069999998, 3179612.348, 3179623.0039999997, 3179622.512, 3179620.841, 3179622.3710000003, 3179623.486, 3179624.1789999995, 3179622.914, 3179626.3419999997, 3179618.923, 3179627.626, 3179634.355, 3179634.173, 3179633.91, 3179633.006, 3179626.8060000003, 3179622.2860000003, 3179622.567, 3179621.52, 3179621.8030000003, 3179622.6360000004, 3179627.403, 3179626.204, 3179625.963, 3179623.9760000003, 3179615.749, 3179616.4080000003, 3179618.443, 3179613.624, 3179684.28, 3179694.668, 3179701.483, 3179702.192, 3179704.4680000003, 3179703.327, 3179675.6769999997, 3179676.975, 3179681.4469999997, 3179680.855, 3179680.852, 3179681.2810000004, 3179708.79, 3179708.3060000003, 3179708.0719999997, 3179708.784, 3179708.298, 3179702.1739999996, 3179720.098, 3179722.587, 3179720.512, 3179725.4, 3179725.461, 3179716.37, 3179716.3680000002, 3179713.058, 3179713.057], \"z\": [149.329979591837, 145.7223, 141.951807692308, 142.35635922330098, 145.443230769231, 145.529804232804, 147.260912568306, 124.48100000000001, 124.4546, 126.756818181818, 126.76, 126.73909090909099, 126.734909090909, 126.841090909091, 126.855, 142.288333333333, 142.991, 140.851333333333, 141.16299999999998, 126.264, 126.26100000000001, 126.2505, 126.525, 126.52600000000001, 126.52, 125.215, 131.96447368421101, 131.955736842105, 138.88388421052602, 142.922, 142.09, 142.097, 125.196, 137.4991, 136.333, 136.601, 136.317, 136.53, 136.167, 146.638, 141.702025641026, 141.513025641026, 144.52090833333298, 144.50199152542402, 137.523, 142.801032967033, 137.5259, 137.52, 137.525, 137.518625, 146.501435897436, 137.50996999999998, 133.001, 132.997, 133.092, 133.02807692307698, 133.076, 132.731, 132.825, 132.703857142857, 132.878875, 141.49292, 141.525571428571, 141.031690909091, 141.111070484581, 144.968677902622, 137.503950413223, 128.24, 128.2402, 129.3854, 128.96, 129.019, 128.69899999999998, 128.765, 128.725, 145.146051282051, 125.009, 125.01700000000001, 125.005, 123.331, 125.0258, 125.24, 126.79, 145.084986046511, 149.462806949807, 137.522990243902, 149.677025641026, 137.501333333333, 151.639436607339, 151.958444015444, 143.46625, 143.45184444444402, 143.461, 142.9755, 127.179, 126.22, 143.111978723404, 139.30444680851102, 137.53697872340402, 135.548958333333, 133.737617021277, 129.921, 130.139961538461, 130.12133333333298, 137.5, 137.4901, 137.5499, 137.70985, 137.620125, 132.125352941176, 131.953647058824, 135.918470588235, 135.751882352941, 137.584764705882, 129.965, 130.2266, 148.968663636364, 145.415, 149.57232, 145.680239130435, 150.088883333333, 146.643293290043, 151.211259079903, 149.53510738255, 150.669428571429, 146.43990336134502, 120.596, 155.240571428571, 127.54700000000001, 127.221, 127.208, 126.9, 127.117, 126.79, 127.18015, 127.191833333333, 127.223333333333, 153.72973705611298, 152.47285561497299, 149.952253325942, 153.57335294117598, 153.099857142857, 154.739857142857, 125.045, 125.01700000000001, 125.044, 125.04, 126.87200000000001, 126.877076923077, 126.838, 126.787, 126.94092307692301, 126.932, 142.99200000000002, 140.85, 120.296, 123.295, 138.111005347594, 135.206417112299, 132.218, 125.087730769231, 137.8438, 134.843897849462, 131.75660215053801, 125.0615, 138.096909090909, 132.095625, 129.075, 124.999408163265, 137.880333333333, 134.887666666667, 131.8788, 137.36, 134.36, 138.282, 135.15, 132.122, 137.944, 135.016, 131.7152, 127.79746000000002, 144.15, 127.94, 128.106, 143.466, 143.61, 126.225, 127.625666666667, 138.006636363636, 137.958, 137.689222222222, 133.679875, 133.6488, 133.39975, 133.62, 120.594285714286, 129.281714285714, 129.294571428571, 129.281, 148.969, 145.41899999999998, 149.572, 145.68, 150.088, 146.643, 125.782697674419, 126.116, 116.742, 116.74700000000001, 116.68, 109.76899999999999, 109.655, 127.223777777778, 127.178333333333, 127.7, 127.99799999999999, 120.37557142857099, 120.87200000000001, 127.729, 127.76799999999999, 127.923125, 128.142, 118.755, 118.9124, 121.639, 109.82, 107.639, 100.029, 119.698, 114.025, 106.626666666667, 99.854, 116.009, 98.228, 116.19200000000001, 105.39200000000001, 97.14200000000001, 138.132, 135.224, 137.85299999999998, 134.859, 131.840785714286, 138.105857142857, 132.107928571429, 137.891, 134.8948, 131.889, 137.361857142857, 134.369, 138.2978, 135.1635, 137.960928571429, 135.029, 131.728666666667, 109.899, 101.311, 116.53200000000001, 101.311, 101.02799999999999, 111.478, 124.088, 98.19, 114.219, 114.734, 117.708, 114.64983333333299, 119.676, 113.993, 106.583, 123.581, 116.0, 124.13799999999999, 116.17, 105.382, 120.211, 115.335, 103.779, 120.93299999999999, 106.23899999999999, 118.37700000000001, 113.145, 106.677, 113.23299999999999, 124.155, 115.756, 106.728, 122.171, 115.891, 107.89299999999999, 120.21799999999999, 119.964, 119.92, 119.713, 119.743, 119.71600000000001, 117.215, 117.68799999999999, 120.103, 119.962, 120.5, 121.007, 120.759, 121.164, 120.586, 121.01799999999999, 122.117, 122.23899999999999, 124.044, 122.249, 125.184, 124.064, 122.50299999999999, 122.97399999999999, 123.963, 125.14399999999999, 125.743, 126.012, 126.102, 115.833, 115.56299999999999, 115.70299999999999, 115.67, 109.065, 114.96, 114.88799999999999, 107.635, 107.603, 107.492, 107.57, 114.11200000000001, 115.265, 114.005, 107.941, 124.58, 124.854, 125.23700000000001, 125.23299999999999, 125.23899999999999, 125.213, 117.475, 117.515, 112.07, 112.069, 111.92399999999999, 112.009, 116.93, 116.507, 115.56200000000001, 118.382, 118.39299999999999, 118.43, 114.779, 114.645, 115.041, 109.02, 108.839, 113.039, 113.51, 113.25200000000001, 113.465, 113.958, 113.47399999999999, 113.73, 113.87100000000001, 113.801, 115.435, 115.485, 114.876, 115.38600000000001, 115.329, 115.385, 114.214, 114.728, 109.866, 109.572, 109.338, 109.206, 109.54899999999999, 111.189, 111.652, 111.676, 110.445, 111.133, 111.385, 111.693, 111.436, 101.303, 100.836, 100.98200000000001, 101.064, 103.536, 103.56, 102.22, 101.564, 105.323, 102.48, 100.941, 103.085, 103.115, 103.411, 103.337, 103.86399999999999, 104.066, 104.20100000000001, 103.509, 102.977, 101.54799999999999, 101.868, 102.685, 101.05799999999999, 97.134, 95.85700000000001, 98.2, 98.185, 96.603, 96.104, 99.368, 99.359, 98.794, 97.351, 98.339, 98.0, 98.35799999999999, 98.57600000000001, 98.994, 98.84200000000001, 98.719, 129.51, 134.322, 134.86, 133.855, 133.983, 130.7, 133.863, 130.263, 132.17, 135.49, 131.92600000000002, 134.07299999999998, 131.976, 135.375, 131.678, 135.095, 137.53, 131.69, 136.525, 132.594, 130.664, 137.776, 131.41, 131.458, 133.881, 146.507, 144.975, 145.157, 145.082, 149.465, 149.683, 151.642, 151.97, 141.71, 141.515, 146.656, 145.668, 144.54, 142.811, 141.57299999999998, 141.532, 141.045, 141.12, 145.734, 145.455, 145.53799999999998, 142.44, 142.034, 142.364, 144.994, 143.308, 147.279, 146.045, 149.346, 147.736, 153.732, 152.48, 149.958, 153.576, 151.733, 154.555, 153.424, 154.566, 137.284, 137.27100000000002, 133.19, 134.738, 150.099, 141.955, 142.991, 131.955, 138.877, 137.523, 137.52100000000002, 137.516, 137.515, 143.607, 143.602, 143.61, 150.675, 151.224, 149.54, 138.118, 135.214, 137.842, 134.85, 131.761, 138.095, 132.093, 132.094, 137.878, 134.886, 131.877, 146.447, 142.922, 142.09, 142.097, 137.52, 145.776, 148.11700000000002, 137.526, 137.525, 137.513, 132.999, 133.0, 133.092, 133.02700000000002, 132.822, 132.705, 132.879, 142.989, 140.8575, 142.989, 133.075, 132.731, 137.501, 143.069, 137.584, 137.713, 137.616, 149.289, 144.501, 149.591, 145.6985, 150.68, 145.082, 137.358, 134.358, 138.005, 137.696, 137.958, 137.582, 135.908, 135.753, 132.125, 131.953, 136.167, 136.53, 136.317, 136.601, 136.333, 128.725, 128.765, 128.69899999999998, 129.019, 128.96, 129.386, 129.452, 128.24, 155.237, 153.095, 131.363, 138.284, 135.149, 132.123, 137.946, 135.016, 131.714, 133.674, 133.675, 133.399, 133.615, 133.332, 154.741, 127.042, 127.29700000000001, 128.415, 127.625, 127.691, 127.59299999999999, 125.185, 125.387, 98.885, 94.14, 91.163, 92.258, 90.318, 90.641, 91.292, 108.478, 110.484, 98.92, 109.554, 116.04799999999999, 113.205, 106.094, 117.819, 98.50299999999999, 118.639, 125.975, 127.288, 125.96799999999999, 129.442, 130.644, 123.632, 119.94200000000001, 113.042, 118.396, 123.766, 135.113, 133.99, 128.201, 120.51, 107.056, 102.586, 100.421, 100.125, 146.505, 148.157, 150.21, 151.102, 152.09, 152.806, 145.111, 145.374, 144.10399999999998, 145.555, 144.35399999999998, 146.339, 156.297, 156.523, 157.014, 156.291, 156.518, 151.084, 161.475, 163.247, 155.053, 155.142, 154.149, 155.196, 154.164, 154.178, 152.085]}, {\"colorscale\": [[0.0, \"rgb(254, 246, 181)\"], [0.16666666666666666, \"rgb(255, 221, 154)\"], [0.3333333333333333, \"rgb(255, 194, 133)\"], [0.5, \"rgb(255, 166, 121)\"], [0.6666666666666666, \"rgb(250, 138, 118)\"], [0.8333333333333334, \"rgb(241, 109, 122)\"], [1.0, \"rgb(225, 83, 131)\"]], \"sizemode\": \"absolute\", \"sizeref\": 350, \"text\": [\"Auto-AC11a\", \"Auto-AC1Ba\", \"Auto-AC311a\", \"Auto-AC32a\", \"Auto-AC5Ba\", \"Auto-AC7Ba\", \"Auto-AC9a\", \"Auto-B11a\", \"Auto-B12a\", \"Auto-B41a\", \"Auto-B42a\", \"Auto-B51a\", \"Auto-B52a\", \"Auto-B61a\", \"Auto-B62a\", \"Auto-BAPM.4a\", \"Auto-BAPM1.1a\", \"Auto-BAPM2.1a\", \"Auto-BAPM3.1a\", \"Auto-G11a\", \"Auto-G12a\", \"Auto-G13a\", \"Auto-GR2.1a\", \"Auto-GR2.2a\", \"Auto-GR2.3a\", \"Auto-MS20a\", \"Auto-MS21a\", \"Auto-MS22a\", \"Auto-MS25a\", \"Auto-MS26a\", \"Auto-MS27a\", \"Auto-MS31a\", \"Auto-MS32a\", \"Auto-PC1.1a\", \"Auto-PC101a\", \"Auto-PC105a\", \"Auto-PC106a\", \"Auto-PC107a\", \"Auto-PC108a\", \"Auto-PC10a\", \"Auto-PC111a\", \"Auto-PC112a\", \"Auto-PC12a\", \"Auto-PC13.1a\", \"Auto-PC13a\", \"Auto-PC14.1a\", \"Auto-PC15.1a\", \"Auto-PC16.1a\", \"Auto-PC17.1a\", \"Auto-PC1A\", \"Auto-PC2.1a\", \"Auto-PC201a\", \"Auto-PC202a\", \"Auto-PC203a\", \"Auto-PC204a\", \"Auto-PC205a\", \"Auto-PC206a\", \"Auto-PC207a\", \"Auto-PC208a\", \"Auto-PC209a\", \"Auto-PC21a\", \"Auto-PC22a\", \"Auto-PC23a\", \"Auto-PC23Ba\", \"Auto-PC2a\", \"Auto-PC3.1a\", \"Auto-PC301a\", \"Auto-PC302a\", \"Auto-PC304a\", \"Auto-PC305a\", \"Auto-PC307a\", \"Auto-PC308a\", \"Auto-PC309a\", \"Auto-PC310a\", \"Auto-PC3a\", \"Auto-PC401a\", \"Auto-PC402a\", \"Auto-PC403a\", \"Auto-PC450a\", \"Auto-PC451a\", \"Auto-PC452a\", \"Auto-PC453a\", \"Auto-PC4a\", \"Auto-PC5a\", \"Auto-PC6.1a\", \"Auto-PC6A\", \"Auto-PC7a\", \"Auto-PC8a\", \"Auto-PCBA.1a\", \"Auto-PCBA.2a\", \"Auto-PCBA.3a\", \"Auto-PCBA.4a\", \"Auto-PD1a\", \"Auto-PD2.a\", \"Auto-PL101a\", \"Auto-PL202a\", \"Auto-PL301a\", \"Auto-PL402a\", \"Auto-PL501a\", \"Auto-PM.603a\", \"Auto-PM.604a\", \"Auto-PM.605a\", \"Auto-PM209a\", \"Auto-PM210a\", \"Auto-PM211a\", \"Auto-PM212a\", \"Auto-PM213a\", \"Auto-PM301a\", \"Auto-PM302a\", \"Auto-PM303a\", \"Auto-PM304a\", \"Auto-PM305a\", \"Auto-PM601a\", \"Auto-PM602a\", \"Auto-PMS.1a\", \"Auto-PMS1.2a\", \"Auto-PMS2.1a\", \"Auto-PMS2.2a\", \"Auto-PMS3.1a\", \"Auto-PMS3.2a\", \"Auto-PMS4.1a\", \"Auto-PMS4.2a\", \"Auto-PMS5.1a\", \"Auto-PMS5.2a\", \"Auto-PR14.1a\", \"Auto-RN7.1a\", \"Auto-TREM1a\", \"Auto-TREM2.1a\", \"Auto-TREM2.2a\", \"Auto-TREM2.3a\", \"Auto-TREM2a\", \"Auto-TREM3.a\", \"Auto-TREM4.a\", \"Auto-TREM5a\", \"Auto-TREM6a\", \"Auto-VJ1a\", \"Auto-VJ2a\", \"Auto-VJ3a\", \"Auto-VJ4a\", \"Auto-VJ6a\", \"Auto-VJ7a\", \"Auto-B13b\", \"Auto-B14b\", \"Auto-B23b\", \"Auto-B24b\", \"Auto-B43b\", \"Auto-B44b\", \"Auto-B53b\", \"Auto-B54b\", \"Auto-B63b\", \"Auto-B64b\", \"Auto-BAPM1.1b\", \"Auto-BAPM2.1b\", \"Auto-DB1b\", \"Auto-DB2b\", \"Auto-F1.1b\", \"Auto-F1.2b\", \"Auto-F1.3b\", \"Auto-F2.1b\", \"Auto-F2.2b\", \"Auto-F2.3b\", \"Auto-F3.1b\", \"Auto-F3.2b\", \"Auto-F3.3b\", \"Auto-F3.4b\", \"Auto-F4.1b\", \"Auto-F4.2b\", \"Auto-F4.3b\", \"Auto-F5.1b\", \"Auto-F5.2b\", \"Auto-F6.1b\", \"Auto-F6.2b\", \"Auto-F6.3b\", \"Auto-F7.1b\", \"Auto-F7.2b\", \"Auto-F7.3b\", \"Auto-F7.4b\", \"Auto-GR.2b\", \"Auto-GR3b\", \"Auto-GR4b\", \"Auto-PCBA.1b\", \"Auto-PCBA.2b\", \"Auto-PD.3b\", \"Auto-PD.4b\", \"Auto-PM102b\", \"Auto-PM103b\", \"Auto-PM201b\", \"Auto-PM401b\", \"Auto-PM402b\", \"Auto-PM403b\", \"Auto-PM404b\", \"Auto-PM501b\", \"Auto-PM615b\", \"Auto-PM616b\", \"Auto-PM617b\", \"Auto-PMS.1b\", \"Auto-PMS1.2b\", \"Auto-PMS2.1b\", \"Auto-PMS2.2b\", \"Auto-PMS3.1b\", \"Auto-PMS3.2b\", \"Auto-REFSS6b\", \"Auto-REFSS7b\", \"Auto-TQ101b\", \"Auto-TQ102b\", \"Auto-TQ103b\", \"Auto-TQ202b\", \"Auto-TQ203b\", \"Auto-TREM18.1b\", \"Auto-TREM18.2b\", \"Auto-US101b\", \"Auto-US102b\", \"Auto-US201b\", \"Auto-US202b\", \"Auto-UV101b\", \"Auto-UV102b\", \"Auto-UV103b\", \"Auto-UV104b\", \"Auto-UV201b\", \"Auto-UV202b\", \"Auto-UV203b\", \"Auto-UV303b\", \"Auto-BA2.1d\", \"Auto-BARET10.1d\", \"Auto-BARET11.1d\", \"Auto-BARET11.2d\", \"Auto-BARET11.3d\", \"Auto-BARET11.7d\", \"Auto-BARET2.2d\", \"Auto-BARET2.7d\", \"Auto-BARET3.2d\", \"Auto-BARET3.3d\", \"Auto-BARET9.7d\", \"Auto-F1.1d\", \"Auto-F1.2d\", \"Auto-F2.1d\", \"Auto-F2.2d\", \"Auto-F2.3d\", \"Auto-F3.1d\", \"Auto-F3.2d\", \"Auto-F4.1d\", \"Auto-F4.2d\", \"Auto-F4.3d\", \"Auto-F5.1d\", \"Auto-F5.2d\", \"Auto-F6.1d\", \"Auto-F6.2d\", \"Auto-F7.1d\", \"Auto-F7.2d\", \"Auto-F7.3d\", \"Auto-P11.3d\", \"Auto-P11.4d\", \"Auto-P12.2d\", \"Auto-P12.8d\", \"Auto-P120.6d\", \"Auto-P130.5d\", \"Auto-P17.1d\", \"Auto-P20.7d\", \"Auto-P5.3d\", \"Auto-P50.3d\", \"Auto-P9.1d\", \"Auto-P9.2d\", \"Sd-BARET11.1\", \"Sd-BARET11.2\", \"Sd-BARET11.3\", \"Sd-BARET2.1\", \"Sd-BARET2.2\", \"Sd-BARET3.1\", \"Sd-BARET3.2\", \"Sd-BARET3.3\", \"Sd-BARET4.1\", \"Sd-BARET4.2\", \"Sd-BARET4.3\", \"Sd-BARET5.1\", \"Sd-BARET5.3\", \"Sd-BARET8.1\", \"Sd-BARET8.2\", \"Sd-BARET8.3\", \"Sd-BARET9.2\", \"Sd-BARET6.1\", \"Sd-BARET6.2\", \"Sd-BARET6.3\", \"Sd-BARET1.1\", \"Sd-BARET1.2\", \"Sd-BARET1.3\", \"Sd-P1.1\", \"Sd-P2.1\", \"Sd-P3.1\", \"Sd-P5.1\", \"Sd-P6.1\", \"Sd-P7.1\", \"Sd-P8.1\", \"Sd-P9.1\", \"Sd-P10.1\", \"Sd-P11.1\", \"Sd-P12.1\", \"Sd-P120.1\", \"Sd-P13.1\", \"Sd-P130.1\", \"Sd-P14.1\", \"Sd-P140.1\", \"Sd-P142.1\", \"Sd-P143.1\", \"Sd-P15.1\", \"Sd-P150.1\", \"Sd-P16.1\", \"Sd-P17.1\", \"Sd-P18.1\", \"Sd-P19.1\", \"Sd-P20.1\", \"Sd-P21.1\", \"Sd-P22.1\", \"Sd-P23.1\", \"Sd-P24.1\", \"Sd-PM.704\", \"Sd-PM.705\", \"Sd-PM.706\", \"Sd-P80.1\", \"Sd-PIL4A.1\", \"Sd-PIL5C.1\", \"Sd-BA2.1\", \"Sd-BA3.1\", \"Sd-BA4.1\", \"Sd-BA5.1\", \"Sd-PIL10.1\", \"Sd-PIL2A.1\", \"Sd-PIL8.1\", \"Sd-BA1.1\", \"Sd-PSDALLE.6\", \"Sd-PSDALLE.1\", \"Sd-PSDALLE.2\", \"Sd-PSDALLE.3\", \"Sd-PSDALLE.4\", \"Sd-PSDALLE.7\", \"Sd-P1.2\", \"Sd-P2.2\", \"Sd-PM.707\", \"Sd-PM.708\", \"Sd-PM.709\", \"Sd-PM.710\", \"Sd-P11.2\", \"Sd-P12.2\", \"Sd-P141.2\", \"Sd-P142.2\", \"Sd-P143.2\", \"Sd-P150.2\", \"Sd-P8.2\", \"Sd-P9.2\", \"Sd-P50.2\", \"Sd-P902\", \"Sd-P100.2\", \"Sd-P19.2\", \"Sd-P20.2\", \"Sd-P22.2\", \"Sd-P23.2\", \"Sd-P25.2\", \"Sd-P26.2\", \"Sd-P1.3\", \"Sd-P2.3\", \"Sd-P3.3\", \"Sd-P120.3\", \"Sd-P130.3\", \"Sd-P140.3\", \"Sd-P142.3\", \"Sd-P143.3\", \"Sd-P150.3\", \"Sd-P5.3\", \"Sd-P50.3\", \"Sd-P11.3\", \"Sd-P12.3\", \"Sd-P8.3\", \"Sd-P9.3\", \"Sd-P130.4\", \"Sd-P140.4\", \"Sd-P143.4\", \"Sd-P150.4\", \"Sd-P1.4\", \"Sd-P2.4\", \"Sd-P3.4\", \"Sd-P5.4\", \"Sd-P130.5\", \"Sd-P11.4\", \"Sd-P12.4\", \"Sd-P120.6\", \"Sd-P14.6\", \"Sd-P143.6\", \"Sd-P150.6\", \"Sd-P17.6\", \"Sd-P110.3\", \"Sd-P7.3\", \"Sd-P9.4\", \"Sd-P901.2\", \"Sd-BA3.2\", \"Sd-BA4.2\", \"Sd-BA5.2\", \"Sd-P3.5\", \"Sd-P4.5\", \"Sd-P5.5\", \"Sd-P50.5\", \"Sd-P7.5\", \"Sd-BA1.2\", \"Sd-P22.3\", \"Sd-P25.3\", \"Sd-P26.3\", \"Sd-BARET8.7\", \"Sd-BARET9.7\", \"Sd-P11.7\", \"Sd-P180.7\", \"Sd-P20.7\", \"Sd-P110.7\", \"Sd-P111.7\", \"Sd-P8.7\", \"Sd-P80.7\", \"Sd-P9.7\", \"Sd-P901.7\", \"Sd-P902.7\", \"Sd-BA2.7\", \"Sd-BA3.7\", \"Sd-BA4.7\", \"Sd-BA5.7\", \"Sd-P1.7\", \"Sd-P3.7\", \"Manu-SEC4.1\", \"Manu-SEC4.2\", \"Manu-SEC4.3\", \"Manu-SEC4.4\", \"Manu-SEC4.5\", \"Manu-SEC4.5C\", \"Manu-SEC4.6\", \"Manu-SEC4.7\", \"Manu-SEC4.8\", \"Manu-SEC4.9\", \"Manu-SEC4.10\", \"Manu-SEC4.11\", \"Manu-SEC4.12\", \"Manu-SEC4.13\", \"Manu-SEC4.14\", \"Manu-SEC4.24\", \"Manu-SEC4.23\", \"Manu-SEC4.22\", \"Manu-SEC4.17\", \"Manu-SEC4.16\", \"Manu-SEC4.15\", \"Manu-SEC4.18\", \"Manu-SEC4.19\", \"Manu-SEC4.20\", \"Manu-SEC4.21\", \"Manu-PC1\", \"Manu-PC2\", \"Manu-PC3\", \"Manu-PC4\", \"Manu-PC5\", \"Manu-PC6\", \"Manu-PC7\", \"Manu-PC8\", \"Manu-PC111\", \"Manu-PC112\", \"Manu-PC10\", \"Manu-PC11\", \"Manu-PC12\", \"Manu-PC13\", \"Manu-PC21\", \"Manu-PC22\", \"Manu-PC23\", \"Manu-PC23B\", \"Manu-AC1B\", \"Manu-AC5B\", \"Manu-AC7B\", \"Manu-AC30\", \"Manu-AC31\", \"Manu-AC32\", \"Manu-AC7\", \"Manu-AC8\", \"Manu-AC9\", \"Manu-AC10\", \"Manu-AC11\", \"Manu-AC12\", \"Manu-VJ1\", \"Manu-VJ2\", \"Manu-VJ3\", \"Manu-VJ4\", \"Manu-VJ5\", \"Manu-VB1\", \"Manu-VB2\", \"Manu-VB3\", \"Manu-PN.1\", \"Manu-PN.2\", \"Manu-PN.3\", \"Manu-PN.4\", \"Manu-NP.1\", \"Manu-AC311B\", \"Manu-BAPM1.1\", \"Manu-MS21\", \"Manu-MS22\", \"Manu-PC13.1\", \"Manu-PC2.1\", \"Manu-PC3.1\", \"Manu-PC7.1\", \"Manu-PCBA.1\", \"Manu-PCBA.2\", \"Manu-PCBA.3\", \"Manu-PMS3.1\", \"Manu-PMS4.1\", \"Manu-PMS4.2\", \"Manu-F1.1\", \"Manu-F1.2\", \"Manu-F2.1\", \"Manu-F2.2\", \"Manu-F2.3\", \"Manu-F3.1\", \"Manu-F3.2\", \"Manu-F3.3\", \"Manu-F4.1\", \"Manu-F4.2\", \"Manu-F4.3\", \"Manu-PMS3.2\", \"Manu-MS25\", \"Manu-MS26\", \"Manu-MS27\", \"Manu-PC15.1\", \"Manu-PMS7.2\", \"Manu-PMS6.1\", \"Manu-PC14.1\", \"Manu-PC16.1\", \"Manu-PC17.1\", \"Manu-PC201\", \"Manu-PC202\", \"Manu-PC203\", \"Manu-PC204\", \"Manu-PC207\", \"Manu-PC208\", \"Manu-PC209\", \"Manu-BAPM.4\", \"Manu-BAPM2.1\", \"Manu-BAPM3.1\", \"Manu-PC205\", \"Manu-PC206\", \"Manu-PC1.1\", \"Manu-PCBA.4\", \"Manu-PM209\", \"Manu-PM212\", \"Manu-PM213\", \"Manu-PMS.1\", \"Manu-PMS1.2\", \"Manu-PMS2.1\", \"Manu-PMS2.2\", \"Manu-PMS5.1\", \"Manu-PMS5.2\", \"Manu-F5.1\", \"Manu-F5.2\", \"Manu-PM102\", \"Manu-PM201\", \"Manu-PM103\", \"Manu-PM.204\", \"Manu-PM.301\", \"Manu-PM.302\", \"Manu-PM.401\", \"Manu-PM.402\", \"Manu-PC108\", \"Manu-PC107\", \"Manu-PC106\", \"Manu-PC105\", \"Manu-PC101\", \"Manu-PC310\", \"Manu-PC309\", \"Manu-PC308\", \"Manu-PC307\", \"Manu-PC305\", \"Manu-PC304\", \"Manu-PC302\", \"Manu-PC301\", \"Manu-RN7.1\", \"Manu-VJ6\", \"Manu-F5.3\", \"Manu-F6.1\", \"Manu-F6.2\", \"Manu-F6.3\", \"Manu-F7.1\", \"Manu-F7.2\", \"Manu-F7.3\", \"Manu-PM400\", \"Manu-PM401\", \"Manu-PM403\", \"Manu-PM404\", \"Manu-PM405\", \"Manu-VJ7\", \"Manu-PRT1\", \"Manu-PRT2\", \"Manu-PAL3\", \"Manu-PAL4\", \"Manu-PAL5\", \"Manu-PAL6\", \"Manu-PRTE1\", \"Manu-PRTE2\", \"Manu-SEC123.1\", \"Manu-SEC123.2\", \"Manu-SEC123.3\", \"Manu-SEC123.4\", \"Manu-SEC123.5\", \"Manu-SEC123.6\", \"Manu-SEC123.7\", \"Manu-SEC123.8\", \"Manu-SEC123.9\", \"Manu-SEC123.10\", \"Manu-SEC123.11\", \"Manu-SEC123.12\", \"Manu-SEC123.13\", \"Manu-SEC123.14\", \"Manu-SEC123.15\", \"Manu-SEC123.16\", \"Manu-SEC123.17\", \"Manu-SEC123.18\", \"Manu-SEC123.19\", \"Manu-SEC123.20\", \"Manu-SEC123.21\", \"Manu-SEC123.22\", \"Manu-SEC123.23\", \"Manu-SEC123.24\", \"Manu-SEC123.25\", \"Manu-SEC123.26\", \"Manu-SEC123.27\", \"Manu-SEC123.28\", \"Manu-SEC123.29\", \"Manu-SEC123.30\", \"Manu-SEC123.31\", \"Manu-SEC123.32\", \"Manu-SEC123.33\", \"Manu-SEC123.34\", \"Manu-SEC123.35\", \"Manu-RN7.11\", \"Manu-RN7.12\", \"Manu-RN7.13\", \"Manu-RN7.14\", \"Manu-RN7.15\", \"Manu-RN7.16\", \"Manu-ESC1\", \"Manu-ESC2\", \"Manu-MJ1\", \"Manu-MJ2\", \"Manu-MJ3\", \"Manu-RN7.10\", \"Manu-PM4\", \"Manu-PM5\", \"Manu-PM6\", \"Manu-PM7\", \"Manu-PM8\", \"Manu-RN7.14B\", \"Manu-PM2\", \"Manu-PM3\", \"Manu-VB4\", \"Manu-VB20\", \"Manu-VB21\", \"Manu-VB22\", \"Manu-VB23\", \"Manu-VJ20\", \"Manu-VJ21\"], \"type\": \"cone\", \"u\": [0.023000000044703484, 0.004999999888241291, 0.030769229866564274, 0.01699999999254942, 0.02000000001862645, 0.01600000006146729, 0.027000000001862645, 0.0005000000819563866, 0.008000000147148967, 0.008328289957717061, 0.008454550057649612, 0.004618179984390736, 0.008651509881019592, 0.007545450236648321, 0.0027045500464737415, 0.012666670139878988, 0.012750000227242708, 0.0012499999720603228, 0.0, 0.0, 0.0, 0.0, -0.0009999999310821295, 0.0009999999310821295, -0.0009999999310821295, -0.0012857099063694477, 0.001999999862164259, 0.001857140101492405, 0.0020000000949949026, 0.0031250000465661287, 0.003000000026077032, -0.00033332989551126957, 0.0, 0.023999999975785613, 0.0037499999161809683, 0.014000000199303031, 0.02199999988079071, 0.02399999974295497, 0.02299999981187284, 0.023000000044703484, 0.025794869987294078, 0.02602564007975161, 0.019954540068283677, 0.003999999957159162, 0.02000000001862645, 0.0029000001959502697, 0.009000000078231096, 0.009000000078231096, 0.01600000006146729, 0.0220512798987329, 0.006999999983236194, 0.0029999997932463884, 0.007999999914318323, 0.010000000009313226, 0.011153850238770247, 0.017899999860674143, 0.031999999890103936, 0.02695651981048286, 0.02514285990037024, 0.02199999988079071, 0.02114285994321108, 0.02421429008245468, 0.02099999994970858, 0.02192308008670807, 0.02456756983883679, 0.028999999864026904, -0.001999999862164259, 0.00419999985024333, 0.010999999940395355, 0.01699999999254942, 0.023999999975785613, 0.013000000035390258, 0.008750000037252903, 0.004999999888241291, 0.023000000044703484, -0.001999999862164259, -0.003000000026077032, -0.00016666995361447334, 0.000699999975040555, -0.0009999999310821295, -0.0029999997932463884, -0.0010666700545698404, 0.02216215990483761, 0.01848649000748992, 0.023199999937787652, 0.007168499985709786, 0.012486489955335855, 0.01035135006532073, 0.013500000117346644, 0.010800000047311187, 0.015333329793065786, 0.010000000009313226, 0.0, 0.002500000176951289, 0.005287230014801025, 0.0019361700396984816, 0.0007943299133330584, 0.00012500002048909664, 0.00014894013293087482, 0.006192309781908989, -0.009423079900443554, 0.006999999983236194, 0.0059999998193234205, 0.007200000109151006, 0.006700000027194619, 0.0005499999970197678, 0.012875000014901161, 0.009088239865377545, 0.00035294005647301674, 0.01047058985568583, 0.006921570049598813, 0.005794120021164417, 0.00774999987334013, 0.007199999876320362, 0.011136359767988324, 0.008500000229105353, 0.011750000063329935, 0.010000000009313226, 0.01280000014230609, 0.010047619929537177, 0.013357150135561824, 0.006499999901279807, 0.010785720078274608, 0.008928569965064526, -0.019000000087544322, 0.006285710027441382, -0.006999999983236194, 0.005125000141561031, 0.0030000002589076757, 0.014999999897554517, -0.013500000117346644, 0.005949999904260039, 0.030333329923450947, 0.0010833300184458494, 0.0007499998901039362, 0.013823530171066523, 0.014500000048428774, 0.01699999999254942, 0.026000000070780516, 0.006285710027441382, 0.009285710053518414, -0.002666669897735119, -0.004333329852670431, -0.0011666698846966028, -0.0011666701175272465, -0.0008461500983685255, -1.282012090086937e-05, -0.0009461499284952879, -9.614997543394566e-05, -0.005912089953199029, 2.1979911252856255e-05, 0.0012307700235396624, 0.0016060599591583014, 0.0016666699666529894, 0.0009999999310821295, -0.011999999871477485, -0.012000000104308128, -0.012000000104308128, 0.0030999998562037945, -0.012000000104308128, -0.011944439960643649, -0.011181820183992386, -0.005125000141561031, -0.012076920131221414, 0.07001020014286041, -0.01066667027771473, -0.010999999940395355, -0.010000000009313226, -0.013400000287219882, -0.014999999897554517, -0.007400000235065818, -0.00699999975040555, -0.008000000147148967, -0.004999999888241291, -0.005399999907240272, -0.006000000052154064, -0.0037799999117851257, -0.003357140114530921, -0.0005714301951229572, -0.0008571401704102755, 0.0003846201580017805, -0.0009166700765490532, -0.0013611100148409605, -0.004500000271946192, 0.0034318200778216124, -0.0020000000949949026, 0.0009999999310821295, 0.008875000057742, 0.001299999887123704, 0.00012500002048909664, 0.0005000000819563866, 0.004785710014402866, 0.004071430070325732, 0.004714289912953973, -0.0009999999310821295, 5.55599108338356e-05, -0.0009999999310821295, 0.0, -0.0010000001639127731, 0.001600000075995922, -5.5549899116158485e-05, 0.06451744004152715, -0.005933329928666353, -0.010999999940395355, 0.001999999862164259, 0.002666669897735119, 0.0030000002589076757, 0.0028333300724625587, -0.0024999999441206455, -0.019587300019338727, -5.713989958167076e-05, 0.0004999998491257429, -0.000380959827452898, 0.005285710096359253, -0.001057140063494444, -0.0016666697338223457, -0.0010000001639127731, -0.0012000000569969416, -0.0013714300002902746, -0.014999999897554517, -0.0013809599913656712, 0.0004999998491257429, 0.0016666699666529894, 0.0036428598687052727, 0.0029999997932463884, 0.004999999888241291, 0.006999999983236194, 0.005166670074686408, -0.0014761898200958967, -0.00279999990016222, -0.001333329826593399, -0.002428569830954075, -0.030000000027939677, -0.0011428599245846272, -0.0017142901197075844, -0.001999999862164259, -0.0010000003967434168, -0.0019920701161026955, -0.0013095301110297441, -0.0034047600347548723, -0.0010000003967434168, -0.0012000000569969416, -0.0014047601725906134, -0.0012142900377511978, -0.001500000013038516, -0.002199999988079071, -0.002300000051036477, -0.001928569981828332, -0.0011428599245846272, -0.0020000000949949026, -0.001999999862164259, 0.0, -0.0014999997802078724, -0.0003333301283419132, -0.005333330016583204, -0.003999999957159162, -0.001999999862164259, -0.0013333300594240427, 0.009714290034025908, 0.010999999940395355, 0.0024999999441206455, 0.0021666702814400196, 0.0, 0.0030000002589076757, 0.006000000052154064, -0.003000000026077032, -0.0029999997932463884, -0.003000000026077032, -0.001999999862164259, -0.003999999724328518, -0.0029999997932463884, -0.0020000003278255463, -0.001999999862164259, -0.001999999862164259, 0.003000000026077032, 0.003999999957159162, 0.006999999983236194, 0.010999999940395355, -0.0029999997932463884, 0.0020000000949949026, 0.013999999966472387, 0.003000000026077032, 0.001999999862164259, 0.0009999999310821295, 0.0, 0.003999999724328518, 0.010000000009313226, 0.01600000006146729, 0.018000000156462193, 0.02399999974295497, 0.02800000016577542, 0.023000000044703484, 0.0020000003278255463, 0.0009999999310821295, 0.005000000121071935, 0.004999999888241291, 0.001999999862164259, -0.0009999999310821295, -0.006000000284984708, -0.009000000078231096, -0.010000000009313226, -0.011000000173225999, -0.012999999802559614, -0.02000000001862645, -0.013000000268220901, -0.004999999888241291, -0.004000000189989805, -0.006000000052154064, 0.001999999862164259, 0.0029999997932463884, -0.008999999845400453, 0.004000000189989805, 0.001999999862164259, 0.0020000000949949026, 0.003000000026077032, 0.003999999957159162, 0.004000000189989805, 0.02000000001862645, 0.0, 0.0, 0.001999999862164259, 0.0029999997932463884, 0.001999999862164259, 0.0009999999310821295, 0.00699999975040555, -0.0020000003278255463, 0.007000000216066837, 0.010000000009313226, 0.009000000078231096, 0.003000000026077032, 0.001999999862164259, -0.0020000000949949026, 0.0009999999310821295, 0.003999999957159162, 0.0010000001639127731, 0.010000000009313226, 0.0009999999310821295, 0.0, 0.001999999862164259, 0.0010000001639127731, -0.12599999993108213, -0.039000000106170774, -0.027000000001862645, -0.017000000225380063, -0.016999999759718776, -0.013999999966472387, 0.02099999994970858, 0.010999999940395355, 0.019999999785795808, 0.0030000002589076757, 0.001999999862164259, 0.0009999999310821295, 0.006000000052154064, 0.0009999999310821295, 0.0020000000949949026, 0.0009999999310821295, 0.0, -0.001999999862164259, 0.004000000189989805, 0.0010000001639127731, -0.004000000189989805, -0.009999999776482582, -0.02000000001862645, -0.02199999988079071, -0.017999999690800905, -0.014000000199303031, 0.01799999992363155, 0.009000000078231096, 0.01699999999254942, 0.0029999997932463884, 0.019000000087544322, 0.013000000035390258, -0.004999999888241291, -0.012999999802559614, -0.009000000078231096, -0.006000000284984708, -0.0029999997932463884, 0.009000000078231096, 0.013000000035390258, 0.019000000087544322, -0.009000000078231096, 0.0029999997932463884, -0.003000000026077032, -0.001999999862164259, -0.003999999957159162, -0.0029999997932463884, -0.004000000189989805, -0.007999999914318323, 0.0, 0.01699999999254942, 0.00699999975040555, 0.0, 0.003000000026077032, 0.003999999957159162, 0.0030000002589076757, 0.00699999975040555, 0.0009999999310821295, 0.014999999897554517, 0.01600000006146729, 0.01600000006146729, 0.003999999957159162, 0.0, 0.0009999999310821295, -0.003999999957159162, 0.010999999940395355, -0.003999999957159162, 0.003999999724328518, 0.0009999999310821295, -0.001999999862164259, -0.0009999999310821295, 0.0009999999310821295, 0.010000000009313226, 0.014999999897554517, 0.006999999983236194, 0.0020000000949949026, 0.006000000052154064, 0.001999999862164259, 0.001999999862164259, 0.004000000189989805, 0.0020000003278255463, 0.010999999940395355, 0.004999999888241291, -0.0029999997932463884, -0.003999999957159162, -0.004999999888241291, -0.003999999724328518, -0.003999999957159162, -0.003000000026077032, -0.001999999862164259, -0.001999999862164259, -0.001999999862164259, -0.0020000003278255463, -0.0020000000949949026, -0.0009999999310821295, 0.0, -0.0009999999310821295, -0.024999999906867743, 0.0009999999310821295, 0.0009999999310821295, 0.001999999862164259, 0.0020000000949949026, 0.0009999999310821295, 0.0, 0.0009999999310821295, 0.0, 0.0009999999310821295, 0.0010000001639127731, 0.008000000147148967, 0.01799999992363155, 0.019000000087544322, 0.013000000268220901, 0.02399999974295497, 0.0030000002589076757, 0.008000000147148967, 0.003999999957159162, 0.023999999975785613, 0.05099999997764826, 0.030999999959021807, 0.009000000078231096, 0.023000000277534127, 0.015999999828636646, 0.017000000225380063, 0.047999999951571226, 0.015999999828636646, 0.01899999985471368, 0.0009999999310821295, 0.02099999994970858, 0.022000000113621354, 0.0044999998062849045, 0.010000000009313226, 0.02000000001862645, -0.0009999999310821295, -0.0009999999310821295, 0.026999999769032, -0.0010000001639127731, 0.027999999932944775, -0.006000000284984708, 0.009999999776482582, 0.010999999940395355, 0.013999999966472387, 0.003999999724328518, -0.0009999999310821295, 0.007000000216066837, 0.0, 0.0059999998193234205, 0.0010000003967434168, 0.0, 0.001999999862164259, 0.0009999999310821295, -0.001999999862164259, 0.006000000052154064, -0.003000000026077032, -0.0029999997932463884, 0.0009999999310821295, 0.001999999862164259, 0.0009999999310821295, 0.02700000023469329, 0.010999999940395355, 0.0009999999310821295, 0.013999999966472387, 0.003999999957159162, 0.005000000121071935, 0.0059999998193234205, -0.003999999724328518, -0.0009999999310821295, -0.0009999999310821295, 0.012000000104308128, 0.0, -0.0010000001639127731, -0.001999999862164259, -0.005000000121071935, -0.005000000121071935, -0.001999999862164259, -0.0009999999310821295, -0.0009999999310821295, 0.004000000189989805, 0.0009999999310821295, 0.0009999999310821295, 0.0009999999310821295, 0.003999999724328518, -0.008999999845400453, 0.0059999998193234205, 0.0009999999310821295, 0.008000000147148967, 0.01500000013038516, 0.003000000026077032, 0.0009999999310821295, 0.006000000052154064, 0.010000000009313226, 0.025999999837949872, 0.02299999981187284, 0.017999999690800905, 0.0, 0.012999999802559614, -0.010999999940395355, 0.014999999897554517, 0.029000000096857548, 0.01699999999254942, 0.006000000052154064, -0.010000000009313226, 0.004999999888241291, 0.004000000189989805, 0.0, 0.0, -0.00699999975040555, -0.007000000216066837, 0.003000000026077032, 0.0, -0.0029999997932463884, -0.001999999862164259, 0.005000000121071935, 0.007000000216066837, 0.0020000003278255463, -0.006000000284984708, -0.006000000052154064, -0.008000000147148967, -0.004999999888241291, -0.008000000147148967, 0.02099999994970858, 0.02199999988079071, 0.02199999988079071, 0.014000000199303031, 0.001999999862164259, 0.0, 0.0020000003278255463, 0.009000000078231096, 0.02199999988079071, 0.01600000006146729, 0.010000000009313226, 0.0020000000949949026, -0.001999999862164259, 0.00699999975040555, 0.006000000052154064, 0.0, 0.0, -0.0010000003967434168, -0.001999999862164259, 0.0009999999310821295, 0.0, -0.0009999999310821295, 0.0, 0.013999999966472387, 0.004999999888241291, 0.0, 0.0, 0.010000000009313226, 0.0009999999310821295, -0.014000000199303031, 0.0010000001639127731, -0.010999999940395355, -0.018000000156462193, -0.013000000268220901, 0.0, 0.0, -0.0009999999310821295, -0.0030000002589076757, -0.0029999997932463884, -0.001999999862164259, -0.003000000026077032, -0.001999999862164259, -0.0030000002589076757, -0.0029999997932463884, -0.0029999997932463884, -0.0020000000949949026, -0.0030000002589076757, -0.001999999862164259, -0.001999999862164259, -0.001999999862164259, -0.0020000003278255463, -0.001999999862164259, -0.0010000001639127731, 0.0010000003967434168, -0.0020000000949949026, -0.0029999997932463884, -0.003000000026077032, -0.0029999997932463884, -0.0029999997932463884, -0.0029999997932463884, -0.003000000026077032, -0.0029999997932463884, -0.0029999997932463884, -0.0020000000949949026, -0.0020000000949949026, -0.0020000000949949026, -0.0020000000949949026, -0.0020000003278255463, -0.001999999862164259, -0.003000000026077032, -0.0029999997932463884, -0.0009999999310821295, -0.0009999999310821295, 0.0009999999310821295, 0.001999999862164259, 0.0009999999310821295, 0.003000000026077032, -0.0009999999310821295, 0.0, 0.009000000078231096, 0.0020000003278255463, 0.0009999999310821295, 0.0010000003967434168, 0.0, 0.0020000003278255463, 0.0, -0.003000000026077032, 0.0, -0.0009999999310821295, 0.0009999999310821295, 0.008000000147148967, 0.008000000147148967, 0.0, -0.0009999999310821295, 0.0, 0.0009999999310821295, 0.0029999997932463884, 0.0009999999310821295], \"v\": [-0.03900000033900142, -0.013999999966472387, 0.07707691984251142, -0.013000000268220901, -0.018000000156462193, -0.019000000320374966, -0.03505000006407499, -0.01066667027771473, -0.02000000001862645, -0.02673736959695816, -0.027181820012629032, -0.01810909016057849, -0.024712129961699247, -0.024818179663270712, -0.02027272991836071, -0.024666659999638796, -0.013625000137835741, -0.011500000488013029, 0.0, 0.0, 0.0, 0.0, 0.0, 0.0009999996982514858, 0.0, -0.0043333303183317184, -0.006000000052154064, -0.006000000052154064, -0.010999999940395355, -0.009999999776482582, -0.007999999448657036, -0.0010000001639127731, 0.0, -0.04906666977331042, -0.005499999970197678, -0.007000000216066837, -0.011999999638646841, -0.02899999963119626, -0.03399999998509884, -0.031000000424683094, -0.03902564011514187, -0.04215383995324373, -0.02000000001862645, -0.005307690240442753, -0.014333339873701334, -0.007999999448657036, -0.007999999914318323, -0.007499999832361937, -0.00800000037997961, -0.03412821050733328, -0.01423077005892992, -0.00699999975040555, -0.007999999914318323, -0.006000000052154064, -0.006000000052154064, -0.007000000216066837, -0.010937499813735485, -0.036869569681584835, -0.043000000063329935, -0.0400000000372529, -0.03235714044421911, -0.026285710278898478, -0.029000000096857548, -0.01500000013038516, -0.038783779833465815, -0.03700000001117587, -0.004999999888241291, -0.005400000140070915, -0.005799999460577965, -0.004999999888241291, -0.029999999795109034, -0.023400000296533108, -0.023000000044703484, -0.029999999795109034, -0.03902563964948058, -0.005500000435858965, -0.014000000432133675, 0.021499999798834324, -0.00570000009611249, -0.002399999648332596, -0.0018571396358311176, -0.001999999862164259, -0.038891890086233616, -0.03348648967221379, -0.05450000008568168, -0.014538459945470095, -0.043189190328121185, -0.042027030140161514, -0.024750000331550837, -0.013999999966472387, -0.016809530090540648, -0.04266667040064931, 0.0, -0.0032500000670552254, -0.006808509584516287, -0.007404259871691465, -0.004191489890217781, -0.006270830053836107, -0.0020638303831219673, -0.026999999769032, -0.02438461035490036, -0.02766667027026415, -0.024000000674277544, -0.031700000166893005, -0.03769999975338578, 0.0, -0.04199999989941716, -0.03547058952972293, -0.003164710011333227, -0.03476470988243818, -0.03239214979112148, -0.024852939881384373, -0.026374999899417162, -0.030499999411404133, -0.030545460060238838, -0.031000000424683094, -0.034999999683350325, -0.03249999973922968, -0.0346666700206697, -0.030142860021442175, -0.0400000000372529, -0.0021379301324486732, -0.03928571008145809, -0.03521429002285004, 0.00699999975040555, -0.028000000398606062, 0.0060000005178153515, -0.013000000268220901, -0.004000000189989805, -0.015250000637024641, 0.004000000189989805, -0.0023833299055695534, 0.07076667016372085, 0.00699999975040555, 0.008750000037252903, -0.036000000312924385, -0.03500000014901161, -0.032999999821186066, 0.014999999664723873, -0.02685713954269886, -0.028428570367395878, 0.003000000026077032, 0.003999999724328518, 0.0025833300314843655, 0.0008666696958243847, 0.0021666698157787323, -0.0013076900504529476, 0.0013153799809515476, -0.0008557699620723724, 0.003769229631870985, 0.00010989001020789146, -0.010999999940395355, -0.004762629978358746, -0.0033333301544189453, -0.005999999586492777, 0.007000000216066837, 0.006000000052154064, 0.006000000052154064, 0.04040000028908253, 0.0044999998062849045, 0.0044999998062849045, 0.006590910255908966, 0.005800000391900539, 0.0061538503505289555, -0.0037142899818718433, 0.007666670251637697, 0.0060000005178153515, 0.006400000303983688, 0.008800000417977571, 0.003000000026077032, 0.0060000005178153515, 0.005499999970197678, 0.005499999970197678, 0.001999999862164259, 0.0014999997802078724, 0.0012000002898275852, -0.00022666994482278824, -0.024642860051244497, 0.0, 0.0, -0.023923079948872328, -0.0206666705198586, 0.001305560115724802, -0.024222220294177532, -0.0061818198300898075, -0.004999999888241291, -0.026666670106351376, -0.008125000167638063, 0.001057140063494444, -0.00912499986588955, -0.01487499987706542, -0.004428569693118334, -0.007071429863572121, -0.0053714304231107235, -0.0037499996833503246, -0.029000000562518835, -0.028000000398606062, -0.03000000026077032, -0.028499999549239874, -0.02899999963119626, -0.028000000398606062, -0.0015784897841513157, 0.0006999997422099113, 0.00699999975040555, -0.001999999862164259, -0.002333329990506172, -0.001199999824166298, -0.0011666701175272465, 0.0014444398693740368, 0.00857143010944128, -0.0008571394719183445, 0.0009000003337860107, 0.002619040198624134, 0.0005714301951229572, 0.0017571402713656425, 0.008874999824911356, 0.011049999855458736, 0.002950000111013651, 0.00271428981795907, -0.003599999938160181, 0.0034761899150907993, 0.0, 0.0029761902987957, -0.007309529930353165, -0.004000000189989805, -0.008166669867932796, -0.007499999832361937, -0.008999999612569809, 0.0010000001639127731, -0.004466670099645853, -0.007999999448657036, -0.0139999995008111, 0.027249999810010195, 0.000380959827452898, 7.143011316657066e-05, 4.761992022395134e-05, -0.000380959827452898, 7.143011316657066e-05, -0.0009999996982514858, 0.001857140101492405, -0.0009285700507462025, -0.0007666698656976223, -0.0005952399224042892, -0.00014285976067185402, 0.0, 0.0, 0.000599999912083149, 0.0001904703676700592, -0.00030952971428632736, 0.0, -0.0015000002458691597, -0.002666669897735119, 0.0010000001639127731, -0.001999999862164259, 0.001999999862164259, 0.0, 0.0010000006295740604, 0.00016666995361447334, -0.009833329357206821, -0.008500000461935997, -0.0010952400043606758, -0.011166670359671116, 0.0, -0.00699999975040555, -0.008999999612569809, 0.0, 0.001999999862164259, -0.0010000001639127731, -0.00699999975040555, -0.013999999966472387, 0.0010000001639127731, -0.001999999862164259, 0.0, 0.001999999862164259, 0.0009999996982514858, 0.0009999996982514858, 0.0, -0.003000000026077032, -0.0009999996982514858, -0.001999999862164259, -0.005000000353902578, 0.0010000001639127731, -0.001999999862164259, 0.001999999862164259, 0.0010000001639127731, -0.02000000001862645, -0.024000000208616257, -0.02199999988079071, -0.015999999828636646, -0.010999999940395355, -0.01000000024214387, -0.004000000189989805, 0.0, -0.001999999862164259, -0.007000000681728125, -0.004999999888241291, -0.001999999862164259, -0.005999999586492777, -0.001999999862164259, -0.006000000052154064, -0.001999999862164259, 0.0, -0.0010000001639127731, -0.004999999888241291, -0.0010000001639127731, -0.003000000026077032, -0.0009999992325901985, -0.003000000026077032, 0.001999999862164259, 0.003000000026077032, 0.001999999862164259, 0.004000000189989805, 0.004000000189989805, 0.0009999996982514858, -0.015999999828636646, -0.013999999966472387, -0.016000000294297934, 0.013999999966472387, 0.0, 0.0, 0.00800000037997961, 0.003999999724328518, -0.007000000216066837, 0.001999999862164259, -0.01699999999254942, 0.008999999612569809, -0.0359999998472631, -0.004000000189989805, -0.0010000001639127731, 0.003000000026077032, -0.004999999888241291, 0.0010000001639127731, 0.0, 0.0010000001639127731, -0.01500000013038516, -0.028000000398606062, -0.004999999888241291, -0.004999999888241291, -0.005999999586492777, -0.005999999586492777, -0.009999999776482582, -0.004999999888241291, 0.08399999979883432, 0.0, -0.0010000001639127731, 0.0, -0.005000000353902578, 0.00699999975040555, -0.018000000156462193, 0.006000000052154064, 0.001999999862164259, 0.0020000003278255463, 0.001999999862164259, 0.001999999862164259, 0.0020000003278255463, 0.0010000001639127731, 0.0010000001639127731, -0.015999999828636646, -0.028000000398606062, 0.0, -0.003000000026077032, -0.001999999862164259, 0.029999999795109034, 0.0, -0.0010000001639127731, 0.0, -0.019000000320374966, 0.004999999888241291, -0.012999999802559614, -0.004999999888241291, -0.0030000004917383194, 0.007000000216066837, -0.003000000026077032, 0.001999999862164259, 0.0, -0.13100000051781535, -0.018000000156462193, -0.02899999963119626, -0.024999999906867743, -0.023000000044703484, -0.001999999862164259, -0.003999999724328518, -0.004999999888241291, 0.0, 0.054999999701976776, 0.0, -0.0009999996982514858, -0.009000000543892384, 0.0, -0.00800000037997961, 0.003000000026077032, 0.0, -0.001999999862164259, 0.0, 0.0010000001639127731, -0.01699999999254942, 0.0, -0.01699999999254942, -0.014999999664723873, -0.012999999336898327, 0.0010000001639127731, 0.0, 0.0009999996982514858, 0.004999999888241291, -0.0009999996982514858, 0.0, -0.003999999724328518, 0.0, 0.001999999862164259, -0.0029999995604157448, -0.0020000003278255463, -0.001999999862164259, 0.0, 0.0, 0.001999999862164259, 0.003000000026077032, -0.003999999724328518, -0.01000000024214387, -0.012000000104308128, -0.0030000004917383194, -0.008999999612569809, -0.014000000432133675, 0.0029999995604157448, 0.004000000189989805, 0.004999999888241291, 0.004999999888241291, 0.005999999586492777, 0.004999999888241291, 0.003999999724328518, 0.003999999724328518, 0.003000000026077032, 0.003999999724328518, 0.003999999724328518, 0.0010000001639127731, 0.0010000001639127731, 0.003000000026077032, 0.006000000052154064, 0.003000000026077032, 0.0010000001639127731, 0.0, 0.003000000026077032, 0.0020000003278255463, 0.001999999862164259, 0.003000000026077032, 0.0, 0.0009999996982514858, 0.0020000003278255463, -0.026999999769032, -0.049000000115484, -0.04500000039115548, -0.043000000063329935, -0.0409999992698431, -0.014000000432133675, -0.04399999976158142, -0.04200000083073974, -0.04199999989941716, -0.03900000033900142, -0.049000000115484, -0.02199999988079071, -0.04199999989941716, -0.013999999966472387, -0.03500000014901161, -0.024999999906867743, -0.03500000014901161, -0.016999999526888132, -0.0009999996982514858, -0.011000000406056643, -0.03099999949336052, 0.0, -0.004999999888241291, -0.01500000013038516, 0.0, -0.0010000001639127731, -0.05599999940022826, -0.0029999995604157448, -0.05599999986588955, -0.0060000005178153515, -0.031000000424683094, -0.02899999963119626, -0.03000000026077032, 0.003000000026077032, -0.0009999992325901985, -0.02500000037252903, -0.004000000189989805, -0.02399999974295497, 0.0010000001639127731, 0.0, 0.02199999988079071, -0.001999999862164259, -0.0029999995604157448, -0.0040000006556510925, -0.016999999526888132, 0.0009999996982514858, -0.001999999862164259, -0.0009999996982514858, -0.012999999802559614, -0.03700000001117587, -0.00699999975040555, -0.02399999974295497, -0.022499999962747097, -0.024999999906867743, -0.029000000562518835, -0.029999999795109034, 0.0, 0.0009999996982514858, 0.0, 0.032999999821186066, 0.0, 0.0, -0.0020000003278255463, -0.0010000001639127731, 0.0, -0.001999999862164259, -0.001999999862164259, -0.0029999995604157448, -0.028000000398606062, -0.006000000052154064, -0.005999999586492777, -0.003000000026077032, -0.003999999724328518, -0.007000000216066837, -0.010999999474734068, -0.004999999888241291, -0.003999999724328518, -0.007000000681728125, -0.001999999862164259, -0.003000000026077032, -0.003999999724328518, -0.0040000006556510925, -0.03799999924376607, -0.04600000008940697, -0.04699999978765845, 0.0, -0.015999999828636646, 0.001999999862164259, -0.003999999724328518, -0.01000000024214387, -0.04399999976158142, -0.030999999959021807, 0.0, -0.02899999963119626, -0.03399999998509884, 0.0, 0.0, -0.024000000674277544, -0.023000000044703484, -0.03799999924376607, -0.0029999995604157448, 0.001999999862164259, -0.0009999992325901985, -0.013999999966472387, -0.021000000182539225, -0.00800000037997961, -0.01699999999254942, -0.032999999821186066, 0.001999999862164259, -0.005000000353902578, -0.003000000026077032, -0.03500000014901161, -0.02899999963119626, -0.009999999776482582, -0.004000000189989805, 0.0, -0.03300000028684735, -0.02199999988079071, -0.021000000182539225, -0.030999999959021807, -0.001999999862164259, -0.0009999996982514858, 0.003999999724328518, 0.0010000006295740604, -0.03200000012293458, -0.03000000026077032, -0.003000000026077032, -0.001999999862164259, 0.0, -0.0010000001639127731, -0.003000000026077032, -0.003000000026077032, -0.0009999992325901985, 0.0, -0.011000000406056643, -0.009999999776482582, 0.0, 0.0010000001639127731, -0.03200000058859587, 0.0, -0.0010000001639127731, 0.0009999992325901985, -0.001999999862164259, -0.004000000189989805, 0.0, 0.0, 0.0, 0.001999999862164259, 0.0010000001639127731, 0.0020000003278255463, 0.0010000001639127731, 0.0020000003278255463, 0.0010000001639127731, 0.001999999862164259, 0.0020000003278255463, 0.001999999862164259, 0.0020000003278255463, 0.0009999996982514858, 0.0009999996982514858, 0.0020000007934868336, 0.0020000003278255463, 0.0010000006295740604, 0.001999999862164259, 0.0009999996982514858, 0.003000000026077032, 0.0009999996982514858, 0.001999999862164259, 0.001999999862164259, 0.0009999996982514858, 0.0009999996982514858, 0.0010000001639127731, 0.0010000001639127731, 0.0009999992325901985, 0.001999999862164259, 0.001999999862164259, 0.0020000003278255463, 0.001999999862164259, 0.0009999996982514858, -0.0009999996982514858, 0.0, 0.0009999996982514858, 0.0010000001639127731, 0.0010000006295740604, -0.0010000001639127731, -0.00699999975040555, -0.02000000001862645, -0.028000000398606062, -0.029000000096857548, 0.001999999862164259, 0.001999999862164259, -0.009999999776482582, -0.003999999724328518, -0.003999999724328518, 0.0, -0.008999999612569809, -0.012000000569969416, -0.003000000026077032, -0.004000000189989805, -0.004000000189989805, -0.001999999862164259, -0.009000000543892384, -0.011999999638646841, -0.02300000051036477, -0.018000000156462193, -0.041000000201165676, -0.01699999999254942, -0.01699999999254942, -0.01500000013038516, -0.015999999828636646], \"w\": [-0.033999999999991815, -0.012999999999976808, -0.01780769230799706, -0.018000000000000682, -0.01700000000002433, -0.02400000000000091, -0.03499999999999659, -0.0030000000000143245, -0.017266666666998276, -0.011762626262012077, -0.01100000000000989, -0.00889090909099366, -0.009909090909005158, -0.009090909090986088, -0.009000000000000341, -0.020999999999986585, -0.016250000000013642, -0.0005000000000165983, 0.0, 0.0010000000000047748, 0.0, -0.0005000000000023874, -0.0010000000000047748, -0.0010000000000047748, 0.0, -0.0020000000000095497, -0.007000000000005002, -0.007000000000005002, -0.010000000000019327, -0.009000000000014552, -0.00899999999998613, 0.0, 0.0010000000000047748, -0.02199999999999136, -0.007000000000005002, -0.01300000000000523, -0.01300000000000523, -0.014000000000010004, -0.015999999999991132, -0.02600000000001046, -0.026025641025995583, -0.025025641025990808, -0.023000000000024556, -0.009999999999990905, -0.018999999999977035, -0.009900000000016007, -0.01500000000001478, -0.01500000000001478, -0.014624999999995225, -0.026435897436016376, -0.002999999999985903, -0.009999999999990905, -0.014000000000010004, -0.01300000000000523, -0.014076923076970616, -0.015999999999991132, -0.013999999999981583, -0.015999999999991132, -0.01785714285699669, -0.010874999999998636, -0.022999999999996135, -0.022071428570995977, -0.022999999999996135, -0.019000000000005457, -0.025000000000005684, -0.016000000000019554, -0.008000000000009777, -0.008199999999987995, -0.011400000000008959, -0.014000000000010004, -0.01500000000001478, -0.007499999999993179, -0.007000000000005002, -0.015999999999991132, -0.025051282050981172, 0.0, -0.004000000000019099, -0.0006666666670014365, -0.0015000000000071623, 0.0002000000000066393, 0.0, 0.000999999999990564, -0.019999999999015472, -0.034270270270013725, -0.01660000000001105, -0.012882783883014781, -0.04689189189198828, -0.06827027027000554, -0.02199999999999136, -0.020000000000010232, -0.01666666666702099, -0.017333333332999246, 0.0, 0.0010000000000047748, 0.0040212765960063734, 0.0025531914889995733, 0.0010212765959636272, 0.0010416666670209906, 0.0003829787229960857, -0.013999999999981583, -0.017461538460992188, -0.01633333333299447, -0.02200000000001978, -0.021100000000018326, -0.018900000000002137, -0.0010999999999796728, -0.0161250000000166, -0.0179779411760137, -0.0017470588240087181, -0.013470588235009018, -0.020215686274013933, -0.021764705882020507, -0.011500000000012278, -0.013599999999996726, -0.01886363636398869, -0.021500000000003183, -0.02400000000000091, -0.024500000000017508, -0.02238333333301057, -0.022952380952006024, -0.03392857142799244, -0.003500000000002501, -0.026999999999986812, -0.026928571429010617, -0.003999999999990678, -0.0215714285710078, 0.0, -0.012000000000000455, -0.01099999999999568, -0.007999999999995566, -0.0049999999999954525, 0.0, -0.029816666667002778, 0.00016666666701325994, 0.0006666666669872257, -0.0297647058829682, -0.030000000000001137, -0.030954545453994342, -0.050499999999999545, -0.02085714285698259, -0.021857142857015788, -0.0015000000000071623, -0.0020000000000095497, 0.0, 0.0005999999999914962, 0.0006666666669872257, 0.0010897435900005803, 0.0008000000000123464, -0.000125000000011255, -0.0009230769230157421, -0.0005714285709927935, -0.014000000000038426, -0.012090909091000412, 0.0013333333329939023, 0.0, 0.0020000000000095497, 0.0020000000000095497, -0.0009999999999763531, -0.07679999999999154, 0.0010000000000047748, 0.002999999999985903, 0.0010909090909763108, 0.0017749999999807642, -0.0010000000000047748, -0.0324081632649893, 0.0006666666670014365, 0.0013333333330081132, -0.0008000000000265572, 0.001999999999981128, 0.0009999999999763531, 0.0009999999999763531, 0.0010000000000047748, 0.0009999999999763531, -0.0010000000000047748, 0.0, -0.0002000000000066393, -0.0007933333330072401, -0.02400000000000091, 0.0010000000000047748, 0.0010000000000047748, -0.019000000000005457, -0.018000000000000682, 0.0010000000000047748, -0.011666666667011327, -0.020636363636015176, -0.018000000000000682, -0.01722222222201708, -0.0028749999999888587, 0.00041428571401525005, -0.008750000000020464, -0.01300000000000523, -0.0022857142859891155, -0.006714285713997015, -0.0015714285709975684, -0.0020000000000095497, -0.020000000000010232, -0.020999999999986585, -0.02199999999999136, -0.022999999999996135, -0.022500000000007958, -0.02400000000000091, -0.013822674419003533, 0.0, -0.02599999999999625, 0.0009999999999763531, 0.000999999999990564, 0.0010000000000047748, 0.0005000000000023874, 0.00022222222199275166, -0.0027619047620106585, -0.0020000000000095497, 0.0010000000000047748, -0.0005714285709927935, -0.003428571429012095, -0.0010000000000047748, -0.003333333332989241, -0.0015250000000008868, 0.0, 0.0010000000000047748, -0.019400000000018736, -0.0013333333329939023, 0.0015000000000071623, 0.0, -0.0049999999999954525, -0.0071666666669898405, -0.007999999999995566, -0.007666666667006439, -0.007999999999995566, -0.005000000000009663, -0.003166666666686524, -0.004000000000019099, -0.006000000000000227, -0.010000000000005116, 0.0009999999999763531, 0.0010000000000047748, 0.0, 0.0010000000000047748, 0.0005476190469835274, 0.0011428571430087686, 7.142857100461697e-05, 0.0010000000000047748, 0.0008666666670080758, 0.0, 0.0011428571430087686, 0.00033333333300333834, 0.0012000000000114142, 0.00010000000000331966, 0.0010714285710093918, 0.0008333333329915149, 0.0010000000000047748, -0.0030000000000001137, -0.0030000000000143245, -0.0030000000000143245, -0.0020000000000095497, -0.003999999999990678, -0.001999999999995339, 0.0, 0.0, -0.0049999999999954525, -0.003999999999990678, -0.0040000000000048885, -0.0018333333329962898, 0.0, -0.0049999999999954525, -0.000999999999990564, -0.0020000000000095497, -0.0020000000000095497, -0.0049999999999954525, -0.0020000000000095497, -0.004000000000019099, -0.0010000000000047748, -0.001999999999995339, 0.0010000000000047748, -0.001999999999995339, -0.000999999999990564, -0.0030000000000143245, -0.0020000000000095497, 0.0, -0.0049999999999954525, -0.0020000000000095497, -0.0010000000000047748, 0.0, -0.0030000000000143245, -0.0030000000000143245, -0.001999999999981128, -0.0049999999999954525, -0.006000000000000227, -0.006000000000000227, -0.003999999999990678, -0.0049999999999954525, -0.0010000000000047748, -0.0030000000000001137, -0.002999999999985903, 0.0, -0.0030000000000001137, -0.0020000000000095497, 0.0, -0.0010000000000047748, 0.0, 0.0, 0.0010000000000047748, 0.000999999999990564, 0.0010000000000047748, 0.0020000000000095497, 0.0020000000000095497, 0.003999999999990678, 0.0030000000000143245, 0.0030000000000143245, 0.0010000000000047748, 0.0020000000000095497, -0.0010000000000047748, 0.0020000000000095497, 0.001999999999995339, 0.0, -0.002999999999985903, -0.003999999999990678, -0.0049999999999954525, -0.0010000000000047748, 0.0, 0.0, 0.0, 0.004000000000019099, 0.0030000000000001137, 0.0, -0.006000000000000227, -0.0020000000000095497, -0.0049999999999954525, -0.0049999999999954525, 0.006000000000000227, -0.001999999999995339, -0.0030000000000143245, 0.0010000000000047748, 0.0020000000000095497, -0.001999999999995339, -0.003999999999990678, -0.010000000000005116, -0.003999999999990678, -0.001999999999995339, -0.002999999999985903, -0.0030000000000001137, 0.03999999999999204, -0.017000000000010118, -0.07200000000001694, -0.0010000000000047748, 0.0010000000000047748, 0.001999999999995339, -0.003999999999990678, -0.002999999999985903, -0.0049999999999954525, -0.0010000000000047748, -0.0030000000000001137, 0.0030000000000001137, -0.0040000000000048885, 0.025999999999982037, 0.0010000000000047748, 0.0, -0.000999999999990564, -0.0030000000000001137, -0.0020000000000095497, 0.0, -0.0010000000000047748, -0.0020000000000095497, -0.017000000000010118, -0.0010000000000047748, -0.0010000000000047748, 0.001999999999995339, -0.0049999999999954525, -0.001999999999995339, 0.0379999999999967, -0.0010000000000047748, -0.015999999999991132, -0.007000000000005002, -0.003999999999990678, -0.0049999999999954525, 0.0, 0.05299999999999727, -0.003999999999990678, -0.006999999999990791, -0.007000000000019213, -0.005000000000009663, -0.0010000000000047748, -0.007999999999995566, -0.00899999999998613, -0.0020000000000095497, -0.03999999999999204, -0.006000000000000227, 0.009000000000000341, -0.042999999999992156, 0.0, -0.001999999999995339, 0.0, 0.0, 0.0030000000000001137, 0.0010000000000047748, 0.001999999999995339, 0.0030000000000001137, 0.0010000000000047748, -0.0020000000000095497, -0.0020000000000095497, -0.0030000000000001137, 0.001999999999995339, 0.0, 0.0030000000000143245, -0.0010000000000047748, -0.0059999999999860165, -0.005000000000009663, -0.0010000000000047748, 0.0010000000000047748, -0.0030000000000001137, -0.001999999999995339, 0.0, -0.0040000000000048885, -0.001999999999981128, -0.0030000000000001137, 0.0, -0.0010000000000047748, -0.0010000000000047748, -0.0009999999999763531, -0.0010000000000047748, -0.0010000000000047748, 0.0, -0.006000000000000227, -0.002999999999985903, -0.0020000000000095497, -0.0030000000000143245, -0.0020000000000095497, -0.0020000000000095497, -0.002999999999985903, -0.0020000000000095497, -0.0020000000000095497, -0.0010000000000047748, -0.0010000000000047748, -0.0010000000000047748, -0.001999999999981128, -0.003999999999990678, -0.0020000000000095497, -0.007000000000005002, -0.0010000000000047748, 0.0, 0.0, -0.0010000000000047748, -0.0010000000000047748, -0.0010000000000047748, 0.0, 0.0, -0.0010000000000047748, -0.0010000000000047748, -0.020000000000010232, -0.03499999999999659, -0.03499999999999659, -0.020999999999986585, -0.03999999999999204, -0.01099999999999568, -0.054000000000002046, -0.08400000000000318, -0.03200000000001069, -0.03299999999998704, -0.04400000000001114, -0.022999999999996135, -0.05699999999998795, -0.033999999999991815, -0.09999999999999432, -0.036000000000001364, -0.033999999999991815, -0.033999999999991815, -0.021000000000015007, -0.019000000000005457, -0.03599999999997294, -0.002999999999985903, -0.011999999999972033, -0.03100000000000591, 0.0, 0.0010000000000047748, -0.057999999999992724, 0.0, -0.05299999999999727, -0.006000000000000227, -0.03300000000001546, -0.033999999999991815, -0.03499999999999659, 0.0020000000000095497, -0.004000000000019099, -0.016000000000019554, 0.0010000000000047748, -0.014999999999986358, 0.0010000000000047748, 0.0, -0.014999999999986358, -0.0010000000000047748, 0.006000000000000227, -0.010000000000019327, -0.01700000000002433, -0.0010000000000047748, -0.012000000000000455, -0.01500000000001478, -0.0030000000000143245, -0.020999999999986585, -0.00899999999998613, -0.02199999999999136, -0.021500000000003183, -0.019000000000005457, -0.016000000000019554, -0.02400000000000091, -0.0010000000000047748, 0.0, -0.001999999999981128, -0.0800000000000125, -0.0010000000000047748, -0.0010000000000047748, 0.0010000000000047748, -0.001999999999981128, -0.003999999999990678, 0.0010000000000047748, 0.0, -0.0010000000000047748, -0.015999999999991132, -0.014999999999986358, -0.01500000000001478, -0.014000000000010004, -0.01700000000002433, -0.009000000000014552, -0.008000000000009777, -0.016000000000019554, -0.020000000000010232, -0.020999999999986585, -0.013999999999981583, -0.014999999999986358, -0.01900000000003388, -0.018000000000029104, -0.020999999999986585, -0.02200000000001978, -0.022999999999996135, 0.0, -0.014499999999998181, -0.0030000000000143245, -0.01999999999998181, -0.018000000000000682, -0.02200000000001978, -0.01799999999997226, -0.003999999999990678, -0.025000000000005684, -0.019000000000005457, 0.0, 0.0, -0.02600000000001046, -0.026499999999998636, -0.028999999999996362, -0.0009999999999763531, -0.0010000000000047748, -0.0010000000000047748, -0.020999999999986585, -0.027000000000015234, -0.016999999999995907, -0.01300000000000523, -0.009999999999990905, -0.002999999999985903, -0.002999999999985903, 0.0020000000000095497, -0.01999999999998181, -0.016999999999995907, -0.018000000000000682, -0.016999999999995907, -0.01099999999999568, -0.020999999999986585, -0.009999999999990905, -0.007999999999981355, -0.019000000000005457, -0.018000000000000682, -0.015999999999991132, -0.0010000000000047748, -0.012000000000028876, -0.027999999999991587, -0.027000000000015234, 0.0010000000000047748, 0.0020000000000095497, -0.0049999999999954525, -0.0009999999999763531, 0.0010000000000047748, 0.0020000000000095497, -0.0010000000000047748, 0.0, -0.006000000000028649, -0.01300000000000523, 0.0, -0.0009999999999763531, -0.028999999999996362, 0.0, 0.0, 0.0010000000000047748, 0.0, 0.0010000000000047748, 0.0010000000000047748, 0.0, 0.0, 0.002999999999985903, -0.0010000000000047748, -0.000999999999990564, -0.001999999999995339, -0.001999999999995339, -0.0020000000000095497, -0.001999999999995339, 0.0, 0.0, 0.0, 0.0, 0.0, -0.0010000000000047748, -0.0010000000000047748, 0.0, -0.0009999999999763531, 0.0010000000000047748, 0.0010000000000047748, 0.0010000000000047748, 0.0, 0.0, 0.0, 0.0, 0.0, -0.0010000000000047748, 0.0, 0.0, 0.0010000000000047748, 0.0010000000000047748, 0.0, 0.0, -0.000999999999990564, -0.0010000000000047748, -0.0010000000000047748, -0.0010000000000047748, -0.0020000000000095497, -0.004000000000019099, -0.010000000000019327, -0.018000000000000682, -0.021000000000015007, -0.01500000000001478, -0.001999999999981128, -0.0010000000000047748, -0.01099999999999568, -0.006000000000000227, -0.0069999999999765805, -0.002999999999985903, -0.009000000000014552, -0.00899999999998613, 0.001999999999981128, -0.0030000000000143245, -0.003999999999990678, 0.0, -0.002999999999985903, -0.006000000000000227, -0.01500000000001478, -0.0049999999999954525, -0.0049999999999954525, -0.009999999999990905, -0.009999999999990905, -0.01099999999999568, -0.011000000000024102], \"x\": [2055322.26044898, 2055342.9189400002, 2055344.57523077, 2055341.59467961, 2055343.32005769, 2055339.66398413, 2055329.79601639, 2055252.1435, 2055254.27, 2055267.89272727, 2055269.83054545, 2055276.18418182, 2055278.43118182, 2055283.75045455, 2055286.11854545, 2055253.55733333, 2055244.4919999999, 2055235.44498333, 2055242.09733333, 2055366.1469999999, 2055359.5669999998, 2055359.53, 2055330.376, 2055330.616, 2055325.237, 2055373.53928571, 2055368.02515789, 2055363.81809023, 2055361.31810526, 2055344.371875, 2055345.83, 2055348.845, 2055362.937, 2055305.3811, 2055352.14525, 2055344.9019999998, 2055340.28, 2055329.0580000002, 2055318.378, 2055321.60808163, 2055317.99720513, 2055309.53397436, 2055333.55457088, 2055355.0790000001, 2055339.28491209, 2055346.0901, 2055346.13, 2055346.1519999998, 2055344.428, 2055317.41494872, 2055316.54096, 2055355.2340000002, 2055346.283, 2055346.237, 2055346.27684615, 2055344.4931, 2055340.458, 2055328.16404348, 2055316.61385714, 2055305.4440000001, 2055321.89495714, 2055328.29028571, 2055333.15112727, 2055339.32820027, 2055301.79604666, 2055327.83535537, 2055353.322, 2055353.3218, 2055346.303, 2055344.487, 2055328.175, 2055318.716, 2055304.9109999998, 2055293.174, 2055309.105, 2055375.052, 2055365.315, 2055358.035, 2055376.8648, 2055376.759, 2055378.596, 2055380.2704, 2055293.60293551, 2055314.83296139, 2055293.14870244, 2055309.54747436, 2055302.31618018, 2055296.89476448, 2055255.10475, 2055262.11117778, 2055279.14417647, 2055284.989, 2055316.906, 2055292.4309999999, 2055279.10621277, 2055276.62406383, 2055279.06087234, 2055276.615875, 2055279.06285106, 2055268.32080769, 2055262.52992308, 2055255.699, 2055262.09, 2055269.5368, 2055279.0479, 2055284.96495, 2055290.940875, 2055290.75341176, 2055284.95564706, 2055279.03152941, 2055269.61641176, 2055262.38470588, 2055290.47075, 2055279.0878, 2055252.78552364, 2055253.2395, 2055261.4952599998, 2055261.53323913, 2055269.38050952, 2055269.06395238, 2055288.21704116, 2055288.63920134, 2055277.87506302, 2055278.40519748, 2055379.465, 2055295.79871429, 2055379.975, 2055322.812875, 2055339.846, 2055342.914, 2055379.968, 2055380.27005, 2055369.705, 2055373.33291667, 2055378.77425, 2055331.22122255, 2055331.20444118, 2055331.02812805, 2055332.9492549, 2055323.72171429, 2055323.87871429, 2055252.87216667, 2055255.33233333, 2055260.99416667, 2055263.42016667, 2055268.80684615, 2055270.81484615, 2055276.11684615, 2055278.72984615, 2055284.24076923, 2055286.55869231, 2055244.49676923, 2055235.44466667, 2055242.736, 2055242.14, 2055320.18908021, 2055320.04710695, 2055320.08452941, 2055330.8474, 2055330.93212903, 2055330.89584767, 2055343.73318182, 2055343.766125, 2055343.63907692, 2055343.7664897998, 2055354.41166667, 2055354.3290000001, 2055354.398, 2055366.8004, 2055366.6409999998, 2055312.4294, 2055312.5869999998, 2055312.615, 2055303.8669999999, 2055304.0744, 2055304.0690000001, 2055302.5447799999, 2055254.24585714, 2055336.64157143, 2055340.25285714, 2055255.10361538, 2055262.16191667, 2055291.80211111, 2055350.9730000002, 2055243.83881818, 2055239.053, 2055255.399, 2055235.226125, 2055235.8857, 2055237.214875, 2055241.709, 2055235.45771429, 2055235.97442857, 2055235.22828571, 2055236.23, 2055252.78594444, 2055253.239, 2055261.495, 2055261.533, 2055269.3794, 2055269.41505555, 2055329.60223256, 2055318.13093333, 2055234.985, 2055237.894, 2055239.229, 2055237.6609999998, 2055239.138, 2055343.477, 2055344.55444444, 2055234.55485714, 2055232.1515, 2055234.40971429, 2055232.45271429, 2055237.29785714, 2055249.2769999998, 2055258.118, 2055267.102, 2055279.94157143, 2055271.4218, 2055245.74841429, 2055244.6940000001, 2055292.866, 2055341.13335714, 2055346.898, 2055346.9430000002, 2055346.737, 2055346.775, 2055324.53214286, 2055324.3268, 2055330.1819999998, 2055330.09142857, 2055363.356, 2055320.18914286, 2055320.04671429, 2055330.8469999998, 2055330.9330000002, 2055330.91621429, 2055343.72464286, 2055343.75557143, 2055354.4030000002, 2055354.3272, 2055354.38907143, 2055366.80171429, 2055366.636, 2055312.4422, 2055312.6005, 2055303.87392857, 2055304.08614286, 2055304.084, 2055366.885, 2055366.573, 2055374.4419999998, 2055366.573, 2055377.356, 2055378.793, 2055378.785, 2055344.632, 2055330.75028571, 2055335.53, 2055346.445, 2055346.42083333, 2055346.833, 2055346.88, 2055346.679, 2055324.639, 2055324.5219999999, 2055330.19, 2055330.112, 2055330.082, 2055341.946, 2055343.0690000001, 2055342.5869999998, 2055359.665, 2055359.744, 2055362.4840000002, 2055362.496, 2055362.459, 2055362.3369999998, 2055362.733, 2055362.705, 2055362.757, 2055309.0480000002, 2055309.053, 2055309.063, 2055296.3830000001, 2055305.485, 2055314.481, 2055330.32, 2055339.208, 2055341.031, 2055342.497, 2055346.4019999998, 2055357.0880000002, 2055367.8059999999, 2055374.239, 2055377.333, 2055377.664, 2055378.9230000002, 2055379.476, 2055379.979, 2055379.983, 2055379.956, 2055379.759, 2055380.0380000002, 2055379.751, 2055378.781, 2055371.374, 2055361.844, 2055346.158, 2055341.244, 2055329.701, 2055323.9780000001, 2055318.271, 2055278.233, 2055268.9640000002, 2055260.1619999998, 2055345.352, 2055340.459, 2055360.955, 2055292.8590000002, 2055292.9840000002, 2055293.034, 2055293.148, 2055341.09, 2055308.529, 2055323.626, 2055292.804, 2055378.6519999998, 2055344.767, 2055320.79, 2055293.804, 2055293.011, 2055344.392, 2055296.332, 2055305.668, 2055284.658, 2055284.658, 2055268.884, 2055260.119, 2055367.9309999999, 2055374.456, 2055379.996, 2055380.019, 2055379.96, 2055380.0259999998, 2055342.501, 2055346.414, 2055335.507, 2055346.3159999999, 2055348.928, 2055357.265, 2055345.054, 2055331.043, 2055323.626, 2055312.291, 2055293.657, 2055296.957, 2055305.73, 2055314.427, 2055377.32, 2055378.9019999998, 2055380.065, 2055379.971, 2055380.0269999998, 2055380.0980000002, 2055330.737, 2055335.5159999998, 2055366.889, 2055374.6830000002, 2055342.524, 2055346.481, 2055378.858, 2055380.086, 2055380.05, 2055380.0680000002, 2055296.876, 2055305.841, 2055314.74, 2055330.894, 2055378.814, 2055366.594, 2055374.9, 2055377.372, 2055378.856, 2055379.956, 2055379.9640000002, 2055377.882, 2055356.2580000001, 2055339.093, 2055346.56, 2055346.27, 2055293.01, 2055293.071, 2055293.1709999999, 2055314.86, 2055325.1430000002, 2055331.121, 2055335.274, 2055341.064, 2055292.771, 2055330.532, 2055310.138, 2055293.491, 2055363.386, 2055363.369, 2055366.7580000001, 2055364.675, 2055344.615, 2055356.11, 2055361.666, 2055342.394, 2055345.174, 2055346.533, 2055346.254, 2055346.265, 2055292.74, 2055292.045, 2055292.4519999998, 2055292.701, 2055296.774, 2055314.8290000001, 2055382.447, 2055380.71, 2055379.15, 2055378.4019999998, 2055377.106, 2055376.149, 2055371.001, 2055370.31, 2055366.0119999999, 2055362.3390000002, 2055359.995, 2055349.07, 2055348.185, 2055336.3669999999, 2055336.42, 2055324.761, 2055323.134, 2055318.594, 2055318.511, 2055324.4730000002, 2055326.573, 2055308.57, 2055307.79, 2055296.03, 2055297.132, 2055317.407, 2055301.784, 2055309.0969999998, 2055293.5869999998, 2055314.8080000002, 2055309.5369999998, 2055302.295, 2055296.874, 2055317.989, 2055309.534, 2055321.586, 2055327.822, 2055333.5359999998, 2055339.269, 2055321.886, 2055328.283, 2055333.1430000002, 2055339.313, 2055342.9130000002, 2055343.3180000002, 2055339.642, 2055344.59, 2055344.1630000002, 2055341.576, 2055339.741, 2055339.865, 2055329.78, 2055329.573, 2055322.237, 2055322.2130000002, 2055331.2230000002, 2055331.1909999999, 2055331.0219999999, 2055332.9430000002, 2055332.936, 2055329.332, 2055329.333, 2055329.381, 2055356.6719999998, 2055356.685, 2055356.8480000002, 2055356.826, 2055269.375, 2055344.755, 2055244.483, 2055363.822, 2055361.3190000001, 2055355.0790000001, 2055316.491, 2055327.771, 2055340.3480000002, 2055255.095, 2055262.146, 2055279.154, 2055277.878, 2055288.2030000002, 2055288.6269999999, 2055320.187, 2055320.045, 2055330.842, 2055330.929, 2055330.8930000002, 2055343.726, 2055343.7580000001, 2055343.757, 2055354.405, 2055354.32, 2055354.389, 2055278.409, 2055344.366, 2055345.824, 2055348.8390000002, 2055346.1230000001, 2055233.947, 2055241.77, 2055346.09, 2055346.1519999998, 2055344.428, 2055355.226, 2055346.274, 2055346.2280000001, 2055346.2680000002, 2055328.176, 2055316.6030000001, 2055305.4440000001, 2055244.486, 2055235.449, 2055244.486, 2055344.4840000002, 2055340.447, 2055305.372, 2055285.035, 2055262.3730000001, 2055284.9540000001, 2055290.9309999999, 2055257.136, 2055261.5669999998, 2055261.4919999999, 2055261.529, 2055277.866, 2055293.59, 2055366.801, 2055366.64, 2055243.855, 2055255.4019999998, 2055239.0669999998, 2055262.3730000001, 2055279.021, 2055269.604, 2055290.7419999999, 2055284.9440000001, 2055318.378, 2055329.0580000002, 2055340.28, 2055344.9019999998, 2055352.145, 2055293.174, 2055304.9109999998, 2055318.716, 2055328.175, 2055344.487, 2055346.303, 2055346.311, 2055353.322, 2055295.7980000002, 2055323.721, 2055366.658, 2055312.44, 2055312.5980000002, 2055312.626, 2055303.878, 2055304.084, 2055304.081, 2055233.2240000002, 2055235.227, 2055237.216, 2055241.71, 2055251.415, 2055323.7869999998, 2055378.1930000002, 2055379.155, 2055384.7319999998, 2055381.501, 2055380.615, 2055379.8080000002, 2055378.8930000002, 2055380.771, 2055262.38, 2055281.82, 2055291.4009999998, 2055300.6619999998, 2055308.635, 2055320.63, 2055329.8190000001, 2055286.852, 2055292.0559999999, 2055298.12, 2055297.655, 2055296.7719999999, 2055302.157, 2055306.855, 2055304.9440000001, 2055308.5259999998, 2055309.908, 2055313.8469999998, 2055317.198, 2055320.552, 2055325.408, 2055328.342, 2055331.4219999998, 2055328.5769999998, 2055326.918, 2055333.476, 2055335.917, 2055346.118, 2055350.629, 2055350.034, 2055346.168, 2055335.299, 2055326.2769999998, 2055322.884, 2055334.8069999998, 2055184.8, 2055207.331, 2055239.285, 2055257.269, 2055274.013, 2055285.281, 2055198.361, 2055198.0590000001, 2055218.92, 2055216.0369999998, 2055216.03, 2055206.4619999998, 2055269.253, 2055273.6809999999, 2055284.3180000002, 2055269.256, 2055273.6830000002, 2055257.2719999999, 2055297.36, 2055294.312, 2055330.4119999998, 2055325.624, 2055325.624, 2055325.229, 2055325.24, 2055326.959, 2055326.961], \"y\": [3179692.24002041, 3179722.4902, 3179713.86192308, 3179702.08153398, 3179713.80840385, 3179700.29389418, 3179694.77302268, 3179683.33966667, 3179683.568, 3179685.84418182, 3179685.86818182, 3179684.33090909, 3179684.29254546, 3179683.09781818, 3179683.14527273, 3179683.41033333, 3179683.392, 3179680.3735, 3179682.75816667, 3179690.1580000003, 3179690.209, 3179696.095, 3179663.818, 3179668.876, 3179664.042, 3179729.2010000004, 3179729.47584211, 3179729.48984211, 3179729.67910526, 3179728.501, 3179729.2789999996, 3179729.385, 3179729.2010000004, 3179681.45031667, 3179728.2405, 3179707.256, 3179694.4669999997, 3179690.9689999996, 3179686.639, 3179689.83402041, 3179688.33152564, 3179684.21015384, 3179694.6385677997, 3179728.38930769, 3179696.49333883, 3179728.314, 3179724.1769999997, 3179715.8985, 3179705.7460000003, 3179689.83812821, 3179685.99435077, 3179728.215, 3179728.195, 3179724.395, 3179715.863, 3179705.615, 3179694.6389375, 3179690.50486957, 3179685.861, 3179681.332, 3179689.58635714, 3179691.91028571, 3179693.6061697, 3179696.42113656, 3179684.17312086, 3179690.68712397, 3179728.1769999997, 3179728.1764, 3179716.0568, 3179705.5, 3179690.613, 3179686.7855, 3179681.185, 3179682.085, 3179685.07702564, 3179728.328, 3179728.378, 3179728.341, 3179724.3032, 3179727.6824, 3179716.2169999997, 3179698.3019999997, 3179684.56360817, 3179693.43286873, 3179678.9117439, 3179691.69653846, 3179692.24547374, 3179692.32088417, 3179684.95825, 3179686.4126, 3179685.32131933, 3179684.13816667, 3179662.542, 3179672.61375, 3179685.24780851, 3179685.77440426, 3179685.27919149, 3179685.73327083, 3179685.25606383, 3179685.655, 3179686.34438461, 3179685.0360000003, 3179686.0930000003, 3179686.8107, 3179685.3057, 3179684.1360000004, 3179683.03125, 3179683.02847059, 3179684.12376471, 3179685.27676471, 3179686.78605882, 3179686.45235294, 3179683.07025, 3179685.2789999996, 3179690.36600546, 3179689.8365, 3179689.9479799997, 3179689.41880435, 3179689.49845238, 3179689.06012771, 3179690.46663559, 3179690.3184735, 3179689.22218487, 3179688.57622269, 3179709.248, 3179706.865, 3179677.047, 3179684.015, 3179689.137, 3179694.31925, 3179687.992, 3179698.30205, 3179675.9669, 3179674.9280000003, 3179673.25575, 3179701.30870968, 3179701.27668984, 3179701.15091463, 3179708.62213726, 3179703.84785714, 3179703.83042857, 3179648.788, 3179648.8710000003, 3179648.81116667, 3179648.80733333, 3179648.39, 3179648.48230769, 3179648.74638462, 3179648.90223077, 3179649.17023077, 3179649.29846154, 3179683.394, 3179680.37294445, 3179675.998, 3179675.837, 3179649.77709091, 3179649.85033155, 3179649.88799465, 3179649.1406, 3179649.24298925, 3179649.19795161, 3179648.40590909, 3179648.4869999997, 3179648.52684615, 3179648.48671429, 3179650.52333333, 3179650.4669999997, 3179650.5086, 3179656.6892, 3179656.829, 3179650.2989999996, 3179650.2, 3179650.2260000003, 3179650.777, 3179650.7610000004, 3179650.78, 3179650.89156, 3179685.34914286, 3179657.289, 3179657.17, 3179684.95692308, 3179686.46466667, 3179651.91044444, 3179649.84422222, 3179683.07918182, 3179681.6319999998, 3179685.00666667, 3179670.822125, 3179678.4978, 3179680.027125, 3179681.719375, 3179671.22442857, 3179678.49657143, 3179670.37557143, 3179670.37175, 3179690.3660000004, 3179689.845, 3179689.9480000003, 3179689.4189999998, 3179689.497, 3179689.06, 3179649.21095349, 3179650.1318, 3179656.811, 3179666.563, 3179673.738, 3179666.295, 3179673.005, 3179648.78255556, 3179660.707, 3179648.61685714, 3179659.4905, 3179649.21871429, 3179659.03542857, 3179647.22514286, 3179648.110625, 3179648.30475, 3179648.19775, 3179648.70728571, 3179648.1862, 3179647.92785714, 3179647.811, 3179669.54885714, 3179680.04714286, 3179683.126, 3179682.7569999998, 3179683.34, 3179682.832, 3179667.14, 3179667.2048, 3179666.9189999998, 3179666.795, 3179714.2210000004, 3179649.77728571, 3179649.85242857, 3179649.14428571, 3179649.24271429, 3179649.18792857, 3179648.412, 3179648.49314286, 3179650.52792857, 3179650.4671, 3179650.51092857, 3179656.69114286, 3179656.828, 3179650.3060000003, 3179650.208, 3179650.78464286, 3179650.77314286, 3179650.78833333, 3179728.1580000003, 3179728.21, 3179728.144, 3179728.21, 3179722.748, 3179713.22, 3179670.8019999997, 3179648.486, 3179691.3039999995, 3179692.1980000003, 3179718.17342857, 3179718.5760000004, 3179683.1180000002, 3179682.749, 3179683.334, 3179667.1119999997, 3179667.14, 3179666.838, 3179666.895, 3179666.792, 3179666.012, 3179666.0, 3179665.894, 3179673.645, 3179673.793, 3179711.111, 3179711.025, 3179711.02, 3179714.4439999997, 3179689.0239999997, 3179689.244, 3179689.307, 3179667.0069999998, 3179667.083, 3179667.164, 3179681.421, 3179681.298, 3179684.854, 3179691.232, 3179693.755, 3179695.163, 3179699.336, 3179718.2169999997, 3179728.245, 3179728.1610000003, 3179728.203, 3179722.545, 3179720.5239999997, 3179712.943, 3179709.244, 3179705.8419999997, 3179693.164, 3179685.3060000003, 3179682.78, 3179679.208, 3179674.752, 3179670.7189999996, 3179659.828, 3179653.7860000003, 3179648.472, 3179648.775, 3179649.202, 3179649.534, 3179650.123, 3179685.2739999997, 3179686.369, 3179686.083, 3179708.898, 3179666.068, 3179675.557, 3179669.5539999995, 3179672.615, 3179676.309, 3179681.577, 3179679.97, 3179668.023, 3179683.216, 3179662.788, 3179706.393, 3179696.165, 3179687.133, 3179681.0069999998, 3179652.3210000005, 3179661.08, 3179681.42, 3179681.308, 3179683.7989999996, 3179683.8, 3179686.334, 3179685.957, 3179728.1119999997, 3179728.1969999997, 3179696.84, 3179693.175, 3179685.14, 3179679.1769999997, 3179699.3030000003, 3179718.558, 3179692.2, 3179727.58, 3179728.251, 3179651.341, 3179648.475, 3179649.276, 3179649.7139999997, 3179650.352, 3179651.397, 3179681.099, 3179681.202, 3179684.526, 3179722.787, 3179713.349, 3179705.04, 3179693.1569999997, 3179685.165, 3179679.24, 3179691.313, 3179692.202, 3179728.211, 3179728.252, 3179699.41, 3179718.5069999998, 3179713.142, 3179705.115, 3179685.3860000004, 3179679.64, 3179681.142, 3179681.352, 3179684.88, 3179691.308, 3179713.2630000003, 3179728.202, 3179728.153, 3179722.788, 3179713.474, 3179684.923, 3179679.539, 3179669.4310000003, 3179728.369, 3179693.682, 3179718.478, 3179727.7630000003, 3179672.547, 3179676.28, 3179681.462, 3179685.168, 3179689.481, 3179691.46, 3179692.2369999997, 3179695.1989999996, 3179662.765, 3179649.32, 3179650.473, 3179651.415, 3179710.942, 3179714.212, 3179728.272, 3179655.61, 3179648.481, 3179728.3639999996, 3179728.236, 3179699.352, 3179707.9839999997, 3179718.472, 3179727.887, 3179722.9439999997, 3179669.937, 3179672.224, 3179676.182, 3179681.7810000004, 3179681.375, 3179685.146, 3179666.966, 3179667.269, 3179664.416, 3179663.409, 3179659.106, 3179658.522, 3179652.995, 3179652.525, 3179649.503, 3179647.3260000004, 3179646.166, 3179643.847, 3179643.562, 3179643.623, 3179642.47, 3179645.039, 3179644.537, 3179644.0039999997, 3179644.628, 3179643.244, 3179644.027, 3179647.39, 3179645.317, 3179645.796, 3179645.689, 3179689.855, 3179684.186, 3179685.095, 3179684.57, 3179693.4469999997, 3179691.713, 3179692.247, 3179692.3210000005, 3179688.349, 3179684.256, 3179689.863, 3179692.15, 3179694.673, 3179696.5, 3179689.6010000003, 3179691.9510000004, 3179693.624, 3179696.4289999995, 3179722.499, 3179713.83, 3179700.317, 3179722.9480000003, 3179711.789, 3179702.0960000004, 3179700.6, 3179700.808, 3179694.8019999997, 3179694.7139999997, 3179692.264, 3179692.1610000003, 3179701.3310000002, 3179701.2819999997, 3179701.165, 3179708.619, 3179708.5939999996, 3179717.035, 3179717.001, 3179719.765, 3179718.127, 3179722.642, 3179718.085, 3179727.152, 3179689.5039999997, 3179714.1380000003, 3179683.403, 3179729.503, 3179729.692, 3179728.389, 3179685.961, 3179690.648, 3179694.645, 3179684.965, 3179686.465, 3179685.356, 3179689.2210000004, 3179690.4760000003, 3179690.328, 3179649.768, 3179649.8419999997, 3179649.137, 3179649.233, 3179649.186, 3179648.401, 3179648.483, 3179648.483, 3179650.519, 3179650.462, 3179650.5039999997, 3179688.5730000003, 3179728.501, 3179729.2789999996, 3179729.385, 3179724.1769999997, 3179688.9280000003, 3179690.1089999997, 3179728.314, 3179715.8989999997, 3179705.7460000003, 3179728.22, 3179728.2010000004, 3179724.4, 3179715.8680000002, 3179690.5089999996, 3179685.861, 3179681.332, 3179683.402, 3179680.367, 3179683.401, 3179705.619, 3179694.639, 3179681.454, 3179684.195, 3179686.459, 3179684.144, 3179683.039, 3179690.1539999996, 3179688.3605, 3179689.9460000005, 3179689.416, 3179689.2339999997, 3179684.559, 3179656.687, 3179656.8239999996, 3179683.082, 3179685.005, 3179681.637, 3179686.457, 3179685.2819999997, 3179686.79, 3179683.0330000003, 3179684.128, 3179686.639, 3179690.9689999996, 3179694.4669999997, 3179707.256, 3179728.2410000004, 3179682.085, 3179681.185, 3179686.785, 3179690.613, 3179705.5, 3179716.057, 3179727.58, 3179728.1769999997, 3179706.865, 3179703.848, 3179656.835, 3179650.2989999996, 3179650.202, 3179650.225, 3179650.777, 3179650.76, 3179650.7819999997, 3179662.433, 3179670.8230000003, 3179680.028, 3179681.72, 3179683.724, 3179703.8310000002, 3179727.0110000004, 3179719.0960000004, 3179687.1560000004, 3179704.672, 3179709.887, 3179714.7189999996, 3179719.363, 3179708.9710000004, 3179611.722, 3179611.84, 3179614.5039999997, 3179618.17, 3179617.334, 3179617.5069999998, 3179612.348, 3179623.0039999997, 3179622.512, 3179620.841, 3179622.3710000003, 3179623.486, 3179624.1789999995, 3179622.914, 3179626.3419999997, 3179618.923, 3179627.626, 3179634.355, 3179634.173, 3179633.91, 3179633.006, 3179626.8060000003, 3179622.2860000003, 3179622.567, 3179621.52, 3179621.8030000003, 3179622.6360000004, 3179627.403, 3179626.204, 3179625.963, 3179623.9760000003, 3179615.749, 3179616.4080000003, 3179618.443, 3179613.624, 3179684.28, 3179694.668, 3179701.483, 3179702.192, 3179704.4680000003, 3179703.327, 3179675.6769999997, 3179676.975, 3179681.4469999997, 3179680.855, 3179680.852, 3179681.2810000004, 3179708.79, 3179708.3060000003, 3179708.0719999997, 3179708.784, 3179708.298, 3179702.1739999996, 3179720.098, 3179722.587, 3179720.512, 3179725.4, 3179725.461, 3179716.37, 3179716.3680000002, 3179713.058, 3179713.057], \"z\": [149.329979591837, 145.7223, 141.951807692308, 142.35635922330098, 145.443230769231, 145.529804232804, 147.260912568306, 124.48100000000001, 124.4546, 126.756818181818, 126.76, 126.73909090909099, 126.734909090909, 126.841090909091, 126.855, 142.288333333333, 142.991, 140.851333333333, 141.16299999999998, 126.264, 126.26100000000001, 126.2505, 126.525, 126.52600000000001, 126.52, 125.215, 131.96447368421101, 131.955736842105, 138.88388421052602, 142.922, 142.09, 142.097, 125.196, 137.4991, 136.333, 136.601, 136.317, 136.53, 136.167, 146.638, 141.702025641026, 141.513025641026, 144.50199152542402, 137.523, 142.801032967033, 137.5259, 137.52, 137.525, 137.518625, 146.501435897436, 137.50996999999998, 133.001, 132.997, 133.092, 133.02807692307698, 133.076, 132.731, 132.825, 132.703857142857, 132.878875, 141.49292, 141.525571428571, 141.031690909091, 141.111070484581, 144.968677902622, 137.503950413223, 128.24, 128.2402, 129.3854, 128.96, 129.019, 128.69899999999998, 128.765, 128.725, 145.146051282051, 125.009, 125.01700000000001, 125.005, 123.331, 125.0258, 125.24, 126.79, 145.084986046511, 149.462806949807, 137.522990243902, 149.677025641026, 151.639436607339, 151.958444015444, 143.46625, 143.45184444444402, 143.461, 142.9755, 127.179, 126.22, 143.111978723404, 139.30444680851102, 137.53697872340402, 135.548958333333, 133.737617021277, 129.921, 130.139961538461, 130.12133333333298, 137.5, 137.4901, 137.5499, 137.70985, 137.620125, 132.125352941176, 131.953647058824, 135.918470588235, 135.751882352941, 137.584764705882, 129.965, 130.2266, 148.968663636364, 145.415, 149.57232, 145.680239130435, 150.088883333333, 146.643293290043, 151.211259079903, 149.53510738255, 150.669428571429, 146.43990336134502, 120.596, 155.240571428571, 127.54700000000001, 127.221, 127.208, 126.9, 127.117, 126.79, 127.18015, 127.191833333333, 127.223333333333, 153.72973705611298, 152.47285561497299, 149.952253325942, 153.57335294117598, 153.099857142857, 154.739857142857, 125.045, 125.01700000000001, 125.044, 125.04, 126.87200000000001, 126.877076923077, 126.838, 126.787, 126.94092307692301, 126.932, 142.99200000000002, 140.85, 120.296, 123.295, 138.111005347594, 135.206417112299, 132.218, 137.8438, 134.843897849462, 131.75660215053801, 138.096909090909, 132.095625, 129.075, 124.999408163265, 137.880333333333, 134.887666666667, 131.8788, 137.36, 134.36, 138.282, 135.15, 132.122, 137.944, 135.016, 131.7152, 127.79746000000002, 144.15, 127.94, 128.106, 143.466, 143.61, 126.225, 127.625666666667, 138.006636363636, 137.958, 137.689222222222, 133.679875, 133.6488, 133.39975, 133.62, 120.594285714286, 129.281714285714, 129.294571428571, 129.281, 148.969, 145.41899999999998, 149.572, 145.68, 150.088, 146.643, 125.782697674419, 126.116, 116.742, 116.74700000000001, 116.68, 109.76899999999999, 109.655, 127.223777777778, 127.178333333333, 127.7, 127.99799999999999, 120.37557142857099, 120.87200000000001, 127.729, 127.76799999999999, 127.923125, 128.142, 118.755, 118.9124, 121.639, 109.82, 107.639, 100.029, 119.698, 114.025, 106.626666666667, 99.854, 116.009, 98.228, 116.19200000000001, 105.39200000000001, 97.14200000000001, 138.132, 135.224, 137.85299999999998, 134.859, 131.840785714286, 138.105857142857, 132.107928571429, 137.891, 134.8948, 131.889, 137.361857142857, 134.369, 138.2978, 135.1635, 137.960928571429, 135.029, 131.728666666667, 109.899, 101.311, 116.53200000000001, 101.311, 101.02799999999999, 111.478, 124.088, 98.19, 114.219, 114.734, 117.708, 114.64983333333299, 119.676, 113.993, 106.583, 123.581, 116.0, 124.13799999999999, 116.17, 105.382, 120.211, 115.335, 103.779, 120.93299999999999, 106.23899999999999, 118.37700000000001, 113.145, 106.677, 113.23299999999999, 124.155, 115.756, 106.728, 122.171, 115.891, 107.89299999999999, 120.21799999999999, 119.964, 119.92, 119.713, 119.743, 119.71600000000001, 117.215, 117.68799999999999, 120.103, 119.962, 120.5, 121.007, 120.759, 121.164, 120.586, 121.01799999999999, 122.117, 122.23899999999999, 124.044, 122.249, 125.184, 124.064, 122.50299999999999, 122.97399999999999, 123.963, 125.14399999999999, 125.743, 126.012, 126.102, 115.56299999999999, 115.70299999999999, 115.67, 109.065, 114.96, 114.88799999999999, 107.635, 107.603, 107.492, 107.57, 114.11200000000001, 115.265, 114.005, 107.941, 124.58, 124.854, 125.23700000000001, 125.23299999999999, 125.23899999999999, 125.213, 117.475, 117.515, 112.07, 112.069, 111.92399999999999, 112.009, 116.93, 116.507, 115.56200000000001, 118.382, 118.39299999999999, 118.43, 114.779, 114.645, 115.041, 109.02, 108.839, 113.039, 113.51, 113.25200000000001, 113.465, 113.958, 113.47399999999999, 113.73, 113.87100000000001, 113.801, 115.435, 115.485, 114.876, 115.38600000000001, 115.329, 115.385, 114.214, 114.728, 109.866, 109.572, 109.338, 109.206, 109.54899999999999, 111.189, 111.652, 111.676, 110.445, 111.133, 111.385, 111.693, 111.436, 101.303, 100.836, 100.98200000000001, 101.064, 103.536, 103.56, 102.22, 101.564, 105.323, 102.48, 100.941, 103.085, 103.115, 103.411, 103.337, 103.86399999999999, 104.066, 104.20100000000001, 103.509, 102.977, 101.54799999999999, 101.868, 102.685, 101.05799999999999, 97.134, 95.85700000000001, 98.2, 98.185, 96.603, 96.104, 99.368, 99.359, 98.794, 97.351, 98.339, 98.0, 98.35799999999999, 98.57600000000001, 98.994, 98.84200000000001, 98.719, 129.51, 134.322, 134.86, 133.855, 133.983, 130.7, 133.863, 130.263, 132.17, 135.49, 131.92600000000002, 134.07299999999998, 131.976, 135.375, 131.678, 135.095, 137.53, 131.69, 136.525, 132.594, 130.664, 137.776, 131.41, 131.458, 133.881, 146.507, 144.975, 145.157, 145.082, 149.465, 149.683, 151.642, 151.97, 141.71, 141.515, 146.656, 145.668, 144.54, 142.811, 141.57299999999998, 141.532, 141.045, 141.12, 145.734, 145.455, 145.53799999999998, 142.44, 142.034, 142.364, 144.994, 143.308, 147.279, 146.045, 149.346, 147.736, 153.732, 152.48, 149.958, 153.576, 151.733, 154.555, 153.424, 154.566, 137.284, 137.27100000000002, 133.19, 134.738, 150.099, 141.955, 142.991, 131.955, 138.877, 137.523, 137.52100000000002, 137.516, 137.515, 143.607, 143.602, 143.61, 150.675, 151.224, 149.54, 138.118, 135.214, 137.842, 134.85, 131.761, 138.095, 132.093, 132.094, 137.878, 134.886, 131.877, 146.447, 142.922, 142.09, 142.097, 137.52, 145.776, 148.11700000000002, 137.526, 137.525, 137.513, 132.999, 133.0, 133.092, 133.02700000000002, 132.822, 132.705, 132.879, 142.989, 140.8575, 142.989, 133.075, 132.731, 137.501, 143.069, 137.584, 137.713, 137.616, 149.289, 144.501, 149.591, 145.6985, 150.68, 145.082, 137.358, 134.358, 138.005, 137.696, 137.958, 137.582, 135.908, 135.753, 132.125, 131.953, 136.167, 136.53, 136.317, 136.601, 136.333, 128.725, 128.765, 128.69899999999998, 129.019, 128.96, 129.386, 129.452, 128.24, 155.237, 153.095, 131.363, 138.284, 135.149, 132.123, 137.946, 135.016, 131.714, 133.674, 133.675, 133.399, 133.615, 133.332, 154.741, 127.042, 127.29700000000001, 128.415, 127.625, 127.691, 127.59299999999999, 125.185, 125.387, 98.885, 94.14, 91.163, 92.258, 90.318, 90.641, 91.292, 108.478, 110.484, 98.92, 109.554, 116.04799999999999, 113.205, 106.094, 117.819, 98.50299999999999, 118.639, 125.975, 127.288, 125.96799999999999, 129.442, 130.644, 123.632, 119.94200000000001, 113.042, 118.396, 123.766, 135.113, 133.99, 128.201, 120.51, 107.056, 102.586, 100.421, 100.125, 146.505, 148.157, 150.21, 151.102, 152.09, 152.806, 145.111, 145.374, 144.10399999999998, 145.555, 144.35399999999998, 146.339, 156.297, 156.523, 157.014, 156.291, 156.518, 151.084, 161.475, 163.247, 155.053, 155.142, 154.149, 155.196, 154.164, 154.178, 152.085]}],                        {\"template\": {\"data\": {\"bar\": [{\"error_x\": {\"color\": \"#2a3f5f\"}, \"error_y\": {\"color\": \"#2a3f5f\"}, \"marker\": {\"line\": {\"color\": \"#E5ECF6\", \"width\": 0.5}}, \"type\": \"bar\"}], \"barpolar\": [{\"marker\": {\"line\": {\"color\": \"#E5ECF6\", \"width\": 0.5}}, \"type\": \"barpolar\"}], \"carpet\": [{\"aaxis\": {\"endlinecolor\": \"#2a3f5f\", \"gridcolor\": \"white\", \"linecolor\": \"white\", \"minorgridcolor\": \"white\", \"startlinecolor\": \"#2a3f5f\"}, \"baxis\": {\"endlinecolor\": \"#2a3f5f\", \"gridcolor\": \"white\", \"linecolor\": \"white\", \"minorgridcolor\": \"white\", \"startlinecolor\": \"#2a3f5f\"}, \"type\": \"carpet\"}], \"choropleth\": [{\"colorbar\": {\"outlinewidth\": 0, \"ticks\": \"\"}, \"type\": \"choropleth\"}], \"contour\": [{\"colorbar\": {\"outlinewidth\": 0, \"ticks\": \"\"}, \"colorscale\": [[0.0, \"#0d0887\"], [0.1111111111111111, \"#46039f\"], [0.2222222222222222, \"#7201a8\"], [0.3333333333333333, \"#9c179e\"], [0.4444444444444444, \"#bd3786\"], [0.5555555555555556, \"#d8576b\"], [0.6666666666666666, \"#ed7953\"], [0.7777777777777778, \"#fb9f3a\"], [0.8888888888888888, \"#fdca26\"], [1.0, \"#f0f921\"]], \"type\": \"contour\"}], \"contourcarpet\": [{\"colorbar\": {\"outlinewidth\": 0, \"ticks\": \"\"}, \"type\": \"contourcarpet\"}], \"heatmap\": [{\"colorbar\": {\"outlinewidth\": 0, \"ticks\": \"\"}, \"colorscale\": [[0.0, \"#0d0887\"], [0.1111111111111111, \"#46039f\"], [0.2222222222222222, \"#7201a8\"], [0.3333333333333333, \"#9c179e\"], [0.4444444444444444, \"#bd3786\"], [0.5555555555555556, \"#d8576b\"], [0.6666666666666666, \"#ed7953\"], [0.7777777777777778, \"#fb9f3a\"], [0.8888888888888888, \"#fdca26\"], [1.0, \"#f0f921\"]], \"type\": \"heatmap\"}], \"heatmapgl\": [{\"colorbar\": {\"outlinewidth\": 0, \"ticks\": \"\"}, \"colorscale\": [[0.0, \"#0d0887\"], [0.1111111111111111, \"#46039f\"], [0.2222222222222222, \"#7201a8\"], [0.3333333333333333, \"#9c179e\"], [0.4444444444444444, \"#bd3786\"], [0.5555555555555556, \"#d8576b\"], [0.6666666666666666, \"#ed7953\"], [0.7777777777777778, \"#fb9f3a\"], [0.8888888888888888, \"#fdca26\"], [1.0, \"#f0f921\"]], \"type\": \"heatmapgl\"}], \"histogram\": [{\"marker\": {\"colorbar\": {\"outlinewidth\": 0, \"ticks\": \"\"}}, \"type\": \"histogram\"}], \"histogram2d\": [{\"colorbar\": {\"outlinewidth\": 0, \"ticks\": \"\"}, \"colorscale\": [[0.0, \"#0d0887\"], [0.1111111111111111, \"#46039f\"], [0.2222222222222222, \"#7201a8\"], [0.3333333333333333, \"#9c179e\"], [0.4444444444444444, \"#bd3786\"], [0.5555555555555556, \"#d8576b\"], [0.6666666666666666, \"#ed7953\"], [0.7777777777777778, \"#fb9f3a\"], [0.8888888888888888, \"#fdca26\"], [1.0, \"#f0f921\"]], \"type\": \"histogram2d\"}], \"histogram2dcontour\": [{\"colorbar\": {\"outlinewidth\": 0, \"ticks\": \"\"}, \"colorscale\": [[0.0, \"#0d0887\"], [0.1111111111111111, \"#46039f\"], [0.2222222222222222, \"#7201a8\"], [0.3333333333333333, \"#9c179e\"], [0.4444444444444444, \"#bd3786\"], [0.5555555555555556, \"#d8576b\"], [0.6666666666666666, \"#ed7953\"], [0.7777777777777778, \"#fb9f3a\"], [0.8888888888888888, \"#fdca26\"], [1.0, \"#f0f921\"]], \"type\": \"histogram2dcontour\"}], \"mesh3d\": [{\"colorbar\": {\"outlinewidth\": 0, \"ticks\": \"\"}, \"type\": \"mesh3d\"}], \"parcoords\": [{\"line\": {\"colorbar\": {\"outlinewidth\": 0, \"ticks\": \"\"}}, \"type\": \"parcoords\"}], \"pie\": [{\"automargin\": true, \"type\": \"pie\"}], \"scatter\": [{\"marker\": {\"colorbar\": {\"outlinewidth\": 0, \"ticks\": \"\"}}, \"type\": \"scatter\"}], \"scatter3d\": [{\"line\": {\"colorbar\": {\"outlinewidth\": 0, \"ticks\": \"\"}}, \"marker\": {\"colorbar\": {\"outlinewidth\": 0, \"ticks\": \"\"}}, \"type\": \"scatter3d\"}], \"scattercarpet\": [{\"marker\": {\"colorbar\": {\"outlinewidth\": 0, \"ticks\": \"\"}}, \"type\": \"scattercarpet\"}], \"scattergeo\": [{\"marker\": {\"colorbar\": {\"outlinewidth\": 0, \"ticks\": \"\"}}, \"type\": \"scattergeo\"}], \"scattergl\": [{\"marker\": {\"colorbar\": {\"outlinewidth\": 0, \"ticks\": \"\"}}, \"type\": \"scattergl\"}], \"scattermapbox\": [{\"marker\": {\"colorbar\": {\"outlinewidth\": 0, \"ticks\": \"\"}}, \"type\": \"scattermapbox\"}], \"scatterpolar\": [{\"marker\": {\"colorbar\": {\"outlinewidth\": 0, \"ticks\": \"\"}}, \"type\": \"scatterpolar\"}], \"scatterpolargl\": [{\"marker\": {\"colorbar\": {\"outlinewidth\": 0, \"ticks\": \"\"}}, \"type\": \"scatterpolargl\"}], \"scatterternary\": [{\"marker\": {\"colorbar\": {\"outlinewidth\": 0, \"ticks\": \"\"}}, \"type\": \"scatterternary\"}], \"surface\": [{\"colorbar\": {\"outlinewidth\": 0, \"ticks\": \"\"}, \"colorscale\": [[0.0, \"#0d0887\"], [0.1111111111111111, \"#46039f\"], [0.2222222222222222, \"#7201a8\"], [0.3333333333333333, \"#9c179e\"], [0.4444444444444444, \"#bd3786\"], [0.5555555555555556, \"#d8576b\"], [0.6666666666666666, \"#ed7953\"], [0.7777777777777778, \"#fb9f3a\"], [0.8888888888888888, \"#fdca26\"], [1.0, \"#f0f921\"]], \"type\": \"surface\"}], \"table\": [{\"cells\": {\"fill\": {\"color\": \"#EBF0F8\"}, \"line\": {\"color\": \"white\"}}, \"header\": {\"fill\": {\"color\": \"#C8D4E3\"}, \"line\": {\"color\": \"white\"}}, \"type\": \"table\"}]}, \"layout\": {\"annotationdefaults\": {\"arrowcolor\": \"#2a3f5f\", \"arrowhead\": 0, \"arrowwidth\": 1}, \"coloraxis\": {\"colorbar\": {\"outlinewidth\": 0, \"ticks\": \"\"}}, \"colorscale\": {\"diverging\": [[0, \"#8e0152\"], [0.1, \"#c51b7d\"], [0.2, \"#de77ae\"], [0.3, \"#f1b6da\"], [0.4, \"#fde0ef\"], [0.5, \"#f7f7f7\"], [0.6, \"#e6f5d0\"], [0.7, \"#b8e186\"], [0.8, \"#7fbc41\"], [0.9, \"#4d9221\"], [1, \"#276419\"]], \"sequential\": [[0.0, \"#0d0887\"], [0.1111111111111111, \"#46039f\"], [0.2222222222222222, \"#7201a8\"], [0.3333333333333333, \"#9c179e\"], [0.4444444444444444, \"#bd3786\"], [0.5555555555555556, \"#d8576b\"], [0.6666666666666666, \"#ed7953\"], [0.7777777777777778, \"#fb9f3a\"], [0.8888888888888888, \"#fdca26\"], [1.0, \"#f0f921\"]], \"sequentialminus\": [[0.0, \"#0d0887\"], [0.1111111111111111, \"#46039f\"], [0.2222222222222222, \"#7201a8\"], [0.3333333333333333, \"#9c179e\"], [0.4444444444444444, \"#bd3786\"], [0.5555555555555556, \"#d8576b\"], [0.6666666666666666, \"#ed7953\"], [0.7777777777777778, \"#fb9f3a\"], [0.8888888888888888, \"#fdca26\"], [1.0, \"#f0f921\"]]}, \"colorway\": [\"#636efa\", \"#EF553B\", \"#00cc96\", \"#ab63fa\", \"#FFA15A\", \"#19d3f3\", \"#FF6692\", \"#B6E880\", \"#FF97FF\", \"#FECB52\"], \"font\": {\"color\": \"#2a3f5f\"}, \"geo\": {\"bgcolor\": \"white\", \"lakecolor\": \"white\", \"landcolor\": \"#E5ECF6\", \"showlakes\": true, \"showland\": true, \"subunitcolor\": \"white\"}, \"hoverlabel\": {\"align\": \"left\"}, \"hovermode\": \"closest\", \"mapbox\": {\"style\": \"light\"}, \"paper_bgcolor\": \"white\", \"plot_bgcolor\": \"#E5ECF6\", \"polar\": {\"angularaxis\": {\"gridcolor\": \"white\", \"linecolor\": \"white\", \"ticks\": \"\"}, \"bgcolor\": \"#E5ECF6\", \"radialaxis\": {\"gridcolor\": \"white\", \"linecolor\": \"white\", \"ticks\": \"\"}}, \"scene\": {\"xaxis\": {\"backgroundcolor\": \"#E5ECF6\", \"gridcolor\": \"white\", \"gridwidth\": 2, \"linecolor\": \"white\", \"showbackground\": true, \"ticks\": \"\", \"zerolinecolor\": \"white\"}, \"yaxis\": {\"backgroundcolor\": \"#E5ECF6\", \"gridcolor\": \"white\", \"gridwidth\": 2, \"linecolor\": \"white\", \"showbackground\": true, \"ticks\": \"\", \"zerolinecolor\": \"white\"}, \"zaxis\": {\"backgroundcolor\": \"#E5ECF6\", \"gridcolor\": \"white\", \"gridwidth\": 2, \"linecolor\": \"white\", \"showbackground\": true, \"ticks\": \"\", \"zerolinecolor\": \"white\"}}, \"shapedefaults\": {\"line\": {\"color\": \"#2a3f5f\"}}, \"ternary\": {\"aaxis\": {\"gridcolor\": \"white\", \"linecolor\": \"white\", \"ticks\": \"\"}, \"baxis\": {\"gridcolor\": \"white\", \"linecolor\": \"white\", \"ticks\": \"\"}, \"bgcolor\": \"#E5ECF6\", \"caxis\": {\"gridcolor\": \"white\", \"linecolor\": \"white\", \"ticks\": \"\"}}, \"title\": {\"x\": 0.05}, \"xaxis\": {\"automargin\": true, \"gridcolor\": \"white\", \"linecolor\": \"white\", \"ticks\": \"\", \"title\": {\"standoff\": 15}, \"zerolinecolor\": \"white\", \"zerolinewidth\": 2}, \"yaxis\": {\"automargin\": true, \"gridcolor\": \"white\", \"linecolor\": \"white\", \"ticks\": \"\", \"title\": {\"standoff\": 15}, \"zerolinecolor\": \"white\", \"zerolinewidth\": 2}}}},                        {\"responsive\": true}                    ).then(function(){\n",
       "                            \n",
       "var gd = document.getElementById('cbb6f0da-511f-47bc-a502-f3959779da6e');\n",
       "var x = new MutationObserver(function (mutations, observer) {{\n",
       "        var display = window.getComputedStyle(gd).display;\n",
       "        if (!display || display === 'none') {{\n",
       "            console.log([gd, 'removed!']);\n",
       "            Plotly.purge(gd);\n",
       "            observer.disconnect();\n",
       "        }}\n",
       "}});\n",
       "\n",
       "// Listen for the removal of the full notebook cells\n",
       "var notebookContainer = gd.closest('#notebook-container');\n",
       "if (notebookContainer) {{\n",
       "    x.observe(notebookContainer, {childList: true});\n",
       "}}\n",
       "\n",
       "// Listen for the clearing of the current output cell\n",
       "var outputEl = gd.closest('.output');\n",
       "if (outputEl) {{\n",
       "    x.observe(outputEl, {childList: true});\n",
       "}}\n",
       "\n",
       "                        })                };                });            </script>        </div>"
      ]
     },
     "metadata": {},
     "output_type": "display_data"
    }
   ],
   "source": [
    "fig.add_trace(go.Cone(\n",
    "    x=df2.x.tolist(),\n",
    "    y=df2.y.tolist(),\n",
    "    z=df2.z.tolist(),\n",
    "    u=df2.u.tolist(),\n",
    "    v=df2.v.tolist(),\n",
    "    w=df2.w.tolist(),\n",
    "    colorscale='pinkyl',\n",
    "    sizemode=\"absolute\",\n",
    "    text=df2.cible,\n",
    "    sizeref=350,\n",
    "    )\n",
    ")"
   ]
  },
  {
   "cell_type": "code",
   "execution_count": 30,
   "metadata": {},
   "outputs": [],
   "source": [
    "colors = {\"background\": \"#222222\", \"text\": \"white\"}"
   ]
  },
  {
   "cell_type": "code",
   "execution_count": 32,
   "metadata": {},
   "outputs": [
    {
     "data": {
      "application/vnd.plotly.v1+json": {
       "config": {
        "plotlyServerURL": "https://plot.ly"
       },
       "data": [
        {
         "customdata": [
          [
           "Auto-AC11a",
           "Hors secteur"
          ],
          [
           "Auto-AC1Ba",
           "Hors secteur"
          ],
          [
           "Auto-AC311a",
           "Hors secteur"
          ],
          [
           "Auto-AC32a",
           "Hors secteur"
          ],
          [
           "Auto-AC5Ba",
           "Hors secteur"
          ],
          [
           "Auto-AC7Ba",
           "Hors secteur"
          ],
          [
           "Auto-AC9a",
           "Hors secteur"
          ],
          [
           "Auto-B11a",
           "Hors secteur"
          ],
          [
           "Auto-B12a",
           "Hors secteur"
          ],
          [
           "Auto-B41a",
           "Hors secteur"
          ],
          [
           "Auto-B42a",
           "Hors secteur"
          ],
          [
           "Auto-B51a",
           "Hors secteur"
          ],
          [
           "Auto-B52a",
           "Hors secteur"
          ],
          [
           "Auto-B61a",
           "Hors secteur"
          ],
          [
           "Auto-B62a",
           "Hors secteur"
          ],
          [
           "Auto-BAPM.4a",
           "Hors secteur"
          ],
          [
           "Auto-BAPM1.1a",
           "Hors secteur"
          ],
          [
           "Auto-BAPM2.1a",
           "Hors secteur"
          ],
          [
           "Auto-BAPM3.1a",
           "Hors secteur"
          ],
          [
           "Auto-G11a",
           "Hors secteur"
          ],
          [
           "Auto-G12a",
           "Hors secteur"
          ],
          [
           "Auto-G13a",
           "Hors secteur"
          ],
          [
           "Auto-GR2.1a",
           "Hors secteur"
          ],
          [
           "Auto-GR2.2a",
           "Hors secteur"
          ],
          [
           "Auto-GR2.3a",
           "Hors secteur"
          ],
          [
           "Auto-MS20a",
           "Hors secteur"
          ],
          [
           "Auto-MS21a",
           "Hors secteur"
          ],
          [
           "Auto-MS22a",
           "Hors secteur"
          ],
          [
           "Auto-MS25a",
           "Hors secteur"
          ],
          [
           "Auto-MS26a",
           "Hors secteur"
          ],
          [
           "Auto-MS27a",
           "Hors secteur"
          ],
          [
           "Auto-MS31a",
           "Hors secteur"
          ],
          [
           "Auto-MS32a",
           "Hors secteur"
          ],
          [
           "Auto-PC1.1a",
           "Hors secteur"
          ],
          [
           "Auto-PC101a",
           "Hors secteur"
          ],
          [
           "Auto-PC105a",
           "Hors secteur"
          ],
          [
           "Auto-PC106a",
           "Hors secteur"
          ],
          [
           "Auto-PC107a",
           "Hors secteur"
          ],
          [
           "Auto-PC108a",
           "Hors secteur"
          ],
          [
           "Auto-PC10a",
           "Hors secteur"
          ],
          [
           "Auto-PC111a",
           "Hors secteur"
          ],
          [
           "Auto-PC112a",
           "Hors secteur"
          ],
          [
           "Auto-PC11a",
           "Hors secteur"
          ],
          [
           "Auto-PC12a",
           "Hors secteur"
          ],
          [
           "Auto-PC13.1a",
           "Hors secteur"
          ],
          [
           "Auto-PC13a",
           "Hors secteur"
          ],
          [
           "Auto-PC14.1a",
           "Hors secteur"
          ],
          [
           "Auto-PC15.1a",
           "Hors secteur"
          ],
          [
           "Auto-PC16.1a",
           "Hors secteur"
          ],
          [
           "Auto-PC17.1a",
           "Hors secteur"
          ],
          [
           "Auto-PC1A",
           "Hors secteur"
          ],
          [
           "Auto-PC2.1a",
           "Hors secteur"
          ],
          [
           "Auto-PC201a",
           "Hors secteur"
          ],
          [
           "Auto-PC202a",
           "Hors secteur"
          ],
          [
           "Auto-PC203a",
           "Hors secteur"
          ],
          [
           "Auto-PC204a",
           "Hors secteur"
          ],
          [
           "Auto-PC205a",
           "Hors secteur"
          ],
          [
           "Auto-PC206a",
           "Hors secteur"
          ],
          [
           "Auto-PC207a",
           "Hors secteur"
          ],
          [
           "Auto-PC208a",
           "Hors secteur"
          ],
          [
           "Auto-PC209a",
           "Hors secteur"
          ],
          [
           "Auto-PC21a",
           "Hors secteur"
          ],
          [
           "Auto-PC22a",
           "Hors secteur"
          ],
          [
           "Auto-PC23a",
           "Hors secteur"
          ],
          [
           "Auto-PC23Ba",
           "Hors secteur"
          ],
          [
           "Auto-PC2a",
           "Hors secteur"
          ],
          [
           "Auto-PC3.1a",
           "Hors secteur"
          ],
          [
           "Auto-PC301a",
           "Hors secteur"
          ],
          [
           "Auto-PC302a",
           "Hors secteur"
          ],
          [
           "Auto-PC304a",
           "Hors secteur"
          ],
          [
           "Auto-PC305a",
           "Hors secteur"
          ],
          [
           "Auto-PC307a",
           "Hors secteur"
          ],
          [
           "Auto-PC308a",
           "Hors secteur"
          ],
          [
           "Auto-PC309a",
           "Hors secteur"
          ],
          [
           "Auto-PC310a",
           "Hors secteur"
          ],
          [
           "Auto-PC3a",
           "Hors secteur"
          ],
          [
           "Auto-PC401a",
           "Hors secteur"
          ],
          [
           "Auto-PC402a",
           "Hors secteur"
          ],
          [
           "Auto-PC403a",
           "Hors secteur"
          ],
          [
           "Auto-PC450a",
           "Hors secteur"
          ],
          [
           "Auto-PC451a",
           "Hors secteur"
          ],
          [
           "Auto-PC452a",
           "Hors secteur"
          ],
          [
           "Auto-PC453a",
           "Hors secteur"
          ],
          [
           "Auto-PC4a",
           "Hors secteur"
          ],
          [
           "Auto-PC5a",
           "Hors secteur"
          ],
          [
           "Auto-PC6.1a",
           "Hors secteur"
          ],
          [
           "Auto-PC6A",
           "Hors secteur"
          ],
          [
           "Auto-PC7.1a",
           "Hors secteur"
          ],
          [
           "Auto-PC7a",
           "Hors secteur"
          ],
          [
           "Auto-PC8a",
           "Hors secteur"
          ],
          [
           "Auto-PCBA.1a",
           "Hors secteur"
          ],
          [
           "Auto-PCBA.2a",
           "Hors secteur"
          ],
          [
           "Auto-PCBA.3a",
           "Hors secteur"
          ],
          [
           "Auto-PCBA.4a",
           "Hors secteur"
          ],
          [
           "Auto-PD1a",
           "Hors secteur"
          ],
          [
           "Auto-PD2.a",
           "Hors secteur"
          ],
          [
           "Auto-PL101a",
           "Hors secteur"
          ],
          [
           "Auto-PL202a",
           "Hors secteur"
          ],
          [
           "Auto-PL301a",
           "Hors secteur"
          ],
          [
           "Auto-PL402a",
           "Hors secteur"
          ],
          [
           "Auto-PL501a",
           "Hors secteur"
          ],
          [
           "Auto-PM.603a",
           "Hors secteur"
          ],
          [
           "Auto-PM.604a",
           "Hors secteur"
          ],
          [
           "Auto-PM.605a",
           "Hors secteur"
          ],
          [
           "Auto-PM209a",
           "Hors secteur"
          ],
          [
           "Auto-PM210a",
           "Hors secteur"
          ],
          [
           "Auto-PM211a",
           "Hors secteur"
          ],
          [
           "Auto-PM212a",
           "Hors secteur"
          ],
          [
           "Auto-PM213a",
           "Hors secteur"
          ],
          [
           "Auto-PM301a",
           "Hors secteur"
          ],
          [
           "Auto-PM302a",
           "Hors secteur"
          ],
          [
           "Auto-PM303a",
           "Hors secteur"
          ],
          [
           "Auto-PM304a",
           "Hors secteur"
          ],
          [
           "Auto-PM305a",
           "Hors secteur"
          ],
          [
           "Auto-PM601a",
           "Hors secteur"
          ],
          [
           "Auto-PM602a",
           "Hors secteur"
          ],
          [
           "Auto-PMS.1a",
           "Hors secteur"
          ],
          [
           "Auto-PMS1.2a",
           "Hors secteur"
          ],
          [
           "Auto-PMS2.1a",
           "Hors secteur"
          ],
          [
           "Auto-PMS2.2a",
           "Hors secteur"
          ],
          [
           "Auto-PMS3.1a",
           "Hors secteur"
          ],
          [
           "Auto-PMS3.2a",
           "Hors secteur"
          ],
          [
           "Auto-PMS4.1a",
           "Hors secteur"
          ],
          [
           "Auto-PMS4.2a",
           "Hors secteur"
          ],
          [
           "Auto-PMS5.1a",
           "Hors secteur"
          ],
          [
           "Auto-PMS5.2a",
           "Hors secteur"
          ],
          [
           "Auto-PR14.1a",
           "Hors secteur"
          ],
          [
           "Auto-RN7.1a",
           "Hors secteur"
          ],
          [
           "Auto-TREM1a",
           "Hors secteur"
          ],
          [
           "Auto-TREM2.1a",
           "Hors secteur"
          ],
          [
           "Auto-TREM2.2a",
           "Hors secteur"
          ],
          [
           "Auto-TREM2.3a",
           "Hors secteur"
          ],
          [
           "Auto-TREM2a",
           "Hors secteur"
          ],
          [
           "Auto-TREM3.a",
           "Hors secteur"
          ],
          [
           "Auto-TREM4.a",
           "Hors secteur"
          ],
          [
           "Auto-TREM5a",
           "Hors secteur"
          ],
          [
           "Auto-TREM6a",
           "Hors secteur"
          ],
          [
           "Auto-VJ1a",
           "Hors secteur"
          ],
          [
           "Auto-VJ2a",
           "Hors secteur"
          ],
          [
           "Auto-VJ3a",
           "Hors secteur"
          ],
          [
           "Auto-VJ4a",
           "Hors secteur"
          ],
          [
           "Auto-VJ6a",
           "Hors secteur"
          ],
          [
           "Auto-VJ7a",
           "Hors secteur"
          ],
          [
           "Auto-B13b",
           "Hors secteur"
          ],
          [
           "Auto-B14b",
           "Hors secteur"
          ],
          [
           "Auto-B23b",
           "Hors secteur"
          ],
          [
           "Auto-B24b",
           "Hors secteur"
          ],
          [
           "Auto-B43b",
           "Hors secteur"
          ],
          [
           "Auto-B44b",
           "Hors secteur"
          ],
          [
           "Auto-B53b",
           "Hors secteur"
          ],
          [
           "Auto-B54b",
           "Hors secteur"
          ],
          [
           "Auto-B63b",
           "Hors secteur"
          ],
          [
           "Auto-B64b",
           "Hors secteur"
          ],
          [
           "Auto-BAPM1.1b",
           "Hors secteur"
          ],
          [
           "Auto-BAPM2.1b",
           "Hors secteur"
          ],
          [
           "Auto-DB1b",
           "Hors secteur"
          ],
          [
           "Auto-DB2b",
           "Hors secteur"
          ],
          [
           "Auto-F1.1b",
           "Hors secteur"
          ],
          [
           "Auto-F1.2b",
           "Hors secteur"
          ],
          [
           "Auto-F1.3b",
           "Hors secteur"
          ],
          [
           "Auto-F1.4b",
           "Hors secteur"
          ],
          [
           "Auto-F2.1b",
           "Hors secteur"
          ],
          [
           "Auto-F2.2b",
           "Hors secteur"
          ],
          [
           "Auto-F2.3b",
           "Hors secteur"
          ],
          [
           "Auto-F2.4b",
           "Hors secteur"
          ],
          [
           "Auto-F3.1b",
           "Hors secteur"
          ],
          [
           "Auto-F3.2b",
           "Hors secteur"
          ],
          [
           "Auto-F3.3b",
           "Hors secteur"
          ],
          [
           "Auto-F3.4b",
           "Hors secteur"
          ],
          [
           "Auto-F4.1b",
           "Hors secteur"
          ],
          [
           "Auto-F4.2b",
           "Hors secteur"
          ],
          [
           "Auto-F4.3b",
           "Hors secteur"
          ],
          [
           "Auto-F5.1b",
           "Hors secteur"
          ],
          [
           "Auto-F5.2b",
           "Hors secteur"
          ],
          [
           "Auto-F6.1b",
           "Hors secteur"
          ],
          [
           "Auto-F6.2b",
           "Hors secteur"
          ],
          [
           "Auto-F6.3b",
           "Hors secteur"
          ],
          [
           "Auto-F7.1b",
           "Hors secteur"
          ],
          [
           "Auto-F7.2b",
           "Hors secteur"
          ],
          [
           "Auto-F7.3b",
           "Hors secteur"
          ],
          [
           "Auto-F7.4b",
           "Hors secteur"
          ],
          [
           "Auto-GR.2b",
           "Hors secteur"
          ],
          [
           "Auto-GR3b",
           "Hors secteur"
          ],
          [
           "Auto-GR4b",
           "Hors secteur"
          ],
          [
           "Auto-PCBA.1b",
           "Hors secteur"
          ],
          [
           "Auto-PCBA.2b",
           "Hors secteur"
          ],
          [
           "Auto-PD.3b",
           "Hors secteur"
          ],
          [
           "Auto-PD.4b",
           "Hors secteur"
          ],
          [
           "Auto-PM102b",
           "Hors secteur"
          ],
          [
           "Auto-PM103b",
           "Hors secteur"
          ],
          [
           "Auto-PM201b",
           "Hors secteur"
          ],
          [
           "Auto-PM401b",
           "Hors secteur"
          ],
          [
           "Auto-PM402b",
           "Hors secteur"
          ],
          [
           "Auto-PM403b",
           "Hors secteur"
          ],
          [
           "Auto-PM404b",
           "Hors secteur"
          ],
          [
           "Auto-PM501b",
           "Hors secteur"
          ],
          [
           "Auto-PM615b",
           "Hors secteur"
          ],
          [
           "Auto-PM616b",
           "Hors secteur"
          ],
          [
           "Auto-PM617b",
           "Hors secteur"
          ],
          [
           "Auto-PMS.1b",
           "Hors secteur"
          ],
          [
           "Auto-PMS1.2b",
           "Hors secteur"
          ],
          [
           "Auto-PMS2.1b",
           "Hors secteur"
          ],
          [
           "Auto-PMS2.2b",
           "Hors secteur"
          ],
          [
           "Auto-PMS3.1b",
           "Hors secteur"
          ],
          [
           "Auto-PMS3.2b",
           "Hors secteur"
          ],
          [
           "Auto-REFSS6b",
           "Hors secteur"
          ],
          [
           "Auto-REFSS7b",
           "Hors secteur"
          ],
          [
           "Auto-TQ101b",
           "Hors secteur"
          ],
          [
           "Auto-TQ102b",
           "Hors secteur"
          ],
          [
           "Auto-TQ103b",
           "Hors secteur"
          ],
          [
           "Auto-TQ202b",
           "Hors secteur"
          ],
          [
           "Auto-TQ203b",
           "Hors secteur"
          ],
          [
           "Auto-TREM18.1b",
           "Hors secteur"
          ],
          [
           "Auto-TREM18.2b",
           "Hors secteur"
          ],
          [
           "Auto-US101b",
           "Hors secteur"
          ],
          [
           "Auto-US102b",
           "Hors secteur"
          ],
          [
           "Auto-US201b",
           "Hors secteur"
          ],
          [
           "Auto-US202b",
           "Hors secteur"
          ],
          [
           "Auto-UV101b",
           "Hors secteur"
          ],
          [
           "Auto-UV102b",
           "Hors secteur"
          ],
          [
           "Auto-UV103b",
           "Hors secteur"
          ],
          [
           "Auto-UV104b",
           "Hors secteur"
          ],
          [
           "Auto-UV201b",
           "Hors secteur"
          ],
          [
           "Auto-UV202b",
           "Hors secteur"
          ],
          [
           "Auto-UV203b",
           "Hors secteur"
          ],
          [
           "Auto-UV303b",
           "Hors secteur"
          ],
          [
           "Auto-BA2.1d",
           "Hors secteur"
          ],
          [
           "Auto-BARET10.1d",
           "Hors secteur"
          ],
          [
           "Auto-BARET11.1d",
           "Hors secteur"
          ],
          [
           "Auto-BARET11.2d",
           "Hors secteur"
          ],
          [
           "Auto-BARET11.3d",
           "Hors secteur"
          ],
          [
           "Auto-BARET11.7d",
           "Hors secteur"
          ],
          [
           "Auto-BARET2.2d",
           "Hors secteur"
          ],
          [
           "Auto-BARET2.7d",
           "Hors secteur"
          ],
          [
           "Auto-BARET3.2d",
           "Hors secteur"
          ],
          [
           "Auto-BARET3.3d",
           "Hors secteur"
          ],
          [
           "Auto-BARET9.7d",
           "Hors secteur"
          ],
          [
           "Auto-F1.1d",
           "Hors secteur"
          ],
          [
           "Auto-F1.2d",
           "Hors secteur"
          ],
          [
           "Auto-F2.1d",
           "Hors secteur"
          ],
          [
           "Auto-F2.2d",
           "Hors secteur"
          ],
          [
           "Auto-F2.3d",
           "Hors secteur"
          ],
          [
           "Auto-F3.1d",
           "Hors secteur"
          ],
          [
           "Auto-F3.2d",
           "Hors secteur"
          ],
          [
           "Auto-F4.1d",
           "Hors secteur"
          ],
          [
           "Auto-F4.2d",
           "Hors secteur"
          ],
          [
           "Auto-F4.3d",
           "Hors secteur"
          ],
          [
           "Auto-F5.1d",
           "Hors secteur"
          ],
          [
           "Auto-F5.2d",
           "Hors secteur"
          ],
          [
           "Auto-F6.1d",
           "Hors secteur"
          ],
          [
           "Auto-F6.2d",
           "Hors secteur"
          ],
          [
           "Auto-F7.1d",
           "Hors secteur"
          ],
          [
           "Auto-F7.2d",
           "Hors secteur"
          ],
          [
           "Auto-F7.3d",
           "Hors secteur"
          ],
          [
           "Auto-P11.3d",
           "Hors secteur"
          ],
          [
           "Auto-P11.4d",
           "Hors secteur"
          ],
          [
           "Auto-P12.2d",
           "Hors secteur"
          ],
          [
           "Auto-P12.8d",
           "Hors secteur"
          ],
          [
           "Auto-P120.6d",
           "Hors secteur"
          ],
          [
           "Auto-P130.5d",
           "Hors secteur"
          ],
          [
           "Auto-P17.1d",
           "Hors secteur"
          ],
          [
           "Auto-P20.7d",
           "Hors secteur"
          ],
          [
           "Auto-P5.3d",
           "Hors secteur"
          ],
          [
           "Auto-P50.3d",
           "Hors secteur"
          ],
          [
           "Auto-P9.1d",
           "Hors secteur"
          ],
          [
           "Auto-P9.2d",
           "Hors secteur"
          ],
          [
           "Sd-BARET11.1",
           "Hors secteur"
          ],
          [
           "Sd-BARET11.2",
           "Hors secteur"
          ],
          [
           "Sd-BARET11.3",
           "Hors secteur"
          ],
          [
           "Sd-BARET2.1",
           "Hors secteur"
          ],
          [
           "Sd-BARET2.2",
           "Hors secteur"
          ],
          [
           "Sd-BARET3.1",
           "Hors secteur"
          ],
          [
           "Sd-BARET3.2",
           "Hors secteur"
          ],
          [
           "Sd-BARET3.3",
           "Hors secteur"
          ],
          [
           "Sd-BARET4.1",
           "Hors secteur"
          ],
          [
           "Sd-BARET4.2",
           "Hors secteur"
          ],
          [
           "Sd-BARET4.3",
           "Hors secteur"
          ],
          [
           "Sd-BARET5.1",
           "Hors secteur"
          ],
          [
           "Sd-BARET5.3",
           "Hors secteur"
          ],
          [
           "Sd-BARET8.1",
           "Hors secteur"
          ],
          [
           "Sd-BARET8.2",
           "Hors secteur"
          ],
          [
           "Sd-BARET8.3",
           "Hors secteur"
          ],
          [
           "Sd-BARET9.2",
           "Hors secteur"
          ],
          [
           "Sd-BARET6.1",
           "Hors secteur"
          ],
          [
           "Sd-BARET6.2",
           "Hors secteur"
          ],
          [
           "Sd-BARET6.3",
           "Hors secteur"
          ],
          [
           "Sd-BARET1.1",
           "Hors secteur"
          ],
          [
           "Sd-BARET1.2",
           "Hors secteur"
          ],
          [
           "Sd-BARET1.3",
           "Hors secteur"
          ],
          [
           "Sd-P1.1",
           "Hors secteur"
          ],
          [
           "Sd-P2.1",
           "Hors secteur"
          ],
          [
           "Sd-P3.1",
           "Hors secteur"
          ],
          [
           "Sd-P5.1",
           "Hors secteur"
          ],
          [
           "Sd-P6.1",
           "Hors secteur"
          ],
          [
           "Sd-P7.1",
           "Hors secteur"
          ],
          [
           "Sd-P8.1",
           "Hors secteur"
          ],
          [
           "Sd-P9.1",
           "Hors secteur"
          ],
          [
           "Sd-P10.1",
           "Hors secteur"
          ],
          [
           "Sd-P11.1",
           "Hors secteur"
          ],
          [
           "Sd-P12.1",
           "Hors secteur"
          ],
          [
           "Sd-P120.1",
           "Hors secteur"
          ],
          [
           "Sd-P13.1",
           "Hors secteur"
          ],
          [
           "Sd-P130.1",
           "Hors secteur"
          ],
          [
           "Sd-P14.1",
           "Hors secteur"
          ],
          [
           "Sd-P140.1",
           "Hors secteur"
          ],
          [
           "Sd-P142.1",
           "Hors secteur"
          ],
          [
           "Sd-P143.1",
           "Hors secteur"
          ],
          [
           "Sd-P15.1",
           "Hors secteur"
          ],
          [
           "Sd-P150.1",
           "Hors secteur"
          ],
          [
           "Sd-P16.1",
           "Hors secteur"
          ],
          [
           "Sd-P17.1",
           "Hors secteur"
          ],
          [
           "Sd-P18.1",
           "Hors secteur"
          ],
          [
           "Sd-P19.1",
           "Hors secteur"
          ],
          [
           "Sd-P20.1",
           "Hors secteur"
          ],
          [
           "Sd-P21.1",
           "Hors secteur"
          ],
          [
           "Sd-P22.1",
           "Hors secteur"
          ],
          [
           "Sd-P23.1",
           "Hors secteur"
          ],
          [
           "Sd-P24.1",
           "Hors secteur"
          ],
          [
           "Sd-PM.703",
           "Hors secteur"
          ],
          [
           "Sd-PM.704",
           "Hors secteur"
          ],
          [
           "Sd-PM.705",
           "Hors secteur"
          ],
          [
           "Sd-PM.706",
           "Hors secteur"
          ],
          [
           "Sd-P80.1",
           "Hors secteur"
          ],
          [
           "Sd-PIL4A.1",
           "Hors secteur"
          ],
          [
           "Sd-PIL5C.1",
           "Hors secteur"
          ],
          [
           "Sd-BA2.1",
           "Hors secteur"
          ],
          [
           "Sd-BA3.1",
           "Hors secteur"
          ],
          [
           "Sd-BA4.1",
           "Hors secteur"
          ],
          [
           "Sd-BA5.1",
           "Hors secteur"
          ],
          [
           "Sd-PIL10.1",
           "Hors secteur"
          ],
          [
           "Sd-PIL2A.1",
           "Hors secteur"
          ],
          [
           "Sd-PIL8.1",
           "Hors secteur"
          ],
          [
           "Sd-BA1.1",
           "Hors secteur"
          ],
          [
           "Sd-PSDALLE.6",
           "Hors secteur"
          ],
          [
           "Sd-PSDALLE.1",
           "Hors secteur"
          ],
          [
           "Sd-PSDALLE.2",
           "Hors secteur"
          ],
          [
           "Sd-PSDALLE.3",
           "Hors secteur"
          ],
          [
           "Sd-PSDALLE.4",
           "Hors secteur"
          ],
          [
           "Sd-PSDALLE.7",
           "Hors secteur"
          ],
          [
           "Sd-P1.2",
           "Hors secteur"
          ],
          [
           "Sd-P2.2",
           "Hors secteur"
          ],
          [
           "Sd-PM.707",
           "Hors secteur"
          ],
          [
           "Sd-PM.708",
           "Hors secteur"
          ],
          [
           "Sd-PM.709",
           "Hors secteur"
          ],
          [
           "Sd-PM.710",
           "Hors secteur"
          ],
          [
           "Sd-P11.2",
           "Hors secteur"
          ],
          [
           "Sd-P12.2",
           "Hors secteur"
          ],
          [
           "Sd-P141.2",
           "Hors secteur"
          ],
          [
           "Sd-P142.2",
           "Hors secteur"
          ],
          [
           "Sd-P143.2",
           "Hors secteur"
          ],
          [
           "Sd-P150.2",
           "Hors secteur"
          ],
          [
           "Sd-P8.2",
           "Hors secteur"
          ],
          [
           "Sd-P9.2",
           "Hors secteur"
          ],
          [
           "Sd-P50.2",
           "Hors secteur"
          ],
          [
           "Sd-P902",
           "Hors secteur"
          ],
          [
           "Sd-P100.2",
           "Hors secteur"
          ],
          [
           "Sd-P19.2",
           "Hors secteur"
          ],
          [
           "Sd-P20.2",
           "Hors secteur"
          ],
          [
           "Sd-P22.2",
           "Hors secteur"
          ],
          [
           "Sd-P23.2",
           "Hors secteur"
          ],
          [
           "Sd-P25.2",
           "Hors secteur"
          ],
          [
           "Sd-P26.2",
           "Hors secteur"
          ],
          [
           "Sd-P1.3",
           "Hors secteur"
          ],
          [
           "Sd-P2.3",
           "Hors secteur"
          ],
          [
           "Sd-P3.3",
           "Hors secteur"
          ],
          [
           "Sd-P120.3",
           "Hors secteur"
          ],
          [
           "Sd-P130.3",
           "Hors secteur"
          ],
          [
           "Sd-P140.3",
           "Hors secteur"
          ],
          [
           "Sd-P142.3",
           "Hors secteur"
          ],
          [
           "Sd-P143.3",
           "Hors secteur"
          ],
          [
           "Sd-P150.3",
           "Hors secteur"
          ],
          [
           "Sd-P5.3",
           "Hors secteur"
          ],
          [
           "Sd-P50.3",
           "Hors secteur"
          ],
          [
           "Sd-P11.3",
           "Hors secteur"
          ],
          [
           "Sd-P12.3",
           "Hors secteur"
          ],
          [
           "Sd-P8.3",
           "Hors secteur"
          ],
          [
           "Sd-P9.3",
           "Hors secteur"
          ],
          [
           "Sd-P130.4",
           "Hors secteur"
          ],
          [
           "Sd-P140.4",
           "Hors secteur"
          ],
          [
           "Sd-P143.4",
           "Hors secteur"
          ],
          [
           "Sd-P150.4",
           "Hors secteur"
          ],
          [
           "Sd-P1.4",
           "Hors secteur"
          ],
          [
           "Sd-P2.4",
           "Hors secteur"
          ],
          [
           "Sd-P3.4",
           "Hors secteur"
          ],
          [
           "Sd-P5.4",
           "Hors secteur"
          ],
          [
           "Sd-P130.5",
           "Hors secteur"
          ],
          [
           "Sd-P11.4",
           "Hors secteur"
          ],
          [
           "Sd-P12.4",
           "Hors secteur"
          ],
          [
           "Sd-P120.6",
           "Hors secteur"
          ],
          [
           "Sd-P14.6",
           "Hors secteur"
          ],
          [
           "Sd-P143.6",
           "Hors secteur"
          ],
          [
           "Sd-P150.6",
           "Hors secteur"
          ],
          [
           "Sd-P17.6",
           "Hors secteur"
          ],
          [
           "Sd-P110.3",
           "Hors secteur"
          ],
          [
           "Sd-P7.3",
           "Hors secteur"
          ],
          [
           "Sd-P9.4",
           "Hors secteur"
          ],
          [
           "Sd-P901.2",
           "Hors secteur"
          ],
          [
           "Sd-BA3.2",
           "Hors secteur"
          ],
          [
           "Sd-BA4.2",
           "Hors secteur"
          ],
          [
           "Sd-BA5.2",
           "Hors secteur"
          ],
          [
           "Sd-P3.5",
           "Hors secteur"
          ],
          [
           "Sd-P4.5",
           "Hors secteur"
          ],
          [
           "Sd-P5.5",
           "Hors secteur"
          ],
          [
           "Sd-P50.5",
           "Hors secteur"
          ],
          [
           "Sd-P7.5",
           "Hors secteur"
          ],
          [
           "Sd-BA1.2",
           "Hors secteur"
          ],
          [
           "Sd-P22.3",
           "Hors secteur"
          ],
          [
           "Sd-P25.3",
           "Hors secteur"
          ],
          [
           "Sd-P26.3",
           "Hors secteur"
          ],
          [
           "Sd-BARET8.7",
           "Hors secteur"
          ],
          [
           "Sd-BARET9.7",
           "Hors secteur"
          ],
          [
           "Sd-P11.7",
           "Hors secteur"
          ],
          [
           "Sd-P180.7",
           "Hors secteur"
          ],
          [
           "Sd-P20.7",
           "Hors secteur"
          ],
          [
           "Sd-P110.7",
           "Hors secteur"
          ],
          [
           "Sd-P111.7",
           "Hors secteur"
          ],
          [
           "Sd-P8.7",
           "Hors secteur"
          ],
          [
           "Sd-P80.7",
           "Hors secteur"
          ],
          [
           "Sd-P9.7",
           "Hors secteur"
          ],
          [
           "Sd-P901.7",
           "Hors secteur"
          ],
          [
           "Sd-P902.7",
           "Hors secteur"
          ],
          [
           "Sd-BA2.7",
           "Hors secteur"
          ],
          [
           "Sd-BA3.7",
           "Hors secteur"
          ],
          [
           "Sd-BA4.7",
           "Hors secteur"
          ],
          [
           "Sd-BA5.7",
           "Hors secteur"
          ],
          [
           "Sd-P1.7",
           "Hors secteur"
          ],
          [
           "Sd-P3.7",
           "Hors secteur"
          ],
          [
           "Manu-SEC4.1",
           "Hors secteur"
          ],
          [
           "Manu-SEC4.2",
           "Hors secteur"
          ],
          [
           "Manu-SEC4.3",
           "Hors secteur"
          ],
          [
           "Manu-SEC4.4",
           "Hors secteur"
          ],
          [
           "Manu-SEC4.5",
           "Hors secteur"
          ],
          [
           "Manu-SEC4.5C",
           "Hors secteur"
          ],
          [
           "Manu-SEC4.6",
           "Hors secteur"
          ],
          [
           "Manu-SEC4.7",
           "Hors secteur"
          ],
          [
           "Manu-SEC4.8",
           "Hors secteur"
          ],
          [
           "Manu-SEC4.9",
           "Hors secteur"
          ],
          [
           "Manu-SEC4.10",
           "Hors secteur"
          ],
          [
           "Manu-SEC4.11",
           "Hors secteur"
          ],
          [
           "Manu-SEC4.12",
           "Hors secteur"
          ],
          [
           "Manu-SEC4.13",
           "Hors secteur"
          ],
          [
           "Manu-SEC4.14",
           "Hors secteur"
          ],
          [
           "Manu-SEC4.24",
           "Hors secteur"
          ],
          [
           "Manu-SEC4.23",
           "Hors secteur"
          ],
          [
           "Manu-SEC4.22",
           "Hors secteur"
          ],
          [
           "Manu-SEC4.17",
           "Hors secteur"
          ],
          [
           "Manu-SEC4.16",
           "Hors secteur"
          ],
          [
           "Manu-SEC4.15",
           "Hors secteur"
          ],
          [
           "Manu-SEC4.18",
           "Hors secteur"
          ],
          [
           "Manu-SEC4.19",
           "Hors secteur"
          ],
          [
           "Manu-SEC4.20",
           "Hors secteur"
          ],
          [
           "Manu-SEC4.21",
           "Hors secteur"
          ],
          [
           "Manu-PC1",
           "Hors secteur"
          ],
          [
           "Manu-PC2",
           "Hors secteur"
          ],
          [
           "Manu-PC3",
           "Hors secteur"
          ],
          [
           "Manu-PC4",
           "Hors secteur"
          ],
          [
           "Manu-PC5",
           "Hors secteur"
          ],
          [
           "Manu-PC6",
           "Hors secteur"
          ],
          [
           "Manu-PC7",
           "Hors secteur"
          ],
          [
           "Manu-PC8",
           "Hors secteur"
          ],
          [
           "Manu-PC111",
           "Hors secteur"
          ],
          [
           "Manu-PC112",
           "Hors secteur"
          ],
          [
           "Manu-PC10",
           "Hors secteur"
          ],
          [
           "Manu-PC11",
           "Hors secteur"
          ],
          [
           "Manu-PC12",
           "Hors secteur"
          ],
          [
           "Manu-PC13",
           "Hors secteur"
          ],
          [
           "Manu-PC21",
           "Hors secteur"
          ],
          [
           "Manu-PC22",
           "Hors secteur"
          ],
          [
           "Manu-PC23",
           "Hors secteur"
          ],
          [
           "Manu-PC23B",
           "Hors secteur"
          ],
          [
           "Manu-AC1B",
           "Hors secteur"
          ],
          [
           "Manu-AC5B",
           "Hors secteur"
          ],
          [
           "Manu-AC7B",
           "Hors secteur"
          ],
          [
           "Manu-AC30",
           "Hors secteur"
          ],
          [
           "Manu-AC31",
           "Hors secteur"
          ],
          [
           "Manu-AC32",
           "Hors secteur"
          ],
          [
           "Manu-AC7",
           "Hors secteur"
          ],
          [
           "Manu-AC8",
           "Hors secteur"
          ],
          [
           "Manu-AC9",
           "Hors secteur"
          ],
          [
           "Manu-AC10",
           "Hors secteur"
          ],
          [
           "Manu-AC11",
           "Hors secteur"
          ],
          [
           "Manu-AC12",
           "Hors secteur"
          ],
          [
           "Manu-VJ1",
           "Hors secteur"
          ],
          [
           "Manu-VJ2",
           "Hors secteur"
          ],
          [
           "Manu-VJ3",
           "Hors secteur"
          ],
          [
           "Manu-VJ4",
           "Hors secteur"
          ],
          [
           "Manu-VJ5",
           "Hors secteur"
          ],
          [
           "Manu-VB1",
           "Hors secteur"
          ],
          [
           "Manu-VB2",
           "Hors secteur"
          ],
          [
           "Manu-VB3",
           "Hors secteur"
          ],
          [
           "Manu-PN.1",
           "Hors secteur"
          ],
          [
           "Manu-PN.2",
           "Hors secteur"
          ],
          [
           "Manu-PN.3",
           "Hors secteur"
          ],
          [
           "Manu-PN.4",
           "Hors secteur"
          ],
          [
           "Manu-NP.1",
           "Hors secteur"
          ],
          [
           "Manu-AC311B",
           "Hors secteur"
          ],
          [
           "Manu-BAPM1.1",
           "Hors secteur"
          ],
          [
           "Manu-MS21",
           "Hors secteur"
          ],
          [
           "Manu-MS22",
           "Hors secteur"
          ],
          [
           "Manu-PC13.1",
           "Hors secteur"
          ],
          [
           "Manu-PC2.1",
           "Hors secteur"
          ],
          [
           "Manu-PC3.1",
           "Hors secteur"
          ],
          [
           "Manu-PC7.1",
           "Hors secteur"
          ],
          [
           "Manu-PCBA.1",
           "Hors secteur"
          ],
          [
           "Manu-PCBA.2",
           "Hors secteur"
          ],
          [
           "Manu-PCBA.3",
           "Hors secteur"
          ],
          [
           "Manu-PMS3.1",
           "Hors secteur"
          ],
          [
           "Manu-PMS4.1",
           "Hors secteur"
          ],
          [
           "Manu-PMS4.2",
           "Hors secteur"
          ],
          [
           "Manu-F1.1",
           "Hors secteur"
          ],
          [
           "Manu-F1.2",
           "Hors secteur"
          ],
          [
           "Manu-F2.1",
           "Hors secteur"
          ],
          [
           "Manu-F2.2",
           "Hors secteur"
          ],
          [
           "Manu-F2.3",
           "Hors secteur"
          ],
          [
           "Manu-F3.1",
           "Hors secteur"
          ],
          [
           "Manu-F3.2",
           "Hors secteur"
          ],
          [
           "Manu-F3.3",
           "Hors secteur"
          ],
          [
           "Manu-F4.1",
           "Hors secteur"
          ],
          [
           "Manu-F4.2",
           "Hors secteur"
          ],
          [
           "Manu-F4.3",
           "Hors secteur"
          ],
          [
           "Manu-PMS3.2",
           "Hors secteur"
          ],
          [
           "Manu-MS25",
           "Hors secteur"
          ],
          [
           "Manu-MS26",
           "Hors secteur"
          ],
          [
           "Manu-MS27",
           "Hors secteur"
          ],
          [
           "Manu-PC15.1",
           "Hors secteur"
          ],
          [
           "Manu-PMS7.2",
           "Hors secteur"
          ],
          [
           "Manu-PMS6.1",
           "Hors secteur"
          ],
          [
           "Manu-PC14.1",
           "Hors secteur"
          ],
          [
           "Manu-PC16.1",
           "Hors secteur"
          ],
          [
           "Manu-PC17.1",
           "Hors secteur"
          ],
          [
           "Manu-PC201",
           "Hors secteur"
          ],
          [
           "Manu-PC202",
           "Hors secteur"
          ],
          [
           "Manu-PC203",
           "Hors secteur"
          ],
          [
           "Manu-PC204",
           "Hors secteur"
          ],
          [
           "Manu-PC207",
           "Hors secteur"
          ],
          [
           "Manu-PC208",
           "Hors secteur"
          ],
          [
           "Manu-PC209",
           "Hors secteur"
          ],
          [
           "Manu-BAPM.4",
           "Hors secteur"
          ],
          [
           "Manu-BAPM2.1",
           "Hors secteur"
          ],
          [
           "Manu-BAPM3.1",
           "Hors secteur"
          ],
          [
           "Manu-PC205",
           "Hors secteur"
          ],
          [
           "Manu-PC206",
           "Hors secteur"
          ],
          [
           "Manu-PC1.1",
           "Hors secteur"
          ],
          [
           "Manu-PCBA.4",
           "Hors secteur"
          ],
          [
           "Manu-PM209",
           "Hors secteur"
          ],
          [
           "Manu-PM212",
           "Hors secteur"
          ],
          [
           "Manu-PM213",
           "Hors secteur"
          ],
          [
           "Manu-PMS.1",
           "Hors secteur"
          ],
          [
           "Manu-PMS1.2",
           "Hors secteur"
          ],
          [
           "Manu-PMS2.1",
           "Hors secteur"
          ],
          [
           "Manu-PMS2.2",
           "Hors secteur"
          ],
          [
           "Manu-PMS5.1",
           "Hors secteur"
          ],
          [
           "Manu-PMS5.2",
           "Hors secteur"
          ],
          [
           "Manu-F5.1",
           "Hors secteur"
          ],
          [
           "Manu-F5.2",
           "Hors secteur"
          ],
          [
           "Manu-PM102",
           "Hors secteur"
          ],
          [
           "Manu-PM201",
           "Hors secteur"
          ],
          [
           "Manu-PM103",
           "Hors secteur"
          ],
          [
           "Manu-PM.204",
           "Hors secteur"
          ],
          [
           "Manu-PM.301",
           "Hors secteur"
          ],
          [
           "Manu-PM.302",
           "Hors secteur"
          ],
          [
           "Manu-PM.401",
           "Hors secteur"
          ],
          [
           "Manu-PM.402",
           "Hors secteur"
          ],
          [
           "Manu-PC108",
           "Hors secteur"
          ],
          [
           "Manu-PC107",
           "Hors secteur"
          ],
          [
           "Manu-PC106",
           "Hors secteur"
          ],
          [
           "Manu-PC105",
           "Hors secteur"
          ],
          [
           "Manu-PC101",
           "Hors secteur"
          ],
          [
           "Manu-PC310",
           "Hors secteur"
          ],
          [
           "Manu-PC309",
           "Hors secteur"
          ],
          [
           "Manu-PC308",
           "Hors secteur"
          ],
          [
           "Manu-PC307",
           "Hors secteur"
          ],
          [
           "Manu-PC305",
           "Hors secteur"
          ],
          [
           "Manu-PC304",
           "Hors secteur"
          ],
          [
           "Manu-PC302",
           "Hors secteur"
          ],
          [
           "Manu-PC301",
           "Hors secteur"
          ],
          [
           "Manu-RN7.1",
           "Hors secteur"
          ],
          [
           "Manu-VJ6",
           "Hors secteur"
          ],
          [
           "Manu-F5.3",
           "Hors secteur"
          ],
          [
           "Manu-F6.1",
           "Hors secteur"
          ],
          [
           "Manu-F6.2",
           "Hors secteur"
          ],
          [
           "Manu-F6.3",
           "Hors secteur"
          ],
          [
           "Manu-F7.1",
           "Hors secteur"
          ],
          [
           "Manu-F7.2",
           "Hors secteur"
          ],
          [
           "Manu-F7.3",
           "Hors secteur"
          ],
          [
           "Manu-PM400",
           "Hors secteur"
          ],
          [
           "Manu-PM401",
           "Hors secteur"
          ],
          [
           "Manu-PM403",
           "Hors secteur"
          ],
          [
           "Manu-PM404",
           "Hors secteur"
          ],
          [
           "Manu-PM405",
           "Hors secteur"
          ],
          [
           "Manu-VJ7",
           "Hors secteur"
          ],
          [
           "Manu-PRT1",
           "Hors secteur"
          ],
          [
           "Manu-PRT2",
           "Hors secteur"
          ],
          [
           "Manu-PAL3",
           "Hors secteur"
          ],
          [
           "Manu-PAL4",
           "Hors secteur"
          ],
          [
           "Manu-PAL5",
           "Hors secteur"
          ],
          [
           "Manu-PAL6",
           "Hors secteur"
          ],
          [
           "Manu-PRTE1",
           "Hors secteur"
          ],
          [
           "Manu-PRTE2",
           "Hors secteur"
          ],
          [
           "Manu-SEC123.1",
           "Hors secteur"
          ],
          [
           "Manu-SEC123.2",
           "Hors secteur"
          ],
          [
           "Manu-SEC123.3",
           "Hors secteur"
          ],
          [
           "Manu-SEC123.4",
           "Hors secteur"
          ],
          [
           "Manu-SEC123.5",
           "Hors secteur"
          ],
          [
           "Manu-SEC123.6",
           "Hors secteur"
          ],
          [
           "Manu-SEC123.7",
           "Hors secteur"
          ],
          [
           "Manu-SEC123.8",
           "Hors secteur"
          ],
          [
           "Manu-SEC123.9",
           "Hors secteur"
          ],
          [
           "Manu-SEC123.10",
           "Hors secteur"
          ],
          [
           "Manu-SEC123.11",
           "Hors secteur"
          ],
          [
           "Manu-SEC123.12",
           "Hors secteur"
          ],
          [
           "Manu-SEC123.13",
           "Hors secteur"
          ],
          [
           "Manu-SEC123.14",
           "Hors secteur"
          ],
          [
           "Manu-SEC123.15",
           "Hors secteur"
          ],
          [
           "Manu-SEC123.16",
           "Hors secteur"
          ],
          [
           "Manu-SEC123.17",
           "Hors secteur"
          ],
          [
           "Manu-SEC123.18",
           "Hors secteur"
          ],
          [
           "Manu-SEC123.19",
           "Hors secteur"
          ],
          [
           "Manu-SEC123.20",
           "Hors secteur"
          ],
          [
           "Manu-SEC123.21",
           "Hors secteur"
          ],
          [
           "Manu-SEC123.22",
           "Hors secteur"
          ],
          [
           "Manu-SEC123.23",
           "Hors secteur"
          ],
          [
           "Manu-SEC123.24",
           "Hors secteur"
          ],
          [
           "Manu-SEC123.25",
           "Hors secteur"
          ],
          [
           "Manu-SEC123.26",
           "Hors secteur"
          ],
          [
           "Manu-SEC123.27",
           "Hors secteur"
          ],
          [
           "Manu-SEC123.28",
           "Hors secteur"
          ],
          [
           "Manu-SEC123.29",
           "Hors secteur"
          ],
          [
           "Manu-SEC123.30",
           "Hors secteur"
          ],
          [
           "Manu-SEC123.31",
           "Hors secteur"
          ],
          [
           "Manu-SEC123.32",
           "Hors secteur"
          ],
          [
           "Manu-SEC123.33",
           "Hors secteur"
          ],
          [
           "Manu-SEC123.34",
           "Hors secteur"
          ],
          [
           "Manu-SEC123.35",
           "Hors secteur"
          ],
          [
           "Manu-RN7.11",
           "Hors secteur"
          ],
          [
           "Manu-RN7.12",
           "Hors secteur"
          ],
          [
           "Manu-RN7.13",
           "Hors secteur"
          ],
          [
           "Manu-RN7.14",
           "Hors secteur"
          ],
          [
           "Manu-RN7.15",
           "Hors secteur"
          ],
          [
           "Manu-RN7.16",
           "Hors secteur"
          ],
          [
           "Manu-ESC1",
           "Hors secteur"
          ],
          [
           "Manu-ESC2",
           "Hors secteur"
          ],
          [
           "Manu-MJ1",
           "Hors secteur"
          ],
          [
           "Manu-MJ2",
           "Hors secteur"
          ],
          [
           "Manu-MJ3",
           "Hors secteur"
          ],
          [
           "Manu-RN7.10",
           "Hors secteur"
          ],
          [
           "Manu-PM4",
           "Hors secteur"
          ],
          [
           "Manu-PM5",
           "Hors secteur"
          ],
          [
           "Manu-PM6",
           "Hors secteur"
          ],
          [
           "Manu-PM7",
           "Hors secteur"
          ],
          [
           "Manu-PM8",
           "Hors secteur"
          ],
          [
           "Manu-RN7.14B",
           "Hors secteur"
          ],
          [
           "Manu-PM2",
           "Hors secteur"
          ],
          [
           "Manu-PM3",
           "Hors secteur"
          ],
          [
           "Manu-VB4",
           "Hors secteur"
          ],
          [
           "Manu-VB20",
           "Hors secteur"
          ],
          [
           "Manu-VB21",
           "Hors secteur"
          ],
          [
           "Manu-VB22",
           "Hors secteur"
          ],
          [
           "Manu-VB23",
           "Hors secteur"
          ],
          [
           "Manu-VJ20",
           "Hors secteur"
          ],
          [
           "Manu-VJ21",
           "Hors secteur"
          ]
         ],
         "marker": {
          "color": "#7FFFD4",
          "opacity": 0.6,
          "size": 3
         },
         "mode": "markers",
         "type": "scatter3d",
         "x": [
          2055322.26044898,
          2055342.9189400002,
          2055344.57523077,
          2055341.59467961,
          2055343.32005769,
          2055339.66398413,
          2055329.79601639,
          2055252.1435,
          2055254.27,
          2055267.89272727,
          2055269.83054545,
          2055276.18418182,
          2055278.43118182,
          2055283.75045455,
          2055286.11854545,
          2055253.55733333,
          2055244.4919999999,
          2055235.44498333,
          2055242.09733333,
          2055366.1469999999,
          2055359.5669999998,
          2055359.53,
          2055330.376,
          2055330.616,
          2055325.237,
          2055373.53928571,
          2055368.02515789,
          2055363.81809023,
          2055361.31810526,
          2055344.371875,
          2055345.83,
          2055348.845,
          2055362.937,
          2055305.3811,
          2055352.14525,
          2055344.9019999998,
          2055340.28,
          2055329.0580000002,
          2055318.378,
          2055321.60808163,
          2055317.99720513,
          2055309.53397436,
          2055333.51254167,
          2055333.55457088,
          2055355.0790000001,
          2055339.28491209,
          2055346.0901,
          2055346.13,
          2055346.1519999998,
          2055344.428,
          2055317.41494872,
          2055316.54096,
          2055355.2340000002,
          2055346.283,
          2055346.237,
          2055346.27684615,
          2055344.4931,
          2055340.458,
          2055328.16404348,
          2055316.61385714,
          2055305.4440000001,
          2055321.89495714,
          2055328.29028571,
          2055333.15112727,
          2055339.32820027,
          2055301.79604666,
          2055327.83535537,
          2055353.322,
          2055353.3218,
          2055346.303,
          2055344.487,
          2055328.175,
          2055318.716,
          2055304.9109999998,
          2055293.174,
          2055309.105,
          2055375.052,
          2055365.315,
          2055358.035,
          2055376.8648,
          2055376.759,
          2055378.596,
          2055380.2704,
          2055293.60293551,
          2055314.83296139,
          2055293.14870244,
          2055309.54747436,
          2055324.48042857,
          2055302.31618018,
          2055296.89476448,
          2055255.10475,
          2055262.11117778,
          2055279.14417647,
          2055284.989,
          2055316.906,
          2055292.4309999999,
          2055279.10621277,
          2055276.62406383,
          2055279.06087234,
          2055276.615875,
          2055279.06285106,
          2055268.32080769,
          2055262.52992308,
          2055255.699,
          2055262.09,
          2055269.5368,
          2055279.0479,
          2055284.96495,
          2055290.940875,
          2055290.75341176,
          2055284.95564706,
          2055279.03152941,
          2055269.61641176,
          2055262.38470588,
          2055290.47075,
          2055279.0878,
          2055252.78552364,
          2055253.2395,
          2055261.4952599998,
          2055261.53323913,
          2055269.38050952,
          2055269.06395238,
          2055288.21704116,
          2055288.63920134,
          2055277.87506302,
          2055278.40519748,
          2055379.465,
          2055295.79871429,
          2055379.975,
          2055322.812875,
          2055339.846,
          2055342.914,
          2055379.968,
          2055380.27005,
          2055369.705,
          2055373.33291667,
          2055378.77425,
          2055331.22122255,
          2055331.20444118,
          2055331.02812805,
          2055332.9492549,
          2055323.72171429,
          2055323.87871429,
          2055252.87216667,
          2055255.33233333,
          2055260.99416667,
          2055263.42016667,
          2055268.80684615,
          2055270.81484615,
          2055276.11684615,
          2055278.72984615,
          2055284.24076923,
          2055286.55869231,
          2055244.49676923,
          2055235.44466667,
          2055242.736,
          2055242.14,
          2055320.18908021,
          2055320.04710695,
          2055320.08452941,
          2055319.93369231,
          2055330.8474,
          2055330.93212903,
          2055330.89584767,
          2055330.80184615,
          2055343.73318182,
          2055343.766125,
          2055343.63907692,
          2055343.7664897998,
          2055354.41166667,
          2055354.3290000001,
          2055354.398,
          2055366.8004,
          2055366.6409999998,
          2055312.4294,
          2055312.5869999998,
          2055312.615,
          2055303.8669999999,
          2055304.0744,
          2055304.0690000001,
          2055302.5447799999,
          2055254.24585714,
          2055336.64157143,
          2055340.25285714,
          2055255.10361538,
          2055262.16191667,
          2055291.80211111,
          2055350.9730000002,
          2055243.83881818,
          2055239.053,
          2055255.399,
          2055235.226125,
          2055235.8857,
          2055237.214875,
          2055241.709,
          2055235.45771429,
          2055235.97442857,
          2055235.22828571,
          2055236.23,
          2055252.78594444,
          2055253.239,
          2055261.495,
          2055261.533,
          2055269.3794,
          2055269.41505555,
          2055329.60223256,
          2055318.13093333,
          2055234.985,
          2055237.894,
          2055239.229,
          2055237.6609999998,
          2055239.138,
          2055343.477,
          2055344.55444444,
          2055234.55485714,
          2055232.1515,
          2055234.40971429,
          2055232.45271429,
          2055237.29785714,
          2055249.2769999998,
          2055258.118,
          2055267.102,
          2055279.94157143,
          2055271.4218,
          2055245.74841429,
          2055244.6940000001,
          2055292.866,
          2055341.13335714,
          2055346.898,
          2055346.9430000002,
          2055346.737,
          2055346.775,
          2055324.53214286,
          2055324.3268,
          2055330.1819999998,
          2055330.09142857,
          2055363.356,
          2055320.18914286,
          2055320.04671429,
          2055330.8469999998,
          2055330.9330000002,
          2055330.91621429,
          2055343.72464286,
          2055343.75557143,
          2055354.4030000002,
          2055354.3272,
          2055354.38907143,
          2055366.80171429,
          2055366.636,
          2055312.4422,
          2055312.6005,
          2055303.87392857,
          2055304.08614286,
          2055304.084,
          2055366.885,
          2055366.573,
          2055374.4419999998,
          2055366.573,
          2055377.356,
          2055378.793,
          2055378.785,
          2055344.632,
          2055330.75028571,
          2055335.53,
          2055346.445,
          2055346.42083333,
          2055346.833,
          2055346.88,
          2055346.679,
          2055324.639,
          2055324.5219999999,
          2055330.19,
          2055330.112,
          2055330.082,
          2055341.946,
          2055343.0690000001,
          2055342.5869999998,
          2055359.665,
          2055359.744,
          2055362.4840000002,
          2055362.496,
          2055362.459,
          2055362.3369999998,
          2055362.733,
          2055362.705,
          2055362.757,
          2055309.0480000002,
          2055309.053,
          2055309.063,
          2055296.3830000001,
          2055305.485,
          2055314.481,
          2055330.32,
          2055339.208,
          2055341.031,
          2055342.497,
          2055346.4019999998,
          2055357.0880000002,
          2055367.8059999999,
          2055374.239,
          2055377.333,
          2055377.664,
          2055378.9230000002,
          2055379.476,
          2055379.979,
          2055379.983,
          2055379.956,
          2055379.759,
          2055380.0380000002,
          2055379.751,
          2055378.781,
          2055371.374,
          2055361.844,
          2055346.158,
          2055341.244,
          2055329.701,
          2055323.9780000001,
          2055318.271,
          2055284.843,
          2055278.233,
          2055268.9640000002,
          2055260.1619999998,
          2055345.352,
          2055340.459,
          2055360.955,
          2055292.8590000002,
          2055292.9840000002,
          2055293.034,
          2055293.148,
          2055341.09,
          2055308.529,
          2055323.626,
          2055292.804,
          2055378.6519999998,
          2055344.767,
          2055320.79,
          2055293.804,
          2055293.011,
          2055344.392,
          2055296.332,
          2055305.668,
          2055284.658,
          2055284.658,
          2055268.884,
          2055260.119,
          2055367.9309999999,
          2055374.456,
          2055379.996,
          2055380.019,
          2055379.96,
          2055380.0259999998,
          2055342.501,
          2055346.414,
          2055335.507,
          2055346.3159999999,
          2055348.928,
          2055357.265,
          2055345.054,
          2055331.043,
          2055323.626,
          2055312.291,
          2055293.657,
          2055296.957,
          2055305.73,
          2055314.427,
          2055377.32,
          2055378.9019999998,
          2055380.065,
          2055379.971,
          2055380.0269999998,
          2055380.0980000002,
          2055330.737,
          2055335.5159999998,
          2055366.889,
          2055374.6830000002,
          2055342.524,
          2055346.481,
          2055378.858,
          2055380.086,
          2055380.05,
          2055380.0680000002,
          2055296.876,
          2055305.841,
          2055314.74,
          2055330.894,
          2055378.814,
          2055366.594,
          2055374.9,
          2055377.372,
          2055378.856,
          2055379.956,
          2055379.9640000002,
          2055377.882,
          2055356.2580000001,
          2055339.093,
          2055346.56,
          2055346.27,
          2055293.01,
          2055293.071,
          2055293.1709999999,
          2055314.86,
          2055325.1430000002,
          2055331.121,
          2055335.274,
          2055341.064,
          2055292.771,
          2055330.532,
          2055310.138,
          2055293.491,
          2055363.386,
          2055363.369,
          2055366.7580000001,
          2055364.675,
          2055344.615,
          2055356.11,
          2055361.666,
          2055342.394,
          2055345.174,
          2055346.533,
          2055346.254,
          2055346.265,
          2055292.74,
          2055292.045,
          2055292.4519999998,
          2055292.701,
          2055296.774,
          2055314.8290000001,
          2055382.447,
          2055380.71,
          2055379.15,
          2055378.4019999998,
          2055377.106,
          2055376.149,
          2055371.001,
          2055370.31,
          2055366.0119999999,
          2055362.3390000002,
          2055359.995,
          2055349.07,
          2055348.185,
          2055336.3669999999,
          2055336.42,
          2055324.761,
          2055323.134,
          2055318.594,
          2055318.511,
          2055324.4730000002,
          2055326.573,
          2055308.57,
          2055307.79,
          2055296.03,
          2055297.132,
          2055317.407,
          2055301.784,
          2055309.0969999998,
          2055293.5869999998,
          2055314.8080000002,
          2055309.5369999998,
          2055302.295,
          2055296.874,
          2055317.989,
          2055309.534,
          2055321.586,
          2055327.822,
          2055333.5359999998,
          2055339.269,
          2055321.886,
          2055328.283,
          2055333.1430000002,
          2055339.313,
          2055342.9130000002,
          2055343.3180000002,
          2055339.642,
          2055344.59,
          2055344.1630000002,
          2055341.576,
          2055339.741,
          2055339.865,
          2055329.78,
          2055329.573,
          2055322.237,
          2055322.2130000002,
          2055331.2230000002,
          2055331.1909999999,
          2055331.0219999999,
          2055332.9430000002,
          2055332.936,
          2055329.332,
          2055329.333,
          2055329.381,
          2055356.6719999998,
          2055356.685,
          2055356.8480000002,
          2055356.826,
          2055269.375,
          2055344.755,
          2055244.483,
          2055363.822,
          2055361.3190000001,
          2055355.0790000001,
          2055316.491,
          2055327.771,
          2055340.3480000002,
          2055255.095,
          2055262.146,
          2055279.154,
          2055277.878,
          2055288.2030000002,
          2055288.6269999999,
          2055320.187,
          2055320.045,
          2055330.842,
          2055330.929,
          2055330.8930000002,
          2055343.726,
          2055343.7580000001,
          2055343.757,
          2055354.405,
          2055354.32,
          2055354.389,
          2055278.409,
          2055344.366,
          2055345.824,
          2055348.8390000002,
          2055346.1230000001,
          2055233.947,
          2055241.77,
          2055346.09,
          2055346.1519999998,
          2055344.428,
          2055355.226,
          2055346.274,
          2055346.2280000001,
          2055346.2680000002,
          2055328.176,
          2055316.6030000001,
          2055305.4440000001,
          2055244.486,
          2055235.449,
          2055244.486,
          2055344.4840000002,
          2055340.447,
          2055305.372,
          2055285.035,
          2055262.3730000001,
          2055284.9540000001,
          2055290.9309999999,
          2055257.136,
          2055261.5669999998,
          2055261.4919999999,
          2055261.529,
          2055277.866,
          2055293.59,
          2055366.801,
          2055366.64,
          2055243.855,
          2055255.4019999998,
          2055239.0669999998,
          2055262.3730000001,
          2055279.021,
          2055269.604,
          2055290.7419999999,
          2055284.9440000001,
          2055318.378,
          2055329.0580000002,
          2055340.28,
          2055344.9019999998,
          2055352.145,
          2055293.174,
          2055304.9109999998,
          2055318.716,
          2055328.175,
          2055344.487,
          2055346.303,
          2055346.311,
          2055353.322,
          2055295.7980000002,
          2055323.721,
          2055366.658,
          2055312.44,
          2055312.5980000002,
          2055312.626,
          2055303.878,
          2055304.084,
          2055304.081,
          2055233.2240000002,
          2055235.227,
          2055237.216,
          2055241.71,
          2055251.415,
          2055323.7869999998,
          2055378.1930000002,
          2055379.155,
          2055384.7319999998,
          2055381.501,
          2055380.615,
          2055379.8080000002,
          2055378.8930000002,
          2055380.771,
          2055262.38,
          2055281.82,
          2055291.4009999998,
          2055300.6619999998,
          2055308.635,
          2055320.63,
          2055329.8190000001,
          2055286.852,
          2055292.0559999999,
          2055298.12,
          2055297.655,
          2055296.7719999999,
          2055302.157,
          2055306.855,
          2055304.9440000001,
          2055308.5259999998,
          2055309.908,
          2055313.8469999998,
          2055317.198,
          2055320.552,
          2055325.408,
          2055328.342,
          2055331.4219999998,
          2055328.5769999998,
          2055326.918,
          2055333.476,
          2055335.917,
          2055346.118,
          2055350.629,
          2055350.034,
          2055346.168,
          2055335.299,
          2055326.2769999998,
          2055322.884,
          2055334.8069999998,
          2055184.8,
          2055207.331,
          2055239.285,
          2055257.269,
          2055274.013,
          2055285.281,
          2055198.361,
          2055198.0590000001,
          2055218.92,
          2055216.0369999998,
          2055216.03,
          2055206.4619999998,
          2055269.253,
          2055273.6809999999,
          2055284.3180000002,
          2055269.256,
          2055273.6830000002,
          2055257.2719999999,
          2055297.36,
          2055294.312,
          2055330.4119999998,
          2055325.624,
          2055325.624,
          2055325.229,
          2055325.24,
          2055326.959,
          2055326.961
         ],
         "y": [
          3179692.24002041,
          3179722.4902,
          3179713.86192308,
          3179702.08153398,
          3179713.80840385,
          3179700.29389418,
          3179694.77302268,
          3179683.33966667,
          3179683.568,
          3179685.84418182,
          3179685.86818182,
          3179684.33090909,
          3179684.29254546,
          3179683.09781818,
          3179683.14527273,
          3179683.41033333,
          3179683.392,
          3179680.3735,
          3179682.75816667,
          3179690.1580000003,
          3179690.209,
          3179696.095,
          3179663.818,
          3179668.876,
          3179664.042,
          3179729.2010000004,
          3179729.47584211,
          3179729.48984211,
          3179729.67910526,
          3179728.501,
          3179729.2789999996,
          3179729.385,
          3179729.2010000004,
          3179681.45031667,
          3179728.2405,
          3179707.256,
          3179694.4669999997,
          3179690.9689999996,
          3179686.639,
          3179689.83402041,
          3179688.33152564,
          3179684.21015384,
          3179694.54340238,
          3179694.6385677997,
          3179728.38930769,
          3179696.49333883,
          3179728.314,
          3179724.1769999997,
          3179715.8985,
          3179705.7460000003,
          3179689.83812821,
          3179685.99435077,
          3179728.215,
          3179728.195,
          3179724.395,
          3179715.863,
          3179705.615,
          3179694.6389375,
          3179690.50486957,
          3179685.861,
          3179681.332,
          3179689.58635714,
          3179691.91028571,
          3179693.6061697,
          3179696.42113656,
          3179684.17312086,
          3179690.68712397,
          3179728.1769999997,
          3179728.1764,
          3179716.0568,
          3179705.5,
          3179690.613,
          3179686.7855,
          3179681.185,
          3179682.085,
          3179685.07702564,
          3179728.328,
          3179728.378,
          3179728.341,
          3179724.3032,
          3179727.6824,
          3179716.2169999997,
          3179698.3019999997,
          3179684.56360817,
          3179693.43286873,
          3179678.9117439,
          3179691.69653846,
          3179685.77609524,
          3179692.24547374,
          3179692.32088417,
          3179684.95825,
          3179686.4126,
          3179685.32131933,
          3179684.13816667,
          3179662.542,
          3179672.61375,
          3179685.24780851,
          3179685.77440426,
          3179685.27919149,
          3179685.73327083,
          3179685.25606383,
          3179685.655,
          3179686.34438461,
          3179685.0360000003,
          3179686.0930000003,
          3179686.8107,
          3179685.3057,
          3179684.1360000004,
          3179683.03125,
          3179683.02847059,
          3179684.12376471,
          3179685.27676471,
          3179686.78605882,
          3179686.45235294,
          3179683.07025,
          3179685.2789999996,
          3179690.36600546,
          3179689.8365,
          3179689.9479799997,
          3179689.41880435,
          3179689.49845238,
          3179689.06012771,
          3179690.46663559,
          3179690.3184735,
          3179689.22218487,
          3179688.57622269,
          3179709.248,
          3179706.865,
          3179677.047,
          3179684.015,
          3179689.137,
          3179694.31925,
          3179687.992,
          3179698.30205,
          3179675.9669,
          3179674.9280000003,
          3179673.25575,
          3179701.30870968,
          3179701.27668984,
          3179701.15091463,
          3179708.62213726,
          3179703.84785714,
          3179703.83042857,
          3179648.788,
          3179648.8710000003,
          3179648.81116667,
          3179648.80733333,
          3179648.39,
          3179648.48230769,
          3179648.74638462,
          3179648.90223077,
          3179649.17023077,
          3179649.29846154,
          3179683.394,
          3179680.37294445,
          3179675.998,
          3179675.837,
          3179649.77709091,
          3179649.85033155,
          3179649.88799465,
          3179649.91169231,
          3179649.1406,
          3179649.24298925,
          3179649.19795161,
          3179649.19430769,
          3179648.40590909,
          3179648.4869999997,
          3179648.52684615,
          3179648.48671429,
          3179650.52333333,
          3179650.4669999997,
          3179650.5086,
          3179656.6892,
          3179656.829,
          3179650.2989999996,
          3179650.2,
          3179650.2260000003,
          3179650.777,
          3179650.7610000004,
          3179650.78,
          3179650.89156,
          3179685.34914286,
          3179657.289,
          3179657.17,
          3179684.95692308,
          3179686.46466667,
          3179651.91044444,
          3179649.84422222,
          3179683.07918182,
          3179681.6319999998,
          3179685.00666667,
          3179670.822125,
          3179678.4978,
          3179680.027125,
          3179681.719375,
          3179671.22442857,
          3179678.49657143,
          3179670.37557143,
          3179670.37175,
          3179690.3660000004,
          3179689.845,
          3179689.9480000003,
          3179689.4189999998,
          3179689.497,
          3179689.06,
          3179649.21095349,
          3179650.1318,
          3179656.811,
          3179666.563,
          3179673.738,
          3179666.295,
          3179673.005,
          3179648.78255556,
          3179660.707,
          3179648.61685714,
          3179659.4905,
          3179649.21871429,
          3179659.03542857,
          3179647.22514286,
          3179648.110625,
          3179648.30475,
          3179648.19775,
          3179648.70728571,
          3179648.1862,
          3179647.92785714,
          3179647.811,
          3179669.54885714,
          3179680.04714286,
          3179683.126,
          3179682.7569999998,
          3179683.34,
          3179682.832,
          3179667.14,
          3179667.2048,
          3179666.9189999998,
          3179666.795,
          3179714.2210000004,
          3179649.77728571,
          3179649.85242857,
          3179649.14428571,
          3179649.24271429,
          3179649.18792857,
          3179648.412,
          3179648.49314286,
          3179650.52792857,
          3179650.4671,
          3179650.51092857,
          3179656.69114286,
          3179656.828,
          3179650.3060000003,
          3179650.208,
          3179650.78464286,
          3179650.77314286,
          3179650.78833333,
          3179728.1580000003,
          3179728.21,
          3179728.144,
          3179728.21,
          3179722.748,
          3179713.22,
          3179670.8019999997,
          3179648.486,
          3179691.3039999995,
          3179692.1980000003,
          3179718.17342857,
          3179718.5760000004,
          3179683.1180000002,
          3179682.749,
          3179683.334,
          3179667.1119999997,
          3179667.14,
          3179666.838,
          3179666.895,
          3179666.792,
          3179666.012,
          3179666,
          3179665.894,
          3179673.645,
          3179673.793,
          3179711.111,
          3179711.025,
          3179711.02,
          3179714.4439999997,
          3179689.0239999997,
          3179689.244,
          3179689.307,
          3179667.0069999998,
          3179667.083,
          3179667.164,
          3179681.421,
          3179681.298,
          3179684.854,
          3179691.232,
          3179693.755,
          3179695.163,
          3179699.336,
          3179718.2169999997,
          3179728.245,
          3179728.1610000003,
          3179728.203,
          3179722.545,
          3179720.5239999997,
          3179712.943,
          3179709.244,
          3179705.8419999997,
          3179693.164,
          3179685.3060000003,
          3179682.78,
          3179679.208,
          3179674.752,
          3179670.7189999996,
          3179659.828,
          3179653.7860000003,
          3179648.472,
          3179648.775,
          3179649.202,
          3179649.534,
          3179650.123,
          3179683.8910000003,
          3179685.2739999997,
          3179686.369,
          3179686.083,
          3179708.898,
          3179666.068,
          3179675.557,
          3179669.5539999995,
          3179672.615,
          3179676.309,
          3179681.577,
          3179679.97,
          3179668.023,
          3179683.216,
          3179662.788,
          3179706.393,
          3179696.165,
          3179687.133,
          3179681.0069999998,
          3179652.3210000005,
          3179661.08,
          3179681.42,
          3179681.308,
          3179683.7989999996,
          3179683.8,
          3179686.334,
          3179685.957,
          3179728.1119999997,
          3179728.1969999997,
          3179696.84,
          3179693.175,
          3179685.14,
          3179679.1769999997,
          3179699.3030000003,
          3179718.558,
          3179692.2,
          3179727.58,
          3179728.251,
          3179651.341,
          3179648.475,
          3179649.276,
          3179649.7139999997,
          3179650.352,
          3179651.397,
          3179681.099,
          3179681.202,
          3179684.526,
          3179722.787,
          3179713.349,
          3179705.04,
          3179693.1569999997,
          3179685.165,
          3179679.24,
          3179691.313,
          3179692.202,
          3179728.211,
          3179728.252,
          3179699.41,
          3179718.5069999998,
          3179713.142,
          3179705.115,
          3179685.3860000004,
          3179679.64,
          3179681.142,
          3179681.352,
          3179684.88,
          3179691.308,
          3179713.2630000003,
          3179728.202,
          3179728.153,
          3179722.788,
          3179713.474,
          3179684.923,
          3179679.539,
          3179669.4310000003,
          3179728.369,
          3179693.682,
          3179718.478,
          3179727.7630000003,
          3179672.547,
          3179676.28,
          3179681.462,
          3179685.168,
          3179689.481,
          3179691.46,
          3179692.2369999997,
          3179695.1989999996,
          3179662.765,
          3179649.32,
          3179650.473,
          3179651.415,
          3179710.942,
          3179714.212,
          3179728.272,
          3179655.61,
          3179648.481,
          3179728.3639999996,
          3179728.236,
          3179699.352,
          3179707.9839999997,
          3179718.472,
          3179727.887,
          3179722.9439999997,
          3179669.937,
          3179672.224,
          3179676.182,
          3179681.7810000004,
          3179681.375,
          3179685.146,
          3179666.966,
          3179667.269,
          3179664.416,
          3179663.409,
          3179659.106,
          3179658.522,
          3179652.995,
          3179652.525,
          3179649.503,
          3179647.3260000004,
          3179646.166,
          3179643.847,
          3179643.562,
          3179643.623,
          3179642.47,
          3179645.039,
          3179644.537,
          3179644.0039999997,
          3179644.628,
          3179643.244,
          3179644.027,
          3179647.39,
          3179645.317,
          3179645.796,
          3179645.689,
          3179689.855,
          3179684.186,
          3179685.095,
          3179684.57,
          3179693.4469999997,
          3179691.713,
          3179692.247,
          3179692.3210000005,
          3179688.349,
          3179684.256,
          3179689.863,
          3179692.15,
          3179694.673,
          3179696.5,
          3179689.6010000003,
          3179691.9510000004,
          3179693.624,
          3179696.4289999995,
          3179722.499,
          3179713.83,
          3179700.317,
          3179722.9480000003,
          3179711.789,
          3179702.0960000004,
          3179700.6,
          3179700.808,
          3179694.8019999997,
          3179694.7139999997,
          3179692.264,
          3179692.1610000003,
          3179701.3310000002,
          3179701.2819999997,
          3179701.165,
          3179708.619,
          3179708.5939999996,
          3179717.035,
          3179717.001,
          3179719.765,
          3179718.127,
          3179722.642,
          3179718.085,
          3179727.152,
          3179689.5039999997,
          3179714.1380000003,
          3179683.403,
          3179729.503,
          3179729.692,
          3179728.389,
          3179685.961,
          3179690.648,
          3179694.645,
          3179684.965,
          3179686.465,
          3179685.356,
          3179689.2210000004,
          3179690.4760000003,
          3179690.328,
          3179649.768,
          3179649.8419999997,
          3179649.137,
          3179649.233,
          3179649.186,
          3179648.401,
          3179648.483,
          3179648.483,
          3179650.519,
          3179650.462,
          3179650.5039999997,
          3179688.5730000003,
          3179728.501,
          3179729.2789999996,
          3179729.385,
          3179724.1769999997,
          3179688.9280000003,
          3179690.1089999997,
          3179728.314,
          3179715.8989999997,
          3179705.7460000003,
          3179728.22,
          3179728.2010000004,
          3179724.4,
          3179715.8680000002,
          3179690.5089999996,
          3179685.861,
          3179681.332,
          3179683.402,
          3179680.367,
          3179683.401,
          3179705.619,
          3179694.639,
          3179681.454,
          3179684.195,
          3179686.459,
          3179684.144,
          3179683.039,
          3179690.1539999996,
          3179688.3605,
          3179689.9460000005,
          3179689.416,
          3179689.2339999997,
          3179684.559,
          3179656.687,
          3179656.8239999996,
          3179683.082,
          3179685.005,
          3179681.637,
          3179686.457,
          3179685.2819999997,
          3179686.79,
          3179683.0330000003,
          3179684.128,
          3179686.639,
          3179690.9689999996,
          3179694.4669999997,
          3179707.256,
          3179728.2410000004,
          3179682.085,
          3179681.185,
          3179686.785,
          3179690.613,
          3179705.5,
          3179716.057,
          3179727.58,
          3179728.1769999997,
          3179706.865,
          3179703.848,
          3179656.835,
          3179650.2989999996,
          3179650.202,
          3179650.225,
          3179650.777,
          3179650.76,
          3179650.7819999997,
          3179662.433,
          3179670.8230000003,
          3179680.028,
          3179681.72,
          3179683.724,
          3179703.8310000002,
          3179727.0110000004,
          3179719.0960000004,
          3179687.1560000004,
          3179704.672,
          3179709.887,
          3179714.7189999996,
          3179719.363,
          3179708.9710000004,
          3179611.722,
          3179611.84,
          3179614.5039999997,
          3179618.17,
          3179617.334,
          3179617.5069999998,
          3179612.348,
          3179623.0039999997,
          3179622.512,
          3179620.841,
          3179622.3710000003,
          3179623.486,
          3179624.1789999995,
          3179622.914,
          3179626.3419999997,
          3179618.923,
          3179627.626,
          3179634.355,
          3179634.173,
          3179633.91,
          3179633.006,
          3179626.8060000003,
          3179622.2860000003,
          3179622.567,
          3179621.52,
          3179621.8030000003,
          3179622.6360000004,
          3179627.403,
          3179626.204,
          3179625.963,
          3179623.9760000003,
          3179615.749,
          3179616.4080000003,
          3179618.443,
          3179613.624,
          3179684.28,
          3179694.668,
          3179701.483,
          3179702.192,
          3179704.4680000003,
          3179703.327,
          3179675.6769999997,
          3179676.975,
          3179681.4469999997,
          3179680.855,
          3179680.852,
          3179681.2810000004,
          3179708.79,
          3179708.3060000003,
          3179708.0719999997,
          3179708.784,
          3179708.298,
          3179702.1739999996,
          3179720.098,
          3179722.587,
          3179720.512,
          3179725.4,
          3179725.461,
          3179716.37,
          3179716.3680000002,
          3179713.058,
          3179713.057
         ],
         "z": [
          149.329979591837,
          145.7223,
          141.951807692308,
          142.35635922330098,
          145.443230769231,
          145.529804232804,
          147.260912568306,
          124.48100000000001,
          124.4546,
          126.756818181818,
          126.76,
          126.73909090909099,
          126.734909090909,
          126.841090909091,
          126.855,
          142.288333333333,
          142.991,
          140.851333333333,
          141.16299999999998,
          126.264,
          126.26100000000001,
          126.2505,
          126.525,
          126.52600000000001,
          126.52,
          125.215,
          131.96447368421101,
          131.955736842105,
          138.88388421052602,
          142.922,
          142.09,
          142.097,
          125.196,
          137.4991,
          136.333,
          136.601,
          136.317,
          136.53,
          136.167,
          146.638,
          141.702025641026,
          141.513025641026,
          144.52090833333298,
          144.50199152542402,
          137.523,
          142.801032967033,
          137.5259,
          137.52,
          137.525,
          137.518625,
          146.501435897436,
          137.50996999999998,
          133.001,
          132.997,
          133.092,
          133.02807692307698,
          133.076,
          132.731,
          132.825,
          132.703857142857,
          132.878875,
          141.49292,
          141.525571428571,
          141.031690909091,
          141.111070484581,
          144.968677902622,
          137.503950413223,
          128.24,
          128.2402,
          129.3854,
          128.96,
          129.019,
          128.69899999999998,
          128.765,
          128.725,
          145.146051282051,
          125.009,
          125.01700000000001,
          125.005,
          123.331,
          125.0258,
          125.24,
          126.79,
          145.084986046511,
          149.462806949807,
          137.522990243902,
          149.677025641026,
          137.501333333333,
          151.639436607339,
          151.958444015444,
          143.46625,
          143.45184444444402,
          143.461,
          142.9755,
          127.179,
          126.22,
          143.111978723404,
          139.30444680851102,
          137.53697872340402,
          135.548958333333,
          133.737617021277,
          129.921,
          130.139961538461,
          130.12133333333298,
          137.5,
          137.4901,
          137.5499,
          137.70985,
          137.620125,
          132.125352941176,
          131.953647058824,
          135.918470588235,
          135.751882352941,
          137.584764705882,
          129.965,
          130.2266,
          148.968663636364,
          145.415,
          149.57232,
          145.680239130435,
          150.088883333333,
          146.643293290043,
          151.211259079903,
          149.53510738255,
          150.669428571429,
          146.43990336134502,
          120.596,
          155.240571428571,
          127.54700000000001,
          127.221,
          127.208,
          126.9,
          127.117,
          126.79,
          127.18015,
          127.191833333333,
          127.223333333333,
          153.72973705611298,
          152.47285561497299,
          149.952253325942,
          153.57335294117598,
          153.099857142857,
          154.739857142857,
          125.045,
          125.01700000000001,
          125.044,
          125.04,
          126.87200000000001,
          126.877076923077,
          126.838,
          126.787,
          126.94092307692301,
          126.932,
          142.99200000000002,
          140.85,
          120.296,
          123.295,
          138.111005347594,
          135.206417112299,
          132.218,
          125.087730769231,
          137.8438,
          134.843897849462,
          131.75660215053801,
          125.0615,
          138.096909090909,
          132.095625,
          129.075,
          124.999408163265,
          137.880333333333,
          134.887666666667,
          131.8788,
          137.36,
          134.36,
          138.282,
          135.15,
          132.122,
          137.944,
          135.016,
          131.7152,
          127.79746000000002,
          144.15,
          127.94,
          128.106,
          143.466,
          143.61,
          126.225,
          127.625666666667,
          138.006636363636,
          137.958,
          137.689222222222,
          133.679875,
          133.6488,
          133.39975,
          133.62,
          120.594285714286,
          129.281714285714,
          129.294571428571,
          129.281,
          148.969,
          145.41899999999998,
          149.572,
          145.68,
          150.088,
          146.643,
          125.782697674419,
          126.116,
          116.742,
          116.74700000000001,
          116.68,
          109.76899999999999,
          109.655,
          127.223777777778,
          127.178333333333,
          127.7,
          127.99799999999999,
          120.37557142857099,
          120.87200000000001,
          127.729,
          127.76799999999999,
          127.923125,
          128.142,
          118.755,
          118.9124,
          121.639,
          109.82,
          107.639,
          100.029,
          119.698,
          114.025,
          106.626666666667,
          99.854,
          116.009,
          98.228,
          116.19200000000001,
          105.39200000000001,
          97.14200000000001,
          138.132,
          135.224,
          137.85299999999998,
          134.859,
          131.840785714286,
          138.105857142857,
          132.107928571429,
          137.891,
          134.8948,
          131.889,
          137.361857142857,
          134.369,
          138.2978,
          135.1635,
          137.960928571429,
          135.029,
          131.728666666667,
          109.899,
          101.311,
          116.53200000000001,
          101.311,
          101.02799999999999,
          111.478,
          124.088,
          98.19,
          114.219,
          114.734,
          117.708,
          114.64983333333299,
          119.676,
          113.993,
          106.583,
          123.581,
          116,
          124.13799999999999,
          116.17,
          105.382,
          120.211,
          115.335,
          103.779,
          120.93299999999999,
          106.23899999999999,
          118.37700000000001,
          113.145,
          106.677,
          113.23299999999999,
          124.155,
          115.756,
          106.728,
          122.171,
          115.891,
          107.89299999999999,
          120.21799999999999,
          119.964,
          119.92,
          119.713,
          119.743,
          119.71600000000001,
          117.215,
          117.68799999999999,
          120.103,
          119.962,
          120.5,
          121.007,
          120.759,
          121.164,
          120.586,
          121.01799999999999,
          122.117,
          122.23899999999999,
          124.044,
          122.249,
          125.184,
          124.064,
          122.50299999999999,
          122.97399999999999,
          123.963,
          125.14399999999999,
          125.743,
          126.012,
          126.102,
          115.833,
          115.56299999999999,
          115.70299999999999,
          115.67,
          109.065,
          114.96,
          114.88799999999999,
          107.635,
          107.603,
          107.492,
          107.57,
          114.11200000000001,
          115.265,
          114.005,
          107.941,
          124.58,
          124.854,
          125.23700000000001,
          125.23299999999999,
          125.23899999999999,
          125.213,
          117.475,
          117.515,
          112.07,
          112.069,
          111.92399999999999,
          112.009,
          116.93,
          116.507,
          115.56200000000001,
          118.382,
          118.39299999999999,
          118.43,
          114.779,
          114.645,
          115.041,
          109.02,
          108.839,
          113.039,
          113.51,
          113.25200000000001,
          113.465,
          113.958,
          113.47399999999999,
          113.73,
          113.87100000000001,
          113.801,
          115.435,
          115.485,
          114.876,
          115.38600000000001,
          115.329,
          115.385,
          114.214,
          114.728,
          109.866,
          109.572,
          109.338,
          109.206,
          109.54899999999999,
          111.189,
          111.652,
          111.676,
          110.445,
          111.133,
          111.385,
          111.693,
          111.436,
          101.303,
          100.836,
          100.98200000000001,
          101.064,
          103.536,
          103.56,
          102.22,
          101.564,
          105.323,
          102.48,
          100.941,
          103.085,
          103.115,
          103.411,
          103.337,
          103.86399999999999,
          104.066,
          104.20100000000001,
          103.509,
          102.977,
          101.54799999999999,
          101.868,
          102.685,
          101.05799999999999,
          97.134,
          95.85700000000001,
          98.2,
          98.185,
          96.603,
          96.104,
          99.368,
          99.359,
          98.794,
          97.351,
          98.339,
          98,
          98.35799999999999,
          98.57600000000001,
          98.994,
          98.84200000000001,
          98.719,
          129.51,
          134.322,
          134.86,
          133.855,
          133.983,
          130.7,
          133.863,
          130.263,
          132.17,
          135.49,
          131.92600000000002,
          134.07299999999998,
          131.976,
          135.375,
          131.678,
          135.095,
          137.53,
          131.69,
          136.525,
          132.594,
          130.664,
          137.776,
          131.41,
          131.458,
          133.881,
          146.507,
          144.975,
          145.157,
          145.082,
          149.465,
          149.683,
          151.642,
          151.97,
          141.71,
          141.515,
          146.656,
          145.668,
          144.54,
          142.811,
          141.57299999999998,
          141.532,
          141.045,
          141.12,
          145.734,
          145.455,
          145.53799999999998,
          142.44,
          142.034,
          142.364,
          144.994,
          143.308,
          147.279,
          146.045,
          149.346,
          147.736,
          153.732,
          152.48,
          149.958,
          153.576,
          151.733,
          154.555,
          153.424,
          154.566,
          137.284,
          137.27100000000002,
          133.19,
          134.738,
          150.099,
          141.955,
          142.991,
          131.955,
          138.877,
          137.523,
          137.52100000000002,
          137.516,
          137.515,
          143.607,
          143.602,
          143.61,
          150.675,
          151.224,
          149.54,
          138.118,
          135.214,
          137.842,
          134.85,
          131.761,
          138.095,
          132.093,
          132.094,
          137.878,
          134.886,
          131.877,
          146.447,
          142.922,
          142.09,
          142.097,
          137.52,
          145.776,
          148.11700000000002,
          137.526,
          137.525,
          137.513,
          132.999,
          133,
          133.092,
          133.02700000000002,
          132.822,
          132.705,
          132.879,
          142.989,
          140.8575,
          142.989,
          133.075,
          132.731,
          137.501,
          143.069,
          137.584,
          137.713,
          137.616,
          149.289,
          144.501,
          149.591,
          145.6985,
          150.68,
          145.082,
          137.358,
          134.358,
          138.005,
          137.696,
          137.958,
          137.582,
          135.908,
          135.753,
          132.125,
          131.953,
          136.167,
          136.53,
          136.317,
          136.601,
          136.333,
          128.725,
          128.765,
          128.69899999999998,
          129.019,
          128.96,
          129.386,
          129.452,
          128.24,
          155.237,
          153.095,
          131.363,
          138.284,
          135.149,
          132.123,
          137.946,
          135.016,
          131.714,
          133.674,
          133.675,
          133.399,
          133.615,
          133.332,
          154.741,
          127.042,
          127.29700000000001,
          128.415,
          127.625,
          127.691,
          127.59299999999999,
          125.185,
          125.387,
          98.885,
          94.14,
          91.163,
          92.258,
          90.318,
          90.641,
          91.292,
          108.478,
          110.484,
          98.92,
          109.554,
          116.04799999999999,
          113.205,
          106.094,
          117.819,
          98.50299999999999,
          118.639,
          125.975,
          127.288,
          125.96799999999999,
          129.442,
          130.644,
          123.632,
          119.94200000000001,
          113.042,
          118.396,
          123.766,
          135.113,
          133.99,
          128.201,
          120.51,
          107.056,
          102.586,
          100.421,
          100.125,
          146.505,
          148.157,
          150.21,
          151.102,
          152.09,
          152.806,
          145.111,
          145.374,
          144.10399999999998,
          145.555,
          144.35399999999998,
          146.339,
          156.297,
          156.523,
          157.014,
          156.291,
          156.518,
          151.084,
          161.475,
          163.247,
          155.053,
          155.142,
          154.149,
          155.196,
          154.164,
          154.178,
          152.085
         ]
        },
        {
         "colorscale": [
          [
           0,
           "rgb(254, 246, 181)"
          ],
          [
           0.16666666666666666,
           "rgb(255, 221, 154)"
          ],
          [
           0.3333333333333333,
           "rgb(255, 194, 133)"
          ],
          [
           0.5,
           "rgb(255, 166, 121)"
          ],
          [
           0.6666666666666666,
           "rgb(250, 138, 118)"
          ],
          [
           0.8333333333333334,
           "rgb(241, 109, 122)"
          ],
          [
           1,
           "rgb(225, 83, 131)"
          ]
         ],
         "sizemode": "absolute",
         "sizeref": 350,
         "text": [
          "Auto-AC11a",
          "Auto-AC1Ba",
          "Auto-AC311a",
          "Auto-AC32a",
          "Auto-AC5Ba",
          "Auto-AC7Ba",
          "Auto-AC9a",
          "Auto-B11a",
          "Auto-B12a",
          "Auto-B41a",
          "Auto-B42a",
          "Auto-B51a",
          "Auto-B52a",
          "Auto-B61a",
          "Auto-B62a",
          "Auto-BAPM.4a",
          "Auto-BAPM1.1a",
          "Auto-BAPM2.1a",
          "Auto-BAPM3.1a",
          "Auto-G11a",
          "Auto-G12a",
          "Auto-G13a",
          "Auto-GR2.1a",
          "Auto-GR2.2a",
          "Auto-GR2.3a",
          "Auto-MS20a",
          "Auto-MS21a",
          "Auto-MS22a",
          "Auto-MS25a",
          "Auto-MS26a",
          "Auto-MS27a",
          "Auto-MS31a",
          "Auto-MS32a",
          "Auto-PC1.1a",
          "Auto-PC101a",
          "Auto-PC105a",
          "Auto-PC106a",
          "Auto-PC107a",
          "Auto-PC108a",
          "Auto-PC10a",
          "Auto-PC111a",
          "Auto-PC112a",
          "Auto-PC12a",
          "Auto-PC13.1a",
          "Auto-PC13a",
          "Auto-PC14.1a",
          "Auto-PC15.1a",
          "Auto-PC16.1a",
          "Auto-PC17.1a",
          "Auto-PC1A",
          "Auto-PC2.1a",
          "Auto-PC201a",
          "Auto-PC202a",
          "Auto-PC203a",
          "Auto-PC204a",
          "Auto-PC205a",
          "Auto-PC206a",
          "Auto-PC207a",
          "Auto-PC208a",
          "Auto-PC209a",
          "Auto-PC21a",
          "Auto-PC22a",
          "Auto-PC23a",
          "Auto-PC23Ba",
          "Auto-PC2a",
          "Auto-PC3.1a",
          "Auto-PC301a",
          "Auto-PC302a",
          "Auto-PC304a",
          "Auto-PC305a",
          "Auto-PC307a",
          "Auto-PC308a",
          "Auto-PC309a",
          "Auto-PC310a",
          "Auto-PC3a",
          "Auto-PC401a",
          "Auto-PC402a",
          "Auto-PC403a",
          "Auto-PC450a",
          "Auto-PC451a",
          "Auto-PC452a",
          "Auto-PC453a",
          "Auto-PC4a",
          "Auto-PC5a",
          "Auto-PC6.1a",
          "Auto-PC6A",
          "Auto-PC7a",
          "Auto-PC8a",
          "Auto-PCBA.1a",
          "Auto-PCBA.2a",
          "Auto-PCBA.3a",
          "Auto-PCBA.4a",
          "Auto-PD1a",
          "Auto-PD2.a",
          "Auto-PL101a",
          "Auto-PL202a",
          "Auto-PL301a",
          "Auto-PL402a",
          "Auto-PL501a",
          "Auto-PM.603a",
          "Auto-PM.604a",
          "Auto-PM.605a",
          "Auto-PM209a",
          "Auto-PM210a",
          "Auto-PM211a",
          "Auto-PM212a",
          "Auto-PM213a",
          "Auto-PM301a",
          "Auto-PM302a",
          "Auto-PM303a",
          "Auto-PM304a",
          "Auto-PM305a",
          "Auto-PM601a",
          "Auto-PM602a",
          "Auto-PMS.1a",
          "Auto-PMS1.2a",
          "Auto-PMS2.1a",
          "Auto-PMS2.2a",
          "Auto-PMS3.1a",
          "Auto-PMS3.2a",
          "Auto-PMS4.1a",
          "Auto-PMS4.2a",
          "Auto-PMS5.1a",
          "Auto-PMS5.2a",
          "Auto-PR14.1a",
          "Auto-RN7.1a",
          "Auto-TREM1a",
          "Auto-TREM2.1a",
          "Auto-TREM2.2a",
          "Auto-TREM2.3a",
          "Auto-TREM2a",
          "Auto-TREM3.a",
          "Auto-TREM4.a",
          "Auto-TREM5a",
          "Auto-TREM6a",
          "Auto-VJ1a",
          "Auto-VJ2a",
          "Auto-VJ3a",
          "Auto-VJ4a",
          "Auto-VJ6a",
          "Auto-VJ7a",
          "Auto-B13b",
          "Auto-B14b",
          "Auto-B23b",
          "Auto-B24b",
          "Auto-B43b",
          "Auto-B44b",
          "Auto-B53b",
          "Auto-B54b",
          "Auto-B63b",
          "Auto-B64b",
          "Auto-BAPM1.1b",
          "Auto-BAPM2.1b",
          "Auto-DB1b",
          "Auto-DB2b",
          "Auto-F1.1b",
          "Auto-F1.2b",
          "Auto-F1.3b",
          "Auto-F2.1b",
          "Auto-F2.2b",
          "Auto-F2.3b",
          "Auto-F3.1b",
          "Auto-F3.2b",
          "Auto-F3.3b",
          "Auto-F3.4b",
          "Auto-F4.1b",
          "Auto-F4.2b",
          "Auto-F4.3b",
          "Auto-F5.1b",
          "Auto-F5.2b",
          "Auto-F6.1b",
          "Auto-F6.2b",
          "Auto-F6.3b",
          "Auto-F7.1b",
          "Auto-F7.2b",
          "Auto-F7.3b",
          "Auto-F7.4b",
          "Auto-GR.2b",
          "Auto-GR3b",
          "Auto-GR4b",
          "Auto-PCBA.1b",
          "Auto-PCBA.2b",
          "Auto-PD.3b",
          "Auto-PD.4b",
          "Auto-PM102b",
          "Auto-PM103b",
          "Auto-PM201b",
          "Auto-PM401b",
          "Auto-PM402b",
          "Auto-PM403b",
          "Auto-PM404b",
          "Auto-PM501b",
          "Auto-PM615b",
          "Auto-PM616b",
          "Auto-PM617b",
          "Auto-PMS.1b",
          "Auto-PMS1.2b",
          "Auto-PMS2.1b",
          "Auto-PMS2.2b",
          "Auto-PMS3.1b",
          "Auto-PMS3.2b",
          "Auto-REFSS6b",
          "Auto-REFSS7b",
          "Auto-TQ101b",
          "Auto-TQ102b",
          "Auto-TQ103b",
          "Auto-TQ202b",
          "Auto-TQ203b",
          "Auto-TREM18.1b",
          "Auto-TREM18.2b",
          "Auto-US101b",
          "Auto-US102b",
          "Auto-US201b",
          "Auto-US202b",
          "Auto-UV101b",
          "Auto-UV102b",
          "Auto-UV103b",
          "Auto-UV104b",
          "Auto-UV201b",
          "Auto-UV202b",
          "Auto-UV203b",
          "Auto-UV303b",
          "Auto-BA2.1d",
          "Auto-BARET10.1d",
          "Auto-BARET11.1d",
          "Auto-BARET11.2d",
          "Auto-BARET11.3d",
          "Auto-BARET11.7d",
          "Auto-BARET2.2d",
          "Auto-BARET2.7d",
          "Auto-BARET3.2d",
          "Auto-BARET3.3d",
          "Auto-BARET9.7d",
          "Auto-F1.1d",
          "Auto-F1.2d",
          "Auto-F2.1d",
          "Auto-F2.2d",
          "Auto-F2.3d",
          "Auto-F3.1d",
          "Auto-F3.2d",
          "Auto-F4.1d",
          "Auto-F4.2d",
          "Auto-F4.3d",
          "Auto-F5.1d",
          "Auto-F5.2d",
          "Auto-F6.1d",
          "Auto-F6.2d",
          "Auto-F7.1d",
          "Auto-F7.2d",
          "Auto-F7.3d",
          "Auto-P11.3d",
          "Auto-P11.4d",
          "Auto-P12.2d",
          "Auto-P12.8d",
          "Auto-P120.6d",
          "Auto-P130.5d",
          "Auto-P17.1d",
          "Auto-P20.7d",
          "Auto-P5.3d",
          "Auto-P50.3d",
          "Auto-P9.1d",
          "Auto-P9.2d",
          "Sd-BARET11.1",
          "Sd-BARET11.2",
          "Sd-BARET11.3",
          "Sd-BARET2.1",
          "Sd-BARET2.2",
          "Sd-BARET3.1",
          "Sd-BARET3.2",
          "Sd-BARET3.3",
          "Sd-BARET4.1",
          "Sd-BARET4.2",
          "Sd-BARET4.3",
          "Sd-BARET5.1",
          "Sd-BARET5.3",
          "Sd-BARET8.1",
          "Sd-BARET8.2",
          "Sd-BARET8.3",
          "Sd-BARET9.2",
          "Sd-BARET6.1",
          "Sd-BARET6.2",
          "Sd-BARET6.3",
          "Sd-BARET1.1",
          "Sd-BARET1.2",
          "Sd-BARET1.3",
          "Sd-P1.1",
          "Sd-P2.1",
          "Sd-P3.1",
          "Sd-P5.1",
          "Sd-P6.1",
          "Sd-P7.1",
          "Sd-P8.1",
          "Sd-P9.1",
          "Sd-P10.1",
          "Sd-P11.1",
          "Sd-P12.1",
          "Sd-P120.1",
          "Sd-P13.1",
          "Sd-P130.1",
          "Sd-P14.1",
          "Sd-P140.1",
          "Sd-P142.1",
          "Sd-P143.1",
          "Sd-P15.1",
          "Sd-P150.1",
          "Sd-P16.1",
          "Sd-P17.1",
          "Sd-P18.1",
          "Sd-P19.1",
          "Sd-P20.1",
          "Sd-P21.1",
          "Sd-P22.1",
          "Sd-P23.1",
          "Sd-P24.1",
          "Sd-PM.704",
          "Sd-PM.705",
          "Sd-PM.706",
          "Sd-P80.1",
          "Sd-PIL4A.1",
          "Sd-PIL5C.1",
          "Sd-BA2.1",
          "Sd-BA3.1",
          "Sd-BA4.1",
          "Sd-BA5.1",
          "Sd-PIL10.1",
          "Sd-PIL2A.1",
          "Sd-PIL8.1",
          "Sd-BA1.1",
          "Sd-PSDALLE.6",
          "Sd-PSDALLE.1",
          "Sd-PSDALLE.2",
          "Sd-PSDALLE.3",
          "Sd-PSDALLE.4",
          "Sd-PSDALLE.7",
          "Sd-P1.2",
          "Sd-P2.2",
          "Sd-PM.707",
          "Sd-PM.708",
          "Sd-PM.709",
          "Sd-PM.710",
          "Sd-P11.2",
          "Sd-P12.2",
          "Sd-P141.2",
          "Sd-P142.2",
          "Sd-P143.2",
          "Sd-P150.2",
          "Sd-P8.2",
          "Sd-P9.2",
          "Sd-P50.2",
          "Sd-P902",
          "Sd-P100.2",
          "Sd-P19.2",
          "Sd-P20.2",
          "Sd-P22.2",
          "Sd-P23.2",
          "Sd-P25.2",
          "Sd-P26.2",
          "Sd-P1.3",
          "Sd-P2.3",
          "Sd-P3.3",
          "Sd-P120.3",
          "Sd-P130.3",
          "Sd-P140.3",
          "Sd-P142.3",
          "Sd-P143.3",
          "Sd-P150.3",
          "Sd-P5.3",
          "Sd-P50.3",
          "Sd-P11.3",
          "Sd-P12.3",
          "Sd-P8.3",
          "Sd-P9.3",
          "Sd-P130.4",
          "Sd-P140.4",
          "Sd-P143.4",
          "Sd-P150.4",
          "Sd-P1.4",
          "Sd-P2.4",
          "Sd-P3.4",
          "Sd-P5.4",
          "Sd-P130.5",
          "Sd-P11.4",
          "Sd-P12.4",
          "Sd-P120.6",
          "Sd-P14.6",
          "Sd-P143.6",
          "Sd-P150.6",
          "Sd-P17.6",
          "Sd-P110.3",
          "Sd-P7.3",
          "Sd-P9.4",
          "Sd-P901.2",
          "Sd-BA3.2",
          "Sd-BA4.2",
          "Sd-BA5.2",
          "Sd-P3.5",
          "Sd-P4.5",
          "Sd-P5.5",
          "Sd-P50.5",
          "Sd-P7.5",
          "Sd-BA1.2",
          "Sd-P22.3",
          "Sd-P25.3",
          "Sd-P26.3",
          "Sd-BARET8.7",
          "Sd-BARET9.7",
          "Sd-P11.7",
          "Sd-P180.7",
          "Sd-P20.7",
          "Sd-P110.7",
          "Sd-P111.7",
          "Sd-P8.7",
          "Sd-P80.7",
          "Sd-P9.7",
          "Sd-P901.7",
          "Sd-P902.7",
          "Sd-BA2.7",
          "Sd-BA3.7",
          "Sd-BA4.7",
          "Sd-BA5.7",
          "Sd-P1.7",
          "Sd-P3.7",
          "Manu-SEC4.1",
          "Manu-SEC4.2",
          "Manu-SEC4.3",
          "Manu-SEC4.4",
          "Manu-SEC4.5",
          "Manu-SEC4.5C",
          "Manu-SEC4.6",
          "Manu-SEC4.7",
          "Manu-SEC4.8",
          "Manu-SEC4.9",
          "Manu-SEC4.10",
          "Manu-SEC4.11",
          "Manu-SEC4.12",
          "Manu-SEC4.13",
          "Manu-SEC4.14",
          "Manu-SEC4.24",
          "Manu-SEC4.23",
          "Manu-SEC4.22",
          "Manu-SEC4.17",
          "Manu-SEC4.16",
          "Manu-SEC4.15",
          "Manu-SEC4.18",
          "Manu-SEC4.19",
          "Manu-SEC4.20",
          "Manu-SEC4.21",
          "Manu-PC1",
          "Manu-PC2",
          "Manu-PC3",
          "Manu-PC4",
          "Manu-PC5",
          "Manu-PC6",
          "Manu-PC7",
          "Manu-PC8",
          "Manu-PC111",
          "Manu-PC112",
          "Manu-PC10",
          "Manu-PC11",
          "Manu-PC12",
          "Manu-PC13",
          "Manu-PC21",
          "Manu-PC22",
          "Manu-PC23",
          "Manu-PC23B",
          "Manu-AC1B",
          "Manu-AC5B",
          "Manu-AC7B",
          "Manu-AC30",
          "Manu-AC31",
          "Manu-AC32",
          "Manu-AC7",
          "Manu-AC8",
          "Manu-AC9",
          "Manu-AC10",
          "Manu-AC11",
          "Manu-AC12",
          "Manu-VJ1",
          "Manu-VJ2",
          "Manu-VJ3",
          "Manu-VJ4",
          "Manu-VJ5",
          "Manu-VB1",
          "Manu-VB2",
          "Manu-VB3",
          "Manu-PN.1",
          "Manu-PN.2",
          "Manu-PN.3",
          "Manu-PN.4",
          "Manu-NP.1",
          "Manu-AC311B",
          "Manu-BAPM1.1",
          "Manu-MS21",
          "Manu-MS22",
          "Manu-PC13.1",
          "Manu-PC2.1",
          "Manu-PC3.1",
          "Manu-PC7.1",
          "Manu-PCBA.1",
          "Manu-PCBA.2",
          "Manu-PCBA.3",
          "Manu-PMS3.1",
          "Manu-PMS4.1",
          "Manu-PMS4.2",
          "Manu-F1.1",
          "Manu-F1.2",
          "Manu-F2.1",
          "Manu-F2.2",
          "Manu-F2.3",
          "Manu-F3.1",
          "Manu-F3.2",
          "Manu-F3.3",
          "Manu-F4.1",
          "Manu-F4.2",
          "Manu-F4.3",
          "Manu-PMS3.2",
          "Manu-MS25",
          "Manu-MS26",
          "Manu-MS27",
          "Manu-PC15.1",
          "Manu-PMS7.2",
          "Manu-PMS6.1",
          "Manu-PC14.1",
          "Manu-PC16.1",
          "Manu-PC17.1",
          "Manu-PC201",
          "Manu-PC202",
          "Manu-PC203",
          "Manu-PC204",
          "Manu-PC207",
          "Manu-PC208",
          "Manu-PC209",
          "Manu-BAPM.4",
          "Manu-BAPM2.1",
          "Manu-BAPM3.1",
          "Manu-PC205",
          "Manu-PC206",
          "Manu-PC1.1",
          "Manu-PCBA.4",
          "Manu-PM209",
          "Manu-PM212",
          "Manu-PM213",
          "Manu-PMS.1",
          "Manu-PMS1.2",
          "Manu-PMS2.1",
          "Manu-PMS2.2",
          "Manu-PMS5.1",
          "Manu-PMS5.2",
          "Manu-F5.1",
          "Manu-F5.2",
          "Manu-PM102",
          "Manu-PM201",
          "Manu-PM103",
          "Manu-PM.204",
          "Manu-PM.301",
          "Manu-PM.302",
          "Manu-PM.401",
          "Manu-PM.402",
          "Manu-PC108",
          "Manu-PC107",
          "Manu-PC106",
          "Manu-PC105",
          "Manu-PC101",
          "Manu-PC310",
          "Manu-PC309",
          "Manu-PC308",
          "Manu-PC307",
          "Manu-PC305",
          "Manu-PC304",
          "Manu-PC302",
          "Manu-PC301",
          "Manu-RN7.1",
          "Manu-VJ6",
          "Manu-F5.3",
          "Manu-F6.1",
          "Manu-F6.2",
          "Manu-F6.3",
          "Manu-F7.1",
          "Manu-F7.2",
          "Manu-F7.3",
          "Manu-PM400",
          "Manu-PM401",
          "Manu-PM403",
          "Manu-PM404",
          "Manu-PM405",
          "Manu-VJ7",
          "Manu-PRT1",
          "Manu-PRT2",
          "Manu-PAL3",
          "Manu-PAL4",
          "Manu-PAL5",
          "Manu-PAL6",
          "Manu-PRTE1",
          "Manu-PRTE2",
          "Manu-SEC123.1",
          "Manu-SEC123.2",
          "Manu-SEC123.3",
          "Manu-SEC123.4",
          "Manu-SEC123.5",
          "Manu-SEC123.6",
          "Manu-SEC123.7",
          "Manu-SEC123.8",
          "Manu-SEC123.9",
          "Manu-SEC123.10",
          "Manu-SEC123.11",
          "Manu-SEC123.12",
          "Manu-SEC123.13",
          "Manu-SEC123.14",
          "Manu-SEC123.15",
          "Manu-SEC123.16",
          "Manu-SEC123.17",
          "Manu-SEC123.18",
          "Manu-SEC123.19",
          "Manu-SEC123.20",
          "Manu-SEC123.21",
          "Manu-SEC123.22",
          "Manu-SEC123.23",
          "Manu-SEC123.24",
          "Manu-SEC123.25",
          "Manu-SEC123.26",
          "Manu-SEC123.27",
          "Manu-SEC123.28",
          "Manu-SEC123.29",
          "Manu-SEC123.30",
          "Manu-SEC123.31",
          "Manu-SEC123.32",
          "Manu-SEC123.33",
          "Manu-SEC123.34",
          "Manu-SEC123.35",
          "Manu-RN7.11",
          "Manu-RN7.12",
          "Manu-RN7.13",
          "Manu-RN7.14",
          "Manu-RN7.15",
          "Manu-RN7.16",
          "Manu-ESC1",
          "Manu-ESC2",
          "Manu-MJ1",
          "Manu-MJ2",
          "Manu-MJ3",
          "Manu-RN7.10",
          "Manu-PM4",
          "Manu-PM5",
          "Manu-PM6",
          "Manu-PM7",
          "Manu-PM8",
          "Manu-RN7.14B",
          "Manu-PM2",
          "Manu-PM3",
          "Manu-VB4",
          "Manu-VB20",
          "Manu-VB21",
          "Manu-VB22",
          "Manu-VB23",
          "Manu-VJ20",
          "Manu-VJ21"
         ],
         "type": "cone",
         "u": [
          0.023000000044703484,
          0.004999999888241291,
          0.030769229866564274,
          0.01699999999254942,
          0.02000000001862645,
          0.01600000006146729,
          0.027000000001862645,
          0.0005000000819563866,
          0.008000000147148967,
          0.008328289957717061,
          0.008454550057649612,
          0.004618179984390736,
          0.008651509881019592,
          0.007545450236648321,
          0.0027045500464737415,
          0.012666670139878988,
          0.012750000227242708,
          0.0012499999720603228,
          0,
          0,
          0,
          0,
          -0.0009999999310821295,
          0.0009999999310821295,
          -0.0009999999310821295,
          -0.0012857099063694477,
          0.001999999862164259,
          0.001857140101492405,
          0.0020000000949949026,
          0.0031250000465661287,
          0.003000000026077032,
          -0.00033332989551126957,
          0,
          0.023999999975785613,
          0.0037499999161809683,
          0.014000000199303031,
          0.02199999988079071,
          0.02399999974295497,
          0.02299999981187284,
          0.023000000044703484,
          0.025794869987294078,
          0.02602564007975161,
          0.019954540068283677,
          0.003999999957159162,
          0.02000000001862645,
          0.0029000001959502697,
          0.009000000078231096,
          0.009000000078231096,
          0.01600000006146729,
          0.0220512798987329,
          0.006999999983236194,
          0.0029999997932463884,
          0.007999999914318323,
          0.010000000009313226,
          0.011153850238770247,
          0.017899999860674143,
          0.031999999890103936,
          0.02695651981048286,
          0.02514285990037024,
          0.02199999988079071,
          0.02114285994321108,
          0.02421429008245468,
          0.02099999994970858,
          0.02192308008670807,
          0.02456756983883679,
          0.028999999864026904,
          -0.001999999862164259,
          0.00419999985024333,
          0.010999999940395355,
          0.01699999999254942,
          0.023999999975785613,
          0.013000000035390258,
          0.008750000037252903,
          0.004999999888241291,
          0.023000000044703484,
          -0.001999999862164259,
          -0.003000000026077032,
          -0.00016666995361447334,
          0.000699999975040555,
          -0.0009999999310821295,
          -0.0029999997932463884,
          -0.0010666700545698404,
          0.02216215990483761,
          0.01848649000748992,
          0.023199999937787652,
          0.007168499985709786,
          0.012486489955335855,
          0.01035135006532073,
          0.013500000117346644,
          0.010800000047311187,
          0.015333329793065786,
          0.010000000009313226,
          0,
          0.002500000176951289,
          0.005287230014801025,
          0.0019361700396984816,
          0.0007943299133330584,
          0.00012500002048909664,
          0.00014894013293087482,
          0.006192309781908989,
          -0.009423079900443554,
          0.006999999983236194,
          0.0059999998193234205,
          0.007200000109151006,
          0.006700000027194619,
          0.0005499999970197678,
          0.012875000014901161,
          0.009088239865377545,
          0.00035294005647301674,
          0.01047058985568583,
          0.006921570049598813,
          0.005794120021164417,
          0.00774999987334013,
          0.007199999876320362,
          0.011136359767988324,
          0.008500000229105353,
          0.011750000063329935,
          0.010000000009313226,
          0.01280000014230609,
          0.010047619929537177,
          0.013357150135561824,
          0.006499999901279807,
          0.010785720078274608,
          0.008928569965064526,
          -0.019000000087544322,
          0.006285710027441382,
          -0.006999999983236194,
          0.005125000141561031,
          0.0030000002589076757,
          0.014999999897554517,
          -0.013500000117346644,
          0.005949999904260039,
          0.030333329923450947,
          0.0010833300184458494,
          0.0007499998901039362,
          0.013823530171066523,
          0.014500000048428774,
          0.01699999999254942,
          0.026000000070780516,
          0.006285710027441382,
          0.009285710053518414,
          -0.002666669897735119,
          -0.004333329852670431,
          -0.0011666698846966028,
          -0.0011666701175272465,
          -0.0008461500983685255,
          -1.282012090086937e-05,
          -0.0009461499284952879,
          -9.614997543394566e-05,
          -0.005912089953199029,
          2.1979911252856255e-05,
          0.0012307700235396624,
          0.0016060599591583014,
          0.0016666699666529894,
          0.0009999999310821295,
          -0.011999999871477485,
          -0.012000000104308128,
          -0.012000000104308128,
          0.0030999998562037945,
          -0.012000000104308128,
          -0.011944439960643649,
          -0.011181820183992386,
          -0.005125000141561031,
          -0.012076920131221414,
          0.07001020014286041,
          -0.01066667027771473,
          -0.010999999940395355,
          -0.010000000009313226,
          -0.013400000287219882,
          -0.014999999897554517,
          -0.007400000235065818,
          -0.00699999975040555,
          -0.008000000147148967,
          -0.004999999888241291,
          -0.005399999907240272,
          -0.006000000052154064,
          -0.0037799999117851257,
          -0.003357140114530921,
          -0.0005714301951229572,
          -0.0008571401704102755,
          0.0003846201580017805,
          -0.0009166700765490532,
          -0.0013611100148409605,
          -0.004500000271946192,
          0.0034318200778216124,
          -0.0020000000949949026,
          0.0009999999310821295,
          0.008875000057742,
          0.001299999887123704,
          0.00012500002048909664,
          0.0005000000819563866,
          0.004785710014402866,
          0.004071430070325732,
          0.004714289912953973,
          -0.0009999999310821295,
          5.55599108338356e-05,
          -0.0009999999310821295,
          0,
          -0.0010000001639127731,
          0.001600000075995922,
          -5.5549899116158485e-05,
          0.06451744004152715,
          -0.005933329928666353,
          -0.010999999940395355,
          0.001999999862164259,
          0.002666669897735119,
          0.0030000002589076757,
          0.0028333300724625587,
          -0.0024999999441206455,
          -0.019587300019338727,
          -5.713989958167076e-05,
          0.0004999998491257429,
          -0.000380959827452898,
          0.005285710096359253,
          -0.001057140063494444,
          -0.0016666697338223457,
          -0.0010000001639127731,
          -0.0012000000569969416,
          -0.0013714300002902746,
          -0.014999999897554517,
          -0.0013809599913656712,
          0.0004999998491257429,
          0.0016666699666529894,
          0.0036428598687052727,
          0.0029999997932463884,
          0.004999999888241291,
          0.006999999983236194,
          0.005166670074686408,
          -0.0014761898200958967,
          -0.00279999990016222,
          -0.001333329826593399,
          -0.002428569830954075,
          -0.030000000027939677,
          -0.0011428599245846272,
          -0.0017142901197075844,
          -0.001999999862164259,
          -0.0010000003967434168,
          -0.0019920701161026955,
          -0.0013095301110297441,
          -0.0034047600347548723,
          -0.0010000003967434168,
          -0.0012000000569969416,
          -0.0014047601725906134,
          -0.0012142900377511978,
          -0.001500000013038516,
          -0.002199999988079071,
          -0.002300000051036477,
          -0.001928569981828332,
          -0.0011428599245846272,
          -0.0020000000949949026,
          -0.001999999862164259,
          0,
          -0.0014999997802078724,
          -0.0003333301283419132,
          -0.005333330016583204,
          -0.003999999957159162,
          -0.001999999862164259,
          -0.0013333300594240427,
          0.009714290034025908,
          0.010999999940395355,
          0.0024999999441206455,
          0.0021666702814400196,
          0,
          0.0030000002589076757,
          0.006000000052154064,
          -0.003000000026077032,
          -0.0029999997932463884,
          -0.003000000026077032,
          -0.001999999862164259,
          -0.003999999724328518,
          -0.0029999997932463884,
          -0.0020000003278255463,
          -0.001999999862164259,
          -0.001999999862164259,
          0.003000000026077032,
          0.003999999957159162,
          0.006999999983236194,
          0.010999999940395355,
          -0.0029999997932463884,
          0.0020000000949949026,
          0.013999999966472387,
          0.003000000026077032,
          0.001999999862164259,
          0.0009999999310821295,
          0,
          0.003999999724328518,
          0.010000000009313226,
          0.01600000006146729,
          0.018000000156462193,
          0.02399999974295497,
          0.02800000016577542,
          0.023000000044703484,
          0.0020000003278255463,
          0.0009999999310821295,
          0.005000000121071935,
          0.004999999888241291,
          0.001999999862164259,
          -0.0009999999310821295,
          -0.006000000284984708,
          -0.009000000078231096,
          -0.010000000009313226,
          -0.011000000173225999,
          -0.012999999802559614,
          -0.02000000001862645,
          -0.013000000268220901,
          -0.004999999888241291,
          -0.004000000189989805,
          -0.006000000052154064,
          0.001999999862164259,
          0.0029999997932463884,
          -0.008999999845400453,
          0.004000000189989805,
          0.001999999862164259,
          0.0020000000949949026,
          0.003000000026077032,
          0.003999999957159162,
          0.004000000189989805,
          0.02000000001862645,
          0,
          0,
          0.001999999862164259,
          0.0029999997932463884,
          0.001999999862164259,
          0.0009999999310821295,
          0.00699999975040555,
          -0.0020000003278255463,
          0.007000000216066837,
          0.010000000009313226,
          0.009000000078231096,
          0.003000000026077032,
          0.001999999862164259,
          -0.0020000000949949026,
          0.0009999999310821295,
          0.003999999957159162,
          0.0010000001639127731,
          0.010000000009313226,
          0.0009999999310821295,
          0,
          0.001999999862164259,
          0.0010000001639127731,
          -0.12599999993108213,
          -0.039000000106170774,
          -0.027000000001862645,
          -0.017000000225380063,
          -0.016999999759718776,
          -0.013999999966472387,
          0.02099999994970858,
          0.010999999940395355,
          0.019999999785795808,
          0.0030000002589076757,
          0.001999999862164259,
          0.0009999999310821295,
          0.006000000052154064,
          0.0009999999310821295,
          0.0020000000949949026,
          0.0009999999310821295,
          0,
          -0.001999999862164259,
          0.004000000189989805,
          0.0010000001639127731,
          -0.004000000189989805,
          -0.009999999776482582,
          -0.02000000001862645,
          -0.02199999988079071,
          -0.017999999690800905,
          -0.014000000199303031,
          0.01799999992363155,
          0.009000000078231096,
          0.01699999999254942,
          0.0029999997932463884,
          0.019000000087544322,
          0.013000000035390258,
          -0.004999999888241291,
          -0.012999999802559614,
          -0.009000000078231096,
          -0.006000000284984708,
          -0.0029999997932463884,
          0.009000000078231096,
          0.013000000035390258,
          0.019000000087544322,
          -0.009000000078231096,
          0.0029999997932463884,
          -0.003000000026077032,
          -0.001999999862164259,
          -0.003999999957159162,
          -0.0029999997932463884,
          -0.004000000189989805,
          -0.007999999914318323,
          0,
          0.01699999999254942,
          0.00699999975040555,
          0,
          0.003000000026077032,
          0.003999999957159162,
          0.0030000002589076757,
          0.00699999975040555,
          0.0009999999310821295,
          0.014999999897554517,
          0.01600000006146729,
          0.01600000006146729,
          0.003999999957159162,
          0,
          0.0009999999310821295,
          -0.003999999957159162,
          0.010999999940395355,
          -0.003999999957159162,
          0.003999999724328518,
          0.0009999999310821295,
          -0.001999999862164259,
          -0.0009999999310821295,
          0.0009999999310821295,
          0.010000000009313226,
          0.014999999897554517,
          0.006999999983236194,
          0.0020000000949949026,
          0.006000000052154064,
          0.001999999862164259,
          0.001999999862164259,
          0.004000000189989805,
          0.0020000003278255463,
          0.010999999940395355,
          0.004999999888241291,
          -0.0029999997932463884,
          -0.003999999957159162,
          -0.004999999888241291,
          -0.003999999724328518,
          -0.003999999957159162,
          -0.003000000026077032,
          -0.001999999862164259,
          -0.001999999862164259,
          -0.001999999862164259,
          -0.0020000003278255463,
          -0.0020000000949949026,
          -0.0009999999310821295,
          0,
          -0.0009999999310821295,
          -0.024999999906867743,
          0.0009999999310821295,
          0.0009999999310821295,
          0.001999999862164259,
          0.0020000000949949026,
          0.0009999999310821295,
          0,
          0.0009999999310821295,
          0,
          0.0009999999310821295,
          0.0010000001639127731,
          0.008000000147148967,
          0.01799999992363155,
          0.019000000087544322,
          0.013000000268220901,
          0.02399999974295497,
          0.0030000002589076757,
          0.008000000147148967,
          0.003999999957159162,
          0.023999999975785613,
          0.05099999997764826,
          0.030999999959021807,
          0.009000000078231096,
          0.023000000277534127,
          0.015999999828636646,
          0.017000000225380063,
          0.047999999951571226,
          0.015999999828636646,
          0.01899999985471368,
          0.0009999999310821295,
          0.02099999994970858,
          0.022000000113621354,
          0.0044999998062849045,
          0.010000000009313226,
          0.02000000001862645,
          -0.0009999999310821295,
          -0.0009999999310821295,
          0.026999999769032,
          -0.0010000001639127731,
          0.027999999932944775,
          -0.006000000284984708,
          0.009999999776482582,
          0.010999999940395355,
          0.013999999966472387,
          0.003999999724328518,
          -0.0009999999310821295,
          0.007000000216066837,
          0,
          0.0059999998193234205,
          0.0010000003967434168,
          0,
          0.001999999862164259,
          0.0009999999310821295,
          -0.001999999862164259,
          0.006000000052154064,
          -0.003000000026077032,
          -0.0029999997932463884,
          0.0009999999310821295,
          0.001999999862164259,
          0.0009999999310821295,
          0.02700000023469329,
          0.010999999940395355,
          0.0009999999310821295,
          0.013999999966472387,
          0.003999999957159162,
          0.005000000121071935,
          0.0059999998193234205,
          -0.003999999724328518,
          -0.0009999999310821295,
          -0.0009999999310821295,
          0.012000000104308128,
          0,
          -0.0010000001639127731,
          -0.001999999862164259,
          -0.005000000121071935,
          -0.005000000121071935,
          -0.001999999862164259,
          -0.0009999999310821295,
          -0.0009999999310821295,
          0.004000000189989805,
          0.0009999999310821295,
          0.0009999999310821295,
          0.0009999999310821295,
          0.003999999724328518,
          -0.008999999845400453,
          0.0059999998193234205,
          0.0009999999310821295,
          0.008000000147148967,
          0.01500000013038516,
          0.003000000026077032,
          0.0009999999310821295,
          0.006000000052154064,
          0.010000000009313226,
          0.025999999837949872,
          0.02299999981187284,
          0.017999999690800905,
          0,
          0.012999999802559614,
          -0.010999999940395355,
          0.014999999897554517,
          0.029000000096857548,
          0.01699999999254942,
          0.006000000052154064,
          -0.010000000009313226,
          0.004999999888241291,
          0.004000000189989805,
          0,
          0,
          -0.00699999975040555,
          -0.007000000216066837,
          0.003000000026077032,
          0,
          -0.0029999997932463884,
          -0.001999999862164259,
          0.005000000121071935,
          0.007000000216066837,
          0.0020000003278255463,
          -0.006000000284984708,
          -0.006000000052154064,
          -0.008000000147148967,
          -0.004999999888241291,
          -0.008000000147148967,
          0.02099999994970858,
          0.02199999988079071,
          0.02199999988079071,
          0.014000000199303031,
          0.001999999862164259,
          0,
          0.0020000003278255463,
          0.009000000078231096,
          0.02199999988079071,
          0.01600000006146729,
          0.010000000009313226,
          0.0020000000949949026,
          -0.001999999862164259,
          0.00699999975040555,
          0.006000000052154064,
          0,
          0,
          -0.0010000003967434168,
          -0.001999999862164259,
          0.0009999999310821295,
          0,
          -0.0009999999310821295,
          0,
          0.013999999966472387,
          0.004999999888241291,
          0,
          0,
          0.010000000009313226,
          0.0009999999310821295,
          -0.014000000199303031,
          0.0010000001639127731,
          -0.010999999940395355,
          -0.018000000156462193,
          -0.013000000268220901,
          0,
          0,
          -0.0009999999310821295,
          -0.0030000002589076757,
          -0.0029999997932463884,
          -0.001999999862164259,
          -0.003000000026077032,
          -0.001999999862164259,
          -0.0030000002589076757,
          -0.0029999997932463884,
          -0.0029999997932463884,
          -0.0020000000949949026,
          -0.0030000002589076757,
          -0.001999999862164259,
          -0.001999999862164259,
          -0.001999999862164259,
          -0.0020000003278255463,
          -0.001999999862164259,
          -0.0010000001639127731,
          0.0010000003967434168,
          -0.0020000000949949026,
          -0.0029999997932463884,
          -0.003000000026077032,
          -0.0029999997932463884,
          -0.0029999997932463884,
          -0.0029999997932463884,
          -0.003000000026077032,
          -0.0029999997932463884,
          -0.0029999997932463884,
          -0.0020000000949949026,
          -0.0020000000949949026,
          -0.0020000000949949026,
          -0.0020000000949949026,
          -0.0020000003278255463,
          -0.001999999862164259,
          -0.003000000026077032,
          -0.0029999997932463884,
          -0.0009999999310821295,
          -0.0009999999310821295,
          0.0009999999310821295,
          0.001999999862164259,
          0.0009999999310821295,
          0.003000000026077032,
          -0.0009999999310821295,
          0,
          0.009000000078231096,
          0.0020000003278255463,
          0.0009999999310821295,
          0.0010000003967434168,
          0,
          0.0020000003278255463,
          0,
          -0.003000000026077032,
          0,
          -0.0009999999310821295,
          0.0009999999310821295,
          0.008000000147148967,
          0.008000000147148967,
          0,
          -0.0009999999310821295,
          0,
          0.0009999999310821295,
          0.0029999997932463884,
          0.0009999999310821295
         ],
         "v": [
          -0.03900000033900142,
          -0.013999999966472387,
          0.07707691984251142,
          -0.013000000268220901,
          -0.018000000156462193,
          -0.019000000320374966,
          -0.03505000006407499,
          -0.01066667027771473,
          -0.02000000001862645,
          -0.02673736959695816,
          -0.027181820012629032,
          -0.01810909016057849,
          -0.024712129961699247,
          -0.024818179663270712,
          -0.02027272991836071,
          -0.024666659999638796,
          -0.013625000137835741,
          -0.011500000488013029,
          0,
          0,
          0,
          0,
          0,
          0.0009999996982514858,
          0,
          -0.0043333303183317184,
          -0.006000000052154064,
          -0.006000000052154064,
          -0.010999999940395355,
          -0.009999999776482582,
          -0.007999999448657036,
          -0.0010000001639127731,
          0,
          -0.04906666977331042,
          -0.005499999970197678,
          -0.007000000216066837,
          -0.011999999638646841,
          -0.02899999963119626,
          -0.03399999998509884,
          -0.031000000424683094,
          -0.03902564011514187,
          -0.04215383995324373,
          -0.02000000001862645,
          -0.005307690240442753,
          -0.014333339873701334,
          -0.007999999448657036,
          -0.007999999914318323,
          -0.007499999832361937,
          -0.00800000037997961,
          -0.03412821050733328,
          -0.01423077005892992,
          -0.00699999975040555,
          -0.007999999914318323,
          -0.006000000052154064,
          -0.006000000052154064,
          -0.007000000216066837,
          -0.010937499813735485,
          -0.036869569681584835,
          -0.043000000063329935,
          -0.0400000000372529,
          -0.03235714044421911,
          -0.026285710278898478,
          -0.029000000096857548,
          -0.01500000013038516,
          -0.038783779833465815,
          -0.03700000001117587,
          -0.004999999888241291,
          -0.005400000140070915,
          -0.005799999460577965,
          -0.004999999888241291,
          -0.029999999795109034,
          -0.023400000296533108,
          -0.023000000044703484,
          -0.029999999795109034,
          -0.03902563964948058,
          -0.005500000435858965,
          -0.014000000432133675,
          0.021499999798834324,
          -0.00570000009611249,
          -0.002399999648332596,
          -0.0018571396358311176,
          -0.001999999862164259,
          -0.038891890086233616,
          -0.03348648967221379,
          -0.05450000008568168,
          -0.014538459945470095,
          -0.043189190328121185,
          -0.042027030140161514,
          -0.024750000331550837,
          -0.013999999966472387,
          -0.016809530090540648,
          -0.04266667040064931,
          0,
          -0.0032500000670552254,
          -0.006808509584516287,
          -0.007404259871691465,
          -0.004191489890217781,
          -0.006270830053836107,
          -0.0020638303831219673,
          -0.026999999769032,
          -0.02438461035490036,
          -0.02766667027026415,
          -0.024000000674277544,
          -0.031700000166893005,
          -0.03769999975338578,
          0,
          -0.04199999989941716,
          -0.03547058952972293,
          -0.003164710011333227,
          -0.03476470988243818,
          -0.03239214979112148,
          -0.024852939881384373,
          -0.026374999899417162,
          -0.030499999411404133,
          -0.030545460060238838,
          -0.031000000424683094,
          -0.034999999683350325,
          -0.03249999973922968,
          -0.0346666700206697,
          -0.030142860021442175,
          -0.0400000000372529,
          -0.0021379301324486732,
          -0.03928571008145809,
          -0.03521429002285004,
          0.00699999975040555,
          -0.028000000398606062,
          0.0060000005178153515,
          -0.013000000268220901,
          -0.004000000189989805,
          -0.015250000637024641,
          0.004000000189989805,
          -0.0023833299055695534,
          0.07076667016372085,
          0.00699999975040555,
          0.008750000037252903,
          -0.036000000312924385,
          -0.03500000014901161,
          -0.032999999821186066,
          0.014999999664723873,
          -0.02685713954269886,
          -0.028428570367395878,
          0.003000000026077032,
          0.003999999724328518,
          0.0025833300314843655,
          0.0008666696958243847,
          0.0021666698157787323,
          -0.0013076900504529476,
          0.0013153799809515476,
          -0.0008557699620723724,
          0.003769229631870985,
          0.00010989001020789146,
          -0.010999999940395355,
          -0.004762629978358746,
          -0.0033333301544189453,
          -0.005999999586492777,
          0.007000000216066837,
          0.006000000052154064,
          0.006000000052154064,
          0.04040000028908253,
          0.0044999998062849045,
          0.0044999998062849045,
          0.006590910255908966,
          0.005800000391900539,
          0.0061538503505289555,
          -0.0037142899818718433,
          0.007666670251637697,
          0.0060000005178153515,
          0.006400000303983688,
          0.008800000417977571,
          0.003000000026077032,
          0.0060000005178153515,
          0.005499999970197678,
          0.005499999970197678,
          0.001999999862164259,
          0.0014999997802078724,
          0.0012000002898275852,
          -0.00022666994482278824,
          -0.024642860051244497,
          0,
          0,
          -0.023923079948872328,
          -0.0206666705198586,
          0.001305560115724802,
          -0.024222220294177532,
          -0.0061818198300898075,
          -0.004999999888241291,
          -0.026666670106351376,
          -0.008125000167638063,
          0.001057140063494444,
          -0.00912499986588955,
          -0.01487499987706542,
          -0.004428569693118334,
          -0.007071429863572121,
          -0.0053714304231107235,
          -0.0037499996833503246,
          -0.029000000562518835,
          -0.028000000398606062,
          -0.03000000026077032,
          -0.028499999549239874,
          -0.02899999963119626,
          -0.028000000398606062,
          -0.0015784897841513157,
          0.0006999997422099113,
          0.00699999975040555,
          -0.001999999862164259,
          -0.002333329990506172,
          -0.001199999824166298,
          -0.0011666701175272465,
          0.0014444398693740368,
          0.00857143010944128,
          -0.0008571394719183445,
          0.0009000003337860107,
          0.002619040198624134,
          0.0005714301951229572,
          0.0017571402713656425,
          0.008874999824911356,
          0.011049999855458736,
          0.002950000111013651,
          0.00271428981795907,
          -0.003599999938160181,
          0.0034761899150907993,
          0,
          0.0029761902987957,
          -0.007309529930353165,
          -0.004000000189989805,
          -0.008166669867932796,
          -0.007499999832361937,
          -0.008999999612569809,
          0.0010000001639127731,
          -0.004466670099645853,
          -0.007999999448657036,
          -0.0139999995008111,
          0.027249999810010195,
          0.000380959827452898,
          7.143011316657066e-05,
          4.761992022395134e-05,
          -0.000380959827452898,
          7.143011316657066e-05,
          -0.0009999996982514858,
          0.001857140101492405,
          -0.0009285700507462025,
          -0.0007666698656976223,
          -0.0005952399224042892,
          -0.00014285976067185402,
          0,
          0,
          0.000599999912083149,
          0.0001904703676700592,
          -0.00030952971428632736,
          0,
          -0.0015000002458691597,
          -0.002666669897735119,
          0.0010000001639127731,
          -0.001999999862164259,
          0.001999999862164259,
          0,
          0.0010000006295740604,
          0.00016666995361447334,
          -0.009833329357206821,
          -0.008500000461935997,
          -0.0010952400043606758,
          -0.011166670359671116,
          0,
          -0.00699999975040555,
          -0.008999999612569809,
          0,
          0.001999999862164259,
          -0.0010000001639127731,
          -0.00699999975040555,
          -0.013999999966472387,
          0.0010000001639127731,
          -0.001999999862164259,
          0,
          0.001999999862164259,
          0.0009999996982514858,
          0.0009999996982514858,
          0,
          -0.003000000026077032,
          -0.0009999996982514858,
          -0.001999999862164259,
          -0.005000000353902578,
          0.0010000001639127731,
          -0.001999999862164259,
          0.001999999862164259,
          0.0010000001639127731,
          -0.02000000001862645,
          -0.024000000208616257,
          -0.02199999988079071,
          -0.015999999828636646,
          -0.010999999940395355,
          -0.01000000024214387,
          -0.004000000189989805,
          0,
          -0.001999999862164259,
          -0.007000000681728125,
          -0.004999999888241291,
          -0.001999999862164259,
          -0.005999999586492777,
          -0.001999999862164259,
          -0.006000000052154064,
          -0.001999999862164259,
          0,
          -0.0010000001639127731,
          -0.004999999888241291,
          -0.0010000001639127731,
          -0.003000000026077032,
          -0.0009999992325901985,
          -0.003000000026077032,
          0.001999999862164259,
          0.003000000026077032,
          0.001999999862164259,
          0.004000000189989805,
          0.004000000189989805,
          0.0009999996982514858,
          -0.015999999828636646,
          -0.013999999966472387,
          -0.016000000294297934,
          0.013999999966472387,
          0,
          0,
          0.00800000037997961,
          0.003999999724328518,
          -0.007000000216066837,
          0.001999999862164259,
          -0.01699999999254942,
          0.008999999612569809,
          -0.0359999998472631,
          -0.004000000189989805,
          -0.0010000001639127731,
          0.003000000026077032,
          -0.004999999888241291,
          0.0010000001639127731,
          0,
          0.0010000001639127731,
          -0.01500000013038516,
          -0.028000000398606062,
          -0.004999999888241291,
          -0.004999999888241291,
          -0.005999999586492777,
          -0.005999999586492777,
          -0.009999999776482582,
          -0.004999999888241291,
          0.08399999979883432,
          0,
          -0.0010000001639127731,
          0,
          -0.005000000353902578,
          0.00699999975040555,
          -0.018000000156462193,
          0.006000000052154064,
          0.001999999862164259,
          0.0020000003278255463,
          0.001999999862164259,
          0.001999999862164259,
          0.0020000003278255463,
          0.0010000001639127731,
          0.0010000001639127731,
          -0.015999999828636646,
          -0.028000000398606062,
          0,
          -0.003000000026077032,
          -0.001999999862164259,
          0.029999999795109034,
          0,
          -0.0010000001639127731,
          0,
          -0.019000000320374966,
          0.004999999888241291,
          -0.012999999802559614,
          -0.004999999888241291,
          -0.0030000004917383194,
          0.007000000216066837,
          -0.003000000026077032,
          0.001999999862164259,
          0,
          -0.13100000051781535,
          -0.018000000156462193,
          -0.02899999963119626,
          -0.024999999906867743,
          -0.023000000044703484,
          -0.001999999862164259,
          -0.003999999724328518,
          -0.004999999888241291,
          0,
          0.054999999701976776,
          0,
          -0.0009999996982514858,
          -0.009000000543892384,
          0,
          -0.00800000037997961,
          0.003000000026077032,
          0,
          -0.001999999862164259,
          0,
          0.0010000001639127731,
          -0.01699999999254942,
          0,
          -0.01699999999254942,
          -0.014999999664723873,
          -0.012999999336898327,
          0.0010000001639127731,
          0,
          0.0009999996982514858,
          0.004999999888241291,
          -0.0009999996982514858,
          0,
          -0.003999999724328518,
          0,
          0.001999999862164259,
          -0.0029999995604157448,
          -0.0020000003278255463,
          -0.001999999862164259,
          0,
          0,
          0.001999999862164259,
          0.003000000026077032,
          -0.003999999724328518,
          -0.01000000024214387,
          -0.012000000104308128,
          -0.0030000004917383194,
          -0.008999999612569809,
          -0.014000000432133675,
          0.0029999995604157448,
          0.004000000189989805,
          0.004999999888241291,
          0.004999999888241291,
          0.005999999586492777,
          0.004999999888241291,
          0.003999999724328518,
          0.003999999724328518,
          0.003000000026077032,
          0.003999999724328518,
          0.003999999724328518,
          0.0010000001639127731,
          0.0010000001639127731,
          0.003000000026077032,
          0.006000000052154064,
          0.003000000026077032,
          0.0010000001639127731,
          0,
          0.003000000026077032,
          0.0020000003278255463,
          0.001999999862164259,
          0.003000000026077032,
          0,
          0.0009999996982514858,
          0.0020000003278255463,
          -0.026999999769032,
          -0.049000000115484,
          -0.04500000039115548,
          -0.043000000063329935,
          -0.0409999992698431,
          -0.014000000432133675,
          -0.04399999976158142,
          -0.04200000083073974,
          -0.04199999989941716,
          -0.03900000033900142,
          -0.049000000115484,
          -0.02199999988079071,
          -0.04199999989941716,
          -0.013999999966472387,
          -0.03500000014901161,
          -0.024999999906867743,
          -0.03500000014901161,
          -0.016999999526888132,
          -0.0009999996982514858,
          -0.011000000406056643,
          -0.03099999949336052,
          0,
          -0.004999999888241291,
          -0.01500000013038516,
          0,
          -0.0010000001639127731,
          -0.05599999940022826,
          -0.0029999995604157448,
          -0.05599999986588955,
          -0.0060000005178153515,
          -0.031000000424683094,
          -0.02899999963119626,
          -0.03000000026077032,
          0.003000000026077032,
          -0.0009999992325901985,
          -0.02500000037252903,
          -0.004000000189989805,
          -0.02399999974295497,
          0.0010000001639127731,
          0,
          0.02199999988079071,
          -0.001999999862164259,
          -0.0029999995604157448,
          -0.0040000006556510925,
          -0.016999999526888132,
          0.0009999996982514858,
          -0.001999999862164259,
          -0.0009999996982514858,
          -0.012999999802559614,
          -0.03700000001117587,
          -0.00699999975040555,
          -0.02399999974295497,
          -0.022499999962747097,
          -0.024999999906867743,
          -0.029000000562518835,
          -0.029999999795109034,
          0,
          0.0009999996982514858,
          0,
          0.032999999821186066,
          0,
          0,
          -0.0020000003278255463,
          -0.0010000001639127731,
          0,
          -0.001999999862164259,
          -0.001999999862164259,
          -0.0029999995604157448,
          -0.028000000398606062,
          -0.006000000052154064,
          -0.005999999586492777,
          -0.003000000026077032,
          -0.003999999724328518,
          -0.007000000216066837,
          -0.010999999474734068,
          -0.004999999888241291,
          -0.003999999724328518,
          -0.007000000681728125,
          -0.001999999862164259,
          -0.003000000026077032,
          -0.003999999724328518,
          -0.0040000006556510925,
          -0.03799999924376607,
          -0.04600000008940697,
          -0.04699999978765845,
          0,
          -0.015999999828636646,
          0.001999999862164259,
          -0.003999999724328518,
          -0.01000000024214387,
          -0.04399999976158142,
          -0.030999999959021807,
          0,
          -0.02899999963119626,
          -0.03399999998509884,
          0,
          0,
          -0.024000000674277544,
          -0.023000000044703484,
          -0.03799999924376607,
          -0.0029999995604157448,
          0.001999999862164259,
          -0.0009999992325901985,
          -0.013999999966472387,
          -0.021000000182539225,
          -0.00800000037997961,
          -0.01699999999254942,
          -0.032999999821186066,
          0.001999999862164259,
          -0.005000000353902578,
          -0.003000000026077032,
          -0.03500000014901161,
          -0.02899999963119626,
          -0.009999999776482582,
          -0.004000000189989805,
          0,
          -0.03300000028684735,
          -0.02199999988079071,
          -0.021000000182539225,
          -0.030999999959021807,
          -0.001999999862164259,
          -0.0009999996982514858,
          0.003999999724328518,
          0.0010000006295740604,
          -0.03200000012293458,
          -0.03000000026077032,
          -0.003000000026077032,
          -0.001999999862164259,
          0,
          -0.0010000001639127731,
          -0.003000000026077032,
          -0.003000000026077032,
          -0.0009999992325901985,
          0,
          -0.011000000406056643,
          -0.009999999776482582,
          0,
          0.0010000001639127731,
          -0.03200000058859587,
          0,
          -0.0010000001639127731,
          0.0009999992325901985,
          -0.001999999862164259,
          -0.004000000189989805,
          0,
          0,
          0,
          0.001999999862164259,
          0.0010000001639127731,
          0.0020000003278255463,
          0.0010000001639127731,
          0.0020000003278255463,
          0.0010000001639127731,
          0.001999999862164259,
          0.0020000003278255463,
          0.001999999862164259,
          0.0020000003278255463,
          0.0009999996982514858,
          0.0009999996982514858,
          0.0020000007934868336,
          0.0020000003278255463,
          0.0010000006295740604,
          0.001999999862164259,
          0.0009999996982514858,
          0.003000000026077032,
          0.0009999996982514858,
          0.001999999862164259,
          0.001999999862164259,
          0.0009999996982514858,
          0.0009999996982514858,
          0.0010000001639127731,
          0.0010000001639127731,
          0.0009999992325901985,
          0.001999999862164259,
          0.001999999862164259,
          0.0020000003278255463,
          0.001999999862164259,
          0.0009999996982514858,
          -0.0009999996982514858,
          0,
          0.0009999996982514858,
          0.0010000001639127731,
          0.0010000006295740604,
          -0.0010000001639127731,
          -0.00699999975040555,
          -0.02000000001862645,
          -0.028000000398606062,
          -0.029000000096857548,
          0.001999999862164259,
          0.001999999862164259,
          -0.009999999776482582,
          -0.003999999724328518,
          -0.003999999724328518,
          0,
          -0.008999999612569809,
          -0.012000000569969416,
          -0.003000000026077032,
          -0.004000000189989805,
          -0.004000000189989805,
          -0.001999999862164259,
          -0.009000000543892384,
          -0.011999999638646841,
          -0.02300000051036477,
          -0.018000000156462193,
          -0.041000000201165676,
          -0.01699999999254942,
          -0.01699999999254942,
          -0.01500000013038516,
          -0.015999999828636646
         ],
         "w": [
          -0.033999999999991815,
          -0.012999999999976808,
          -0.01780769230799706,
          -0.018000000000000682,
          -0.01700000000002433,
          -0.02400000000000091,
          -0.03499999999999659,
          -0.0030000000000143245,
          -0.017266666666998276,
          -0.011762626262012077,
          -0.01100000000000989,
          -0.00889090909099366,
          -0.009909090909005158,
          -0.009090909090986088,
          -0.009000000000000341,
          -0.020999999999986585,
          -0.016250000000013642,
          -0.0005000000000165983,
          0,
          0.0010000000000047748,
          0,
          -0.0005000000000023874,
          -0.0010000000000047748,
          -0.0010000000000047748,
          0,
          -0.0020000000000095497,
          -0.007000000000005002,
          -0.007000000000005002,
          -0.010000000000019327,
          -0.009000000000014552,
          -0.00899999999998613,
          0,
          0.0010000000000047748,
          -0.02199999999999136,
          -0.007000000000005002,
          -0.01300000000000523,
          -0.01300000000000523,
          -0.014000000000010004,
          -0.015999999999991132,
          -0.02600000000001046,
          -0.026025641025995583,
          -0.025025641025990808,
          -0.023000000000024556,
          -0.009999999999990905,
          -0.018999999999977035,
          -0.009900000000016007,
          -0.01500000000001478,
          -0.01500000000001478,
          -0.014624999999995225,
          -0.026435897436016376,
          -0.002999999999985903,
          -0.009999999999990905,
          -0.014000000000010004,
          -0.01300000000000523,
          -0.014076923076970616,
          -0.015999999999991132,
          -0.013999999999981583,
          -0.015999999999991132,
          -0.01785714285699669,
          -0.010874999999998636,
          -0.022999999999996135,
          -0.022071428570995977,
          -0.022999999999996135,
          -0.019000000000005457,
          -0.025000000000005684,
          -0.016000000000019554,
          -0.008000000000009777,
          -0.008199999999987995,
          -0.011400000000008959,
          -0.014000000000010004,
          -0.01500000000001478,
          -0.007499999999993179,
          -0.007000000000005002,
          -0.015999999999991132,
          -0.025051282050981172,
          0,
          -0.004000000000019099,
          -0.0006666666670014365,
          -0.0015000000000071623,
          0.0002000000000066393,
          0,
          0.000999999999990564,
          -0.019999999999015472,
          -0.034270270270013725,
          -0.01660000000001105,
          -0.012882783883014781,
          -0.04689189189198828,
          -0.06827027027000554,
          -0.02199999999999136,
          -0.020000000000010232,
          -0.01666666666702099,
          -0.017333333332999246,
          0,
          0.0010000000000047748,
          0.0040212765960063734,
          0.0025531914889995733,
          0.0010212765959636272,
          0.0010416666670209906,
          0.0003829787229960857,
          -0.013999999999981583,
          -0.017461538460992188,
          -0.01633333333299447,
          -0.02200000000001978,
          -0.021100000000018326,
          -0.018900000000002137,
          -0.0010999999999796728,
          -0.0161250000000166,
          -0.0179779411760137,
          -0.0017470588240087181,
          -0.013470588235009018,
          -0.020215686274013933,
          -0.021764705882020507,
          -0.011500000000012278,
          -0.013599999999996726,
          -0.01886363636398869,
          -0.021500000000003183,
          -0.02400000000000091,
          -0.024500000000017508,
          -0.02238333333301057,
          -0.022952380952006024,
          -0.03392857142799244,
          -0.003500000000002501,
          -0.026999999999986812,
          -0.026928571429010617,
          -0.003999999999990678,
          -0.0215714285710078,
          0,
          -0.012000000000000455,
          -0.01099999999999568,
          -0.007999999999995566,
          -0.0049999999999954525,
          0,
          -0.029816666667002778,
          0.00016666666701325994,
          0.0006666666669872257,
          -0.0297647058829682,
          -0.030000000000001137,
          -0.030954545453994342,
          -0.050499999999999545,
          -0.02085714285698259,
          -0.021857142857015788,
          -0.0015000000000071623,
          -0.0020000000000095497,
          0,
          0.0005999999999914962,
          0.0006666666669872257,
          0.0010897435900005803,
          0.0008000000000123464,
          -0.000125000000011255,
          -0.0009230769230157421,
          -0.0005714285709927935,
          -0.014000000000038426,
          -0.012090909091000412,
          0.0013333333329939023,
          0,
          0.0020000000000095497,
          0.0020000000000095497,
          -0.0009999999999763531,
          -0.07679999999999154,
          0.0010000000000047748,
          0.002999999999985903,
          0.0010909090909763108,
          0.0017749999999807642,
          -0.0010000000000047748,
          -0.0324081632649893,
          0.0006666666670014365,
          0.0013333333330081132,
          -0.0008000000000265572,
          0.001999999999981128,
          0.0009999999999763531,
          0.0009999999999763531,
          0.0010000000000047748,
          0.0009999999999763531,
          -0.0010000000000047748,
          0,
          -0.0002000000000066393,
          -0.0007933333330072401,
          -0.02400000000000091,
          0.0010000000000047748,
          0.0010000000000047748,
          -0.019000000000005457,
          -0.018000000000000682,
          0.0010000000000047748,
          -0.011666666667011327,
          -0.020636363636015176,
          -0.018000000000000682,
          -0.01722222222201708,
          -0.0028749999999888587,
          0.00041428571401525005,
          -0.008750000000020464,
          -0.01300000000000523,
          -0.0022857142859891155,
          -0.006714285713997015,
          -0.0015714285709975684,
          -0.0020000000000095497,
          -0.020000000000010232,
          -0.020999999999986585,
          -0.02199999999999136,
          -0.022999999999996135,
          -0.022500000000007958,
          -0.02400000000000091,
          -0.013822674419003533,
          0,
          -0.02599999999999625,
          0.0009999999999763531,
          0.000999999999990564,
          0.0010000000000047748,
          0.0005000000000023874,
          0.00022222222199275166,
          -0.0027619047620106585,
          -0.0020000000000095497,
          0.0010000000000047748,
          -0.0005714285709927935,
          -0.003428571429012095,
          -0.0010000000000047748,
          -0.003333333332989241,
          -0.0015250000000008868,
          0,
          0.0010000000000047748,
          -0.019400000000018736,
          -0.0013333333329939023,
          0.0015000000000071623,
          0,
          -0.0049999999999954525,
          -0.0071666666669898405,
          -0.007999999999995566,
          -0.007666666667006439,
          -0.007999999999995566,
          -0.005000000000009663,
          -0.003166666666686524,
          -0.004000000000019099,
          -0.006000000000000227,
          -0.010000000000005116,
          0.0009999999999763531,
          0.0010000000000047748,
          0,
          0.0010000000000047748,
          0.0005476190469835274,
          0.0011428571430087686,
          7.142857100461697e-05,
          0.0010000000000047748,
          0.0008666666670080758,
          0,
          0.0011428571430087686,
          0.00033333333300333834,
          0.0012000000000114142,
          0.00010000000000331966,
          0.0010714285710093918,
          0.0008333333329915149,
          0.0010000000000047748,
          -0.0030000000000001137,
          -0.0030000000000143245,
          -0.0030000000000143245,
          -0.0020000000000095497,
          -0.003999999999990678,
          -0.001999999999995339,
          0,
          0,
          -0.0049999999999954525,
          -0.003999999999990678,
          -0.0040000000000048885,
          -0.0018333333329962898,
          0,
          -0.0049999999999954525,
          -0.000999999999990564,
          -0.0020000000000095497,
          -0.0020000000000095497,
          -0.0049999999999954525,
          -0.0020000000000095497,
          -0.004000000000019099,
          -0.0010000000000047748,
          -0.001999999999995339,
          0.0010000000000047748,
          -0.001999999999995339,
          -0.000999999999990564,
          -0.0030000000000143245,
          -0.0020000000000095497,
          0,
          -0.0049999999999954525,
          -0.0020000000000095497,
          -0.0010000000000047748,
          0,
          -0.0030000000000143245,
          -0.0030000000000143245,
          -0.001999999999981128,
          -0.0049999999999954525,
          -0.006000000000000227,
          -0.006000000000000227,
          -0.003999999999990678,
          -0.0049999999999954525,
          -0.0010000000000047748,
          -0.0030000000000001137,
          -0.002999999999985903,
          0,
          -0.0030000000000001137,
          -0.0020000000000095497,
          0,
          -0.0010000000000047748,
          0,
          0,
          0.0010000000000047748,
          0.000999999999990564,
          0.0010000000000047748,
          0.0020000000000095497,
          0.0020000000000095497,
          0.003999999999990678,
          0.0030000000000143245,
          0.0030000000000143245,
          0.0010000000000047748,
          0.0020000000000095497,
          -0.0010000000000047748,
          0.0020000000000095497,
          0.001999999999995339,
          0,
          -0.002999999999985903,
          -0.003999999999990678,
          -0.0049999999999954525,
          -0.0010000000000047748,
          0,
          0,
          0,
          0.004000000000019099,
          0.0030000000000001137,
          0,
          -0.006000000000000227,
          -0.0020000000000095497,
          -0.0049999999999954525,
          -0.0049999999999954525,
          0.006000000000000227,
          -0.001999999999995339,
          -0.0030000000000143245,
          0.0010000000000047748,
          0.0020000000000095497,
          -0.001999999999995339,
          -0.003999999999990678,
          -0.010000000000005116,
          -0.003999999999990678,
          -0.001999999999995339,
          -0.002999999999985903,
          -0.0030000000000001137,
          0.03999999999999204,
          -0.017000000000010118,
          -0.07200000000001694,
          -0.0010000000000047748,
          0.0010000000000047748,
          0.001999999999995339,
          -0.003999999999990678,
          -0.002999999999985903,
          -0.0049999999999954525,
          -0.0010000000000047748,
          -0.0030000000000001137,
          0.0030000000000001137,
          -0.0040000000000048885,
          0.025999999999982037,
          0.0010000000000047748,
          0,
          -0.000999999999990564,
          -0.0030000000000001137,
          -0.0020000000000095497,
          0,
          -0.0010000000000047748,
          -0.0020000000000095497,
          -0.017000000000010118,
          -0.0010000000000047748,
          -0.0010000000000047748,
          0.001999999999995339,
          -0.0049999999999954525,
          -0.001999999999995339,
          0.0379999999999967,
          -0.0010000000000047748,
          -0.015999999999991132,
          -0.007000000000005002,
          -0.003999999999990678,
          -0.0049999999999954525,
          0,
          0.05299999999999727,
          -0.003999999999990678,
          -0.006999999999990791,
          -0.007000000000019213,
          -0.005000000000009663,
          -0.0010000000000047748,
          -0.007999999999995566,
          -0.00899999999998613,
          -0.0020000000000095497,
          -0.03999999999999204,
          -0.006000000000000227,
          0.009000000000000341,
          -0.042999999999992156,
          0,
          -0.001999999999995339,
          0,
          0,
          0.0030000000000001137,
          0.0010000000000047748,
          0.001999999999995339,
          0.0030000000000001137,
          0.0010000000000047748,
          -0.0020000000000095497,
          -0.0020000000000095497,
          -0.0030000000000001137,
          0.001999999999995339,
          0,
          0.0030000000000143245,
          -0.0010000000000047748,
          -0.0059999999999860165,
          -0.005000000000009663,
          -0.0010000000000047748,
          0.0010000000000047748,
          -0.0030000000000001137,
          -0.001999999999995339,
          0,
          -0.0040000000000048885,
          -0.001999999999981128,
          -0.0030000000000001137,
          0,
          -0.0010000000000047748,
          -0.0010000000000047748,
          -0.0009999999999763531,
          -0.0010000000000047748,
          -0.0010000000000047748,
          0,
          -0.006000000000000227,
          -0.002999999999985903,
          -0.0020000000000095497,
          -0.0030000000000143245,
          -0.0020000000000095497,
          -0.0020000000000095497,
          -0.002999999999985903,
          -0.0020000000000095497,
          -0.0020000000000095497,
          -0.0010000000000047748,
          -0.0010000000000047748,
          -0.0010000000000047748,
          -0.001999999999981128,
          -0.003999999999990678,
          -0.0020000000000095497,
          -0.007000000000005002,
          -0.0010000000000047748,
          0,
          0,
          -0.0010000000000047748,
          -0.0010000000000047748,
          -0.0010000000000047748,
          0,
          0,
          -0.0010000000000047748,
          -0.0010000000000047748,
          -0.020000000000010232,
          -0.03499999999999659,
          -0.03499999999999659,
          -0.020999999999986585,
          -0.03999999999999204,
          -0.01099999999999568,
          -0.054000000000002046,
          -0.08400000000000318,
          -0.03200000000001069,
          -0.03299999999998704,
          -0.04400000000001114,
          -0.022999999999996135,
          -0.05699999999998795,
          -0.033999999999991815,
          -0.09999999999999432,
          -0.036000000000001364,
          -0.033999999999991815,
          -0.033999999999991815,
          -0.021000000000015007,
          -0.019000000000005457,
          -0.03599999999997294,
          -0.002999999999985903,
          -0.011999999999972033,
          -0.03100000000000591,
          0,
          0.0010000000000047748,
          -0.057999999999992724,
          0,
          -0.05299999999999727,
          -0.006000000000000227,
          -0.03300000000001546,
          -0.033999999999991815,
          -0.03499999999999659,
          0.0020000000000095497,
          -0.004000000000019099,
          -0.016000000000019554,
          0.0010000000000047748,
          -0.014999999999986358,
          0.0010000000000047748,
          0,
          -0.014999999999986358,
          -0.0010000000000047748,
          0.006000000000000227,
          -0.010000000000019327,
          -0.01700000000002433,
          -0.0010000000000047748,
          -0.012000000000000455,
          -0.01500000000001478,
          -0.0030000000000143245,
          -0.020999999999986585,
          -0.00899999999998613,
          -0.02199999999999136,
          -0.021500000000003183,
          -0.019000000000005457,
          -0.016000000000019554,
          -0.02400000000000091,
          -0.0010000000000047748,
          0,
          -0.001999999999981128,
          -0.0800000000000125,
          -0.0010000000000047748,
          -0.0010000000000047748,
          0.0010000000000047748,
          -0.001999999999981128,
          -0.003999999999990678,
          0.0010000000000047748,
          0,
          -0.0010000000000047748,
          -0.015999999999991132,
          -0.014999999999986358,
          -0.01500000000001478,
          -0.014000000000010004,
          -0.01700000000002433,
          -0.009000000000014552,
          -0.008000000000009777,
          -0.016000000000019554,
          -0.020000000000010232,
          -0.020999999999986585,
          -0.013999999999981583,
          -0.014999999999986358,
          -0.01900000000003388,
          -0.018000000000029104,
          -0.020999999999986585,
          -0.02200000000001978,
          -0.022999999999996135,
          0,
          -0.014499999999998181,
          -0.0030000000000143245,
          -0.01999999999998181,
          -0.018000000000000682,
          -0.02200000000001978,
          -0.01799999999997226,
          -0.003999999999990678,
          -0.025000000000005684,
          -0.019000000000005457,
          0,
          0,
          -0.02600000000001046,
          -0.026499999999998636,
          -0.028999999999996362,
          -0.0009999999999763531,
          -0.0010000000000047748,
          -0.0010000000000047748,
          -0.020999999999986585,
          -0.027000000000015234,
          -0.016999999999995907,
          -0.01300000000000523,
          -0.009999999999990905,
          -0.002999999999985903,
          -0.002999999999985903,
          0.0020000000000095497,
          -0.01999999999998181,
          -0.016999999999995907,
          -0.018000000000000682,
          -0.016999999999995907,
          -0.01099999999999568,
          -0.020999999999986585,
          -0.009999999999990905,
          -0.007999999999981355,
          -0.019000000000005457,
          -0.018000000000000682,
          -0.015999999999991132,
          -0.0010000000000047748,
          -0.012000000000028876,
          -0.027999999999991587,
          -0.027000000000015234,
          0.0010000000000047748,
          0.0020000000000095497,
          -0.0049999999999954525,
          -0.0009999999999763531,
          0.0010000000000047748,
          0.0020000000000095497,
          -0.0010000000000047748,
          0,
          -0.006000000000028649,
          -0.01300000000000523,
          0,
          -0.0009999999999763531,
          -0.028999999999996362,
          0,
          0,
          0.0010000000000047748,
          0,
          0.0010000000000047748,
          0.0010000000000047748,
          0,
          0,
          0.002999999999985903,
          -0.0010000000000047748,
          -0.000999999999990564,
          -0.001999999999995339,
          -0.001999999999995339,
          -0.0020000000000095497,
          -0.001999999999995339,
          0,
          0,
          0,
          0,
          0,
          -0.0010000000000047748,
          -0.0010000000000047748,
          0,
          -0.0009999999999763531,
          0.0010000000000047748,
          0.0010000000000047748,
          0.0010000000000047748,
          0,
          0,
          0,
          0,
          0,
          -0.0010000000000047748,
          0,
          0,
          0.0010000000000047748,
          0.0010000000000047748,
          0,
          0,
          -0.000999999999990564,
          -0.0010000000000047748,
          -0.0010000000000047748,
          -0.0010000000000047748,
          -0.0020000000000095497,
          -0.004000000000019099,
          -0.010000000000019327,
          -0.018000000000000682,
          -0.021000000000015007,
          -0.01500000000001478,
          -0.001999999999981128,
          -0.0010000000000047748,
          -0.01099999999999568,
          -0.006000000000000227,
          -0.0069999999999765805,
          -0.002999999999985903,
          -0.009000000000014552,
          -0.00899999999998613,
          0.001999999999981128,
          -0.0030000000000143245,
          -0.003999999999990678,
          0,
          -0.002999999999985903,
          -0.006000000000000227,
          -0.01500000000001478,
          -0.0049999999999954525,
          -0.0049999999999954525,
          -0.009999999999990905,
          -0.009999999999990905,
          -0.01099999999999568,
          -0.011000000000024102
         ],
         "x": [
          2055322.26044898,
          2055342.9189400002,
          2055344.57523077,
          2055341.59467961,
          2055343.32005769,
          2055339.66398413,
          2055329.79601639,
          2055252.1435,
          2055254.27,
          2055267.89272727,
          2055269.83054545,
          2055276.18418182,
          2055278.43118182,
          2055283.75045455,
          2055286.11854545,
          2055253.55733333,
          2055244.4919999999,
          2055235.44498333,
          2055242.09733333,
          2055366.1469999999,
          2055359.5669999998,
          2055359.53,
          2055330.376,
          2055330.616,
          2055325.237,
          2055373.53928571,
          2055368.02515789,
          2055363.81809023,
          2055361.31810526,
          2055344.371875,
          2055345.83,
          2055348.845,
          2055362.937,
          2055305.3811,
          2055352.14525,
          2055344.9019999998,
          2055340.28,
          2055329.0580000002,
          2055318.378,
          2055321.60808163,
          2055317.99720513,
          2055309.53397436,
          2055333.55457088,
          2055355.0790000001,
          2055339.28491209,
          2055346.0901,
          2055346.13,
          2055346.1519999998,
          2055344.428,
          2055317.41494872,
          2055316.54096,
          2055355.2340000002,
          2055346.283,
          2055346.237,
          2055346.27684615,
          2055344.4931,
          2055340.458,
          2055328.16404348,
          2055316.61385714,
          2055305.4440000001,
          2055321.89495714,
          2055328.29028571,
          2055333.15112727,
          2055339.32820027,
          2055301.79604666,
          2055327.83535537,
          2055353.322,
          2055353.3218,
          2055346.303,
          2055344.487,
          2055328.175,
          2055318.716,
          2055304.9109999998,
          2055293.174,
          2055309.105,
          2055375.052,
          2055365.315,
          2055358.035,
          2055376.8648,
          2055376.759,
          2055378.596,
          2055380.2704,
          2055293.60293551,
          2055314.83296139,
          2055293.14870244,
          2055309.54747436,
          2055302.31618018,
          2055296.89476448,
          2055255.10475,
          2055262.11117778,
          2055279.14417647,
          2055284.989,
          2055316.906,
          2055292.4309999999,
          2055279.10621277,
          2055276.62406383,
          2055279.06087234,
          2055276.615875,
          2055279.06285106,
          2055268.32080769,
          2055262.52992308,
          2055255.699,
          2055262.09,
          2055269.5368,
          2055279.0479,
          2055284.96495,
          2055290.940875,
          2055290.75341176,
          2055284.95564706,
          2055279.03152941,
          2055269.61641176,
          2055262.38470588,
          2055290.47075,
          2055279.0878,
          2055252.78552364,
          2055253.2395,
          2055261.4952599998,
          2055261.53323913,
          2055269.38050952,
          2055269.06395238,
          2055288.21704116,
          2055288.63920134,
          2055277.87506302,
          2055278.40519748,
          2055379.465,
          2055295.79871429,
          2055379.975,
          2055322.812875,
          2055339.846,
          2055342.914,
          2055379.968,
          2055380.27005,
          2055369.705,
          2055373.33291667,
          2055378.77425,
          2055331.22122255,
          2055331.20444118,
          2055331.02812805,
          2055332.9492549,
          2055323.72171429,
          2055323.87871429,
          2055252.87216667,
          2055255.33233333,
          2055260.99416667,
          2055263.42016667,
          2055268.80684615,
          2055270.81484615,
          2055276.11684615,
          2055278.72984615,
          2055284.24076923,
          2055286.55869231,
          2055244.49676923,
          2055235.44466667,
          2055242.736,
          2055242.14,
          2055320.18908021,
          2055320.04710695,
          2055320.08452941,
          2055330.8474,
          2055330.93212903,
          2055330.89584767,
          2055343.73318182,
          2055343.766125,
          2055343.63907692,
          2055343.7664897998,
          2055354.41166667,
          2055354.3290000001,
          2055354.398,
          2055366.8004,
          2055366.6409999998,
          2055312.4294,
          2055312.5869999998,
          2055312.615,
          2055303.8669999999,
          2055304.0744,
          2055304.0690000001,
          2055302.5447799999,
          2055254.24585714,
          2055336.64157143,
          2055340.25285714,
          2055255.10361538,
          2055262.16191667,
          2055291.80211111,
          2055350.9730000002,
          2055243.83881818,
          2055239.053,
          2055255.399,
          2055235.226125,
          2055235.8857,
          2055237.214875,
          2055241.709,
          2055235.45771429,
          2055235.97442857,
          2055235.22828571,
          2055236.23,
          2055252.78594444,
          2055253.239,
          2055261.495,
          2055261.533,
          2055269.3794,
          2055269.41505555,
          2055329.60223256,
          2055318.13093333,
          2055234.985,
          2055237.894,
          2055239.229,
          2055237.6609999998,
          2055239.138,
          2055343.477,
          2055344.55444444,
          2055234.55485714,
          2055232.1515,
          2055234.40971429,
          2055232.45271429,
          2055237.29785714,
          2055249.2769999998,
          2055258.118,
          2055267.102,
          2055279.94157143,
          2055271.4218,
          2055245.74841429,
          2055244.6940000001,
          2055292.866,
          2055341.13335714,
          2055346.898,
          2055346.9430000002,
          2055346.737,
          2055346.775,
          2055324.53214286,
          2055324.3268,
          2055330.1819999998,
          2055330.09142857,
          2055363.356,
          2055320.18914286,
          2055320.04671429,
          2055330.8469999998,
          2055330.9330000002,
          2055330.91621429,
          2055343.72464286,
          2055343.75557143,
          2055354.4030000002,
          2055354.3272,
          2055354.38907143,
          2055366.80171429,
          2055366.636,
          2055312.4422,
          2055312.6005,
          2055303.87392857,
          2055304.08614286,
          2055304.084,
          2055366.885,
          2055366.573,
          2055374.4419999998,
          2055366.573,
          2055377.356,
          2055378.793,
          2055378.785,
          2055344.632,
          2055330.75028571,
          2055335.53,
          2055346.445,
          2055346.42083333,
          2055346.833,
          2055346.88,
          2055346.679,
          2055324.639,
          2055324.5219999999,
          2055330.19,
          2055330.112,
          2055330.082,
          2055341.946,
          2055343.0690000001,
          2055342.5869999998,
          2055359.665,
          2055359.744,
          2055362.4840000002,
          2055362.496,
          2055362.459,
          2055362.3369999998,
          2055362.733,
          2055362.705,
          2055362.757,
          2055309.0480000002,
          2055309.053,
          2055309.063,
          2055296.3830000001,
          2055305.485,
          2055314.481,
          2055330.32,
          2055339.208,
          2055341.031,
          2055342.497,
          2055346.4019999998,
          2055357.0880000002,
          2055367.8059999999,
          2055374.239,
          2055377.333,
          2055377.664,
          2055378.9230000002,
          2055379.476,
          2055379.979,
          2055379.983,
          2055379.956,
          2055379.759,
          2055380.0380000002,
          2055379.751,
          2055378.781,
          2055371.374,
          2055361.844,
          2055346.158,
          2055341.244,
          2055329.701,
          2055323.9780000001,
          2055318.271,
          2055278.233,
          2055268.9640000002,
          2055260.1619999998,
          2055345.352,
          2055340.459,
          2055360.955,
          2055292.8590000002,
          2055292.9840000002,
          2055293.034,
          2055293.148,
          2055341.09,
          2055308.529,
          2055323.626,
          2055292.804,
          2055378.6519999998,
          2055344.767,
          2055320.79,
          2055293.804,
          2055293.011,
          2055344.392,
          2055296.332,
          2055305.668,
          2055284.658,
          2055284.658,
          2055268.884,
          2055260.119,
          2055367.9309999999,
          2055374.456,
          2055379.996,
          2055380.019,
          2055379.96,
          2055380.0259999998,
          2055342.501,
          2055346.414,
          2055335.507,
          2055346.3159999999,
          2055348.928,
          2055357.265,
          2055345.054,
          2055331.043,
          2055323.626,
          2055312.291,
          2055293.657,
          2055296.957,
          2055305.73,
          2055314.427,
          2055377.32,
          2055378.9019999998,
          2055380.065,
          2055379.971,
          2055380.0269999998,
          2055380.0980000002,
          2055330.737,
          2055335.5159999998,
          2055366.889,
          2055374.6830000002,
          2055342.524,
          2055346.481,
          2055378.858,
          2055380.086,
          2055380.05,
          2055380.0680000002,
          2055296.876,
          2055305.841,
          2055314.74,
          2055330.894,
          2055378.814,
          2055366.594,
          2055374.9,
          2055377.372,
          2055378.856,
          2055379.956,
          2055379.9640000002,
          2055377.882,
          2055356.2580000001,
          2055339.093,
          2055346.56,
          2055346.27,
          2055293.01,
          2055293.071,
          2055293.1709999999,
          2055314.86,
          2055325.1430000002,
          2055331.121,
          2055335.274,
          2055341.064,
          2055292.771,
          2055330.532,
          2055310.138,
          2055293.491,
          2055363.386,
          2055363.369,
          2055366.7580000001,
          2055364.675,
          2055344.615,
          2055356.11,
          2055361.666,
          2055342.394,
          2055345.174,
          2055346.533,
          2055346.254,
          2055346.265,
          2055292.74,
          2055292.045,
          2055292.4519999998,
          2055292.701,
          2055296.774,
          2055314.8290000001,
          2055382.447,
          2055380.71,
          2055379.15,
          2055378.4019999998,
          2055377.106,
          2055376.149,
          2055371.001,
          2055370.31,
          2055366.0119999999,
          2055362.3390000002,
          2055359.995,
          2055349.07,
          2055348.185,
          2055336.3669999999,
          2055336.42,
          2055324.761,
          2055323.134,
          2055318.594,
          2055318.511,
          2055324.4730000002,
          2055326.573,
          2055308.57,
          2055307.79,
          2055296.03,
          2055297.132,
          2055317.407,
          2055301.784,
          2055309.0969999998,
          2055293.5869999998,
          2055314.8080000002,
          2055309.5369999998,
          2055302.295,
          2055296.874,
          2055317.989,
          2055309.534,
          2055321.586,
          2055327.822,
          2055333.5359999998,
          2055339.269,
          2055321.886,
          2055328.283,
          2055333.1430000002,
          2055339.313,
          2055342.9130000002,
          2055343.3180000002,
          2055339.642,
          2055344.59,
          2055344.1630000002,
          2055341.576,
          2055339.741,
          2055339.865,
          2055329.78,
          2055329.573,
          2055322.237,
          2055322.2130000002,
          2055331.2230000002,
          2055331.1909999999,
          2055331.0219999999,
          2055332.9430000002,
          2055332.936,
          2055329.332,
          2055329.333,
          2055329.381,
          2055356.6719999998,
          2055356.685,
          2055356.8480000002,
          2055356.826,
          2055269.375,
          2055344.755,
          2055244.483,
          2055363.822,
          2055361.3190000001,
          2055355.0790000001,
          2055316.491,
          2055327.771,
          2055340.3480000002,
          2055255.095,
          2055262.146,
          2055279.154,
          2055277.878,
          2055288.2030000002,
          2055288.6269999999,
          2055320.187,
          2055320.045,
          2055330.842,
          2055330.929,
          2055330.8930000002,
          2055343.726,
          2055343.7580000001,
          2055343.757,
          2055354.405,
          2055354.32,
          2055354.389,
          2055278.409,
          2055344.366,
          2055345.824,
          2055348.8390000002,
          2055346.1230000001,
          2055233.947,
          2055241.77,
          2055346.09,
          2055346.1519999998,
          2055344.428,
          2055355.226,
          2055346.274,
          2055346.2280000001,
          2055346.2680000002,
          2055328.176,
          2055316.6030000001,
          2055305.4440000001,
          2055244.486,
          2055235.449,
          2055244.486,
          2055344.4840000002,
          2055340.447,
          2055305.372,
          2055285.035,
          2055262.3730000001,
          2055284.9540000001,
          2055290.9309999999,
          2055257.136,
          2055261.5669999998,
          2055261.4919999999,
          2055261.529,
          2055277.866,
          2055293.59,
          2055366.801,
          2055366.64,
          2055243.855,
          2055255.4019999998,
          2055239.0669999998,
          2055262.3730000001,
          2055279.021,
          2055269.604,
          2055290.7419999999,
          2055284.9440000001,
          2055318.378,
          2055329.0580000002,
          2055340.28,
          2055344.9019999998,
          2055352.145,
          2055293.174,
          2055304.9109999998,
          2055318.716,
          2055328.175,
          2055344.487,
          2055346.303,
          2055346.311,
          2055353.322,
          2055295.7980000002,
          2055323.721,
          2055366.658,
          2055312.44,
          2055312.5980000002,
          2055312.626,
          2055303.878,
          2055304.084,
          2055304.081,
          2055233.2240000002,
          2055235.227,
          2055237.216,
          2055241.71,
          2055251.415,
          2055323.7869999998,
          2055378.1930000002,
          2055379.155,
          2055384.7319999998,
          2055381.501,
          2055380.615,
          2055379.8080000002,
          2055378.8930000002,
          2055380.771,
          2055262.38,
          2055281.82,
          2055291.4009999998,
          2055300.6619999998,
          2055308.635,
          2055320.63,
          2055329.8190000001,
          2055286.852,
          2055292.0559999999,
          2055298.12,
          2055297.655,
          2055296.7719999999,
          2055302.157,
          2055306.855,
          2055304.9440000001,
          2055308.5259999998,
          2055309.908,
          2055313.8469999998,
          2055317.198,
          2055320.552,
          2055325.408,
          2055328.342,
          2055331.4219999998,
          2055328.5769999998,
          2055326.918,
          2055333.476,
          2055335.917,
          2055346.118,
          2055350.629,
          2055350.034,
          2055346.168,
          2055335.299,
          2055326.2769999998,
          2055322.884,
          2055334.8069999998,
          2055184.8,
          2055207.331,
          2055239.285,
          2055257.269,
          2055274.013,
          2055285.281,
          2055198.361,
          2055198.0590000001,
          2055218.92,
          2055216.0369999998,
          2055216.03,
          2055206.4619999998,
          2055269.253,
          2055273.6809999999,
          2055284.3180000002,
          2055269.256,
          2055273.6830000002,
          2055257.2719999999,
          2055297.36,
          2055294.312,
          2055330.4119999998,
          2055325.624,
          2055325.624,
          2055325.229,
          2055325.24,
          2055326.959,
          2055326.961
         ],
         "y": [
          3179692.24002041,
          3179722.4902,
          3179713.86192308,
          3179702.08153398,
          3179713.80840385,
          3179700.29389418,
          3179694.77302268,
          3179683.33966667,
          3179683.568,
          3179685.84418182,
          3179685.86818182,
          3179684.33090909,
          3179684.29254546,
          3179683.09781818,
          3179683.14527273,
          3179683.41033333,
          3179683.392,
          3179680.3735,
          3179682.75816667,
          3179690.1580000003,
          3179690.209,
          3179696.095,
          3179663.818,
          3179668.876,
          3179664.042,
          3179729.2010000004,
          3179729.47584211,
          3179729.48984211,
          3179729.67910526,
          3179728.501,
          3179729.2789999996,
          3179729.385,
          3179729.2010000004,
          3179681.45031667,
          3179728.2405,
          3179707.256,
          3179694.4669999997,
          3179690.9689999996,
          3179686.639,
          3179689.83402041,
          3179688.33152564,
          3179684.21015384,
          3179694.6385677997,
          3179728.38930769,
          3179696.49333883,
          3179728.314,
          3179724.1769999997,
          3179715.8985,
          3179705.7460000003,
          3179689.83812821,
          3179685.99435077,
          3179728.215,
          3179728.195,
          3179724.395,
          3179715.863,
          3179705.615,
          3179694.6389375,
          3179690.50486957,
          3179685.861,
          3179681.332,
          3179689.58635714,
          3179691.91028571,
          3179693.6061697,
          3179696.42113656,
          3179684.17312086,
          3179690.68712397,
          3179728.1769999997,
          3179728.1764,
          3179716.0568,
          3179705.5,
          3179690.613,
          3179686.7855,
          3179681.185,
          3179682.085,
          3179685.07702564,
          3179728.328,
          3179728.378,
          3179728.341,
          3179724.3032,
          3179727.6824,
          3179716.2169999997,
          3179698.3019999997,
          3179684.56360817,
          3179693.43286873,
          3179678.9117439,
          3179691.69653846,
          3179692.24547374,
          3179692.32088417,
          3179684.95825,
          3179686.4126,
          3179685.32131933,
          3179684.13816667,
          3179662.542,
          3179672.61375,
          3179685.24780851,
          3179685.77440426,
          3179685.27919149,
          3179685.73327083,
          3179685.25606383,
          3179685.655,
          3179686.34438461,
          3179685.0360000003,
          3179686.0930000003,
          3179686.8107,
          3179685.3057,
          3179684.1360000004,
          3179683.03125,
          3179683.02847059,
          3179684.12376471,
          3179685.27676471,
          3179686.78605882,
          3179686.45235294,
          3179683.07025,
          3179685.2789999996,
          3179690.36600546,
          3179689.8365,
          3179689.9479799997,
          3179689.41880435,
          3179689.49845238,
          3179689.06012771,
          3179690.46663559,
          3179690.3184735,
          3179689.22218487,
          3179688.57622269,
          3179709.248,
          3179706.865,
          3179677.047,
          3179684.015,
          3179689.137,
          3179694.31925,
          3179687.992,
          3179698.30205,
          3179675.9669,
          3179674.9280000003,
          3179673.25575,
          3179701.30870968,
          3179701.27668984,
          3179701.15091463,
          3179708.62213726,
          3179703.84785714,
          3179703.83042857,
          3179648.788,
          3179648.8710000003,
          3179648.81116667,
          3179648.80733333,
          3179648.39,
          3179648.48230769,
          3179648.74638462,
          3179648.90223077,
          3179649.17023077,
          3179649.29846154,
          3179683.394,
          3179680.37294445,
          3179675.998,
          3179675.837,
          3179649.77709091,
          3179649.85033155,
          3179649.88799465,
          3179649.1406,
          3179649.24298925,
          3179649.19795161,
          3179648.40590909,
          3179648.4869999997,
          3179648.52684615,
          3179648.48671429,
          3179650.52333333,
          3179650.4669999997,
          3179650.5086,
          3179656.6892,
          3179656.829,
          3179650.2989999996,
          3179650.2,
          3179650.2260000003,
          3179650.777,
          3179650.7610000004,
          3179650.78,
          3179650.89156,
          3179685.34914286,
          3179657.289,
          3179657.17,
          3179684.95692308,
          3179686.46466667,
          3179651.91044444,
          3179649.84422222,
          3179683.07918182,
          3179681.6319999998,
          3179685.00666667,
          3179670.822125,
          3179678.4978,
          3179680.027125,
          3179681.719375,
          3179671.22442857,
          3179678.49657143,
          3179670.37557143,
          3179670.37175,
          3179690.3660000004,
          3179689.845,
          3179689.9480000003,
          3179689.4189999998,
          3179689.497,
          3179689.06,
          3179649.21095349,
          3179650.1318,
          3179656.811,
          3179666.563,
          3179673.738,
          3179666.295,
          3179673.005,
          3179648.78255556,
          3179660.707,
          3179648.61685714,
          3179659.4905,
          3179649.21871429,
          3179659.03542857,
          3179647.22514286,
          3179648.110625,
          3179648.30475,
          3179648.19775,
          3179648.70728571,
          3179648.1862,
          3179647.92785714,
          3179647.811,
          3179669.54885714,
          3179680.04714286,
          3179683.126,
          3179682.7569999998,
          3179683.34,
          3179682.832,
          3179667.14,
          3179667.2048,
          3179666.9189999998,
          3179666.795,
          3179714.2210000004,
          3179649.77728571,
          3179649.85242857,
          3179649.14428571,
          3179649.24271429,
          3179649.18792857,
          3179648.412,
          3179648.49314286,
          3179650.52792857,
          3179650.4671,
          3179650.51092857,
          3179656.69114286,
          3179656.828,
          3179650.3060000003,
          3179650.208,
          3179650.78464286,
          3179650.77314286,
          3179650.78833333,
          3179728.1580000003,
          3179728.21,
          3179728.144,
          3179728.21,
          3179722.748,
          3179713.22,
          3179670.8019999997,
          3179648.486,
          3179691.3039999995,
          3179692.1980000003,
          3179718.17342857,
          3179718.5760000004,
          3179683.1180000002,
          3179682.749,
          3179683.334,
          3179667.1119999997,
          3179667.14,
          3179666.838,
          3179666.895,
          3179666.792,
          3179666.012,
          3179666,
          3179665.894,
          3179673.645,
          3179673.793,
          3179711.111,
          3179711.025,
          3179711.02,
          3179714.4439999997,
          3179689.0239999997,
          3179689.244,
          3179689.307,
          3179667.0069999998,
          3179667.083,
          3179667.164,
          3179681.421,
          3179681.298,
          3179684.854,
          3179691.232,
          3179693.755,
          3179695.163,
          3179699.336,
          3179718.2169999997,
          3179728.245,
          3179728.1610000003,
          3179728.203,
          3179722.545,
          3179720.5239999997,
          3179712.943,
          3179709.244,
          3179705.8419999997,
          3179693.164,
          3179685.3060000003,
          3179682.78,
          3179679.208,
          3179674.752,
          3179670.7189999996,
          3179659.828,
          3179653.7860000003,
          3179648.472,
          3179648.775,
          3179649.202,
          3179649.534,
          3179650.123,
          3179685.2739999997,
          3179686.369,
          3179686.083,
          3179708.898,
          3179666.068,
          3179675.557,
          3179669.5539999995,
          3179672.615,
          3179676.309,
          3179681.577,
          3179679.97,
          3179668.023,
          3179683.216,
          3179662.788,
          3179706.393,
          3179696.165,
          3179687.133,
          3179681.0069999998,
          3179652.3210000005,
          3179661.08,
          3179681.42,
          3179681.308,
          3179683.7989999996,
          3179683.8,
          3179686.334,
          3179685.957,
          3179728.1119999997,
          3179728.1969999997,
          3179696.84,
          3179693.175,
          3179685.14,
          3179679.1769999997,
          3179699.3030000003,
          3179718.558,
          3179692.2,
          3179727.58,
          3179728.251,
          3179651.341,
          3179648.475,
          3179649.276,
          3179649.7139999997,
          3179650.352,
          3179651.397,
          3179681.099,
          3179681.202,
          3179684.526,
          3179722.787,
          3179713.349,
          3179705.04,
          3179693.1569999997,
          3179685.165,
          3179679.24,
          3179691.313,
          3179692.202,
          3179728.211,
          3179728.252,
          3179699.41,
          3179718.5069999998,
          3179713.142,
          3179705.115,
          3179685.3860000004,
          3179679.64,
          3179681.142,
          3179681.352,
          3179684.88,
          3179691.308,
          3179713.2630000003,
          3179728.202,
          3179728.153,
          3179722.788,
          3179713.474,
          3179684.923,
          3179679.539,
          3179669.4310000003,
          3179728.369,
          3179693.682,
          3179718.478,
          3179727.7630000003,
          3179672.547,
          3179676.28,
          3179681.462,
          3179685.168,
          3179689.481,
          3179691.46,
          3179692.2369999997,
          3179695.1989999996,
          3179662.765,
          3179649.32,
          3179650.473,
          3179651.415,
          3179710.942,
          3179714.212,
          3179728.272,
          3179655.61,
          3179648.481,
          3179728.3639999996,
          3179728.236,
          3179699.352,
          3179707.9839999997,
          3179718.472,
          3179727.887,
          3179722.9439999997,
          3179669.937,
          3179672.224,
          3179676.182,
          3179681.7810000004,
          3179681.375,
          3179685.146,
          3179666.966,
          3179667.269,
          3179664.416,
          3179663.409,
          3179659.106,
          3179658.522,
          3179652.995,
          3179652.525,
          3179649.503,
          3179647.3260000004,
          3179646.166,
          3179643.847,
          3179643.562,
          3179643.623,
          3179642.47,
          3179645.039,
          3179644.537,
          3179644.0039999997,
          3179644.628,
          3179643.244,
          3179644.027,
          3179647.39,
          3179645.317,
          3179645.796,
          3179645.689,
          3179689.855,
          3179684.186,
          3179685.095,
          3179684.57,
          3179693.4469999997,
          3179691.713,
          3179692.247,
          3179692.3210000005,
          3179688.349,
          3179684.256,
          3179689.863,
          3179692.15,
          3179694.673,
          3179696.5,
          3179689.6010000003,
          3179691.9510000004,
          3179693.624,
          3179696.4289999995,
          3179722.499,
          3179713.83,
          3179700.317,
          3179722.9480000003,
          3179711.789,
          3179702.0960000004,
          3179700.6,
          3179700.808,
          3179694.8019999997,
          3179694.7139999997,
          3179692.264,
          3179692.1610000003,
          3179701.3310000002,
          3179701.2819999997,
          3179701.165,
          3179708.619,
          3179708.5939999996,
          3179717.035,
          3179717.001,
          3179719.765,
          3179718.127,
          3179722.642,
          3179718.085,
          3179727.152,
          3179689.5039999997,
          3179714.1380000003,
          3179683.403,
          3179729.503,
          3179729.692,
          3179728.389,
          3179685.961,
          3179690.648,
          3179694.645,
          3179684.965,
          3179686.465,
          3179685.356,
          3179689.2210000004,
          3179690.4760000003,
          3179690.328,
          3179649.768,
          3179649.8419999997,
          3179649.137,
          3179649.233,
          3179649.186,
          3179648.401,
          3179648.483,
          3179648.483,
          3179650.519,
          3179650.462,
          3179650.5039999997,
          3179688.5730000003,
          3179728.501,
          3179729.2789999996,
          3179729.385,
          3179724.1769999997,
          3179688.9280000003,
          3179690.1089999997,
          3179728.314,
          3179715.8989999997,
          3179705.7460000003,
          3179728.22,
          3179728.2010000004,
          3179724.4,
          3179715.8680000002,
          3179690.5089999996,
          3179685.861,
          3179681.332,
          3179683.402,
          3179680.367,
          3179683.401,
          3179705.619,
          3179694.639,
          3179681.454,
          3179684.195,
          3179686.459,
          3179684.144,
          3179683.039,
          3179690.1539999996,
          3179688.3605,
          3179689.9460000005,
          3179689.416,
          3179689.2339999997,
          3179684.559,
          3179656.687,
          3179656.8239999996,
          3179683.082,
          3179685.005,
          3179681.637,
          3179686.457,
          3179685.2819999997,
          3179686.79,
          3179683.0330000003,
          3179684.128,
          3179686.639,
          3179690.9689999996,
          3179694.4669999997,
          3179707.256,
          3179728.2410000004,
          3179682.085,
          3179681.185,
          3179686.785,
          3179690.613,
          3179705.5,
          3179716.057,
          3179727.58,
          3179728.1769999997,
          3179706.865,
          3179703.848,
          3179656.835,
          3179650.2989999996,
          3179650.202,
          3179650.225,
          3179650.777,
          3179650.76,
          3179650.7819999997,
          3179662.433,
          3179670.8230000003,
          3179680.028,
          3179681.72,
          3179683.724,
          3179703.8310000002,
          3179727.0110000004,
          3179719.0960000004,
          3179687.1560000004,
          3179704.672,
          3179709.887,
          3179714.7189999996,
          3179719.363,
          3179708.9710000004,
          3179611.722,
          3179611.84,
          3179614.5039999997,
          3179618.17,
          3179617.334,
          3179617.5069999998,
          3179612.348,
          3179623.0039999997,
          3179622.512,
          3179620.841,
          3179622.3710000003,
          3179623.486,
          3179624.1789999995,
          3179622.914,
          3179626.3419999997,
          3179618.923,
          3179627.626,
          3179634.355,
          3179634.173,
          3179633.91,
          3179633.006,
          3179626.8060000003,
          3179622.2860000003,
          3179622.567,
          3179621.52,
          3179621.8030000003,
          3179622.6360000004,
          3179627.403,
          3179626.204,
          3179625.963,
          3179623.9760000003,
          3179615.749,
          3179616.4080000003,
          3179618.443,
          3179613.624,
          3179684.28,
          3179694.668,
          3179701.483,
          3179702.192,
          3179704.4680000003,
          3179703.327,
          3179675.6769999997,
          3179676.975,
          3179681.4469999997,
          3179680.855,
          3179680.852,
          3179681.2810000004,
          3179708.79,
          3179708.3060000003,
          3179708.0719999997,
          3179708.784,
          3179708.298,
          3179702.1739999996,
          3179720.098,
          3179722.587,
          3179720.512,
          3179725.4,
          3179725.461,
          3179716.37,
          3179716.3680000002,
          3179713.058,
          3179713.057
         ],
         "z": [
          149.329979591837,
          145.7223,
          141.951807692308,
          142.35635922330098,
          145.443230769231,
          145.529804232804,
          147.260912568306,
          124.48100000000001,
          124.4546,
          126.756818181818,
          126.76,
          126.73909090909099,
          126.734909090909,
          126.841090909091,
          126.855,
          142.288333333333,
          142.991,
          140.851333333333,
          141.16299999999998,
          126.264,
          126.26100000000001,
          126.2505,
          126.525,
          126.52600000000001,
          126.52,
          125.215,
          131.96447368421101,
          131.955736842105,
          138.88388421052602,
          142.922,
          142.09,
          142.097,
          125.196,
          137.4991,
          136.333,
          136.601,
          136.317,
          136.53,
          136.167,
          146.638,
          141.702025641026,
          141.513025641026,
          144.50199152542402,
          137.523,
          142.801032967033,
          137.5259,
          137.52,
          137.525,
          137.518625,
          146.501435897436,
          137.50996999999998,
          133.001,
          132.997,
          133.092,
          133.02807692307698,
          133.076,
          132.731,
          132.825,
          132.703857142857,
          132.878875,
          141.49292,
          141.525571428571,
          141.031690909091,
          141.111070484581,
          144.968677902622,
          137.503950413223,
          128.24,
          128.2402,
          129.3854,
          128.96,
          129.019,
          128.69899999999998,
          128.765,
          128.725,
          145.146051282051,
          125.009,
          125.01700000000001,
          125.005,
          123.331,
          125.0258,
          125.24,
          126.79,
          145.084986046511,
          149.462806949807,
          137.522990243902,
          149.677025641026,
          151.639436607339,
          151.958444015444,
          143.46625,
          143.45184444444402,
          143.461,
          142.9755,
          127.179,
          126.22,
          143.111978723404,
          139.30444680851102,
          137.53697872340402,
          135.548958333333,
          133.737617021277,
          129.921,
          130.139961538461,
          130.12133333333298,
          137.5,
          137.4901,
          137.5499,
          137.70985,
          137.620125,
          132.125352941176,
          131.953647058824,
          135.918470588235,
          135.751882352941,
          137.584764705882,
          129.965,
          130.2266,
          148.968663636364,
          145.415,
          149.57232,
          145.680239130435,
          150.088883333333,
          146.643293290043,
          151.211259079903,
          149.53510738255,
          150.669428571429,
          146.43990336134502,
          120.596,
          155.240571428571,
          127.54700000000001,
          127.221,
          127.208,
          126.9,
          127.117,
          126.79,
          127.18015,
          127.191833333333,
          127.223333333333,
          153.72973705611298,
          152.47285561497299,
          149.952253325942,
          153.57335294117598,
          153.099857142857,
          154.739857142857,
          125.045,
          125.01700000000001,
          125.044,
          125.04,
          126.87200000000001,
          126.877076923077,
          126.838,
          126.787,
          126.94092307692301,
          126.932,
          142.99200000000002,
          140.85,
          120.296,
          123.295,
          138.111005347594,
          135.206417112299,
          132.218,
          137.8438,
          134.843897849462,
          131.75660215053801,
          138.096909090909,
          132.095625,
          129.075,
          124.999408163265,
          137.880333333333,
          134.887666666667,
          131.8788,
          137.36,
          134.36,
          138.282,
          135.15,
          132.122,
          137.944,
          135.016,
          131.7152,
          127.79746000000002,
          144.15,
          127.94,
          128.106,
          143.466,
          143.61,
          126.225,
          127.625666666667,
          138.006636363636,
          137.958,
          137.689222222222,
          133.679875,
          133.6488,
          133.39975,
          133.62,
          120.594285714286,
          129.281714285714,
          129.294571428571,
          129.281,
          148.969,
          145.41899999999998,
          149.572,
          145.68,
          150.088,
          146.643,
          125.782697674419,
          126.116,
          116.742,
          116.74700000000001,
          116.68,
          109.76899999999999,
          109.655,
          127.223777777778,
          127.178333333333,
          127.7,
          127.99799999999999,
          120.37557142857099,
          120.87200000000001,
          127.729,
          127.76799999999999,
          127.923125,
          128.142,
          118.755,
          118.9124,
          121.639,
          109.82,
          107.639,
          100.029,
          119.698,
          114.025,
          106.626666666667,
          99.854,
          116.009,
          98.228,
          116.19200000000001,
          105.39200000000001,
          97.14200000000001,
          138.132,
          135.224,
          137.85299999999998,
          134.859,
          131.840785714286,
          138.105857142857,
          132.107928571429,
          137.891,
          134.8948,
          131.889,
          137.361857142857,
          134.369,
          138.2978,
          135.1635,
          137.960928571429,
          135.029,
          131.728666666667,
          109.899,
          101.311,
          116.53200000000001,
          101.311,
          101.02799999999999,
          111.478,
          124.088,
          98.19,
          114.219,
          114.734,
          117.708,
          114.64983333333299,
          119.676,
          113.993,
          106.583,
          123.581,
          116,
          124.13799999999999,
          116.17,
          105.382,
          120.211,
          115.335,
          103.779,
          120.93299999999999,
          106.23899999999999,
          118.37700000000001,
          113.145,
          106.677,
          113.23299999999999,
          124.155,
          115.756,
          106.728,
          122.171,
          115.891,
          107.89299999999999,
          120.21799999999999,
          119.964,
          119.92,
          119.713,
          119.743,
          119.71600000000001,
          117.215,
          117.68799999999999,
          120.103,
          119.962,
          120.5,
          121.007,
          120.759,
          121.164,
          120.586,
          121.01799999999999,
          122.117,
          122.23899999999999,
          124.044,
          122.249,
          125.184,
          124.064,
          122.50299999999999,
          122.97399999999999,
          123.963,
          125.14399999999999,
          125.743,
          126.012,
          126.102,
          115.56299999999999,
          115.70299999999999,
          115.67,
          109.065,
          114.96,
          114.88799999999999,
          107.635,
          107.603,
          107.492,
          107.57,
          114.11200000000001,
          115.265,
          114.005,
          107.941,
          124.58,
          124.854,
          125.23700000000001,
          125.23299999999999,
          125.23899999999999,
          125.213,
          117.475,
          117.515,
          112.07,
          112.069,
          111.92399999999999,
          112.009,
          116.93,
          116.507,
          115.56200000000001,
          118.382,
          118.39299999999999,
          118.43,
          114.779,
          114.645,
          115.041,
          109.02,
          108.839,
          113.039,
          113.51,
          113.25200000000001,
          113.465,
          113.958,
          113.47399999999999,
          113.73,
          113.87100000000001,
          113.801,
          115.435,
          115.485,
          114.876,
          115.38600000000001,
          115.329,
          115.385,
          114.214,
          114.728,
          109.866,
          109.572,
          109.338,
          109.206,
          109.54899999999999,
          111.189,
          111.652,
          111.676,
          110.445,
          111.133,
          111.385,
          111.693,
          111.436,
          101.303,
          100.836,
          100.98200000000001,
          101.064,
          103.536,
          103.56,
          102.22,
          101.564,
          105.323,
          102.48,
          100.941,
          103.085,
          103.115,
          103.411,
          103.337,
          103.86399999999999,
          104.066,
          104.20100000000001,
          103.509,
          102.977,
          101.54799999999999,
          101.868,
          102.685,
          101.05799999999999,
          97.134,
          95.85700000000001,
          98.2,
          98.185,
          96.603,
          96.104,
          99.368,
          99.359,
          98.794,
          97.351,
          98.339,
          98,
          98.35799999999999,
          98.57600000000001,
          98.994,
          98.84200000000001,
          98.719,
          129.51,
          134.322,
          134.86,
          133.855,
          133.983,
          130.7,
          133.863,
          130.263,
          132.17,
          135.49,
          131.92600000000002,
          134.07299999999998,
          131.976,
          135.375,
          131.678,
          135.095,
          137.53,
          131.69,
          136.525,
          132.594,
          130.664,
          137.776,
          131.41,
          131.458,
          133.881,
          146.507,
          144.975,
          145.157,
          145.082,
          149.465,
          149.683,
          151.642,
          151.97,
          141.71,
          141.515,
          146.656,
          145.668,
          144.54,
          142.811,
          141.57299999999998,
          141.532,
          141.045,
          141.12,
          145.734,
          145.455,
          145.53799999999998,
          142.44,
          142.034,
          142.364,
          144.994,
          143.308,
          147.279,
          146.045,
          149.346,
          147.736,
          153.732,
          152.48,
          149.958,
          153.576,
          151.733,
          154.555,
          153.424,
          154.566,
          137.284,
          137.27100000000002,
          133.19,
          134.738,
          150.099,
          141.955,
          142.991,
          131.955,
          138.877,
          137.523,
          137.52100000000002,
          137.516,
          137.515,
          143.607,
          143.602,
          143.61,
          150.675,
          151.224,
          149.54,
          138.118,
          135.214,
          137.842,
          134.85,
          131.761,
          138.095,
          132.093,
          132.094,
          137.878,
          134.886,
          131.877,
          146.447,
          142.922,
          142.09,
          142.097,
          137.52,
          145.776,
          148.11700000000002,
          137.526,
          137.525,
          137.513,
          132.999,
          133,
          133.092,
          133.02700000000002,
          132.822,
          132.705,
          132.879,
          142.989,
          140.8575,
          142.989,
          133.075,
          132.731,
          137.501,
          143.069,
          137.584,
          137.713,
          137.616,
          149.289,
          144.501,
          149.591,
          145.6985,
          150.68,
          145.082,
          137.358,
          134.358,
          138.005,
          137.696,
          137.958,
          137.582,
          135.908,
          135.753,
          132.125,
          131.953,
          136.167,
          136.53,
          136.317,
          136.601,
          136.333,
          128.725,
          128.765,
          128.69899999999998,
          129.019,
          128.96,
          129.386,
          129.452,
          128.24,
          155.237,
          153.095,
          131.363,
          138.284,
          135.149,
          132.123,
          137.946,
          135.016,
          131.714,
          133.674,
          133.675,
          133.399,
          133.615,
          133.332,
          154.741,
          127.042,
          127.29700000000001,
          128.415,
          127.625,
          127.691,
          127.59299999999999,
          125.185,
          125.387,
          98.885,
          94.14,
          91.163,
          92.258,
          90.318,
          90.641,
          91.292,
          108.478,
          110.484,
          98.92,
          109.554,
          116.04799999999999,
          113.205,
          106.094,
          117.819,
          98.50299999999999,
          118.639,
          125.975,
          127.288,
          125.96799999999999,
          129.442,
          130.644,
          123.632,
          119.94200000000001,
          113.042,
          118.396,
          123.766,
          135.113,
          133.99,
          128.201,
          120.51,
          107.056,
          102.586,
          100.421,
          100.125,
          146.505,
          148.157,
          150.21,
          151.102,
          152.09,
          152.806,
          145.111,
          145.374,
          144.10399999999998,
          145.555,
          144.35399999999998,
          146.339,
          156.297,
          156.523,
          157.014,
          156.291,
          156.518,
          151.084,
          161.475,
          163.247,
          155.053,
          155.142,
          154.149,
          155.196,
          154.164,
          154.178,
          152.085
         ]
        }
       ],
       "layout": {
        "font": {
         "color": "white"
        },
        "height": 470,
        "margin": {
         "b": 0,
         "l": 20,
         "r": 20,
         "t": 0
        },
        "paper_bgcolor": "#222222",
        "plot_bgcolor": "#222222",
        "scene": {
         "aspectratio": {
          "x": 2,
          "y": 2,
          "z": 1
         },
         "xaxis": {
          "backgroundcolor": "#222222",
          "gridcolor": "grey",
          "linecolor": "white",
          "linewidth": 2,
          "mirror": true,
          "showbackground": false,
          "showline": true,
          "showticklabels": false,
          "title": {
           "text": "Est / Ouest"
          }
         },
         "yaxis": {
          "backgroundcolor": "#222222",
          "gridcolor": "grey",
          "linecolor": "white",
          "linewidth": 2,
          "mirror": true,
          "showbackground": false,
          "showline": true,
          "showticklabels": false,
          "title": {
           "text": "Nord / Sud"
          }
         },
         "zaxis": {
          "backgroundcolor": "#222222",
          "gridcolor": "grey",
          "linecolor": "white",
          "linewidth": 2,
          "mirror": true,
          "showbackground": false,
          "showline": true,
          "showticklabels": false,
          "title": {
           "text": "Z"
          }
         }
        },
        "showlegend": false,
        "template": {
         "data": {
          "bar": [
           {
            "error_x": {
             "color": "#2a3f5f"
            },
            "error_y": {
             "color": "#2a3f5f"
            },
            "marker": {
             "line": {
              "color": "#E5ECF6",
              "width": 0.5
             }
            },
            "type": "bar"
           }
          ],
          "barpolar": [
           {
            "marker": {
             "line": {
              "color": "#E5ECF6",
              "width": 0.5
             }
            },
            "type": "barpolar"
           }
          ],
          "carpet": [
           {
            "aaxis": {
             "endlinecolor": "#2a3f5f",
             "gridcolor": "white",
             "linecolor": "white",
             "minorgridcolor": "white",
             "startlinecolor": "#2a3f5f"
            },
            "baxis": {
             "endlinecolor": "#2a3f5f",
             "gridcolor": "white",
             "linecolor": "white",
             "minorgridcolor": "white",
             "startlinecolor": "#2a3f5f"
            },
            "type": "carpet"
           }
          ],
          "choropleth": [
           {
            "colorbar": {
             "outlinewidth": 0,
             "ticks": ""
            },
            "type": "choropleth"
           }
          ],
          "contour": [
           {
            "colorbar": {
             "outlinewidth": 0,
             "ticks": ""
            },
            "colorscale": [
             [
              0,
              "#0d0887"
             ],
             [
              0.1111111111111111,
              "#46039f"
             ],
             [
              0.2222222222222222,
              "#7201a8"
             ],
             [
              0.3333333333333333,
              "#9c179e"
             ],
             [
              0.4444444444444444,
              "#bd3786"
             ],
             [
              0.5555555555555556,
              "#d8576b"
             ],
             [
              0.6666666666666666,
              "#ed7953"
             ],
             [
              0.7777777777777778,
              "#fb9f3a"
             ],
             [
              0.8888888888888888,
              "#fdca26"
             ],
             [
              1,
              "#f0f921"
             ]
            ],
            "type": "contour"
           }
          ],
          "contourcarpet": [
           {
            "colorbar": {
             "outlinewidth": 0,
             "ticks": ""
            },
            "type": "contourcarpet"
           }
          ],
          "heatmap": [
           {
            "colorbar": {
             "outlinewidth": 0,
             "ticks": ""
            },
            "colorscale": [
             [
              0,
              "#0d0887"
             ],
             [
              0.1111111111111111,
              "#46039f"
             ],
             [
              0.2222222222222222,
              "#7201a8"
             ],
             [
              0.3333333333333333,
              "#9c179e"
             ],
             [
              0.4444444444444444,
              "#bd3786"
             ],
             [
              0.5555555555555556,
              "#d8576b"
             ],
             [
              0.6666666666666666,
              "#ed7953"
             ],
             [
              0.7777777777777778,
              "#fb9f3a"
             ],
             [
              0.8888888888888888,
              "#fdca26"
             ],
             [
              1,
              "#f0f921"
             ]
            ],
            "type": "heatmap"
           }
          ],
          "heatmapgl": [
           {
            "colorbar": {
             "outlinewidth": 0,
             "ticks": ""
            },
            "colorscale": [
             [
              0,
              "#0d0887"
             ],
             [
              0.1111111111111111,
              "#46039f"
             ],
             [
              0.2222222222222222,
              "#7201a8"
             ],
             [
              0.3333333333333333,
              "#9c179e"
             ],
             [
              0.4444444444444444,
              "#bd3786"
             ],
             [
              0.5555555555555556,
              "#d8576b"
             ],
             [
              0.6666666666666666,
              "#ed7953"
             ],
             [
              0.7777777777777778,
              "#fb9f3a"
             ],
             [
              0.8888888888888888,
              "#fdca26"
             ],
             [
              1,
              "#f0f921"
             ]
            ],
            "type": "heatmapgl"
           }
          ],
          "histogram": [
           {
            "marker": {
             "colorbar": {
              "outlinewidth": 0,
              "ticks": ""
             }
            },
            "type": "histogram"
           }
          ],
          "histogram2d": [
           {
            "colorbar": {
             "outlinewidth": 0,
             "ticks": ""
            },
            "colorscale": [
             [
              0,
              "#0d0887"
             ],
             [
              0.1111111111111111,
              "#46039f"
             ],
             [
              0.2222222222222222,
              "#7201a8"
             ],
             [
              0.3333333333333333,
              "#9c179e"
             ],
             [
              0.4444444444444444,
              "#bd3786"
             ],
             [
              0.5555555555555556,
              "#d8576b"
             ],
             [
              0.6666666666666666,
              "#ed7953"
             ],
             [
              0.7777777777777778,
              "#fb9f3a"
             ],
             [
              0.8888888888888888,
              "#fdca26"
             ],
             [
              1,
              "#f0f921"
             ]
            ],
            "type": "histogram2d"
           }
          ],
          "histogram2dcontour": [
           {
            "colorbar": {
             "outlinewidth": 0,
             "ticks": ""
            },
            "colorscale": [
             [
              0,
              "#0d0887"
             ],
             [
              0.1111111111111111,
              "#46039f"
             ],
             [
              0.2222222222222222,
              "#7201a8"
             ],
             [
              0.3333333333333333,
              "#9c179e"
             ],
             [
              0.4444444444444444,
              "#bd3786"
             ],
             [
              0.5555555555555556,
              "#d8576b"
             ],
             [
              0.6666666666666666,
              "#ed7953"
             ],
             [
              0.7777777777777778,
              "#fb9f3a"
             ],
             [
              0.8888888888888888,
              "#fdca26"
             ],
             [
              1,
              "#f0f921"
             ]
            ],
            "type": "histogram2dcontour"
           }
          ],
          "mesh3d": [
           {
            "colorbar": {
             "outlinewidth": 0,
             "ticks": ""
            },
            "type": "mesh3d"
           }
          ],
          "parcoords": [
           {
            "line": {
             "colorbar": {
              "outlinewidth": 0,
              "ticks": ""
             }
            },
            "type": "parcoords"
           }
          ],
          "pie": [
           {
            "automargin": true,
            "type": "pie"
           }
          ],
          "scatter": [
           {
            "marker": {
             "colorbar": {
              "outlinewidth": 0,
              "ticks": ""
             }
            },
            "type": "scatter"
           }
          ],
          "scatter3d": [
           {
            "line": {
             "colorbar": {
              "outlinewidth": 0,
              "ticks": ""
             }
            },
            "marker": {
             "colorbar": {
              "outlinewidth": 0,
              "ticks": ""
             }
            },
            "type": "scatter3d"
           }
          ],
          "scattercarpet": [
           {
            "marker": {
             "colorbar": {
              "outlinewidth": 0,
              "ticks": ""
             }
            },
            "type": "scattercarpet"
           }
          ],
          "scattergeo": [
           {
            "marker": {
             "colorbar": {
              "outlinewidth": 0,
              "ticks": ""
             }
            },
            "type": "scattergeo"
           }
          ],
          "scattergl": [
           {
            "marker": {
             "colorbar": {
              "outlinewidth": 0,
              "ticks": ""
             }
            },
            "type": "scattergl"
           }
          ],
          "scattermapbox": [
           {
            "marker": {
             "colorbar": {
              "outlinewidth": 0,
              "ticks": ""
             }
            },
            "type": "scattermapbox"
           }
          ],
          "scatterpolar": [
           {
            "marker": {
             "colorbar": {
              "outlinewidth": 0,
              "ticks": ""
             }
            },
            "type": "scatterpolar"
           }
          ],
          "scatterpolargl": [
           {
            "marker": {
             "colorbar": {
              "outlinewidth": 0,
              "ticks": ""
             }
            },
            "type": "scatterpolargl"
           }
          ],
          "scatterternary": [
           {
            "marker": {
             "colorbar": {
              "outlinewidth": 0,
              "ticks": ""
             }
            },
            "type": "scatterternary"
           }
          ],
          "surface": [
           {
            "colorbar": {
             "outlinewidth": 0,
             "ticks": ""
            },
            "colorscale": [
             [
              0,
              "#0d0887"
             ],
             [
              0.1111111111111111,
              "#46039f"
             ],
             [
              0.2222222222222222,
              "#7201a8"
             ],
             [
              0.3333333333333333,
              "#9c179e"
             ],
             [
              0.4444444444444444,
              "#bd3786"
             ],
             [
              0.5555555555555556,
              "#d8576b"
             ],
             [
              0.6666666666666666,
              "#ed7953"
             ],
             [
              0.7777777777777778,
              "#fb9f3a"
             ],
             [
              0.8888888888888888,
              "#fdca26"
             ],
             [
              1,
              "#f0f921"
             ]
            ],
            "type": "surface"
           }
          ],
          "table": [
           {
            "cells": {
             "fill": {
              "color": "#EBF0F8"
             },
             "line": {
              "color": "white"
             }
            },
            "header": {
             "fill": {
              "color": "#C8D4E3"
             },
             "line": {
              "color": "white"
             }
            },
            "type": "table"
           }
          ]
         },
         "layout": {
          "annotationdefaults": {
           "arrowcolor": "#2a3f5f",
           "arrowhead": 0,
           "arrowwidth": 1
          },
          "coloraxis": {
           "colorbar": {
            "outlinewidth": 0,
            "ticks": ""
           }
          },
          "colorscale": {
           "diverging": [
            [
             0,
             "#8e0152"
            ],
            [
             0.1,
             "#c51b7d"
            ],
            [
             0.2,
             "#de77ae"
            ],
            [
             0.3,
             "#f1b6da"
            ],
            [
             0.4,
             "#fde0ef"
            ],
            [
             0.5,
             "#f7f7f7"
            ],
            [
             0.6,
             "#e6f5d0"
            ],
            [
             0.7,
             "#b8e186"
            ],
            [
             0.8,
             "#7fbc41"
            ],
            [
             0.9,
             "#4d9221"
            ],
            [
             1,
             "#276419"
            ]
           ],
           "sequential": [
            [
             0,
             "#0d0887"
            ],
            [
             0.1111111111111111,
             "#46039f"
            ],
            [
             0.2222222222222222,
             "#7201a8"
            ],
            [
             0.3333333333333333,
             "#9c179e"
            ],
            [
             0.4444444444444444,
             "#bd3786"
            ],
            [
             0.5555555555555556,
             "#d8576b"
            ],
            [
             0.6666666666666666,
             "#ed7953"
            ],
            [
             0.7777777777777778,
             "#fb9f3a"
            ],
            [
             0.8888888888888888,
             "#fdca26"
            ],
            [
             1,
             "#f0f921"
            ]
           ],
           "sequentialminus": [
            [
             0,
             "#0d0887"
            ],
            [
             0.1111111111111111,
             "#46039f"
            ],
            [
             0.2222222222222222,
             "#7201a8"
            ],
            [
             0.3333333333333333,
             "#9c179e"
            ],
            [
             0.4444444444444444,
             "#bd3786"
            ],
            [
             0.5555555555555556,
             "#d8576b"
            ],
            [
             0.6666666666666666,
             "#ed7953"
            ],
            [
             0.7777777777777778,
             "#fb9f3a"
            ],
            [
             0.8888888888888888,
             "#fdca26"
            ],
            [
             1,
             "#f0f921"
            ]
           ]
          },
          "colorway": [
           "#636efa",
           "#EF553B",
           "#00cc96",
           "#ab63fa",
           "#FFA15A",
           "#19d3f3",
           "#FF6692",
           "#B6E880",
           "#FF97FF",
           "#FECB52"
          ],
          "font": {
           "color": "#2a3f5f"
          },
          "geo": {
           "bgcolor": "white",
           "lakecolor": "white",
           "landcolor": "#E5ECF6",
           "showlakes": true,
           "showland": true,
           "subunitcolor": "white"
          },
          "hoverlabel": {
           "align": "left"
          },
          "hovermode": "closest",
          "mapbox": {
           "style": "light"
          },
          "paper_bgcolor": "white",
          "plot_bgcolor": "#E5ECF6",
          "polar": {
           "angularaxis": {
            "gridcolor": "white",
            "linecolor": "white",
            "ticks": ""
           },
           "bgcolor": "#E5ECF6",
           "radialaxis": {
            "gridcolor": "white",
            "linecolor": "white",
            "ticks": ""
           }
          },
          "scene": {
           "xaxis": {
            "backgroundcolor": "#E5ECF6",
            "gridcolor": "white",
            "gridwidth": 2,
            "linecolor": "white",
            "showbackground": true,
            "ticks": "",
            "zerolinecolor": "white"
           },
           "yaxis": {
            "backgroundcolor": "#E5ECF6",
            "gridcolor": "white",
            "gridwidth": 2,
            "linecolor": "white",
            "showbackground": true,
            "ticks": "",
            "zerolinecolor": "white"
           },
           "zaxis": {
            "backgroundcolor": "#E5ECF6",
            "gridcolor": "white",
            "gridwidth": 2,
            "linecolor": "white",
            "showbackground": true,
            "ticks": "",
            "zerolinecolor": "white"
           }
          },
          "shapedefaults": {
           "line": {
            "color": "#2a3f5f"
           }
          },
          "ternary": {
           "aaxis": {
            "gridcolor": "white",
            "linecolor": "white",
            "ticks": ""
           },
           "baxis": {
            "gridcolor": "white",
            "linecolor": "white",
            "ticks": ""
           },
           "bgcolor": "#E5ECF6",
           "caxis": {
            "gridcolor": "white",
            "linecolor": "white",
            "ticks": ""
           }
          },
          "title": {
           "x": 0.05
          },
          "xaxis": {
           "automargin": true,
           "gridcolor": "white",
           "linecolor": "white",
           "ticks": "",
           "title": {
            "standoff": 15
           },
           "zerolinecolor": "white",
           "zerolinewidth": 2
          },
          "yaxis": {
           "automargin": true,
           "gridcolor": "white",
           "linecolor": "white",
           "ticks": "",
           "title": {
            "standoff": 15
           },
           "zerolinecolor": "white",
           "zerolinewidth": 2
          }
         }
        },
        "updatemenus": [
         {
          "buttons": [
           {
            "args": [
             {
              "visible": [
               true,
               false
              ]
             }
            ],
            "label": "Positions",
            "method": "update"
           },
           {
            "args": [
             {
              "visible": [
               false,
               true
              ]
             }
            ],
            "label": "Vecteurs",
            "method": "update"
           }
          ],
          "direction": "right",
          "pad": {
           "r": 10,
           "t": 0
          },
          "showactive": true,
          "type": "dropdown",
          "x": 0.15,
          "xanchor": "left",
          "y": 1.08,
          "yanchor": "top"
         }
        ],
        "width": 650
       }
      },
      "text/html": [
       "<div>                            <div id=\"8b0610bc-2546-4ffe-869e-ced2399e8df3\" class=\"plotly-graph-div\" style=\"height:470px; width:650px;\"></div>            <script type=\"text/javascript\">                require([\"plotly\"], function(Plotly) {                    window.PLOTLYENV=window.PLOTLYENV || {};                                    if (document.getElementById(\"8b0610bc-2546-4ffe-869e-ced2399e8df3\")) {                    Plotly.newPlot(                        \"8b0610bc-2546-4ffe-869e-ced2399e8df3\",                        [{\"customdata\": [[\"Auto-AC11a\", \"Hors secteur\"], [\"Auto-AC1Ba\", \"Hors secteur\"], [\"Auto-AC311a\", \"Hors secteur\"], [\"Auto-AC32a\", \"Hors secteur\"], [\"Auto-AC5Ba\", \"Hors secteur\"], [\"Auto-AC7Ba\", \"Hors secteur\"], [\"Auto-AC9a\", \"Hors secteur\"], [\"Auto-B11a\", \"Hors secteur\"], [\"Auto-B12a\", \"Hors secteur\"], [\"Auto-B41a\", \"Hors secteur\"], [\"Auto-B42a\", \"Hors secteur\"], [\"Auto-B51a\", \"Hors secteur\"], [\"Auto-B52a\", \"Hors secteur\"], [\"Auto-B61a\", \"Hors secteur\"], [\"Auto-B62a\", \"Hors secteur\"], [\"Auto-BAPM.4a\", \"Hors secteur\"], [\"Auto-BAPM1.1a\", \"Hors secteur\"], [\"Auto-BAPM2.1a\", \"Hors secteur\"], [\"Auto-BAPM3.1a\", \"Hors secteur\"], [\"Auto-G11a\", \"Hors secteur\"], [\"Auto-G12a\", \"Hors secteur\"], [\"Auto-G13a\", \"Hors secteur\"], [\"Auto-GR2.1a\", \"Hors secteur\"], [\"Auto-GR2.2a\", \"Hors secteur\"], [\"Auto-GR2.3a\", \"Hors secteur\"], [\"Auto-MS20a\", \"Hors secteur\"], [\"Auto-MS21a\", \"Hors secteur\"], [\"Auto-MS22a\", \"Hors secteur\"], [\"Auto-MS25a\", \"Hors secteur\"], [\"Auto-MS26a\", \"Hors secteur\"], [\"Auto-MS27a\", \"Hors secteur\"], [\"Auto-MS31a\", \"Hors secteur\"], [\"Auto-MS32a\", \"Hors secteur\"], [\"Auto-PC1.1a\", \"Hors secteur\"], [\"Auto-PC101a\", \"Hors secteur\"], [\"Auto-PC105a\", \"Hors secteur\"], [\"Auto-PC106a\", \"Hors secteur\"], [\"Auto-PC107a\", \"Hors secteur\"], [\"Auto-PC108a\", \"Hors secteur\"], [\"Auto-PC10a\", \"Hors secteur\"], [\"Auto-PC111a\", \"Hors secteur\"], [\"Auto-PC112a\", \"Hors secteur\"], [\"Auto-PC11a\", \"Hors secteur\"], [\"Auto-PC12a\", \"Hors secteur\"], [\"Auto-PC13.1a\", \"Hors secteur\"], [\"Auto-PC13a\", \"Hors secteur\"], [\"Auto-PC14.1a\", \"Hors secteur\"], [\"Auto-PC15.1a\", \"Hors secteur\"], [\"Auto-PC16.1a\", \"Hors secteur\"], [\"Auto-PC17.1a\", \"Hors secteur\"], [\"Auto-PC1A\", \"Hors secteur\"], [\"Auto-PC2.1a\", \"Hors secteur\"], [\"Auto-PC201a\", \"Hors secteur\"], [\"Auto-PC202a\", \"Hors secteur\"], [\"Auto-PC203a\", \"Hors secteur\"], [\"Auto-PC204a\", \"Hors secteur\"], [\"Auto-PC205a\", \"Hors secteur\"], [\"Auto-PC206a\", \"Hors secteur\"], [\"Auto-PC207a\", \"Hors secteur\"], [\"Auto-PC208a\", \"Hors secteur\"], [\"Auto-PC209a\", \"Hors secteur\"], [\"Auto-PC21a\", \"Hors secteur\"], [\"Auto-PC22a\", \"Hors secteur\"], [\"Auto-PC23a\", \"Hors secteur\"], [\"Auto-PC23Ba\", \"Hors secteur\"], [\"Auto-PC2a\", \"Hors secteur\"], [\"Auto-PC3.1a\", \"Hors secteur\"], [\"Auto-PC301a\", \"Hors secteur\"], [\"Auto-PC302a\", \"Hors secteur\"], [\"Auto-PC304a\", \"Hors secteur\"], [\"Auto-PC305a\", \"Hors secteur\"], [\"Auto-PC307a\", \"Hors secteur\"], [\"Auto-PC308a\", \"Hors secteur\"], [\"Auto-PC309a\", \"Hors secteur\"], [\"Auto-PC310a\", \"Hors secteur\"], [\"Auto-PC3a\", \"Hors secteur\"], [\"Auto-PC401a\", \"Hors secteur\"], [\"Auto-PC402a\", \"Hors secteur\"], [\"Auto-PC403a\", \"Hors secteur\"], [\"Auto-PC450a\", \"Hors secteur\"], [\"Auto-PC451a\", \"Hors secteur\"], [\"Auto-PC452a\", \"Hors secteur\"], [\"Auto-PC453a\", \"Hors secteur\"], [\"Auto-PC4a\", \"Hors secteur\"], [\"Auto-PC5a\", \"Hors secteur\"], [\"Auto-PC6.1a\", \"Hors secteur\"], [\"Auto-PC6A\", \"Hors secteur\"], [\"Auto-PC7.1a\", \"Hors secteur\"], [\"Auto-PC7a\", \"Hors secteur\"], [\"Auto-PC8a\", \"Hors secteur\"], [\"Auto-PCBA.1a\", \"Hors secteur\"], [\"Auto-PCBA.2a\", \"Hors secteur\"], [\"Auto-PCBA.3a\", \"Hors secteur\"], [\"Auto-PCBA.4a\", \"Hors secteur\"], [\"Auto-PD1a\", \"Hors secteur\"], [\"Auto-PD2.a\", \"Hors secteur\"], [\"Auto-PL101a\", \"Hors secteur\"], [\"Auto-PL202a\", \"Hors secteur\"], [\"Auto-PL301a\", \"Hors secteur\"], [\"Auto-PL402a\", \"Hors secteur\"], [\"Auto-PL501a\", \"Hors secteur\"], [\"Auto-PM.603a\", \"Hors secteur\"], [\"Auto-PM.604a\", \"Hors secteur\"], [\"Auto-PM.605a\", \"Hors secteur\"], [\"Auto-PM209a\", \"Hors secteur\"], [\"Auto-PM210a\", \"Hors secteur\"], [\"Auto-PM211a\", \"Hors secteur\"], [\"Auto-PM212a\", \"Hors secteur\"], [\"Auto-PM213a\", \"Hors secteur\"], [\"Auto-PM301a\", \"Hors secteur\"], [\"Auto-PM302a\", \"Hors secteur\"], [\"Auto-PM303a\", \"Hors secteur\"], [\"Auto-PM304a\", \"Hors secteur\"], [\"Auto-PM305a\", \"Hors secteur\"], [\"Auto-PM601a\", \"Hors secteur\"], [\"Auto-PM602a\", \"Hors secteur\"], [\"Auto-PMS.1a\", \"Hors secteur\"], [\"Auto-PMS1.2a\", \"Hors secteur\"], [\"Auto-PMS2.1a\", \"Hors secteur\"], [\"Auto-PMS2.2a\", \"Hors secteur\"], [\"Auto-PMS3.1a\", \"Hors secteur\"], [\"Auto-PMS3.2a\", \"Hors secteur\"], [\"Auto-PMS4.1a\", \"Hors secteur\"], [\"Auto-PMS4.2a\", \"Hors secteur\"], [\"Auto-PMS5.1a\", \"Hors secteur\"], [\"Auto-PMS5.2a\", \"Hors secteur\"], [\"Auto-PR14.1a\", \"Hors secteur\"], [\"Auto-RN7.1a\", \"Hors secteur\"], [\"Auto-TREM1a\", \"Hors secteur\"], [\"Auto-TREM2.1a\", \"Hors secteur\"], [\"Auto-TREM2.2a\", \"Hors secteur\"], [\"Auto-TREM2.3a\", \"Hors secteur\"], [\"Auto-TREM2a\", \"Hors secteur\"], [\"Auto-TREM3.a\", \"Hors secteur\"], [\"Auto-TREM4.a\", \"Hors secteur\"], [\"Auto-TREM5a\", \"Hors secteur\"], [\"Auto-TREM6a\", \"Hors secteur\"], [\"Auto-VJ1a\", \"Hors secteur\"], [\"Auto-VJ2a\", \"Hors secteur\"], [\"Auto-VJ3a\", \"Hors secteur\"], [\"Auto-VJ4a\", \"Hors secteur\"], [\"Auto-VJ6a\", \"Hors secteur\"], [\"Auto-VJ7a\", \"Hors secteur\"], [\"Auto-B13b\", \"Hors secteur\"], [\"Auto-B14b\", \"Hors secteur\"], [\"Auto-B23b\", \"Hors secteur\"], [\"Auto-B24b\", \"Hors secteur\"], [\"Auto-B43b\", \"Hors secteur\"], [\"Auto-B44b\", \"Hors secteur\"], [\"Auto-B53b\", \"Hors secteur\"], [\"Auto-B54b\", \"Hors secteur\"], [\"Auto-B63b\", \"Hors secteur\"], [\"Auto-B64b\", \"Hors secteur\"], [\"Auto-BAPM1.1b\", \"Hors secteur\"], [\"Auto-BAPM2.1b\", \"Hors secteur\"], [\"Auto-DB1b\", \"Hors secteur\"], [\"Auto-DB2b\", \"Hors secteur\"], [\"Auto-F1.1b\", \"Hors secteur\"], [\"Auto-F1.2b\", \"Hors secteur\"], [\"Auto-F1.3b\", \"Hors secteur\"], [\"Auto-F1.4b\", \"Hors secteur\"], [\"Auto-F2.1b\", \"Hors secteur\"], [\"Auto-F2.2b\", \"Hors secteur\"], [\"Auto-F2.3b\", \"Hors secteur\"], [\"Auto-F2.4b\", \"Hors secteur\"], [\"Auto-F3.1b\", \"Hors secteur\"], [\"Auto-F3.2b\", \"Hors secteur\"], [\"Auto-F3.3b\", \"Hors secteur\"], [\"Auto-F3.4b\", \"Hors secteur\"], [\"Auto-F4.1b\", \"Hors secteur\"], [\"Auto-F4.2b\", \"Hors secteur\"], [\"Auto-F4.3b\", \"Hors secteur\"], [\"Auto-F5.1b\", \"Hors secteur\"], [\"Auto-F5.2b\", \"Hors secteur\"], [\"Auto-F6.1b\", \"Hors secteur\"], [\"Auto-F6.2b\", \"Hors secteur\"], [\"Auto-F6.3b\", \"Hors secteur\"], [\"Auto-F7.1b\", \"Hors secteur\"], [\"Auto-F7.2b\", \"Hors secteur\"], [\"Auto-F7.3b\", \"Hors secteur\"], [\"Auto-F7.4b\", \"Hors secteur\"], [\"Auto-GR.2b\", \"Hors secteur\"], [\"Auto-GR3b\", \"Hors secteur\"], [\"Auto-GR4b\", \"Hors secteur\"], [\"Auto-PCBA.1b\", \"Hors secteur\"], [\"Auto-PCBA.2b\", \"Hors secteur\"], [\"Auto-PD.3b\", \"Hors secteur\"], [\"Auto-PD.4b\", \"Hors secteur\"], [\"Auto-PM102b\", \"Hors secteur\"], [\"Auto-PM103b\", \"Hors secteur\"], [\"Auto-PM201b\", \"Hors secteur\"], [\"Auto-PM401b\", \"Hors secteur\"], [\"Auto-PM402b\", \"Hors secteur\"], [\"Auto-PM403b\", \"Hors secteur\"], [\"Auto-PM404b\", \"Hors secteur\"], [\"Auto-PM501b\", \"Hors secteur\"], [\"Auto-PM615b\", \"Hors secteur\"], [\"Auto-PM616b\", \"Hors secteur\"], [\"Auto-PM617b\", \"Hors secteur\"], [\"Auto-PMS.1b\", \"Hors secteur\"], [\"Auto-PMS1.2b\", \"Hors secteur\"], [\"Auto-PMS2.1b\", \"Hors secteur\"], [\"Auto-PMS2.2b\", \"Hors secteur\"], [\"Auto-PMS3.1b\", \"Hors secteur\"], [\"Auto-PMS3.2b\", \"Hors secteur\"], [\"Auto-REFSS6b\", \"Hors secteur\"], [\"Auto-REFSS7b\", \"Hors secteur\"], [\"Auto-TQ101b\", \"Hors secteur\"], [\"Auto-TQ102b\", \"Hors secteur\"], [\"Auto-TQ103b\", \"Hors secteur\"], [\"Auto-TQ202b\", \"Hors secteur\"], [\"Auto-TQ203b\", \"Hors secteur\"], [\"Auto-TREM18.1b\", \"Hors secteur\"], [\"Auto-TREM18.2b\", \"Hors secteur\"], [\"Auto-US101b\", \"Hors secteur\"], [\"Auto-US102b\", \"Hors secteur\"], [\"Auto-US201b\", \"Hors secteur\"], [\"Auto-US202b\", \"Hors secteur\"], [\"Auto-UV101b\", \"Hors secteur\"], [\"Auto-UV102b\", \"Hors secteur\"], [\"Auto-UV103b\", \"Hors secteur\"], [\"Auto-UV104b\", \"Hors secteur\"], [\"Auto-UV201b\", \"Hors secteur\"], [\"Auto-UV202b\", \"Hors secteur\"], [\"Auto-UV203b\", \"Hors secteur\"], [\"Auto-UV303b\", \"Hors secteur\"], [\"Auto-BA2.1d\", \"Hors secteur\"], [\"Auto-BARET10.1d\", \"Hors secteur\"], [\"Auto-BARET11.1d\", \"Hors secteur\"], [\"Auto-BARET11.2d\", \"Hors secteur\"], [\"Auto-BARET11.3d\", \"Hors secteur\"], [\"Auto-BARET11.7d\", \"Hors secteur\"], [\"Auto-BARET2.2d\", \"Hors secteur\"], [\"Auto-BARET2.7d\", \"Hors secteur\"], [\"Auto-BARET3.2d\", \"Hors secteur\"], [\"Auto-BARET3.3d\", \"Hors secteur\"], [\"Auto-BARET9.7d\", \"Hors secteur\"], [\"Auto-F1.1d\", \"Hors secteur\"], [\"Auto-F1.2d\", \"Hors secteur\"], [\"Auto-F2.1d\", \"Hors secteur\"], [\"Auto-F2.2d\", \"Hors secteur\"], [\"Auto-F2.3d\", \"Hors secteur\"], [\"Auto-F3.1d\", \"Hors secteur\"], [\"Auto-F3.2d\", \"Hors secteur\"], [\"Auto-F4.1d\", \"Hors secteur\"], [\"Auto-F4.2d\", \"Hors secteur\"], [\"Auto-F4.3d\", \"Hors secteur\"], [\"Auto-F5.1d\", \"Hors secteur\"], [\"Auto-F5.2d\", \"Hors secteur\"], [\"Auto-F6.1d\", \"Hors secteur\"], [\"Auto-F6.2d\", \"Hors secteur\"], [\"Auto-F7.1d\", \"Hors secteur\"], [\"Auto-F7.2d\", \"Hors secteur\"], [\"Auto-F7.3d\", \"Hors secteur\"], [\"Auto-P11.3d\", \"Hors secteur\"], [\"Auto-P11.4d\", \"Hors secteur\"], [\"Auto-P12.2d\", \"Hors secteur\"], [\"Auto-P12.8d\", \"Hors secteur\"], [\"Auto-P120.6d\", \"Hors secteur\"], [\"Auto-P130.5d\", \"Hors secteur\"], [\"Auto-P17.1d\", \"Hors secteur\"], [\"Auto-P20.7d\", \"Hors secteur\"], [\"Auto-P5.3d\", \"Hors secteur\"], [\"Auto-P50.3d\", \"Hors secteur\"], [\"Auto-P9.1d\", \"Hors secteur\"], [\"Auto-P9.2d\", \"Hors secteur\"], [\"Sd-BARET11.1\", \"Hors secteur\"], [\"Sd-BARET11.2\", \"Hors secteur\"], [\"Sd-BARET11.3\", \"Hors secteur\"], [\"Sd-BARET2.1\", \"Hors secteur\"], [\"Sd-BARET2.2\", \"Hors secteur\"], [\"Sd-BARET3.1\", \"Hors secteur\"], [\"Sd-BARET3.2\", \"Hors secteur\"], [\"Sd-BARET3.3\", \"Hors secteur\"], [\"Sd-BARET4.1\", \"Hors secteur\"], [\"Sd-BARET4.2\", \"Hors secteur\"], [\"Sd-BARET4.3\", \"Hors secteur\"], [\"Sd-BARET5.1\", \"Hors secteur\"], [\"Sd-BARET5.3\", \"Hors secteur\"], [\"Sd-BARET8.1\", \"Hors secteur\"], [\"Sd-BARET8.2\", \"Hors secteur\"], [\"Sd-BARET8.3\", \"Hors secteur\"], [\"Sd-BARET9.2\", \"Hors secteur\"], [\"Sd-BARET6.1\", \"Hors secteur\"], [\"Sd-BARET6.2\", \"Hors secteur\"], [\"Sd-BARET6.3\", \"Hors secteur\"], [\"Sd-BARET1.1\", \"Hors secteur\"], [\"Sd-BARET1.2\", \"Hors secteur\"], [\"Sd-BARET1.3\", \"Hors secteur\"], [\"Sd-P1.1\", \"Hors secteur\"], [\"Sd-P2.1\", \"Hors secteur\"], [\"Sd-P3.1\", \"Hors secteur\"], [\"Sd-P5.1\", \"Hors secteur\"], [\"Sd-P6.1\", \"Hors secteur\"], [\"Sd-P7.1\", \"Hors secteur\"], [\"Sd-P8.1\", \"Hors secteur\"], [\"Sd-P9.1\", \"Hors secteur\"], [\"Sd-P10.1\", \"Hors secteur\"], [\"Sd-P11.1\", \"Hors secteur\"], [\"Sd-P12.1\", \"Hors secteur\"], [\"Sd-P120.1\", \"Hors secteur\"], [\"Sd-P13.1\", \"Hors secteur\"], [\"Sd-P130.1\", \"Hors secteur\"], [\"Sd-P14.1\", \"Hors secteur\"], [\"Sd-P140.1\", \"Hors secteur\"], [\"Sd-P142.1\", \"Hors secteur\"], [\"Sd-P143.1\", \"Hors secteur\"], [\"Sd-P15.1\", \"Hors secteur\"], [\"Sd-P150.1\", \"Hors secteur\"], [\"Sd-P16.1\", \"Hors secteur\"], [\"Sd-P17.1\", \"Hors secteur\"], [\"Sd-P18.1\", \"Hors secteur\"], [\"Sd-P19.1\", \"Hors secteur\"], [\"Sd-P20.1\", \"Hors secteur\"], [\"Sd-P21.1\", \"Hors secteur\"], [\"Sd-P22.1\", \"Hors secteur\"], [\"Sd-P23.1\", \"Hors secteur\"], [\"Sd-P24.1\", \"Hors secteur\"], [\"Sd-PM.703\", \"Hors secteur\"], [\"Sd-PM.704\", \"Hors secteur\"], [\"Sd-PM.705\", \"Hors secteur\"], [\"Sd-PM.706\", \"Hors secteur\"], [\"Sd-P80.1\", \"Hors secteur\"], [\"Sd-PIL4A.1\", \"Hors secteur\"], [\"Sd-PIL5C.1\", \"Hors secteur\"], [\"Sd-BA2.1\", \"Hors secteur\"], [\"Sd-BA3.1\", \"Hors secteur\"], [\"Sd-BA4.1\", \"Hors secteur\"], [\"Sd-BA5.1\", \"Hors secteur\"], [\"Sd-PIL10.1\", \"Hors secteur\"], [\"Sd-PIL2A.1\", \"Hors secteur\"], [\"Sd-PIL8.1\", \"Hors secteur\"], [\"Sd-BA1.1\", \"Hors secteur\"], [\"Sd-PSDALLE.6\", \"Hors secteur\"], [\"Sd-PSDALLE.1\", \"Hors secteur\"], [\"Sd-PSDALLE.2\", \"Hors secteur\"], [\"Sd-PSDALLE.3\", \"Hors secteur\"], [\"Sd-PSDALLE.4\", \"Hors secteur\"], [\"Sd-PSDALLE.7\", \"Hors secteur\"], [\"Sd-P1.2\", \"Hors secteur\"], [\"Sd-P2.2\", \"Hors secteur\"], [\"Sd-PM.707\", \"Hors secteur\"], [\"Sd-PM.708\", \"Hors secteur\"], [\"Sd-PM.709\", \"Hors secteur\"], [\"Sd-PM.710\", \"Hors secteur\"], [\"Sd-P11.2\", \"Hors secteur\"], [\"Sd-P12.2\", \"Hors secteur\"], [\"Sd-P141.2\", \"Hors secteur\"], [\"Sd-P142.2\", \"Hors secteur\"], [\"Sd-P143.2\", \"Hors secteur\"], [\"Sd-P150.2\", \"Hors secteur\"], [\"Sd-P8.2\", \"Hors secteur\"], [\"Sd-P9.2\", \"Hors secteur\"], [\"Sd-P50.2\", \"Hors secteur\"], [\"Sd-P902\", \"Hors secteur\"], [\"Sd-P100.2\", \"Hors secteur\"], [\"Sd-P19.2\", \"Hors secteur\"], [\"Sd-P20.2\", \"Hors secteur\"], [\"Sd-P22.2\", \"Hors secteur\"], [\"Sd-P23.2\", \"Hors secteur\"], [\"Sd-P25.2\", \"Hors secteur\"], [\"Sd-P26.2\", \"Hors secteur\"], [\"Sd-P1.3\", \"Hors secteur\"], [\"Sd-P2.3\", \"Hors secteur\"], [\"Sd-P3.3\", \"Hors secteur\"], [\"Sd-P120.3\", \"Hors secteur\"], [\"Sd-P130.3\", \"Hors secteur\"], [\"Sd-P140.3\", \"Hors secteur\"], [\"Sd-P142.3\", \"Hors secteur\"], [\"Sd-P143.3\", \"Hors secteur\"], [\"Sd-P150.3\", \"Hors secteur\"], [\"Sd-P5.3\", \"Hors secteur\"], [\"Sd-P50.3\", \"Hors secteur\"], [\"Sd-P11.3\", \"Hors secteur\"], [\"Sd-P12.3\", \"Hors secteur\"], [\"Sd-P8.3\", \"Hors secteur\"], [\"Sd-P9.3\", \"Hors secteur\"], [\"Sd-P130.4\", \"Hors secteur\"], [\"Sd-P140.4\", \"Hors secteur\"], [\"Sd-P143.4\", \"Hors secteur\"], [\"Sd-P150.4\", \"Hors secteur\"], [\"Sd-P1.4\", \"Hors secteur\"], [\"Sd-P2.4\", \"Hors secteur\"], [\"Sd-P3.4\", \"Hors secteur\"], [\"Sd-P5.4\", \"Hors secteur\"], [\"Sd-P130.5\", \"Hors secteur\"], [\"Sd-P11.4\", \"Hors secteur\"], [\"Sd-P12.4\", \"Hors secteur\"], [\"Sd-P120.6\", \"Hors secteur\"], [\"Sd-P14.6\", \"Hors secteur\"], [\"Sd-P143.6\", \"Hors secteur\"], [\"Sd-P150.6\", \"Hors secteur\"], [\"Sd-P17.6\", \"Hors secteur\"], [\"Sd-P110.3\", \"Hors secteur\"], [\"Sd-P7.3\", \"Hors secteur\"], [\"Sd-P9.4\", \"Hors secteur\"], [\"Sd-P901.2\", \"Hors secteur\"], [\"Sd-BA3.2\", \"Hors secteur\"], [\"Sd-BA4.2\", \"Hors secteur\"], [\"Sd-BA5.2\", \"Hors secteur\"], [\"Sd-P3.5\", \"Hors secteur\"], [\"Sd-P4.5\", \"Hors secteur\"], [\"Sd-P5.5\", \"Hors secteur\"], [\"Sd-P50.5\", \"Hors secteur\"], [\"Sd-P7.5\", \"Hors secteur\"], [\"Sd-BA1.2\", \"Hors secteur\"], [\"Sd-P22.3\", \"Hors secteur\"], [\"Sd-P25.3\", \"Hors secteur\"], [\"Sd-P26.3\", \"Hors secteur\"], [\"Sd-BARET8.7\", \"Hors secteur\"], [\"Sd-BARET9.7\", \"Hors secteur\"], [\"Sd-P11.7\", \"Hors secteur\"], [\"Sd-P180.7\", \"Hors secteur\"], [\"Sd-P20.7\", \"Hors secteur\"], [\"Sd-P110.7\", \"Hors secteur\"], [\"Sd-P111.7\", \"Hors secteur\"], [\"Sd-P8.7\", \"Hors secteur\"], [\"Sd-P80.7\", \"Hors secteur\"], [\"Sd-P9.7\", \"Hors secteur\"], [\"Sd-P901.7\", \"Hors secteur\"], [\"Sd-P902.7\", \"Hors secteur\"], [\"Sd-BA2.7\", \"Hors secteur\"], [\"Sd-BA3.7\", \"Hors secteur\"], [\"Sd-BA4.7\", \"Hors secteur\"], [\"Sd-BA5.7\", \"Hors secteur\"], [\"Sd-P1.7\", \"Hors secteur\"], [\"Sd-P3.7\", \"Hors secteur\"], [\"Manu-SEC4.1\", \"Hors secteur\"], [\"Manu-SEC4.2\", \"Hors secteur\"], [\"Manu-SEC4.3\", \"Hors secteur\"], [\"Manu-SEC4.4\", \"Hors secteur\"], [\"Manu-SEC4.5\", \"Hors secteur\"], [\"Manu-SEC4.5C\", \"Hors secteur\"], [\"Manu-SEC4.6\", \"Hors secteur\"], [\"Manu-SEC4.7\", \"Hors secteur\"], [\"Manu-SEC4.8\", \"Hors secteur\"], [\"Manu-SEC4.9\", \"Hors secteur\"], [\"Manu-SEC4.10\", \"Hors secteur\"], [\"Manu-SEC4.11\", \"Hors secteur\"], [\"Manu-SEC4.12\", \"Hors secteur\"], [\"Manu-SEC4.13\", \"Hors secteur\"], [\"Manu-SEC4.14\", \"Hors secteur\"], [\"Manu-SEC4.24\", \"Hors secteur\"], [\"Manu-SEC4.23\", \"Hors secteur\"], [\"Manu-SEC4.22\", \"Hors secteur\"], [\"Manu-SEC4.17\", \"Hors secteur\"], [\"Manu-SEC4.16\", \"Hors secteur\"], [\"Manu-SEC4.15\", \"Hors secteur\"], [\"Manu-SEC4.18\", \"Hors secteur\"], [\"Manu-SEC4.19\", \"Hors secteur\"], [\"Manu-SEC4.20\", \"Hors secteur\"], [\"Manu-SEC4.21\", \"Hors secteur\"], [\"Manu-PC1\", \"Hors secteur\"], [\"Manu-PC2\", \"Hors secteur\"], [\"Manu-PC3\", \"Hors secteur\"], [\"Manu-PC4\", \"Hors secteur\"], [\"Manu-PC5\", \"Hors secteur\"], [\"Manu-PC6\", \"Hors secteur\"], [\"Manu-PC7\", \"Hors secteur\"], [\"Manu-PC8\", \"Hors secteur\"], [\"Manu-PC111\", \"Hors secteur\"], [\"Manu-PC112\", \"Hors secteur\"], [\"Manu-PC10\", \"Hors secteur\"], [\"Manu-PC11\", \"Hors secteur\"], [\"Manu-PC12\", \"Hors secteur\"], [\"Manu-PC13\", \"Hors secteur\"], [\"Manu-PC21\", \"Hors secteur\"], [\"Manu-PC22\", \"Hors secteur\"], [\"Manu-PC23\", \"Hors secteur\"], [\"Manu-PC23B\", \"Hors secteur\"], [\"Manu-AC1B\", \"Hors secteur\"], [\"Manu-AC5B\", \"Hors secteur\"], [\"Manu-AC7B\", \"Hors secteur\"], [\"Manu-AC30\", \"Hors secteur\"], [\"Manu-AC31\", \"Hors secteur\"], [\"Manu-AC32\", \"Hors secteur\"], [\"Manu-AC7\", \"Hors secteur\"], [\"Manu-AC8\", \"Hors secteur\"], [\"Manu-AC9\", \"Hors secteur\"], [\"Manu-AC10\", \"Hors secteur\"], [\"Manu-AC11\", \"Hors secteur\"], [\"Manu-AC12\", \"Hors secteur\"], [\"Manu-VJ1\", \"Hors secteur\"], [\"Manu-VJ2\", \"Hors secteur\"], [\"Manu-VJ3\", \"Hors secteur\"], [\"Manu-VJ4\", \"Hors secteur\"], [\"Manu-VJ5\", \"Hors secteur\"], [\"Manu-VB1\", \"Hors secteur\"], [\"Manu-VB2\", \"Hors secteur\"], [\"Manu-VB3\", \"Hors secteur\"], [\"Manu-PN.1\", \"Hors secteur\"], [\"Manu-PN.2\", \"Hors secteur\"], [\"Manu-PN.3\", \"Hors secteur\"], [\"Manu-PN.4\", \"Hors secteur\"], [\"Manu-NP.1\", \"Hors secteur\"], [\"Manu-AC311B\", \"Hors secteur\"], [\"Manu-BAPM1.1\", \"Hors secteur\"], [\"Manu-MS21\", \"Hors secteur\"], [\"Manu-MS22\", \"Hors secteur\"], [\"Manu-PC13.1\", \"Hors secteur\"], [\"Manu-PC2.1\", \"Hors secteur\"], [\"Manu-PC3.1\", \"Hors secteur\"], [\"Manu-PC7.1\", \"Hors secteur\"], [\"Manu-PCBA.1\", \"Hors secteur\"], [\"Manu-PCBA.2\", \"Hors secteur\"], [\"Manu-PCBA.3\", \"Hors secteur\"], [\"Manu-PMS3.1\", \"Hors secteur\"], [\"Manu-PMS4.1\", \"Hors secteur\"], [\"Manu-PMS4.2\", \"Hors secteur\"], [\"Manu-F1.1\", \"Hors secteur\"], [\"Manu-F1.2\", \"Hors secteur\"], [\"Manu-F2.1\", \"Hors secteur\"], [\"Manu-F2.2\", \"Hors secteur\"], [\"Manu-F2.3\", \"Hors secteur\"], [\"Manu-F3.1\", \"Hors secteur\"], [\"Manu-F3.2\", \"Hors secteur\"], [\"Manu-F3.3\", \"Hors secteur\"], [\"Manu-F4.1\", \"Hors secteur\"], [\"Manu-F4.2\", \"Hors secteur\"], [\"Manu-F4.3\", \"Hors secteur\"], [\"Manu-PMS3.2\", \"Hors secteur\"], [\"Manu-MS25\", \"Hors secteur\"], [\"Manu-MS26\", \"Hors secteur\"], [\"Manu-MS27\", \"Hors secteur\"], [\"Manu-PC15.1\", \"Hors secteur\"], [\"Manu-PMS7.2\", \"Hors secteur\"], [\"Manu-PMS6.1\", \"Hors secteur\"], [\"Manu-PC14.1\", \"Hors secteur\"], [\"Manu-PC16.1\", \"Hors secteur\"], [\"Manu-PC17.1\", \"Hors secteur\"], [\"Manu-PC201\", \"Hors secteur\"], [\"Manu-PC202\", \"Hors secteur\"], [\"Manu-PC203\", \"Hors secteur\"], [\"Manu-PC204\", \"Hors secteur\"], [\"Manu-PC207\", \"Hors secteur\"], [\"Manu-PC208\", \"Hors secteur\"], [\"Manu-PC209\", \"Hors secteur\"], [\"Manu-BAPM.4\", \"Hors secteur\"], [\"Manu-BAPM2.1\", \"Hors secteur\"], [\"Manu-BAPM3.1\", \"Hors secteur\"], [\"Manu-PC205\", \"Hors secteur\"], [\"Manu-PC206\", \"Hors secteur\"], [\"Manu-PC1.1\", \"Hors secteur\"], [\"Manu-PCBA.4\", \"Hors secteur\"], [\"Manu-PM209\", \"Hors secteur\"], [\"Manu-PM212\", \"Hors secteur\"], [\"Manu-PM213\", \"Hors secteur\"], [\"Manu-PMS.1\", \"Hors secteur\"], [\"Manu-PMS1.2\", \"Hors secteur\"], [\"Manu-PMS2.1\", \"Hors secteur\"], [\"Manu-PMS2.2\", \"Hors secteur\"], [\"Manu-PMS5.1\", \"Hors secteur\"], [\"Manu-PMS5.2\", \"Hors secteur\"], [\"Manu-F5.1\", \"Hors secteur\"], [\"Manu-F5.2\", \"Hors secteur\"], [\"Manu-PM102\", \"Hors secteur\"], [\"Manu-PM201\", \"Hors secteur\"], [\"Manu-PM103\", \"Hors secteur\"], [\"Manu-PM.204\", \"Hors secteur\"], [\"Manu-PM.301\", \"Hors secteur\"], [\"Manu-PM.302\", \"Hors secteur\"], [\"Manu-PM.401\", \"Hors secteur\"], [\"Manu-PM.402\", \"Hors secteur\"], [\"Manu-PC108\", \"Hors secteur\"], [\"Manu-PC107\", \"Hors secteur\"], [\"Manu-PC106\", \"Hors secteur\"], [\"Manu-PC105\", \"Hors secteur\"], [\"Manu-PC101\", \"Hors secteur\"], [\"Manu-PC310\", \"Hors secteur\"], [\"Manu-PC309\", \"Hors secteur\"], [\"Manu-PC308\", \"Hors secteur\"], [\"Manu-PC307\", \"Hors secteur\"], [\"Manu-PC305\", \"Hors secteur\"], [\"Manu-PC304\", \"Hors secteur\"], [\"Manu-PC302\", \"Hors secteur\"], [\"Manu-PC301\", \"Hors secteur\"], [\"Manu-RN7.1\", \"Hors secteur\"], [\"Manu-VJ6\", \"Hors secteur\"], [\"Manu-F5.3\", \"Hors secteur\"], [\"Manu-F6.1\", \"Hors secteur\"], [\"Manu-F6.2\", \"Hors secteur\"], [\"Manu-F6.3\", \"Hors secteur\"], [\"Manu-F7.1\", \"Hors secteur\"], [\"Manu-F7.2\", \"Hors secteur\"], [\"Manu-F7.3\", \"Hors secteur\"], [\"Manu-PM400\", \"Hors secteur\"], [\"Manu-PM401\", \"Hors secteur\"], [\"Manu-PM403\", \"Hors secteur\"], [\"Manu-PM404\", \"Hors secteur\"], [\"Manu-PM405\", \"Hors secteur\"], [\"Manu-VJ7\", \"Hors secteur\"], [\"Manu-PRT1\", \"Hors secteur\"], [\"Manu-PRT2\", \"Hors secteur\"], [\"Manu-PAL3\", \"Hors secteur\"], [\"Manu-PAL4\", \"Hors secteur\"], [\"Manu-PAL5\", \"Hors secteur\"], [\"Manu-PAL6\", \"Hors secteur\"], [\"Manu-PRTE1\", \"Hors secteur\"], [\"Manu-PRTE2\", \"Hors secteur\"], [\"Manu-SEC123.1\", \"Hors secteur\"], [\"Manu-SEC123.2\", \"Hors secteur\"], [\"Manu-SEC123.3\", \"Hors secteur\"], [\"Manu-SEC123.4\", \"Hors secteur\"], [\"Manu-SEC123.5\", \"Hors secteur\"], [\"Manu-SEC123.6\", \"Hors secteur\"], [\"Manu-SEC123.7\", \"Hors secteur\"], [\"Manu-SEC123.8\", \"Hors secteur\"], [\"Manu-SEC123.9\", \"Hors secteur\"], [\"Manu-SEC123.10\", \"Hors secteur\"], [\"Manu-SEC123.11\", \"Hors secteur\"], [\"Manu-SEC123.12\", \"Hors secteur\"], [\"Manu-SEC123.13\", \"Hors secteur\"], [\"Manu-SEC123.14\", \"Hors secteur\"], [\"Manu-SEC123.15\", \"Hors secteur\"], [\"Manu-SEC123.16\", \"Hors secteur\"], [\"Manu-SEC123.17\", \"Hors secteur\"], [\"Manu-SEC123.18\", \"Hors secteur\"], [\"Manu-SEC123.19\", \"Hors secteur\"], [\"Manu-SEC123.20\", \"Hors secteur\"], [\"Manu-SEC123.21\", \"Hors secteur\"], [\"Manu-SEC123.22\", \"Hors secteur\"], [\"Manu-SEC123.23\", \"Hors secteur\"], [\"Manu-SEC123.24\", \"Hors secteur\"], [\"Manu-SEC123.25\", \"Hors secteur\"], [\"Manu-SEC123.26\", \"Hors secteur\"], [\"Manu-SEC123.27\", \"Hors secteur\"], [\"Manu-SEC123.28\", \"Hors secteur\"], [\"Manu-SEC123.29\", \"Hors secteur\"], [\"Manu-SEC123.30\", \"Hors secteur\"], [\"Manu-SEC123.31\", \"Hors secteur\"], [\"Manu-SEC123.32\", \"Hors secteur\"], [\"Manu-SEC123.33\", \"Hors secteur\"], [\"Manu-SEC123.34\", \"Hors secteur\"], [\"Manu-SEC123.35\", \"Hors secteur\"], [\"Manu-RN7.11\", \"Hors secteur\"], [\"Manu-RN7.12\", \"Hors secteur\"], [\"Manu-RN7.13\", \"Hors secteur\"], [\"Manu-RN7.14\", \"Hors secteur\"], [\"Manu-RN7.15\", \"Hors secteur\"], [\"Manu-RN7.16\", \"Hors secteur\"], [\"Manu-ESC1\", \"Hors secteur\"], [\"Manu-ESC2\", \"Hors secteur\"], [\"Manu-MJ1\", \"Hors secteur\"], [\"Manu-MJ2\", \"Hors secteur\"], [\"Manu-MJ3\", \"Hors secteur\"], [\"Manu-RN7.10\", \"Hors secteur\"], [\"Manu-PM4\", \"Hors secteur\"], [\"Manu-PM5\", \"Hors secteur\"], [\"Manu-PM6\", \"Hors secteur\"], [\"Manu-PM7\", \"Hors secteur\"], [\"Manu-PM8\", \"Hors secteur\"], [\"Manu-RN7.14B\", \"Hors secteur\"], [\"Manu-PM2\", \"Hors secteur\"], [\"Manu-PM3\", \"Hors secteur\"], [\"Manu-VB4\", \"Hors secteur\"], [\"Manu-VB20\", \"Hors secteur\"], [\"Manu-VB21\", \"Hors secteur\"], [\"Manu-VB22\", \"Hors secteur\"], [\"Manu-VB23\", \"Hors secteur\"], [\"Manu-VJ20\", \"Hors secteur\"], [\"Manu-VJ21\", \"Hors secteur\"]], \"marker\": {\"color\": \"#7FFFD4\", \"opacity\": 0.6, \"size\": 3}, \"mode\": \"markers\", \"type\": \"scatter3d\", \"x\": [2055322.26044898, 2055342.9189400002, 2055344.57523077, 2055341.59467961, 2055343.32005769, 2055339.66398413, 2055329.79601639, 2055252.1435, 2055254.27, 2055267.89272727, 2055269.83054545, 2055276.18418182, 2055278.43118182, 2055283.75045455, 2055286.11854545, 2055253.55733333, 2055244.4919999999, 2055235.44498333, 2055242.09733333, 2055366.1469999999, 2055359.5669999998, 2055359.53, 2055330.376, 2055330.616, 2055325.237, 2055373.53928571, 2055368.02515789, 2055363.81809023, 2055361.31810526, 2055344.371875, 2055345.83, 2055348.845, 2055362.937, 2055305.3811, 2055352.14525, 2055344.9019999998, 2055340.28, 2055329.0580000002, 2055318.378, 2055321.60808163, 2055317.99720513, 2055309.53397436, 2055333.51254167, 2055333.55457088, 2055355.0790000001, 2055339.28491209, 2055346.0901, 2055346.13, 2055346.1519999998, 2055344.428, 2055317.41494872, 2055316.54096, 2055355.2340000002, 2055346.283, 2055346.237, 2055346.27684615, 2055344.4931, 2055340.458, 2055328.16404348, 2055316.61385714, 2055305.4440000001, 2055321.89495714, 2055328.29028571, 2055333.15112727, 2055339.32820027, 2055301.79604666, 2055327.83535537, 2055353.322, 2055353.3218, 2055346.303, 2055344.487, 2055328.175, 2055318.716, 2055304.9109999998, 2055293.174, 2055309.105, 2055375.052, 2055365.315, 2055358.035, 2055376.8648, 2055376.759, 2055378.596, 2055380.2704, 2055293.60293551, 2055314.83296139, 2055293.14870244, 2055309.54747436, 2055324.48042857, 2055302.31618018, 2055296.89476448, 2055255.10475, 2055262.11117778, 2055279.14417647, 2055284.989, 2055316.906, 2055292.4309999999, 2055279.10621277, 2055276.62406383, 2055279.06087234, 2055276.615875, 2055279.06285106, 2055268.32080769, 2055262.52992308, 2055255.699, 2055262.09, 2055269.5368, 2055279.0479, 2055284.96495, 2055290.940875, 2055290.75341176, 2055284.95564706, 2055279.03152941, 2055269.61641176, 2055262.38470588, 2055290.47075, 2055279.0878, 2055252.78552364, 2055253.2395, 2055261.4952599998, 2055261.53323913, 2055269.38050952, 2055269.06395238, 2055288.21704116, 2055288.63920134, 2055277.87506302, 2055278.40519748, 2055379.465, 2055295.79871429, 2055379.975, 2055322.812875, 2055339.846, 2055342.914, 2055379.968, 2055380.27005, 2055369.705, 2055373.33291667, 2055378.77425, 2055331.22122255, 2055331.20444118, 2055331.02812805, 2055332.9492549, 2055323.72171429, 2055323.87871429, 2055252.87216667, 2055255.33233333, 2055260.99416667, 2055263.42016667, 2055268.80684615, 2055270.81484615, 2055276.11684615, 2055278.72984615, 2055284.24076923, 2055286.55869231, 2055244.49676923, 2055235.44466667, 2055242.736, 2055242.14, 2055320.18908021, 2055320.04710695, 2055320.08452941, 2055319.93369231, 2055330.8474, 2055330.93212903, 2055330.89584767, 2055330.80184615, 2055343.73318182, 2055343.766125, 2055343.63907692, 2055343.7664897998, 2055354.41166667, 2055354.3290000001, 2055354.398, 2055366.8004, 2055366.6409999998, 2055312.4294, 2055312.5869999998, 2055312.615, 2055303.8669999999, 2055304.0744, 2055304.0690000001, 2055302.5447799999, 2055254.24585714, 2055336.64157143, 2055340.25285714, 2055255.10361538, 2055262.16191667, 2055291.80211111, 2055350.9730000002, 2055243.83881818, 2055239.053, 2055255.399, 2055235.226125, 2055235.8857, 2055237.214875, 2055241.709, 2055235.45771429, 2055235.97442857, 2055235.22828571, 2055236.23, 2055252.78594444, 2055253.239, 2055261.495, 2055261.533, 2055269.3794, 2055269.41505555, 2055329.60223256, 2055318.13093333, 2055234.985, 2055237.894, 2055239.229, 2055237.6609999998, 2055239.138, 2055343.477, 2055344.55444444, 2055234.55485714, 2055232.1515, 2055234.40971429, 2055232.45271429, 2055237.29785714, 2055249.2769999998, 2055258.118, 2055267.102, 2055279.94157143, 2055271.4218, 2055245.74841429, 2055244.6940000001, 2055292.866, 2055341.13335714, 2055346.898, 2055346.9430000002, 2055346.737, 2055346.775, 2055324.53214286, 2055324.3268, 2055330.1819999998, 2055330.09142857, 2055363.356, 2055320.18914286, 2055320.04671429, 2055330.8469999998, 2055330.9330000002, 2055330.91621429, 2055343.72464286, 2055343.75557143, 2055354.4030000002, 2055354.3272, 2055354.38907143, 2055366.80171429, 2055366.636, 2055312.4422, 2055312.6005, 2055303.87392857, 2055304.08614286, 2055304.084, 2055366.885, 2055366.573, 2055374.4419999998, 2055366.573, 2055377.356, 2055378.793, 2055378.785, 2055344.632, 2055330.75028571, 2055335.53, 2055346.445, 2055346.42083333, 2055346.833, 2055346.88, 2055346.679, 2055324.639, 2055324.5219999999, 2055330.19, 2055330.112, 2055330.082, 2055341.946, 2055343.0690000001, 2055342.5869999998, 2055359.665, 2055359.744, 2055362.4840000002, 2055362.496, 2055362.459, 2055362.3369999998, 2055362.733, 2055362.705, 2055362.757, 2055309.0480000002, 2055309.053, 2055309.063, 2055296.3830000001, 2055305.485, 2055314.481, 2055330.32, 2055339.208, 2055341.031, 2055342.497, 2055346.4019999998, 2055357.0880000002, 2055367.8059999999, 2055374.239, 2055377.333, 2055377.664, 2055378.9230000002, 2055379.476, 2055379.979, 2055379.983, 2055379.956, 2055379.759, 2055380.0380000002, 2055379.751, 2055378.781, 2055371.374, 2055361.844, 2055346.158, 2055341.244, 2055329.701, 2055323.9780000001, 2055318.271, 2055284.843, 2055278.233, 2055268.9640000002, 2055260.1619999998, 2055345.352, 2055340.459, 2055360.955, 2055292.8590000002, 2055292.9840000002, 2055293.034, 2055293.148, 2055341.09, 2055308.529, 2055323.626, 2055292.804, 2055378.6519999998, 2055344.767, 2055320.79, 2055293.804, 2055293.011, 2055344.392, 2055296.332, 2055305.668, 2055284.658, 2055284.658, 2055268.884, 2055260.119, 2055367.9309999999, 2055374.456, 2055379.996, 2055380.019, 2055379.96, 2055380.0259999998, 2055342.501, 2055346.414, 2055335.507, 2055346.3159999999, 2055348.928, 2055357.265, 2055345.054, 2055331.043, 2055323.626, 2055312.291, 2055293.657, 2055296.957, 2055305.73, 2055314.427, 2055377.32, 2055378.9019999998, 2055380.065, 2055379.971, 2055380.0269999998, 2055380.0980000002, 2055330.737, 2055335.5159999998, 2055366.889, 2055374.6830000002, 2055342.524, 2055346.481, 2055378.858, 2055380.086, 2055380.05, 2055380.0680000002, 2055296.876, 2055305.841, 2055314.74, 2055330.894, 2055378.814, 2055366.594, 2055374.9, 2055377.372, 2055378.856, 2055379.956, 2055379.9640000002, 2055377.882, 2055356.2580000001, 2055339.093, 2055346.56, 2055346.27, 2055293.01, 2055293.071, 2055293.1709999999, 2055314.86, 2055325.1430000002, 2055331.121, 2055335.274, 2055341.064, 2055292.771, 2055330.532, 2055310.138, 2055293.491, 2055363.386, 2055363.369, 2055366.7580000001, 2055364.675, 2055344.615, 2055356.11, 2055361.666, 2055342.394, 2055345.174, 2055346.533, 2055346.254, 2055346.265, 2055292.74, 2055292.045, 2055292.4519999998, 2055292.701, 2055296.774, 2055314.8290000001, 2055382.447, 2055380.71, 2055379.15, 2055378.4019999998, 2055377.106, 2055376.149, 2055371.001, 2055370.31, 2055366.0119999999, 2055362.3390000002, 2055359.995, 2055349.07, 2055348.185, 2055336.3669999999, 2055336.42, 2055324.761, 2055323.134, 2055318.594, 2055318.511, 2055324.4730000002, 2055326.573, 2055308.57, 2055307.79, 2055296.03, 2055297.132, 2055317.407, 2055301.784, 2055309.0969999998, 2055293.5869999998, 2055314.8080000002, 2055309.5369999998, 2055302.295, 2055296.874, 2055317.989, 2055309.534, 2055321.586, 2055327.822, 2055333.5359999998, 2055339.269, 2055321.886, 2055328.283, 2055333.1430000002, 2055339.313, 2055342.9130000002, 2055343.3180000002, 2055339.642, 2055344.59, 2055344.1630000002, 2055341.576, 2055339.741, 2055339.865, 2055329.78, 2055329.573, 2055322.237, 2055322.2130000002, 2055331.2230000002, 2055331.1909999999, 2055331.0219999999, 2055332.9430000002, 2055332.936, 2055329.332, 2055329.333, 2055329.381, 2055356.6719999998, 2055356.685, 2055356.8480000002, 2055356.826, 2055269.375, 2055344.755, 2055244.483, 2055363.822, 2055361.3190000001, 2055355.0790000001, 2055316.491, 2055327.771, 2055340.3480000002, 2055255.095, 2055262.146, 2055279.154, 2055277.878, 2055288.2030000002, 2055288.6269999999, 2055320.187, 2055320.045, 2055330.842, 2055330.929, 2055330.8930000002, 2055343.726, 2055343.7580000001, 2055343.757, 2055354.405, 2055354.32, 2055354.389, 2055278.409, 2055344.366, 2055345.824, 2055348.8390000002, 2055346.1230000001, 2055233.947, 2055241.77, 2055346.09, 2055346.1519999998, 2055344.428, 2055355.226, 2055346.274, 2055346.2280000001, 2055346.2680000002, 2055328.176, 2055316.6030000001, 2055305.4440000001, 2055244.486, 2055235.449, 2055244.486, 2055344.4840000002, 2055340.447, 2055305.372, 2055285.035, 2055262.3730000001, 2055284.9540000001, 2055290.9309999999, 2055257.136, 2055261.5669999998, 2055261.4919999999, 2055261.529, 2055277.866, 2055293.59, 2055366.801, 2055366.64, 2055243.855, 2055255.4019999998, 2055239.0669999998, 2055262.3730000001, 2055279.021, 2055269.604, 2055290.7419999999, 2055284.9440000001, 2055318.378, 2055329.0580000002, 2055340.28, 2055344.9019999998, 2055352.145, 2055293.174, 2055304.9109999998, 2055318.716, 2055328.175, 2055344.487, 2055346.303, 2055346.311, 2055353.322, 2055295.7980000002, 2055323.721, 2055366.658, 2055312.44, 2055312.5980000002, 2055312.626, 2055303.878, 2055304.084, 2055304.081, 2055233.2240000002, 2055235.227, 2055237.216, 2055241.71, 2055251.415, 2055323.7869999998, 2055378.1930000002, 2055379.155, 2055384.7319999998, 2055381.501, 2055380.615, 2055379.8080000002, 2055378.8930000002, 2055380.771, 2055262.38, 2055281.82, 2055291.4009999998, 2055300.6619999998, 2055308.635, 2055320.63, 2055329.8190000001, 2055286.852, 2055292.0559999999, 2055298.12, 2055297.655, 2055296.7719999999, 2055302.157, 2055306.855, 2055304.9440000001, 2055308.5259999998, 2055309.908, 2055313.8469999998, 2055317.198, 2055320.552, 2055325.408, 2055328.342, 2055331.4219999998, 2055328.5769999998, 2055326.918, 2055333.476, 2055335.917, 2055346.118, 2055350.629, 2055350.034, 2055346.168, 2055335.299, 2055326.2769999998, 2055322.884, 2055334.8069999998, 2055184.8, 2055207.331, 2055239.285, 2055257.269, 2055274.013, 2055285.281, 2055198.361, 2055198.0590000001, 2055218.92, 2055216.0369999998, 2055216.03, 2055206.4619999998, 2055269.253, 2055273.6809999999, 2055284.3180000002, 2055269.256, 2055273.6830000002, 2055257.2719999999, 2055297.36, 2055294.312, 2055330.4119999998, 2055325.624, 2055325.624, 2055325.229, 2055325.24, 2055326.959, 2055326.961], \"y\": [3179692.24002041, 3179722.4902, 3179713.86192308, 3179702.08153398, 3179713.80840385, 3179700.29389418, 3179694.77302268, 3179683.33966667, 3179683.568, 3179685.84418182, 3179685.86818182, 3179684.33090909, 3179684.29254546, 3179683.09781818, 3179683.14527273, 3179683.41033333, 3179683.392, 3179680.3735, 3179682.75816667, 3179690.1580000003, 3179690.209, 3179696.095, 3179663.818, 3179668.876, 3179664.042, 3179729.2010000004, 3179729.47584211, 3179729.48984211, 3179729.67910526, 3179728.501, 3179729.2789999996, 3179729.385, 3179729.2010000004, 3179681.45031667, 3179728.2405, 3179707.256, 3179694.4669999997, 3179690.9689999996, 3179686.639, 3179689.83402041, 3179688.33152564, 3179684.21015384, 3179694.54340238, 3179694.6385677997, 3179728.38930769, 3179696.49333883, 3179728.314, 3179724.1769999997, 3179715.8985, 3179705.7460000003, 3179689.83812821, 3179685.99435077, 3179728.215, 3179728.195, 3179724.395, 3179715.863, 3179705.615, 3179694.6389375, 3179690.50486957, 3179685.861, 3179681.332, 3179689.58635714, 3179691.91028571, 3179693.6061697, 3179696.42113656, 3179684.17312086, 3179690.68712397, 3179728.1769999997, 3179728.1764, 3179716.0568, 3179705.5, 3179690.613, 3179686.7855, 3179681.185, 3179682.085, 3179685.07702564, 3179728.328, 3179728.378, 3179728.341, 3179724.3032, 3179727.6824, 3179716.2169999997, 3179698.3019999997, 3179684.56360817, 3179693.43286873, 3179678.9117439, 3179691.69653846, 3179685.77609524, 3179692.24547374, 3179692.32088417, 3179684.95825, 3179686.4126, 3179685.32131933, 3179684.13816667, 3179662.542, 3179672.61375, 3179685.24780851, 3179685.77440426, 3179685.27919149, 3179685.73327083, 3179685.25606383, 3179685.655, 3179686.34438461, 3179685.0360000003, 3179686.0930000003, 3179686.8107, 3179685.3057, 3179684.1360000004, 3179683.03125, 3179683.02847059, 3179684.12376471, 3179685.27676471, 3179686.78605882, 3179686.45235294, 3179683.07025, 3179685.2789999996, 3179690.36600546, 3179689.8365, 3179689.9479799997, 3179689.41880435, 3179689.49845238, 3179689.06012771, 3179690.46663559, 3179690.3184735, 3179689.22218487, 3179688.57622269, 3179709.248, 3179706.865, 3179677.047, 3179684.015, 3179689.137, 3179694.31925, 3179687.992, 3179698.30205, 3179675.9669, 3179674.9280000003, 3179673.25575, 3179701.30870968, 3179701.27668984, 3179701.15091463, 3179708.62213726, 3179703.84785714, 3179703.83042857, 3179648.788, 3179648.8710000003, 3179648.81116667, 3179648.80733333, 3179648.39, 3179648.48230769, 3179648.74638462, 3179648.90223077, 3179649.17023077, 3179649.29846154, 3179683.394, 3179680.37294445, 3179675.998, 3179675.837, 3179649.77709091, 3179649.85033155, 3179649.88799465, 3179649.91169231, 3179649.1406, 3179649.24298925, 3179649.19795161, 3179649.19430769, 3179648.40590909, 3179648.4869999997, 3179648.52684615, 3179648.48671429, 3179650.52333333, 3179650.4669999997, 3179650.5086, 3179656.6892, 3179656.829, 3179650.2989999996, 3179650.2, 3179650.2260000003, 3179650.777, 3179650.7610000004, 3179650.78, 3179650.89156, 3179685.34914286, 3179657.289, 3179657.17, 3179684.95692308, 3179686.46466667, 3179651.91044444, 3179649.84422222, 3179683.07918182, 3179681.6319999998, 3179685.00666667, 3179670.822125, 3179678.4978, 3179680.027125, 3179681.719375, 3179671.22442857, 3179678.49657143, 3179670.37557143, 3179670.37175, 3179690.3660000004, 3179689.845, 3179689.9480000003, 3179689.4189999998, 3179689.497, 3179689.06, 3179649.21095349, 3179650.1318, 3179656.811, 3179666.563, 3179673.738, 3179666.295, 3179673.005, 3179648.78255556, 3179660.707, 3179648.61685714, 3179659.4905, 3179649.21871429, 3179659.03542857, 3179647.22514286, 3179648.110625, 3179648.30475, 3179648.19775, 3179648.70728571, 3179648.1862, 3179647.92785714, 3179647.811, 3179669.54885714, 3179680.04714286, 3179683.126, 3179682.7569999998, 3179683.34, 3179682.832, 3179667.14, 3179667.2048, 3179666.9189999998, 3179666.795, 3179714.2210000004, 3179649.77728571, 3179649.85242857, 3179649.14428571, 3179649.24271429, 3179649.18792857, 3179648.412, 3179648.49314286, 3179650.52792857, 3179650.4671, 3179650.51092857, 3179656.69114286, 3179656.828, 3179650.3060000003, 3179650.208, 3179650.78464286, 3179650.77314286, 3179650.78833333, 3179728.1580000003, 3179728.21, 3179728.144, 3179728.21, 3179722.748, 3179713.22, 3179670.8019999997, 3179648.486, 3179691.3039999995, 3179692.1980000003, 3179718.17342857, 3179718.5760000004, 3179683.1180000002, 3179682.749, 3179683.334, 3179667.1119999997, 3179667.14, 3179666.838, 3179666.895, 3179666.792, 3179666.012, 3179666.0, 3179665.894, 3179673.645, 3179673.793, 3179711.111, 3179711.025, 3179711.02, 3179714.4439999997, 3179689.0239999997, 3179689.244, 3179689.307, 3179667.0069999998, 3179667.083, 3179667.164, 3179681.421, 3179681.298, 3179684.854, 3179691.232, 3179693.755, 3179695.163, 3179699.336, 3179718.2169999997, 3179728.245, 3179728.1610000003, 3179728.203, 3179722.545, 3179720.5239999997, 3179712.943, 3179709.244, 3179705.8419999997, 3179693.164, 3179685.3060000003, 3179682.78, 3179679.208, 3179674.752, 3179670.7189999996, 3179659.828, 3179653.7860000003, 3179648.472, 3179648.775, 3179649.202, 3179649.534, 3179650.123, 3179683.8910000003, 3179685.2739999997, 3179686.369, 3179686.083, 3179708.898, 3179666.068, 3179675.557, 3179669.5539999995, 3179672.615, 3179676.309, 3179681.577, 3179679.97, 3179668.023, 3179683.216, 3179662.788, 3179706.393, 3179696.165, 3179687.133, 3179681.0069999998, 3179652.3210000005, 3179661.08, 3179681.42, 3179681.308, 3179683.7989999996, 3179683.8, 3179686.334, 3179685.957, 3179728.1119999997, 3179728.1969999997, 3179696.84, 3179693.175, 3179685.14, 3179679.1769999997, 3179699.3030000003, 3179718.558, 3179692.2, 3179727.58, 3179728.251, 3179651.341, 3179648.475, 3179649.276, 3179649.7139999997, 3179650.352, 3179651.397, 3179681.099, 3179681.202, 3179684.526, 3179722.787, 3179713.349, 3179705.04, 3179693.1569999997, 3179685.165, 3179679.24, 3179691.313, 3179692.202, 3179728.211, 3179728.252, 3179699.41, 3179718.5069999998, 3179713.142, 3179705.115, 3179685.3860000004, 3179679.64, 3179681.142, 3179681.352, 3179684.88, 3179691.308, 3179713.2630000003, 3179728.202, 3179728.153, 3179722.788, 3179713.474, 3179684.923, 3179679.539, 3179669.4310000003, 3179728.369, 3179693.682, 3179718.478, 3179727.7630000003, 3179672.547, 3179676.28, 3179681.462, 3179685.168, 3179689.481, 3179691.46, 3179692.2369999997, 3179695.1989999996, 3179662.765, 3179649.32, 3179650.473, 3179651.415, 3179710.942, 3179714.212, 3179728.272, 3179655.61, 3179648.481, 3179728.3639999996, 3179728.236, 3179699.352, 3179707.9839999997, 3179718.472, 3179727.887, 3179722.9439999997, 3179669.937, 3179672.224, 3179676.182, 3179681.7810000004, 3179681.375, 3179685.146, 3179666.966, 3179667.269, 3179664.416, 3179663.409, 3179659.106, 3179658.522, 3179652.995, 3179652.525, 3179649.503, 3179647.3260000004, 3179646.166, 3179643.847, 3179643.562, 3179643.623, 3179642.47, 3179645.039, 3179644.537, 3179644.0039999997, 3179644.628, 3179643.244, 3179644.027, 3179647.39, 3179645.317, 3179645.796, 3179645.689, 3179689.855, 3179684.186, 3179685.095, 3179684.57, 3179693.4469999997, 3179691.713, 3179692.247, 3179692.3210000005, 3179688.349, 3179684.256, 3179689.863, 3179692.15, 3179694.673, 3179696.5, 3179689.6010000003, 3179691.9510000004, 3179693.624, 3179696.4289999995, 3179722.499, 3179713.83, 3179700.317, 3179722.9480000003, 3179711.789, 3179702.0960000004, 3179700.6, 3179700.808, 3179694.8019999997, 3179694.7139999997, 3179692.264, 3179692.1610000003, 3179701.3310000002, 3179701.2819999997, 3179701.165, 3179708.619, 3179708.5939999996, 3179717.035, 3179717.001, 3179719.765, 3179718.127, 3179722.642, 3179718.085, 3179727.152, 3179689.5039999997, 3179714.1380000003, 3179683.403, 3179729.503, 3179729.692, 3179728.389, 3179685.961, 3179690.648, 3179694.645, 3179684.965, 3179686.465, 3179685.356, 3179689.2210000004, 3179690.4760000003, 3179690.328, 3179649.768, 3179649.8419999997, 3179649.137, 3179649.233, 3179649.186, 3179648.401, 3179648.483, 3179648.483, 3179650.519, 3179650.462, 3179650.5039999997, 3179688.5730000003, 3179728.501, 3179729.2789999996, 3179729.385, 3179724.1769999997, 3179688.9280000003, 3179690.1089999997, 3179728.314, 3179715.8989999997, 3179705.7460000003, 3179728.22, 3179728.2010000004, 3179724.4, 3179715.8680000002, 3179690.5089999996, 3179685.861, 3179681.332, 3179683.402, 3179680.367, 3179683.401, 3179705.619, 3179694.639, 3179681.454, 3179684.195, 3179686.459, 3179684.144, 3179683.039, 3179690.1539999996, 3179688.3605, 3179689.9460000005, 3179689.416, 3179689.2339999997, 3179684.559, 3179656.687, 3179656.8239999996, 3179683.082, 3179685.005, 3179681.637, 3179686.457, 3179685.2819999997, 3179686.79, 3179683.0330000003, 3179684.128, 3179686.639, 3179690.9689999996, 3179694.4669999997, 3179707.256, 3179728.2410000004, 3179682.085, 3179681.185, 3179686.785, 3179690.613, 3179705.5, 3179716.057, 3179727.58, 3179728.1769999997, 3179706.865, 3179703.848, 3179656.835, 3179650.2989999996, 3179650.202, 3179650.225, 3179650.777, 3179650.76, 3179650.7819999997, 3179662.433, 3179670.8230000003, 3179680.028, 3179681.72, 3179683.724, 3179703.8310000002, 3179727.0110000004, 3179719.0960000004, 3179687.1560000004, 3179704.672, 3179709.887, 3179714.7189999996, 3179719.363, 3179708.9710000004, 3179611.722, 3179611.84, 3179614.5039999997, 3179618.17, 3179617.334, 3179617.5069999998, 3179612.348, 3179623.0039999997, 3179622.512, 3179620.841, 3179622.3710000003, 3179623.486, 3179624.1789999995, 3179622.914, 3179626.3419999997, 3179618.923, 3179627.626, 3179634.355, 3179634.173, 3179633.91, 3179633.006, 3179626.8060000003, 3179622.2860000003, 3179622.567, 3179621.52, 3179621.8030000003, 3179622.6360000004, 3179627.403, 3179626.204, 3179625.963, 3179623.9760000003, 3179615.749, 3179616.4080000003, 3179618.443, 3179613.624, 3179684.28, 3179694.668, 3179701.483, 3179702.192, 3179704.4680000003, 3179703.327, 3179675.6769999997, 3179676.975, 3179681.4469999997, 3179680.855, 3179680.852, 3179681.2810000004, 3179708.79, 3179708.3060000003, 3179708.0719999997, 3179708.784, 3179708.298, 3179702.1739999996, 3179720.098, 3179722.587, 3179720.512, 3179725.4, 3179725.461, 3179716.37, 3179716.3680000002, 3179713.058, 3179713.057], \"z\": [149.329979591837, 145.7223, 141.951807692308, 142.35635922330098, 145.443230769231, 145.529804232804, 147.260912568306, 124.48100000000001, 124.4546, 126.756818181818, 126.76, 126.73909090909099, 126.734909090909, 126.841090909091, 126.855, 142.288333333333, 142.991, 140.851333333333, 141.16299999999998, 126.264, 126.26100000000001, 126.2505, 126.525, 126.52600000000001, 126.52, 125.215, 131.96447368421101, 131.955736842105, 138.88388421052602, 142.922, 142.09, 142.097, 125.196, 137.4991, 136.333, 136.601, 136.317, 136.53, 136.167, 146.638, 141.702025641026, 141.513025641026, 144.52090833333298, 144.50199152542402, 137.523, 142.801032967033, 137.5259, 137.52, 137.525, 137.518625, 146.501435897436, 137.50996999999998, 133.001, 132.997, 133.092, 133.02807692307698, 133.076, 132.731, 132.825, 132.703857142857, 132.878875, 141.49292, 141.525571428571, 141.031690909091, 141.111070484581, 144.968677902622, 137.503950413223, 128.24, 128.2402, 129.3854, 128.96, 129.019, 128.69899999999998, 128.765, 128.725, 145.146051282051, 125.009, 125.01700000000001, 125.005, 123.331, 125.0258, 125.24, 126.79, 145.084986046511, 149.462806949807, 137.522990243902, 149.677025641026, 137.501333333333, 151.639436607339, 151.958444015444, 143.46625, 143.45184444444402, 143.461, 142.9755, 127.179, 126.22, 143.111978723404, 139.30444680851102, 137.53697872340402, 135.548958333333, 133.737617021277, 129.921, 130.139961538461, 130.12133333333298, 137.5, 137.4901, 137.5499, 137.70985, 137.620125, 132.125352941176, 131.953647058824, 135.918470588235, 135.751882352941, 137.584764705882, 129.965, 130.2266, 148.968663636364, 145.415, 149.57232, 145.680239130435, 150.088883333333, 146.643293290043, 151.211259079903, 149.53510738255, 150.669428571429, 146.43990336134502, 120.596, 155.240571428571, 127.54700000000001, 127.221, 127.208, 126.9, 127.117, 126.79, 127.18015, 127.191833333333, 127.223333333333, 153.72973705611298, 152.47285561497299, 149.952253325942, 153.57335294117598, 153.099857142857, 154.739857142857, 125.045, 125.01700000000001, 125.044, 125.04, 126.87200000000001, 126.877076923077, 126.838, 126.787, 126.94092307692301, 126.932, 142.99200000000002, 140.85, 120.296, 123.295, 138.111005347594, 135.206417112299, 132.218, 125.087730769231, 137.8438, 134.843897849462, 131.75660215053801, 125.0615, 138.096909090909, 132.095625, 129.075, 124.999408163265, 137.880333333333, 134.887666666667, 131.8788, 137.36, 134.36, 138.282, 135.15, 132.122, 137.944, 135.016, 131.7152, 127.79746000000002, 144.15, 127.94, 128.106, 143.466, 143.61, 126.225, 127.625666666667, 138.006636363636, 137.958, 137.689222222222, 133.679875, 133.6488, 133.39975, 133.62, 120.594285714286, 129.281714285714, 129.294571428571, 129.281, 148.969, 145.41899999999998, 149.572, 145.68, 150.088, 146.643, 125.782697674419, 126.116, 116.742, 116.74700000000001, 116.68, 109.76899999999999, 109.655, 127.223777777778, 127.178333333333, 127.7, 127.99799999999999, 120.37557142857099, 120.87200000000001, 127.729, 127.76799999999999, 127.923125, 128.142, 118.755, 118.9124, 121.639, 109.82, 107.639, 100.029, 119.698, 114.025, 106.626666666667, 99.854, 116.009, 98.228, 116.19200000000001, 105.39200000000001, 97.14200000000001, 138.132, 135.224, 137.85299999999998, 134.859, 131.840785714286, 138.105857142857, 132.107928571429, 137.891, 134.8948, 131.889, 137.361857142857, 134.369, 138.2978, 135.1635, 137.960928571429, 135.029, 131.728666666667, 109.899, 101.311, 116.53200000000001, 101.311, 101.02799999999999, 111.478, 124.088, 98.19, 114.219, 114.734, 117.708, 114.64983333333299, 119.676, 113.993, 106.583, 123.581, 116.0, 124.13799999999999, 116.17, 105.382, 120.211, 115.335, 103.779, 120.93299999999999, 106.23899999999999, 118.37700000000001, 113.145, 106.677, 113.23299999999999, 124.155, 115.756, 106.728, 122.171, 115.891, 107.89299999999999, 120.21799999999999, 119.964, 119.92, 119.713, 119.743, 119.71600000000001, 117.215, 117.68799999999999, 120.103, 119.962, 120.5, 121.007, 120.759, 121.164, 120.586, 121.01799999999999, 122.117, 122.23899999999999, 124.044, 122.249, 125.184, 124.064, 122.50299999999999, 122.97399999999999, 123.963, 125.14399999999999, 125.743, 126.012, 126.102, 115.833, 115.56299999999999, 115.70299999999999, 115.67, 109.065, 114.96, 114.88799999999999, 107.635, 107.603, 107.492, 107.57, 114.11200000000001, 115.265, 114.005, 107.941, 124.58, 124.854, 125.23700000000001, 125.23299999999999, 125.23899999999999, 125.213, 117.475, 117.515, 112.07, 112.069, 111.92399999999999, 112.009, 116.93, 116.507, 115.56200000000001, 118.382, 118.39299999999999, 118.43, 114.779, 114.645, 115.041, 109.02, 108.839, 113.039, 113.51, 113.25200000000001, 113.465, 113.958, 113.47399999999999, 113.73, 113.87100000000001, 113.801, 115.435, 115.485, 114.876, 115.38600000000001, 115.329, 115.385, 114.214, 114.728, 109.866, 109.572, 109.338, 109.206, 109.54899999999999, 111.189, 111.652, 111.676, 110.445, 111.133, 111.385, 111.693, 111.436, 101.303, 100.836, 100.98200000000001, 101.064, 103.536, 103.56, 102.22, 101.564, 105.323, 102.48, 100.941, 103.085, 103.115, 103.411, 103.337, 103.86399999999999, 104.066, 104.20100000000001, 103.509, 102.977, 101.54799999999999, 101.868, 102.685, 101.05799999999999, 97.134, 95.85700000000001, 98.2, 98.185, 96.603, 96.104, 99.368, 99.359, 98.794, 97.351, 98.339, 98.0, 98.35799999999999, 98.57600000000001, 98.994, 98.84200000000001, 98.719, 129.51, 134.322, 134.86, 133.855, 133.983, 130.7, 133.863, 130.263, 132.17, 135.49, 131.92600000000002, 134.07299999999998, 131.976, 135.375, 131.678, 135.095, 137.53, 131.69, 136.525, 132.594, 130.664, 137.776, 131.41, 131.458, 133.881, 146.507, 144.975, 145.157, 145.082, 149.465, 149.683, 151.642, 151.97, 141.71, 141.515, 146.656, 145.668, 144.54, 142.811, 141.57299999999998, 141.532, 141.045, 141.12, 145.734, 145.455, 145.53799999999998, 142.44, 142.034, 142.364, 144.994, 143.308, 147.279, 146.045, 149.346, 147.736, 153.732, 152.48, 149.958, 153.576, 151.733, 154.555, 153.424, 154.566, 137.284, 137.27100000000002, 133.19, 134.738, 150.099, 141.955, 142.991, 131.955, 138.877, 137.523, 137.52100000000002, 137.516, 137.515, 143.607, 143.602, 143.61, 150.675, 151.224, 149.54, 138.118, 135.214, 137.842, 134.85, 131.761, 138.095, 132.093, 132.094, 137.878, 134.886, 131.877, 146.447, 142.922, 142.09, 142.097, 137.52, 145.776, 148.11700000000002, 137.526, 137.525, 137.513, 132.999, 133.0, 133.092, 133.02700000000002, 132.822, 132.705, 132.879, 142.989, 140.8575, 142.989, 133.075, 132.731, 137.501, 143.069, 137.584, 137.713, 137.616, 149.289, 144.501, 149.591, 145.6985, 150.68, 145.082, 137.358, 134.358, 138.005, 137.696, 137.958, 137.582, 135.908, 135.753, 132.125, 131.953, 136.167, 136.53, 136.317, 136.601, 136.333, 128.725, 128.765, 128.69899999999998, 129.019, 128.96, 129.386, 129.452, 128.24, 155.237, 153.095, 131.363, 138.284, 135.149, 132.123, 137.946, 135.016, 131.714, 133.674, 133.675, 133.399, 133.615, 133.332, 154.741, 127.042, 127.29700000000001, 128.415, 127.625, 127.691, 127.59299999999999, 125.185, 125.387, 98.885, 94.14, 91.163, 92.258, 90.318, 90.641, 91.292, 108.478, 110.484, 98.92, 109.554, 116.04799999999999, 113.205, 106.094, 117.819, 98.50299999999999, 118.639, 125.975, 127.288, 125.96799999999999, 129.442, 130.644, 123.632, 119.94200000000001, 113.042, 118.396, 123.766, 135.113, 133.99, 128.201, 120.51, 107.056, 102.586, 100.421, 100.125, 146.505, 148.157, 150.21, 151.102, 152.09, 152.806, 145.111, 145.374, 144.10399999999998, 145.555, 144.35399999999998, 146.339, 156.297, 156.523, 157.014, 156.291, 156.518, 151.084, 161.475, 163.247, 155.053, 155.142, 154.149, 155.196, 154.164, 154.178, 152.085]}, {\"colorscale\": [[0.0, \"rgb(254, 246, 181)\"], [0.16666666666666666, \"rgb(255, 221, 154)\"], [0.3333333333333333, \"rgb(255, 194, 133)\"], [0.5, \"rgb(255, 166, 121)\"], [0.6666666666666666, \"rgb(250, 138, 118)\"], [0.8333333333333334, \"rgb(241, 109, 122)\"], [1.0, \"rgb(225, 83, 131)\"]], \"sizemode\": \"absolute\", \"sizeref\": 350, \"text\": [\"Auto-AC11a\", \"Auto-AC1Ba\", \"Auto-AC311a\", \"Auto-AC32a\", \"Auto-AC5Ba\", \"Auto-AC7Ba\", \"Auto-AC9a\", \"Auto-B11a\", \"Auto-B12a\", \"Auto-B41a\", \"Auto-B42a\", \"Auto-B51a\", \"Auto-B52a\", \"Auto-B61a\", \"Auto-B62a\", \"Auto-BAPM.4a\", \"Auto-BAPM1.1a\", \"Auto-BAPM2.1a\", \"Auto-BAPM3.1a\", \"Auto-G11a\", \"Auto-G12a\", \"Auto-G13a\", \"Auto-GR2.1a\", \"Auto-GR2.2a\", \"Auto-GR2.3a\", \"Auto-MS20a\", \"Auto-MS21a\", \"Auto-MS22a\", \"Auto-MS25a\", \"Auto-MS26a\", \"Auto-MS27a\", \"Auto-MS31a\", \"Auto-MS32a\", \"Auto-PC1.1a\", \"Auto-PC101a\", \"Auto-PC105a\", \"Auto-PC106a\", \"Auto-PC107a\", \"Auto-PC108a\", \"Auto-PC10a\", \"Auto-PC111a\", \"Auto-PC112a\", \"Auto-PC12a\", \"Auto-PC13.1a\", \"Auto-PC13a\", \"Auto-PC14.1a\", \"Auto-PC15.1a\", \"Auto-PC16.1a\", \"Auto-PC17.1a\", \"Auto-PC1A\", \"Auto-PC2.1a\", \"Auto-PC201a\", \"Auto-PC202a\", \"Auto-PC203a\", \"Auto-PC204a\", \"Auto-PC205a\", \"Auto-PC206a\", \"Auto-PC207a\", \"Auto-PC208a\", \"Auto-PC209a\", \"Auto-PC21a\", \"Auto-PC22a\", \"Auto-PC23a\", \"Auto-PC23Ba\", \"Auto-PC2a\", \"Auto-PC3.1a\", \"Auto-PC301a\", \"Auto-PC302a\", \"Auto-PC304a\", \"Auto-PC305a\", \"Auto-PC307a\", \"Auto-PC308a\", \"Auto-PC309a\", \"Auto-PC310a\", \"Auto-PC3a\", \"Auto-PC401a\", \"Auto-PC402a\", \"Auto-PC403a\", \"Auto-PC450a\", \"Auto-PC451a\", \"Auto-PC452a\", \"Auto-PC453a\", \"Auto-PC4a\", \"Auto-PC5a\", \"Auto-PC6.1a\", \"Auto-PC6A\", \"Auto-PC7a\", \"Auto-PC8a\", \"Auto-PCBA.1a\", \"Auto-PCBA.2a\", \"Auto-PCBA.3a\", \"Auto-PCBA.4a\", \"Auto-PD1a\", \"Auto-PD2.a\", \"Auto-PL101a\", \"Auto-PL202a\", \"Auto-PL301a\", \"Auto-PL402a\", \"Auto-PL501a\", \"Auto-PM.603a\", \"Auto-PM.604a\", \"Auto-PM.605a\", \"Auto-PM209a\", \"Auto-PM210a\", \"Auto-PM211a\", \"Auto-PM212a\", \"Auto-PM213a\", \"Auto-PM301a\", \"Auto-PM302a\", \"Auto-PM303a\", \"Auto-PM304a\", \"Auto-PM305a\", \"Auto-PM601a\", \"Auto-PM602a\", \"Auto-PMS.1a\", \"Auto-PMS1.2a\", \"Auto-PMS2.1a\", \"Auto-PMS2.2a\", \"Auto-PMS3.1a\", \"Auto-PMS3.2a\", \"Auto-PMS4.1a\", \"Auto-PMS4.2a\", \"Auto-PMS5.1a\", \"Auto-PMS5.2a\", \"Auto-PR14.1a\", \"Auto-RN7.1a\", \"Auto-TREM1a\", \"Auto-TREM2.1a\", \"Auto-TREM2.2a\", \"Auto-TREM2.3a\", \"Auto-TREM2a\", \"Auto-TREM3.a\", \"Auto-TREM4.a\", \"Auto-TREM5a\", \"Auto-TREM6a\", \"Auto-VJ1a\", \"Auto-VJ2a\", \"Auto-VJ3a\", \"Auto-VJ4a\", \"Auto-VJ6a\", \"Auto-VJ7a\", \"Auto-B13b\", \"Auto-B14b\", \"Auto-B23b\", \"Auto-B24b\", \"Auto-B43b\", \"Auto-B44b\", \"Auto-B53b\", \"Auto-B54b\", \"Auto-B63b\", \"Auto-B64b\", \"Auto-BAPM1.1b\", \"Auto-BAPM2.1b\", \"Auto-DB1b\", \"Auto-DB2b\", \"Auto-F1.1b\", \"Auto-F1.2b\", \"Auto-F1.3b\", \"Auto-F2.1b\", \"Auto-F2.2b\", \"Auto-F2.3b\", \"Auto-F3.1b\", \"Auto-F3.2b\", \"Auto-F3.3b\", \"Auto-F3.4b\", \"Auto-F4.1b\", \"Auto-F4.2b\", \"Auto-F4.3b\", \"Auto-F5.1b\", \"Auto-F5.2b\", \"Auto-F6.1b\", \"Auto-F6.2b\", \"Auto-F6.3b\", \"Auto-F7.1b\", \"Auto-F7.2b\", \"Auto-F7.3b\", \"Auto-F7.4b\", \"Auto-GR.2b\", \"Auto-GR3b\", \"Auto-GR4b\", \"Auto-PCBA.1b\", \"Auto-PCBA.2b\", \"Auto-PD.3b\", \"Auto-PD.4b\", \"Auto-PM102b\", \"Auto-PM103b\", \"Auto-PM201b\", \"Auto-PM401b\", \"Auto-PM402b\", \"Auto-PM403b\", \"Auto-PM404b\", \"Auto-PM501b\", \"Auto-PM615b\", \"Auto-PM616b\", \"Auto-PM617b\", \"Auto-PMS.1b\", \"Auto-PMS1.2b\", \"Auto-PMS2.1b\", \"Auto-PMS2.2b\", \"Auto-PMS3.1b\", \"Auto-PMS3.2b\", \"Auto-REFSS6b\", \"Auto-REFSS7b\", \"Auto-TQ101b\", \"Auto-TQ102b\", \"Auto-TQ103b\", \"Auto-TQ202b\", \"Auto-TQ203b\", \"Auto-TREM18.1b\", \"Auto-TREM18.2b\", \"Auto-US101b\", \"Auto-US102b\", \"Auto-US201b\", \"Auto-US202b\", \"Auto-UV101b\", \"Auto-UV102b\", \"Auto-UV103b\", \"Auto-UV104b\", \"Auto-UV201b\", \"Auto-UV202b\", \"Auto-UV203b\", \"Auto-UV303b\", \"Auto-BA2.1d\", \"Auto-BARET10.1d\", \"Auto-BARET11.1d\", \"Auto-BARET11.2d\", \"Auto-BARET11.3d\", \"Auto-BARET11.7d\", \"Auto-BARET2.2d\", \"Auto-BARET2.7d\", \"Auto-BARET3.2d\", \"Auto-BARET3.3d\", \"Auto-BARET9.7d\", \"Auto-F1.1d\", \"Auto-F1.2d\", \"Auto-F2.1d\", \"Auto-F2.2d\", \"Auto-F2.3d\", \"Auto-F3.1d\", \"Auto-F3.2d\", \"Auto-F4.1d\", \"Auto-F4.2d\", \"Auto-F4.3d\", \"Auto-F5.1d\", \"Auto-F5.2d\", \"Auto-F6.1d\", \"Auto-F6.2d\", \"Auto-F7.1d\", \"Auto-F7.2d\", \"Auto-F7.3d\", \"Auto-P11.3d\", \"Auto-P11.4d\", \"Auto-P12.2d\", \"Auto-P12.8d\", \"Auto-P120.6d\", \"Auto-P130.5d\", \"Auto-P17.1d\", \"Auto-P20.7d\", \"Auto-P5.3d\", \"Auto-P50.3d\", \"Auto-P9.1d\", \"Auto-P9.2d\", \"Sd-BARET11.1\", \"Sd-BARET11.2\", \"Sd-BARET11.3\", \"Sd-BARET2.1\", \"Sd-BARET2.2\", \"Sd-BARET3.1\", \"Sd-BARET3.2\", \"Sd-BARET3.3\", \"Sd-BARET4.1\", \"Sd-BARET4.2\", \"Sd-BARET4.3\", \"Sd-BARET5.1\", \"Sd-BARET5.3\", \"Sd-BARET8.1\", \"Sd-BARET8.2\", \"Sd-BARET8.3\", \"Sd-BARET9.2\", \"Sd-BARET6.1\", \"Sd-BARET6.2\", \"Sd-BARET6.3\", \"Sd-BARET1.1\", \"Sd-BARET1.2\", \"Sd-BARET1.3\", \"Sd-P1.1\", \"Sd-P2.1\", \"Sd-P3.1\", \"Sd-P5.1\", \"Sd-P6.1\", \"Sd-P7.1\", \"Sd-P8.1\", \"Sd-P9.1\", \"Sd-P10.1\", \"Sd-P11.1\", \"Sd-P12.1\", \"Sd-P120.1\", \"Sd-P13.1\", \"Sd-P130.1\", \"Sd-P14.1\", \"Sd-P140.1\", \"Sd-P142.1\", \"Sd-P143.1\", \"Sd-P15.1\", \"Sd-P150.1\", \"Sd-P16.1\", \"Sd-P17.1\", \"Sd-P18.1\", \"Sd-P19.1\", \"Sd-P20.1\", \"Sd-P21.1\", \"Sd-P22.1\", \"Sd-P23.1\", \"Sd-P24.1\", \"Sd-PM.704\", \"Sd-PM.705\", \"Sd-PM.706\", \"Sd-P80.1\", \"Sd-PIL4A.1\", \"Sd-PIL5C.1\", \"Sd-BA2.1\", \"Sd-BA3.1\", \"Sd-BA4.1\", \"Sd-BA5.1\", \"Sd-PIL10.1\", \"Sd-PIL2A.1\", \"Sd-PIL8.1\", \"Sd-BA1.1\", \"Sd-PSDALLE.6\", \"Sd-PSDALLE.1\", \"Sd-PSDALLE.2\", \"Sd-PSDALLE.3\", \"Sd-PSDALLE.4\", \"Sd-PSDALLE.7\", \"Sd-P1.2\", \"Sd-P2.2\", \"Sd-PM.707\", \"Sd-PM.708\", \"Sd-PM.709\", \"Sd-PM.710\", \"Sd-P11.2\", \"Sd-P12.2\", \"Sd-P141.2\", \"Sd-P142.2\", \"Sd-P143.2\", \"Sd-P150.2\", \"Sd-P8.2\", \"Sd-P9.2\", \"Sd-P50.2\", \"Sd-P902\", \"Sd-P100.2\", \"Sd-P19.2\", \"Sd-P20.2\", \"Sd-P22.2\", \"Sd-P23.2\", \"Sd-P25.2\", \"Sd-P26.2\", \"Sd-P1.3\", \"Sd-P2.3\", \"Sd-P3.3\", \"Sd-P120.3\", \"Sd-P130.3\", \"Sd-P140.3\", \"Sd-P142.3\", \"Sd-P143.3\", \"Sd-P150.3\", \"Sd-P5.3\", \"Sd-P50.3\", \"Sd-P11.3\", \"Sd-P12.3\", \"Sd-P8.3\", \"Sd-P9.3\", \"Sd-P130.4\", \"Sd-P140.4\", \"Sd-P143.4\", \"Sd-P150.4\", \"Sd-P1.4\", \"Sd-P2.4\", \"Sd-P3.4\", \"Sd-P5.4\", \"Sd-P130.5\", \"Sd-P11.4\", \"Sd-P12.4\", \"Sd-P120.6\", \"Sd-P14.6\", \"Sd-P143.6\", \"Sd-P150.6\", \"Sd-P17.6\", \"Sd-P110.3\", \"Sd-P7.3\", \"Sd-P9.4\", \"Sd-P901.2\", \"Sd-BA3.2\", \"Sd-BA4.2\", \"Sd-BA5.2\", \"Sd-P3.5\", \"Sd-P4.5\", \"Sd-P5.5\", \"Sd-P50.5\", \"Sd-P7.5\", \"Sd-BA1.2\", \"Sd-P22.3\", \"Sd-P25.3\", \"Sd-P26.3\", \"Sd-BARET8.7\", \"Sd-BARET9.7\", \"Sd-P11.7\", \"Sd-P180.7\", \"Sd-P20.7\", \"Sd-P110.7\", \"Sd-P111.7\", \"Sd-P8.7\", \"Sd-P80.7\", \"Sd-P9.7\", \"Sd-P901.7\", \"Sd-P902.7\", \"Sd-BA2.7\", \"Sd-BA3.7\", \"Sd-BA4.7\", \"Sd-BA5.7\", \"Sd-P1.7\", \"Sd-P3.7\", \"Manu-SEC4.1\", \"Manu-SEC4.2\", \"Manu-SEC4.3\", \"Manu-SEC4.4\", \"Manu-SEC4.5\", \"Manu-SEC4.5C\", \"Manu-SEC4.6\", \"Manu-SEC4.7\", \"Manu-SEC4.8\", \"Manu-SEC4.9\", \"Manu-SEC4.10\", \"Manu-SEC4.11\", \"Manu-SEC4.12\", \"Manu-SEC4.13\", \"Manu-SEC4.14\", \"Manu-SEC4.24\", \"Manu-SEC4.23\", \"Manu-SEC4.22\", \"Manu-SEC4.17\", \"Manu-SEC4.16\", \"Manu-SEC4.15\", \"Manu-SEC4.18\", \"Manu-SEC4.19\", \"Manu-SEC4.20\", \"Manu-SEC4.21\", \"Manu-PC1\", \"Manu-PC2\", \"Manu-PC3\", \"Manu-PC4\", \"Manu-PC5\", \"Manu-PC6\", \"Manu-PC7\", \"Manu-PC8\", \"Manu-PC111\", \"Manu-PC112\", \"Manu-PC10\", \"Manu-PC11\", \"Manu-PC12\", \"Manu-PC13\", \"Manu-PC21\", \"Manu-PC22\", \"Manu-PC23\", \"Manu-PC23B\", \"Manu-AC1B\", \"Manu-AC5B\", \"Manu-AC7B\", \"Manu-AC30\", \"Manu-AC31\", \"Manu-AC32\", \"Manu-AC7\", \"Manu-AC8\", \"Manu-AC9\", \"Manu-AC10\", \"Manu-AC11\", \"Manu-AC12\", \"Manu-VJ1\", \"Manu-VJ2\", \"Manu-VJ3\", \"Manu-VJ4\", \"Manu-VJ5\", \"Manu-VB1\", \"Manu-VB2\", \"Manu-VB3\", \"Manu-PN.1\", \"Manu-PN.2\", \"Manu-PN.3\", \"Manu-PN.4\", \"Manu-NP.1\", \"Manu-AC311B\", \"Manu-BAPM1.1\", \"Manu-MS21\", \"Manu-MS22\", \"Manu-PC13.1\", \"Manu-PC2.1\", \"Manu-PC3.1\", \"Manu-PC7.1\", \"Manu-PCBA.1\", \"Manu-PCBA.2\", \"Manu-PCBA.3\", \"Manu-PMS3.1\", \"Manu-PMS4.1\", \"Manu-PMS4.2\", \"Manu-F1.1\", \"Manu-F1.2\", \"Manu-F2.1\", \"Manu-F2.2\", \"Manu-F2.3\", \"Manu-F3.1\", \"Manu-F3.2\", \"Manu-F3.3\", \"Manu-F4.1\", \"Manu-F4.2\", \"Manu-F4.3\", \"Manu-PMS3.2\", \"Manu-MS25\", \"Manu-MS26\", \"Manu-MS27\", \"Manu-PC15.1\", \"Manu-PMS7.2\", \"Manu-PMS6.1\", \"Manu-PC14.1\", \"Manu-PC16.1\", \"Manu-PC17.1\", \"Manu-PC201\", \"Manu-PC202\", \"Manu-PC203\", \"Manu-PC204\", \"Manu-PC207\", \"Manu-PC208\", \"Manu-PC209\", \"Manu-BAPM.4\", \"Manu-BAPM2.1\", \"Manu-BAPM3.1\", \"Manu-PC205\", \"Manu-PC206\", \"Manu-PC1.1\", \"Manu-PCBA.4\", \"Manu-PM209\", \"Manu-PM212\", \"Manu-PM213\", \"Manu-PMS.1\", \"Manu-PMS1.2\", \"Manu-PMS2.1\", \"Manu-PMS2.2\", \"Manu-PMS5.1\", \"Manu-PMS5.2\", \"Manu-F5.1\", \"Manu-F5.2\", \"Manu-PM102\", \"Manu-PM201\", \"Manu-PM103\", \"Manu-PM.204\", \"Manu-PM.301\", \"Manu-PM.302\", \"Manu-PM.401\", \"Manu-PM.402\", \"Manu-PC108\", \"Manu-PC107\", \"Manu-PC106\", \"Manu-PC105\", \"Manu-PC101\", \"Manu-PC310\", \"Manu-PC309\", \"Manu-PC308\", \"Manu-PC307\", \"Manu-PC305\", \"Manu-PC304\", \"Manu-PC302\", \"Manu-PC301\", \"Manu-RN7.1\", \"Manu-VJ6\", \"Manu-F5.3\", \"Manu-F6.1\", \"Manu-F6.2\", \"Manu-F6.3\", \"Manu-F7.1\", \"Manu-F7.2\", \"Manu-F7.3\", \"Manu-PM400\", \"Manu-PM401\", \"Manu-PM403\", \"Manu-PM404\", \"Manu-PM405\", \"Manu-VJ7\", \"Manu-PRT1\", \"Manu-PRT2\", \"Manu-PAL3\", \"Manu-PAL4\", \"Manu-PAL5\", \"Manu-PAL6\", \"Manu-PRTE1\", \"Manu-PRTE2\", \"Manu-SEC123.1\", \"Manu-SEC123.2\", \"Manu-SEC123.3\", \"Manu-SEC123.4\", \"Manu-SEC123.5\", \"Manu-SEC123.6\", \"Manu-SEC123.7\", \"Manu-SEC123.8\", \"Manu-SEC123.9\", \"Manu-SEC123.10\", \"Manu-SEC123.11\", \"Manu-SEC123.12\", \"Manu-SEC123.13\", \"Manu-SEC123.14\", \"Manu-SEC123.15\", \"Manu-SEC123.16\", \"Manu-SEC123.17\", \"Manu-SEC123.18\", \"Manu-SEC123.19\", \"Manu-SEC123.20\", \"Manu-SEC123.21\", \"Manu-SEC123.22\", \"Manu-SEC123.23\", \"Manu-SEC123.24\", \"Manu-SEC123.25\", \"Manu-SEC123.26\", \"Manu-SEC123.27\", \"Manu-SEC123.28\", \"Manu-SEC123.29\", \"Manu-SEC123.30\", \"Manu-SEC123.31\", \"Manu-SEC123.32\", \"Manu-SEC123.33\", \"Manu-SEC123.34\", \"Manu-SEC123.35\", \"Manu-RN7.11\", \"Manu-RN7.12\", \"Manu-RN7.13\", \"Manu-RN7.14\", \"Manu-RN7.15\", \"Manu-RN7.16\", \"Manu-ESC1\", \"Manu-ESC2\", \"Manu-MJ1\", \"Manu-MJ2\", \"Manu-MJ3\", \"Manu-RN7.10\", \"Manu-PM4\", \"Manu-PM5\", \"Manu-PM6\", \"Manu-PM7\", \"Manu-PM8\", \"Manu-RN7.14B\", \"Manu-PM2\", \"Manu-PM3\", \"Manu-VB4\", \"Manu-VB20\", \"Manu-VB21\", \"Manu-VB22\", \"Manu-VB23\", \"Manu-VJ20\", \"Manu-VJ21\"], \"type\": \"cone\", \"u\": [0.023000000044703484, 0.004999999888241291, 0.030769229866564274, 0.01699999999254942, 0.02000000001862645, 0.01600000006146729, 0.027000000001862645, 0.0005000000819563866, 0.008000000147148967, 0.008328289957717061, 0.008454550057649612, 0.004618179984390736, 0.008651509881019592, 0.007545450236648321, 0.0027045500464737415, 0.012666670139878988, 0.012750000227242708, 0.0012499999720603228, 0.0, 0.0, 0.0, 0.0, -0.0009999999310821295, 0.0009999999310821295, -0.0009999999310821295, -0.0012857099063694477, 0.001999999862164259, 0.001857140101492405, 0.0020000000949949026, 0.0031250000465661287, 0.003000000026077032, -0.00033332989551126957, 0.0, 0.023999999975785613, 0.0037499999161809683, 0.014000000199303031, 0.02199999988079071, 0.02399999974295497, 0.02299999981187284, 0.023000000044703484, 0.025794869987294078, 0.02602564007975161, 0.019954540068283677, 0.003999999957159162, 0.02000000001862645, 0.0029000001959502697, 0.009000000078231096, 0.009000000078231096, 0.01600000006146729, 0.0220512798987329, 0.006999999983236194, 0.0029999997932463884, 0.007999999914318323, 0.010000000009313226, 0.011153850238770247, 0.017899999860674143, 0.031999999890103936, 0.02695651981048286, 0.02514285990037024, 0.02199999988079071, 0.02114285994321108, 0.02421429008245468, 0.02099999994970858, 0.02192308008670807, 0.02456756983883679, 0.028999999864026904, -0.001999999862164259, 0.00419999985024333, 0.010999999940395355, 0.01699999999254942, 0.023999999975785613, 0.013000000035390258, 0.008750000037252903, 0.004999999888241291, 0.023000000044703484, -0.001999999862164259, -0.003000000026077032, -0.00016666995361447334, 0.000699999975040555, -0.0009999999310821295, -0.0029999997932463884, -0.0010666700545698404, 0.02216215990483761, 0.01848649000748992, 0.023199999937787652, 0.007168499985709786, 0.012486489955335855, 0.01035135006532073, 0.013500000117346644, 0.010800000047311187, 0.015333329793065786, 0.010000000009313226, 0.0, 0.002500000176951289, 0.005287230014801025, 0.0019361700396984816, 0.0007943299133330584, 0.00012500002048909664, 0.00014894013293087482, 0.006192309781908989, -0.009423079900443554, 0.006999999983236194, 0.0059999998193234205, 0.007200000109151006, 0.006700000027194619, 0.0005499999970197678, 0.012875000014901161, 0.009088239865377545, 0.00035294005647301674, 0.01047058985568583, 0.006921570049598813, 0.005794120021164417, 0.00774999987334013, 0.007199999876320362, 0.011136359767988324, 0.008500000229105353, 0.011750000063329935, 0.010000000009313226, 0.01280000014230609, 0.010047619929537177, 0.013357150135561824, 0.006499999901279807, 0.010785720078274608, 0.008928569965064526, -0.019000000087544322, 0.006285710027441382, -0.006999999983236194, 0.005125000141561031, 0.0030000002589076757, 0.014999999897554517, -0.013500000117346644, 0.005949999904260039, 0.030333329923450947, 0.0010833300184458494, 0.0007499998901039362, 0.013823530171066523, 0.014500000048428774, 0.01699999999254942, 0.026000000070780516, 0.006285710027441382, 0.009285710053518414, -0.002666669897735119, -0.004333329852670431, -0.0011666698846966028, -0.0011666701175272465, -0.0008461500983685255, -1.282012090086937e-05, -0.0009461499284952879, -9.614997543394566e-05, -0.005912089953199029, 2.1979911252856255e-05, 0.0012307700235396624, 0.0016060599591583014, 0.0016666699666529894, 0.0009999999310821295, -0.011999999871477485, -0.012000000104308128, -0.012000000104308128, 0.0030999998562037945, -0.012000000104308128, -0.011944439960643649, -0.011181820183992386, -0.005125000141561031, -0.012076920131221414, 0.07001020014286041, -0.01066667027771473, -0.010999999940395355, -0.010000000009313226, -0.013400000287219882, -0.014999999897554517, -0.007400000235065818, -0.00699999975040555, -0.008000000147148967, -0.004999999888241291, -0.005399999907240272, -0.006000000052154064, -0.0037799999117851257, -0.003357140114530921, -0.0005714301951229572, -0.0008571401704102755, 0.0003846201580017805, -0.0009166700765490532, -0.0013611100148409605, -0.004500000271946192, 0.0034318200778216124, -0.0020000000949949026, 0.0009999999310821295, 0.008875000057742, 0.001299999887123704, 0.00012500002048909664, 0.0005000000819563866, 0.004785710014402866, 0.004071430070325732, 0.004714289912953973, -0.0009999999310821295, 5.55599108338356e-05, -0.0009999999310821295, 0.0, -0.0010000001639127731, 0.001600000075995922, -5.5549899116158485e-05, 0.06451744004152715, -0.005933329928666353, -0.010999999940395355, 0.001999999862164259, 0.002666669897735119, 0.0030000002589076757, 0.0028333300724625587, -0.0024999999441206455, -0.019587300019338727, -5.713989958167076e-05, 0.0004999998491257429, -0.000380959827452898, 0.005285710096359253, -0.001057140063494444, -0.0016666697338223457, -0.0010000001639127731, -0.0012000000569969416, -0.0013714300002902746, -0.014999999897554517, -0.0013809599913656712, 0.0004999998491257429, 0.0016666699666529894, 0.0036428598687052727, 0.0029999997932463884, 0.004999999888241291, 0.006999999983236194, 0.005166670074686408, -0.0014761898200958967, -0.00279999990016222, -0.001333329826593399, -0.002428569830954075, -0.030000000027939677, -0.0011428599245846272, -0.0017142901197075844, -0.001999999862164259, -0.0010000003967434168, -0.0019920701161026955, -0.0013095301110297441, -0.0034047600347548723, -0.0010000003967434168, -0.0012000000569969416, -0.0014047601725906134, -0.0012142900377511978, -0.001500000013038516, -0.002199999988079071, -0.002300000051036477, -0.001928569981828332, -0.0011428599245846272, -0.0020000000949949026, -0.001999999862164259, 0.0, -0.0014999997802078724, -0.0003333301283419132, -0.005333330016583204, -0.003999999957159162, -0.001999999862164259, -0.0013333300594240427, 0.009714290034025908, 0.010999999940395355, 0.0024999999441206455, 0.0021666702814400196, 0.0, 0.0030000002589076757, 0.006000000052154064, -0.003000000026077032, -0.0029999997932463884, -0.003000000026077032, -0.001999999862164259, -0.003999999724328518, -0.0029999997932463884, -0.0020000003278255463, -0.001999999862164259, -0.001999999862164259, 0.003000000026077032, 0.003999999957159162, 0.006999999983236194, 0.010999999940395355, -0.0029999997932463884, 0.0020000000949949026, 0.013999999966472387, 0.003000000026077032, 0.001999999862164259, 0.0009999999310821295, 0.0, 0.003999999724328518, 0.010000000009313226, 0.01600000006146729, 0.018000000156462193, 0.02399999974295497, 0.02800000016577542, 0.023000000044703484, 0.0020000003278255463, 0.0009999999310821295, 0.005000000121071935, 0.004999999888241291, 0.001999999862164259, -0.0009999999310821295, -0.006000000284984708, -0.009000000078231096, -0.010000000009313226, -0.011000000173225999, -0.012999999802559614, -0.02000000001862645, -0.013000000268220901, -0.004999999888241291, -0.004000000189989805, -0.006000000052154064, 0.001999999862164259, 0.0029999997932463884, -0.008999999845400453, 0.004000000189989805, 0.001999999862164259, 0.0020000000949949026, 0.003000000026077032, 0.003999999957159162, 0.004000000189989805, 0.02000000001862645, 0.0, 0.0, 0.001999999862164259, 0.0029999997932463884, 0.001999999862164259, 0.0009999999310821295, 0.00699999975040555, -0.0020000003278255463, 0.007000000216066837, 0.010000000009313226, 0.009000000078231096, 0.003000000026077032, 0.001999999862164259, -0.0020000000949949026, 0.0009999999310821295, 0.003999999957159162, 0.0010000001639127731, 0.010000000009313226, 0.0009999999310821295, 0.0, 0.001999999862164259, 0.0010000001639127731, -0.12599999993108213, -0.039000000106170774, -0.027000000001862645, -0.017000000225380063, -0.016999999759718776, -0.013999999966472387, 0.02099999994970858, 0.010999999940395355, 0.019999999785795808, 0.0030000002589076757, 0.001999999862164259, 0.0009999999310821295, 0.006000000052154064, 0.0009999999310821295, 0.0020000000949949026, 0.0009999999310821295, 0.0, -0.001999999862164259, 0.004000000189989805, 0.0010000001639127731, -0.004000000189989805, -0.009999999776482582, -0.02000000001862645, -0.02199999988079071, -0.017999999690800905, -0.014000000199303031, 0.01799999992363155, 0.009000000078231096, 0.01699999999254942, 0.0029999997932463884, 0.019000000087544322, 0.013000000035390258, -0.004999999888241291, -0.012999999802559614, -0.009000000078231096, -0.006000000284984708, -0.0029999997932463884, 0.009000000078231096, 0.013000000035390258, 0.019000000087544322, -0.009000000078231096, 0.0029999997932463884, -0.003000000026077032, -0.001999999862164259, -0.003999999957159162, -0.0029999997932463884, -0.004000000189989805, -0.007999999914318323, 0.0, 0.01699999999254942, 0.00699999975040555, 0.0, 0.003000000026077032, 0.003999999957159162, 0.0030000002589076757, 0.00699999975040555, 0.0009999999310821295, 0.014999999897554517, 0.01600000006146729, 0.01600000006146729, 0.003999999957159162, 0.0, 0.0009999999310821295, -0.003999999957159162, 0.010999999940395355, -0.003999999957159162, 0.003999999724328518, 0.0009999999310821295, -0.001999999862164259, -0.0009999999310821295, 0.0009999999310821295, 0.010000000009313226, 0.014999999897554517, 0.006999999983236194, 0.0020000000949949026, 0.006000000052154064, 0.001999999862164259, 0.001999999862164259, 0.004000000189989805, 0.0020000003278255463, 0.010999999940395355, 0.004999999888241291, -0.0029999997932463884, -0.003999999957159162, -0.004999999888241291, -0.003999999724328518, -0.003999999957159162, -0.003000000026077032, -0.001999999862164259, -0.001999999862164259, -0.001999999862164259, -0.0020000003278255463, -0.0020000000949949026, -0.0009999999310821295, 0.0, -0.0009999999310821295, -0.024999999906867743, 0.0009999999310821295, 0.0009999999310821295, 0.001999999862164259, 0.0020000000949949026, 0.0009999999310821295, 0.0, 0.0009999999310821295, 0.0, 0.0009999999310821295, 0.0010000001639127731, 0.008000000147148967, 0.01799999992363155, 0.019000000087544322, 0.013000000268220901, 0.02399999974295497, 0.0030000002589076757, 0.008000000147148967, 0.003999999957159162, 0.023999999975785613, 0.05099999997764826, 0.030999999959021807, 0.009000000078231096, 0.023000000277534127, 0.015999999828636646, 0.017000000225380063, 0.047999999951571226, 0.015999999828636646, 0.01899999985471368, 0.0009999999310821295, 0.02099999994970858, 0.022000000113621354, 0.0044999998062849045, 0.010000000009313226, 0.02000000001862645, -0.0009999999310821295, -0.0009999999310821295, 0.026999999769032, -0.0010000001639127731, 0.027999999932944775, -0.006000000284984708, 0.009999999776482582, 0.010999999940395355, 0.013999999966472387, 0.003999999724328518, -0.0009999999310821295, 0.007000000216066837, 0.0, 0.0059999998193234205, 0.0010000003967434168, 0.0, 0.001999999862164259, 0.0009999999310821295, -0.001999999862164259, 0.006000000052154064, -0.003000000026077032, -0.0029999997932463884, 0.0009999999310821295, 0.001999999862164259, 0.0009999999310821295, 0.02700000023469329, 0.010999999940395355, 0.0009999999310821295, 0.013999999966472387, 0.003999999957159162, 0.005000000121071935, 0.0059999998193234205, -0.003999999724328518, -0.0009999999310821295, -0.0009999999310821295, 0.012000000104308128, 0.0, -0.0010000001639127731, -0.001999999862164259, -0.005000000121071935, -0.005000000121071935, -0.001999999862164259, -0.0009999999310821295, -0.0009999999310821295, 0.004000000189989805, 0.0009999999310821295, 0.0009999999310821295, 0.0009999999310821295, 0.003999999724328518, -0.008999999845400453, 0.0059999998193234205, 0.0009999999310821295, 0.008000000147148967, 0.01500000013038516, 0.003000000026077032, 0.0009999999310821295, 0.006000000052154064, 0.010000000009313226, 0.025999999837949872, 0.02299999981187284, 0.017999999690800905, 0.0, 0.012999999802559614, -0.010999999940395355, 0.014999999897554517, 0.029000000096857548, 0.01699999999254942, 0.006000000052154064, -0.010000000009313226, 0.004999999888241291, 0.004000000189989805, 0.0, 0.0, -0.00699999975040555, -0.007000000216066837, 0.003000000026077032, 0.0, -0.0029999997932463884, -0.001999999862164259, 0.005000000121071935, 0.007000000216066837, 0.0020000003278255463, -0.006000000284984708, -0.006000000052154064, -0.008000000147148967, -0.004999999888241291, -0.008000000147148967, 0.02099999994970858, 0.02199999988079071, 0.02199999988079071, 0.014000000199303031, 0.001999999862164259, 0.0, 0.0020000003278255463, 0.009000000078231096, 0.02199999988079071, 0.01600000006146729, 0.010000000009313226, 0.0020000000949949026, -0.001999999862164259, 0.00699999975040555, 0.006000000052154064, 0.0, 0.0, -0.0010000003967434168, -0.001999999862164259, 0.0009999999310821295, 0.0, -0.0009999999310821295, 0.0, 0.013999999966472387, 0.004999999888241291, 0.0, 0.0, 0.010000000009313226, 0.0009999999310821295, -0.014000000199303031, 0.0010000001639127731, -0.010999999940395355, -0.018000000156462193, -0.013000000268220901, 0.0, 0.0, -0.0009999999310821295, -0.0030000002589076757, -0.0029999997932463884, -0.001999999862164259, -0.003000000026077032, -0.001999999862164259, -0.0030000002589076757, -0.0029999997932463884, -0.0029999997932463884, -0.0020000000949949026, -0.0030000002589076757, -0.001999999862164259, -0.001999999862164259, -0.001999999862164259, -0.0020000003278255463, -0.001999999862164259, -0.0010000001639127731, 0.0010000003967434168, -0.0020000000949949026, -0.0029999997932463884, -0.003000000026077032, -0.0029999997932463884, -0.0029999997932463884, -0.0029999997932463884, -0.003000000026077032, -0.0029999997932463884, -0.0029999997932463884, -0.0020000000949949026, -0.0020000000949949026, -0.0020000000949949026, -0.0020000000949949026, -0.0020000003278255463, -0.001999999862164259, -0.003000000026077032, -0.0029999997932463884, -0.0009999999310821295, -0.0009999999310821295, 0.0009999999310821295, 0.001999999862164259, 0.0009999999310821295, 0.003000000026077032, -0.0009999999310821295, 0.0, 0.009000000078231096, 0.0020000003278255463, 0.0009999999310821295, 0.0010000003967434168, 0.0, 0.0020000003278255463, 0.0, -0.003000000026077032, 0.0, -0.0009999999310821295, 0.0009999999310821295, 0.008000000147148967, 0.008000000147148967, 0.0, -0.0009999999310821295, 0.0, 0.0009999999310821295, 0.0029999997932463884, 0.0009999999310821295], \"v\": [-0.03900000033900142, -0.013999999966472387, 0.07707691984251142, -0.013000000268220901, -0.018000000156462193, -0.019000000320374966, -0.03505000006407499, -0.01066667027771473, -0.02000000001862645, -0.02673736959695816, -0.027181820012629032, -0.01810909016057849, -0.024712129961699247, -0.024818179663270712, -0.02027272991836071, -0.024666659999638796, -0.013625000137835741, -0.011500000488013029, 0.0, 0.0, 0.0, 0.0, 0.0, 0.0009999996982514858, 0.0, -0.0043333303183317184, -0.006000000052154064, -0.006000000052154064, -0.010999999940395355, -0.009999999776482582, -0.007999999448657036, -0.0010000001639127731, 0.0, -0.04906666977331042, -0.005499999970197678, -0.007000000216066837, -0.011999999638646841, -0.02899999963119626, -0.03399999998509884, -0.031000000424683094, -0.03902564011514187, -0.04215383995324373, -0.02000000001862645, -0.005307690240442753, -0.014333339873701334, -0.007999999448657036, -0.007999999914318323, -0.007499999832361937, -0.00800000037997961, -0.03412821050733328, -0.01423077005892992, -0.00699999975040555, -0.007999999914318323, -0.006000000052154064, -0.006000000052154064, -0.007000000216066837, -0.010937499813735485, -0.036869569681584835, -0.043000000063329935, -0.0400000000372529, -0.03235714044421911, -0.026285710278898478, -0.029000000096857548, -0.01500000013038516, -0.038783779833465815, -0.03700000001117587, -0.004999999888241291, -0.005400000140070915, -0.005799999460577965, -0.004999999888241291, -0.029999999795109034, -0.023400000296533108, -0.023000000044703484, -0.029999999795109034, -0.03902563964948058, -0.005500000435858965, -0.014000000432133675, 0.021499999798834324, -0.00570000009611249, -0.002399999648332596, -0.0018571396358311176, -0.001999999862164259, -0.038891890086233616, -0.03348648967221379, -0.05450000008568168, -0.014538459945470095, -0.043189190328121185, -0.042027030140161514, -0.024750000331550837, -0.013999999966472387, -0.016809530090540648, -0.04266667040064931, 0.0, -0.0032500000670552254, -0.006808509584516287, -0.007404259871691465, -0.004191489890217781, -0.006270830053836107, -0.0020638303831219673, -0.026999999769032, -0.02438461035490036, -0.02766667027026415, -0.024000000674277544, -0.031700000166893005, -0.03769999975338578, 0.0, -0.04199999989941716, -0.03547058952972293, -0.003164710011333227, -0.03476470988243818, -0.03239214979112148, -0.024852939881384373, -0.026374999899417162, -0.030499999411404133, -0.030545460060238838, -0.031000000424683094, -0.034999999683350325, -0.03249999973922968, -0.0346666700206697, -0.030142860021442175, -0.0400000000372529, -0.0021379301324486732, -0.03928571008145809, -0.03521429002285004, 0.00699999975040555, -0.028000000398606062, 0.0060000005178153515, -0.013000000268220901, -0.004000000189989805, -0.015250000637024641, 0.004000000189989805, -0.0023833299055695534, 0.07076667016372085, 0.00699999975040555, 0.008750000037252903, -0.036000000312924385, -0.03500000014901161, -0.032999999821186066, 0.014999999664723873, -0.02685713954269886, -0.028428570367395878, 0.003000000026077032, 0.003999999724328518, 0.0025833300314843655, 0.0008666696958243847, 0.0021666698157787323, -0.0013076900504529476, 0.0013153799809515476, -0.0008557699620723724, 0.003769229631870985, 0.00010989001020789146, -0.010999999940395355, -0.004762629978358746, -0.0033333301544189453, -0.005999999586492777, 0.007000000216066837, 0.006000000052154064, 0.006000000052154064, 0.04040000028908253, 0.0044999998062849045, 0.0044999998062849045, 0.006590910255908966, 0.005800000391900539, 0.0061538503505289555, -0.0037142899818718433, 0.007666670251637697, 0.0060000005178153515, 0.006400000303983688, 0.008800000417977571, 0.003000000026077032, 0.0060000005178153515, 0.005499999970197678, 0.005499999970197678, 0.001999999862164259, 0.0014999997802078724, 0.0012000002898275852, -0.00022666994482278824, -0.024642860051244497, 0.0, 0.0, -0.023923079948872328, -0.0206666705198586, 0.001305560115724802, -0.024222220294177532, -0.0061818198300898075, -0.004999999888241291, -0.026666670106351376, -0.008125000167638063, 0.001057140063494444, -0.00912499986588955, -0.01487499987706542, -0.004428569693118334, -0.007071429863572121, -0.0053714304231107235, -0.0037499996833503246, -0.029000000562518835, -0.028000000398606062, -0.03000000026077032, -0.028499999549239874, -0.02899999963119626, -0.028000000398606062, -0.0015784897841513157, 0.0006999997422099113, 0.00699999975040555, -0.001999999862164259, -0.002333329990506172, -0.001199999824166298, -0.0011666701175272465, 0.0014444398693740368, 0.00857143010944128, -0.0008571394719183445, 0.0009000003337860107, 0.002619040198624134, 0.0005714301951229572, 0.0017571402713656425, 0.008874999824911356, 0.011049999855458736, 0.002950000111013651, 0.00271428981795907, -0.003599999938160181, 0.0034761899150907993, 0.0, 0.0029761902987957, -0.007309529930353165, -0.004000000189989805, -0.008166669867932796, -0.007499999832361937, -0.008999999612569809, 0.0010000001639127731, -0.004466670099645853, -0.007999999448657036, -0.0139999995008111, 0.027249999810010195, 0.000380959827452898, 7.143011316657066e-05, 4.761992022395134e-05, -0.000380959827452898, 7.143011316657066e-05, -0.0009999996982514858, 0.001857140101492405, -0.0009285700507462025, -0.0007666698656976223, -0.0005952399224042892, -0.00014285976067185402, 0.0, 0.0, 0.000599999912083149, 0.0001904703676700592, -0.00030952971428632736, 0.0, -0.0015000002458691597, -0.002666669897735119, 0.0010000001639127731, -0.001999999862164259, 0.001999999862164259, 0.0, 0.0010000006295740604, 0.00016666995361447334, -0.009833329357206821, -0.008500000461935997, -0.0010952400043606758, -0.011166670359671116, 0.0, -0.00699999975040555, -0.008999999612569809, 0.0, 0.001999999862164259, -0.0010000001639127731, -0.00699999975040555, -0.013999999966472387, 0.0010000001639127731, -0.001999999862164259, 0.0, 0.001999999862164259, 0.0009999996982514858, 0.0009999996982514858, 0.0, -0.003000000026077032, -0.0009999996982514858, -0.001999999862164259, -0.005000000353902578, 0.0010000001639127731, -0.001999999862164259, 0.001999999862164259, 0.0010000001639127731, -0.02000000001862645, -0.024000000208616257, -0.02199999988079071, -0.015999999828636646, -0.010999999940395355, -0.01000000024214387, -0.004000000189989805, 0.0, -0.001999999862164259, -0.007000000681728125, -0.004999999888241291, -0.001999999862164259, -0.005999999586492777, -0.001999999862164259, -0.006000000052154064, -0.001999999862164259, 0.0, -0.0010000001639127731, -0.004999999888241291, -0.0010000001639127731, -0.003000000026077032, -0.0009999992325901985, -0.003000000026077032, 0.001999999862164259, 0.003000000026077032, 0.001999999862164259, 0.004000000189989805, 0.004000000189989805, 0.0009999996982514858, -0.015999999828636646, -0.013999999966472387, -0.016000000294297934, 0.013999999966472387, 0.0, 0.0, 0.00800000037997961, 0.003999999724328518, -0.007000000216066837, 0.001999999862164259, -0.01699999999254942, 0.008999999612569809, -0.0359999998472631, -0.004000000189989805, -0.0010000001639127731, 0.003000000026077032, -0.004999999888241291, 0.0010000001639127731, 0.0, 0.0010000001639127731, -0.01500000013038516, -0.028000000398606062, -0.004999999888241291, -0.004999999888241291, -0.005999999586492777, -0.005999999586492777, -0.009999999776482582, -0.004999999888241291, 0.08399999979883432, 0.0, -0.0010000001639127731, 0.0, -0.005000000353902578, 0.00699999975040555, -0.018000000156462193, 0.006000000052154064, 0.001999999862164259, 0.0020000003278255463, 0.001999999862164259, 0.001999999862164259, 0.0020000003278255463, 0.0010000001639127731, 0.0010000001639127731, -0.015999999828636646, -0.028000000398606062, 0.0, -0.003000000026077032, -0.001999999862164259, 0.029999999795109034, 0.0, -0.0010000001639127731, 0.0, -0.019000000320374966, 0.004999999888241291, -0.012999999802559614, -0.004999999888241291, -0.0030000004917383194, 0.007000000216066837, -0.003000000026077032, 0.001999999862164259, 0.0, -0.13100000051781535, -0.018000000156462193, -0.02899999963119626, -0.024999999906867743, -0.023000000044703484, -0.001999999862164259, -0.003999999724328518, -0.004999999888241291, 0.0, 0.054999999701976776, 0.0, -0.0009999996982514858, -0.009000000543892384, 0.0, -0.00800000037997961, 0.003000000026077032, 0.0, -0.001999999862164259, 0.0, 0.0010000001639127731, -0.01699999999254942, 0.0, -0.01699999999254942, -0.014999999664723873, -0.012999999336898327, 0.0010000001639127731, 0.0, 0.0009999996982514858, 0.004999999888241291, -0.0009999996982514858, 0.0, -0.003999999724328518, 0.0, 0.001999999862164259, -0.0029999995604157448, -0.0020000003278255463, -0.001999999862164259, 0.0, 0.0, 0.001999999862164259, 0.003000000026077032, -0.003999999724328518, -0.01000000024214387, -0.012000000104308128, -0.0030000004917383194, -0.008999999612569809, -0.014000000432133675, 0.0029999995604157448, 0.004000000189989805, 0.004999999888241291, 0.004999999888241291, 0.005999999586492777, 0.004999999888241291, 0.003999999724328518, 0.003999999724328518, 0.003000000026077032, 0.003999999724328518, 0.003999999724328518, 0.0010000001639127731, 0.0010000001639127731, 0.003000000026077032, 0.006000000052154064, 0.003000000026077032, 0.0010000001639127731, 0.0, 0.003000000026077032, 0.0020000003278255463, 0.001999999862164259, 0.003000000026077032, 0.0, 0.0009999996982514858, 0.0020000003278255463, -0.026999999769032, -0.049000000115484, -0.04500000039115548, -0.043000000063329935, -0.0409999992698431, -0.014000000432133675, -0.04399999976158142, -0.04200000083073974, -0.04199999989941716, -0.03900000033900142, -0.049000000115484, -0.02199999988079071, -0.04199999989941716, -0.013999999966472387, -0.03500000014901161, -0.024999999906867743, -0.03500000014901161, -0.016999999526888132, -0.0009999996982514858, -0.011000000406056643, -0.03099999949336052, 0.0, -0.004999999888241291, -0.01500000013038516, 0.0, -0.0010000001639127731, -0.05599999940022826, -0.0029999995604157448, -0.05599999986588955, -0.0060000005178153515, -0.031000000424683094, -0.02899999963119626, -0.03000000026077032, 0.003000000026077032, -0.0009999992325901985, -0.02500000037252903, -0.004000000189989805, -0.02399999974295497, 0.0010000001639127731, 0.0, 0.02199999988079071, -0.001999999862164259, -0.0029999995604157448, -0.0040000006556510925, -0.016999999526888132, 0.0009999996982514858, -0.001999999862164259, -0.0009999996982514858, -0.012999999802559614, -0.03700000001117587, -0.00699999975040555, -0.02399999974295497, -0.022499999962747097, -0.024999999906867743, -0.029000000562518835, -0.029999999795109034, 0.0, 0.0009999996982514858, 0.0, 0.032999999821186066, 0.0, 0.0, -0.0020000003278255463, -0.0010000001639127731, 0.0, -0.001999999862164259, -0.001999999862164259, -0.0029999995604157448, -0.028000000398606062, -0.006000000052154064, -0.005999999586492777, -0.003000000026077032, -0.003999999724328518, -0.007000000216066837, -0.010999999474734068, -0.004999999888241291, -0.003999999724328518, -0.007000000681728125, -0.001999999862164259, -0.003000000026077032, -0.003999999724328518, -0.0040000006556510925, -0.03799999924376607, -0.04600000008940697, -0.04699999978765845, 0.0, -0.015999999828636646, 0.001999999862164259, -0.003999999724328518, -0.01000000024214387, -0.04399999976158142, -0.030999999959021807, 0.0, -0.02899999963119626, -0.03399999998509884, 0.0, 0.0, -0.024000000674277544, -0.023000000044703484, -0.03799999924376607, -0.0029999995604157448, 0.001999999862164259, -0.0009999992325901985, -0.013999999966472387, -0.021000000182539225, -0.00800000037997961, -0.01699999999254942, -0.032999999821186066, 0.001999999862164259, -0.005000000353902578, -0.003000000026077032, -0.03500000014901161, -0.02899999963119626, -0.009999999776482582, -0.004000000189989805, 0.0, -0.03300000028684735, -0.02199999988079071, -0.021000000182539225, -0.030999999959021807, -0.001999999862164259, -0.0009999996982514858, 0.003999999724328518, 0.0010000006295740604, -0.03200000012293458, -0.03000000026077032, -0.003000000026077032, -0.001999999862164259, 0.0, -0.0010000001639127731, -0.003000000026077032, -0.003000000026077032, -0.0009999992325901985, 0.0, -0.011000000406056643, -0.009999999776482582, 0.0, 0.0010000001639127731, -0.03200000058859587, 0.0, -0.0010000001639127731, 0.0009999992325901985, -0.001999999862164259, -0.004000000189989805, 0.0, 0.0, 0.0, 0.001999999862164259, 0.0010000001639127731, 0.0020000003278255463, 0.0010000001639127731, 0.0020000003278255463, 0.0010000001639127731, 0.001999999862164259, 0.0020000003278255463, 0.001999999862164259, 0.0020000003278255463, 0.0009999996982514858, 0.0009999996982514858, 0.0020000007934868336, 0.0020000003278255463, 0.0010000006295740604, 0.001999999862164259, 0.0009999996982514858, 0.003000000026077032, 0.0009999996982514858, 0.001999999862164259, 0.001999999862164259, 0.0009999996982514858, 0.0009999996982514858, 0.0010000001639127731, 0.0010000001639127731, 0.0009999992325901985, 0.001999999862164259, 0.001999999862164259, 0.0020000003278255463, 0.001999999862164259, 0.0009999996982514858, -0.0009999996982514858, 0.0, 0.0009999996982514858, 0.0010000001639127731, 0.0010000006295740604, -0.0010000001639127731, -0.00699999975040555, -0.02000000001862645, -0.028000000398606062, -0.029000000096857548, 0.001999999862164259, 0.001999999862164259, -0.009999999776482582, -0.003999999724328518, -0.003999999724328518, 0.0, -0.008999999612569809, -0.012000000569969416, -0.003000000026077032, -0.004000000189989805, -0.004000000189989805, -0.001999999862164259, -0.009000000543892384, -0.011999999638646841, -0.02300000051036477, -0.018000000156462193, -0.041000000201165676, -0.01699999999254942, -0.01699999999254942, -0.01500000013038516, -0.015999999828636646], \"w\": [-0.033999999999991815, -0.012999999999976808, -0.01780769230799706, -0.018000000000000682, -0.01700000000002433, -0.02400000000000091, -0.03499999999999659, -0.0030000000000143245, -0.017266666666998276, -0.011762626262012077, -0.01100000000000989, -0.00889090909099366, -0.009909090909005158, -0.009090909090986088, -0.009000000000000341, -0.020999999999986585, -0.016250000000013642, -0.0005000000000165983, 0.0, 0.0010000000000047748, 0.0, -0.0005000000000023874, -0.0010000000000047748, -0.0010000000000047748, 0.0, -0.0020000000000095497, -0.007000000000005002, -0.007000000000005002, -0.010000000000019327, -0.009000000000014552, -0.00899999999998613, 0.0, 0.0010000000000047748, -0.02199999999999136, -0.007000000000005002, -0.01300000000000523, -0.01300000000000523, -0.014000000000010004, -0.015999999999991132, -0.02600000000001046, -0.026025641025995583, -0.025025641025990808, -0.023000000000024556, -0.009999999999990905, -0.018999999999977035, -0.009900000000016007, -0.01500000000001478, -0.01500000000001478, -0.014624999999995225, -0.026435897436016376, -0.002999999999985903, -0.009999999999990905, -0.014000000000010004, -0.01300000000000523, -0.014076923076970616, -0.015999999999991132, -0.013999999999981583, -0.015999999999991132, -0.01785714285699669, -0.010874999999998636, -0.022999999999996135, -0.022071428570995977, -0.022999999999996135, -0.019000000000005457, -0.025000000000005684, -0.016000000000019554, -0.008000000000009777, -0.008199999999987995, -0.011400000000008959, -0.014000000000010004, -0.01500000000001478, -0.007499999999993179, -0.007000000000005002, -0.015999999999991132, -0.025051282050981172, 0.0, -0.004000000000019099, -0.0006666666670014365, -0.0015000000000071623, 0.0002000000000066393, 0.0, 0.000999999999990564, -0.019999999999015472, -0.034270270270013725, -0.01660000000001105, -0.012882783883014781, -0.04689189189198828, -0.06827027027000554, -0.02199999999999136, -0.020000000000010232, -0.01666666666702099, -0.017333333332999246, 0.0, 0.0010000000000047748, 0.0040212765960063734, 0.0025531914889995733, 0.0010212765959636272, 0.0010416666670209906, 0.0003829787229960857, -0.013999999999981583, -0.017461538460992188, -0.01633333333299447, -0.02200000000001978, -0.021100000000018326, -0.018900000000002137, -0.0010999999999796728, -0.0161250000000166, -0.0179779411760137, -0.0017470588240087181, -0.013470588235009018, -0.020215686274013933, -0.021764705882020507, -0.011500000000012278, -0.013599999999996726, -0.01886363636398869, -0.021500000000003183, -0.02400000000000091, -0.024500000000017508, -0.02238333333301057, -0.022952380952006024, -0.03392857142799244, -0.003500000000002501, -0.026999999999986812, -0.026928571429010617, -0.003999999999990678, -0.0215714285710078, 0.0, -0.012000000000000455, -0.01099999999999568, -0.007999999999995566, -0.0049999999999954525, 0.0, -0.029816666667002778, 0.00016666666701325994, 0.0006666666669872257, -0.0297647058829682, -0.030000000000001137, -0.030954545453994342, -0.050499999999999545, -0.02085714285698259, -0.021857142857015788, -0.0015000000000071623, -0.0020000000000095497, 0.0, 0.0005999999999914962, 0.0006666666669872257, 0.0010897435900005803, 0.0008000000000123464, -0.000125000000011255, -0.0009230769230157421, -0.0005714285709927935, -0.014000000000038426, -0.012090909091000412, 0.0013333333329939023, 0.0, 0.0020000000000095497, 0.0020000000000095497, -0.0009999999999763531, -0.07679999999999154, 0.0010000000000047748, 0.002999999999985903, 0.0010909090909763108, 0.0017749999999807642, -0.0010000000000047748, -0.0324081632649893, 0.0006666666670014365, 0.0013333333330081132, -0.0008000000000265572, 0.001999999999981128, 0.0009999999999763531, 0.0009999999999763531, 0.0010000000000047748, 0.0009999999999763531, -0.0010000000000047748, 0.0, -0.0002000000000066393, -0.0007933333330072401, -0.02400000000000091, 0.0010000000000047748, 0.0010000000000047748, -0.019000000000005457, -0.018000000000000682, 0.0010000000000047748, -0.011666666667011327, -0.020636363636015176, -0.018000000000000682, -0.01722222222201708, -0.0028749999999888587, 0.00041428571401525005, -0.008750000000020464, -0.01300000000000523, -0.0022857142859891155, -0.006714285713997015, -0.0015714285709975684, -0.0020000000000095497, -0.020000000000010232, -0.020999999999986585, -0.02199999999999136, -0.022999999999996135, -0.022500000000007958, -0.02400000000000091, -0.013822674419003533, 0.0, -0.02599999999999625, 0.0009999999999763531, 0.000999999999990564, 0.0010000000000047748, 0.0005000000000023874, 0.00022222222199275166, -0.0027619047620106585, -0.0020000000000095497, 0.0010000000000047748, -0.0005714285709927935, -0.003428571429012095, -0.0010000000000047748, -0.003333333332989241, -0.0015250000000008868, 0.0, 0.0010000000000047748, -0.019400000000018736, -0.0013333333329939023, 0.0015000000000071623, 0.0, -0.0049999999999954525, -0.0071666666669898405, -0.007999999999995566, -0.007666666667006439, -0.007999999999995566, -0.005000000000009663, -0.003166666666686524, -0.004000000000019099, -0.006000000000000227, -0.010000000000005116, 0.0009999999999763531, 0.0010000000000047748, 0.0, 0.0010000000000047748, 0.0005476190469835274, 0.0011428571430087686, 7.142857100461697e-05, 0.0010000000000047748, 0.0008666666670080758, 0.0, 0.0011428571430087686, 0.00033333333300333834, 0.0012000000000114142, 0.00010000000000331966, 0.0010714285710093918, 0.0008333333329915149, 0.0010000000000047748, -0.0030000000000001137, -0.0030000000000143245, -0.0030000000000143245, -0.0020000000000095497, -0.003999999999990678, -0.001999999999995339, 0.0, 0.0, -0.0049999999999954525, -0.003999999999990678, -0.0040000000000048885, -0.0018333333329962898, 0.0, -0.0049999999999954525, -0.000999999999990564, -0.0020000000000095497, -0.0020000000000095497, -0.0049999999999954525, -0.0020000000000095497, -0.004000000000019099, -0.0010000000000047748, -0.001999999999995339, 0.0010000000000047748, -0.001999999999995339, -0.000999999999990564, -0.0030000000000143245, -0.0020000000000095497, 0.0, -0.0049999999999954525, -0.0020000000000095497, -0.0010000000000047748, 0.0, -0.0030000000000143245, -0.0030000000000143245, -0.001999999999981128, -0.0049999999999954525, -0.006000000000000227, -0.006000000000000227, -0.003999999999990678, -0.0049999999999954525, -0.0010000000000047748, -0.0030000000000001137, -0.002999999999985903, 0.0, -0.0030000000000001137, -0.0020000000000095497, 0.0, -0.0010000000000047748, 0.0, 0.0, 0.0010000000000047748, 0.000999999999990564, 0.0010000000000047748, 0.0020000000000095497, 0.0020000000000095497, 0.003999999999990678, 0.0030000000000143245, 0.0030000000000143245, 0.0010000000000047748, 0.0020000000000095497, -0.0010000000000047748, 0.0020000000000095497, 0.001999999999995339, 0.0, -0.002999999999985903, -0.003999999999990678, -0.0049999999999954525, -0.0010000000000047748, 0.0, 0.0, 0.0, 0.004000000000019099, 0.0030000000000001137, 0.0, -0.006000000000000227, -0.0020000000000095497, -0.0049999999999954525, -0.0049999999999954525, 0.006000000000000227, -0.001999999999995339, -0.0030000000000143245, 0.0010000000000047748, 0.0020000000000095497, -0.001999999999995339, -0.003999999999990678, -0.010000000000005116, -0.003999999999990678, -0.001999999999995339, -0.002999999999985903, -0.0030000000000001137, 0.03999999999999204, -0.017000000000010118, -0.07200000000001694, -0.0010000000000047748, 0.0010000000000047748, 0.001999999999995339, -0.003999999999990678, -0.002999999999985903, -0.0049999999999954525, -0.0010000000000047748, -0.0030000000000001137, 0.0030000000000001137, -0.0040000000000048885, 0.025999999999982037, 0.0010000000000047748, 0.0, -0.000999999999990564, -0.0030000000000001137, -0.0020000000000095497, 0.0, -0.0010000000000047748, -0.0020000000000095497, -0.017000000000010118, -0.0010000000000047748, -0.0010000000000047748, 0.001999999999995339, -0.0049999999999954525, -0.001999999999995339, 0.0379999999999967, -0.0010000000000047748, -0.015999999999991132, -0.007000000000005002, -0.003999999999990678, -0.0049999999999954525, 0.0, 0.05299999999999727, -0.003999999999990678, -0.006999999999990791, -0.007000000000019213, -0.005000000000009663, -0.0010000000000047748, -0.007999999999995566, -0.00899999999998613, -0.0020000000000095497, -0.03999999999999204, -0.006000000000000227, 0.009000000000000341, -0.042999999999992156, 0.0, -0.001999999999995339, 0.0, 0.0, 0.0030000000000001137, 0.0010000000000047748, 0.001999999999995339, 0.0030000000000001137, 0.0010000000000047748, -0.0020000000000095497, -0.0020000000000095497, -0.0030000000000001137, 0.001999999999995339, 0.0, 0.0030000000000143245, -0.0010000000000047748, -0.0059999999999860165, -0.005000000000009663, -0.0010000000000047748, 0.0010000000000047748, -0.0030000000000001137, -0.001999999999995339, 0.0, -0.0040000000000048885, -0.001999999999981128, -0.0030000000000001137, 0.0, -0.0010000000000047748, -0.0010000000000047748, -0.0009999999999763531, -0.0010000000000047748, -0.0010000000000047748, 0.0, -0.006000000000000227, -0.002999999999985903, -0.0020000000000095497, -0.0030000000000143245, -0.0020000000000095497, -0.0020000000000095497, -0.002999999999985903, -0.0020000000000095497, -0.0020000000000095497, -0.0010000000000047748, -0.0010000000000047748, -0.0010000000000047748, -0.001999999999981128, -0.003999999999990678, -0.0020000000000095497, -0.007000000000005002, -0.0010000000000047748, 0.0, 0.0, -0.0010000000000047748, -0.0010000000000047748, -0.0010000000000047748, 0.0, 0.0, -0.0010000000000047748, -0.0010000000000047748, -0.020000000000010232, -0.03499999999999659, -0.03499999999999659, -0.020999999999986585, -0.03999999999999204, -0.01099999999999568, -0.054000000000002046, -0.08400000000000318, -0.03200000000001069, -0.03299999999998704, -0.04400000000001114, -0.022999999999996135, -0.05699999999998795, -0.033999999999991815, -0.09999999999999432, -0.036000000000001364, -0.033999999999991815, -0.033999999999991815, -0.021000000000015007, -0.019000000000005457, -0.03599999999997294, -0.002999999999985903, -0.011999999999972033, -0.03100000000000591, 0.0, 0.0010000000000047748, -0.057999999999992724, 0.0, -0.05299999999999727, -0.006000000000000227, -0.03300000000001546, -0.033999999999991815, -0.03499999999999659, 0.0020000000000095497, -0.004000000000019099, -0.016000000000019554, 0.0010000000000047748, -0.014999999999986358, 0.0010000000000047748, 0.0, -0.014999999999986358, -0.0010000000000047748, 0.006000000000000227, -0.010000000000019327, -0.01700000000002433, -0.0010000000000047748, -0.012000000000000455, -0.01500000000001478, -0.0030000000000143245, -0.020999999999986585, -0.00899999999998613, -0.02199999999999136, -0.021500000000003183, -0.019000000000005457, -0.016000000000019554, -0.02400000000000091, -0.0010000000000047748, 0.0, -0.001999999999981128, -0.0800000000000125, -0.0010000000000047748, -0.0010000000000047748, 0.0010000000000047748, -0.001999999999981128, -0.003999999999990678, 0.0010000000000047748, 0.0, -0.0010000000000047748, -0.015999999999991132, -0.014999999999986358, -0.01500000000001478, -0.014000000000010004, -0.01700000000002433, -0.009000000000014552, -0.008000000000009777, -0.016000000000019554, -0.020000000000010232, -0.020999999999986585, -0.013999999999981583, -0.014999999999986358, -0.01900000000003388, -0.018000000000029104, -0.020999999999986585, -0.02200000000001978, -0.022999999999996135, 0.0, -0.014499999999998181, -0.0030000000000143245, -0.01999999999998181, -0.018000000000000682, -0.02200000000001978, -0.01799999999997226, -0.003999999999990678, -0.025000000000005684, -0.019000000000005457, 0.0, 0.0, -0.02600000000001046, -0.026499999999998636, -0.028999999999996362, -0.0009999999999763531, -0.0010000000000047748, -0.0010000000000047748, -0.020999999999986585, -0.027000000000015234, -0.016999999999995907, -0.01300000000000523, -0.009999999999990905, -0.002999999999985903, -0.002999999999985903, 0.0020000000000095497, -0.01999999999998181, -0.016999999999995907, -0.018000000000000682, -0.016999999999995907, -0.01099999999999568, -0.020999999999986585, -0.009999999999990905, -0.007999999999981355, -0.019000000000005457, -0.018000000000000682, -0.015999999999991132, -0.0010000000000047748, -0.012000000000028876, -0.027999999999991587, -0.027000000000015234, 0.0010000000000047748, 0.0020000000000095497, -0.0049999999999954525, -0.0009999999999763531, 0.0010000000000047748, 0.0020000000000095497, -0.0010000000000047748, 0.0, -0.006000000000028649, -0.01300000000000523, 0.0, -0.0009999999999763531, -0.028999999999996362, 0.0, 0.0, 0.0010000000000047748, 0.0, 0.0010000000000047748, 0.0010000000000047748, 0.0, 0.0, 0.002999999999985903, -0.0010000000000047748, -0.000999999999990564, -0.001999999999995339, -0.001999999999995339, -0.0020000000000095497, -0.001999999999995339, 0.0, 0.0, 0.0, 0.0, 0.0, -0.0010000000000047748, -0.0010000000000047748, 0.0, -0.0009999999999763531, 0.0010000000000047748, 0.0010000000000047748, 0.0010000000000047748, 0.0, 0.0, 0.0, 0.0, 0.0, -0.0010000000000047748, 0.0, 0.0, 0.0010000000000047748, 0.0010000000000047748, 0.0, 0.0, -0.000999999999990564, -0.0010000000000047748, -0.0010000000000047748, -0.0010000000000047748, -0.0020000000000095497, -0.004000000000019099, -0.010000000000019327, -0.018000000000000682, -0.021000000000015007, -0.01500000000001478, -0.001999999999981128, -0.0010000000000047748, -0.01099999999999568, -0.006000000000000227, -0.0069999999999765805, -0.002999999999985903, -0.009000000000014552, -0.00899999999998613, 0.001999999999981128, -0.0030000000000143245, -0.003999999999990678, 0.0, -0.002999999999985903, -0.006000000000000227, -0.01500000000001478, -0.0049999999999954525, -0.0049999999999954525, -0.009999999999990905, -0.009999999999990905, -0.01099999999999568, -0.011000000000024102], \"x\": [2055322.26044898, 2055342.9189400002, 2055344.57523077, 2055341.59467961, 2055343.32005769, 2055339.66398413, 2055329.79601639, 2055252.1435, 2055254.27, 2055267.89272727, 2055269.83054545, 2055276.18418182, 2055278.43118182, 2055283.75045455, 2055286.11854545, 2055253.55733333, 2055244.4919999999, 2055235.44498333, 2055242.09733333, 2055366.1469999999, 2055359.5669999998, 2055359.53, 2055330.376, 2055330.616, 2055325.237, 2055373.53928571, 2055368.02515789, 2055363.81809023, 2055361.31810526, 2055344.371875, 2055345.83, 2055348.845, 2055362.937, 2055305.3811, 2055352.14525, 2055344.9019999998, 2055340.28, 2055329.0580000002, 2055318.378, 2055321.60808163, 2055317.99720513, 2055309.53397436, 2055333.55457088, 2055355.0790000001, 2055339.28491209, 2055346.0901, 2055346.13, 2055346.1519999998, 2055344.428, 2055317.41494872, 2055316.54096, 2055355.2340000002, 2055346.283, 2055346.237, 2055346.27684615, 2055344.4931, 2055340.458, 2055328.16404348, 2055316.61385714, 2055305.4440000001, 2055321.89495714, 2055328.29028571, 2055333.15112727, 2055339.32820027, 2055301.79604666, 2055327.83535537, 2055353.322, 2055353.3218, 2055346.303, 2055344.487, 2055328.175, 2055318.716, 2055304.9109999998, 2055293.174, 2055309.105, 2055375.052, 2055365.315, 2055358.035, 2055376.8648, 2055376.759, 2055378.596, 2055380.2704, 2055293.60293551, 2055314.83296139, 2055293.14870244, 2055309.54747436, 2055302.31618018, 2055296.89476448, 2055255.10475, 2055262.11117778, 2055279.14417647, 2055284.989, 2055316.906, 2055292.4309999999, 2055279.10621277, 2055276.62406383, 2055279.06087234, 2055276.615875, 2055279.06285106, 2055268.32080769, 2055262.52992308, 2055255.699, 2055262.09, 2055269.5368, 2055279.0479, 2055284.96495, 2055290.940875, 2055290.75341176, 2055284.95564706, 2055279.03152941, 2055269.61641176, 2055262.38470588, 2055290.47075, 2055279.0878, 2055252.78552364, 2055253.2395, 2055261.4952599998, 2055261.53323913, 2055269.38050952, 2055269.06395238, 2055288.21704116, 2055288.63920134, 2055277.87506302, 2055278.40519748, 2055379.465, 2055295.79871429, 2055379.975, 2055322.812875, 2055339.846, 2055342.914, 2055379.968, 2055380.27005, 2055369.705, 2055373.33291667, 2055378.77425, 2055331.22122255, 2055331.20444118, 2055331.02812805, 2055332.9492549, 2055323.72171429, 2055323.87871429, 2055252.87216667, 2055255.33233333, 2055260.99416667, 2055263.42016667, 2055268.80684615, 2055270.81484615, 2055276.11684615, 2055278.72984615, 2055284.24076923, 2055286.55869231, 2055244.49676923, 2055235.44466667, 2055242.736, 2055242.14, 2055320.18908021, 2055320.04710695, 2055320.08452941, 2055330.8474, 2055330.93212903, 2055330.89584767, 2055343.73318182, 2055343.766125, 2055343.63907692, 2055343.7664897998, 2055354.41166667, 2055354.3290000001, 2055354.398, 2055366.8004, 2055366.6409999998, 2055312.4294, 2055312.5869999998, 2055312.615, 2055303.8669999999, 2055304.0744, 2055304.0690000001, 2055302.5447799999, 2055254.24585714, 2055336.64157143, 2055340.25285714, 2055255.10361538, 2055262.16191667, 2055291.80211111, 2055350.9730000002, 2055243.83881818, 2055239.053, 2055255.399, 2055235.226125, 2055235.8857, 2055237.214875, 2055241.709, 2055235.45771429, 2055235.97442857, 2055235.22828571, 2055236.23, 2055252.78594444, 2055253.239, 2055261.495, 2055261.533, 2055269.3794, 2055269.41505555, 2055329.60223256, 2055318.13093333, 2055234.985, 2055237.894, 2055239.229, 2055237.6609999998, 2055239.138, 2055343.477, 2055344.55444444, 2055234.55485714, 2055232.1515, 2055234.40971429, 2055232.45271429, 2055237.29785714, 2055249.2769999998, 2055258.118, 2055267.102, 2055279.94157143, 2055271.4218, 2055245.74841429, 2055244.6940000001, 2055292.866, 2055341.13335714, 2055346.898, 2055346.9430000002, 2055346.737, 2055346.775, 2055324.53214286, 2055324.3268, 2055330.1819999998, 2055330.09142857, 2055363.356, 2055320.18914286, 2055320.04671429, 2055330.8469999998, 2055330.9330000002, 2055330.91621429, 2055343.72464286, 2055343.75557143, 2055354.4030000002, 2055354.3272, 2055354.38907143, 2055366.80171429, 2055366.636, 2055312.4422, 2055312.6005, 2055303.87392857, 2055304.08614286, 2055304.084, 2055366.885, 2055366.573, 2055374.4419999998, 2055366.573, 2055377.356, 2055378.793, 2055378.785, 2055344.632, 2055330.75028571, 2055335.53, 2055346.445, 2055346.42083333, 2055346.833, 2055346.88, 2055346.679, 2055324.639, 2055324.5219999999, 2055330.19, 2055330.112, 2055330.082, 2055341.946, 2055343.0690000001, 2055342.5869999998, 2055359.665, 2055359.744, 2055362.4840000002, 2055362.496, 2055362.459, 2055362.3369999998, 2055362.733, 2055362.705, 2055362.757, 2055309.0480000002, 2055309.053, 2055309.063, 2055296.3830000001, 2055305.485, 2055314.481, 2055330.32, 2055339.208, 2055341.031, 2055342.497, 2055346.4019999998, 2055357.0880000002, 2055367.8059999999, 2055374.239, 2055377.333, 2055377.664, 2055378.9230000002, 2055379.476, 2055379.979, 2055379.983, 2055379.956, 2055379.759, 2055380.0380000002, 2055379.751, 2055378.781, 2055371.374, 2055361.844, 2055346.158, 2055341.244, 2055329.701, 2055323.9780000001, 2055318.271, 2055278.233, 2055268.9640000002, 2055260.1619999998, 2055345.352, 2055340.459, 2055360.955, 2055292.8590000002, 2055292.9840000002, 2055293.034, 2055293.148, 2055341.09, 2055308.529, 2055323.626, 2055292.804, 2055378.6519999998, 2055344.767, 2055320.79, 2055293.804, 2055293.011, 2055344.392, 2055296.332, 2055305.668, 2055284.658, 2055284.658, 2055268.884, 2055260.119, 2055367.9309999999, 2055374.456, 2055379.996, 2055380.019, 2055379.96, 2055380.0259999998, 2055342.501, 2055346.414, 2055335.507, 2055346.3159999999, 2055348.928, 2055357.265, 2055345.054, 2055331.043, 2055323.626, 2055312.291, 2055293.657, 2055296.957, 2055305.73, 2055314.427, 2055377.32, 2055378.9019999998, 2055380.065, 2055379.971, 2055380.0269999998, 2055380.0980000002, 2055330.737, 2055335.5159999998, 2055366.889, 2055374.6830000002, 2055342.524, 2055346.481, 2055378.858, 2055380.086, 2055380.05, 2055380.0680000002, 2055296.876, 2055305.841, 2055314.74, 2055330.894, 2055378.814, 2055366.594, 2055374.9, 2055377.372, 2055378.856, 2055379.956, 2055379.9640000002, 2055377.882, 2055356.2580000001, 2055339.093, 2055346.56, 2055346.27, 2055293.01, 2055293.071, 2055293.1709999999, 2055314.86, 2055325.1430000002, 2055331.121, 2055335.274, 2055341.064, 2055292.771, 2055330.532, 2055310.138, 2055293.491, 2055363.386, 2055363.369, 2055366.7580000001, 2055364.675, 2055344.615, 2055356.11, 2055361.666, 2055342.394, 2055345.174, 2055346.533, 2055346.254, 2055346.265, 2055292.74, 2055292.045, 2055292.4519999998, 2055292.701, 2055296.774, 2055314.8290000001, 2055382.447, 2055380.71, 2055379.15, 2055378.4019999998, 2055377.106, 2055376.149, 2055371.001, 2055370.31, 2055366.0119999999, 2055362.3390000002, 2055359.995, 2055349.07, 2055348.185, 2055336.3669999999, 2055336.42, 2055324.761, 2055323.134, 2055318.594, 2055318.511, 2055324.4730000002, 2055326.573, 2055308.57, 2055307.79, 2055296.03, 2055297.132, 2055317.407, 2055301.784, 2055309.0969999998, 2055293.5869999998, 2055314.8080000002, 2055309.5369999998, 2055302.295, 2055296.874, 2055317.989, 2055309.534, 2055321.586, 2055327.822, 2055333.5359999998, 2055339.269, 2055321.886, 2055328.283, 2055333.1430000002, 2055339.313, 2055342.9130000002, 2055343.3180000002, 2055339.642, 2055344.59, 2055344.1630000002, 2055341.576, 2055339.741, 2055339.865, 2055329.78, 2055329.573, 2055322.237, 2055322.2130000002, 2055331.2230000002, 2055331.1909999999, 2055331.0219999999, 2055332.9430000002, 2055332.936, 2055329.332, 2055329.333, 2055329.381, 2055356.6719999998, 2055356.685, 2055356.8480000002, 2055356.826, 2055269.375, 2055344.755, 2055244.483, 2055363.822, 2055361.3190000001, 2055355.0790000001, 2055316.491, 2055327.771, 2055340.3480000002, 2055255.095, 2055262.146, 2055279.154, 2055277.878, 2055288.2030000002, 2055288.6269999999, 2055320.187, 2055320.045, 2055330.842, 2055330.929, 2055330.8930000002, 2055343.726, 2055343.7580000001, 2055343.757, 2055354.405, 2055354.32, 2055354.389, 2055278.409, 2055344.366, 2055345.824, 2055348.8390000002, 2055346.1230000001, 2055233.947, 2055241.77, 2055346.09, 2055346.1519999998, 2055344.428, 2055355.226, 2055346.274, 2055346.2280000001, 2055346.2680000002, 2055328.176, 2055316.6030000001, 2055305.4440000001, 2055244.486, 2055235.449, 2055244.486, 2055344.4840000002, 2055340.447, 2055305.372, 2055285.035, 2055262.3730000001, 2055284.9540000001, 2055290.9309999999, 2055257.136, 2055261.5669999998, 2055261.4919999999, 2055261.529, 2055277.866, 2055293.59, 2055366.801, 2055366.64, 2055243.855, 2055255.4019999998, 2055239.0669999998, 2055262.3730000001, 2055279.021, 2055269.604, 2055290.7419999999, 2055284.9440000001, 2055318.378, 2055329.0580000002, 2055340.28, 2055344.9019999998, 2055352.145, 2055293.174, 2055304.9109999998, 2055318.716, 2055328.175, 2055344.487, 2055346.303, 2055346.311, 2055353.322, 2055295.7980000002, 2055323.721, 2055366.658, 2055312.44, 2055312.5980000002, 2055312.626, 2055303.878, 2055304.084, 2055304.081, 2055233.2240000002, 2055235.227, 2055237.216, 2055241.71, 2055251.415, 2055323.7869999998, 2055378.1930000002, 2055379.155, 2055384.7319999998, 2055381.501, 2055380.615, 2055379.8080000002, 2055378.8930000002, 2055380.771, 2055262.38, 2055281.82, 2055291.4009999998, 2055300.6619999998, 2055308.635, 2055320.63, 2055329.8190000001, 2055286.852, 2055292.0559999999, 2055298.12, 2055297.655, 2055296.7719999999, 2055302.157, 2055306.855, 2055304.9440000001, 2055308.5259999998, 2055309.908, 2055313.8469999998, 2055317.198, 2055320.552, 2055325.408, 2055328.342, 2055331.4219999998, 2055328.5769999998, 2055326.918, 2055333.476, 2055335.917, 2055346.118, 2055350.629, 2055350.034, 2055346.168, 2055335.299, 2055326.2769999998, 2055322.884, 2055334.8069999998, 2055184.8, 2055207.331, 2055239.285, 2055257.269, 2055274.013, 2055285.281, 2055198.361, 2055198.0590000001, 2055218.92, 2055216.0369999998, 2055216.03, 2055206.4619999998, 2055269.253, 2055273.6809999999, 2055284.3180000002, 2055269.256, 2055273.6830000002, 2055257.2719999999, 2055297.36, 2055294.312, 2055330.4119999998, 2055325.624, 2055325.624, 2055325.229, 2055325.24, 2055326.959, 2055326.961], \"y\": [3179692.24002041, 3179722.4902, 3179713.86192308, 3179702.08153398, 3179713.80840385, 3179700.29389418, 3179694.77302268, 3179683.33966667, 3179683.568, 3179685.84418182, 3179685.86818182, 3179684.33090909, 3179684.29254546, 3179683.09781818, 3179683.14527273, 3179683.41033333, 3179683.392, 3179680.3735, 3179682.75816667, 3179690.1580000003, 3179690.209, 3179696.095, 3179663.818, 3179668.876, 3179664.042, 3179729.2010000004, 3179729.47584211, 3179729.48984211, 3179729.67910526, 3179728.501, 3179729.2789999996, 3179729.385, 3179729.2010000004, 3179681.45031667, 3179728.2405, 3179707.256, 3179694.4669999997, 3179690.9689999996, 3179686.639, 3179689.83402041, 3179688.33152564, 3179684.21015384, 3179694.6385677997, 3179728.38930769, 3179696.49333883, 3179728.314, 3179724.1769999997, 3179715.8985, 3179705.7460000003, 3179689.83812821, 3179685.99435077, 3179728.215, 3179728.195, 3179724.395, 3179715.863, 3179705.615, 3179694.6389375, 3179690.50486957, 3179685.861, 3179681.332, 3179689.58635714, 3179691.91028571, 3179693.6061697, 3179696.42113656, 3179684.17312086, 3179690.68712397, 3179728.1769999997, 3179728.1764, 3179716.0568, 3179705.5, 3179690.613, 3179686.7855, 3179681.185, 3179682.085, 3179685.07702564, 3179728.328, 3179728.378, 3179728.341, 3179724.3032, 3179727.6824, 3179716.2169999997, 3179698.3019999997, 3179684.56360817, 3179693.43286873, 3179678.9117439, 3179691.69653846, 3179692.24547374, 3179692.32088417, 3179684.95825, 3179686.4126, 3179685.32131933, 3179684.13816667, 3179662.542, 3179672.61375, 3179685.24780851, 3179685.77440426, 3179685.27919149, 3179685.73327083, 3179685.25606383, 3179685.655, 3179686.34438461, 3179685.0360000003, 3179686.0930000003, 3179686.8107, 3179685.3057, 3179684.1360000004, 3179683.03125, 3179683.02847059, 3179684.12376471, 3179685.27676471, 3179686.78605882, 3179686.45235294, 3179683.07025, 3179685.2789999996, 3179690.36600546, 3179689.8365, 3179689.9479799997, 3179689.41880435, 3179689.49845238, 3179689.06012771, 3179690.46663559, 3179690.3184735, 3179689.22218487, 3179688.57622269, 3179709.248, 3179706.865, 3179677.047, 3179684.015, 3179689.137, 3179694.31925, 3179687.992, 3179698.30205, 3179675.9669, 3179674.9280000003, 3179673.25575, 3179701.30870968, 3179701.27668984, 3179701.15091463, 3179708.62213726, 3179703.84785714, 3179703.83042857, 3179648.788, 3179648.8710000003, 3179648.81116667, 3179648.80733333, 3179648.39, 3179648.48230769, 3179648.74638462, 3179648.90223077, 3179649.17023077, 3179649.29846154, 3179683.394, 3179680.37294445, 3179675.998, 3179675.837, 3179649.77709091, 3179649.85033155, 3179649.88799465, 3179649.1406, 3179649.24298925, 3179649.19795161, 3179648.40590909, 3179648.4869999997, 3179648.52684615, 3179648.48671429, 3179650.52333333, 3179650.4669999997, 3179650.5086, 3179656.6892, 3179656.829, 3179650.2989999996, 3179650.2, 3179650.2260000003, 3179650.777, 3179650.7610000004, 3179650.78, 3179650.89156, 3179685.34914286, 3179657.289, 3179657.17, 3179684.95692308, 3179686.46466667, 3179651.91044444, 3179649.84422222, 3179683.07918182, 3179681.6319999998, 3179685.00666667, 3179670.822125, 3179678.4978, 3179680.027125, 3179681.719375, 3179671.22442857, 3179678.49657143, 3179670.37557143, 3179670.37175, 3179690.3660000004, 3179689.845, 3179689.9480000003, 3179689.4189999998, 3179689.497, 3179689.06, 3179649.21095349, 3179650.1318, 3179656.811, 3179666.563, 3179673.738, 3179666.295, 3179673.005, 3179648.78255556, 3179660.707, 3179648.61685714, 3179659.4905, 3179649.21871429, 3179659.03542857, 3179647.22514286, 3179648.110625, 3179648.30475, 3179648.19775, 3179648.70728571, 3179648.1862, 3179647.92785714, 3179647.811, 3179669.54885714, 3179680.04714286, 3179683.126, 3179682.7569999998, 3179683.34, 3179682.832, 3179667.14, 3179667.2048, 3179666.9189999998, 3179666.795, 3179714.2210000004, 3179649.77728571, 3179649.85242857, 3179649.14428571, 3179649.24271429, 3179649.18792857, 3179648.412, 3179648.49314286, 3179650.52792857, 3179650.4671, 3179650.51092857, 3179656.69114286, 3179656.828, 3179650.3060000003, 3179650.208, 3179650.78464286, 3179650.77314286, 3179650.78833333, 3179728.1580000003, 3179728.21, 3179728.144, 3179728.21, 3179722.748, 3179713.22, 3179670.8019999997, 3179648.486, 3179691.3039999995, 3179692.1980000003, 3179718.17342857, 3179718.5760000004, 3179683.1180000002, 3179682.749, 3179683.334, 3179667.1119999997, 3179667.14, 3179666.838, 3179666.895, 3179666.792, 3179666.012, 3179666.0, 3179665.894, 3179673.645, 3179673.793, 3179711.111, 3179711.025, 3179711.02, 3179714.4439999997, 3179689.0239999997, 3179689.244, 3179689.307, 3179667.0069999998, 3179667.083, 3179667.164, 3179681.421, 3179681.298, 3179684.854, 3179691.232, 3179693.755, 3179695.163, 3179699.336, 3179718.2169999997, 3179728.245, 3179728.1610000003, 3179728.203, 3179722.545, 3179720.5239999997, 3179712.943, 3179709.244, 3179705.8419999997, 3179693.164, 3179685.3060000003, 3179682.78, 3179679.208, 3179674.752, 3179670.7189999996, 3179659.828, 3179653.7860000003, 3179648.472, 3179648.775, 3179649.202, 3179649.534, 3179650.123, 3179685.2739999997, 3179686.369, 3179686.083, 3179708.898, 3179666.068, 3179675.557, 3179669.5539999995, 3179672.615, 3179676.309, 3179681.577, 3179679.97, 3179668.023, 3179683.216, 3179662.788, 3179706.393, 3179696.165, 3179687.133, 3179681.0069999998, 3179652.3210000005, 3179661.08, 3179681.42, 3179681.308, 3179683.7989999996, 3179683.8, 3179686.334, 3179685.957, 3179728.1119999997, 3179728.1969999997, 3179696.84, 3179693.175, 3179685.14, 3179679.1769999997, 3179699.3030000003, 3179718.558, 3179692.2, 3179727.58, 3179728.251, 3179651.341, 3179648.475, 3179649.276, 3179649.7139999997, 3179650.352, 3179651.397, 3179681.099, 3179681.202, 3179684.526, 3179722.787, 3179713.349, 3179705.04, 3179693.1569999997, 3179685.165, 3179679.24, 3179691.313, 3179692.202, 3179728.211, 3179728.252, 3179699.41, 3179718.5069999998, 3179713.142, 3179705.115, 3179685.3860000004, 3179679.64, 3179681.142, 3179681.352, 3179684.88, 3179691.308, 3179713.2630000003, 3179728.202, 3179728.153, 3179722.788, 3179713.474, 3179684.923, 3179679.539, 3179669.4310000003, 3179728.369, 3179693.682, 3179718.478, 3179727.7630000003, 3179672.547, 3179676.28, 3179681.462, 3179685.168, 3179689.481, 3179691.46, 3179692.2369999997, 3179695.1989999996, 3179662.765, 3179649.32, 3179650.473, 3179651.415, 3179710.942, 3179714.212, 3179728.272, 3179655.61, 3179648.481, 3179728.3639999996, 3179728.236, 3179699.352, 3179707.9839999997, 3179718.472, 3179727.887, 3179722.9439999997, 3179669.937, 3179672.224, 3179676.182, 3179681.7810000004, 3179681.375, 3179685.146, 3179666.966, 3179667.269, 3179664.416, 3179663.409, 3179659.106, 3179658.522, 3179652.995, 3179652.525, 3179649.503, 3179647.3260000004, 3179646.166, 3179643.847, 3179643.562, 3179643.623, 3179642.47, 3179645.039, 3179644.537, 3179644.0039999997, 3179644.628, 3179643.244, 3179644.027, 3179647.39, 3179645.317, 3179645.796, 3179645.689, 3179689.855, 3179684.186, 3179685.095, 3179684.57, 3179693.4469999997, 3179691.713, 3179692.247, 3179692.3210000005, 3179688.349, 3179684.256, 3179689.863, 3179692.15, 3179694.673, 3179696.5, 3179689.6010000003, 3179691.9510000004, 3179693.624, 3179696.4289999995, 3179722.499, 3179713.83, 3179700.317, 3179722.9480000003, 3179711.789, 3179702.0960000004, 3179700.6, 3179700.808, 3179694.8019999997, 3179694.7139999997, 3179692.264, 3179692.1610000003, 3179701.3310000002, 3179701.2819999997, 3179701.165, 3179708.619, 3179708.5939999996, 3179717.035, 3179717.001, 3179719.765, 3179718.127, 3179722.642, 3179718.085, 3179727.152, 3179689.5039999997, 3179714.1380000003, 3179683.403, 3179729.503, 3179729.692, 3179728.389, 3179685.961, 3179690.648, 3179694.645, 3179684.965, 3179686.465, 3179685.356, 3179689.2210000004, 3179690.4760000003, 3179690.328, 3179649.768, 3179649.8419999997, 3179649.137, 3179649.233, 3179649.186, 3179648.401, 3179648.483, 3179648.483, 3179650.519, 3179650.462, 3179650.5039999997, 3179688.5730000003, 3179728.501, 3179729.2789999996, 3179729.385, 3179724.1769999997, 3179688.9280000003, 3179690.1089999997, 3179728.314, 3179715.8989999997, 3179705.7460000003, 3179728.22, 3179728.2010000004, 3179724.4, 3179715.8680000002, 3179690.5089999996, 3179685.861, 3179681.332, 3179683.402, 3179680.367, 3179683.401, 3179705.619, 3179694.639, 3179681.454, 3179684.195, 3179686.459, 3179684.144, 3179683.039, 3179690.1539999996, 3179688.3605, 3179689.9460000005, 3179689.416, 3179689.2339999997, 3179684.559, 3179656.687, 3179656.8239999996, 3179683.082, 3179685.005, 3179681.637, 3179686.457, 3179685.2819999997, 3179686.79, 3179683.0330000003, 3179684.128, 3179686.639, 3179690.9689999996, 3179694.4669999997, 3179707.256, 3179728.2410000004, 3179682.085, 3179681.185, 3179686.785, 3179690.613, 3179705.5, 3179716.057, 3179727.58, 3179728.1769999997, 3179706.865, 3179703.848, 3179656.835, 3179650.2989999996, 3179650.202, 3179650.225, 3179650.777, 3179650.76, 3179650.7819999997, 3179662.433, 3179670.8230000003, 3179680.028, 3179681.72, 3179683.724, 3179703.8310000002, 3179727.0110000004, 3179719.0960000004, 3179687.1560000004, 3179704.672, 3179709.887, 3179714.7189999996, 3179719.363, 3179708.9710000004, 3179611.722, 3179611.84, 3179614.5039999997, 3179618.17, 3179617.334, 3179617.5069999998, 3179612.348, 3179623.0039999997, 3179622.512, 3179620.841, 3179622.3710000003, 3179623.486, 3179624.1789999995, 3179622.914, 3179626.3419999997, 3179618.923, 3179627.626, 3179634.355, 3179634.173, 3179633.91, 3179633.006, 3179626.8060000003, 3179622.2860000003, 3179622.567, 3179621.52, 3179621.8030000003, 3179622.6360000004, 3179627.403, 3179626.204, 3179625.963, 3179623.9760000003, 3179615.749, 3179616.4080000003, 3179618.443, 3179613.624, 3179684.28, 3179694.668, 3179701.483, 3179702.192, 3179704.4680000003, 3179703.327, 3179675.6769999997, 3179676.975, 3179681.4469999997, 3179680.855, 3179680.852, 3179681.2810000004, 3179708.79, 3179708.3060000003, 3179708.0719999997, 3179708.784, 3179708.298, 3179702.1739999996, 3179720.098, 3179722.587, 3179720.512, 3179725.4, 3179725.461, 3179716.37, 3179716.3680000002, 3179713.058, 3179713.057], \"z\": [149.329979591837, 145.7223, 141.951807692308, 142.35635922330098, 145.443230769231, 145.529804232804, 147.260912568306, 124.48100000000001, 124.4546, 126.756818181818, 126.76, 126.73909090909099, 126.734909090909, 126.841090909091, 126.855, 142.288333333333, 142.991, 140.851333333333, 141.16299999999998, 126.264, 126.26100000000001, 126.2505, 126.525, 126.52600000000001, 126.52, 125.215, 131.96447368421101, 131.955736842105, 138.88388421052602, 142.922, 142.09, 142.097, 125.196, 137.4991, 136.333, 136.601, 136.317, 136.53, 136.167, 146.638, 141.702025641026, 141.513025641026, 144.50199152542402, 137.523, 142.801032967033, 137.5259, 137.52, 137.525, 137.518625, 146.501435897436, 137.50996999999998, 133.001, 132.997, 133.092, 133.02807692307698, 133.076, 132.731, 132.825, 132.703857142857, 132.878875, 141.49292, 141.525571428571, 141.031690909091, 141.111070484581, 144.968677902622, 137.503950413223, 128.24, 128.2402, 129.3854, 128.96, 129.019, 128.69899999999998, 128.765, 128.725, 145.146051282051, 125.009, 125.01700000000001, 125.005, 123.331, 125.0258, 125.24, 126.79, 145.084986046511, 149.462806949807, 137.522990243902, 149.677025641026, 151.639436607339, 151.958444015444, 143.46625, 143.45184444444402, 143.461, 142.9755, 127.179, 126.22, 143.111978723404, 139.30444680851102, 137.53697872340402, 135.548958333333, 133.737617021277, 129.921, 130.139961538461, 130.12133333333298, 137.5, 137.4901, 137.5499, 137.70985, 137.620125, 132.125352941176, 131.953647058824, 135.918470588235, 135.751882352941, 137.584764705882, 129.965, 130.2266, 148.968663636364, 145.415, 149.57232, 145.680239130435, 150.088883333333, 146.643293290043, 151.211259079903, 149.53510738255, 150.669428571429, 146.43990336134502, 120.596, 155.240571428571, 127.54700000000001, 127.221, 127.208, 126.9, 127.117, 126.79, 127.18015, 127.191833333333, 127.223333333333, 153.72973705611298, 152.47285561497299, 149.952253325942, 153.57335294117598, 153.099857142857, 154.739857142857, 125.045, 125.01700000000001, 125.044, 125.04, 126.87200000000001, 126.877076923077, 126.838, 126.787, 126.94092307692301, 126.932, 142.99200000000002, 140.85, 120.296, 123.295, 138.111005347594, 135.206417112299, 132.218, 137.8438, 134.843897849462, 131.75660215053801, 138.096909090909, 132.095625, 129.075, 124.999408163265, 137.880333333333, 134.887666666667, 131.8788, 137.36, 134.36, 138.282, 135.15, 132.122, 137.944, 135.016, 131.7152, 127.79746000000002, 144.15, 127.94, 128.106, 143.466, 143.61, 126.225, 127.625666666667, 138.006636363636, 137.958, 137.689222222222, 133.679875, 133.6488, 133.39975, 133.62, 120.594285714286, 129.281714285714, 129.294571428571, 129.281, 148.969, 145.41899999999998, 149.572, 145.68, 150.088, 146.643, 125.782697674419, 126.116, 116.742, 116.74700000000001, 116.68, 109.76899999999999, 109.655, 127.223777777778, 127.178333333333, 127.7, 127.99799999999999, 120.37557142857099, 120.87200000000001, 127.729, 127.76799999999999, 127.923125, 128.142, 118.755, 118.9124, 121.639, 109.82, 107.639, 100.029, 119.698, 114.025, 106.626666666667, 99.854, 116.009, 98.228, 116.19200000000001, 105.39200000000001, 97.14200000000001, 138.132, 135.224, 137.85299999999998, 134.859, 131.840785714286, 138.105857142857, 132.107928571429, 137.891, 134.8948, 131.889, 137.361857142857, 134.369, 138.2978, 135.1635, 137.960928571429, 135.029, 131.728666666667, 109.899, 101.311, 116.53200000000001, 101.311, 101.02799999999999, 111.478, 124.088, 98.19, 114.219, 114.734, 117.708, 114.64983333333299, 119.676, 113.993, 106.583, 123.581, 116.0, 124.13799999999999, 116.17, 105.382, 120.211, 115.335, 103.779, 120.93299999999999, 106.23899999999999, 118.37700000000001, 113.145, 106.677, 113.23299999999999, 124.155, 115.756, 106.728, 122.171, 115.891, 107.89299999999999, 120.21799999999999, 119.964, 119.92, 119.713, 119.743, 119.71600000000001, 117.215, 117.68799999999999, 120.103, 119.962, 120.5, 121.007, 120.759, 121.164, 120.586, 121.01799999999999, 122.117, 122.23899999999999, 124.044, 122.249, 125.184, 124.064, 122.50299999999999, 122.97399999999999, 123.963, 125.14399999999999, 125.743, 126.012, 126.102, 115.56299999999999, 115.70299999999999, 115.67, 109.065, 114.96, 114.88799999999999, 107.635, 107.603, 107.492, 107.57, 114.11200000000001, 115.265, 114.005, 107.941, 124.58, 124.854, 125.23700000000001, 125.23299999999999, 125.23899999999999, 125.213, 117.475, 117.515, 112.07, 112.069, 111.92399999999999, 112.009, 116.93, 116.507, 115.56200000000001, 118.382, 118.39299999999999, 118.43, 114.779, 114.645, 115.041, 109.02, 108.839, 113.039, 113.51, 113.25200000000001, 113.465, 113.958, 113.47399999999999, 113.73, 113.87100000000001, 113.801, 115.435, 115.485, 114.876, 115.38600000000001, 115.329, 115.385, 114.214, 114.728, 109.866, 109.572, 109.338, 109.206, 109.54899999999999, 111.189, 111.652, 111.676, 110.445, 111.133, 111.385, 111.693, 111.436, 101.303, 100.836, 100.98200000000001, 101.064, 103.536, 103.56, 102.22, 101.564, 105.323, 102.48, 100.941, 103.085, 103.115, 103.411, 103.337, 103.86399999999999, 104.066, 104.20100000000001, 103.509, 102.977, 101.54799999999999, 101.868, 102.685, 101.05799999999999, 97.134, 95.85700000000001, 98.2, 98.185, 96.603, 96.104, 99.368, 99.359, 98.794, 97.351, 98.339, 98.0, 98.35799999999999, 98.57600000000001, 98.994, 98.84200000000001, 98.719, 129.51, 134.322, 134.86, 133.855, 133.983, 130.7, 133.863, 130.263, 132.17, 135.49, 131.92600000000002, 134.07299999999998, 131.976, 135.375, 131.678, 135.095, 137.53, 131.69, 136.525, 132.594, 130.664, 137.776, 131.41, 131.458, 133.881, 146.507, 144.975, 145.157, 145.082, 149.465, 149.683, 151.642, 151.97, 141.71, 141.515, 146.656, 145.668, 144.54, 142.811, 141.57299999999998, 141.532, 141.045, 141.12, 145.734, 145.455, 145.53799999999998, 142.44, 142.034, 142.364, 144.994, 143.308, 147.279, 146.045, 149.346, 147.736, 153.732, 152.48, 149.958, 153.576, 151.733, 154.555, 153.424, 154.566, 137.284, 137.27100000000002, 133.19, 134.738, 150.099, 141.955, 142.991, 131.955, 138.877, 137.523, 137.52100000000002, 137.516, 137.515, 143.607, 143.602, 143.61, 150.675, 151.224, 149.54, 138.118, 135.214, 137.842, 134.85, 131.761, 138.095, 132.093, 132.094, 137.878, 134.886, 131.877, 146.447, 142.922, 142.09, 142.097, 137.52, 145.776, 148.11700000000002, 137.526, 137.525, 137.513, 132.999, 133.0, 133.092, 133.02700000000002, 132.822, 132.705, 132.879, 142.989, 140.8575, 142.989, 133.075, 132.731, 137.501, 143.069, 137.584, 137.713, 137.616, 149.289, 144.501, 149.591, 145.6985, 150.68, 145.082, 137.358, 134.358, 138.005, 137.696, 137.958, 137.582, 135.908, 135.753, 132.125, 131.953, 136.167, 136.53, 136.317, 136.601, 136.333, 128.725, 128.765, 128.69899999999998, 129.019, 128.96, 129.386, 129.452, 128.24, 155.237, 153.095, 131.363, 138.284, 135.149, 132.123, 137.946, 135.016, 131.714, 133.674, 133.675, 133.399, 133.615, 133.332, 154.741, 127.042, 127.29700000000001, 128.415, 127.625, 127.691, 127.59299999999999, 125.185, 125.387, 98.885, 94.14, 91.163, 92.258, 90.318, 90.641, 91.292, 108.478, 110.484, 98.92, 109.554, 116.04799999999999, 113.205, 106.094, 117.819, 98.50299999999999, 118.639, 125.975, 127.288, 125.96799999999999, 129.442, 130.644, 123.632, 119.94200000000001, 113.042, 118.396, 123.766, 135.113, 133.99, 128.201, 120.51, 107.056, 102.586, 100.421, 100.125, 146.505, 148.157, 150.21, 151.102, 152.09, 152.806, 145.111, 145.374, 144.10399999999998, 145.555, 144.35399999999998, 146.339, 156.297, 156.523, 157.014, 156.291, 156.518, 151.084, 161.475, 163.247, 155.053, 155.142, 154.149, 155.196, 154.164, 154.178, 152.085]}],                        {\"font\": {\"color\": \"white\"}, \"height\": 470, \"margin\": {\"b\": 0, \"l\": 20, \"r\": 20, \"t\": 0}, \"paper_bgcolor\": \"#222222\", \"plot_bgcolor\": \"#222222\", \"scene\": {\"aspectratio\": {\"x\": 2, \"y\": 2, \"z\": 1}, \"xaxis\": {\"backgroundcolor\": \"#222222\", \"gridcolor\": \"grey\", \"linecolor\": \"white\", \"linewidth\": 2, \"mirror\": true, \"showbackground\": false, \"showline\": true, \"showticklabels\": false, \"title\": {\"text\": \"Est / Ouest\"}}, \"yaxis\": {\"backgroundcolor\": \"#222222\", \"gridcolor\": \"grey\", \"linecolor\": \"white\", \"linewidth\": 2, \"mirror\": true, \"showbackground\": false, \"showline\": true, \"showticklabels\": false, \"title\": {\"text\": \"Nord / Sud\"}}, \"zaxis\": {\"backgroundcolor\": \"#222222\", \"gridcolor\": \"grey\", \"linecolor\": \"white\", \"linewidth\": 2, \"mirror\": true, \"showbackground\": false, \"showline\": true, \"showticklabels\": false, \"title\": {\"text\": \"Z\"}}}, \"showlegend\": false, \"template\": {\"data\": {\"bar\": [{\"error_x\": {\"color\": \"#2a3f5f\"}, \"error_y\": {\"color\": \"#2a3f5f\"}, \"marker\": {\"line\": {\"color\": \"#E5ECF6\", \"width\": 0.5}}, \"type\": \"bar\"}], \"barpolar\": [{\"marker\": {\"line\": {\"color\": \"#E5ECF6\", \"width\": 0.5}}, \"type\": \"barpolar\"}], \"carpet\": [{\"aaxis\": {\"endlinecolor\": \"#2a3f5f\", \"gridcolor\": \"white\", \"linecolor\": \"white\", \"minorgridcolor\": \"white\", \"startlinecolor\": \"#2a3f5f\"}, \"baxis\": {\"endlinecolor\": \"#2a3f5f\", \"gridcolor\": \"white\", \"linecolor\": \"white\", \"minorgridcolor\": \"white\", \"startlinecolor\": \"#2a3f5f\"}, \"type\": \"carpet\"}], \"choropleth\": [{\"colorbar\": {\"outlinewidth\": 0, \"ticks\": \"\"}, \"type\": \"choropleth\"}], \"contour\": [{\"colorbar\": {\"outlinewidth\": 0, \"ticks\": \"\"}, \"colorscale\": [[0.0, \"#0d0887\"], [0.1111111111111111, \"#46039f\"], [0.2222222222222222, \"#7201a8\"], [0.3333333333333333, \"#9c179e\"], [0.4444444444444444, \"#bd3786\"], [0.5555555555555556, \"#d8576b\"], [0.6666666666666666, \"#ed7953\"], [0.7777777777777778, \"#fb9f3a\"], [0.8888888888888888, \"#fdca26\"], [1.0, \"#f0f921\"]], \"type\": \"contour\"}], \"contourcarpet\": [{\"colorbar\": {\"outlinewidth\": 0, \"ticks\": \"\"}, \"type\": \"contourcarpet\"}], \"heatmap\": [{\"colorbar\": {\"outlinewidth\": 0, \"ticks\": \"\"}, \"colorscale\": [[0.0, \"#0d0887\"], [0.1111111111111111, \"#46039f\"], [0.2222222222222222, \"#7201a8\"], [0.3333333333333333, \"#9c179e\"], [0.4444444444444444, \"#bd3786\"], [0.5555555555555556, \"#d8576b\"], [0.6666666666666666, \"#ed7953\"], [0.7777777777777778, \"#fb9f3a\"], [0.8888888888888888, \"#fdca26\"], [1.0, \"#f0f921\"]], \"type\": \"heatmap\"}], \"heatmapgl\": [{\"colorbar\": {\"outlinewidth\": 0, \"ticks\": \"\"}, \"colorscale\": [[0.0, \"#0d0887\"], [0.1111111111111111, \"#46039f\"], [0.2222222222222222, \"#7201a8\"], [0.3333333333333333, \"#9c179e\"], [0.4444444444444444, \"#bd3786\"], [0.5555555555555556, \"#d8576b\"], [0.6666666666666666, \"#ed7953\"], [0.7777777777777778, \"#fb9f3a\"], [0.8888888888888888, \"#fdca26\"], [1.0, \"#f0f921\"]], \"type\": \"heatmapgl\"}], \"histogram\": [{\"marker\": {\"colorbar\": {\"outlinewidth\": 0, \"ticks\": \"\"}}, \"type\": \"histogram\"}], \"histogram2d\": [{\"colorbar\": {\"outlinewidth\": 0, \"ticks\": \"\"}, \"colorscale\": [[0.0, \"#0d0887\"], [0.1111111111111111, \"#46039f\"], [0.2222222222222222, \"#7201a8\"], [0.3333333333333333, \"#9c179e\"], [0.4444444444444444, \"#bd3786\"], [0.5555555555555556, \"#d8576b\"], [0.6666666666666666, \"#ed7953\"], [0.7777777777777778, \"#fb9f3a\"], [0.8888888888888888, \"#fdca26\"], [1.0, \"#f0f921\"]], \"type\": \"histogram2d\"}], \"histogram2dcontour\": [{\"colorbar\": {\"outlinewidth\": 0, \"ticks\": \"\"}, \"colorscale\": [[0.0, \"#0d0887\"], [0.1111111111111111, \"#46039f\"], [0.2222222222222222, \"#7201a8\"], [0.3333333333333333, \"#9c179e\"], [0.4444444444444444, \"#bd3786\"], [0.5555555555555556, \"#d8576b\"], [0.6666666666666666, \"#ed7953\"], [0.7777777777777778, \"#fb9f3a\"], [0.8888888888888888, \"#fdca26\"], [1.0, \"#f0f921\"]], \"type\": \"histogram2dcontour\"}], \"mesh3d\": [{\"colorbar\": {\"outlinewidth\": 0, \"ticks\": \"\"}, \"type\": \"mesh3d\"}], \"parcoords\": [{\"line\": {\"colorbar\": {\"outlinewidth\": 0, \"ticks\": \"\"}}, \"type\": \"parcoords\"}], \"pie\": [{\"automargin\": true, \"type\": \"pie\"}], \"scatter\": [{\"marker\": {\"colorbar\": {\"outlinewidth\": 0, \"ticks\": \"\"}}, \"type\": \"scatter\"}], \"scatter3d\": [{\"line\": {\"colorbar\": {\"outlinewidth\": 0, \"ticks\": \"\"}}, \"marker\": {\"colorbar\": {\"outlinewidth\": 0, \"ticks\": \"\"}}, \"type\": \"scatter3d\"}], \"scattercarpet\": [{\"marker\": {\"colorbar\": {\"outlinewidth\": 0, \"ticks\": \"\"}}, \"type\": \"scattercarpet\"}], \"scattergeo\": [{\"marker\": {\"colorbar\": {\"outlinewidth\": 0, \"ticks\": \"\"}}, \"type\": \"scattergeo\"}], \"scattergl\": [{\"marker\": {\"colorbar\": {\"outlinewidth\": 0, \"ticks\": \"\"}}, \"type\": \"scattergl\"}], \"scattermapbox\": [{\"marker\": {\"colorbar\": {\"outlinewidth\": 0, \"ticks\": \"\"}}, \"type\": \"scattermapbox\"}], \"scatterpolar\": [{\"marker\": {\"colorbar\": {\"outlinewidth\": 0, \"ticks\": \"\"}}, \"type\": \"scatterpolar\"}], \"scatterpolargl\": [{\"marker\": {\"colorbar\": {\"outlinewidth\": 0, \"ticks\": \"\"}}, \"type\": \"scatterpolargl\"}], \"scatterternary\": [{\"marker\": {\"colorbar\": {\"outlinewidth\": 0, \"ticks\": \"\"}}, \"type\": \"scatterternary\"}], \"surface\": [{\"colorbar\": {\"outlinewidth\": 0, \"ticks\": \"\"}, \"colorscale\": [[0.0, \"#0d0887\"], [0.1111111111111111, \"#46039f\"], [0.2222222222222222, \"#7201a8\"], [0.3333333333333333, \"#9c179e\"], [0.4444444444444444, \"#bd3786\"], [0.5555555555555556, \"#d8576b\"], [0.6666666666666666, \"#ed7953\"], [0.7777777777777778, \"#fb9f3a\"], [0.8888888888888888, \"#fdca26\"], [1.0, \"#f0f921\"]], \"type\": \"surface\"}], \"table\": [{\"cells\": {\"fill\": {\"color\": \"#EBF0F8\"}, \"line\": {\"color\": \"white\"}}, \"header\": {\"fill\": {\"color\": \"#C8D4E3\"}, \"line\": {\"color\": \"white\"}}, \"type\": \"table\"}]}, \"layout\": {\"annotationdefaults\": {\"arrowcolor\": \"#2a3f5f\", \"arrowhead\": 0, \"arrowwidth\": 1}, \"coloraxis\": {\"colorbar\": {\"outlinewidth\": 0, \"ticks\": \"\"}}, \"colorscale\": {\"diverging\": [[0, \"#8e0152\"], [0.1, \"#c51b7d\"], [0.2, \"#de77ae\"], [0.3, \"#f1b6da\"], [0.4, \"#fde0ef\"], [0.5, \"#f7f7f7\"], [0.6, \"#e6f5d0\"], [0.7, \"#b8e186\"], [0.8, \"#7fbc41\"], [0.9, \"#4d9221\"], [1, \"#276419\"]], \"sequential\": [[0.0, \"#0d0887\"], [0.1111111111111111, \"#46039f\"], [0.2222222222222222, \"#7201a8\"], [0.3333333333333333, \"#9c179e\"], [0.4444444444444444, \"#bd3786\"], [0.5555555555555556, \"#d8576b\"], [0.6666666666666666, \"#ed7953\"], [0.7777777777777778, \"#fb9f3a\"], [0.8888888888888888, \"#fdca26\"], [1.0, \"#f0f921\"]], \"sequentialminus\": [[0.0, \"#0d0887\"], [0.1111111111111111, \"#46039f\"], [0.2222222222222222, \"#7201a8\"], [0.3333333333333333, \"#9c179e\"], [0.4444444444444444, \"#bd3786\"], [0.5555555555555556, \"#d8576b\"], [0.6666666666666666, \"#ed7953\"], [0.7777777777777778, \"#fb9f3a\"], [0.8888888888888888, \"#fdca26\"], [1.0, \"#f0f921\"]]}, \"colorway\": [\"#636efa\", \"#EF553B\", \"#00cc96\", \"#ab63fa\", \"#FFA15A\", \"#19d3f3\", \"#FF6692\", \"#B6E880\", \"#FF97FF\", \"#FECB52\"], \"font\": {\"color\": \"#2a3f5f\"}, \"geo\": {\"bgcolor\": \"white\", \"lakecolor\": \"white\", \"landcolor\": \"#E5ECF6\", \"showlakes\": true, \"showland\": true, \"subunitcolor\": \"white\"}, \"hoverlabel\": {\"align\": \"left\"}, \"hovermode\": \"closest\", \"mapbox\": {\"style\": \"light\"}, \"paper_bgcolor\": \"white\", \"plot_bgcolor\": \"#E5ECF6\", \"polar\": {\"angularaxis\": {\"gridcolor\": \"white\", \"linecolor\": \"white\", \"ticks\": \"\"}, \"bgcolor\": \"#E5ECF6\", \"radialaxis\": {\"gridcolor\": \"white\", \"linecolor\": \"white\", \"ticks\": \"\"}}, \"scene\": {\"xaxis\": {\"backgroundcolor\": \"#E5ECF6\", \"gridcolor\": \"white\", \"gridwidth\": 2, \"linecolor\": \"white\", \"showbackground\": true, \"ticks\": \"\", \"zerolinecolor\": \"white\"}, \"yaxis\": {\"backgroundcolor\": \"#E5ECF6\", \"gridcolor\": \"white\", \"gridwidth\": 2, \"linecolor\": \"white\", \"showbackground\": true, \"ticks\": \"\", \"zerolinecolor\": \"white\"}, \"zaxis\": {\"backgroundcolor\": \"#E5ECF6\", \"gridcolor\": \"white\", \"gridwidth\": 2, \"linecolor\": \"white\", \"showbackground\": true, \"ticks\": \"\", \"zerolinecolor\": \"white\"}}, \"shapedefaults\": {\"line\": {\"color\": \"#2a3f5f\"}}, \"ternary\": {\"aaxis\": {\"gridcolor\": \"white\", \"linecolor\": \"white\", \"ticks\": \"\"}, \"baxis\": {\"gridcolor\": \"white\", \"linecolor\": \"white\", \"ticks\": \"\"}, \"bgcolor\": \"#E5ECF6\", \"caxis\": {\"gridcolor\": \"white\", \"linecolor\": \"white\", \"ticks\": \"\"}}, \"title\": {\"x\": 0.05}, \"xaxis\": {\"automargin\": true, \"gridcolor\": \"white\", \"linecolor\": \"white\", \"ticks\": \"\", \"title\": {\"standoff\": 15}, \"zerolinecolor\": \"white\", \"zerolinewidth\": 2}, \"yaxis\": {\"automargin\": true, \"gridcolor\": \"white\", \"linecolor\": \"white\", \"ticks\": \"\", \"title\": {\"standoff\": 15}, \"zerolinecolor\": \"white\", \"zerolinewidth\": 2}}}, \"updatemenus\": [{\"buttons\": [{\"args\": [{\"visible\": [true, false]}], \"label\": \"Positions\", \"method\": \"update\"}, {\"args\": [{\"visible\": [false, true]}], \"label\": \"Vecteurs\", \"method\": \"update\"}], \"direction\": \"right\", \"pad\": {\"r\": 10, \"t\": 0}, \"showactive\": true, \"type\": \"dropdown\", \"x\": 0.15, \"xanchor\": \"left\", \"y\": 1.08, \"yanchor\": \"top\"}], \"width\": 650},                        {\"responsive\": true}                    ).then(function(){\n",
       "                            \n",
       "var gd = document.getElementById('8b0610bc-2546-4ffe-869e-ced2399e8df3');\n",
       "var x = new MutationObserver(function (mutations, observer) {{\n",
       "        var display = window.getComputedStyle(gd).display;\n",
       "        if (!display || display === 'none') {{\n",
       "            console.log([gd, 'removed!']);\n",
       "            Plotly.purge(gd);\n",
       "            observer.disconnect();\n",
       "        }}\n",
       "}});\n",
       "\n",
       "// Listen for the removal of the full notebook cells\n",
       "var notebookContainer = gd.closest('#notebook-container');\n",
       "if (notebookContainer) {{\n",
       "    x.observe(notebookContainer, {childList: true});\n",
       "}}\n",
       "\n",
       "// Listen for the clearing of the current output cell\n",
       "var outputEl = gd.closest('.output');\n",
       "if (outputEl) {{\n",
       "    x.observe(outputEl, {childList: true});\n",
       "}}\n",
       "\n",
       "                        })                };                });            </script>        </div>"
      ]
     },
     "metadata": {},
     "output_type": "display_data"
    }
   ],
   "source": [
    "fig.update_layout(\n",
    "    updatemenus=[\n",
    "        dict(\n",
    "            type=\"dropdown\",\n",
    "            direction=\"right\",\n",
    "            pad={\"r\": 10, \"t\": 0},\n",
    "            showactive=True,\n",
    "            x=0.15,\n",
    "            xanchor=\"left\",\n",
    "            y=1.08,\n",
    "            yanchor=\"top\",\n",
    "            buttons=list(\n",
    "                [\n",
    "                    dict(\n",
    "                        label=\"Positions\",\n",
    "                        method=\"update\",\n",
    "                        args=[\n",
    "                            {\n",
    "                                \"visible\": [True, False]\n",
    "                            }\n",
    "                        ],\n",
    "                    ),\n",
    "                    dict(\n",
    "                        label=\"Vecteurs\",\n",
    "                        method=\"update\",\n",
    "                        args=[\n",
    "                            {\n",
    "                                \"visible\": [False, True]\n",
    "                            }\n",
    "                        ],\n",
    "                    ),\n",
    "                ]\n",
    "            )\n",
    "        ),\n",
    "    ],\n",
    "    scene=dict(\n",
    "        xaxis_title=\"Est / Ouest\",\n",
    "        yaxis_title=\"Nord / Sud\",\n",
    "        zaxis_title=\"Z\",\n",
    "        xaxis=dict(\n",
    "            backgroundcolor=colors[\"background\"],\n",
    "            gridcolor=\"grey\",\n",
    "            showbackground=False,\n",
    "            showticklabels=False,\n",
    "            showline=True,\n",
    "            linewidth=2,\n",
    "            linecolor='white',\n",
    "            mirror=True\n",
    "        ),\n",
    "        yaxis=dict(\n",
    "            backgroundcolor=colors[\"background\"],\n",
    "            gridcolor=\"grey\",\n",
    "            showbackground=False,\n",
    "            showticklabels=False,\n",
    "            showline=True,\n",
    "            linewidth=2,\n",
    "            linecolor='white',\n",
    "            mirror=True\n",
    "        ),\n",
    "        zaxis=dict(\n",
    "            backgroundcolor=colors[\"background\"],\n",
    "            gridcolor=\"grey\",\n",
    "            showbackground=False,\n",
    "            showticklabels=False,\n",
    "            showline=True,\n",
    "            linewidth=2,\n",
    "            linecolor='white',\n",
    "            mirror=True\n",
    "        ),\n",
    "        aspectratio=dict(x=2, y=2, z=1)\n",
    "    ),\n",
    "    margin=dict(l=20, r=20, t=0, b=0),\n",
    "    width=650,\n",
    "    height=470,\n",
    "    showlegend=False,\n",
    "    plot_bgcolor=colors[\"background\"],\n",
    "    paper_bgcolor=colors[\"background\"],\n",
    "    font_color=colors[\"text\"],\n",
    ")"
   ]
  },
  {
   "cell_type": "code",
   "execution_count": null,
   "metadata": {},
   "outputs": [],
   "source": []
  }
 ],
 "metadata": {
  "kernelspec": {
   "display_name": "Python 3",
   "language": "python",
   "name": "python3"
  },
  "language_info": {
   "codemirror_mode": {
    "name": "ipython",
    "version": 3
   },
   "file_extension": ".py",
   "mimetype": "text/x-python",
   "name": "python",
   "nbconvert_exporter": "python",
   "pygments_lexer": "ipython3",
   "version": "3.8.5"
  }
 },
 "nbformat": 4,
 "nbformat_minor": 4
}
