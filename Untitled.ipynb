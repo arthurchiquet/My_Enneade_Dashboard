{
 "cells": [
  {
   "cell_type": "code",
   "execution_count": 1,
   "metadata": {},
   "outputs": [],
   "source": [
    "from data import download_json\n",
    "import pandas as pd\n",
    "from config import engine\n",
    "from data import get_data\n",
    "from pangres import upsert\n",
    "import plotly.express as px\n",
    "import plotly.graph_objects as go\n",
    "import numpy as np"
   ]
  },
  {
   "cell_type": "code",
   "execution_count": 2,
   "metadata": {},
   "outputs": [],
   "source": [
    "def first(col):\n",
    "    i = 0\n",
    "    for j in col:\n",
    "        if not np.isnan(j) & (i == 0):\n",
    "            i = j\n",
    "            break\n",
    "    return i\n",
    "\n",
    "def remove_xyz(string):\n",
    "    return string[:-2]"
   ]
  },
  {
   "cell_type": "code",
   "execution_count": 3,
   "metadata": {},
   "outputs": [],
   "source": [
    "df =get_data('chantier_1', 'actif', 'topographie.csv')"
   ]
  },
  {
   "cell_type": "code",
   "execution_count": 4,
   "metadata": {},
   "outputs": [],
   "source": [
    "df = df.drop(columns=[\"date\"])"
   ]
  },
  {
   "cell_type": "code",
   "execution_count": 17,
   "metadata": {},
   "outputs": [],
   "source": [
    "df = pd.DataFrame(df.apply(first)).T\n",
    "dfx = (\n",
    "    df[[col for col in df.columns if \".x\" in col]]\n",
    "    .stack()\n",
    "    .reset_index()\n",
    "    .drop(columns=[\"level_0\"])\n",
    "    .rename(columns={\"level_1\": \"cible\", 0: \"x\"})\n",
    ")\n",
    "dfy = (\n",
    "    df[[col for col in df.columns if \".y\" in col]]\n",
    "    .stack()\n",
    "    .reset_index()\n",
    "    .drop(columns=[\"level_0\"])\n",
    "    .rename(columns={\"level_1\": \"cible\", 0: \"y\"})\n",
    ")\n",
    "dfz = (\n",
    "    df[[col for col in df.columns if \".z\" in col]]\n",
    "    .stack()\n",
    "    .reset_index()\n",
    "    .drop(columns=[\"level_0\"])\n",
    "    .rename(columns={\"level_1\": \"cible\", 0: \"z\"})\n",
    ")\n",
    "dfx.cible = dfx.cible.map(remove_xyz)\n",
    "dfy.cible = dfy.cible.map(remove_xyz)\n",
    "dfz.cible = dfz.cible.map(remove_xyz)\n",
    "df2 = dfx.merge(dfy).merge(dfz)"
   ]
  },
  {
   "cell_type": "code",
   "execution_count": 5,
   "metadata": {},
   "outputs": [],
   "source": [
    "def create_quiver(df):\n",
    "    first_indexes = df.apply(pd.Series.first_valid_index).to_dict()\n",
    "    last_indexes = df.apply(pd.Series.last_valid_index).to_dict()\n",
    "    first = [df.loc[first_indexes[col], col] for col in df.columns]\n",
    "    last = [df.loc[last_indexes[col], col] for col in df.columns]\n",
    "    first_x = [first[3 * i] for i in range(len(first) // 3)]\n",
    "    first_y = [first[3 * i + 1] for i in range(len(first) // 3)]\n",
    "    last_x = [last[3 * i] for i in range(len(last) // 3)]\n",
    "    last_y = [last[3 * i + 1] for i in range(len(last) // 3)]\n",
    "    u = [last_x[i] - first_x[i] for i in range(len(first_x))]\n",
    "    v = [last_y[i] - first_y[i] for i in range(len(first_y))]\n",
    "    while max(first_x) > 1.5 * np.mean(first_x):\n",
    "        index = first_x.index(max(first_x))\n",
    "        first_x.pop(index)\n",
    "        first_y.pop(index)\n",
    "        u.pop(index)\n",
    "        v.pop(index)\n",
    "    while max(first_y) > 1.5 * np.mean(first_y):\n",
    "        index = first_y.index(max(first_y))\n",
    "        first_x.pop(index)\n",
    "        first_y.pop(index)\n",
    "        u.pop(index)\n",
    "        v.pop(index)\n",
    "    while max(u) > 20 * mean_pos(u):\n",
    "        index = u.index(max(u))\n",
    "        first_x.pop(index)\n",
    "        first_y.pop(index)\n",
    "        u.pop(index)\n",
    "        v.pop(index)\n",
    "    while max(v) > 20 * mean_pos(v):\n",
    "        index = v.index(max(v))\n",
    "        first_x.pop(index)\n",
    "        first_y.pop(index)\n",
    "        u.pop(index)\n",
    "        v.pop(index)\n",
    "    while min(u) < 20 * mean_neg(u):\n",
    "        index = u.index(min(u))\n",
    "        first_x.pop(index)\n",
    "        first_y.pop(index)\n",
    "        u.pop(index)\n",
    "        v.pop(index)\n",
    "    while min(v) < 20 * mean_neg(v):\n",
    "        index = v.index(min(v))\n",
    "        first_x.pop(index)\n",
    "        first_y.pop(index)\n",
    "        u.pop(index)\n",
    "        v.pop(index)\n",
    "    return ff.create_quiver(first_x, first_y, u, v, scale=250)"
   ]
  },
  {
   "cell_type": "code",
   "execution_count": null,
   "metadata": {},
   "outputs": [],
   "source": [
    "crea"
   ]
  }
 ],
 "metadata": {
  "kernelspec": {
   "display_name": "Python 3",
   "language": "python",
   "name": "python3"
  },
  "language_info": {
   "codemirror_mode": {
    "name": "ipython",
    "version": 3
   },
   "file_extension": ".py",
   "mimetype": "text/x-python",
   "name": "python",
   "nbconvert_exporter": "python",
   "pygments_lexer": "ipython3",
   "version": "3.8.5"
  }
 },
 "nbformat": 4,
 "nbformat_minor": 4
}
