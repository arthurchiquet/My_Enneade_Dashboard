{
 "cells": [
  {
   "cell_type": "code",
   "execution_count": 1,
   "metadata": {},
   "outputs": [],
   "source": [
    "import plotly.figure_factory as ff\n",
    "import plotly.express as px\n",
    "import plotly.graph_objects as go\n",
    "from config import engine\n",
    "import pandas as pd\n",
    "from data import download_image, get_data\n",
    "import numpy as np"
   ]
  },
  {
   "cell_type": "code",
   "execution_count": 2,
   "metadata": {},
   "outputs": [],
   "source": [
    "chantier='chantier_1'"
   ]
  },
  {
   "cell_type": "code",
   "execution_count": 3,
   "metadata": {},
   "outputs": [],
   "source": [
    "dff = get_data(chantier, 'actif', 'topographie.csv', sep=False)"
   ]
  },
  {
   "cell_type": "code",
   "execution_count": 5,
   "metadata": {},
   "outputs": [],
   "source": [
    "with engine.connect() as con:\n",
    "    query=\"select * from capteur where chantier ='%s'\"%chantier\n",
    "    df = pd.read_sql_query(query, con=con)"
   ]
  },
  {
   "cell_type": "code",
   "execution_count": null,
   "metadata": {},
   "outputs": [],
   "source": [
    "coef = [[1.23952112e-05, 6.63800392e-07], [-4.81267332e-07,  8.98816386e-06]]\n",
    "intercept = [-20.17412175, 16.14120241]\n",
    "\n",
    "def changement_repere(df, coef, intercept):\n",
    "    lon = df.lat * coef[0][0] + df.lon * coef[0][1] + intercept[0]\n",
    "    lat = df.lat * coef[1][0] + df.lon * coef[1][1] + intercept[1]\n",
    "    df.lat, df.lon = lat, lon\n",
    "    return df"
   ]
  },
  {
   "cell_type": "code",
   "execution_count": null,
   "metadata": {},
   "outputs": [],
   "source": [
    "def create_quiver(df):\n",
    "    first_indexes = df.apply(pd.Series.first_valid_index).to_dict()\n",
    "    last_indexes = df.apply(pd.Series.last_valid_index).to_dict()\n",
    "    first = [df.loc[first_indexes[col], col] for col in df.columns]\n",
    "    last = [df.loc[last_indexes[col], col] for col in df.columns]\n",
    "    first_x = [first[3 * i] for i in range(len(first) // 3)]\n",
    "    first_y = [first[3 * i + 1] for i in range(len(first) // 3)]\n",
    "    last_x = [last[3 * i] for i in range(len(last) // 3)]\n",
    "    last_y = [last[3 * i + 1] for i in range(len(last) // 3)]\n",
    "    u = [last_x[i] - first_x[i] for i in range(len(first_x))]\n",
    "    v = [last_y[i] - first_y[i] for i in range(len(first_y))]\n",
    "    return ff.create_quiver(first_x, first_y, u, v, scale=250)"
   ]
  }
 ],
 "metadata": {
  "kernelspec": {
   "display_name": "Python 3",
   "language": "python",
   "name": "python3"
  },
  "language_info": {
   "codemirror_mode": {
    "name": "ipython",
    "version": 3
   },
   "file_extension": ".py",
   "mimetype": "text/x-python",
   "name": "python",
   "nbconvert_exporter": "python",
   "pygments_lexer": "ipython3",
   "version": "3.8.5"
  }
 },
 "nbformat": 4,
 "nbformat_minor": 4
}
