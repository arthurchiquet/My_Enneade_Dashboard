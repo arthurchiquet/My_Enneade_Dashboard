{
 "cells": [
  {
   "cell_type": "code",
   "execution_count": 1,
   "metadata": {},
   "outputs": [],
   "source": [
    "import pandas as pd\n",
    "import numpy as np"
   ]
  },
  {
   "cell_type": "code",
   "execution_count": 3,
   "metadata": {},
   "outputs": [],
   "source": [
    "import plotly.express as px"
   ]
  },
  {
   "cell_type": "code",
   "execution_count": 5,
   "metadata": {},
   "outputs": [],
   "source": [
    "from data import get_data"
   ]
  },
  {
   "cell_type": "code",
   "execution_count": 6,
   "metadata": {},
   "outputs": [],
   "source": [
    "chantier='chantier_1'"
   ]
  },
  {
   "cell_type": "code",
   "execution_count": 7,
   "metadata": {},
   "outputs": [],
   "source": [
    "def first(col):\n",
    "    i = 0\n",
    "    for j in col:\n",
    "        if (not np.isnan(j)) & (i == 0):\n",
    "            i = j\n",
    "            break\n",
    "    return i\n",
    "\n",
    "def tension_blocage(df):\n",
    "    df1 = df.copy()\n",
    "    for col in df1.columns:\n",
    "        df1[col] = df1[col] / first(df1[col])\n",
    "    return df1\n",
    "\n",
    "\n",
    "def format_df(df, list_tirants):\n",
    "    df.date = pd.to_datetime(df.date, format=\"%d/%m/%Y\")\n",
    "    df = df.set_index(\"date\")[list_tirants]\n",
    "    df_ratio = tension_blocage(df)\n",
    "    return df, df_ratio\n",
    "\n",
    "\n",
    "def graph_tirant(chantier, list_tirants, height=500, mode=1):\n",
    "    df = get_data(chantier, 'actif', 'tirants.csv', sep=False)\n",
    "    df, df_ratio = format_df(df, list_tirants)\n",
    "    fig1 = px.line(df.reset_index(), x='date', y=list_tirants)\n",
    "    fig2 = px.line(df_ratio.reset_index(), x='date', y=list_tirants)\n",
    "    fig1.update_layout(\n",
    "        height=height,\n",
    "        legend_title_text=None,\n",
    "        yaxis_title=\"Tension (kN)\",\n",
    "        xaxis_title=None,\n",
    "        plot_bgcolor=colors['background'],\n",
    "        paper_bgcolor=colors['background'],\n",
    "        font_color=colors['text'])\n",
    "    fig2.update_layout(\n",
    "        height=height,\n",
    "        legend_title_text=None,\n",
    "        yaxis_title=\"Tension (%)\",\n",
    "        xaxis_title=None,\n",
    "        plot_bgcolor=colors['background'],\n",
    "        paper_bgcolor=colors['background'],\n",
    "        font_color=colors['text'],)\n",
    "    fig1.update_xaxes(showgrid=False)\n",
    "    fig2.update_xaxes(showgrid=False)\n",
    "    fig1.update_yaxes(gridcolor='grey')\n",
    "    fig2.update_yaxes(gridcolor='grey')\n",
    "    if mode==1:\n",
    "        return fig1, fig2\n",
    "    else:\n",
    "        return fig2a"
   ]
  },
  {
   "cell_type": "code",
   "execution_count": 19,
   "metadata": {},
   "outputs": [],
   "source": [
    "list_tirants=['T1-9-B']"
   ]
  },
  {
   "cell_type": "code",
   "execution_count": 20,
   "metadata": {},
   "outputs": [],
   "source": [
    "df = get_data(chantier, 'actif', 'tirants.csv', sep=False)"
   ]
  },
  {
   "cell_type": "code",
   "execution_count": 21,
   "metadata": {},
   "outputs": [],
   "source": [
    "df.date = pd.to_datetime(df.date, format=\"%d/%m/%Y\")\n",
    "df = df.set_index(\"date\")[list_tirants]"
   ]
  },
  {
   "cell_type": "code",
   "execution_count": 23,
   "metadata": {},
   "outputs": [
    {
     "data": {
      "text/html": [
       "<div>\n",
       "<style scoped>\n",
       "    .dataframe tbody tr th:only-of-type {\n",
       "        vertical-align: middle;\n",
       "    }\n",
       "\n",
       "    .dataframe tbody tr th {\n",
       "        vertical-align: top;\n",
       "    }\n",
       "\n",
       "    .dataframe thead th {\n",
       "        text-align: right;\n",
       "    }\n",
       "</style>\n",
       "<table border=\"1\" class=\"dataframe\">\n",
       "  <thead>\n",
       "    <tr style=\"text-align: right;\">\n",
       "      <th></th>\n",
       "      <th>T1-9-B</th>\n",
       "    </tr>\n",
       "    <tr>\n",
       "      <th>date</th>\n",
       "      <th></th>\n",
       "    </tr>\n",
       "  </thead>\n",
       "  <tbody>\n",
       "    <tr>\n",
       "      <th>2017-12-13</th>\n",
       "      <td>NaN</td>\n",
       "    </tr>\n",
       "    <tr>\n",
       "      <th>2017-12-22</th>\n",
       "      <td>907.000000</td>\n",
       "    </tr>\n",
       "    <tr>\n",
       "      <th>2018-01-18</th>\n",
       "      <td>900.000000</td>\n",
       "    </tr>\n",
       "    <tr>\n",
       "      <th>2018-01-26</th>\n",
       "      <td>897.000000</td>\n",
       "    </tr>\n",
       "    <tr>\n",
       "      <th>2018-01-31</th>\n",
       "      <td>895.000000</td>\n",
       "    </tr>\n",
       "    <tr>\n",
       "      <th>...</th>\n",
       "      <td>...</td>\n",
       "    </tr>\n",
       "    <tr>\n",
       "      <th>2020-09-15</th>\n",
       "      <td>1272.926068</td>\n",
       "    </tr>\n",
       "    <tr>\n",
       "      <th>2020-09-16</th>\n",
       "      <td>1272.165425</td>\n",
       "    </tr>\n",
       "    <tr>\n",
       "      <th>2020-09-17</th>\n",
       "      <td>1274.325361</td>\n",
       "    </tr>\n",
       "    <tr>\n",
       "      <th>2020-09-18</th>\n",
       "      <td>1273.772818</td>\n",
       "    </tr>\n",
       "    <tr>\n",
       "      <th>2020-09-19</th>\n",
       "      <td>1273.990480</td>\n",
       "    </tr>\n",
       "  </tbody>\n",
       "</table>\n",
       "<p>850 rows × 1 columns</p>\n",
       "</div>"
      ],
      "text/plain": [
       "                 T1-9-B\n",
       "date                   \n",
       "2017-12-13          NaN\n",
       "2017-12-22   907.000000\n",
       "2018-01-18   900.000000\n",
       "2018-01-26   897.000000\n",
       "2018-01-31   895.000000\n",
       "...                 ...\n",
       "2020-09-15  1272.926068\n",
       "2020-09-16  1272.165425\n",
       "2020-09-17  1274.325361\n",
       "2020-09-18  1273.772818\n",
       "2020-09-19  1273.990480\n",
       "\n",
       "[850 rows x 1 columns]"
      ]
     },
     "execution_count": 23,
     "metadata": {},
     "output_type": "execute_result"
    }
   ],
   "source": [
    "pd.DataFrame(df)"
   ]
  },
  {
   "cell_type": "code",
   "execution_count": null,
   "metadata": {},
   "outputs": [],
   "source": []
  }
 ],
 "metadata": {
  "kernelspec": {
   "display_name": "Python 3",
   "language": "python",
   "name": "python3"
  },
  "language_info": {
   "codemirror_mode": {
    "name": "ipython",
    "version": 3
   },
   "file_extension": ".py",
   "mimetype": "text/x-python",
   "name": "python",
   "nbconvert_exporter": "python",
   "pygments_lexer": "ipython3",
   "version": "3.8.5"
  }
 },
 "nbformat": 4,
 "nbformat_minor": 4
}
