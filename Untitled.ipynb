{
 "cells": [
  {
   "cell_type": "code",
   "execution_count": 1,
   "metadata": {},
   "outputs": [],
   "source": [
    "from google.cloud import storage\n",
    "from google.oauth2 import service_account\n",
    "from data import get_credentials\n",
    "import re\n",
    "import sys\n",
    "import pandas as pd"
   ]
  },
  {
   "cell_type": "code",
   "execution_count": null,
   "metadata": {},
   "outputs": [],
   "source": [
    "PROJECT_ID = \"vallicorp1\"\n",
    "BUCKET_NAME = \"myenneade-data\""
   ]
  },
  {
   "cell_type": "code",
   "execution_count": null,
   "metadata": {},
   "outputs": [],
   "source": [
    "creds = get_credentials()\n",
    "client = storage.Client(credentials=creds, project=PROJECT_ID)\n",
    "bucket = client.get_bucket(BUCKET_NAME)"
   ]
  },
  {
   "cell_type": "code",
   "execution_count": null,
   "metadata": {},
   "outputs": [],
   "source": [
    "def list_files(bucketName):\n",
    "    \"\"\"List all files in GCP bucket.\"\"\"\n",
    "    files = bucket.list_blobs(prefix='chantier_1/actif/')\n",
    "    fileList = [file.name for file in files if '.' in file.name]\n",
    "    return fileList"
   ]
  },
  {
   "cell_type": "code",
   "execution_count": null,
   "metadata": {},
   "outputs": [],
   "source": [
    "listing = list_files(BUCKET_NAME)"
   ]
  },
  {
   "cell_type": "code",
   "execution_count": null,
   "metadata": {},
   "outputs": [],
   "source": [
    "prefix='chantier_1/actif/'"
   ]
  },
  {
   "cell_type": "code",
   "execution_count": null,
   "metadata": {},
   "outputs": [],
   "source": [
    "docs = [i.replace(prefix,'')[:-4] for i in listing]"
   ]
  },
  {
   "cell_type": "code",
   "execution_count": null,
   "metadata": {},
   "outputs": [],
   "source": [
    "docs"
   ]
  },
  {
   "cell_type": "code",
   "execution_count": null,
   "metadata": {},
   "outputs": [],
   "source": []
  },
  {
   "cell_type": "code",
   "execution_count": 23,
   "metadata": {},
   "outputs": [
    {
     "name": "stderr",
     "output_type": "stream",
     "text": [
      "<ipython-input-23-0cbfd0750d24>:1: ParserWarning: Falling back to the 'python' engine because the 'c' engine does not support sep=None with delim_whitespace=False; you can avoid this warning by specifying engine='python'.\n",
      "  reader = pd.read_csv('data/jauges.csv', sep = None, iterator = True)\n"
     ]
    }
   ],
   "source": [
    "reader = pd.read_csv('data/jauges.csv', sep = None, iterator = True)\n",
    "inferred_sep = reader._engine.data.dialect.delimiter"
   ]
  },
  {
   "cell_type": "code",
   "execution_count": 24,
   "metadata": {},
   "outputs": [
    {
     "data": {
      "text/plain": [
       "','"
      ]
     },
     "execution_count": 24,
     "metadata": {},
     "output_type": "execute_result"
    }
   ],
   "source": [
    "inferred_sep"
   ]
  },
  {
   "cell_type": "code",
   "execution_count": 26,
   "metadata": {},
   "outputs": [],
   "source": [
    "reader = pd.read_csv('data/jauges.csv', sep=inferred_sep)"
   ]
  },
  {
   "cell_type": "code",
   "execution_count": 27,
   "metadata": {},
   "outputs": [
    {
     "data": {
      "text/html": [
       "<div>\n",
       "<style scoped>\n",
       "    .dataframe tbody tr th:only-of-type {\n",
       "        vertical-align: middle;\n",
       "    }\n",
       "\n",
       "    .dataframe tbody tr th {\n",
       "        vertical-align: top;\n",
       "    }\n",
       "\n",
       "    .dataframe thead th {\n",
       "        text-align: right;\n",
       "    }\n",
       "</style>\n",
       "<table border=\"1\" class=\"dataframe\">\n",
       "  <thead>\n",
       "    <tr style=\"text-align: right;\">\n",
       "      <th></th>\n",
       "      <th>Date,Jauge A,Jauge O,Jauge N,Jauge M,Jauge P,Jauge Q,Jauge B,Jauge C,Jauge D,Jauge L,Jauge E,Jauge G,Jauge F,Jauge R,Jauge Y,Jauge X,Jauge Z,Jauge J,Jauge H,Jauge 3bis,Jauge 1bis,Jauge Ibis,Jauge 2,Jauge 6,Jauge S,Jauge 4,Jauge 12,Jauge 5,Jauge 1,Jauge 2bis,Jauge 3,Jauge Hbis,Jauge I,Jauge T,Jauge U,Jauge 3B,Jauge 5C</th>\n",
       "    </tr>\n",
       "  </thead>\n",
       "  <tbody>\n",
       "    <tr>\n",
       "      <th>0</th>\n",
       "      <td>07/12/2017,9.5,,,,,,,,,,,,,,,,,,,,,,,18.5,,16....</td>\n",
       "    </tr>\n",
       "    <tr>\n",
       "      <th>1</th>\n",
       "      <td>14/12/2017,9.5,,,10.3,,,9.6,10.0,10.5,10.0,10....</td>\n",
       "    </tr>\n",
       "    <tr>\n",
       "      <th>2</th>\n",
       "      <td>21/12/2017,9.5,,,10.3,,,9.6,10.0,10.5,10.0,10....</td>\n",
       "    </tr>\n",
       "    <tr>\n",
       "      <th>3</th>\n",
       "      <td>11/01/2018,9.7,,,10.3,,,9.6,10.2,10.6,10.0,9.6...</td>\n",
       "    </tr>\n",
       "    <tr>\n",
       "      <th>4</th>\n",
       "      <td>18/01/2018,9.7,,,10.4,,,9.6,10.4,10.6,10.0,9.8...</td>\n",
       "    </tr>\n",
       "    <tr>\n",
       "      <th>...</th>\n",
       "      <td>...</td>\n",
       "    </tr>\n",
       "    <tr>\n",
       "      <th>110</th>\n",
       "      <td>27/07/2020,,10.5,10.2,11.0,10.1,9.4,9.2,8.6,10...</td>\n",
       "    </tr>\n",
       "    <tr>\n",
       "      <th>111</th>\n",
       "      <td>04/09/2020,,10.4,10.1,11.2,10.2,9.5,9.4,8.5,10...</td>\n",
       "    </tr>\n",
       "    <tr>\n",
       "      <th>112</th>\n",
       "      <td>08/09/2020,,10.5,10.2,11.1,10.3,9.2,9.1,8.4,10...</td>\n",
       "    </tr>\n",
       "    <tr>\n",
       "      <th>113</th>\n",
       "      <td>14/09/2020,,10.7,10.3,11.0,10.0,9.3,9.1,8.2,10...</td>\n",
       "    </tr>\n",
       "    <tr>\n",
       "      <th>114</th>\n",
       "      <td>21/09/2020,,10.7,10.3,11.1,10.0,9.2,9.1,8.3,10...</td>\n",
       "    </tr>\n",
       "  </tbody>\n",
       "</table>\n",
       "<p>115 rows × 1 columns</p>\n",
       "</div>"
      ],
      "text/plain": [
       "    Date,Jauge A,Jauge O,Jauge N,Jauge M,Jauge P,Jauge Q,Jauge B,Jauge C,Jauge D,Jauge L,Jauge E,Jauge G,Jauge F,Jauge R,Jauge Y,Jauge X,Jauge Z,Jauge J,Jauge H,Jauge 3bis,Jauge 1bis,Jauge Ibis,Jauge 2,Jauge 6,Jauge S,Jauge 4,Jauge 12,Jauge 5,Jauge 1,Jauge 2bis,Jauge 3,Jauge Hbis,Jauge I,Jauge T,Jauge U,Jauge 3B,Jauge 5C\n",
       "0    07/12/2017,9.5,,,,,,,,,,,,,,,,,,,,,,,18.5,,16....                                                                                                                                                                                                                                                                            \n",
       "1    14/12/2017,9.5,,,10.3,,,9.6,10.0,10.5,10.0,10....                                                                                                                                                                                                                                                                            \n",
       "2    21/12/2017,9.5,,,10.3,,,9.6,10.0,10.5,10.0,10....                                                                                                                                                                                                                                                                            \n",
       "3    11/01/2018,9.7,,,10.3,,,9.6,10.2,10.6,10.0,9.6...                                                                                                                                                                                                                                                                            \n",
       "4    18/01/2018,9.7,,,10.4,,,9.6,10.4,10.6,10.0,9.8...                                                                                                                                                                                                                                                                            \n",
       "..                                                 ...                                                                                                                                                                                                                                                                            \n",
       "110  27/07/2020,,10.5,10.2,11.0,10.1,9.4,9.2,8.6,10...                                                                                                                                                                                                                                                                            \n",
       "111  04/09/2020,,10.4,10.1,11.2,10.2,9.5,9.4,8.5,10...                                                                                                                                                                                                                                                                            \n",
       "112  08/09/2020,,10.5,10.2,11.1,10.3,9.2,9.1,8.4,10...                                                                                                                                                                                                                                                                            \n",
       "113  14/09/2020,,10.7,10.3,11.0,10.0,9.3,9.1,8.2,10...                                                                                                                                                                                                                                                                            \n",
       "114  21/09/2020,,10.7,10.3,11.1,10.0,9.2,9.1,8.3,10...                                                                                                                                                                                                                                                                            \n",
       "\n",
       "[115 rows x 1 columns]"
      ]
     },
     "execution_count": 27,
     "metadata": {},
     "output_type": "execute_result"
    }
   ],
   "source": [
    "reader"
   ]
  },
  {
   "cell_type": "code",
   "execution_count": null,
   "metadata": {},
   "outputs": [],
   "source": []
  }
 ],
 "metadata": {
  "kernelspec": {
   "display_name": "Python 3",
   "language": "python",
   "name": "python3"
  },
  "language_info": {
   "codemirror_mode": {
    "name": "ipython",
    "version": 3
   },
   "file_extension": ".py",
   "mimetype": "text/x-python",
   "name": "python",
   "nbconvert_exporter": "python",
   "pygments_lexer": "ipython3",
   "version": "3.8.5"
  }
 },
 "nbformat": 4,
 "nbformat_minor": 4
}
