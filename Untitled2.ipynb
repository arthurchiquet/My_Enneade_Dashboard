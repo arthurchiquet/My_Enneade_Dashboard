{
 "cells": [
  {
   "cell_type": "code",
   "execution_count": 1,
   "metadata": {},
   "outputs": [],
   "source": [
    "from data import memoized_data, download_json\n",
    "import pandas as pd\n",
    "import numpy as np\n",
    "from utils_maps import extract_position"
   ]
  },
  {
   "cell_type": "code",
   "execution_count": 2,
   "metadata": {},
   "outputs": [],
   "source": [
    "chantier='chantier_1'"
   ]
  },
  {
   "cell_type": "code",
   "execution_count": 3,
   "metadata": {},
   "outputs": [],
   "source": [
    "secteurs = download_json(chantier, 'paramètres', 'secteurs.json')\n",
    "capteurs_sup = download_json(chantier, 'paramètres', 'capteurs.json')\n",
    "data = memoized_data(chantier, 'actif', 'topographie.csv')\n",
    "data_positions = extract_position(data).set_index('cible')\n",
    "capteurs = {'cible' : data_positions.to_dict('index')}\n",
    "capteurs.update(capteurs_sup)"
   ]
  },
  {
   "cell_type": "code",
   "execution_count": 31,
   "metadata": {},
   "outputs": [],
   "source": [
    "secteur = secteurs['BC']"
   ]
  },
  {
   "cell_type": "code",
   "execution_count": 36,
   "metadata": {},
   "outputs": [],
   "source": [
    "s = np.array(secteur)"
   ]
  },
  {
   "cell_type": "code",
   "execution_count": 37,
   "metadata": {},
   "outputs": [
    {
     "data": {
      "text/plain": [
       "array([[ 7.41274181, 43.7319867 ],\n",
       "       [ 7.41324792, 43.73159031]])"
      ]
     },
     "execution_count": 37,
     "metadata": {},
     "output_type": "execute_result"
    }
   ],
   "source": [
    "s"
   ]
  },
  {
   "cell_type": "code",
   "execution_count": 7,
   "metadata": {},
   "outputs": [],
   "source": [
    "df = pd.concat({k: pd.DataFrame.from_dict(v, 'index') for k, v in capteurs.items()},axis=0).reset_index().rename(columns={'level_0':'type','level_1':'capteur'})"
   ]
  },
  {
   "cell_type": "code",
   "execution_count": 38,
   "metadata": {},
   "outputs": [],
   "source": [
    "filtered = df[(df.lon > s[0][0]) & (df.lon < s[1][0]) & (df.lat < s[0][1]) &(df.lat > s[1][1])]"
   ]
  },
  {
   "cell_type": "code",
   "execution_count": 42,
   "metadata": {},
   "outputs": [],
   "source": [
    "selection ={'AB':{t: filtered[filtered.type==t].capteur.tolist() for t in filtered.type.unique()}}"
   ]
  },
  {
   "cell_type": "code",
   "execution_count": 43,
   "metadata": {},
   "outputs": [
    {
     "data": {
      "text/plain": [
       "{'AB': {'cible': ['Auto-AC1Ba',\n",
       "   'Auto-AC311a',\n",
       "   'Auto-AC32a',\n",
       "   'Auto-AC5Ba',\n",
       "   'Auto-AC7Ba',\n",
       "   'Auto-AC9a',\n",
       "   'Auto-G12a',\n",
       "   'Auto-G13a',\n",
       "   'Auto-MS25a',\n",
       "   'Auto-MS26a',\n",
       "   'Auto-MS27a',\n",
       "   'Auto-MS31a',\n",
       "   'Auto-MS32a',\n",
       "   'Auto-PC101a',\n",
       "   'Auto-PC105a',\n",
       "   'Auto-PC106a',\n",
       "   'Auto-PC107a',\n",
       "   'Auto-PC11a',\n",
       "   'Auto-PC12a',\n",
       "   'Auto-PC13.1a',\n",
       "   'Auto-PC13a',\n",
       "   'Auto-PC14.1a',\n",
       "   'Auto-PC15.1a',\n",
       "   'Auto-PC16.1a',\n",
       "   'Auto-PC17.1a',\n",
       "   'Auto-PC201a',\n",
       "   'Auto-PC202a',\n",
       "   'Auto-PC203a',\n",
       "   'Auto-PC204a',\n",
       "   'Auto-PC205a',\n",
       "   'Auto-PC206a',\n",
       "   'Auto-PC207a',\n",
       "   'Auto-PC22a',\n",
       "   'Auto-PC23a',\n",
       "   'Auto-PC23Ba',\n",
       "   'Auto-PC3.1a',\n",
       "   'Auto-PC301a',\n",
       "   'Auto-PC302a',\n",
       "   'Auto-PC304a',\n",
       "   'Auto-PC305a',\n",
       "   'Auto-PC307a',\n",
       "   'Auto-PC403a',\n",
       "   'Auto-TREM2.2a',\n",
       "   'Auto-TREM2.3a',\n",
       "   'Auto-VJ1a',\n",
       "   'Auto-VJ2a',\n",
       "   'Auto-VJ3a',\n",
       "   'Auto-VJ4a',\n",
       "   'Auto-BARET9.7d',\n",
       "   'Auto-P5.3d',\n",
       "   'Auto-P50.3d',\n",
       "   'Auto-P9.1d',\n",
       "   'Auto-P9.2d',\n",
       "   'Sd-BARET8.1',\n",
       "   'Sd-BARET8.2',\n",
       "   'Sd-BARET8.3',\n",
       "   'Sd-BARET9.2',\n",
       "   'Sd-BARET6.2',\n",
       "   'Sd-BARET6.3',\n",
       "   'Sd-P5.1',\n",
       "   'Sd-P6.1',\n",
       "   'Sd-P7.1',\n",
       "   'Sd-P8.1',\n",
       "   'Sd-P9.1',\n",
       "   'Sd-P10.1',\n",
       "   'Sd-P80.1',\n",
       "   'Sd-PSDALLE.1',\n",
       "   'Sd-P8.2',\n",
       "   'Sd-P9.2',\n",
       "   'Sd-P50.2',\n",
       "   'Sd-P902',\n",
       "   'Sd-P100.2',\n",
       "   'Sd-P5.3',\n",
       "   'Sd-P50.3',\n",
       "   'Sd-P8.3',\n",
       "   'Sd-P9.3',\n",
       "   'Sd-P5.4',\n",
       "   'Sd-P110.3',\n",
       "   'Sd-P7.3',\n",
       "   'Sd-P9.4',\n",
       "   'Sd-P901.2',\n",
       "   'Sd-P4.5',\n",
       "   'Sd-P5.5',\n",
       "   'Sd-P50.5',\n",
       "   'Sd-P7.5',\n",
       "   'Sd-BARET8.7',\n",
       "   'Sd-BARET9.7',\n",
       "   'Sd-P110.7',\n",
       "   'Sd-P111.7',\n",
       "   'Sd-P8.7',\n",
       "   'Sd-P80.7',\n",
       "   'Sd-P9.7',\n",
       "   'Sd-P901.7',\n",
       "   'Sd-P902.7',\n",
       "   'Manu-PC11',\n",
       "   'Manu-PC12',\n",
       "   'Manu-PC13',\n",
       "   'Manu-PC22',\n",
       "   'Manu-PC23',\n",
       "   'Manu-PC23B',\n",
       "   'Manu-AC1B',\n",
       "   'Manu-AC5B',\n",
       "   'Manu-AC7B',\n",
       "   'Manu-AC30',\n",
       "   'Manu-AC31',\n",
       "   'Manu-AC32',\n",
       "   'Manu-AC7',\n",
       "   'Manu-AC8',\n",
       "   'Manu-AC9',\n",
       "   'Manu-AC10',\n",
       "   'Manu-VJ1',\n",
       "   'Manu-VJ2',\n",
       "   'Manu-VJ3',\n",
       "   'Manu-VJ4',\n",
       "   'Manu-VJ5',\n",
       "   'Manu-VB1',\n",
       "   'Manu-VB2',\n",
       "   'Manu-VB3',\n",
       "   'Manu-PN.1',\n",
       "   'Manu-PN.2',\n",
       "   'Manu-PN.3',\n",
       "   'Manu-PN.4',\n",
       "   'Manu-AC311B',\n",
       "   'Manu-MS22',\n",
       "   'Manu-PC13.1',\n",
       "   'Manu-PC3.1',\n",
       "   'Manu-PC7.1',\n",
       "   'Manu-MS25',\n",
       "   'Manu-MS26',\n",
       "   'Manu-MS27',\n",
       "   'Manu-PC15.1',\n",
       "   'Manu-PC14.1',\n",
       "   'Manu-PC16.1',\n",
       "   'Manu-PC17.1',\n",
       "   'Manu-PC201',\n",
       "   'Manu-PC202',\n",
       "   'Manu-PC203',\n",
       "   'Manu-PC204',\n",
       "   'Manu-PC207',\n",
       "   'Manu-PC205',\n",
       "   'Manu-PC206',\n",
       "   'Manu-PC107',\n",
       "   'Manu-PC106',\n",
       "   'Manu-PC105',\n",
       "   'Manu-PC101',\n",
       "   'Manu-PC307',\n",
       "   'Manu-PC305',\n",
       "   'Manu-PC304',\n",
       "   'Manu-PC302',\n",
       "   'Manu-PC301',\n",
       "   'Manu-VJ1.1',\n",
       "   'Manu-VJ2.1',\n",
       "   'Manu-VJ3.1',\n",
       "   'Manu-VJ4.1',\n",
       "   'Manu-VJ5.1',\n",
       "   'Manu-VB1.1',\n",
       "   'Manu-VB2.1',\n",
       "   'Manu-VB3.1',\n",
       "   'Manu-VB4',\n",
       "   'Manu-VB20',\n",
       "   'Manu-VB21',\n",
       "   'Manu-VB22',\n",
       "   'Manu-VB23',\n",
       "   'Manu-VJ20',\n",
       "   'Manu-VJ21']}}"
      ]
     },
     "execution_count": 43,
     "metadata": {},
     "output_type": "execute_result"
    }
   ],
   "source": [
    "selection"
   ]
  },
  {
   "cell_type": "code",
   "execution_count": null,
   "metadata": {},
   "outputs": [],
   "source": []
  }
 ],
 "metadata": {
  "kernelspec": {
   "display_name": "Python 3",
   "language": "python",
   "name": "python3"
  },
  "language_info": {
   "codemirror_mode": {
    "name": "ipython",
    "version": 3
   },
   "file_extension": ".py",
   "mimetype": "text/x-python",
   "name": "python",
   "nbconvert_exporter": "python",
   "pygments_lexer": "ipython3",
   "version": "3.8.5"
  }
 },
 "nbformat": 4,
 "nbformat_minor": 4
}
